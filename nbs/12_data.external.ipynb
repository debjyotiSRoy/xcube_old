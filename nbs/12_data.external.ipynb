{
 "cells": [
  {
   "cell_type": "raw",
   "metadata": {},
   "source": [
    "---\n",
    "output-file: data.external.html\n",
    "title: Downloading XML Data and Related Pretrained Models\n",
    "\n",
    "---\n",
    "\n"
   ]
  },
  {
   "cell_type": "code",
   "execution_count": 1,
   "id": "7885dcca-85d9-42fc-a198-f7758fb98610",
   "metadata": {},
   "outputs": [],
   "source": [
    "#| eval: false\n",
    "! [ -e /content ] && pip install -Uqq fastai # upgrade fastai on colab"
   ]
  },
  {
   "cell_type": "code",
   "execution_count": 2,
   "id": "44103b1a-49ee-43b1-a8fb-c832e53d6b30",
   "metadata": {},
   "outputs": [],
   "source": [
    "#| default_exp data.external"
   ]
  },
  {
   "cell_type": "code",
   "execution_count": 3,
   "id": "9e05d73d-6a10-48ba-b576-c2bc7297aad5",
   "metadata": {},
   "outputs": [],
   "source": [
    "from __future__ import annotations\n",
    "from fastdownload import FastDownload\n",
    "from functools import lru_cache\n",
    "from xcube.imports import *\n",
    "import xcube.data"
   ]
  },
  {
   "cell_type": "code",
   "execution_count": 4,
   "id": "502cb5cd-522e-4732-8773-f4e2cf6049fe",
   "metadata": {},
   "outputs": [],
   "source": [
    "from nbdev.showdoc import *"
   ]
  },
  {
   "cell_type": "code",
   "execution_count": 5,
   "id": "ead5f798-43af-4e0e-8c59-5a847a77b9cb",
   "metadata": {},
   "outputs": [],
   "source": [
    "%load_ext autoreload\n",
    "%autoreload 2"
   ]
  },
  {
   "cell_type": "code",
   "execution_count": 7,
   "id": "ca2928a7-4292-4a03-b402-ed8f9d4ec249",
   "metadata": {},
   "outputs": [],
   "source": [
    "@lru_cache(maxsize=None)\n",
    "def xcube_cfg() -> Config: # Config that contains default download paths for `data`, `model`, `storage` and `archive`\n",
    "    \"`Config` object for xcube's `config.ini`\"\n",
    "    return Config(Path(os.getenv('XCUBE_HOME', '~/.xcube')), 'config.ini', create=dict(\n",
    "        data = 'data', archive = 'archive', storage = 'tmp', model = 'models'))"
   ]
  },
  {
   "cell_type": "code",
   "execution_count": 8,
   "id": "7658a3d6-cca5-4ba1-afd5-5332ac068b57",
   "metadata": {},
   "outputs": [
    {
     "data": {
      "text/plain": [
       "('data', Path('/home/deb/.xcube/archive'))"
      ]
     },
     "execution_count": 8,
     "metadata": {},
     "output_type": "execute_result"
    }
   ],
   "source": [
    "cfg = xcube_cfg()\n",
    "cfg.data, cfg.path('archive')"
   ]
  },
  {
   "cell_type": "code",
   "execution_count": 9,
   "id": "4b9d72b8-ebe5-48e1-bab8-25fed88115dc",
   "metadata": {},
   "outputs": [],
   "source": [
    "def xcube_path(folder:str) -> Path: \n",
    "    \"Local path to `folder` in `Config`\"\n",
    "    return xcube_cfg().path(folder)"
   ]
  },
  {
   "cell_type": "code",
   "execution_count": 10,
   "id": "21bc4ee3-e007-493d-ac07-10df8eb2b844",
   "metadata": {},
   "outputs": [
    {
     "data": {
      "text/plain": [
       "Path('/home/deb/.xcube/archive')"
      ]
     },
     "execution_count": 10,
     "metadata": {},
     "output_type": "execute_result"
    }
   ],
   "source": [
    "xcube_path('archive')"
   ]
  },
  {
   "cell_type": "code",
   "execution_count": 11,
   "id": "4fe5a941-eba3-4d1e-bcb2-ebcd105ff5ad",
   "metadata": {},
   "outputs": [],
   "source": [
    "class XURLs():\n",
    "    \"Global cosntants for datasets and model URLs.\"\n",
    "    LOCAL_PATH = Path.cwd()\n",
    "    S3 = 'https://xcubebucket.s3.us-east-2.amazonaws.com/'\n",
    "    \n",
    "    #main datasets\n",
    "    MIMIC3 = ''\n",
    "    MIMIC3_L2R = f'{S3}mimic/mimic3.tgz'\n",
    "    \n",
    "    def path(\n",
    "        url:str='.', # File to download\n",
    "        c_key:str='archive' # Key in `Config` where to save URL\n",
    "    ) -> Path:\n",
    "        \"Local path where to download based on `c_key`\"\n",
    "        fname = url.split('/')[-1]\n",
    "        local_path = XURLs.LOCAL_PATH/('models' if c_key=='model' else 'data')/fname\n",
    "        if local_path.exists(): return local_path\n",
    "        return xcube_path(c_key)/fname"
   ]
  },
  {
   "cell_type": "markdown",
   "id": "8818159d-1d8b-4518-b620-f0636c631268",
   "metadata": {},
   "source": [
    "The default local path is at `~/.xcube/archive/` but this can be updated by passing a different `c_key`. Note: `c_key` should be one of `'archive', 'data', 'model', 'storage'`."
   ]
  },
  {
   "cell_type": "code",
   "execution_count": 12,
   "id": "cfd0750d-9e3d-4b6f-b7ed-cf96e83662ed",
   "metadata": {},
   "outputs": [
    {
     "data": {
      "text/plain": [
       "Path('/home/deb/.xcube/archive/mimic3.tgz')"
      ]
     },
     "execution_count": 12,
     "metadata": {},
     "output_type": "execute_result"
    }
   ],
   "source": [
    "url = XURLs.MIMIC3_L2R\n",
    "local_path = XURLs.path(url)\n",
    "test_eq(local_path.parent, xcube_path('archive'))\n",
    "local_path"
   ]
  },
  {
   "cell_type": "code",
   "execution_count": 13,
   "id": "955a62f5-0008-4bd6-8aa8-a075577695d6",
   "metadata": {},
   "outputs": [
    {
     "data": {
      "text/plain": [
       "Path('/home/deb/.xcube/models/mimic3.tgz')"
      ]
     },
     "execution_count": 13,
     "metadata": {},
     "output_type": "execute_result"
    }
   ],
   "source": [
    "local_path = XURLs.path(url, c_key='model')\n",
    "test_eq(local_path.parent, xcube_path('model'))\n",
    "local_path"
   ]
  },
  {
   "cell_type": "markdown",
   "id": "30951f97-d27b-4865-ac6c-9e2ab9e556d2",
   "metadata": {},
   "source": [
    "## untar_xxx -"
   ]
  },
  {
   "cell_type": "code",
   "execution_count": 14,
   "id": "e9d8f5a3-7d0d-463b-9e61-d2ece81f17b0",
   "metadata": {},
   "outputs": [],
   "source": [
    "def untar_xxx(\n",
    "    url:str, # File to download\n",
    "    archive:Path=None, # Optional override for `Config`'s `archive` key\n",
    "    data:Path=None, # Optional override for `Config`'s `data` key\n",
    "    c_key:str='data', # Key in `Config` where to extract file\n",
    "    force_download:bool=False, # Setting to `True` will overwrite any existing copy of data\n",
    "    base:str='~/.xcube' # Directory containing config file and base of relative paths\n",
    ") -> Path: # Path to extracted file(s)\n",
    "    \"Download `url` using `FastDownload.get`\"\n",
    "    d = FastDownload(xcube_cfg(), module=xcube.data, archive=archive, data=data, base=base)\n",
    "    return d.get(url, force=force_download, extract_key=c_key)"
   ]
  },
  {
   "cell_type": "markdown",
   "id": "88dfcd08-576d-4ca2-99ea-7353a0d66515",
   "metadata": {},
   "source": [
    "`untar_xxx` is a thin wrapper for `FastDownload.get`. It downloads and extracts `url`, by default to subdirectories of `~/.xcube`, and returns the path to the extracted data. Setting the `force_download` flag to 'True' will overwrite any existing copy of the data already present. For an explanation of the `c_key` parameter, see `XURLs`."
   ]
  },
  {
   "cell_type": "code",
   "execution_count": 15,
   "id": "57545436-0518-404d-96ac-42fd5efe7328",
   "metadata": {},
   "outputs": [
    {
     "data": {
      "text/plain": [
       "'https://xcubebucket.s3.us-east-2.amazonaws.com/mimic/mimic3.tgz'"
      ]
     },
     "execution_count": 15,
     "metadata": {},
     "output_type": "execute_result"
    }
   ],
   "source": [
    "XURLs.MIMIC3_L2R"
   ]
  },
  {
   "cell_type": "code",
   "execution_count": 16,
   "id": "9242de5f-e3af-4795-8bf4-6471fbc64419",
   "metadata": {},
   "outputs": [
    {
     "data": {
      "text/plain": [
       "Path('/home/deb/.xcube/data/mimic3')"
      ]
     },
     "execution_count": 16,
     "metadata": {},
     "output_type": "execute_result"
    }
   ],
   "source": [
    "p = untar_xxx(XURLs.MIMIC3_L2R)\n",
    "p"
   ]
  },
  {
   "cell_type": "code",
   "execution_count": 17,
   "id": "6325ea93-e6c6-4342-af21-99e96ce9e2de",
   "metadata": {},
   "outputs": [
    {
     "data": {
      "text/plain": [
       "[Path('/home/deb/.xcube/data/mimic3/l2r/info.pkl'),\n",
       " Path('/home/deb/.xcube/data/mimic3/l2r/p_TL.pkl')]"
      ]
     },
     "execution_count": 17,
     "metadata": {},
     "output_type": "execute_result"
    }
   ],
   "source": [
    "list(p.glob('**/*.pkl'))"
   ]
  },
  {
   "cell_type": "markdown",
   "id": "54609f2e-d0d4-4371-ad61-28866e767e2b",
   "metadata": {},
   "source": [
    "## Export -"
   ]
  },
  {
   "cell_type": "code",
   "execution_count": 18,
   "id": "76bbd3f1-d655-4e48-acd8-041886ee97b0",
   "metadata": {},
   "outputs": [],
   "source": [
    "from nbdev import nbdev_export\n",
    "nbdev_export()"
   ]
  }
 ],
 "metadata": {
  "kernelspec": {
   "display_name": "Python 3 (ipykernel)",
   "language": "python",
   "name": "python3"
  },
  "language_info": {
   "codemirror_mode": {
    "name": "ipython",
    "version": 3
   },
   "file_extension": ".py",
   "mimetype": "text/x-python",
   "name": "python",
   "nbconvert_exporter": "python",
   "pygments_lexer": "ipython3",
   "version": "3.10.0"
  }
 },
 "nbformat": 4,
 "nbformat_minor": 5
}
