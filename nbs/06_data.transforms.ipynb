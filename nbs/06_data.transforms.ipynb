{
 "cells": [
  {
   "cell_type": "raw",
   "metadata": {},
   "source": [
    "---\n",
    "output-file: data.transforms.html\n",
    "title: Some Basic Transforms\n",
    "\n",
    "---\n",
    "\n"
   ]
  },
  {
   "cell_type": "code",
   "execution_count": null,
   "id": "582ea85e-ff1d-4a10-ad00-71973e80f376",
   "metadata": {},
   "outputs": [],
   "source": [
    "#| include: false\n",
    "# skip\n",
    "! [ -e /content ] && pip install -Uqq fastai  # upgrade fastai on colab"
   ]
  },
  {
   "cell_type": "code",
   "execution_count": null,
   "id": "8044d63b-f379-48a3-8f2d-ecf589184b34",
   "metadata": {},
   "outputs": [],
   "source": [
    "#| default_exp data.transforms\n",
    "# default_class_lvl 3"
   ]
  },
  {
   "cell_type": "code",
   "execution_count": null,
   "id": "0b7f51dd-fd35-4bd2-9035-ed98247787c0",
   "metadata": {},
   "outputs": [],
   "source": [
    "#| export\n",
    "from fastai.torch_basics import *\n",
    "from fastai.data.core import *\n",
    "from fastai.data.load import *\n",
    "from fastai.data.all import *"
   ]
  },
  {
   "cell_type": "code",
   "execution_count": null,
   "id": "77a60a53-e0b1-43e2-9203-60546843c7d1",
   "metadata": {},
   "outputs": [],
   "source": [
    "#| include: false\n",
    "from nbdev.showdoc import *"
   ]
  },
  {
   "cell_type": "code",
   "execution_count": null,
   "id": "a2f8e435-73f6-408b-b215-056a55e827bf",
   "metadata": {},
   "outputs": [],
   "source": [
    "#| include: false\n",
    "%load_ext autoreload\n",
    "%autoreload 2"
   ]
  },
  {
   "cell_type": "code",
   "execution_count": null,
   "id": "2a33cfa3-2273-43d1-915f-21de483aa389",
   "metadata": {},
   "outputs": [],
   "source": [
    "#| export\n",
    "class ListToTensor(DisplayedTransform):\n",
    "    def encodes(self, x): return tensor(x).long()\n",
    "    def decodes(self, x): return L(x, use_list=True)"
   ]
  },
  {
   "cell_type": "code",
   "execution_count": null,
   "id": "a491c11d-0744-4ff9-9631-95f18cae4c89",
   "metadata": {},
   "outputs": [],
   "source": [
    "t = ListToTensor()\n",
    "x = [1, 2]\n",
    "test_eq(t(x), tensor([1, 2]))\n",
    "test_eq(t.decode(t(x)), [tensor(1),tensor(2)])"
   ]
  },
  {
   "cell_type": "code",
   "execution_count": null,
   "id": "93f19a7e-44a2-44fe-8c49-6036bb9d9bd8",
   "metadata": {},
   "outputs": [],
   "source": [
    "import nbdev; nbdev.nbdev_export()"
   ]
  }
 ],
 "metadata": {
  "kernelspec": {
   "display_name": "Python 3 (ipykernel)",
   "language": "python",
   "name": "python3"
  }
 },
 "nbformat": 4,
 "nbformat_minor": 5
}
