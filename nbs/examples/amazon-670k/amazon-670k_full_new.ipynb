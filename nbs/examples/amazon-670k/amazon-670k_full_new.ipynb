{
 "cells": [
  {
   "cell_type": "code",
   "execution_count": 1,
   "id": "6c4623f6-43a3-4d46-9059-b65d8ee95562",
   "metadata": {
    "tags": []
   },
   "outputs": [],
   "source": [
    "#hide\n",
    "#skip\n",
    "! [ -e /content ] && pip install -Uqq fastai  # upgrade fastai on colab"
   ]
  },
  {
   "cell_type": "code",
   "execution_count": 2,
   "id": "27b40bc0-c654-4803-aba1-59e75c4450a6",
   "metadata": {},
   "outputs": [],
   "source": [
    "%load_ext autoreload\n",
    "%autoreload 2"
   ]
  },
  {
   "cell_type": "markdown",
   "id": "351448fd-b3d7-4872-9bfe-b19c09d16c13",
   "metadata": {
    "tags": []
   },
   "source": [
    "# Amazon-670K\n",
    "\n",
    "> API details"
   ]
  },
  {
   "cell_type": "code",
   "execution_count": 3,
   "id": "221be366-f6ee-4e37-9905-6649e850b9af",
   "metadata": {},
   "outputs": [],
   "source": [
    "import fastbook\n",
    "fastbook.setup_book()\n",
    "\n",
    "from fastbook import *"
   ]
  },
  {
   "cell_type": "markdown",
   "id": "7b696f14-b657-4a62-9317-b78d5625fb09",
   "metadata": {},
   "source": [
    "Application specific imports"
   ]
  },
  {
   "cell_type": "code",
   "execution_count": 4,
   "id": "a6361109-5606-4b3a-b69a-9e8a033191fd",
   "metadata": {},
   "outputs": [],
   "source": [
    "from fastai.text.all import *\n",
    "from fastai.distributed import *\n",
    "\n",
    "from xcube.text.learner import text_classifier_learner\n",
    "from xcube.metrics import PrecisionK"
   ]
  },
  {
   "cell_type": "markdown",
   "id": "36823127-3853-4817-a095-bd6e30d6d807",
   "metadata": {
    "tags": []
   },
   "source": [
    "#### Setting the base path as the path of the repository"
   ]
  },
  {
   "cell_type": "code",
   "execution_count": 5,
   "id": "fa8c1579-3a57-4a00-9a43-61de62b16313",
   "metadata": {
    "tags": []
   },
   "outputs": [
    {
     "name": "stdout",
     "output_type": "stream",
     "text": [
      "path = Path('/home/deb/xcube/nbs/examples/amazon-670k')\n",
      "path_data = Path('/home/deb/xcube/nbs/examples/amazon-670k/data')\n",
      "path_model = Path('/home/deb/xcube/nbs/examples/amazon-670k/models')\n",
      "file_prefix = 'amazon-670k'\n",
      "data = Path('/home/deb/xcube/nbs/examples/amazon-670k/data/amazon-670k.csv')\n",
      "data_sample = Path('/home/deb/xcube/nbs/examples/amazon-670k/data/amazon-670k-sample.csv')\n",
      "dls_lm_path = Path('/home/deb/xcube/nbs/examples/amazon-670k/models/amazon-670k_dls_lm.pkl')\n",
      "dls_lm_vocab_path = Path('/home/deb/xcube/nbs/examples/amazon-670k/models/amazon-670k_dls_lm_vocab.pkl')\n",
      "lm_path = Path('/home/deb/xcube/nbs/examples/amazon-670k/models/amazon-670k_lm.pth')\n",
      "lm_finetuned_path = Path('/home/deb/xcube/nbs/examples/amazon-670k/models/amazon-670k_lm_finetuned.pth')\n",
      "dsets_clas_path = Path('/home/deb/xcube/nbs/examples/amazon-670k/models/amazon-670k_dset_clas.pkl')\n",
      "dls_clas_path = Path('/home/deb/xcube/nbs/examples/amazon-670k/models/amazon-670k_dls_clas.pkl')\n",
      "dls_clas_sample_path = Path('/home/deb/xcube/nbs/examples/amazon-670k/models/amazon-670k-sample_dls_clas.pkl')\n",
      "clas_path = Path('/home/deb/xcube/nbs/examples/amazon-670k/models/amazon-670k_clas.pth')\n"
     ]
    }
   ],
   "source": [
    "path = Path.cwd()\n",
    "path_data = path/'data'\n",
    "path_model = path/'models'\n",
    "\n",
    "path_model.mkdir(exist_ok=True)\n",
    "path_data.mkdir(exist_ok=True)\n",
    "\n",
    "file_prefix = 'amazon-670k'\n",
    "\n",
    "data = path_data/(file_prefix+'.csv')\n",
    "data_sample = path_data/(file_prefix+'-sample.csv')\n",
    "dls_lm_path = path_model/f\"{file_prefix}_dls_lm.pkl\"\n",
    "dls_lm_vocab_path = path_model/f\"{file_prefix}_dls_lm_vocab.pkl\"\n",
    "lm_path = path_model/f\"{file_prefix}_lm.pth\"\n",
    "lm_finetuned_path = path_model/f\"{file_prefix}_lm_finetuned.pth\"\n",
    "dsets_clas_path = path_model/f\"{file_prefix}_dset_clas.pkl\"\n",
    "dls_clas_path = path_model/f\"{file_prefix}_dls_clas.pkl\"\n",
    "dls_clas_sample_path = path_model/f\"{file_prefix}-sample_dls_clas.pkl\"\n",
    "clas_path = path_model/f\"{file_prefix}_clas.pth\"\n",
    "\n",
    "print(f\"{path = }\")  \n",
    "print(f\"{path_data = }\") \n",
    "print(f\"{path_model = }\") \n",
    "print(f\"{file_prefix = }\") \n",
    "print(f\"{data = }\")\n",
    "print(f\"{data_sample = }\")  \n",
    "print(f\"{dls_lm_path = }\") \n",
    "print(f\"{dls_lm_vocab_path = }\")\n",
    "print(f\"{lm_path = }\")\n",
    "print(f\"{lm_finetuned_path = }\")\n",
    "print(f\"{dsets_clas_path = }\")\n",
    "print(f\"{dls_clas_path = }\")\n",
    "print(f\"{dls_clas_sample_path = }\")\n",
    "print(f\"{clas_path = }\")"
   ]
  },
  {
   "cell_type": "markdown",
   "id": "b94d38cc-a7f6-41e8-a03a-fdf9ab0425e7",
   "metadata": {
    "jp-MarkdownHeadingCollapsed": true,
    "tags": []
   },
   "source": [
    "## `DataLoaders` for the Language Model"
   ]
  },
  {
   "cell_type": "markdown",
   "id": "9ac59c07-e293-4b5f-bd04-d6713a666149",
   "metadata": {},
   "source": [
    "To be able to use Transfer Learning, first we need to fine-tune our Language Model (which we pretrained on Wikipedia) on the corpus of Wiki-500k (the one we downloaded). Here we will build the `DataLoaders` object using fastai's `DataBlock` API:"
   ]
  },
  {
   "cell_type": "code",
   "execution_count": 6,
   "id": "61c89f3e-2b05-4f1e-a5d9-aac19556108c",
   "metadata": {},
   "outputs": [],
   "source": [
    "# !head -n 3 {data}"
   ]
  },
  {
   "cell_type": "code",
   "execution_count": 7,
   "id": "c15a2fca-bf86-4a13-ba60-1bcfe8f41762",
   "metadata": {},
   "outputs": [
    {
     "data": {
      "text/plain": [
       "1493021"
      ]
     },
     "execution_count": 7,
     "metadata": {},
     "output_type": "execute_result"
    }
   ],
   "source": [
    "df = pd.read_csv(data,\n",
    "                 header=0,\n",
    "                 names=['text', 'labels', 'is_valid'],\n",
    "                 usecols=[1,2,3],\n",
    "                 dtype={'text': str, 'labels': str, 'is_valid': bool})\n",
    "len(df)"
   ]
  },
  {
   "cell_type": "code",
   "execution_count": 8,
   "id": "3cbe3d5e-f89d-4bc3-948c-0b0b207daa7c",
   "metadata": {},
   "outputs": [],
   "source": [
    "df[['text', 'labels']] = df[['text', 'labels']].astype(str)"
   ]
  },
  {
   "cell_type": "markdown",
   "id": "2eb1bab1-78f8-4ada-84e2-36d87d7e805f",
   "metadata": {},
   "source": [
    "Let's take a look at the data:"
   ]
  },
  {
   "cell_type": "code",
   "execution_count": 9,
   "id": "01c248e5-774b-46f1-8dca-64bab545f716",
   "metadata": {
    "tags": []
   },
   "outputs": [
    {
     "data": {
      "text/html": [
       "<div>\n",
       "<style scoped>\n",
       "    .dataframe tbody tr th:only-of-type {\n",
       "        vertical-align: middle;\n",
       "    }\n",
       "\n",
       "    .dataframe tbody tr th {\n",
       "        vertical-align: top;\n",
       "    }\n",
       "\n",
       "    .dataframe thead th {\n",
       "        text-align: right;\n",
       "    }\n",
       "</style>\n",
       "<table border=\"1\" class=\"dataframe\">\n",
       "  <thead>\n",
       "    <tr style=\"text-align: right;\">\n",
       "      <th></th>\n",
       "      <th>text</th>\n",
       "      <th>labels</th>\n",
       "      <th>is_valid</th>\n",
       "    </tr>\n",
       "  </thead>\n",
       "  <tbody>\n",
       "    <tr>\n",
       "      <th>0</th>\n",
       "      <td>New Englanders on the Ohio Frontier: Migration and Settlement of Worthington, Ohio  /SEP/  Virginia E. McCormick served on the faculties of Pennsylvania State University, Iowa State University, and, most recently, Ohio State University. Her previous books include Farm Wife: A Self Portrait, 1886-1896 and Scioto Company Descendants: Genealogies of the Original Proprietors of Worthington, Ohio./i&gt;Robert W. McCormick is professor emeritus and former assistant vice president for continuing education at Ohio State University. He is the author of Cockney: The Story of the 696th Armored Field Art...</td>\n",
       "      <td>38,401,1471,5878,7766,11367,12583</td>\n",
       "      <td>False</td>\n",
       "    </tr>\n",
       "    <tr>\n",
       "      <th>1</th>\n",
       "      <td>Le Petit Prince  /SEP/  Deluxe Double Disc Musical Spectacular that Comes with a 52 Page Booklet with Libretto and Notes.</td>\n",
       "      <td>7961,13259</td>\n",
       "      <td>False</td>\n",
       "    </tr>\n",
       "    <tr>\n",
       "      <th>2</th>\n",
       "      <td>Nesco FS-120T American Harvest Food Slicer with Tilt Stand  /SEP/  Heavy duty construction plus innovative design equals outstanding product performance.  Made from sturdy, heavy duty cast aluminum housing combined with unique \"angle feed\" slicing surface makes slicing easier.  Easy to use thickness adjustment and quality, precision crafted Solingen stainless steel cutting blade helps produce perfect cuts. Dual switch safety feature ensures safety during operation. Unit disassembles easily and all removable parts are dishwasher safe, except control panel.  90 watt A/C motor.  Gray</td>\n",
       "      <td>4103,5939,6670,10916,11151</td>\n",
       "      <td>False</td>\n",
       "    </tr>\n",
       "  </tbody>\n",
       "</table>\n",
       "</div>"
      ],
      "text/plain": [
       "                                                                                                                                                                                                                                                                                                                                                                                                                                                                                                                                                                                                                      text  \\\n",
       "0  New Englanders on the Ohio Frontier: Migration and Settlement of Worthington, Ohio  /SEP/  Virginia E. McCormick served on the faculties of Pennsylvania State University, Iowa State University, and, most recently, Ohio State University. Her previous books include Farm Wife: A Self Portrait, 1886-1896 and Scioto Company Descendants: Genealogies of the Original Proprietors of Worthington, Ohio./i>Robert W. McCormick is professor emeritus and former assistant vice president for continuing education at Ohio State University. He is the author of Cockney: The Story of the 696th Armored Field Art...   \n",
       "1                                                                                                                                                                                                                                                                                                                                                                                                                                                                                                Le Petit Prince  /SEP/  Deluxe Double Disc Musical Spectacular that Comes with a 52 Page Booklet with Libretto and Notes.   \n",
       "2              Nesco FS-120T American Harvest Food Slicer with Tilt Stand  /SEP/  Heavy duty construction plus innovative design equals outstanding product performance.  Made from sturdy, heavy duty cast aluminum housing combined with unique \"angle feed\" slicing surface makes slicing easier.  Easy to use thickness adjustment and quality, precision crafted Solingen stainless steel cutting blade helps produce perfect cuts. Dual switch safety feature ensures safety during operation. Unit disassembles easily and all removable parts are dishwasher safe, except control panel.  90 watt A/C motor.  Gray   \n",
       "\n",
       "                              labels  is_valid  \n",
       "0  38,401,1471,5878,7766,11367,12583     False  \n",
       "1                         7961,13259     False  \n",
       "2         4103,5939,6670,10916,11151     False  "
      ]
     },
     "execution_count": 9,
     "metadata": {},
     "output_type": "execute_result"
    }
   ],
   "source": [
    "df.head(3)"
   ]
  },
  {
   "cell_type": "markdown",
   "id": "66718388-da8d-4f38-ae96-efb29e2e5e83",
   "metadata": {},
   "source": [
    "We will now create the `DataLoaders` using `DataBlock` API:"
   ]
  },
  {
   "cell_type": "code",
   "execution_count": 10,
   "id": "a888ae1e-3c7e-4394-876d-ff79f8679411",
   "metadata": {},
   "outputs": [
    {
     "data": {
      "text/html": [
       "\n",
       "<style>\n",
       "    /* Turns off some styling */\n",
       "    progress {\n",
       "        /* gets rid of default border in Firefox and Opera. */\n",
       "        border: none;\n",
       "        /* Needs to be in here for Safari polyfill so background images work as expected. */\n",
       "        background-size: auto;\n",
       "    }\n",
       "    .progress-bar-interrupted, .progress-bar-interrupted::-webkit-progress-bar {\n",
       "        background: #F44336;\n",
       "    }\n",
       "</style>\n"
      ],
      "text/plain": [
       "<IPython.core.display.HTML object>"
      ]
     },
     "metadata": {},
     "output_type": "display_data"
    },
    {
     "data": {
      "text/html": [],
      "text/plain": [
       "<IPython.core.display.HTML object>"
      ]
     },
     "metadata": {},
     "output_type": "display_data"
    }
   ],
   "source": [
    "dls_lm = DataBlock(\n",
    "    blocks   = TextBlock.from_df('text', is_lm=True),\n",
    "    get_x    = ColReader('text'),\n",
    "    splitter = RandomSplitter(0.1)\n",
    ").dataloaders(df, bs=384, seq_len=80)"
   ]
  },
  {
   "cell_type": "markdown",
   "id": "109ad077-b9ba-4567-897c-1fd69fbf7e4e",
   "metadata": {},
   "source": [
    "Let's take a look at the batches:"
   ]
  },
  {
   "cell_type": "code",
   "execution_count": 12,
   "id": "fb5eb28e-94a7-4448-a4e3-0151959e16ba",
   "metadata": {
    "tags": []
   },
   "outputs": [
    {
     "name": "stderr",
     "output_type": "stream",
     "text": [
      "/home/deb/miniconda3/lib/python3.9/site-packages/fastai/torch_core.py:476: FutureWarning: The series.append method is deprecated and will be removed from pandas in a future version. Use pandas.concat instead.\n",
      "  ax = ax.append(pd.Series({label: o}))\n",
      "/home/deb/miniconda3/lib/python3.9/site-packages/fastai/torch_core.py:476: FutureWarning: The series.append method is deprecated and will be removed from pandas in a future version. Use pandas.concat instead.\n",
      "  ax = ax.append(pd.Series({label: o}))\n",
      "/home/deb/miniconda3/lib/python3.9/site-packages/fastai/torch_core.py:476: FutureWarning: The series.append method is deprecated and will be removed from pandas in a future version. Use pandas.concat instead.\n",
      "  ax = ax.append(pd.Series({label: o}))\n",
      "/home/deb/miniconda3/lib/python3.9/site-packages/fastai/torch_core.py:476: FutureWarning: The series.append method is deprecated and will be removed from pandas in a future version. Use pandas.concat instead.\n",
      "  ax = ax.append(pd.Series({label: o}))\n"
     ]
    },
    {
     "data": {
      "text/html": [
       "<table border=\"1\" class=\"dataframe\">\n",
       "  <thead>\n",
       "    <tr style=\"text-align: right;\">\n",
       "      <th></th>\n",
       "      <th>text</th>\n",
       "      <th>text_</th>\n",
       "    </tr>\n",
       "  </thead>\n",
       "  <tbody>\n",
       "    <tr>\n",
       "      <th>0</th>\n",
       "      <td>xxbos xxmaj vibes of xxmaj truth / xxup sep / xxup cd xxup album xxbos xxmaj leaves xxmaj from xxmaj the xxmaj tree : a xxmaj tribute xxmaj to xxmaj the xxmaj music xxmaj of xxmaj peter xxmaj gabriel / xxup sep / a compelling electronic homage to the musical innovation of xxmaj peter xxmaj gabriel . xxmaj cutting - edge electronic artist include xxmaj xxunk xxmaj allison , xxmaj soma xxmaj sonic , xxmaj xxunk and more ! xxbos</td>\n",
       "      <td>xxmaj vibes of xxmaj truth / xxup sep / xxup cd xxup album xxbos xxmaj leaves xxmaj from xxmaj the xxmaj tree : a xxmaj tribute xxmaj to xxmaj the xxmaj music xxmaj of xxmaj peter xxmaj gabriel / xxup sep / a compelling electronic homage to the musical innovation of xxmaj peter xxmaj gabriel . xxmaj cutting - edge electronic artist include xxmaj xxunk xxmaj allison , xxmaj soma xxmaj sonic , xxmaj xxunk and more ! xxbos xxmaj</td>\n",
       "    </tr>\n",
       "    <tr>\n",
       "      <th>1</th>\n",
       "      <td>by the turn of the nineteenth century , almost one in five xxup u.s . seamen were black , and most of them were free . xxmaj and at the end of the period , the tide had turned again , and a combination of different factors squeezed most african - americans out of the maritime labor force . xxmaj professor xxmaj bolster never loses sight of the larger picture , but he also recognizes the collection of compelling stories</td>\n",
       "      <td>the turn of the nineteenth century , almost one in five xxup u.s . seamen were black , and most of them were free . xxmaj and at the end of the period , the tide had turned again , and a combination of different factors squeezed most african - americans out of the maritime labor force . xxmaj professor xxmaj bolster never loses sight of the larger picture , but he also recognizes the collection of compelling stories that</td>\n",
       "    </tr>\n",
       "  </tbody>\n",
       "</table>"
      ],
      "text/plain": [
       "<IPython.core.display.HTML object>"
      ]
     },
     "metadata": {},
     "output_type": "display_data"
    }
   ],
   "source": [
    "dls_lm.show_batch(max_n=2)"
   ]
  },
  {
   "cell_type": "markdown",
   "id": "f39427f5-8bb3-4330-abf1-a37fe875ef06",
   "metadata": {},
   "source": [
    "The length of our vocabulary is:"
   ]
  },
  {
   "cell_type": "code",
   "execution_count": 13,
   "id": "ff8eff9f-2e0b-49bd-a831-98c1152ffbeb",
   "metadata": {},
   "outputs": [
    {
     "data": {
      "text/plain": [
       "60008"
      ]
     },
     "execution_count": 13,
     "metadata": {},
     "output_type": "execute_result"
    }
   ],
   "source": [
    "len(dls_lm.vocab)"
   ]
  },
  {
   "cell_type": "markdown",
   "id": "945db402-b7a7-44cf-9ad3-ccc19e6086cd",
   "metadata": {},
   "source": [
    "Let's take a look at some words of the vocab:"
   ]
  },
  {
   "cell_type": "code",
   "execution_count": 14,
   "id": "6e968ac3-7892-44cd-a5cf-a393faed199f",
   "metadata": {},
   "outputs": [
    {
     "name": "stdout",
     "output_type": "stream",
     "text": [
      "(#60008) ['xxunk','xxpad','xxbos','xxeos','xxfld','xxrep','xxwrep','xxup','xxmaj',',','the','.','and','of','a','to','-','in','/','is','for','with','\"',\"'s\",'that','on','as','this','(',')'...]\n"
     ]
    }
   ],
   "source": [
    "print(coll_repr(L(dls_lm.vocab), 30))"
   ]
  },
  {
   "cell_type": "markdown",
   "id": "ed6c7ecf-6561-468f-83eb-98c76e839548",
   "metadata": {},
   "source": [
    "Creating the `DataLaoders` takes some time, so smash that *save* button (also a good idea to save the `dls_lm.vocab` for later use):"
   ]
  },
  {
   "cell_type": "code",
   "execution_count": 11,
   "id": "8cbd5c4a-9461-4e74-823c-5d7df6175aad",
   "metadata": {},
   "outputs": [],
   "source": [
    "torch.save(dls_lm, dls_lm_path)\n",
    "torch.save(dls_lm.vocab, dls_lm_vocab_path)"
   ]
  },
  {
   "cell_type": "markdown",
   "id": "684b7367-644f-4399-a024-8515424f3e4e",
   "metadata": {},
   "source": [
    "To load back the `dls_lm` later on:"
   ]
  },
  {
   "cell_type": "code",
   "execution_count": 44,
   "id": "aef4e101-6045-4ccb-8719-8bf6ccf2133c",
   "metadata": {},
   "outputs": [],
   "source": [
    "dls_lm = torch.load(dls_lm_path)"
   ]
  },
  {
   "cell_type": "markdown",
   "id": "0a8a2862-9586-4348-af00-7f88ee98f283",
   "metadata": {
    "tags": []
   },
   "source": [
    "## `Learner` for the Language Model Fine-Tuning:"
   ]
  },
  {
   "cell_type": "code",
   "execution_count": 6,
   "id": "80017468-4485-475c-907d-cf5a930904f8",
   "metadata": {},
   "outputs": [],
   "source": [
    "dls_lm = torch.load(dls_lm_path)"
   ]
  },
  {
   "cell_type": "code",
   "execution_count": 7,
   "id": "e2e1b40f-a40e-4715-bd72-6313b5d1035f",
   "metadata": {},
   "outputs": [
    {
     "data": {
      "text/plain": [
       "384"
      ]
     },
     "execution_count": 7,
     "metadata": {},
     "output_type": "execute_result"
    }
   ],
   "source": [
    "dls_lm.bs"
   ]
  },
  {
   "cell_type": "code",
   "execution_count": 8,
   "id": "066b8008-c451-488b-bcd5-c2c56e520fd7",
   "metadata": {},
   "outputs": [],
   "source": [
    "learn = language_model_learner(\n",
    "    dls_lm, AWD_LSTM, drop_mult=0.3,\n",
    "    metrics=[accuracy, Perplexity()]).to_fp16()"
   ]
  },
  {
   "cell_type": "markdown",
   "id": "e54a2908-b1d0-4d84-9de5-5a1cc3a8cd70",
   "metadata": {},
   "source": [
    "Let's compute the learning rate using the `lr_find`:"
   ]
  },
  {
   "cell_type": "code",
   "execution_count": 19,
   "id": "85b8b609-f306-47dc-bc2c-ecf273c04f38",
   "metadata": {
    "tags": []
   },
   "outputs": [
    {
     "data": {
      "text/html": [
       "\n",
       "<style>\n",
       "    /* Turns off some styling */\n",
       "    progress {\n",
       "        /* gets rid of default border in Firefox and Opera. */\n",
       "        border: none;\n",
       "        /* Needs to be in here for Safari polyfill so background images work as expected. */\n",
       "        background-size: auto;\n",
       "    }\n",
       "    .progress-bar-interrupted, .progress-bar-interrupted::-webkit-progress-bar {\n",
       "        background: #F44336;\n",
       "    }\n",
       "</style>\n"
      ],
      "text/plain": [
       "<IPython.core.display.HTML object>"
      ]
     },
     "metadata": {},
     "output_type": "display_data"
    },
    {
     "data": {
      "text/html": [],
      "text/plain": [
       "<IPython.core.display.HTML object>"
      ]
     },
     "metadata": {},
     "output_type": "display_data"
    },
    {
     "data": {
      "text/plain": [
       "SuggestedLRs(minimum=0.025118863582611083)"
      ]
     },
     "execution_count": 19,
     "metadata": {},
     "output_type": "execute_result"
    },
    {
     "data": {
      "image/png": "[encoded data removed]",
      "text/plain": [
       "<Figure size 432x288 with 1 Axes>"
      ]
     },
     "metadata": {
      "needs_background": "light"
     },
     "output_type": "display_data"
    }
   ],
   "source": [
    "lr_min = learn.lr_find(suggest_funcs=(minimum))\n",
    "lr_min"
   ]
  },
  {
   "cell_type": "code",
   "execution_count": 20,
   "id": "18bba033-9bb3-4bc8-ad02-8f7a78be451f",
   "metadata": {},
   "outputs": [
    {
     "data": {
      "text/html": [
       "\n",
       "<style>\n",
       "    /* Turns off some styling */\n",
       "    progress {\n",
       "        /* gets rid of default border in Firefox and Opera. */\n",
       "        border: none;\n",
       "        /* Needs to be in here for Safari polyfill so background images work as expected. */\n",
       "        background-size: auto;\n",
       "    }\n",
       "    .progress-bar-interrupted, .progress-bar-interrupted::-webkit-progress-bar {\n",
       "        background: #F44336;\n",
       "    }\n",
       "</style>\n"
      ],
      "text/plain": [
       "<IPython.core.display.HTML object>"
      ]
     },
     "metadata": {},
     "output_type": "display_data"
    },
    {
     "data": {
      "text/html": [
       "<table border=\"1\" class=\"dataframe\">\n",
       "  <thead>\n",
       "    <tr style=\"text-align: left;\">\n",
       "      <th>epoch</th>\n",
       "      <th>train_loss</th>\n",
       "      <th>valid_loss</th>\n",
       "      <th>accuracy</th>\n",
       "      <th>perplexity</th>\n",
       "      <th>time</th>\n",
       "    </tr>\n",
       "  </thead>\n",
       "  <tbody>\n",
       "    <tr>\n",
       "      <td>0</td>\n",
       "      <td>3.646323</td>\n",
       "      <td>3.512013</td>\n",
       "      <td>0.382642</td>\n",
       "      <td>33.515659</td>\n",
       "      <td>2:27:57</td>\n",
       "    </tr>\n",
       "  </tbody>\n",
       "</table>"
      ],
      "text/plain": [
       "<IPython.core.display.HTML object>"
      ]
     },
     "metadata": {},
     "output_type": "display_data"
    }
   ],
   "source": [
    "learn.fit_one_cycle(1, lr_min)"
   ]
  },
  {
   "cell_type": "markdown",
   "id": "16d534d2-d91c-4f83-91e8-3034c0c84c7c",
   "metadata": {},
   "source": [
    "It takes quite a while to train each epoch, so we'll be saving the intermediate model results during the training process:"
   ]
  },
  {
   "cell_type": "code",
   "execution_count": null,
   "id": "6e918e54-0198-483e-8bd6-c56678275841",
   "metadata": {
    "tags": []
   },
   "outputs": [],
   "source": [
    "learn.save(file_prefix+'_lm')"
   ]
  },
  {
   "cell_type": "markdown",
   "id": "11ac265e-6f06-4ade-930f-1df874b172ae",
   "metadata": {},
   "source": [
    "Let's now load back the `Learner`"
   ]
  },
  {
   "cell_type": "code",
   "execution_count": 9,
   "id": "f4a613dc-43fc-4604-b4e5-31575bc97e3c",
   "metadata": {},
   "outputs": [],
   "source": [
    "learn = learn.load(file_prefix+'_lm')"
   ]
  },
  {
   "cell_type": "markdown",
   "id": "3c8546b7-c8c5-44b4-9ea9-08cab3c11b0b",
   "metadata": {},
   "source": [
    "Let's validate the `Learner` to make sure we loaded the correct version:"
   ]
  },
  {
   "cell_type": "code",
   "execution_count": 10,
   "id": "66b6809d-3c16-476d-861f-91c05794683b",
   "metadata": {},
   "outputs": [
    {
     "data": {
      "text/html": [
       "\n",
       "<style>\n",
       "    /* Turns off some styling */\n",
       "    progress {\n",
       "        /* gets rid of default border in Firefox and Opera. */\n",
       "        border: none;\n",
       "        /* Needs to be in here for Safari polyfill so background images work as expected. */\n",
       "        background-size: auto;\n",
       "    }\n",
       "    .progress-bar-interrupted, .progress-bar-interrupted::-webkit-progress-bar {\n",
       "        background: #F44336;\n",
       "    }\n",
       "</style>\n"
      ],
      "text/plain": [
       "<IPython.core.display.HTML object>"
      ]
     },
     "metadata": {},
     "output_type": "display_data"
    },
    {
     "data": {
      "text/html": [],
      "text/plain": [
       "<IPython.core.display.HTML object>"
      ]
     },
     "metadata": {},
     "output_type": "display_data"
    },
    {
     "data": {
      "text/plain": [
       "(#3) [3.5120127201080322,0.38264235854148865,33.51565933227539]"
      ]
     },
     "execution_count": 10,
     "metadata": {},
     "output_type": "execute_result"
    }
   ],
   "source": [
    "learn.validate()"
   ]
  },
  {
   "cell_type": "markdown",
   "id": "06b4d2ec-b57d-4b2a-b63d-a549558b8132",
   "metadata": {},
   "source": [
    "Since we have completed the initial training, we will now continue fine-tuning the model after unfreezing:"
   ]
  },
  {
   "cell_type": "code",
   "execution_count": 13,
   "id": "ba11c6fe-524a-4d72-bc37-dc3508e7f598",
   "metadata": {},
   "outputs": [],
   "source": [
    "learn.unfreeze()"
   ]
  },
  {
   "cell_type": "markdown",
   "id": "87abcdc8-8816-44e3-a11c-58de1b9ad4dd",
   "metadata": {},
   "source": [
    "and run `lr_find` again, because we now have more layers to train, and the last layers weight have already been trained for one epoch:"
   ]
  },
  {
   "cell_type": "code",
   "execution_count": null,
   "id": "dd9d5c54-7199-4364-9aee-b5b9c0467108",
   "metadata": {},
   "outputs": [],
   "source": [
    "lr_min, lr_steep, lr_valley, lr_slide = learn.lr_find(suggest_funcs=(minimum, steep, valley, slide))\n",
    "lr_min, lr_steep, lr_valley, lr_slide"
   ]
  },
  {
   "cell_type": "markdown",
   "id": "55d37b25-63d5-43bc-93fe-0f82c47b5677",
   "metadata": {},
   "source": [
    "Let's now traing with a suitable learning rate:"
   ]
  },
  {
   "cell_type": "code",
   "execution_count": 14,
   "id": "153a7f55-47d0-42ed-9fde-2aea7b338e6a",
   "metadata": {},
   "outputs": [
    {
     "data": {
      "text/html": [
       "\n",
       "<style>\n",
       "    /* Turns off some styling */\n",
       "    progress {\n",
       "        /* gets rid of default border in Firefox and Opera. */\n",
       "        border: none;\n",
       "        /* Needs to be in here for Safari polyfill so background images work as expected. */\n",
       "        background-size: auto;\n",
       "    }\n",
       "    .progress-bar-interrupted, .progress-bar-interrupted::-webkit-progress-bar {\n",
       "        background: #F44336;\n",
       "    }\n",
       "</style>\n"
      ],
      "text/plain": [
       "<IPython.core.display.HTML object>"
      ]
     },
     "metadata": {},
     "output_type": "display_data"
    },
    {
     "data": {
      "text/html": [
       "<table border=\"1\" class=\"dataframe\">\n",
       "  <thead>\n",
       "    <tr style=\"text-align: left;\">\n",
       "      <th>epoch</th>\n",
       "      <th>train_loss</th>\n",
       "      <th>valid_loss</th>\n",
       "      <th>accuracy</th>\n",
       "      <th>perplexity</th>\n",
       "      <th>time</th>\n",
       "    </tr>\n",
       "  </thead>\n",
       "  <tbody>\n",
       "    <tr>\n",
       "      <td>0</td>\n",
       "      <td>3.295857</td>\n",
       "      <td>3.214648</td>\n",
       "      <td>0.421965</td>\n",
       "      <td>24.894539</td>\n",
       "      <td>2:35:43</td>\n",
       "    </tr>\n",
       "    <tr>\n",
       "      <td>1</td>\n",
       "      <td>3.159792</td>\n",
       "      <td>3.097939</td>\n",
       "      <td>0.438385</td>\n",
       "      <td>22.152239</td>\n",
       "      <td>2:33:45</td>\n",
       "    </tr>\n",
       "    <tr>\n",
       "      <td>2</td>\n",
       "      <td>3.083589</td>\n",
       "      <td>3.028106</td>\n",
       "      <td>0.448573</td>\n",
       "      <td>20.658079</td>\n",
       "      <td>2:38:23</td>\n",
       "    </tr>\n",
       "    <tr>\n",
       "      <td>3</td>\n",
       "      <td>3.047676</td>\n",
       "      <td>2.976303</td>\n",
       "      <td>0.455922</td>\n",
       "      <td>19.615162</td>\n",
       "      <td>2:33:09</td>\n",
       "    </tr>\n",
       "    <tr>\n",
       "      <td>4</td>\n",
       "      <td>3.029696</td>\n",
       "      <td>2.942455</td>\n",
       "      <td>0.460701</td>\n",
       "      <td>18.962334</td>\n",
       "      <td>2:34:27</td>\n",
       "    </tr>\n",
       "    <tr>\n",
       "      <td>5</td>\n",
       "      <td>2.967538</td>\n",
       "      <td>2.934300</td>\n",
       "      <td>0.461882</td>\n",
       "      <td>18.808336</td>\n",
       "      <td>2:34:59</td>\n",
       "    </tr>\n",
       "  </tbody>\n",
       "</table>"
      ],
      "text/plain": [
       "<IPython.core.display.HTML object>"
      ]
     },
     "metadata": {},
     "output_type": "display_data"
    },
    {
     "name": "stdout",
     "output_type": "stream",
     "text": [
      "Better model found at epoch 0 with valid_loss value: 3.214648485183716.\n",
      "Better model found at epoch 1 with valid_loss value: 3.0979385375976562.\n",
      "Better model found at epoch 2 with valid_loss value: 3.028106451034546.\n",
      "Better model found at epoch 3 with valid_loss value: 2.9763028621673584.\n",
      "Better model found at epoch 4 with valid_loss value: 2.9424545764923096.\n",
      "Better model found at epoch 5 with valid_loss value: 2.934300184249878.\n"
     ]
    }
   ],
   "source": [
    "learn.fit_one_cycle(6, lr_max=2e-3, cbs=SaveModelCallback(fname=file_prefix+'_lm'))"
   ]
  },
  {
   "cell_type": "markdown",
   "id": "fbcec4c8-d465-4cf6-b0b3-8abbc5f66aa8",
   "metadata": {},
   "source": [
    "Note: Make sure if you have trained the most language model `Learner` for more epochs (then you need to save that version)"
   ]
  },
  {
   "cell_type": "markdown",
   "id": "cb9b2519-64d9-475e-a6ca-703292e3f3eb",
   "metadata": {
    "tags": []
   },
   "source": [
    "### Saving the encoder of the Language Model"
   ]
  },
  {
   "cell_type": "markdown",
   "id": "3f1065c8-eb36-4861-8026-eb945a2240e3",
   "metadata": {},
   "source": [
    "**Crucial:** Once we have trained our LM we will save all of our model except the final layer that converts activation to probabilities of picking each token in our vocabulary. The model not including the final layer has a sexy name - *encoder*. We will save it using `save_encoder` method of the `Learner`:"
   ]
  },
  {
   "cell_type": "code",
   "execution_count": 15,
   "id": "76595155-9573-459e-8372-a89657661122",
   "metadata": {},
   "outputs": [],
   "source": [
    "learn.save_encoder(file_prefix+'_lm_finetuned')"
   ]
  },
  {
   "cell_type": "markdown",
   "id": "61ee007e-1f59-4123-8b32-6bed775b72d3",
   "metadata": {},
   "source": [
    "This completes the second stage of the text classification process - fine-tuning the Language Model pretrained on Wikipedia corpus. We will now use it to fine-tune a text multi-label text classifier."
   ]
  },
  {
   "cell_type": "markdown",
   "id": "7d6e7208-9a8a-4bed-a8a7-f2f9efc57c49",
   "metadata": {
    "jp-MarkdownHeadingCollapsed": true,
    "tags": []
   },
   "source": [
    "## `DataLoaders` for the Multi-Label Classifier (using fastai's Mid-Level Data API)"
   ]
  },
  {
   "cell_type": "markdown",
   "id": "16899780-09f9-4652-9fbd-c063766c265c",
   "metadata": {
    "jp-MarkdownHeadingCollapsed": true,
    "tags": []
   },
   "source": [
    "### Loading Raw Data"
   ]
  },
  {
   "cell_type": "code",
   "execution_count": 6,
   "id": "0457ecb8-d66a-4b4f-bff4-76eeaaf746d0",
   "metadata": {},
   "outputs": [
    {
     "data": {
      "text/plain": [
       "(Path('/home/deb/xcube/nbs/examples/amazoncat-13k/data/amazoncat-13k.csv'),\n",
       " Path('/home/deb/xcube/nbs/examples/amazoncat-13k/data/amazoncat-13k-sample.csv'))"
      ]
     },
     "execution_count": 6,
     "metadata": {},
     "output_type": "execute_result"
    }
   ],
   "source": [
    "data, data_sample"
   ]
  },
  {
   "cell_type": "code",
   "execution_count": 7,
   "id": "05d1235b-eb73-46bb-9ed7-791444d04366",
   "metadata": {},
   "outputs": [],
   "source": [
    "# !head -n 1 {data}"
   ]
  },
  {
   "cell_type": "code",
   "execution_count": 8,
   "id": "574f199b-8ed2-43ef-8c58-d2183e2d6d64",
   "metadata": {},
   "outputs": [],
   "source": [
    "# !shuf -n 200000 {data} > {data_sample} "
   ]
  },
  {
   "cell_type": "code",
   "execution_count": 9,
   "id": "b47fc915-f422-44bf-9d26-2a40a60ebb49",
   "metadata": {},
   "outputs": [
    {
     "data": {
      "text/plain": [
       "1493021"
      ]
     },
     "execution_count": 9,
     "metadata": {},
     "output_type": "execute_result"
    }
   ],
   "source": [
    "df = pd.read_csv(data,\n",
    "                 header=0,\n",
    "                 names=['text', 'labels', 'is_valid'],\n",
    "                 usecols=[1,2,3],\n",
    "                 dtype={'text': str, 'labels': str, 'is_valid': bool})\n",
    "len(df)"
   ]
  },
  {
   "cell_type": "code",
   "execution_count": 10,
   "id": "03fe9f01-1d5a-4087-9016-1289c98ece83",
   "metadata": {},
   "outputs": [],
   "source": [
    "df[['text', 'labels']] = df[['text', 'labels']].astype(str)"
   ]
  },
  {
   "cell_type": "code",
   "execution_count": 11,
   "id": "9d4d9e9f-c915-487d-941d-4f65b2175c94",
   "metadata": {
    "tags": []
   },
   "outputs": [
    {
     "data": {
      "text/html": [
       "<div>\n",
       "<style scoped>\n",
       "    .dataframe tbody tr th:only-of-type {\n",
       "        vertical-align: middle;\n",
       "    }\n",
       "\n",
       "    .dataframe tbody tr th {\n",
       "        vertical-align: top;\n",
       "    }\n",
       "\n",
       "    .dataframe thead th {\n",
       "        text-align: right;\n",
       "    }\n",
       "</style>\n",
       "<table border=\"1\" class=\"dataframe\">\n",
       "  <thead>\n",
       "    <tr style=\"text-align: right;\">\n",
       "      <th></th>\n",
       "      <th>text</th>\n",
       "      <th>labels</th>\n",
       "      <th>is_valid</th>\n",
       "    </tr>\n",
       "  </thead>\n",
       "  <tbody>\n",
       "    <tr>\n",
       "      <th>0</th>\n",
       "      <td>New Englanders on the Ohio Frontier: Migration and Settlement of Worthington, Ohio  /SEP/  Virginia E. McCormick served on the faculties of Pennsylvania State University, Iowa State University, and, most recently, Ohio State University. Her previous books include Farm Wife: A Self Portrait, 1886-1896 and Scioto Company Descendants: Genealogies of the Original Proprietors of Worthington, Ohio./i&gt;Robert W. McCormick is professor emeritus and former assistant vice president for continuing education at Ohio State University. He is the author of Cockney: The Story of the 696th Armored Field Art...</td>\n",
       "      <td>38,401,1471,5878,7766,11367,12583</td>\n",
       "      <td>False</td>\n",
       "    </tr>\n",
       "    <tr>\n",
       "      <th>1</th>\n",
       "      <td>Le Petit Prince  /SEP/  Deluxe Double Disc Musical Spectacular that Comes with a 52 Page Booklet with Libretto and Notes.</td>\n",
       "      <td>7961,13259</td>\n",
       "      <td>False</td>\n",
       "    </tr>\n",
       "    <tr>\n",
       "      <th>2</th>\n",
       "      <td>Nesco FS-120T American Harvest Food Slicer with Tilt Stand  /SEP/  Heavy duty construction plus innovative design equals outstanding product performance.  Made from sturdy, heavy duty cast aluminum housing combined with unique \"angle feed\" slicing surface makes slicing easier.  Easy to use thickness adjustment and quality, precision crafted Solingen stainless steel cutting blade helps produce perfect cuts. Dual switch safety feature ensures safety during operation. Unit disassembles easily and all removable parts are dishwasher safe, except control panel.  90 watt A/C motor.  Gray</td>\n",
       "      <td>4103,5939,6670,10916,11151</td>\n",
       "      <td>False</td>\n",
       "    </tr>\n",
       "  </tbody>\n",
       "</table>\n",
       "</div>"
      ],
      "text/plain": [
       "                                                                                                                                                                                                                                                                                                                                                                                                                                                                                                                                                                                                                      text  \\\n",
       "0  New Englanders on the Ohio Frontier: Migration and Settlement of Worthington, Ohio  /SEP/  Virginia E. McCormick served on the faculties of Pennsylvania State University, Iowa State University, and, most recently, Ohio State University. Her previous books include Farm Wife: A Self Portrait, 1886-1896 and Scioto Company Descendants: Genealogies of the Original Proprietors of Worthington, Ohio./i>Robert W. McCormick is professor emeritus and former assistant vice president for continuing education at Ohio State University. He is the author of Cockney: The Story of the 696th Armored Field Art...   \n",
       "1                                                                                                                                                                                                                                                                                                                                                                                                                                                                                                Le Petit Prince  /SEP/  Deluxe Double Disc Musical Spectacular that Comes with a 52 Page Booklet with Libretto and Notes.   \n",
       "2              Nesco FS-120T American Harvest Food Slicer with Tilt Stand  /SEP/  Heavy duty construction plus innovative design equals outstanding product performance.  Made from sturdy, heavy duty cast aluminum housing combined with unique \"angle feed\" slicing surface makes slicing easier.  Easy to use thickness adjustment and quality, precision crafted Solingen stainless steel cutting blade helps produce perfect cuts. Dual switch safety feature ensures safety during operation. Unit disassembles easily and all removable parts are dishwasher safe, except control panel.  90 watt A/C motor.  Gray   \n",
       "\n",
       "                              labels  is_valid  \n",
       "0  38,401,1471,5878,7766,11367,12583     False  \n",
       "1                         7961,13259     False  \n",
       "2         4103,5939,6670,10916,11151     False  "
      ]
     },
     "execution_count": 11,
     "metadata": {},
     "output_type": "execute_result"
    }
   ],
   "source": [
    "df.head(3)"
   ]
  },
  {
   "cell_type": "markdown",
   "id": "55aaa6ee-a48a-4f58-9e9c-4c7b7267f363",
   "metadata": {},
   "source": [
    "Sample a small fraction of the dataset to ensure quick iteration:"
   ]
  },
  {
   "cell_type": "code",
   "execution_count": 12,
   "id": "f47678ad-0888-44c8-9398-7f6e4ec5c57a",
   "metadata": {},
   "outputs": [],
   "source": [
    "# df = df.sample(frac=0.1, random_state=89, ignore_index=True)\n",
    "# len(df)"
   ]
  },
  {
   "cell_type": "markdown",
   "id": "313bc7e5-5795-4ae5-9322-6a236b01d706",
   "metadata": {},
   "source": [
    "Let's now gather the labels from the 'labels' columns of the df:"
   ]
  },
  {
   "cell_type": "code",
   "execution_count": 13,
   "id": "f9740030-1cec-405b-939b-845a7b92b2fd",
   "metadata": {},
   "outputs": [],
   "source": [
    "lbl_freqs = Counter()\n",
    "for labels in df.labels: lbl_freqs.update(labels.split(','))"
   ]
  },
  {
   "cell_type": "markdown",
   "id": "52f53c3b-1c25-4ae3-9528-5092747d2bfb",
   "metadata": {},
   "source": [
    "The total number of labels are:"
   ]
  },
  {
   "cell_type": "code",
   "execution_count": 14,
   "id": "0e816938-b66f-4565-9871-e9465f712d1e",
   "metadata": {},
   "outputs": [
    {
     "data": {
      "text/plain": [
       "13330"
      ]
     },
     "execution_count": 14,
     "metadata": {},
     "output_type": "execute_result"
    }
   ],
   "source": [
    "len(lbl_freqs)"
   ]
  },
  {
   "cell_type": "markdown",
   "id": "99eb351e-8beb-4b2a-9413-44780af36d6e",
   "metadata": {},
   "source": [
    "Let's take a look at the most common labels:"
   ]
  },
  {
   "cell_type": "code",
   "execution_count": 93,
   "id": "3b77e405-3f4c-46d2-a73f-ebce63fa2a15",
   "metadata": {
    "collapsed": true,
    "jupyter": {
     "outputs_hidden": true
    },
    "tags": []
   },
   "outputs": [
    {
     "data": {
      "text/html": [
       "<div>\n",
       "<style scoped>\n",
       "    .dataframe tbody tr th:only-of-type {\n",
       "        vertical-align: middle;\n",
       "    }\n",
       "\n",
       "    .dataframe tbody tr th {\n",
       "        vertical-align: top;\n",
       "    }\n",
       "\n",
       "    .dataframe thead th {\n",
       "        text-align: right;\n",
       "    }\n",
       "</style>\n",
       "<table border=\"1\" class=\"dataframe\">\n",
       "  <thead>\n",
       "    <tr style=\"text-align: right;\">\n",
       "      <th></th>\n",
       "      <th>label</th>\n",
       "      <th>frequency</th>\n",
       "    </tr>\n",
       "  </thead>\n",
       "  <tbody>\n",
       "    <tr>\n",
       "      <th>0</th>\n",
       "      <td>401.9</td>\n",
       "      <td>20053</td>\n",
       "    </tr>\n",
       "    <tr>\n",
       "      <th>1</th>\n",
       "      <td>38.93</td>\n",
       "      <td>14444</td>\n",
       "    </tr>\n",
       "    <tr>\n",
       "      <th>2</th>\n",
       "      <td>428.0</td>\n",
       "      <td>12842</td>\n",
       "    </tr>\n",
       "    <tr>\n",
       "      <th>3</th>\n",
       "      <td>427.31</td>\n",
       "      <td>12594</td>\n",
       "    </tr>\n",
       "    <tr>\n",
       "      <th>4</th>\n",
       "      <td>414.01</td>\n",
       "      <td>12179</td>\n",
       "    </tr>\n",
       "    <tr>\n",
       "      <th>5</th>\n",
       "      <td>96.04</td>\n",
       "      <td>9932</td>\n",
       "    </tr>\n",
       "    <tr>\n",
       "      <th>6</th>\n",
       "      <td>96.6</td>\n",
       "      <td>9161</td>\n",
       "    </tr>\n",
       "    <tr>\n",
       "      <th>7</th>\n",
       "      <td>584.9</td>\n",
       "      <td>8907</td>\n",
       "    </tr>\n",
       "    <tr>\n",
       "      <th>8</th>\n",
       "      <td>250.00</td>\n",
       "      <td>8784</td>\n",
       "    </tr>\n",
       "    <tr>\n",
       "      <th>9</th>\n",
       "      <td>96.71</td>\n",
       "      <td>8619</td>\n",
       "    </tr>\n",
       "    <tr>\n",
       "      <th>10</th>\n",
       "      <td>272.4</td>\n",
       "      <td>8504</td>\n",
       "    </tr>\n",
       "    <tr>\n",
       "      <th>11</th>\n",
       "      <td>518.81</td>\n",
       "      <td>7249</td>\n",
       "    </tr>\n",
       "    <tr>\n",
       "      <th>12</th>\n",
       "      <td>99.04</td>\n",
       "      <td>7147</td>\n",
       "    </tr>\n",
       "    <tr>\n",
       "      <th>13</th>\n",
       "      <td>39.61</td>\n",
       "      <td>6809</td>\n",
       "    </tr>\n",
       "    <tr>\n",
       "      <th>14</th>\n",
       "      <td>599.0</td>\n",
       "      <td>6442</td>\n",
       "    </tr>\n",
       "    <tr>\n",
       "      <th>15</th>\n",
       "      <td>530.81</td>\n",
       "      <td>6156</td>\n",
       "    </tr>\n",
       "    <tr>\n",
       "      <th>16</th>\n",
       "      <td>96.72</td>\n",
       "      <td>5926</td>\n",
       "    </tr>\n",
       "    <tr>\n",
       "      <th>17</th>\n",
       "      <td>272.0</td>\n",
       "      <td>5766</td>\n",
       "    </tr>\n",
       "    <tr>\n",
       "      <th>18</th>\n",
       "      <td>285.9</td>\n",
       "      <td>5296</td>\n",
       "    </tr>\n",
       "    <tr>\n",
       "      <th>19</th>\n",
       "      <td>88.56</td>\n",
       "      <td>5240</td>\n",
       "    </tr>\n",
       "  </tbody>\n",
       "</table>\n",
       "</div>"
      ],
      "text/plain": [
       "     label  frequency\n",
       "0    401.9      20053\n",
       "1    38.93      14444\n",
       "2    428.0      12842\n",
       "3   427.31      12594\n",
       "4   414.01      12179\n",
       "5    96.04       9932\n",
       "6     96.6       9161\n",
       "7    584.9       8907\n",
       "8   250.00       8784\n",
       "9    96.71       8619\n",
       "10   272.4       8504\n",
       "11  518.81       7249\n",
       "12   99.04       7147\n",
       "13   39.61       6809\n",
       "14   599.0       6442\n",
       "15  530.81       6156\n",
       "16   96.72       5926\n",
       "17   272.0       5766\n",
       "18   285.9       5296\n",
       "19   88.56       5240"
      ]
     },
     "execution_count": 93,
     "metadata": {},
     "output_type": "execute_result"
    }
   ],
   "source": [
    "pd.DataFrame(lbl_freqs.most_common(20), columns=['label', 'frequency'])"
   ]
  },
  {
   "cell_type": "markdown",
   "id": "fbf7209f-8051-4003-97bc-944928a6bcdc",
   "metadata": {},
   "source": [
    "Let's make a list of all labels (We will use it later while creating the `DataLoader`)"
   ]
  },
  {
   "cell_type": "code",
   "execution_count": 15,
   "id": "08fadbd0-f498-4dae-87b4-74129b48fa6b",
   "metadata": {},
   "outputs": [],
   "source": [
    "lbls = list(lbl_freqs.keys())"
   ]
  },
  {
   "cell_type": "markdown",
   "id": "a814826c-b341-4722-8f3c-ad98ea2f53f6",
   "metadata": {
    "jp-MarkdownHeadingCollapsed": true,
    "tags": []
   },
   "source": [
    "### Dataset Statistics "
   ]
  },
  {
   "cell_type": "markdown",
   "id": "df7ceef9-6e33-41ec-a078-6fc5ee508dc8",
   "metadata": {
    "jp-MarkdownHeadingCollapsed": true,
    "tags": []
   },
   "source": [
    "#### Check #1: Number of instances (train/valid split)"
   ]
  },
  {
   "cell_type": "code",
   "execution_count": 59,
   "id": "b383fe50-3a03-4fc1-a2ef-d0d410f068c6",
   "metadata": {},
   "outputs": [
    {
     "data": {
      "text/plain": [
       "(48991, 15356)"
      ]
     },
     "execution_count": 59,
     "metadata": {},
     "output_type": "execute_result"
    }
   ],
   "source": [
    "train, valid = df.index[~df['is_valid']], df.index[df['is_valid']]\n",
    "len(train), len(valid)"
   ]
  },
  {
   "cell_type": "markdown",
   "id": "ac6eb9d7-673a-4e7e-af34-b56d314f333d",
   "metadata": {
    "jp-MarkdownHeadingCollapsed": true,
    "tags": []
   },
   "source": [
    "#### Check #2: Avg number of instances per label"
   ]
  },
  {
   "cell_type": "code",
   "execution_count": 60,
   "id": "6d98df47-4cc2-44a4-8ee9-b9b890c22f9b",
   "metadata": {},
   "outputs": [
    {
     "data": {
      "text/plain": [
       "1.4758221491517627"
      ]
     },
     "execution_count": 60,
     "metadata": {},
     "output_type": "execute_result"
    }
   ],
   "source": [
    "array(list(lbl_freqs.values())).mean()"
   ]
  },
  {
   "cell_type": "markdown",
   "id": "100ea260-fa73-42eb-a785-8d6cc2dab27f",
   "metadata": {
    "jp-MarkdownHeadingCollapsed": true,
    "tags": []
   },
   "source": [
    "#### Check #3: Plotting the label distribution"
   ]
  },
  {
   "cell_type": "code",
   "execution_count": 32,
   "id": "278a4b53-2032-4d54-aa87-9c54f97cd741",
   "metadata": {},
   "outputs": [],
   "source": [
    "lbl_count = []\n",
    "for lbls in df.labels: lbl_count.append(len(lbls.split(',')))"
   ]
  },
  {
   "cell_type": "code",
   "execution_count": 85,
   "id": "1bb0982e-9548-4321-9d16-de6b21f8daf7",
   "metadata": {},
   "outputs": [],
   "source": [
    "df_copy = df.copy()\n",
    "df_copy['label_count'] = lbl_count"
   ]
  },
  {
   "cell_type": "code",
   "execution_count": 86,
   "id": "2b00d3bf-4102-4f19-afba-1e1079e9f36d",
   "metadata": {},
   "outputs": [
    {
     "data": {
      "text/html": [
       "<div>\n",
       "<style scoped>\n",
       "    .dataframe tbody tr th:only-of-type {\n",
       "        vertical-align: middle;\n",
       "    }\n",
       "\n",
       "    .dataframe tbody tr th {\n",
       "        vertical-align: top;\n",
       "    }\n",
       "\n",
       "    .dataframe thead th {\n",
       "        text-align: right;\n",
       "    }\n",
       "</style>\n",
       "<table border=\"1\" class=\"dataframe\">\n",
       "  <thead>\n",
       "    <tr style=\"text-align: right;\">\n",
       "      <th></th>\n",
       "      <th>text</th>\n",
       "      <th>labels</th>\n",
       "      <th>is_valid</th>\n",
       "      <th>label_count</th>\n",
       "    </tr>\n",
       "  </thead>\n",
       "  <tbody>\n",
       "    <tr>\n",
       "      <th>0</th>\n",
       "      <td>Methodical Bible study: A new approach to hermeneutics /SEP/ Methodical Bible study: A new approach to hermeneutics. Inductive study compares related Bible texts in order to let the Bible interpret itself, rather than approaching Scripture with predetermined notions of what it will say.  Dr. Trainas Methodical Bible Study was not intended to be the last word in inductive Bible study; but since its first publication in 1952, it has become a foundational text in this field.  Christian colleges and seminaries have made it required reading for beginning Bible students, while many churches have...</td>\n",
       "      <td>34141,119299,126600,128716,187372,218742</td>\n",
       "      <td>False</td>\n",
       "      <td>6</td>\n",
       "    </tr>\n",
       "    <tr>\n",
       "      <th>1</th>\n",
       "      <td>Southeastern Mills Roast Beef Gravy Mix, 4.5-Ounce Packages (Pack of 24) /SEP/ Southeastern Mills Roast Beef Gravy Mix, 4.5-Ounce Packages (Pack of 24). Makes 3-1/2 cups. Down home taste. Makes hearty beef stew base.</td>\n",
       "      <td>465536,465553,615429</td>\n",
       "      <td>False</td>\n",
       "      <td>3</td>\n",
       "    </tr>\n",
       "  </tbody>\n",
       "</table>\n",
       "</div>"
      ],
      "text/plain": [
       "                                                                                                                                                                                                                                                                                                                                                                                                                                                                                                                                                                                                                      text  \\\n",
       "0  Methodical Bible study: A new approach to hermeneutics /SEP/ Methodical Bible study: A new approach to hermeneutics. Inductive study compares related Bible texts in order to let the Bible interpret itself, rather than approaching Scripture with predetermined notions of what it will say.  Dr. Trainas Methodical Bible Study was not intended to be the last word in inductive Bible study; but since its first publication in 1952, it has become a foundational text in this field.  Christian colleges and seminaries have made it required reading for beginning Bible students, while many churches have...   \n",
       "1                                                                                                                                                                                                                                                                                                                                                                                                 Southeastern Mills Roast Beef Gravy Mix, 4.5-Ounce Packages (Pack of 24) /SEP/ Southeastern Mills Roast Beef Gravy Mix, 4.5-Ounce Packages (Pack of 24). Makes 3-1/2 cups. Down home taste. Makes hearty beef stew base.   \n",
       "\n",
       "                                     labels  is_valid  label_count  \n",
       "0  34141,119299,126600,128716,187372,218742     False            6  \n",
       "1                      465536,465553,615429     False            3  "
      ]
     },
     "execution_count": 86,
     "metadata": {},
     "output_type": "execute_result"
    }
   ],
   "source": [
    "df_copy.head(2)"
   ]
  },
  {
   "cell_type": "markdown",
   "id": "75c304dc-f6bc-4196-b20f-8d1087003c67",
   "metadata": {},
   "source": [
    "The average number of labels per instance is:"
   ]
  },
  {
   "cell_type": "code",
   "execution_count": 112,
   "id": "8b26ea81-4843-4ce9-bb73-b840968b0f27",
   "metadata": {},
   "outputs": [
    {
     "data": {
      "text/plain": [
       "5.385563363865518"
      ]
     },
     "execution_count": 112,
     "metadata": {},
     "output_type": "execute_result"
    }
   ],
   "source": [
    "df_copy.label_count.mean()"
   ]
  },
  {
   "cell_type": "code",
   "execution_count": 87,
   "id": "b06e5fc2-8107-47e3-9d2b-7564f42c08d9",
   "metadata": {},
   "outputs": [
    {
     "name": "stderr",
     "output_type": "stream",
     "text": [
      "/home/deb/miniconda3/lib/python3.9/site-packages/seaborn/distributions.py:2619: FutureWarning: `distplot` is a deprecated function and will be removed in a future version. Please adapt your code to use either `displot` (a figure-level function with similar flexibility) or `histplot` (an axes-level function for histograms).\n",
      "  warnings.warn(msg, FutureWarning)\n"
     ]
    },
    {
     "data": {
      "image/png": "[encoded data removed]",
      "text/plain": [
       "<Figure size 432x288 with 1 Axes>"
      ]
     },
     "metadata": {
      "needs_background": "light"
     },
     "output_type": "display_data"
    }
   ],
   "source": [
    "import seaborn as sns\n",
    "sns.distplot(df_copy.label_count, bins=10, color='b');"
   ]
  },
  {
   "cell_type": "code",
   "execution_count": 88,
   "id": "ff9fbd91-d26c-450a-9728-aca6bff42128",
   "metadata": {},
   "outputs": [],
   "source": [
    "lbls_sorted = sorted(lbl_freqs.items(), key=lambda item: item[1], reverse=True)"
   ]
  },
  {
   "cell_type": "code",
   "execution_count": 89,
   "id": "d85de31d-f8cf-405d-95b6-eafa7df6f0fc",
   "metadata": {},
   "outputs": [
    {
     "data": {
      "text/plain": [
       "[('455619', 2258),\n",
       " ('455662', 2176),\n",
       " ('547041', 2160),\n",
       " ('516790', 1214),\n",
       " ('455712', 1203),\n",
       " ('455620', 1133),\n",
       " ('632786', 1132),\n",
       " ('632789', 1132),\n",
       " ('632785', 1030),\n",
       " ('632788', 1030),\n",
       " ('492255', 938),\n",
       " ('455014', 872),\n",
       " ('670034', 850),\n",
       " ('427871', 815),\n",
       " ('599701', 803),\n",
       " ('308331', 801),\n",
       " ('581325', 801),\n",
       " ('649272', 799),\n",
       " ('455704', 762),\n",
       " ('666760', 733)]"
      ]
     },
     "execution_count": 89,
     "metadata": {},
     "output_type": "execute_result"
    }
   ],
   "source": [
    "lbls_sorted[:20]"
   ]
  },
  {
   "cell_type": "code",
   "execution_count": 90,
   "id": "bd338026-7583-4cba-9519-fa7ed9626996",
   "metadata": {},
   "outputs": [
    {
     "data": {
      "text/plain": [
       "((#670091) ['455619','455662','547041','516790','455712','455620','632786','632789','632785','632788'...],\n",
       " (#670091) [2258,2176,2160,1214,1203,1133,1132,1132,1030,1030...])"
      ]
     },
     "execution_count": 90,
     "metadata": {},
     "output_type": "execute_result"
    }
   ],
   "source": [
    "ranked_lbls = L(lbls_sorted).itemgot(0)\n",
    "ranked_freqs = L(lbls_sorted).itemgot(1)\n",
    "ranked_lbls, ranked_freqs"
   ]
  },
  {
   "cell_type": "code",
   "execution_count": 91,
   "id": "ca4caa8d-9494-4923-be64-d1a54311c7f5",
   "metadata": {},
   "outputs": [
    {
     "data": {
      "image/png": "[encoded data removed]",
      "text/plain": [
       "<Figure size 720x360 with 1 Axes>"
      ]
     },
     "metadata": {
      "needs_background": "light"
     },
     "output_type": "display_data"
    }
   ],
   "source": [
    "fig = plt.figure(figsize=(10,5))\n",
    "ax = fig.add_subplot(1,1,1)\n",
    "ax.plot(ranked_freqs)\n",
    "ax.set_xlabel('Labels ranked by frequency')\n",
    "ax.set_ylabel('Text Count')\n",
    "ax.set_yscale('log');"
   ]
  },
  {
   "cell_type": "markdown",
   "id": "2e620e7c-7df3-4bce-ae43-cec8eed716d6",
   "metadata": {
    "jp-MarkdownHeadingCollapsed": true,
    "tags": []
   },
   "source": [
    "#### Check #4: Computing the min label freq for each text"
   ]
  },
  {
   "cell_type": "code",
   "execution_count": 70,
   "id": "52d4ede1-b78f-4d80-961d-a247aa3bc609",
   "metadata": {
    "collapsed": true,
    "jupyter": {
     "outputs_hidden": true
    },
    "tags": []
   },
   "outputs": [
    {
     "data": {
      "text/html": [
       "<div>\n",
       "<style scoped>\n",
       "    .dataframe tbody tr th:only-of-type {\n",
       "        vertical-align: middle;\n",
       "    }\n",
       "\n",
       "    .dataframe tbody tr th {\n",
       "        vertical-align: top;\n",
       "    }\n",
       "\n",
       "    .dataframe thead th {\n",
       "        text-align: right;\n",
       "    }\n",
       "</style>\n",
       "<table border=\"1\" class=\"dataframe\">\n",
       "  <thead>\n",
       "    <tr style=\"text-align: right;\">\n",
       "      <th></th>\n",
       "      <th>text</th>\n",
       "      <th>labels</th>\n",
       "      <th>is_valid</th>\n",
       "      <th>label_count</th>\n",
       "      <th>min_code_freq</th>\n",
       "      <th>max_code_freq</th>\n",
       "      <th>90pct_code_freq</th>\n",
       "    </tr>\n",
       "  </thead>\n",
       "  <tbody>\n",
       "    <tr>\n",
       "      <th>0</th>\n",
       "      <td>Methodical Bible study: A new approach to hermeneutics /SEP/ Methodical Bible study: A new approach to hermeneutics. Inductive study compares related Bible texts in order to let the Bible interpret itself, rather than approaching Scripture with predetermined notions of what it will say.  Dr. Trainas Methodical Bible Study was not intended to be the last word in inductive Bible study; but since its first publication in 1952, it has become a foundational text in this field.  Christian colleges and seminaries have made it required reading for beginning Bible students, while many churches have...</td>\n",
       "      <td>34141,119299,126600,128716,187372,218742</td>\n",
       "      <td>False</td>\n",
       "      <td>6</td>\n",
       "      <td>2</td>\n",
       "      <td>29</td>\n",
       "      <td>25.5</td>\n",
       "    </tr>\n",
       "    <tr>\n",
       "      <th>1</th>\n",
       "      <td>Southeastern Mills Roast Beef Gravy Mix, 4.5-Ounce Packages (Pack of 24) /SEP/ Southeastern Mills Roast Beef Gravy Mix, 4.5-Ounce Packages (Pack of 24). Makes 3-1/2 cups. Down home taste. Makes hearty beef stew base.</td>\n",
       "      <td>465536,465553,615429</td>\n",
       "      <td>False</td>\n",
       "      <td>3</td>\n",
       "      <td>2</td>\n",
       "      <td>3</td>\n",
       "      <td>3.0</td>\n",
       "    </tr>\n",
       "    <tr>\n",
       "      <th>2</th>\n",
       "      <td>MMF Industries 24-Key Portable Zippered Key Case (201502417) /SEP/ MMF Industries 24-Key Portable Zippered Key Case (201502417). The MMF Industries 201502417 24-Key Portable Zippered Key Case is an attractive burgundy-colored leather-like vinyl case with brass corners and looks like a portfolio. Its easy-slide zipper keeps keys enclosed, and a hook-and-loop fastener strips keep keys securely in place. Key tags are included.\\tZippered key case offers a portable alternative to metal wall key cabinets. Included key tags are backed by hook-and-loop closures. Easy slide zipper keeps keys enclos...</td>\n",
       "      <td>393828</td>\n",
       "      <td>False</td>\n",
       "      <td>1</td>\n",
       "      <td>2</td>\n",
       "      <td>2</td>\n",
       "      <td>2.0</td>\n",
       "    </tr>\n",
       "    <tr>\n",
       "      <th>3</th>\n",
       "      <td>Hoover the Fishing President /SEP/ Hoover the Fishing President. Hal Elliott Wert has spent years researching Herbert Hoover, Franklin Roosevelt, and Harry Truman. He holds a Ph.D. from the University of Kansas and currently teaches at the Kansas City Art Institute.</td>\n",
       "      <td>167614,223686</td>\n",
       "      <td>False</td>\n",
       "      <td>2</td>\n",
       "      <td>4</td>\n",
       "      <td>4</td>\n",
       "      <td>4.0</td>\n",
       "    </tr>\n",
       "    <tr>\n",
       "      <th>4</th>\n",
       "      <td>GeoPuzzle U.S.A. and Canada - Educational Geography Jigsaw Puzzle (69 pcs) /SEP/ GeoPuzzle U.S.A. and Canada - Educational Geography Jigsaw Puzzle (69 pcs). GeoPuzzles are jigsaw puzzles that make learning world geography fun. The pieces of a GeoPuzzle are shaped like individual countries, so children learn as they put the puzzle together. Award-winning Geopuzzles help to build fine motor, cognitive, language, and problem-solving skills, and are a great introduction to world geography for children 4 and up. Designed by an art professor, jumbo sized and brightly colored GeoPuzzles are avail...</td>\n",
       "      <td>480528,480530,480532,485144,485146,598793</td>\n",
       "      <td>False</td>\n",
       "      <td>6</td>\n",
       "      <td>5</td>\n",
       "      <td>10</td>\n",
       "      <td>8.5</td>\n",
       "    </tr>\n",
       "    <tr>\n",
       "      <th>5</th>\n",
       "      <td>Amazon.com: Paul Fredrick Men's Cotton Pinpoint Oxford Straight Collar Dress Shirt: Clothing /SEP/ Amazon.com: Paul Fredrick Men's Cotton Pinpoint Oxford Straight Collar Dress Shirt: Clothing. Pinpoint Oxford Cotton. Traditional Straight Collar, 1/4 Topstitched. Button Cuffs, 1/4 Topstitched. Embedded Collar Stay. Regular, Big and Tall. Top Center Placket. Split Yoke. Single Front Rounded Pocket. Machine Wash Or Dry Clean. Imported. * Big and Tall Sizes - addl $5.00</td>\n",
       "      <td>516790,567615,670034</td>\n",
       "      <td>False</td>\n",
       "      <td>3</td>\n",
       "      <td>256</td>\n",
       "      <td>1214</td>\n",
       "      <td>1141.2</td>\n",
       "    </tr>\n",
       "    <tr>\n",
       "      <th>6</th>\n",
       "      <td>Darkest Fear : A Myron Bolitar Novel /SEP/ Darkest Fear : A Myron Bolitar Novel. Myron Bolitar's father's recent heart attack brings Myron smack into a midlife encounter with issues of adulthood and mortality. And if that's not enough to turn his life upside down, the reappearance of his first serious girlfriend is. The basketball star turned sports agent, who does a little detecting when business is slow, is saddened by the news that Emily Downing's 13-year-old son is dying and desperately needs a bone marrow transplant; even if she did leave him for the man who destroyed his basketball c...</td>\n",
       "      <td>50442,50516,50647,50672,50680,662538</td>\n",
       "      <td>False</td>\n",
       "      <td>6</td>\n",
       "      <td>2</td>\n",
       "      <td>3</td>\n",
       "      <td>2.5</td>\n",
       "    </tr>\n",
       "    <tr>\n",
       "      <th>7</th>\n",
       "      <td>In Debt We Trust (2007) /SEP/ In Debt We Trust (2007). Just a few decades ago, owing more money than you had in your  bank account was the exception, not the rule.  Yet, in the last 10 years,  consumer debt has doubled and, for the first time, Americans are spending  more than they're saving -- or making.  This April, award-winning former  ABC News and CNN producer Danny Schechter investigates America's mounting  debt crisis in his latest hard-hitting expose, IN DEBT WE TRUST.   While many Americans are \"maxing out\" on credit cards, there is a  much deeper story: power is shifting into few...</td>\n",
       "      <td>493095,499382,560691,589867,591343,611615,619231</td>\n",
       "      <td>False</td>\n",
       "      <td>7</td>\n",
       "      <td>4</td>\n",
       "      <td>50</td>\n",
       "      <td>47.0</td>\n",
       "    </tr>\n",
       "    <tr>\n",
       "      <th>8</th>\n",
       "      <td>Craftsman 9-34740 32 Piece 1/4-3/8 Drive Standard/Metric Socket Wrench Set /SEP/ Craftsman 9-34740 32 Piece 1/4-3/8 Drive Standard/Metric Socket Wrench Set. Craftsman 9-34740 32 Pc. 1/4-3/8 Drive Standard/Metric Socket Wrench Set. The Craftsman 9-34740 32 Pc. 1/4-3/8 Drive Standard/Metric Socket Wrench Set includes 1/4 Inch Drive Sockets; 8 Six-Point Standard Sockets:9-43492 7/32-Inch, 9-43496 11/32,9-43493 1/4-Inch, 9-43497 3/8-Inch, 9-43494 9/32-Inch, 9-43498 7/16-Inch,9-43495 5/16-Inch, 9-43499 1/2-Inch; 7 Six-Point Metric Sockets:9-43505 4mm, 9-43504 8mm, 9-43501 5mm, 9-43507 9mm,9-435...</td>\n",
       "      <td>590298,609038</td>\n",
       "      <td>False</td>\n",
       "      <td>2</td>\n",
       "      <td>2</td>\n",
       "      <td>2</td>\n",
       "      <td>2.0</td>\n",
       "    </tr>\n",
       "    <tr>\n",
       "      <th>9</th>\n",
       "      <td>2013 Hammer Nutrition Complex Carbohydrate Energy Gel - 12-Pack /SEP/ 2013 Hammer Nutrition Complex Carbohydrate Energy Gel - 12-Pack. Hammer Nutrition made the Complex Carbohydrate Energy Gel with natural ingredients and real fruit, so you won't have those unhealthy insulin-spike sugar highs. Instead, you get prolonged energy levels from the complex carbohydrates and amino acids in this Hammer Gel. The syrup-like consistency makes it easy to drink straight or add to your water. Unlike nutrition bars that freeze on your winter treks or melt during hot adventure races, the Complex Carbohydr...</td>\n",
       "      <td>453268,453277,510450,516828,520780,542684,634756</td>\n",
       "      <td>False</td>\n",
       "      <td>7</td>\n",
       "      <td>3</td>\n",
       "      <td>11</td>\n",
       "      <td>9.2</td>\n",
       "    </tr>\n",
       "  </tbody>\n",
       "</table>\n",
       "</div>"
      ],
      "text/plain": [
       "                                                                                                                                                                                                                                                                                                                                                                                                                                                                                                                                                                                                                      text  \\\n",
       "0  Methodical Bible study: A new approach to hermeneutics /SEP/ Methodical Bible study: A new approach to hermeneutics. Inductive study compares related Bible texts in order to let the Bible interpret itself, rather than approaching Scripture with predetermined notions of what it will say.  Dr. Trainas Methodical Bible Study was not intended to be the last word in inductive Bible study; but since its first publication in 1952, it has become a foundational text in this field.  Christian colleges and seminaries have made it required reading for beginning Bible students, while many churches have...   \n",
       "1                                                                                                                                                                                                                                                                                                                                                                                                 Southeastern Mills Roast Beef Gravy Mix, 4.5-Ounce Packages (Pack of 24) /SEP/ Southeastern Mills Roast Beef Gravy Mix, 4.5-Ounce Packages (Pack of 24). Makes 3-1/2 cups. Down home taste. Makes hearty beef stew base.   \n",
       "2  MMF Industries 24-Key Portable Zippered Key Case (201502417) /SEP/ MMF Industries 24-Key Portable Zippered Key Case (201502417). The MMF Industries 201502417 24-Key Portable Zippered Key Case is an attractive burgundy-colored leather-like vinyl case with brass corners and looks like a portfolio. Its easy-slide zipper keeps keys enclosed, and a hook-and-loop fastener strips keep keys securely in place. Key tags are included.\\tZippered key case offers a portable alternative to metal wall key cabinets. Included key tags are backed by hook-and-loop closures. Easy slide zipper keeps keys enclos...   \n",
       "3                                                                                                                                                                                                                                                                                                                                               Hoover the Fishing President /SEP/ Hoover the Fishing President. Hal Elliott Wert has spent years researching Herbert Hoover, Franklin Roosevelt, and Harry Truman. He holds a Ph.D. from the University of Kansas and currently teaches at the Kansas City Art Institute.   \n",
       "4  GeoPuzzle U.S.A. and Canada - Educational Geography Jigsaw Puzzle (69 pcs) /SEP/ GeoPuzzle U.S.A. and Canada - Educational Geography Jigsaw Puzzle (69 pcs). GeoPuzzles are jigsaw puzzles that make learning world geography fun. The pieces of a GeoPuzzle are shaped like individual countries, so children learn as they put the puzzle together. Award-winning Geopuzzles help to build fine motor, cognitive, language, and problem-solving skills, and are a great introduction to world geography for children 4 and up. Designed by an art professor, jumbo sized and brightly colored GeoPuzzles are avail...   \n",
       "5                                                                                                                                   Amazon.com: Paul Fredrick Men's Cotton Pinpoint Oxford Straight Collar Dress Shirt: Clothing /SEP/ Amazon.com: Paul Fredrick Men's Cotton Pinpoint Oxford Straight Collar Dress Shirt: Clothing. Pinpoint Oxford Cotton. Traditional Straight Collar, 1/4 Topstitched. Button Cuffs, 1/4 Topstitched. Embedded Collar Stay. Regular, Big and Tall. Top Center Placket. Split Yoke. Single Front Rounded Pocket. Machine Wash Or Dry Clean. Imported. * Big and Tall Sizes - addl $5.00   \n",
       "6  Darkest Fear : A Myron Bolitar Novel /SEP/ Darkest Fear : A Myron Bolitar Novel. Myron Bolitar's father's recent heart attack brings Myron smack into a midlife encounter with issues of adulthood and mortality. And if that's not enough to turn his life upside down, the reappearance of his first serious girlfriend is. The basketball star turned sports agent, who does a little detecting when business is slow, is saddened by the news that Emily Downing's 13-year-old son is dying and desperately needs a bone marrow transplant; even if she did leave him for the man who destroyed his basketball c...   \n",
       "7  In Debt We Trust (2007) /SEP/ In Debt We Trust (2007). Just a few decades ago, owing more money than you had in your  bank account was the exception, not the rule.  Yet, in the last 10 years,  consumer debt has doubled and, for the first time, Americans are spending  more than they're saving -- or making.  This April, award-winning former  ABC News and CNN producer Danny Schechter investigates America's mounting  debt crisis in his latest hard-hitting expose, IN DEBT WE TRUST.   While many Americans are \"maxing out\" on credit cards, there is a  much deeper story: power is shifting into few...   \n",
       "8  Craftsman 9-34740 32 Piece 1/4-3/8 Drive Standard/Metric Socket Wrench Set /SEP/ Craftsman 9-34740 32 Piece 1/4-3/8 Drive Standard/Metric Socket Wrench Set. Craftsman 9-34740 32 Pc. 1/4-3/8 Drive Standard/Metric Socket Wrench Set. The Craftsman 9-34740 32 Pc. 1/4-3/8 Drive Standard/Metric Socket Wrench Set includes 1/4 Inch Drive Sockets; 8 Six-Point Standard Sockets:9-43492 7/32-Inch, 9-43496 11/32,9-43493 1/4-Inch, 9-43497 3/8-Inch, 9-43494 9/32-Inch, 9-43498 7/16-Inch,9-43495 5/16-Inch, 9-43499 1/2-Inch; 7 Six-Point Metric Sockets:9-43505 4mm, 9-43504 8mm, 9-43501 5mm, 9-43507 9mm,9-435...   \n",
       "9  2013 Hammer Nutrition Complex Carbohydrate Energy Gel - 12-Pack /SEP/ 2013 Hammer Nutrition Complex Carbohydrate Energy Gel - 12-Pack. Hammer Nutrition made the Complex Carbohydrate Energy Gel with natural ingredients and real fruit, so you won't have those unhealthy insulin-spike sugar highs. Instead, you get prolonged energy levels from the complex carbohydrates and amino acids in this Hammer Gel. The syrup-like consistency makes it easy to drink straight or add to your water. Unlike nutrition bars that freeze on your winter treks or melt during hot adventure races, the Complex Carbohydr...   \n",
       "\n",
       "                                             labels  is_valid  label_count  \\\n",
       "0          34141,119299,126600,128716,187372,218742     False            6   \n",
       "1                              465536,465553,615429     False            3   \n",
       "2                                            393828     False            1   \n",
       "3                                     167614,223686     False            2   \n",
       "4         480528,480530,480532,485144,485146,598793     False            6   \n",
       "5                              516790,567615,670034     False            3   \n",
       "6              50442,50516,50647,50672,50680,662538     False            6   \n",
       "7  493095,499382,560691,589867,591343,611615,619231     False            7   \n",
       "8                                     590298,609038     False            2   \n",
       "9  453268,453277,510450,516828,520780,542684,634756     False            7   \n",
       "\n",
       "   min_code_freq  max_code_freq  90pct_code_freq  \n",
       "0              2             29             25.5  \n",
       "1              2              3              3.0  \n",
       "2              2              2              2.0  \n",
       "3              4              4              4.0  \n",
       "4              5             10              8.5  \n",
       "5            256           1214           1141.2  \n",
       "6              2              3              2.5  \n",
       "7              4             50             47.0  \n",
       "8              2              2              2.0  \n",
       "9              3             11              9.2  "
      ]
     },
     "execution_count": 70,
     "metadata": {},
     "output_type": "execute_result"
    }
   ],
   "source": [
    "df_copy.head(10)"
   ]
  },
  {
   "cell_type": "code",
   "execution_count": 92,
   "id": "63b368d8-9b78-44b7-83b1-55b9350c30c1",
   "metadata": {},
   "outputs": [],
   "source": [
    "df_copy['min_code_freq'] = df_copy.apply(\n",
    "    lambda row: min([lbl_freqs[lbl] for lbl in row.labels.split(',')]), axis=1)"
   ]
  },
  {
   "cell_type": "code",
   "execution_count": 93,
   "id": "5dfda215-baea-40f5-aaa6-365cc2c12816",
   "metadata": {},
   "outputs": [],
   "source": [
    "df_copy['max_code_freq'] = df_copy.apply(\n",
    "    lambda row: max([lbl_freqs[lbl] for lbl in row.labels.split(',')]), axis=1)"
   ]
  },
  {
   "cell_type": "code",
   "execution_count": 94,
   "id": "59f37236-c1b0-459e-9fa4-23ab9a520ee0",
   "metadata": {},
   "outputs": [],
   "source": [
    "df_copy['90pct_code_freq'] = df_copy.apply(\n",
    "    lambda row: np.percentile([lbl_freqs[lbl] for lbl in row.labels.split(',')], 90), axis=1)"
   ]
  },
  {
   "cell_type": "code",
   "execution_count": 95,
   "id": "8f0f2290-0a71-45ab-b378-019699a02a4e",
   "metadata": {},
   "outputs": [
    {
     "data": {
      "image/png": "[encoded data removed]",
      "text/plain": [
       "<Figure size 1440x1440 with 6 Axes>"
      ]
     },
     "metadata": {
      "needs_background": "light"
     },
     "output_type": "display_data"
    }
   ],
   "source": [
    "fig, axes = plt.subplots(nrows=3, ncols=2, figsize=(20,20))\n",
    "\n",
    "for freq, axis in zip(['min_code_freq', 'max_code_freq', '90pct_code_freq'], axes):\n",
    "    df_copy[freq].hist(ax=axis[0], bins=25)\n",
    "    axis[0].set_xlabel(freq)\n",
    "    axis[0].set_ylabel('Text Count')\n",
    "    df_copy[freq].plot.density(ax=axis[1])\n",
    "    axis[1].set_xlabel(freq)\n",
    "    "
   ]
  },
  {
   "cell_type": "code",
   "execution_count": 96,
   "id": "56145d70-0f65-499f-ace7-36c1a8e21b32",
   "metadata": {},
   "outputs": [],
   "source": [
    "min_code_freqs = Counter(df_copy['min_code_freq'])\n",
    "max_code_freqs = Counter(df_copy['max_code_freq'])\n",
    "nintypct_code_freqs = Counter(df_copy['90pct_code_freq'])"
   ]
  },
  {
   "cell_type": "code",
   "execution_count": 97,
   "id": "edafb421-df2e-48e2-a376-b20e5830143a",
   "metadata": {},
   "outputs": [
    {
     "data": {
      "text/plain": [
       "643474"
      ]
     },
     "execution_count": 97,
     "metadata": {},
     "output_type": "execute_result"
    }
   ],
   "source": [
    "total_notes = L(min_code_freqs.values()).sum()\n",
    "total_notes"
   ]
  },
  {
   "cell_type": "code",
   "execution_count": 98,
   "id": "8611757d-d58d-47a5-b9d7-166b09dadb89",
   "metadata": {},
   "outputs": [],
   "source": [
    "for kmin in min_code_freqs:\n",
    "    min_code_freqs[kmin] = (min_code_freqs[kmin]/total_notes) * 100\n",
    "    \n",
    "for kmax in max_code_freqs:\n",
    "    max_code_freqs[kmax] = (max_code_freqs[kmax]/total_notes) * 100\n",
    "    \n",
    "for k90pct in nintypct_code_freqs:\n",
    "    nintypct_code_freqs[k90pct] = (nintypct_code_freqs[k90pct]/total_notes) * 100"
   ]
  },
  {
   "cell_type": "code",
   "execution_count": 99,
   "id": "76c88c72-faef-4579-915d-fda715410952",
   "metadata": {},
   "outputs": [],
   "source": [
    "min_code_freqs = dict(sorted(min_code_freqs.items(), key=lambda item: item[0]))\n",
    "max_code_freqs = dict(sorted(max_code_freqs.items(), key=lambda item: item[0]))\n",
    "nintypct_code_freqs = dict(sorted(nintypct_code_freqs.items(), key=lambda item: item[0]))"
   ]
  },
  {
   "cell_type": "code",
   "execution_count": 100,
   "id": "d3642c3a-3e8a-4791-83b6-61d8a2dae5cf",
   "metadata": {},
   "outputs": [
    {
     "data": {
      "image/png": "[encoded data removed]",
      "text/plain": [
       "<Figure size 1440x1440 with 6 Axes>"
      ]
     },
     "metadata": {
      "needs_background": "light"
     },
     "output_type": "display_data"
    }
   ],
   "source": [
    "fig, axes = plt.subplots(nrows=3, ncols=2, figsize=(20,20))\n",
    "\n",
    "for axis, freq_dict, label in zip(axes, (min_code_freqs, max_code_freqs, nintypct_code_freqs), ('min', 'max', '90pct')):\n",
    "    axis[0].plot(freq_dict.keys(), freq_dict.values())\n",
    "    axis[0].set_xlabel(f\"{label} label freq (f)\")\n",
    "    axis[0].set_ylabel(\"% of texts (P[f])\");\n",
    "    \n",
    "    axis[1].plot(freq_dict.keys(), np.cumsum(list(freq_dict.values())))\n",
    "    axis[1].set_xlabel(f\"{label} code freq (f)\")\n",
    "    axis[1].set_ylabel(\"P[f<=t]\");"
   ]
  },
  {
   "cell_type": "markdown",
   "id": "dcf56be8-093f-4111-bb83-6bb554d29f59",
   "metadata": {
    "tags": []
   },
   "source": [
    "### Steps for creating the classifier `DataLoaders` using fastai's `Transforms`:"
   ]
  },
  {
   "cell_type": "markdown",
   "id": "b6244383-cd5a-41c9-b0e1-0023cd9be9a9",
   "metadata": {
    "jp-MarkdownHeadingCollapsed": true,
    "tags": []
   },
   "source": [
    "#### 1. train/valid `splitter`:"
   ]
  },
  {
   "cell_type": "markdown",
   "id": "d9c0dca9-5e1f-4ca9-82c5-9ebe66675798",
   "metadata": {},
   "source": [
    "Okay, based on the `is_valid` column of our Dataframe, let's create a splitter:"
   ]
  },
  {
   "cell_type": "code",
   "execution_count": 16,
   "id": "75d5f107-0dd9-488a-97ac-44fd174b4cae",
   "metadata": {},
   "outputs": [],
   "source": [
    "def splitter(df):\n",
    "    train = df.index[~df['is_valid']].tolist()\n",
    "    valid = df.index[df['is_valid']].to_list()\n",
    "    return train, valid"
   ]
  },
  {
   "cell_type": "markdown",
   "id": "99e790b0-42d1-4bbf-a4b2-b2dab4e78129",
   "metadata": {},
   "source": [
    "Let's check the train/valid split"
   ]
  },
  {
   "cell_type": "code",
   "execution_count": 17,
   "id": "2ae731a4-7874-46c4-a504-926fd6c3ca4d",
   "metadata": {},
   "outputs": [
    {
     "data": {
      "text/plain": [
       "((#1186239) [0,1,2,3,4,5,6,7,8,9...],\n",
       " (#306782) [1186239,1186240,1186241,1186242,1186243,1186244,1186245,1186246,1186247,1186248...])"
      ]
     },
     "execution_count": 17,
     "metadata": {},
     "output_type": "execute_result"
    }
   ],
   "source": [
    "splits = [train, valid] = splitter(df)\n",
    "L(splits[0]), L(splits[1])"
   ]
  },
  {
   "cell_type": "markdown",
   "id": "b6d8686d-6831-43e5-8550-6f7384f83098",
   "metadata": {
    "jp-MarkdownHeadingCollapsed": true,
    "tags": []
   },
   "source": [
    "#### 2. Making the `Datasets` object:"
   ]
  },
  {
   "cell_type": "markdown",
   "id": "0b2b71bb-ccd3-457a-bc0e-13698c327931",
   "metadata": {},
   "source": [
    "**Crucial:** We need the vocab of the language model so that we can make sure we use the same correspondence of token to index. Otherwise, the embeddings we learned in our fine-tuned language model won't make any sense to our classifier model, and the fine-tuning won't be of any use. So we need to pass the `lm_vocab` to the `Numericalize` transform:"
   ]
  },
  {
   "cell_type": "markdown",
   "id": "d1b3b1e4-8ae4-48e8-92e8-67bc6f44fd0c",
   "metadata": {},
   "source": [
    "So let's load the vocab of the language model:"
   ]
  },
  {
   "cell_type": "code",
   "execution_count": 18,
   "id": "e98ea891-3938-4144-b905-07e7154c4593",
   "metadata": {
    "tags": []
   },
   "outputs": [],
   "source": [
    "lm_vocab = torch.load(dls_lm_vocab_path)"
   ]
  },
  {
   "cell_type": "code",
   "execution_count": 19,
   "id": "1082cdb8-3e15-4d4f-bc9a-ebdb5324bfa2",
   "metadata": {
    "tags": []
   },
   "outputs": [
    {
     "data": {
      "text/plain": [
       "(#60008) ['xxunk','xxpad','xxbos','xxeos','xxfld','xxrep','xxwrep','xxup','xxmaj',','...]"
      ]
     },
     "execution_count": 19,
     "metadata": {},
     "output_type": "execute_result"
    }
   ],
   "source": [
    "L(lm_vocab)"
   ]
  },
  {
   "cell_type": "code",
   "execution_count": 20,
   "id": "74eb28bc-bd5e-423f-b339-62a7e2c7caf9",
   "metadata": {
    "tags": []
   },
   "outputs": [],
   "source": [
    "x_tfms = [Tokenizer.from_df('text'), attrgetter(\"text\"), Numericalize(vocab=lm_vocab)]\n",
    "y_tfms = [ColReader('labels', label_delim=','), MultiCategorize(vocab=lbls), OneHotEncode()]\n",
    "tfms = [x_tfms, y_tfms]"
   ]
  },
  {
   "cell_type": "code",
   "execution_count": 21,
   "id": "f5f6569a-29af-40a9-945c-d8bb94f569e4",
   "metadata": {
    "tags": []
   },
   "outputs": [
    {
     "data": {
      "text/html": [
       "\n",
       "<style>\n",
       "    /* Turns off some styling */\n",
       "    progress {\n",
       "        /* gets rid of default border in Firefox and Opera. */\n",
       "        border: none;\n",
       "        /* Needs to be in here for Safari polyfill so background images work as expected. */\n",
       "        background-size: auto;\n",
       "    }\n",
       "    .progress-bar-interrupted, .progress-bar-interrupted::-webkit-progress-bar {\n",
       "        background: #F44336;\n",
       "    }\n",
       "</style>\n"
      ],
      "text/plain": [
       "<IPython.core.display.HTML object>"
      ]
     },
     "metadata": {},
     "output_type": "display_data"
    },
    {
     "data": {
      "text/html": [],
      "text/plain": [
       "<IPython.core.display.HTML object>"
      ]
     },
     "metadata": {},
     "output_type": "display_data"
    }
   ],
   "source": [
    "dsets = Datasets(df, tfms, splits=splits)"
   ]
  },
  {
   "cell_type": "markdown",
   "id": "e3cbd8ec-d2da-4687-9439-25545eeb6792",
   "metadata": {},
   "source": [
    "Let's save the `dsets` so that later, depending on the GPU memory available to us, we can create `DataLoaders` with different batch sizes:"
   ]
  },
  {
   "cell_type": "code",
   "execution_count": 22,
   "id": "591f7ff6-8a8b-4b77-95b5-13f0725ea1c7",
   "metadata": {},
   "outputs": [],
   "source": [
    "torch.save(dsets, dsets_clas_path)"
   ]
  },
  {
   "cell_type": "markdown",
   "id": "2417bde0-457a-43da-9da0-73d2b3f0d8f3",
   "metadata": {},
   "source": [
    "Let's now check if our `Datasets` got created alright:"
   ]
  },
  {
   "cell_type": "code",
   "execution_count": 22,
   "id": "e44ebc4e-6176-4020-aad5-c1124e86a901",
   "metadata": {
    "tags": []
   },
   "outputs": [
    {
     "data": {
      "text/plain": [
       "(1186239, 306782)"
      ]
     },
     "execution_count": 22,
     "metadata": {},
     "output_type": "execute_result"
    }
   ],
   "source": [
    "len(dsets.train), len(dsets.valid)"
   ]
  },
  {
   "cell_type": "code",
   "execution_count": 23,
   "id": "c1dc4f8c-44e5-4e95-bd40-5f56ab201e35",
   "metadata": {
    "tags": []
   },
   "outputs": [],
   "source": [
    "x = dsets.train[0]"
   ]
  },
  {
   "cell_type": "code",
   "execution_count": 24,
   "id": "5a868865-af74-4f90-81dd-d9c8edf68783",
   "metadata": {
    "collapsed": true,
    "jupyter": {
     "outputs_hidden": true
    },
    "tags": []
   },
   "outputs": [
    {
     "data": {
      "text/plain": [
       "(\"xxbos xxmaj new xxmaj englanders on the xxmaj ohio xxmaj frontier : xxmaj migration and xxmaj settlement of xxmaj worthington , xxmaj ohio / xxup sep / xxmaj virginia xxup e. mccormick served on the faculties of xxmaj pennsylvania xxmaj state xxmaj university , xxmaj iowa xxmaj state xxmaj university , and , most recently , xxmaj ohio xxmaj state xxmaj university . xxmaj her previous books include xxmaj farm xxmaj wife : a xxmaj self xxmaj portrait , 1886 - 1896 and xxmaj xxunk xxmaj company xxmaj descendants : xxmaj genealogies of the xxmaj original xxmaj proprietors of xxmaj worthington , xxmaj ohio . / i > robert xxup w. mccormick is professor emeritus and former assistant vice president for continuing education at xxmaj ohio xxmaj state xxmaj university . xxmaj he is the author of xxmaj cockney : xxmaj the xxmaj story of the xxunk xxmaj armored xxmaj field xxmaj artillery xxmaj battalion in xxmaj world xxmaj war xxunk xxunk are coauthors of xxup a. xxup b. xxmaj graham : xxmaj country xxmaj schoolmaster and xxmaj extension xxmaj pioneer ; xxmaj worthington xxmaj landmarks : photo - essays of xxmaj historic xxmaj worthington xxmaj properties ; and xxmaj probing xxmaj worthington 's xxmaj heritage .\",\n",
       " (#7) ['38','401','1471','5878','7766','11367','12583'])"
      ]
     },
     "execution_count": 24,
     "metadata": {},
     "output_type": "execute_result"
    }
   ],
   "source": [
    "dsets.decode(x)"
   ]
  },
  {
   "cell_type": "code",
   "execution_count": 25,
   "id": "a6e9d8e2-d506-44cd-860b-1b6f95dcce6c",
   "metadata": {
    "collapsed": true,
    "jupyter": {
     "outputs_hidden": true
    },
    "tags": []
   },
   "outputs": [
    {
     "name": "stdout",
     "output_type": "stream",
     "text": [
      "xxbos xxmaj new xxmaj englanders on the xxmaj ohio xxmaj frontier : xxmaj migration and xxmaj settlement of xxmaj worthington , xxmaj ohio / xxup sep / xxmaj virginia xxup e. mccormick served on the faculties of xxmaj pennsylvania xxmaj state xxmaj university , xxmaj iowa xxmaj state xxmaj university , and , most recently , xxmaj ohio xxmaj state xxmaj university . xxmaj her previous books include xxmaj farm xxmaj wife : a xxmaj self xxmaj portrait , 1886 - 1896 and xxmaj xxunk xxmaj company xxmaj descendants : xxmaj genealogies of the xxmaj original xxmaj proprietors of xxmaj worthington , xxmaj ohio . / i > robert xxup w. mccormick is professor emeritus and former assistant vice president for continuing education at xxmaj ohio xxmaj state xxmaj university . xxmaj he is the author of xxmaj cockney : xxmaj the xxmaj story of the xxunk xxmaj armored xxmaj field xxmaj artillery xxmaj battalion in xxmaj world xxmaj war xxunk xxunk are coauthors of xxup a. xxup b. xxmaj graham : xxmaj country xxmaj schoolmaster and xxmaj extension xxmaj pioneer ; xxmaj worthington xxmaj landmarks : photo - essays of xxmaj historic xxmaj worthington xxmaj properties ; and xxmaj probing xxmaj worthington 's xxmaj heritage .\n",
      "38;401;1471;5878;7766;11367;12583\n"
     ]
    }
   ],
   "source": [
    "dsets.show(x)"
   ]
  },
  {
   "cell_type": "markdown",
   "id": "d511d10d-93d1-4e81-b22c-2309d3edc9fc",
   "metadata": {},
   "source": [
    "Looks fine!"
   ]
  },
  {
   "cell_type": "markdown",
   "id": "cb7cb5ed-8de9-4d08-adb1-434f57e5d54d",
   "metadata": {
    "jp-MarkdownHeadingCollapsed": true,
    "tags": []
   },
   "source": [
    "#### 3. Making the `DataLoaders` object:"
   ]
  },
  {
   "cell_type": "markdown",
   "id": "f7654cb8-182f-425d-8824-9ba5eeae130b",
   "metadata": {},
   "source": [
    "Let's load up the `dsets` created in the previous step:"
   ]
  },
  {
   "cell_type": "code",
   "execution_count": 6,
   "id": "acfdb2d8-85c5-4dec-8c4d-f3a696e4fc72",
   "metadata": {},
   "outputs": [],
   "source": [
    "dsets = torch.load(dsets_clas_path)"
   ]
  },
  {
   "cell_type": "markdown",
   "id": "e112f6b9-8443-41dd-a0d6-8e896a550d20",
   "metadata": {},
   "source": [
    "We need to pick the sequence length and the batch size:"
   ]
  },
  {
   "cell_type": "code",
   "execution_count": 7,
   "id": "c35799df-306f-4378-9142-5bc088696b4b",
   "metadata": {},
   "outputs": [],
   "source": [
    "bs, sl = 32, 72"
   ]
  },
  {
   "cell_type": "markdown",
   "id": "b1cdefaa-3c2a-4261-826b-44c38dc2f70a",
   "metadata": {},
   "source": [
    "We will use the `dl_type` argument of the `DataLoaders`. The purpose is to tell `DataLoaders` to use `SortedDL` class of the `DataLoader`, and not the usual one. `SortedDL` constructs batches by putting samples of roughly the same lengths into batches."
   ]
  },
  {
   "cell_type": "code",
   "execution_count": 8,
   "id": "bb267f33-0791-4e92-a6f3-af010850a4d8",
   "metadata": {},
   "outputs": [],
   "source": [
    "dl_type = partial(SortedDL, shuffle=True)"
   ]
  },
  {
   "cell_type": "markdown",
   "id": "1fbc0ace-f2d0-46bd-a375-2d561430d211",
   "metadata": {},
   "source": [
    "**Crucial:** \n",
    "- We will use **`pad_input_chunk`** because our encoder `AWD_LSTM` will be wrapped inside `SentenceEncoder`. \n",
    "- A `SenetenceEncoder` expects that all the documents are padded, \n",
    "- with most of the padding at the beginning of the document, with each sequence beginning at a round multiple of bptt\n",
    "- and the rest of the padding at the end."
   ]
  },
  {
   "cell_type": "code",
   "execution_count": 9,
   "id": "236e0d09-1b02-464b-9c73-b667ca1cda42",
   "metadata": {},
   "outputs": [],
   "source": [
    "dls_clas = dsets.dataloaders(bs=bs, seq_len=sl, \n",
    "                        dl_type=dl_type,\n",
    "                       before_batch=pad_input_chunk)"
   ]
  },
  {
   "cell_type": "markdown",
   "id": "763bcbcf-cca0-4a20-8066-08409f5d218d",
   "metadata": {},
   "source": [
    "Creating the `DataLoaders` object takes considerable amount of time, so let's save it:"
   ]
  },
  {
   "cell_type": "code",
   "execution_count": 10,
   "id": "c110a625-4702-448e-b51a-8d4ceb5a535b",
   "metadata": {
    "tags": []
   },
   "outputs": [],
   "source": [
    "torch.save(dls_clas, dls_clas_path)\n",
    "# torch.save(dls_clas, dls_clas_sample_path)"
   ]
  },
  {
   "cell_type": "markdown",
   "id": "27a284d5-942c-438d-ac43-99bed602ca31",
   "metadata": {},
   "source": [
    "Let's take a look at the data:"
   ]
  },
  {
   "cell_type": "code",
   "execution_count": 11,
   "id": "9f8365e5-7b0f-461f-bc21-90014c81e3b7",
   "metadata": {
    "collapsed": true,
    "jupyter": {
     "outputs_hidden": true
    },
    "tags": []
   },
   "outputs": [
    {
     "name": "stderr",
     "output_type": "stream",
     "text": [
      "/home/deb/miniconda3/lib/python3.9/site-packages/fastai/torch_core.py:476: FutureWarning: The series.append method is deprecated and will be removed from pandas in a future version. Use pandas.concat instead.\n",
      "  ax = ax.append(pd.Series({label: o}))\n",
      "/home/deb/miniconda3/lib/python3.9/site-packages/fastai/torch_core.py:476: FutureWarning: The series.append method is deprecated and will be removed from pandas in a future version. Use pandas.concat instead.\n",
      "  ax = ax.append(pd.Series({label: o}))\n",
      "/home/deb/miniconda3/lib/python3.9/site-packages/fastai/torch_core.py:476: FutureWarning: The series.append method is deprecated and will be removed from pandas in a future version. Use pandas.concat instead.\n",
      "  ax = ax.append(pd.Series({label: o}))\n",
      "/home/deb/miniconda3/lib/python3.9/site-packages/fastai/torch_core.py:476: FutureWarning: The series.append method is deprecated and will be removed from pandas in a future version. Use pandas.concat instead.\n",
      "  ax = ax.append(pd.Series({label: o}))\n",
      "/home/deb/miniconda3/lib/python3.9/site-packages/fastai/torch_core.py:476: FutureWarning: The series.append method is deprecated and will be removed from pandas in a future version. Use pandas.concat instead.\n",
      "  ax = ax.append(pd.Series({label: o}))\n",
      "/home/deb/miniconda3/lib/python3.9/site-packages/fastai/torch_core.py:476: FutureWarning: The series.append method is deprecated and will be removed from pandas in a future version. Use pandas.concat instead.\n",
      "  ax = ax.append(pd.Series({label: o}))\n"
     ]
    },
    {
     "data": {
      "text/html": [
       "<table border=\"1\" class=\"dataframe\">\n",
       "  <thead>\n",
       "    <tr style=\"text-align: right;\">\n",
       "      <th></th>\n",
       "      <th>text</th>\n",
       "      <th>None</th>\n",
       "    </tr>\n",
       "  </thead>\n",
       "  <tbody>\n",
       "    <tr>\n",
       "      <th>0</th>\n",
       "      <td>xxbos xxmaj norton xxmaj anthology of xxmaj poetry / xxup sep / xxmaj the xxmaj ex - queen xxmaj among xxmaj the xxmaj astronomers by xxmaj karen xxmaj fleur xxmaj xxunk xxmaj poem xxmaj ended xxmaj by xxmaj death by xxmaj karen xxmaj fleur xxmaj xxunk xxmaj the xxmaj soho xxmaj hospital xxmaj for xxmaj women by xxmaj karen xxmaj fleur xxmaj xxunk xxmaj xxunk : a xxmaj biography : 2 . xxmaj his xxmaj futile xxmaj preoccupations by xxmaj conrad xxmaj aiken xxmaj the xxmaj xxunk xxmaj xxunk by xxmaj xxunk xxmaj shahid xxmaj ali i xxmaj see xxmaj chile xxmaj in xxmaj my xxmaj rearview xxmaj mirror by xxmaj xxunk xxmaj shahid xxmaj ali i xxmaj see xxmaj chile xxmaj in xxmaj my xxmaj rearview xxmaj mirror by xxmaj xxunk xxmaj shahid xxmaj ali xxmaj the xxmaj arc xxmaj inside xxmaj and xxmaj out ; xxmaj for xxmaj</td>\n",
       "      <td>1471;7083;7081;8108;12630;6093;1648;464;9152;4246</td>\n",
       "    </tr>\n",
       "    <tr>\n",
       "      <th>1</th>\n",
       "      <td>xxpad xxpad xxpad xxpad xxpad xxpad xxpad xxpad xxpad xxpad xxpad xxpad xxpad xxpad xxpad xxpad xxpad xxpad xxpad xxpad xxpad xxpad xxpad xxpad xxpad xxpad xxpad xxpad xxpad xxpad xxpad xxpad xxpad xxpad xxpad xxpad xxpad xxpad xxpad xxpad xxpad xxpad xxpad xxpad xxpad xxpad xxpad xxpad xxpad xxpad xxpad xxpad xxpad xxpad xxpad xxpad xxpad xxpad xxpad xxpad xxpad xxpad xxpad xxpad xxpad xxpad xxpad xxpad xxpad xxpad xxpad xxpad xxpad xxpad xxpad xxpad xxpad xxpad xxpad xxpad xxpad xxpad xxpad xxpad xxpad xxpad xxpad xxpad xxpad xxpad xxpad xxpad xxpad xxpad xxpad xxpad xxpad xxpad xxpad xxpad xxpad xxpad xxpad xxpad xxpad xxpad xxpad xxpad xxpad xxpad xxpad xxpad xxpad xxpad xxpad xxpad xxpad xxpad xxpad xxpad xxpad xxpad xxpad xxpad xxpad xxpad xxpad xxpad xxpad xxpad xxpad xxpad xxpad xxpad xxpad xxpad xxpad xxpad xxpad xxpad xxpad xxpad xxpad xxpad xxpad xxpad xxpad xxpad xxpad xxpad</td>\n",
       "      <td>1471;9202;1274;10994;13199;12444;12445;615;702;11164;7956;12797</td>\n",
       "    </tr>\n",
       "    <tr>\n",
       "      <th>2</th>\n",
       "      <td>xxpad xxpad xxpad xxpad xxpad xxpad xxpad xxpad xxpad xxpad xxpad xxpad xxpad xxpad xxpad xxpad xxpad xxpad xxpad xxpad xxpad xxpad xxpad xxpad xxpad xxpad xxpad xxpad xxpad xxpad xxpad xxpad xxpad xxpad xxpad xxpad xxpad xxpad xxpad xxpad xxpad xxpad xxpad xxpad xxpad xxpad xxpad xxpad xxpad xxpad xxpad xxpad xxpad xxpad xxpad xxpad xxpad xxpad xxpad xxpad xxpad xxpad xxpad xxpad xxpad xxpad xxpad xxpad xxpad xxpad xxpad xxpad xxpad xxpad xxpad xxpad xxpad xxpad xxpad xxpad xxpad xxpad xxpad xxpad xxpad xxpad xxpad xxpad xxpad xxpad xxpad xxpad xxpad xxpad xxpad xxpad xxpad xxpad xxpad xxpad xxpad xxpad xxpad xxpad xxpad xxpad xxpad xxpad xxpad xxpad xxpad xxpad xxpad xxpad xxpad xxpad xxpad xxpad xxpad xxpad xxpad xxpad xxpad xxpad xxpad xxpad xxpad xxpad xxpad xxpad xxpad xxpad xxpad xxpad xxpad xxpad xxpad xxpad xxpad xxpad xxpad xxpad xxpad xxpad xxpad xxpad xxpad xxpad xxpad xxpad</td>\n",
       "      <td>1471;7083;2501;10701;10787</td>\n",
       "    </tr>\n",
       "  </tbody>\n",
       "</table>"
      ],
      "text/plain": [
       "<IPython.core.display.HTML object>"
      ]
     },
     "metadata": {},
     "output_type": "display_data"
    }
   ],
   "source": [
    "dls_clas.show_batch(max_n=3)"
   ]
  },
  {
   "cell_type": "markdown",
   "id": "b93e17b0-0752-4959-9bd9-f0ee0290043d",
   "metadata": {
    "jp-MarkdownHeadingCollapsed": true,
    "tags": []
   },
   "source": [
    "## `Learner` for Multi-Label Classifier Fine-Tuning "
   ]
  },
  {
   "cell_type": "code",
   "execution_count": 6,
   "id": "261991a0-1fc1-41a6-a987-d62b80f194ff",
   "metadata": {},
   "outputs": [],
   "source": [
    "dls_clas = torch.load(dls_clas_path)\n",
    "# dls_clas = torch.load(dls_clas_sample_path)"
   ]
  },
  {
   "cell_type": "code",
   "execution_count": 7,
   "id": "7cfc7442-da94-422b-9663-aa8acb554964",
   "metadata": {
    "tags": []
   },
   "outputs": [],
   "source": [
    "learn = text_classifier_learner(dls_clas, AWD_LSTM, drop_mult=0.1, max_len=72*20, metrics=partial(PrecisionK, k=5)).to_fp16()"
   ]
  },
  {
   "cell_type": "code",
   "execution_count": 9,
   "id": "184f2123-1bee-440a-82b3-e4c70f5cd414",
   "metadata": {},
   "outputs": [],
   "source": [
    "# learn.model[-1]"
   ]
  },
  {
   "cell_type": "code",
   "execution_count": 14,
   "id": "d406a06f-5c66-4117-b0b8-dd7c0fa06169",
   "metadata": {},
   "outputs": [],
   "source": [
    "learn = learn.load_encoder(file_prefix+'_lm_finetuned')"
   ]
  },
  {
   "cell_type": "markdown",
   "id": "cf62e68a-e452-4abd-a0f3-72f1c1d4357d",
   "metadata": {
    "jp-MarkdownHeadingCollapsed": true,
    "tags": []
   },
   "source": [
    "## Fine-Tuning the Classifier "
   ]
  },
  {
   "cell_type": "markdown",
   "id": "a8063f01-60f2-4258-901e-e105853c9345",
   "metadata": {},
   "source": [
    "The last step (yes, the madness will end soon) is to train with:\n",
    "- *discriminative learning rates*: define here\n",
    "- *gradual unfreezing*: define here"
   ]
  },
  {
   "cell_type": "code",
   "execution_count": 15,
   "id": "7e1d1399-1800-419e-8640-2d3478189f3b",
   "metadata": {
    "collapsed": true,
    "jupyter": {
     "outputs_hidden": true
    },
    "tags": []
   },
   "outputs": [
    {
     "data": {
      "text/html": [
       "\n",
       "<style>\n",
       "    /* Turns off some styling */\n",
       "    progress {\n",
       "        /* gets rid of default border in Firefox and Opera. */\n",
       "        border: none;\n",
       "        /* Needs to be in here for Safari polyfill so background images work as expected. */\n",
       "        background-size: auto;\n",
       "    }\n",
       "    .progress-bar-interrupted, .progress-bar-interrupted::-webkit-progress-bar {\n",
       "        background: #F44336;\n",
       "    }\n",
       "</style>\n"
      ],
      "text/plain": [
       "<IPython.core.display.HTML object>"
      ]
     },
     "metadata": {},
     "output_type": "display_data"
    },
    {
     "data": {
      "text/html": [],
      "text/plain": [
       "<IPython.core.display.HTML object>"
      ]
     },
     "metadata": {},
     "output_type": "display_data"
    },
    {
     "data": {
      "text/plain": [
       "(0.2290867567062378,\n",
       " 0.010964781977236271,\n",
       " 0.001737800776027143,\n",
       " 0.12022644281387329)"
      ]
     },
     "execution_count": 15,
     "metadata": {},
     "output_type": "execute_result"
    },
    {
     "data": {
      "image/png": "[encoded data removed]",
      "text/plain": [
       "<Figure size 432x288 with 1 Axes>"
      ]
     },
     "metadata": {
      "needs_background": "light"
     },
     "output_type": "display_data"
    }
   ],
   "source": [
    "lr_min, lr_steep, lr_valley, lr_slide = learn.lr_find(suggest_funcs=(minimum, steep, valley, slide))\n",
    "lr_min, lr_steep, lr_valley, lr_slide"
   ]
  },
  {
   "cell_type": "code",
   "execution_count": 16,
   "id": "7e36503a-e04b-4c4b-8449-b50fb18ebe44",
   "metadata": {},
   "outputs": [
    {
     "data": {
      "text/html": [
       "\n",
       "<style>\n",
       "    /* Turns off some styling */\n",
       "    progress {\n",
       "        /* gets rid of default border in Firefox and Opera. */\n",
       "        border: none;\n",
       "        /* Needs to be in here for Safari polyfill so background images work as expected. */\n",
       "        background-size: auto;\n",
       "    }\n",
       "    .progress-bar-interrupted, .progress-bar-interrupted::-webkit-progress-bar {\n",
       "        background: #F44336;\n",
       "    }\n",
       "</style>\n"
      ],
      "text/plain": [
       "<IPython.core.display.HTML object>"
      ]
     },
     "metadata": {},
     "output_type": "display_data"
    },
    {
     "data": {
      "text/html": [
       "<table border=\"1\" class=\"dataframe\">\n",
       "  <thead>\n",
       "    <tr style=\"text-align: left;\">\n",
       "      <th>epoch</th>\n",
       "      <th>train_loss</th>\n",
       "      <th>valid_loss</th>\n",
       "      <th>PrecisionK</th>\n",
       "      <th>time</th>\n",
       "    </tr>\n",
       "  </thead>\n",
       "  <tbody>\n",
       "    <tr>\n",
       "      <td>0</td>\n",
       "      <td>0.001156</td>\n",
       "      <td>0.001162</td>\n",
       "      <td>0.541494</td>\n",
       "      <td>4:21:36</td>\n",
       "    </tr>\n",
       "  </tbody>\n",
       "</table>"
      ],
      "text/plain": [
       "<IPython.core.display.HTML object>"
      ]
     },
     "metadata": {},
     "output_type": "display_data"
    }
   ],
   "source": [
    "learn.fit_one_cycle(1, lr_max=lr_min, moms=(0.8,0.7,0.8), wd=0.1)"
   ]
  },
  {
   "cell_type": "markdown",
   "id": "4a8f7ca7-d7ab-4e3e-9001-c0ce0837c219",
   "metadata": {},
   "source": [
    "This was the result after just three epochs. Now let's unfreeze the last two layers and do discriminative training:  \n",
    "\n",
    "Now we will pass -2 to `freeze_to` to freeze all except the last two parameter groups:"
   ]
  },
  {
   "cell_type": "code",
   "execution_count": 9,
   "id": "ddcbd746-172f-41f9-b8fd-5b8cdeae0225",
   "metadata": {},
   "outputs": [],
   "source": [
    "learn.freeze_to(-2)"
   ]
  },
  {
   "cell_type": "code",
   "execution_count": null,
   "id": "dac15199-2b50-4016-b664-3de6666fb5b8",
   "metadata": {},
   "outputs": [],
   "source": [
    "learn.fit_one_cycle(1, lr_max=0.02, moms=(0.8,0.7,0.8), wd=0.1, \n",
    "                    cbs=SaveModelCallback(fname=file_prefix+'_clas'))"
   ]
  },
  {
   "cell_type": "markdown",
   "id": "29a4f5ad-cb46-4864-ac5d-aa566b7aa425",
   "metadata": {},
   "source": [
    "Now we will unfreeze a bit more, recompute learning rate and continue training:"
   ]
  },
  {
   "cell_type": "code",
   "execution_count": null,
   "id": "e20669b7-b27f-40bd-9ecb-e218071306bc",
   "metadata": {},
   "outputs": [],
   "source": [
    "learn.freeze_to(-3)"
   ]
  },
  {
   "cell_type": "code",
   "execution_count": null,
   "id": "cae12306-8427-488e-9546-a614428d5c40",
   "metadata": {},
   "outputs": [],
   "source": [
    "learn.fit_one_cycle(10, lr_max=1e-3, moms=(0.8,0.7,0.8), wd=0.2,\n",
    "                   cbs=SaveModelCallback(fname='clas'))"
   ]
  },
  {
   "cell_type": "markdown",
   "id": "4791f37a-12fa-43d2-a698-4847c6d0bd1b",
   "metadata": {},
   "source": [
    "Finally, we will unfreeze the whole model and perform training:"
   ]
  },
  {
   "cell_type": "code",
   "execution_count": null,
   "id": "2150b0ae-aab7-4e84-84b8-259328547857",
   "metadata": {},
   "outputs": [],
   "source": [
    "learn.unfreeze()"
   ]
  },
  {
   "cell_type": "code",
   "execution_count": null,
   "id": "0e1b8599-e6a5-4805-8bdf-2249de59ce22",
   "metadata": {},
   "outputs": [],
   "source": [
    "learn.fit_one_cycle(5, lr_max=1e-3, moms=(0.8,0.7,0.8), wd=0.2,\n",
    "                   cbs=SaveModelCallback(fname='clas'))"
   ]
  },
  {
   "cell_type": "markdown",
   "id": "5465da25-2ca6-441b-8e4b-06c2c6890d14",
   "metadata": {},
   "source": [
    "To save the model:"
   ]
  },
  {
   "cell_type": "code",
   "execution_count": 17,
   "id": "5b820451-b8ec-4228-b576-2ac7f966ecb3",
   "metadata": {},
   "outputs": [
    {
     "data": {
      "text/plain": [
       "Path('models/amazoncat-13k_clas.pth')"
      ]
     },
     "execution_count": 17,
     "metadata": {},
     "output_type": "execute_result"
    }
   ],
   "source": [
    "learn.save(file_prefix+'_clas')"
   ]
  },
  {
   "cell_type": "markdown",
   "id": "5551b207-8041-432b-85cd-cb538e116f80",
   "metadata": {},
   "source": [
    "To load the model:"
   ]
  },
  {
   "cell_type": "code",
   "execution_count": 8,
   "id": "3fc4172b-5598-41c3-9e82-a99dae0b44d8",
   "metadata": {},
   "outputs": [],
   "source": [
    "learn = learn.load(file_prefix+'_clas')"
   ]
  },
  {
   "cell_type": "markdown",
   "id": "b455f24b-b86f-4893-82b7-17d8efa976a1",
   "metadata": {},
   "source": [
    "And, to validate it:"
   ]
  },
  {
   "cell_type": "code",
   "execution_count": 10,
   "id": "acd421ee-9012-4b85-a909-940f6a8d1925",
   "metadata": {},
   "outputs": [
    {
     "data": {
      "text/html": [
       "\n",
       "<style>\n",
       "    /* Turns off some styling */\n",
       "    progress {\n",
       "        /* gets rid of default border in Firefox and Opera. */\n",
       "        border: none;\n",
       "        /* Needs to be in here for Safari polyfill so background images work as expected. */\n",
       "        background-size: auto;\n",
       "    }\n",
       "    .progress-bar-interrupted, .progress-bar-interrupted::-webkit-progress-bar {\n",
       "        background: #F44336;\n",
       "    }\n",
       "</style>\n"
      ],
      "text/plain": [
       "<IPython.core.display.HTML object>"
      ]
     },
     "metadata": {},
     "output_type": "display_data"
    },
    {
     "data": {
      "text/html": [],
      "text/plain": [
       "<IPython.core.display.HTML object>"
      ]
     },
     "metadata": {},
     "output_type": "display_data"
    },
    {
     "data": {
      "text/plain": [
       "(#2) [0.0012538068694993854,0.513959749920138]"
      ]
     },
     "execution_count": 10,
     "metadata": {},
     "output_type": "execute_result"
    }
   ],
   "source": [
    "learn.validate()"
   ]
  },
  {
   "cell_type": "markdown",
   "id": "dc5ffc09-3bd5-44a2-8b97-0e9a0aa6f322",
   "metadata": {},
   "source": [
    "To plot the train/valid loss and the metric over the course of training:"
   ]
  },
  {
   "cell_type": "code",
   "execution_count": null,
   "id": "729f6d5c-eeb3-4b9d-9717-4faa2c6bb046",
   "metadata": {},
   "outputs": [],
   "source": [
    "learn.recorder.plot_loss()"
   ]
  },
  {
   "cell_type": "code",
   "execution_count": null,
   "id": "56e6a6be-2279-429d-a09a-5414e5b788a1",
   "metadata": {},
   "outputs": [],
   "source": [
    "plt.plot(L(learn.recorder.values).itemgot(2));"
   ]
  }
 ],
 "metadata": {
  "kernelspec": {
   "display_name": "Python 3 (ipykernel)",
   "language": "python",
   "name": "python3"
  },
  "language_info": {
   "codemirror_mode": {
    "name": "ipython",
    "version": 3
   },
   "file_extension": ".py",
   "mimetype": "text/x-python",
   "name": "python",
   "nbconvert_exporter": "python",
   "pygments_lexer": "ipython3",
   "version": "3.9.12"
  }
 },
 "nbformat": 4,
 "nbformat_minor": 5
}
