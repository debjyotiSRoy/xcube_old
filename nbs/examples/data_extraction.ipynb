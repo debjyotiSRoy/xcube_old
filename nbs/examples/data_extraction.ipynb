{
 "cells": [
  {
   "cell_type": "raw",
   "metadata": {},
   "source": [
    "---\n",
    "output-file: data_extraction.html\n",
    "title: Data Extraction\n",
    "\n",
    "---\n",
    "\n"
   ]
  },
  {
   "cell_type": "code",
   "execution_count": null,
   "id": "ee17cd6b-3b44-4c85-88fe-be43a0c5b665",
   "metadata": {},
   "outputs": [],
   "source": [
    "!pip install -Uqq fastbook\n",
    "import fastbook\n",
    "fastbook.setup_book()"
   ]
  },
  {
   "cell_type": "code",
   "execution_count": null,
   "id": "ff5aa645-c88f-432d-b55f-95cd157a7870",
   "metadata": {},
   "outputs": [],
   "source": [
    "from fastbook import *\n",
    "\n",
    "pd.options.display.max_rows = 20\n",
    "pd.options.display.max_columns = 8"
   ]
  },
  {
   "cell_type": "code",
   "execution_count": null,
   "id": "4b21ebe4-9b70-4538-a761-42dc41dff23f",
   "metadata": {},
   "outputs": [
    {
     "data": {
      "text/plain": [
       "Path('/home/user/xcube/nbs/examples/amazon-3m/data')"
      ]
     },
     "execution_count": null,
     "metadata": {},
     "output_type": "execute_result"
    }
   ],
   "source": [
    "path = Path.cwd()/'data'\n",
    "path"
   ]
  },
  {
   "cell_type": "code",
   "execution_count": null,
   "id": "0d2f4501-3cc6-451e-bacf-04800270281c",
   "metadata": {},
   "outputs": [
    {
     "name": "stdout",
     "output_type": "stream",
     "text": [
      "test_labels.txt     train_labels.txt\t train_v1.txt\n",
      "test_raw_texts.txt  train_raw_texts.txt\n"
     ]
    }
   ],
   "source": [
    "!ls {path}"
   ]
  },
  {
   "cell_type": "code",
   "execution_count": null,
   "id": "bf38bfd9-3877-43f3-b921-b07f9f17d0e6",
   "metadata": {},
   "outputs": [
    {
     "name": "stdout",
     "output_type": "stream",
     "text": [
      "1717899 /home/user/xcube/nbs/examples/amazon-3m/data/train_raw_texts.txt\n",
      "742507 /home/user/xcube/nbs/examples/amazon-3m/data/test_raw_texts.txt\n"
     ]
    }
   ],
   "source": [
    "!wc -l {path/'train_raw_texts.txt'}\n",
    "!wc -l {path/'test_raw_texts.txt'} "
   ]
  },
  {
   "cell_type": "markdown",
   "id": "def40795-ed9d-4626-b7d6-5a2b869c1b4b",
   "metadata": {},
   "source": [
    "---"
   ]
  },
  {
   "cell_type": "code",
   "execution_count": null,
   "id": "ec8c0402-cf0a-4aaf-bb64-95b16869a367",
   "metadata": {},
   "outputs": [],
   "source": [
    "with open(path/'train_raw_texts.txt', 'r') as f, open(path/'train_labels.txt') as g: \n",
    "    txts_train = L(txt.strip() for txt in f.readlines())\n",
    "    lbls_train = L(lbl.strip().replace(' ', ',') for lbl in g.readlines())"
   ]
  },
  {
   "cell_type": "code",
   "execution_count": null,
   "id": "7797fb37-c653-4fb7-ada8-9ee0cbf217bc",
   "metadata": {},
   "outputs": [],
   "source": [
    "with open(path/'test_raw_texts.txt', 'r') as f, open(path/'test_labels.txt') as g: \n",
    "    txts_test = L(txt.strip() for txt in f.readlines())\n",
    "    lbls_test = L(lbl.strip().replace(' ', ',') for lbl in g.readlines())"
   ]
  },
  {
   "cell_type": "code",
   "execution_count": null,
   "id": "ed4d7914-920d-45ac-a574-9e3339ba61f9",
   "metadata": {},
   "outputs": [
    {
     "data": {
      "text/plain": [
       "(1717899, 1717899, 742507, 742507)"
      ]
     },
     "execution_count": null,
     "metadata": {},
     "output_type": "execute_result"
    }
   ],
   "source": [
    "len(txts_train), len(lbls_train), len(txts_test), len(lbls_test)"
   ]
  },
  {
   "cell_type": "code",
   "execution_count": null,
   "id": "1bc682c5-5fc7-4767-aec0-8038e1943240",
   "metadata": {},
   "outputs": [
    {
     "data": {
      "text/plain": [
       "Path('/home/user/xcube/nbs/examples/amazon-3m/data/amazon-3m.csv')"
      ]
     },
     "execution_count": null,
     "metadata": {},
     "output_type": "execute_result"
    }
   ],
   "source": [
    "fname = path/('amazon-3m' + '.csv')\n",
    "fname"
   ]
  },
  {
   "cell_type": "code",
   "execution_count": null,
   "id": "985ee32e-dd05-46aa-be65-18d69f7ee12c",
   "metadata": {},
   "outputs": [],
   "source": [
    "with open(fname, 'w', newline='') as csvfile:\n",
    "    fieldnames = ['text', 'labels', 'is_valid']\n",
    "    writer = csv.DictWriter(csvfile, fieldnames=fieldnames)\n",
    "    writer.writeheader()\n",
    "    for txt, lbl in zip(txts_train, lbls_train):\n",
    "        writer.writerow({'text': txt, 'labels': lbl, 'is_valid': False})\n",
    "    for txt, lbl in zip(txts_test, lbls_test):\n",
    "        writer.writerow({'text': txt, 'labels': lbl, 'is_valid': True})"
   ]
  },
  {
   "cell_type": "code",
   "execution_count": null,
   "id": "e20832e5-b885-4ae5-80c9-f45991e42c3f",
   "metadata": {},
   "outputs": [],
   "source": [
    "df = pd.read_csv(fname)"
   ]
  },
  {
   "cell_type": "code",
   "execution_count": null,
   "id": "87be4bf8-1cac-4fec-8979-a5b01fc6202c",
   "metadata": {},
   "outputs": [
    {
     "data": {
      "text/plain": [
       "2460406"
      ]
     },
     "execution_count": null,
     "metadata": {},
     "output_type": "execute_result"
    }
   ],
   "source": [
    "len(df)"
   ]
  },
  {
   "cell_type": "code",
   "execution_count": null,
   "id": "31cb0a7c-7b00-42c7-8ddc-25f4c8b816e5",
   "metadata": {},
   "outputs": [
    {
     "data": {
      "text/html": [
       "<div>\n",
       "<style scoped>\n",
       "    .dataframe tbody tr th:only-of-type {\n",
       "        vertical-align: middle;\n",
       "    }\n",
       "\n",
       "    .dataframe tbody tr th {\n",
       "        vertical-align: top;\n",
       "    }\n",
       "\n",
       "    .dataframe thead th {\n",
       "        text-align: right;\n",
       "    }\n",
       "</style>\n",
       "<table border=\"1\" class=\"dataframe\">\n",
       "  <thead>\n",
       "    <tr style=\"text-align: right;\">\n",
       "      <th></th>\n",
       "      <th>text</th>\n",
       "      <th>labels</th>\n",
       "      <th>is_valid</th>\n",
       "    </tr>\n",
       "  </thead>\n",
       "  <tbody>\n",
       "    <tr>\n",
       "      <th>0</th>\n",
       "      <td>Girls Ballet Tutu Neon Pink  /SEP/  High quality 3 layer ballet tutu. 12 inches in length</td>\n",
       "      <td>0,1,192406,1327309,1371116,1371888,1461720,1476259,1509175,1509181,1509182,1535940,1578041,1578155,1604047,1604766,1615188,1969579,2030361,2186983,2186984,2191027,2227069,2342392,2514733,2515122,2515192,2515198,2515203,2516838,2516839,2775528</td>\n",
       "      <td>False</td>\n",
       "    </tr>\n",
       "    <tr>\n",
       "      <th>1</th>\n",
       "      <td>My Fair Pastry (Good Eats Vol. 9)  /SEP/  Disc 1: Flour Power (Scones; Shortcakes; Southern Biscuits; Salmon Turnovers; Fruit Tart; Funnel Cake; Sweet or Savory; Pte  Choux) Disc 2: Super Sweets 4 (Banana Spitsville; Burned Peach Ice Cream; Chocolate Taffy; Acid Jellies; Peanut Brittle; Chocolate Fudge; Peanut Butter Fudge) Disc 3: Super Sweets 5 (Lemon Meringue Pie; Pie Crust; Yeast Doughnuts; Doughnut Glaze; Chocolate Doughnut Glaze; Sugar Cookies; Royal Icing; Chocolate Peppermint Pinwheel Cookies)</td>\n",
       "      <td>7,1192171,1201857,1207092,1207107,1207121,1233789,1233792,1317803,1319766,1319778,1423818,1526614</td>\n",
       "      <td>False</td>\n",
       "    </tr>\n",
       "    <tr>\n",
       "      <th>2</th>\n",
       "      <td>Ballet Dress-Up Fairy Tutu  /SEP/  This adorable basic ballerina tutu is perfect for dance recitals. Fairy Princes Dress up, costume, play and much. Comes individually packaged. Use for a Tinkerbell dress up accessory and watch her flutter excitedly for hours in her tutu. Very soft elastic waist that is trimmed in satin and stretches to fit from an average size 3 to a size 8.</td>\n",
       "      <td>0,1,2,3,148890,149070,192406,1133100,1156745,1168095,1194224,1242301,1371116,1408938,1418161,1462283,1474245,1476259,1476276,1509175,1509181,1509182,1514621,1578041,1578074,1578155,1604047,1604766,1605477,1615188,1642171,1650694,1700211,1709030,1717790,1755499,1765010,1852265,1879775,1917404,1917405,1917406,1917407,1962848,1964629,1969579,1969580,2062778,2126482,2131600,2178714,2186983,2186984,2186986,2193720,2227069,2227161,2233148,2296415,2342392,2366854,2477808,2477809,2477810,2477813,2478684,2514703,2514733,2515122,2515192,2515198,2515203,2516385,2516838,2516839,2525536,2568784,2596122...</td>\n",
       "      <td>False</td>\n",
       "    </tr>\n",
       "    <tr>\n",
       "      <th>3</th>\n",
       "      <td>Rise and Swine (Good Eats Vol. 7)  /SEP/  Rise and Swine (Good Eats Vol. 7) includes bonus footage \"Ask Alton\" and 3 discs. Disc 1: Breakfast Eats 3 (Bacon Vinaigrette with Grilled Radicchio; Scrap Iron Chef's Bacon; Honey Mustard Cure; Molasses Black Pepper Cure; Red Pepper Brine; Soy Honey Brine; Omelet; Omelet for a Crowd; Frittata; Blueberry Muffins; And More...) Disc 2: Fruit Fest (It's a Wonderful Waldorf; 10 Minute Applesauce; Baker, Baker; Clotted Cream; Macerated Strawberries; Strawberry Pudding; Frozen Strawberries; Banana Ice Cream; Bananas Foster; Fried Plantains; And more...) ...</td>\n",
       "      <td>7,1192171,1201857,1207092,1207107,1207121,1233789,1233790,1233792,1317803,1319720,1319766,1319777,1319778,1423818,1502434,1526614,1775703</td>\n",
       "      <td>False</td>\n",
       "    </tr>\n",
       "    <tr>\n",
       "      <th>4</th>\n",
       "      <td>\"The Berenstains' B Book (Bright &amp;amp; Early Books)\"  /SEP/  By Stan Berenstain and Jan Berenstain, Illustrated by Stan Berenstain and Jan Berenstain</td>\n",
       "      <td>96297,165163,165164,165172,165173,165185,165222,165225,165231,165232,165261,165265,165268,165277,165278,165310,165323,165335,165369,284653,284667,284698,916605,1334242</td>\n",
       "      <td>False</td>\n",
       "    </tr>\n",
       "  </tbody>\n",
       "</table>\n",
       "</div>"
      ],
      "text/plain": [
       "                                                                                                                                                                                                                                                                                                                                                                                                                                                                                                                                                                                                                      text  \\\n",
       "0                                                                                                                                                                                                                                                                                                                                                                                                                                                                                                                                Girls Ballet Tutu Neon Pink  /SEP/  High quality 3 layer ballet tutu. 12 inches in length   \n",
       "1                                                                                               My Fair Pastry (Good Eats Vol. 9)  /SEP/  Disc 1: Flour Power (Scones; Shortcakes; Southern Biscuits; Salmon Turnovers; Fruit Tart; Funnel Cake; Sweet or Savory; Pte  Choux) Disc 2: Super Sweets 4 (Banana Spitsville; Burned Peach Ice Cream; Chocolate Taffy; Acid Jellies; Peanut Brittle; Chocolate Fudge; Peanut Butter Fudge) Disc 3: Super Sweets 5 (Lemon Meringue Pie; Pie Crust; Yeast Doughnuts; Doughnut Glaze; Chocolate Doughnut Glaze; Sugar Cookies; Royal Icing; Chocolate Peppermint Pinwheel Cookies)   \n",
       "2                                                                                                                                                                                                                               Ballet Dress-Up Fairy Tutu  /SEP/  This adorable basic ballerina tutu is perfect for dance recitals. Fairy Princes Dress up, costume, play and much. Comes individually packaged. Use for a Tinkerbell dress up accessory and watch her flutter excitedly for hours in her tutu. Very soft elastic waist that is trimmed in satin and stretches to fit from an average size 3 to a size 8.   \n",
       "3  Rise and Swine (Good Eats Vol. 7)  /SEP/  Rise and Swine (Good Eats Vol. 7) includes bonus footage \"Ask Alton\" and 3 discs. Disc 1: Breakfast Eats 3 (Bacon Vinaigrette with Grilled Radicchio; Scrap Iron Chef's Bacon; Honey Mustard Cure; Molasses Black Pepper Cure; Red Pepper Brine; Soy Honey Brine; Omelet; Omelet for a Crowd; Frittata; Blueberry Muffins; And More...) Disc 2: Fruit Fest (It's a Wonderful Waldorf; 10 Minute Applesauce; Baker, Baker; Clotted Cream; Macerated Strawberries; Strawberry Pudding; Frozen Strawberries; Banana Ice Cream; Bananas Foster; Fried Plantains; And more...) ...   \n",
       "4                                                                                                                                                                                                                                                                                                                                                                                                                                                                    \"The Berenstains' B Book (Bright &amp; Early Books)\"  /SEP/  By Stan Berenstain and Jan Berenstain, Illustrated by Stan Berenstain and Jan Berenstain   \n",
       "\n",
       "                                                                                                                                                                                                                                                                                                                                                                                                                                                                                                                                                                                                                    labels  \\\n",
       "0                                                                                                                                                                                                                                                                                                                                                                       0,1,192406,1327309,1371116,1371888,1461720,1476259,1509175,1509181,1509182,1535940,1578041,1578155,1604047,1604766,1615188,1969579,2030361,2186983,2186984,2191027,2227069,2342392,2514733,2515122,2515192,2515198,2515203,2516838,2516839,2775528   \n",
       "1                                                                                                                                                                                                                                                                                                                                                                                                                                                                                                                        7,1192171,1201857,1207092,1207107,1207121,1233789,1233792,1317803,1319766,1319778,1423818,1526614   \n",
       "2  0,1,2,3,148890,149070,192406,1133100,1156745,1168095,1194224,1242301,1371116,1408938,1418161,1462283,1474245,1476259,1476276,1509175,1509181,1509182,1514621,1578041,1578074,1578155,1604047,1604766,1605477,1615188,1642171,1650694,1700211,1709030,1717790,1755499,1765010,1852265,1879775,1917404,1917405,1917406,1917407,1962848,1964629,1969579,1969580,2062778,2126482,2131600,2178714,2186983,2186984,2186986,2193720,2227069,2227161,2233148,2296415,2342392,2366854,2477808,2477809,2477810,2477813,2478684,2514703,2514733,2515122,2515192,2515198,2515203,2516385,2516838,2516839,2525536,2568784,2596122...   \n",
       "3                                                                                                                                                                                                                                                                                                                                                                                                                                                                                7,1192171,1201857,1207092,1207107,1207121,1233789,1233790,1233792,1317803,1319720,1319766,1319777,1319778,1423818,1502434,1526614,1775703   \n",
       "4                                                                                                                                                                                                                                                                                                                                                                                                                                                  96297,165163,165164,165172,165173,165185,165222,165225,165231,165232,165261,165265,165268,165277,165278,165310,165323,165335,165369,284653,284667,284698,916605,1334242   \n",
       "\n",
       "   is_valid  \n",
       "0     False  \n",
       "1     False  \n",
       "2     False  \n",
       "3     False  \n",
       "4     False  "
      ]
     },
     "execution_count": null,
     "metadata": {},
     "output_type": "execute_result"
    }
   ],
   "source": [
    "df.head()"
   ]
  },
  {
   "cell_type": "code",
   "execution_count": null,
   "id": "68eaecf4-e33c-44c5-952e-2d789a817cfb",
   "metadata": {},
   "outputs": [],
   "source": [
    "df[['text', 'labels']] = df[['text', 'labels']].astype(str)"
   ]
  },
  {
   "cell_type": "code",
   "execution_count": null,
   "id": "625114ec-4c62-4f0c-9fce-195eadbf626a",
   "metadata": {},
   "outputs": [
    {
     "data": {
      "text/plain": [
       "text        object\n",
       "labels      object\n",
       "is_valid      bool\n",
       "dtype: object"
      ]
     },
     "execution_count": null,
     "metadata": {},
     "output_type": "execute_result"
    }
   ],
   "source": [
    "df.dtypes"
   ]
  },
  {
   "cell_type": "code",
   "execution_count": null,
   "id": "f3a269b9-fbb9-4681-91d1-c4891764c68e",
   "metadata": {},
   "outputs": [],
   "source": [
    "df.to_csv(fname, index=None)"
   ]
  },
  {
   "cell_type": "code",
   "execution_count": null,
   "id": "0555baa9-1abc-406e-b80e-63c62d2473bc",
   "metadata": {},
   "outputs": [
    {
     "name": "stdout",
     "output_type": "stream",
     "text": [
      "total 6.8G\n",
      "drwxrwxr-x 2 user user 4.0K Dec 21 23:15 .\n",
      "drwxrwxr-x 4 user user 4.0K Dec 21 23:16 ..\n",
      "-rw-rw-r-- 1 user user 2.2G Dec 21 23:18 amazon-3m.csv\n",
      "-rw-rw-r-- 1 user user 800M Dec 21 23:14 amazon-670k.csv\n",
      "-rw-rw-r-- 1 user user 198M Apr  4  2019 test_labels.txt\n",
      "-rw-rw-r-- 1 user user 466M Apr 10  2019 test_raw_texts.txt\n",
      "-rw-rw-r-- 1 user user 452M Apr  4  2019 train_labels.txt\n",
      "-rw-rw-r-- 1 user user 1.1G Apr 10  2019 train_raw_texts.txt\n",
      "-rw-rw-r-- 1 user user 1.7G Apr  4  2019 train_v1.txt\n"
     ]
    }
   ],
   "source": [
    "!ls -lah {path}"
   ]
  },
  {
   "cell_type": "code",
   "execution_count": null,
   "id": "1dffeda9-72b1-453e-a8fc-7b0476110905",
   "metadata": {},
   "outputs": [],
   "source": [
    "pd.read_csv(fname).tail()"
   ]
  },
  {
   "cell_type": "code",
   "execution_count": null,
   "id": "bee4dbe1-3340-44bb-b7bc-5a53b63ad5c5",
   "metadata": {},
   "outputs": [
    {
     "data": {
      "text/plain": [
       "643474"
      ]
     },
     "execution_count": null,
     "metadata": {},
     "output_type": "execute_result"
    }
   ],
   "source": [
    "len(pd.read_csv(fname))"
   ]
  },
  {
   "cell_type": "code",
   "execution_count": null,
   "id": "faca8bdf-ab86-485a-a4f4-f5c29242ae21",
   "metadata": {},
   "outputs": [],
   "source": []
  }
 ],
 "metadata": {
  "kernelspec": {
   "display_name": "Python 3 (ipykernel)",
   "language": "python",
   "name": "python3"
  }
 },
 "nbformat": 4,
 "nbformat_minor": 5
}
