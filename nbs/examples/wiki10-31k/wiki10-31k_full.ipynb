{
 "cells": [
  {
   "cell_type": "code",
   "execution_count": 1,
   "id": "6c4623f6-43a3-4d46-9059-b65d8ee95562",
   "metadata": {
    "tags": []
   },
   "outputs": [],
   "source": [
    "#hide\n",
    "#skip\n",
    "! [ -e /content ] && pip install -Uqq fastai  # upgrade fastai on colab"
   ]
  },
  {
   "cell_type": "code",
   "execution_count": 2,
   "id": "27b40bc0-c654-4803-aba1-59e75c4450a6",
   "metadata": {},
   "outputs": [],
   "source": [
    "%load_ext autoreload\n",
    "%autoreload 2"
   ]
  },
  {
   "cell_type": "markdown",
   "id": "351448fd-b3d7-4872-9bfe-b19c09d16c13",
   "metadata": {
    "tags": []
   },
   "source": [
    "# Wiki10-31k\n",
    "\n",
    "> API details"
   ]
  },
  {
   "cell_type": "code",
   "execution_count": 3,
   "id": "221be366-f6ee-4e37-9905-6649e850b9af",
   "metadata": {},
   "outputs": [],
   "source": [
    "import fastbook\n",
    "fastbook.setup_book()\n",
    "\n",
    "from fastbook import *"
   ]
  },
  {
   "cell_type": "markdown",
   "id": "7b696f14-b657-4a62-9317-b78d5625fb09",
   "metadata": {},
   "source": [
    "Application specific imports"
   ]
  },
  {
   "cell_type": "code",
   "execution_count": 4,
   "id": "a6361109-5606-4b3a-b69a-9e8a033191fd",
   "metadata": {},
   "outputs": [],
   "source": [
    "from fastai.text.all import *\n",
    "from fastai.distributed import *\n",
    "\n",
    "from xcube.text.learner import text_classifier_learner\n",
    "from xcube.metrics import PrecisionK"
   ]
  },
  {
   "cell_type": "markdown",
   "id": "36823127-3853-4817-a095-bd6e30d6d807",
   "metadata": {
    "tags": []
   },
   "source": [
    "#### Setting the base path as the path of the repository"
   ]
  },
  {
   "cell_type": "code",
   "execution_count": 10,
   "id": "d66d116e-4705-48b6-abb9-2d3875d9fa58",
   "metadata": {},
   "outputs": [
    {
     "name": "stdout",
     "output_type": "stream",
     "text": [
      " path = Path('/home/deb/xcube/nbs/examples/wiki10-31k'),\n",
      " path_data = Path('/home/deb/xcube/nbs/examples/wiki10-31k/data'),\n",
      " path_model = Path('/home/deb/xcube/nbs/examples/wiki10-31k/models'),\n",
      " file_prefix = 'wiki10-31k',\n",
      " data = Path('/home/deb/xcube/nbs/examples/wiki10-31k/data/wiki10-31k.csv'),\n",
      " dls_lm_path =Path('/home/deb/xcube/nbs/examples/wiki10-31k/models/wiki10-31k_dls_lm.pkl'),\n",
      " dls_lm_vocab_path = Path('/home/deb/xcube/nbs/examples/wiki10-31k/models/wiki10-31k_dls_lm_vocab.pkl'),\n",
      " dls_clas_path = Path('/home/deb/xcube/nbs/examples/wiki10-31k/models/wiki10-31k_dls_clas.pkl').\n"
     ]
    }
   ],
   "source": [
    "path = Path.cwd()\n",
    "path_data = path/'data'\n",
    "path_model = path/'models'\n",
    "path_model.mkdir(exist_ok=True)\n",
    "path_data.mkdir(exist_ok=True)\n",
    "file_prefix = 'wiki10-31k'\n",
    "data = path_data/(file_prefix+'.csv')\n",
    "dls_lm_path = path_model/f\"{file_prefix}_dls_lm.pkl\"\n",
    "dls_lm_vocab_path = path_model/f\"{file_prefix}_dls_lm_vocab.pkl\"\n",
    "dls_clas_path = path_model/f\"{file_prefix}_dls_clas.pkl\"\n",
    "\n",
    "print(f\"{ path = },\\n {path_data = },\\n {path_model = },\\n {file_prefix = },\\n {data = },\\n {dls_lm_path =},\\n {dls_lm_vocab_path = },\\n {dls_clas_path = }.\")"
   ]
  },
  {
   "cell_type": "markdown",
   "id": "b94d38cc-a7f6-41e8-a03a-fdf9ab0425e7",
   "metadata": {
    "jp-MarkdownHeadingCollapsed": true,
    "tags": []
   },
   "source": [
    "## `DataLoaders` for the Language Model"
   ]
  },
  {
   "cell_type": "markdown",
   "id": "9ac59c07-e293-4b5f-bd04-d6713a666149",
   "metadata": {},
   "source": [
    "To be able to use Transfer Learning, first we need to fine-tune our Language Model (which we pretrained on Wikipedia) on the corpus of Wiki-500k (the one we downloaded). Here we will build the `DataLoaders` object using fastai's `DataBlock` API:"
   ]
  },
  {
   "cell_type": "code",
   "execution_count": 6,
   "id": "72a1ad49-9d8c-4638-ac02-79e423ecea8a",
   "metadata": {},
   "outputs": [],
   "source": [
    "df = pd.read_csv(data, header=0, names=['text', 'labels', 'is_valid'], dtype={'text': str, 'labels': str})"
   ]
  },
  {
   "cell_type": "code",
   "execution_count": 7,
   "id": "d8df0945-d3fc-4dfa-938f-de8d293525d6",
   "metadata": {},
   "outputs": [
    {
     "data": {
      "text/plain": [
       "20762"
      ]
     },
     "execution_count": 7,
     "metadata": {},
     "output_type": "execute_result"
    }
   ],
   "source": [
    "len(df)"
   ]
  },
  {
   "cell_type": "code",
   "execution_count": 8,
   "id": "3cbe3d5e-f89d-4bc3-948c-0b0b207daa7c",
   "metadata": {},
   "outputs": [],
   "source": [
    "df[['text', 'labels']] = df[['text', 'labels']].astype(str)"
   ]
  },
  {
   "cell_type": "markdown",
   "id": "2eb1bab1-78f8-4ada-84e2-36d87d7e805f",
   "metadata": {},
   "source": [
    "Let's take a look at the data:"
   ]
  },
  {
   "cell_type": "code",
   "execution_count": 9,
   "id": "01c248e5-774b-46f1-8dca-64bab545f716",
   "metadata": {
    "tags": []
   },
   "outputs": [
    {
     "data": {
      "text/html": [
       "<div>\n",
       "<style scoped>\n",
       "    .dataframe tbody tr th:only-of-type {\n",
       "        vertical-align: middle;\n",
       "    }\n",
       "\n",
       "    .dataframe tbody tr th {\n",
       "        vertical-align: top;\n",
       "    }\n",
       "\n",
       "    .dataframe thead th {\n",
       "        text-align: right;\n",
       "    }\n",
       "</style>\n",
       "<table border=\"1\" class=\"dataframe\">\n",
       "  <thead>\n",
       "    <tr style=\"text-align: right;\">\n",
       "      <th></th>\n",
       "      <th>text</th>\n",
       "      <th>labels</th>\n",
       "      <th>is_valid</th>\n",
       "    </tr>\n",
       "  </thead>\n",
       "  <tbody>\n",
       "    <tr>\n",
       "      <th>0</th>\n",
       "      <td>Hermann Zapf (born November 8, 1918) is a German typeface designer who lives in Darmstadt, Germany. He is married to calligrapher and typeface designer Gudrun Zapf von Hesse. Zapf's work has suffered the two-edged sword of veneration, as his designs, which include Palatino and Optima, have been widely admired yet perhaps the most egregiously plagiarized of the twentieth century. The best known example may be Monotype's Book Antiqua, which shipped with Microsoft Office and was widely considered a \"knockoff\" of Palatino. In 1993, Zapf resigned from ATypI (Association Typographique Internatio...</td>\n",
       "      <td>2980,3177,9026,9053,12256,12258,14385,14548,21806,23227,24101,24485,25398,28816,28825,28828,28835,28838,28840,30071,30134,30708,30709</td>\n",
       "      <td>False</td>\n",
       "    </tr>\n",
       "    <tr>\n",
       "      <th>1</th>\n",
       "      <td>\"Yakety Sax\" is a 1963 45 rpm single written by Boots Randolph and James Q. \"Spider\" Rich, and recorded by Boots Randolph. The composition includes pieces of assorted fiddle tunes such as \"Chicken Reel\", and written for a performance at a venue called The Armory in Hopkinsville, Kentucky. There is also a bar of \"Entrance of the Gladiators\" worked into it. This piece of music is not to be confused with the Leiber and Stoller song \"Yakety Yak\", recorded in 1958 by The Coasters. The tunes are similar, and both feature the \"yakety sax\" sound, but are distinctly different melodies. Randolph had...</td>\n",
       "      <td>4188,14485,14932,20047,20085,20165,24290,26519,27814,29121,30134,30177</td>\n",
       "      <td>False</td>\n",
       "    </tr>\n",
       "    <tr>\n",
       "      <th>2</th>\n",
       "      <td>TORX, developed by Camcar LLC of Acument Global Technologies (formerly Camcar Textron), is the trademark for a type of screw head characterized by a 6-point star-shaped pattern (in the same way that slotted heads, Phillips, hex socket, and Robertson have linear, cruciform, hexagonal, and square tips, respectively). People unfamiliar with the trademark generally use the term star, as in star screwdriver or star bits. The generic name is hexalobular internal driving feature and is standardised by the International Organization for Standardization as ISO 10664. TORX is frequently styled Torx ...</td>\n",
       "      <td>1416,4633,9483,9580,12288,12290,14123,21775,24290,25348,25349,28376,28828,30071,30134,30546</td>\n",
       "      <td>False</td>\n",
       "    </tr>\n",
       "  </tbody>\n",
       "</table>\n",
       "</div>"
      ],
      "text/plain": [
       "                                                                                                                                                                                                                                                                                                                                                                                                                                                                                                                                                                                                                      text  \\\n",
       "0  Hermann Zapf (born November 8, 1918) is a German typeface designer who lives in Darmstadt, Germany. He is married to calligrapher and typeface designer Gudrun Zapf von Hesse. Zapf's work has suffered the two-edged sword of veneration, as his designs, which include Palatino and Optima, have been widely admired yet perhaps the most egregiously plagiarized of the twentieth century. The best known example may be Monotype's Book Antiqua, which shipped with Microsoft Office and was widely considered a \"knockoff\" of Palatino. In 1993, Zapf resigned from ATypI (Association Typographique Internatio...   \n",
       "1  \"Yakety Sax\" is a 1963 45 rpm single written by Boots Randolph and James Q. \"Spider\" Rich, and recorded by Boots Randolph. The composition includes pieces of assorted fiddle tunes such as \"Chicken Reel\", and written for a performance at a venue called The Armory in Hopkinsville, Kentucky. There is also a bar of \"Entrance of the Gladiators\" worked into it. This piece of music is not to be confused with the Leiber and Stoller song \"Yakety Yak\", recorded in 1958 by The Coasters. The tunes are similar, and both feature the \"yakety sax\" sound, but are distinctly different melodies. Randolph had...   \n",
       "2  TORX, developed by Camcar LLC of Acument Global Technologies (formerly Camcar Textron), is the trademark for a type of screw head characterized by a 6-point star-shaped pattern (in the same way that slotted heads, Phillips, hex socket, and Robertson have linear, cruciform, hexagonal, and square tips, respectively). People unfamiliar with the trademark generally use the term star, as in star screwdriver or star bits. The generic name is hexalobular internal driving feature and is standardised by the International Organization for Standardization as ISO 10664. TORX is frequently styled Torx ...   \n",
       "\n",
       "                                                                                                                                  labels  \\\n",
       "0  2980,3177,9026,9053,12256,12258,14385,14548,21806,23227,24101,24485,25398,28816,28825,28828,28835,28838,28840,30071,30134,30708,30709   \n",
       "1                                                                 4188,14485,14932,20047,20085,20165,24290,26519,27814,29121,30134,30177   \n",
       "2                                            1416,4633,9483,9580,12288,12290,14123,21775,24290,25348,25349,28376,28828,30071,30134,30546   \n",
       "\n",
       "   is_valid  \n",
       "0     False  \n",
       "1     False  \n",
       "2     False  "
      ]
     },
     "execution_count": 9,
     "metadata": {},
     "output_type": "execute_result"
    }
   ],
   "source": [
    "df.head(3)"
   ]
  },
  {
   "cell_type": "markdown",
   "id": "034a69bb-7587-42a1-83cd-25c9a9ee391d",
   "metadata": {
    "jupyter": {
     "source_hidden": true
    },
    "tags": []
   },
   "source": [
    "**Data Cleaning**"
   ]
  },
  {
   "cell_type": "code",
   "execution_count": 11,
   "id": "fe39f8dc-6295-4026-be7d-d834c9da9b01",
   "metadata": {
    "collapsed": true,
    "jupyter": {
     "outputs_hidden": true,
     "source_hidden": true
    }
   },
   "outputs": [],
   "source": [
    "def removenum(matchobj):\n",
    "    if str.isnumeric(matchobj.group(0)): return ''\n",
    "    else:  return matchobj.group(0)"
   ]
  },
  {
   "cell_type": "code",
   "execution_count": 12,
   "id": "a0755111-0e2a-4631-bc8e-275f6ca1b127",
   "metadata": {
    "collapsed": true,
    "jupyter": {
     "outputs_hidden": true,
     "source_hidden": true
    }
   },
   "outputs": [],
   "source": [
    "pat = re.compile('\\w+')\n",
    "def process(txt):\n",
    "    txt = txt.lower().translate(str.maketrans('', '', string.punctuation))\n",
    "    return pat.sub(removenum, txt)"
   ]
  },
  {
   "cell_type": "code",
   "execution_count": 13,
   "id": "5ee7c0fe-be74-40d3-9c07-1e270665f560",
   "metadata": {
    "collapsed": true,
    "jupyter": {
     "outputs_hidden": true,
     "source_hidden": true
    }
   },
   "outputs": [],
   "source": [
    "df['text'] = df['text'].apply(lambda x: process(x))"
   ]
  },
  {
   "cell_type": "markdown",
   "id": "66718388-da8d-4f38-ae96-efb29e2e5e83",
   "metadata": {},
   "source": [
    "We will now create the `DataLoaders` using `DataBlock` API:"
   ]
  },
  {
   "cell_type": "code",
   "execution_count": 10,
   "id": "a888ae1e-3c7e-4394-876d-ff79f8679411",
   "metadata": {},
   "outputs": [
    {
     "data": {
      "text/html": [],
      "text/plain": [
       "<IPython.core.display.HTML object>"
      ]
     },
     "metadata": {},
     "output_type": "display_data"
    }
   ],
   "source": [
    "dls_lm = DataBlock(\n",
    "    blocks   = TextBlock.from_df('text', is_lm=True),\n",
    "    get_x    = ColReader('text'),\n",
    "    splitter = RandomSplitter(0.1)\n",
    ").dataloaders(df, bs=384, seq_len=80)"
   ]
  },
  {
   "cell_type": "markdown",
   "id": "109ad077-b9ba-4567-897c-1fd69fbf7e4e",
   "metadata": {},
   "source": [
    "Let's take a look at the batches:"
   ]
  },
  {
   "cell_type": "code",
   "execution_count": 11,
   "id": "fb5eb28e-94a7-4448-a4e3-0151959e16ba",
   "metadata": {
    "tags": []
   },
   "outputs": [
    {
     "name": "stderr",
     "output_type": "stream",
     "text": [
      "/home/deb/miniconda3/lib/python3.9/site-packages/fastai/torch_core.py:475: FutureWarning: The series.append method is deprecated and will be removed from pandas in a future version. Use pandas.concat instead.\n",
      "  ax = ax.append(pd.Series({label: o}))\n",
      "/home/deb/miniconda3/lib/python3.9/site-packages/fastai/torch_core.py:475: FutureWarning: The series.append method is deprecated and will be removed from pandas in a future version. Use pandas.concat instead.\n",
      "  ax = ax.append(pd.Series({label: o}))\n",
      "/home/deb/miniconda3/lib/python3.9/site-packages/fastai/torch_core.py:475: FutureWarning: The series.append method is deprecated and will be removed from pandas in a future version. Use pandas.concat instead.\n",
      "  ax = ax.append(pd.Series({label: o}))\n",
      "/home/deb/miniconda3/lib/python3.9/site-packages/fastai/torch_core.py:475: FutureWarning: The series.append method is deprecated and will be removed from pandas in a future version. Use pandas.concat instead.\n",
      "  ax = ax.append(pd.Series({label: o}))\n"
     ]
    },
    {
     "data": {
      "text/html": [
       "<table border=\"1\" class=\"dataframe\">\n",
       "  <thead>\n",
       "    <tr style=\"text-align: right;\">\n",
       "      <th></th>\n",
       "      <th>text</th>\n",
       "      <th>text_</th>\n",
       "    </tr>\n",
       "  </thead>\n",
       "  <tbody>\n",
       "    <tr>\n",
       "      <th>0</th>\n",
       "      <td>xxbos xxmaj cory xxmaj anthony xxmaj booker ( born xxmaj april 27 , 1969 ) is the current xxmaj mayor of xxmaj newark , xxmaj new xxmaj jersey . xxmaj he is a xxmaj democratic politician and former xxmaj newark xxmaj councilman and community activist who ran unsuccessfully for mayor in 2002 against longtime incumbent xxmaj sharpe xxmaj james . xxmaj booker ran again in 2006 and won a sweeping victory against xxmaj ronald xxmaj rice to become the 36th</td>\n",
       "      <td>xxmaj cory xxmaj anthony xxmaj booker ( born xxmaj april 27 , 1969 ) is the current xxmaj mayor of xxmaj newark , xxmaj new xxmaj jersey . xxmaj he is a xxmaj democratic politician and former xxmaj newark xxmaj councilman and community activist who ran unsuccessfully for mayor in 2002 against longtime incumbent xxmaj sharpe xxmaj james . xxmaj booker ran again in 2006 and won a sweeping victory against xxmaj ronald xxmaj rice to become the 36th mayor</td>\n",
       "    </tr>\n",
       "    <tr>\n",
       "      <th>1</th>\n",
       "      <td>, the terms xxmaj xxunk / xxmaj hindi were used ) . xxmaj by 1850 , xxmaj hindi and xxmaj urdu were no longer used for the same language . xxmaj other linguists such as xxmaj sir xxup g. xxup a. xxmaj grierson ( 1903 ) have also claimed that xxmaj urdu is simply a dialect or style of xxmaj western xxmaj hindi . xxmaj before the xxmaj partition of xxmaj india , xxmaj delhi , xxmaj lucknow , xxmaj</td>\n",
       "      <td>the terms xxmaj xxunk / xxmaj hindi were used ) . xxmaj by 1850 , xxmaj hindi and xxmaj urdu were no longer used for the same language . xxmaj other linguists such as xxmaj sir xxup g. xxup a. xxmaj grierson ( 1903 ) have also claimed that xxmaj urdu is simply a dialect or style of xxmaj western xxmaj hindi . xxmaj before the xxmaj partition of xxmaj india , xxmaj delhi , xxmaj lucknow , xxmaj xxunk</td>\n",
       "    </tr>\n",
       "  </tbody>\n",
       "</table>"
      ],
      "text/plain": [
       "<IPython.core.display.HTML object>"
      ]
     },
     "metadata": {},
     "output_type": "display_data"
    }
   ],
   "source": [
    "dls_lm.show_batch(max_n=2)"
   ]
  },
  {
   "cell_type": "markdown",
   "id": "f39427f5-8bb3-4330-abf1-a37fe875ef06",
   "metadata": {},
   "source": [
    "The length of our vocabulary is:"
   ]
  },
  {
   "cell_type": "code",
   "execution_count": 12,
   "id": "ff8eff9f-2e0b-49bd-a831-98c1152ffbeb",
   "metadata": {},
   "outputs": [
    {
     "data": {
      "text/plain": [
       "60008"
      ]
     },
     "execution_count": 12,
     "metadata": {},
     "output_type": "execute_result"
    }
   ],
   "source": [
    "len(dls_lm.vocab)"
   ]
  },
  {
   "cell_type": "markdown",
   "id": "945db402-b7a7-44cf-9ad3-ccc19e6086cd",
   "metadata": {},
   "source": [
    "Let's take a look at some words of the vocab:"
   ]
  },
  {
   "cell_type": "code",
   "execution_count": 13,
   "id": "6e968ac3-7892-44cd-a5cf-a393faed199f",
   "metadata": {},
   "outputs": [
    {
     "name": "stdout",
     "output_type": "stream",
     "text": [
      "(#60008) ['xxunk','xxpad','xxbos','xxeos','xxfld','xxrep','xxwrep','xxup','xxmaj','the',',','.','of','and','in','to','a','is','\"','-','as',']','that','(',')','for','by','was','with','on'...]\n"
     ]
    }
   ],
   "source": [
    "print(coll_repr(L(dls_lm.vocab), 30))"
   ]
  },
  {
   "cell_type": "markdown",
   "id": "ed6c7ecf-6561-468f-83eb-98c76e839548",
   "metadata": {},
   "source": [
    "Creating the `DataLaoders` takes some time, so smash that *save* button (also a good idea to save the `dls_lm.vocab` for later use):"
   ]
  },
  {
   "cell_type": "code",
   "execution_count": 14,
   "id": "8cbd5c4a-9461-4e74-823c-5d7df6175aad",
   "metadata": {
    "tags": []
   },
   "outputs": [],
   "source": [
    "torch.save(dls_lm, dls_lm_path)\n",
    "torch.save(dls_lm.vocab, dls_lm_vocab_path)"
   ]
  },
  {
   "cell_type": "markdown",
   "id": "684b7367-644f-4399-a024-8515424f3e4e",
   "metadata": {},
   "source": [
    "To load back the `dls_lm` later on:"
   ]
  },
  {
   "cell_type": "code",
   "execution_count": 28,
   "id": "aef4e101-6045-4ccb-8719-8bf6ccf2133c",
   "metadata": {
    "tags": []
   },
   "outputs": [],
   "source": [
    "dls_lm = torch.load(dls_lm_path)"
   ]
  },
  {
   "cell_type": "markdown",
   "id": "0a8a2862-9586-4348-af00-7f88ee98f283",
   "metadata": {
    "tags": []
   },
   "source": [
    "## `Learner` for the Language Model Fine-Tuning:"
   ]
  },
  {
   "cell_type": "code",
   "execution_count": 15,
   "id": "066b8008-c451-488b-bcd5-c2c56e520fd7",
   "metadata": {},
   "outputs": [],
   "source": [
    "learn = language_model_learner(\n",
    "    dls_lm, AWD_LSTM, drop_mult=0.3,\n",
    "    metrics=[accuracy, Perplexity()]).to_fp16()"
   ]
  },
  {
   "cell_type": "markdown",
   "id": "e54a2908-b1d0-4d84-9de5-5a1cc3a8cd70",
   "metadata": {},
   "source": [
    "Let's compute the learning rate using the `lr_find`:"
   ]
  },
  {
   "cell_type": "code",
   "execution_count": 20,
   "id": "8a6ce819-c842-4e63-bde1-0e4782e4ac2c",
   "metadata": {},
   "outputs": [
    {
     "data": {
      "text/html": [],
      "text/plain": [
       "<IPython.core.display.HTML object>"
      ]
     },
     "metadata": {},
     "output_type": "display_data"
    },
    {
     "data": {
      "text/plain": [
       "(0.02089296132326126,\n",
       " 0.02754228748381138,\n",
       " 0.005248074419796467,\n",
       " 0.013182567432522774)"
      ]
     },
     "execution_count": 20,
     "metadata": {},
     "output_type": "execute_result"
    },
    {
     "data": {
      "image/png": "[encoded data removed]",
      "text/plain": [
       "<Figure size 432x288 with 1 Axes>"
      ]
     },
     "metadata": {
      "needs_background": "light"
     },
     "output_type": "display_data"
    }
   ],
   "source": [
    "lr_min, lr_steep, lr_valley, lr_slide = learn.lr_find(suggest_funcs=(minimum, steep, valley, slide))\n",
    "lr_min, lr_steep, lr_valley, lr_slide"
   ]
  },
  {
   "cell_type": "code",
   "execution_count": 41,
   "id": "f6dc7bcc-8b2e-4301-bca9-f5a0f1039f7d",
   "metadata": {},
   "outputs": [
    {
     "data": {
      "text/html": [
       "<table border=\"1\" class=\"dataframe\">\n",
       "  <thead>\n",
       "    <tr style=\"text-align: left;\">\n",
       "      <th>epoch</th>\n",
       "      <th>train_loss</th>\n",
       "      <th>valid_loss</th>\n",
       "      <th>accuracy</th>\n",
       "      <th>perplexity</th>\n",
       "      <th>time</th>\n",
       "    </tr>\n",
       "  </thead>\n",
       "  <tbody>\n",
       "    <tr>\n",
       "      <td>0</td>\n",
       "      <td>3.706824</td>\n",
       "      <td>3.599593</td>\n",
       "      <td>0.358753</td>\n",
       "      <td>36.583355</td>\n",
       "      <td>30:25</td>\n",
       "    </tr>\n",
       "  </tbody>\n",
       "</table>"
      ],
      "text/plain": [
       "<IPython.core.display.HTML object>"
      ]
     },
     "metadata": {},
     "output_type": "display_data"
    }
   ],
   "source": [
    "learn.fit_one_cycle(1, lr_min)"
   ]
  },
  {
   "cell_type": "markdown",
   "id": "16d534d2-d91c-4f83-91e8-3034c0c84c7c",
   "metadata": {},
   "source": [
    "It takes quite a while to train each epoch, so we'll be saving the intermediate model results during the training process:"
   ]
  },
  {
   "cell_type": "code",
   "execution_count": 46,
   "id": "6e918e54-0198-483e-8bd6-c56678275841",
   "metadata": {
    "tags": []
   },
   "outputs": [
    {
     "data": {
      "text/plain": [
       "Path('models/1epoch.pth')"
      ]
     },
     "execution_count": 46,
     "metadata": {},
     "output_type": "execute_result"
    }
   ],
   "source": [
    "learn.save('1epoch')"
   ]
  },
  {
   "cell_type": "markdown",
   "id": "11ac265e-6f06-4ade-930f-1df874b172ae",
   "metadata": {},
   "source": [
    "Let's now load back the `Learner`"
   ]
  },
  {
   "cell_type": "code",
   "execution_count": 16,
   "id": "f4a613dc-43fc-4604-b4e5-31575bc97e3c",
   "metadata": {},
   "outputs": [],
   "source": [
    "learn = learn.load('1epoch')"
   ]
  },
  {
   "cell_type": "markdown",
   "id": "3c8546b7-c8c5-44b4-9ea9-08cab3c11b0b",
   "metadata": {},
   "source": [
    "Let's validate the `Learner` to make sure we loaded the correct version:"
   ]
  },
  {
   "cell_type": "code",
   "execution_count": 17,
   "id": "66b6809d-3c16-476d-861f-91c05794683b",
   "metadata": {},
   "outputs": [
    {
     "data": {
      "text/html": [],
      "text/plain": [
       "<IPython.core.display.HTML object>"
      ]
     },
     "metadata": {},
     "output_type": "display_data"
    },
    {
     "data": {
      "text/plain": [
       "(#3) [3.5995934009552,0.3587533235549927,36.58335494995117]"
      ]
     },
     "execution_count": 17,
     "metadata": {},
     "output_type": "execute_result"
    }
   ],
   "source": [
    "learn.validate()"
   ]
  },
  {
   "cell_type": "markdown",
   "id": "06b4d2ec-b57d-4b2a-b63d-a549558b8132",
   "metadata": {},
   "source": [
    "Since we have completed the initial training, we will now continue fine-tuning the model after unfreezing:"
   ]
  },
  {
   "cell_type": "code",
   "execution_count": 20,
   "id": "ba11c6fe-524a-4d72-bc37-dc3508e7f598",
   "metadata": {},
   "outputs": [],
   "source": [
    "learn.unfreeze()"
   ]
  },
  {
   "cell_type": "markdown",
   "id": "87abcdc8-8816-44e3-a11c-58de1b9ad4dd",
   "metadata": {},
   "source": [
    "and run `lr_find` again, because we now have more layers to train, and the last layers weight have already been trained for one epoch:"
   ]
  },
  {
   "cell_type": "code",
   "execution_count": null,
   "id": "dd9d5c54-7199-4364-9aee-b5b9c0467108",
   "metadata": {},
   "outputs": [],
   "source": [
    "lr_min, lr_steep, lr_valley, lr_slide = learn.lr_find(suggest_funcs=(minimum, steep, valley, slide))\n",
    "lr_min, lr_steep, lr_valley, lr_slide"
   ]
  },
  {
   "cell_type": "markdown",
   "id": "55d37b25-63d5-43bc-93fe-0f82c47b5677",
   "metadata": {},
   "source": [
    "Let's now traing with a suitable learning rate:"
   ]
  },
  {
   "cell_type": "code",
   "execution_count": 21,
   "id": "039fb4f9-0b5d-4a26-9330-6a72a2bc02a5",
   "metadata": {},
   "outputs": [
    {
     "data": {
      "text/html": [
       "<table border=\"1\" class=\"dataframe\">\n",
       "  <thead>\n",
       "    <tr style=\"text-align: left;\">\n",
       "      <th>epoch</th>\n",
       "      <th>train_loss</th>\n",
       "      <th>valid_loss</th>\n",
       "      <th>accuracy</th>\n",
       "      <th>perplexity</th>\n",
       "      <th>time</th>\n",
       "    </tr>\n",
       "  </thead>\n",
       "  <tbody>\n",
       "    <tr>\n",
       "      <td>0</td>\n",
       "      <td>2.700497</td>\n",
       "      <td>2.601790</td>\n",
       "      <td>0.498114</td>\n",
       "      <td>13.487859</td>\n",
       "      <td>21:50</td>\n",
       "    </tr>\n",
       "    <tr>\n",
       "      <td>1</td>\n",
       "      <td>2.532751</td>\n",
       "      <td>2.447730</td>\n",
       "      <td>0.516926</td>\n",
       "      <td>11.562066</td>\n",
       "      <td>21:53</td>\n",
       "    </tr>\n",
       "    <tr>\n",
       "      <td>2</td>\n",
       "      <td>2.438119</td>\n",
       "      <td>2.364874</td>\n",
       "      <td>0.527396</td>\n",
       "      <td>10.642694</td>\n",
       "      <td>21:45</td>\n",
       "    </tr>\n",
       "    <tr>\n",
       "      <td>3</td>\n",
       "      <td>2.373062</td>\n",
       "      <td>2.317114</td>\n",
       "      <td>0.533622</td>\n",
       "      <td>10.146353</td>\n",
       "      <td>21:37</td>\n",
       "    </tr>\n",
       "    <tr>\n",
       "      <td>4</td>\n",
       "      <td>2.315276</td>\n",
       "      <td>2.284130</td>\n",
       "      <td>0.538038</td>\n",
       "      <td>9.817142</td>\n",
       "      <td>21:30</td>\n",
       "    </tr>\n",
       "    <tr>\n",
       "      <td>5</td>\n",
       "      <td>2.294005</td>\n",
       "      <td>2.259134</td>\n",
       "      <td>0.541297</td>\n",
       "      <td>9.574790</td>\n",
       "      <td>21:33</td>\n",
       "    </tr>\n",
       "    <tr>\n",
       "      <td>6</td>\n",
       "      <td>2.244216</td>\n",
       "      <td>2.240372</td>\n",
       "      <td>0.544038</td>\n",
       "      <td>9.396826</td>\n",
       "      <td>21:33</td>\n",
       "    </tr>\n",
       "    <tr>\n",
       "      <td>7</td>\n",
       "      <td>2.236868</td>\n",
       "      <td>2.227880</td>\n",
       "      <td>0.546116</td>\n",
       "      <td>9.280175</td>\n",
       "      <td>21:30</td>\n",
       "    </tr>\n",
       "    <tr>\n",
       "      <td>8</td>\n",
       "      <td>2.209610</td>\n",
       "      <td>2.221307</td>\n",
       "      <td>0.547150</td>\n",
       "      <td>9.219376</td>\n",
       "      <td>21:31</td>\n",
       "    </tr>\n",
       "    <tr>\n",
       "      <td>9</td>\n",
       "      <td>2.166203</td>\n",
       "      <td>2.220918</td>\n",
       "      <td>0.547269</td>\n",
       "      <td>9.215789</td>\n",
       "      <td>21:37</td>\n",
       "    </tr>\n",
       "  </tbody>\n",
       "</table>"
      ],
      "text/plain": [
       "<IPython.core.display.HTML object>"
      ]
     },
     "metadata": {},
     "output_type": "display_data"
    },
    {
     "name": "stdout",
     "output_type": "stream",
     "text": [
      "Better model found at epoch 0 with valid_loss value: 2.601789951324463.\n",
      "Better model found at epoch 1 with valid_loss value: 2.4477295875549316.\n",
      "Better model found at epoch 2 with valid_loss value: 2.3648736476898193.\n",
      "Better model found at epoch 3 with valid_loss value: 2.3171143531799316.\n",
      "Better model found at epoch 4 with valid_loss value: 2.284130096435547.\n",
      "Better model found at epoch 5 with valid_loss value: 2.2591335773468018.\n",
      "Better model found at epoch 6 with valid_loss value: 2.2403719425201416.\n",
      "Better model found at epoch 7 with valid_loss value: 2.2278804779052734.\n",
      "Better model found at epoch 8 with valid_loss value: 2.2213072776794434.\n",
      "Better model found at epoch 9 with valid_loss value: 2.2209181785583496.\n"
     ]
    }
   ],
   "source": [
    "learn.fit_one_cycle(10, lr_max=2e-3, cbs=SaveModelCallback(fname=path_model/'wiki-500k_lm'))"
   ]
  },
  {
   "cell_type": "markdown",
   "id": "fbcec4c8-d465-4cf6-b0b3-8abbc5f66aa8",
   "metadata": {},
   "source": [
    "Note: Make sure if you have trained the most language model `Learner` for more epochs (then you need to save that version)"
   ]
  },
  {
   "cell_type": "markdown",
   "id": "cb9b2519-64d9-475e-a6ca-703292e3f3eb",
   "metadata": {
    "tags": []
   },
   "source": [
    "### Saving the encoder of the Language Model"
   ]
  },
  {
   "cell_type": "markdown",
   "id": "3f1065c8-eb36-4861-8026-eb945a2240e3",
   "metadata": {},
   "source": [
    "**Crucial:** Once we have trained our LM we will save all of our model except the final layer that converts activation to probabilities of picking each token in our vocabulary. The model not including the final layer has a sexy name - *encoder*. We will save it using `save_encoder` method of the `Learner`:"
   ]
  },
  {
   "cell_type": "code",
   "execution_count": 18,
   "id": "76595155-9573-459e-8372-a89657661122",
   "metadata": {},
   "outputs": [],
   "source": [
    "learn.save_encoder('finetuned')"
   ]
  },
  {
   "cell_type": "markdown",
   "id": "61ee007e-1f59-4123-8b32-6bed775b72d3",
   "metadata": {},
   "source": [
    "This completes the second stage of the text classification process - fine-tuning the Language Model pretrained on Wikipedia corpus. We will now use it to fine-tune a text multi-label text classifier."
   ]
  },
  {
   "cell_type": "markdown",
   "id": "bbff6545-1b1f-4f2a-97c4-f0bd43a83877",
   "metadata": {
    "tags": []
   },
   "source": [
    "## `DataLoaders` for the Multi-Label Classifier (using fastai's Mid-Level Data API)"
   ]
  },
  {
   "cell_type": "markdown",
   "id": "c46effd4-43c3-4d3e-bc13-939a7799b819",
   "metadata": {
    "jp-MarkdownHeadingCollapsed": true,
    "tags": []
   },
   "source": [
    "### Loading Raw Data"
   ]
  },
  {
   "cell_type": "code",
   "execution_count": 23,
   "id": "8a1bf2d3-5bcf-49ce-b4e5-0762fb19b0b3",
   "metadata": {},
   "outputs": [
    {
     "data": {
      "text/plain": [
       "Path('/home/deb/xcube/nbs/examples/wiki10-31k/data/wiki10-31k.csv')"
      ]
     },
     "execution_count": 23,
     "metadata": {},
     "output_type": "execute_result"
    }
   ],
   "source": [
    "data"
   ]
  },
  {
   "cell_type": "code",
   "execution_count": 19,
   "id": "ff6af87a-3803-4d3a-8e1a-2962b8c6726f",
   "metadata": {},
   "outputs": [],
   "source": [
    "df = pd.read_csv(data, dtype={'text': str, 'labels': str})\n",
    "df[['text', 'labels']] = df[['text', 'labels']].astype('str')"
   ]
  },
  {
   "cell_type": "code",
   "execution_count": 20,
   "id": "2aa5bd0b-4ec2-4e9b-8412-5a5d95bf8219",
   "metadata": {},
   "outputs": [
    {
     "data": {
      "text/html": [
       "<div>\n",
       "<style scoped>\n",
       "    .dataframe tbody tr th:only-of-type {\n",
       "        vertical-align: middle;\n",
       "    }\n",
       "\n",
       "    .dataframe tbody tr th {\n",
       "        vertical-align: top;\n",
       "    }\n",
       "\n",
       "    .dataframe thead th {\n",
       "        text-align: right;\n",
       "    }\n",
       "</style>\n",
       "<table border=\"1\" class=\"dataframe\">\n",
       "  <thead>\n",
       "    <tr style=\"text-align: right;\">\n",
       "      <th></th>\n",
       "      <th>text</th>\n",
       "      <th>labels</th>\n",
       "      <th>is_valid</th>\n",
       "    </tr>\n",
       "  </thead>\n",
       "  <tbody>\n",
       "    <tr>\n",
       "      <th>0</th>\n",
       "      <td>Hermann Zapf (born November 8, 1918) is a German typeface designer who lives in Darmstadt, Germany. He is married to calligrapher and typeface designer Gudrun Zapf von Hesse. Zapf's work has suffered the two-edged sword of veneration, as his designs, which include Palatino and Optima, have been widely admired yet perhaps the most egregiously plagiarized of the twentieth century. The best known example may be Monotype's Book Antiqua, which shipped with Microsoft Office and was widely considered a \"knockoff\" of Palatino. In 1993, Zapf resigned from ATypI (Association Typographique Internatio...</td>\n",
       "      <td>2980,3177,9026,9053,12256,12258,14385,14548,21806,23227,24101,24485,25398,28816,28825,28828,28835,28838,28840,30071,30134,30708,30709</td>\n",
       "      <td>False</td>\n",
       "    </tr>\n",
       "    <tr>\n",
       "      <th>1</th>\n",
       "      <td>\"Yakety Sax\" is a 1963 45 rpm single written by Boots Randolph and James Q. \"Spider\" Rich, and recorded by Boots Randolph. The composition includes pieces of assorted fiddle tunes such as \"Chicken Reel\", and written for a performance at a venue called The Armory in Hopkinsville, Kentucky. There is also a bar of \"Entrance of the Gladiators\" worked into it. This piece of music is not to be confused with the Leiber and Stoller song \"Yakety Yak\", recorded in 1958 by The Coasters. The tunes are similar, and both feature the \"yakety sax\" sound, but are distinctly different melodies. Randolph had...</td>\n",
       "      <td>4188,14485,14932,20047,20085,20165,24290,26519,27814,29121,30134,30177</td>\n",
       "      <td>False</td>\n",
       "    </tr>\n",
       "    <tr>\n",
       "      <th>2</th>\n",
       "      <td>TORX, developed by Camcar LLC of Acument Global Technologies (formerly Camcar Textron), is the trademark for a type of screw head characterized by a 6-point star-shaped pattern (in the same way that slotted heads, Phillips, hex socket, and Robertson have linear, cruciform, hexagonal, and square tips, respectively). People unfamiliar with the trademark generally use the term star, as in star screwdriver or star bits. The generic name is hexalobular internal driving feature and is standardised by the International Organization for Standardization as ISO 10664. TORX is frequently styled Torx ...</td>\n",
       "      <td>1416,4633,9483,9580,12288,12290,14123,21775,24290,25348,25349,28376,28828,30071,30134,30546</td>\n",
       "      <td>False</td>\n",
       "    </tr>\n",
       "  </tbody>\n",
       "</table>\n",
       "</div>"
      ],
      "text/plain": [
       "                                                                                                                                                                                                                                                                                                                                                                                                                                                                                                                                                                                                                      text  \\\n",
       "0  Hermann Zapf (born November 8, 1918) is a German typeface designer who lives in Darmstadt, Germany. He is married to calligrapher and typeface designer Gudrun Zapf von Hesse. Zapf's work has suffered the two-edged sword of veneration, as his designs, which include Palatino and Optima, have been widely admired yet perhaps the most egregiously plagiarized of the twentieth century. The best known example may be Monotype's Book Antiqua, which shipped with Microsoft Office and was widely considered a \"knockoff\" of Palatino. In 1993, Zapf resigned from ATypI (Association Typographique Internatio...   \n",
       "1  \"Yakety Sax\" is a 1963 45 rpm single written by Boots Randolph and James Q. \"Spider\" Rich, and recorded by Boots Randolph. The composition includes pieces of assorted fiddle tunes such as \"Chicken Reel\", and written for a performance at a venue called The Armory in Hopkinsville, Kentucky. There is also a bar of \"Entrance of the Gladiators\" worked into it. This piece of music is not to be confused with the Leiber and Stoller song \"Yakety Yak\", recorded in 1958 by The Coasters. The tunes are similar, and both feature the \"yakety sax\" sound, but are distinctly different melodies. Randolph had...   \n",
       "2  TORX, developed by Camcar LLC of Acument Global Technologies (formerly Camcar Textron), is the trademark for a type of screw head characterized by a 6-point star-shaped pattern (in the same way that slotted heads, Phillips, hex socket, and Robertson have linear, cruciform, hexagonal, and square tips, respectively). People unfamiliar with the trademark generally use the term star, as in star screwdriver or star bits. The generic name is hexalobular internal driving feature and is standardised by the International Organization for Standardization as ISO 10664. TORX is frequently styled Torx ...   \n",
       "\n",
       "                                                                                                                                  labels  \\\n",
       "0  2980,3177,9026,9053,12256,12258,14385,14548,21806,23227,24101,24485,25398,28816,28825,28828,28835,28838,28840,30071,30134,30708,30709   \n",
       "1                                                                 4188,14485,14932,20047,20085,20165,24290,26519,27814,29121,30134,30177   \n",
       "2                                            1416,4633,9483,9580,12288,12290,14123,21775,24290,25348,25349,28376,28828,30071,30134,30546   \n",
       "\n",
       "   is_valid  \n",
       "0     False  \n",
       "1     False  \n",
       "2     False  "
      ]
     },
     "execution_count": 20,
     "metadata": {},
     "output_type": "execute_result"
    }
   ],
   "source": [
    "df.head(3)"
   ]
  },
  {
   "cell_type": "markdown",
   "id": "ade27ebf-8db5-46d8-9f59-819efd47fce2",
   "metadata": {},
   "source": [
    "let's now gather the labels from the 'labels' column of the df:"
   ]
  },
  {
   "cell_type": "code",
   "execution_count": 21,
   "id": "d23fb1ed-6280-4b39-bdfc-4fb4dc189b28",
   "metadata": {},
   "outputs": [],
   "source": [
    "label_freq = Counter()\n",
    "for labels in df.labels: label_freq.update(labels.split(','))"
   ]
  },
  {
   "cell_type": "markdown",
   "id": "72c5281e-2864-4e12-86d8-0fd907847cae",
   "metadata": {},
   "source": [
    "The total number of labels are:"
   ]
  },
  {
   "cell_type": "code",
   "execution_count": 22,
   "id": "810e7141-895e-4e6e-9f11-86f7fe94c387",
   "metadata": {},
   "outputs": [
    {
     "data": {
      "text/plain": [
       "30938"
      ]
     },
     "execution_count": 22,
     "metadata": {},
     "output_type": "execute_result"
    }
   ],
   "source": [
    "len(label_freq)"
   ]
  },
  {
   "cell_type": "markdown",
   "id": "af2d5c1b-4115-40c5-b572-339dd0ec984f",
   "metadata": {},
   "source": [
    "Let's make a list of all labels (We will use it later while creating the `DataLoader`)"
   ]
  },
  {
   "cell_type": "code",
   "execution_count": 23,
   "id": "d0e0e162-d688-4765-a321-87a3832af500",
   "metadata": {},
   "outputs": [],
   "source": [
    "lbls = list(label_freq.keys()) "
   ]
  },
  {
   "cell_type": "markdown",
   "id": "f183df7b-1c3b-479a-9395-54d32d9e4333",
   "metadata": {
    "tags": []
   },
   "source": [
    "### Steps for creating the classifier `DataLoaders` using fastai `Transforms`:"
   ]
  },
  {
   "cell_type": "markdown",
   "id": "3b9670d6-3998-4e78-9019-b2d65fac800c",
   "metadata": {
    "jp-MarkdownHeadingCollapsed": true,
    "tags": []
   },
   "source": [
    "#### 1. train/valid `splitter`:"
   ]
  },
  {
   "cell_type": "markdown",
   "id": "8805ff14-4ad2-46f0-8334-4c229ddb5e58",
   "metadata": {},
   "source": [
    "Okay, based on the `is_valid` column of our Dataframe, let's create a splitter:"
   ]
  },
  {
   "cell_type": "code",
   "execution_count": 24,
   "id": "f342b82f-bd3f-4516-a58a-c75e3a5a370f",
   "metadata": {},
   "outputs": [],
   "source": [
    "def splitter(df):\n",
    "    train = df.index[~df['is_valid']].tolist()\n",
    "    valid = df.index[df['is_valid']].to_list()\n",
    "    return train, valid"
   ]
  },
  {
   "cell_type": "markdown",
   "id": "867c83e6-d367-457e-9fb7-f001305888a3",
   "metadata": {},
   "source": [
    "Let's check the train/valid split"
   ]
  },
  {
   "cell_type": "code",
   "execution_count": 25,
   "id": "83b9d964-8673-4f49-9604-805427011197",
   "metadata": {},
   "outputs": [
    {
     "data": {
      "text/plain": [
       "((#14146) [0,1,2,3,4,5,6,7,8,9...],\n",
       " (#6616) [14146,14147,14148,14149,14150,14151,14152,14153,14154,14155...])"
      ]
     },
     "execution_count": 25,
     "metadata": {},
     "output_type": "execute_result"
    }
   ],
   "source": [
    "splits = [train, valid] = splitter(df)\n",
    "L(splits[0]), L(splits[1])"
   ]
  },
  {
   "cell_type": "markdown",
   "id": "8b7a2bfd-607e-4b70-9ce9-53dbceb56208",
   "metadata": {
    "jp-MarkdownHeadingCollapsed": true,
    "tags": []
   },
   "source": [
    "#### 2. Making the `Datasets` object:"
   ]
  },
  {
   "cell_type": "markdown",
   "id": "9077b9a3-4b56-4bc3-83bb-99968e3f7eca",
   "metadata": {},
   "source": [
    "**Crucial:** We need the vocab of the language model so that we can make sure we use the same correspondence of token to index. Otherwise, the embeddings we learned in our fine-tuned language model won't make any sense to our classifier model, and the fine-tuning won't be of any use. So we need to pass the `lm_vocab` to the `Numericalize` transform:"
   ]
  },
  {
   "cell_type": "markdown",
   "id": "ed6f0b1c-fed8-4fa7-b01d-8a45c06a63e7",
   "metadata": {},
   "source": [
    "So let's load the vocab of the language model:"
   ]
  },
  {
   "cell_type": "code",
   "execution_count": 26,
   "id": "2b1602ee-ad6f-4639-a309-27bb2f6c0870",
   "metadata": {
    "tags": []
   },
   "outputs": [],
   "source": [
    "lm_vocab = torch.load(dls_lm_vocab_path)"
   ]
  },
  {
   "cell_type": "code",
   "execution_count": 27,
   "id": "91f0d502-c7a8-4509-989f-181203da85c4",
   "metadata": {
    "tags": []
   },
   "outputs": [
    {
     "data": {
      "text/plain": [
       "(#60008) ['xxunk','xxpad','xxbos','xxeos','xxfld','xxrep','xxwrep','xxup','xxmaj','the'...]"
      ]
     },
     "execution_count": 27,
     "metadata": {},
     "output_type": "execute_result"
    }
   ],
   "source": [
    "L(lm_vocab)"
   ]
  },
  {
   "cell_type": "code",
   "execution_count": 16,
   "id": "9702e8a9-67e6-477f-b1c6-048e71876e09",
   "metadata": {
    "jupyter": {
     "source_hidden": true
    },
    "tags": []
   },
   "outputs": [],
   "source": [
    "@Transform\n",
    "def Shrink(num:TensorText): return num[:2500] if len(num)>2500 else num"
   ]
  },
  {
   "cell_type": "code",
   "execution_count": 28,
   "id": "66d4ccb2-82e2-4d82-827a-d7b3cf0c54ad",
   "metadata": {},
   "outputs": [],
   "source": [
    "x_tfms = [Tokenizer.from_df('text'), attrgetter(\"text\"), Numericalize(vocab=lm_vocab)] \n",
    "y_tfms = [ColReader('labels', label_delim=','), MultiCategorize(vocab=lbls), OneHotEncode()]\n",
    "tfms = [x_tfms, y_tfms]"
   ]
  },
  {
   "cell_type": "code",
   "execution_count": 29,
   "id": "5acb44a0-3b70-4de9-910c-569605df2ad9",
   "metadata": {},
   "outputs": [
    {
     "data": {
      "text/html": [],
      "text/plain": [
       "<IPython.core.display.HTML object>"
      ]
     },
     "metadata": {},
     "output_type": "display_data"
    }
   ],
   "source": [
    "dsets = Datasets(df, tfms, splits=splits)"
   ]
  },
  {
   "cell_type": "markdown",
   "id": "8488d7ea-466a-48e0-8704-a9a37d5080c7",
   "metadata": {},
   "source": [
    "Let's now check if our `Datasets` got created alright:"
   ]
  },
  {
   "cell_type": "code",
   "execution_count": 30,
   "id": "8e95382e-bba6-41f3-a509-ecb4367e709a",
   "metadata": {},
   "outputs": [
    {
     "data": {
      "text/plain": [
       "(14146, 6616)"
      ]
     },
     "execution_count": 30,
     "metadata": {},
     "output_type": "execute_result"
    }
   ],
   "source": [
    "len(dsets.train), len(dsets.valid)"
   ]
  },
  {
   "cell_type": "code",
   "execution_count": 31,
   "id": "b0be5feb-c338-4987-898d-8f7ff8c47763",
   "metadata": {
    "tags": []
   },
   "outputs": [
    {
     "data": {
      "text/plain": [
       "(TensorText([   2,    8, 8201,  ...,    0,    0,   21]),\n",
       " TensorMultiCategory([1., 1., 1.,  ..., 0., 0., 0.]))"
      ]
     },
     "execution_count": 31,
     "metadata": {},
     "output_type": "execute_result"
    }
   ],
   "source": [
    "dsets.train[0]"
   ]
  },
  {
   "cell_type": "markdown",
   "id": "dff9f8ce-e129-4a35-bbe3-c8c5c8503730",
   "metadata": {
    "tags": []
   },
   "source": [
    "#### 3. Making the `DataLoaders` object:"
   ]
  },
  {
   "cell_type": "markdown",
   "id": "bba4244a-738f-47db-a924-c08f2bbafe58",
   "metadata": {},
   "source": [
    "We need to pick the sequence length and the batch size:"
   ]
  },
  {
   "cell_type": "code",
   "execution_count": 32,
   "id": "4807e305-6b38-42a6-9ce7-29b6c205da1e",
   "metadata": {},
   "outputs": [],
   "source": [
    "bs, sl = 16, 72"
   ]
  },
  {
   "cell_type": "markdown",
   "id": "1f23051f-ab56-4348-b483-897477d1b8bd",
   "metadata": {},
   "source": [
    "We will use the `dl_type` argument of the `DataLoaders`. The purpose is to tell `DataLoaders` to use `SortedDL` class of the `DataLoader`, and not the usual one. `SortedDL` constructs batches by putting samples of roughly the same lengths into batches."
   ]
  },
  {
   "cell_type": "code",
   "execution_count": 33,
   "id": "3db87649-b8ec-46be-be72-dbc1ac610222",
   "metadata": {},
   "outputs": [],
   "source": [
    "dl_type = partial(SortedDL, shuffle=True)"
   ]
  },
  {
   "cell_type": "markdown",
   "id": "571edb54-e9c8-40a1-8e5f-82dc0f176dfb",
   "metadata": {},
   "source": [
    "**Crucial:** \n",
    "- We will use **`pad_input_chunk`** because our encoder `AWD_LSTM` will be wrapped inside `SentenceEncoder`. \n",
    "- A `SenetenceEncoder` expects that all the documents are padded, \n",
    "- with most of the padding at the beginning of the document, with each sequence beginning at a round multiple of bptt\n",
    "- and the rest of the padding at the end."
   ]
  },
  {
   "cell_type": "code",
   "execution_count": 34,
   "id": "703edec7-9adb-4b21-9633-57fa441d1161",
   "metadata": {},
   "outputs": [],
   "source": [
    "dls_clas = dsets.dataloaders(bs=bs, seq_len=sl, \n",
    "                        dl_type=dl_type,\n",
    "                       before_batch=pad_input_chunk)"
   ]
  },
  {
   "cell_type": "markdown",
   "id": "7f7f8dc5-3e63-462f-a6e4-d73a85e1c01d",
   "metadata": {},
   "source": [
    "Creating the `DataLoaders` object takes considerable amount of time, so let's save it:"
   ]
  },
  {
   "cell_type": "code",
   "execution_count": 11,
   "id": "a9672921-67c0-4ada-b618-e9f0b19222ac",
   "metadata": {
    "tags": []
   },
   "outputs": [],
   "source": [
    "torch.save(dls_clas, dls_clas_path)"
   ]
  },
  {
   "cell_type": "markdown",
   "id": "912d42b5-a0af-42de-a322-45825b7d5606",
   "metadata": {},
   "source": [
    "Let's take a look at the data:"
   ]
  },
  {
   "cell_type": "code",
   "execution_count": 35,
   "id": "abd7b9ff-b9cd-47dd-a0a6-02d4b246640f",
   "metadata": {
    "collapsed": true,
    "jupyter": {
     "outputs_hidden": true
    },
    "tags": []
   },
   "outputs": [
    {
     "name": "stderr",
     "output_type": "stream",
     "text": [
      "/home/deb/miniconda3/lib/python3.9/site-packages/fastai/torch_core.py:475: FutureWarning: The series.append method is deprecated and will be removed from pandas in a future version. Use pandas.concat instead.\n",
      "  ax = ax.append(pd.Series({label: o}))\n",
      "/home/deb/miniconda3/lib/python3.9/site-packages/fastai/torch_core.py:475: FutureWarning: The series.append method is deprecated and will be removed from pandas in a future version. Use pandas.concat instead.\n",
      "  ax = ax.append(pd.Series({label: o}))\n",
      "/home/deb/miniconda3/lib/python3.9/site-packages/fastai/torch_core.py:475: FutureWarning: The series.append method is deprecated and will be removed from pandas in a future version. Use pandas.concat instead.\n",
      "  ax = ax.append(pd.Series({label: o}))\n",
      "/home/deb/miniconda3/lib/python3.9/site-packages/fastai/torch_core.py:475: FutureWarning: The series.append method is deprecated and will be removed from pandas in a future version. Use pandas.concat instead.\n",
      "  ax = ax.append(pd.Series({label: o}))\n",
      "/home/deb/miniconda3/lib/python3.9/site-packages/fastai/torch_core.py:475: FutureWarning: The series.append method is deprecated and will be removed from pandas in a future version. Use pandas.concat instead.\n",
      "  ax = ax.append(pd.Series({label: o}))\n",
      "/home/deb/miniconda3/lib/python3.9/site-packages/fastai/torch_core.py:475: FutureWarning: The series.append method is deprecated and will be removed from pandas in a future version. Use pandas.concat instead.\n",
      "  ax = ax.append(pd.Series({label: o}))\n"
     ]
    },
    {
     "data": {
      "text/html": [
       "<table border=\"1\" class=\"dataframe\">\n",
       "  <thead>\n",
       "    <tr style=\"text-align: right;\">\n",
       "      <th></th>\n",
       "      <th>text</th>\n",
       "      <th>None</th>\n",
       "    </tr>\n",
       "  </thead>\n",
       "  <tbody>\n",
       "    <tr>\n",
       "      <th>0</th>\n",
       "      <td>xxbos xxmaj adolf xxmaj hitler in 1933 xxmaj pogroms : xxmaj kristallnacht   · xxmaj bucharest   · xxmaj xxunk   · xxmaj iaşi   · xxmaj kaunas   · xxmaj xxunk   · xxmaj lviv xxmaj ghettos : xxunk   · łódź   · xxmaj lwów   · xxmaj kraków   · xxmaj budapest   · xxmaj theresienstadt   · xxmaj kovno   · xxmaj vilna   · xxmaj warsaw xxmaj einsatzgruppen : xxmaj xxunk xxmaj yar   · xxmaj xxunk   · xxmaj xxunk   · xxmaj odessa   · xxmaj xxunk   · xxmaj ninth xxmaj fort xxmaj final xxmaj solution : xxmaj wannsee   · xxmaj operation xxmaj reinhard   · xxmaj holocaust trains xxmaj concentration camps : auschwitz - birkenau   · xxmaj xxunk   · xxmaj chełmno   · xxmaj majdanek   · xxmaj sobibór   · xxmaj treblinka   · xxmaj xxunk</td>\n",
       "      <td>14548;30134;22146;30392;15584;4427;17686;11212;1374;2014;13205;20424;9220;13195;9228;19586;14596;14665;3802;30517;8644;11261;9773;14733;538;1756;1758</td>\n",
       "    </tr>\n",
       "    <tr>\n",
       "      <th>1</th>\n",
       "      <td>xxpad xxpad xxpad xxpad xxpad xxpad xxpad xxpad xxpad xxpad xxpad xxpad xxpad xxpad xxpad xxpad xxpad xxpad xxpad xxpad xxpad xxpad xxpad xxpad xxpad xxpad xxpad xxpad xxpad xxpad xxpad xxpad xxpad xxpad xxpad xxpad xxpad xxpad xxpad xxpad xxpad xxpad xxpad xxpad xxpad xxpad xxpad xxpad xxpad xxpad xxpad xxpad xxpad xxpad xxpad xxpad xxpad xxpad xxpad xxpad xxpad xxpad xxpad xxpad xxpad xxpad xxpad xxpad xxpad xxpad xxpad xxpad xxpad xxpad xxpad xxpad xxpad xxpad xxpad xxpad xxpad xxpad xxpad xxpad xxpad xxpad xxpad xxpad xxpad xxpad xxpad xxpad xxpad xxpad xxpad xxpad xxpad xxpad xxpad xxpad xxpad xxpad xxpad xxpad xxpad xxpad xxpad xxpad xxpad xxpad xxpad xxpad xxpad xxpad xxpad xxpad xxpad xxpad xxpad xxpad xxpad xxpad xxpad xxpad xxpad xxpad xxpad xxpad xxpad xxpad xxpad xxpad xxpad xxpad xxpad xxpad xxpad xxpad xxpad xxpad xxpad xxpad xxpad xxpad xxpad xxpad xxpad xxpad xxpad xxpad</td>\n",
       "      <td>14548;30134;30459;30392;3093;24130;24553;19432;21792;27679;3165;3152;3101;19815;21789;30920;30929;819</td>\n",
       "    </tr>\n",
       "    <tr>\n",
       "      <th>2</th>\n",
       "      <td>xxpad xxpad xxpad xxpad xxpad xxpad xxpad xxpad xxpad xxpad xxpad xxpad xxpad xxpad xxpad xxpad xxpad xxpad xxpad xxpad xxpad xxpad xxpad xxpad xxpad xxpad xxpad xxpad xxpad xxpad xxpad xxpad xxpad xxpad xxpad xxpad xxpad xxpad xxpad xxpad xxpad xxpad xxpad xxpad xxpad xxpad xxpad xxpad xxpad xxpad xxpad xxpad xxpad xxpad xxpad xxpad xxpad xxpad xxpad xxpad xxpad xxpad xxpad xxpad xxpad xxpad xxpad xxpad xxpad xxpad xxpad xxpad xxpad xxpad xxpad xxpad xxpad xxpad xxpad xxpad xxpad xxpad xxpad xxpad xxpad xxpad xxpad xxpad xxpad xxpad xxpad xxpad xxpad xxpad xxpad xxpad xxpad xxpad xxpad xxpad xxpad xxpad xxpad xxpad xxpad xxpad xxpad xxpad xxpad xxpad xxpad xxpad xxpad xxpad xxpad xxpad xxpad xxpad xxpad xxpad xxpad xxpad xxpad xxpad xxpad xxpad xxpad xxpad xxpad xxpad xxpad xxpad xxpad xxpad xxpad xxpad xxpad xxpad xxpad xxpad xxpad xxpad xxpad xxpad xxpad xxpad xxpad xxpad xxpad xxpad</td>\n",
       "      <td>14548;24485;30071;30134;15155;10794;22878;24384;25224;8002;29744;13102;14927;8006;28406;18650;28947;25633;13897;8533;14926;4942</td>\n",
       "    </tr>\n",
       "  </tbody>\n",
       "</table>"
      ],
      "text/plain": [
       "<IPython.core.display.HTML object>"
      ]
     },
     "metadata": {},
     "output_type": "display_data"
    }
   ],
   "source": [
    "dls_clas.show_batch(max_n=3)"
   ]
  },
  {
   "cell_type": "code",
   "execution_count": 24,
   "id": "9820c4f7-992d-4e73-bc57-cb5723107135",
   "metadata": {
    "tags": []
   },
   "outputs": [],
   "source": [
    "dls_clas = torch.load(dls_clas_path)"
   ]
  },
  {
   "cell_type": "markdown",
   "id": "cade1200-2f43-4154-b87f-16f0de775be0",
   "metadata": {
    "tags": []
   },
   "source": [
    "## `Learner` for Multi-Label Classifier Fine-Tuning"
   ]
  },
  {
   "cell_type": "code",
   "execution_count": 6,
   "id": "2858f56c-d4d0-4f04-9e2d-a09ce5e727ce",
   "metadata": {
    "tags": []
   },
   "outputs": [],
   "source": [
    "dls_clas = torch.load(dls_clas_path)"
   ]
  },
  {
   "cell_type": "code",
   "execution_count": 7,
   "id": "468715d2-ea13-4a1e-8c33-4d84fe679f2c",
   "metadata": {
    "tags": []
   },
   "outputs": [],
   "source": [
    "learn = text_classifier_learner(dls_clas, AWD_LSTM, drop_mult=0.1, max_len=72*20, metrics=partial(PrecisionK, k=5)).to_fp16()"
   ]
  },
  {
   "cell_type": "code",
   "execution_count": 8,
   "id": "be7dee3e-c3b6-4178-9e2b-9dd2bf0ae466",
   "metadata": {},
   "outputs": [],
   "source": [
    "learn = learn.load_encoder('finetuned')"
   ]
  },
  {
   "cell_type": "markdown",
   "id": "b930a4fe-b949-466b-9e49-28423a42f246",
   "metadata": {
    "tags": []
   },
   "source": [
    "## Fine-Tuning the Classifier "
   ]
  },
  {
   "cell_type": "code",
   "execution_count": 27,
   "id": "7e37696e-eb57-417a-95fd-6ea787aa3d07",
   "metadata": {},
   "outputs": [],
   "source": [
    "# lr_min, lr_steep, lr_valley, lr_slide = learn.lr_find(suggest_funcs=(minimum, steep, valley, slide))\n",
    "# lr_min, lr_steep, lr_valley, lr_slide"
   ]
  },
  {
   "cell_type": "code",
   "execution_count": 9,
   "id": "b3c2ef09-2bae-48a7-bccc-64e7d877ee32",
   "metadata": {},
   "outputs": [
    {
     "data": {
      "text/html": [
       "<table border=\"1\" class=\"dataframe\">\n",
       "  <thead>\n",
       "    <tr style=\"text-align: left;\">\n",
       "      <th>epoch</th>\n",
       "      <th>train_loss</th>\n",
       "      <th>valid_loss</th>\n",
       "      <th>PrecisionK</th>\n",
       "      <th>time</th>\n",
       "    </tr>\n",
       "  </thead>\n",
       "  <tbody>\n",
       "    <tr>\n",
       "      <td>0</td>\n",
       "      <td>0.003674</td>\n",
       "      <td>0.003529</td>\n",
       "      <td>0.606137</td>\n",
       "      <td>15:38</td>\n",
       "    </tr>\n",
       "  </tbody>\n",
       "</table>"
      ],
      "text/plain": [
       "<IPython.core.display.HTML object>"
      ]
     },
     "metadata": {},
     "output_type": "display_data"
    }
   ],
   "source": [
    "learn.fit_one_cycle(1, lr_max=1e-1, moms=(0.8,0.7,0.8), wd=0.1)"
   ]
  },
  {
   "cell_type": "code",
   "execution_count": 12,
   "id": "ba597989-93f0-4e47-9deb-9c456de76ac7",
   "metadata": {},
   "outputs": [
    {
     "data": {
      "text/plain": [
       "Path('models/model.pth')"
      ]
     },
     "execution_count": 12,
     "metadata": {},
     "output_type": "execute_result"
    }
   ],
   "source": [
    "learn.save('model')"
   ]
  },
  {
   "cell_type": "code",
   "execution_count": 13,
   "id": "c905f159-c42a-4aca-a737-4e01ab03ea2d",
   "metadata": {},
   "outputs": [],
   "source": [
    "learn = learn.load('model')"
   ]
  },
  {
   "cell_type": "code",
   "execution_count": 18,
   "id": "cf6c5b1b-335d-46c3-a87f-10a4d1b399d0",
   "metadata": {},
   "outputs": [],
   "source": [
    "learn.metrics = partial(PrecisionK, k=19)"
   ]
  },
  {
   "cell_type": "code",
   "execution_count": 19,
   "id": "c2185535-23fa-4e79-9d3f-b189f1a4754f",
   "metadata": {},
   "outputs": [
    {
     "data": {
      "text/html": [],
      "text/plain": [
       "<IPython.core.display.HTML object>"
      ]
     },
     "metadata": {},
     "output_type": "display_data"
    },
    {
     "data": {
      "text/plain": [
       "(#2) [0.0035288804210722446,0.31026061223190976]"
      ]
     },
     "execution_count": 19,
     "metadata": {},
     "output_type": "execute_result"
    }
   ],
   "source": [
    "learn.validate()"
   ]
  },
  {
   "cell_type": "code",
   "execution_count": 11,
   "id": "b82bdbe5-a8de-4950-8ca8-724409f0b42a",
   "metadata": {},
   "outputs": [],
   "source": [
    "learn.freeze_to(-2)"
   ]
  },
  {
   "cell_type": "code",
   "execution_count": null,
   "id": "c5738541-2386-44dd-afcd-990b914c75d9",
   "metadata": {},
   "outputs": [],
   "source": [
    "learn.fit_one_cycle(8, lr_max=1e-2, moms=(0.8,0.7,0.8), wd=0.1, cbs=SaveModelCallback())"
   ]
  },
  {
   "cell_type": "code",
   "execution_count": null,
   "id": "4cf880fa-2aa6-4734-878f-86155976bdbe",
   "metadata": {},
   "outputs": [],
   "source": [
    "learn.freeze_to(-3)"
   ]
  },
  {
   "cell_type": "code",
   "execution_count": null,
   "id": "130f43f6-accf-4182-a1e8-3729ed250f3b",
   "metadata": {
    "tags": []
   },
   "outputs": [],
   "source": [
    "learn.fit_one_cycle(10, lr_max=1e-3, moms=(0.8,0.7,0.8), wd=0.4, cbs=SaveModelCallback(fname=path_model/'caml_clas_sample_10percent'))"
   ]
  },
  {
   "cell_type": "code",
   "execution_count": null,
   "id": "132602f4-1b20-4ce7-bfc5-00e560a46d7c",
   "metadata": {},
   "outputs": [],
   "source": [
    "learn.unfreeze()"
   ]
  },
  {
   "cell_type": "code",
   "execution_count": null,
   "id": "7bf16f6d-f7ec-4b2e-9a1a-48211adbcd00",
   "metadata": {},
   "outputs": [],
   "source": [
    "learn.fit_one_cycle(5, lr_max=1e-4, moms=(0.8,0.7,0.8), wd=0.4)"
   ]
  },
  {
   "cell_type": "code",
   "execution_count": null,
   "id": "96c125e9-187b-483b-a8b1-0d13330cb72b",
   "metadata": {},
   "outputs": [],
   "source": [
    "learn.recorder.plot_loss()"
   ]
  },
  {
   "cell_type": "code",
   "execution_count": null,
   "id": "4bed0646-cfcc-4ed5-b1a9-c9a96ff5694e",
   "metadata": {},
   "outputs": [],
   "source": [
    "plt.plot(L(learn.recorder.values).itemgot(2));"
   ]
  }
 ],
 "metadata": {
  "kernelspec": {
   "display_name": "Python 3 (ipykernel)",
   "language": "python",
   "name": "python3"
  },
  "language_info": {
   "codemirror_mode": {
    "name": "ipython",
    "version": 3
   },
   "file_extension": ".py",
   "mimetype": "text/x-python",
   "name": "python",
   "nbconvert_exporter": "python",
   "pygments_lexer": "ipython3",
   "version": "3.9.9"
  }
 },
 "nbformat": 4,
 "nbformat_minor": 5
}
