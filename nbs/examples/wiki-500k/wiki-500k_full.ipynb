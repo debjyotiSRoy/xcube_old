{
 "cells": [
  {
   "cell_type": "raw",
   "metadata": {},
   "source": [
    "---\n",
    "description: API details\n",
    "output-file: wiki-full.html\n",
    "title: Wiki-500K\n",
    "\n",
    "---\n",
    "\n"
   ]
  },
  {
   "cell_type": "code",
   "execution_count": null,
   "id": "6c4623f6-43a3-4d46-9059-b65d8ee95562",
   "metadata": {},
   "outputs": [],
   "source": [
    "#| include: false\n",
    "#skip\n",
    "! [ -e /content ] && pip install -Uqq fastai  # upgrade fastai on colab"
   ]
  },
  {
   "cell_type": "code",
   "execution_count": null,
   "id": "27b40bc0-c654-4803-aba1-59e75c4450a6",
   "metadata": {},
   "outputs": [],
   "source": [
    "%load_ext autoreload\n",
    "%autoreload 2"
   ]
  },
  {
   "cell_type": "code",
   "execution_count": null,
   "id": "221be366-f6ee-4e37-9905-6649e850b9af",
   "metadata": {},
   "outputs": [],
   "source": [
    "import fastbook\n",
    "fastbook.setup_book()\n",
    "\n",
    "from fastbook import *"
   ]
  },
  {
   "cell_type": "markdown",
   "id": "7b696f14-b657-4a62-9317-b78d5625fb09",
   "metadata": {},
   "source": [
    "Application specific imports"
   ]
  },
  {
   "cell_type": "code",
   "execution_count": null,
   "id": "a6361109-5606-4b3a-b69a-9e8a033191fd",
   "metadata": {},
   "outputs": [],
   "source": [
    "from fastai.text.all import *\n",
    "from fastai.distributed import *\n",
    "\n",
    "from xcube.text.learner import text_classifier_learner\n",
    "from xcube.metrics import PrecisionK"
   ]
  },
  {
   "cell_type": "markdown",
   "id": "36823127-3853-4817-a095-bd6e30d6d807",
   "metadata": {},
   "source": [
    "#### Setting the base path as the path of the repository"
   ]
  },
  {
   "cell_type": "code",
   "execution_count": null,
   "id": "d66d116e-4705-48b6-abb9-2d3875d9fa58",
   "metadata": {},
   "outputs": [
    {
     "name": "stdout",
     "output_type": "stream",
     "text": [
      " path = Path('/home/deb/xcube/nbs/examples/wiki-500k'),\n",
      " path_data = Path('/home/deb/xcube/nbs/examples/wiki-500k/data'),\n",
      " path_model = Path('/home/deb/xcube/nbs/examples/wiki-500k/models'),\n",
      " file_prefix = 'wiki-500k',\n",
      " data = Path('/home/deb/xcube/nbs/examples/wiki-500k/data/wiki-500k.csv'),\n",
      " dls_lm_path =Path('/home/deb/xcube/nbs/examples/wiki-500k/models/wiki-500k_dls_lm.pkl'),\n",
      " dls_lm_vocab_path = Path('/home/deb/xcube/nbs/examples/wiki-500k/models/wiki-500k_dls_lm_vocab.pkl'),\n",
      " dls_clas_path = Path('/home/deb/xcube/nbs/examples/wiki-500k/models/wiki-500k_dls_clas.pkl').\n"
     ]
    }
   ],
   "source": [
    "path = Path.cwd()\n",
    "path_data = path/'data'\n",
    "path_model = path/'models'\n",
    "\n",
    "path_model.mkdir(exist_ok=True)\n",
    "path_data.mkdir(exist_ok=True)\n",
    "\n",
    "file_prefix = 'wiki-500k'\n",
    "\n",
    "data = path_data/(file_prefix+'.csv')\n",
    "dls_lm_path = path_model/f\"{file_prefix}_dls_lm.pkl\"\n",
    "dls_lm_vocab_path = path_model/f\"{file_prefix}_dls_lm_vocab.pkl\"\n",
    "dls_clas_path = path_model/f\"{file_prefix}_dls_clas.pkl\"\n",
    "\n",
    "print(f\"{ path = },\\n {path_data = },\\n {path_model = },\\n {file_prefix = },\\n {data = },\\n {dls_lm_path =},\\n {dls_lm_vocab_path = },\\n {dls_clas_path = }.\")"
   ]
  },
  {
   "cell_type": "markdown",
   "id": "b94d38cc-a7f6-41e8-a03a-fdf9ab0425e7",
   "metadata": {},
   "source": [
    "## `DataLoaders` for the Language Model"
   ]
  },
  {
   "cell_type": "markdown",
   "id": "9ac59c07-e293-4b5f-bd04-d6713a666149",
   "metadata": {},
   "source": [
    "To be able to use Transfer Learning, first we need to fine-tune our Language Model (which we pretrained on Wikipedia) on the corpus of Wiki-500k (the one we downloaded). Here we will build the `DataLoaders` object using fastai's `DataBlock` API:"
   ]
  },
  {
   "cell_type": "code",
   "execution_count": null,
   "id": "7d975039-5d20-4c72-9e45-7bfa4f29a5de",
   "metadata": {},
   "outputs": [],
   "source": [
    "# !head -n 1 {data}"
   ]
  },
  {
   "cell_type": "code",
   "execution_count": null,
   "id": "72a1ad49-9d8c-4638-ac02-79e423ecea8a",
   "metadata": {},
   "outputs": [],
   "source": [
    "df = pd.read_csv(data, header=0, names=['text', 'labels', 'is_valid'], dtype={'text': str, 'labels': str})"
   ]
  },
  {
   "cell_type": "code",
   "execution_count": null,
   "id": "d8df0945-d3fc-4dfa-938f-de8d293525d6",
   "metadata": {},
   "outputs": [
    {
     "data": {
      "text/plain": [
       "2549302"
      ]
     },
     "execution_count": null,
     "metadata": {},
     "output_type": "execute_result"
    }
   ],
   "source": [
    "len(df)"
   ]
  },
  {
   "cell_type": "code",
   "execution_count": null,
   "id": "3cbe3d5e-f89d-4bc3-948c-0b0b207daa7c",
   "metadata": {},
   "outputs": [],
   "source": [
    "df[['text', 'labels']] = df[['text', 'labels']].astype(str)"
   ]
  },
  {
   "cell_type": "markdown",
   "id": "4e46ed25-151f-4edf-9c54-a7467358c21e",
   "metadata": {},
   "source": [
    "Let's take a look at the data:"
   ]
  },
  {
   "cell_type": "code",
   "execution_count": null,
   "id": "d685b095-a14e-4276-9f16-31170609b6c5",
   "metadata": {},
   "outputs": [
    {
     "data": {
      "text/html": [
       "<div>\n",
       "<style scoped>\n",
       "    .dataframe tbody tr th:only-of-type {\n",
       "        vertical-align: middle;\n",
       "    }\n",
       "\n",
       "    .dataframe tbody tr th {\n",
       "        vertical-align: top;\n",
       "    }\n",
       "\n",
       "    .dataframe thead th {\n",
       "        text-align: right;\n",
       "    }\n",
       "</style>\n",
       "<table border=\"1\" class=\"dataframe\">\n",
       "  <thead>\n",
       "    <tr style=\"text-align: right;\">\n",
       "      <th></th>\n",
       "      <th>text</th>\n",
       "      <th>labels</th>\n",
       "      <th>is_valid</th>\n",
       "    </tr>\n",
       "  </thead>\n",
       "  <tbody>\n",
       "    <tr>\n",
       "      <th>0</th>\n",
       "      <td>Anarchism is a political philosophy that advocates self-governed societies based on voluntary institutions. These are often described as stateless societies, although several authors have defined them more specifically as institutions based on non-hierarchical or free associations. Anarchism holds the state to be undesirable, unnecessary and harmful.While opposition to the state is central, anarchism specifically entails opposing authority or hierarchical organisation in the conduct of all human relations. Anarchism is usually considered a far-left ideology and much of anarchist economics ...</td>\n",
       "      <td>81199,83757,83805,193030,368811,368937,423960</td>\n",
       "      <td>False</td>\n",
       "    </tr>\n",
       "    <tr>\n",
       "      <th>1</th>\n",
       "      <td>Albedo () (Latin: albedo, meaning \"whiteness\") is the measure of the diffuse reflection of solar radiation out of the total solar radiation received by an astronomical body (e.g. a planet like Earth). It is dimensionless and measured on a scale from 0 (corresponding to a black body that absorbs all incident radiation) to 1 (corresponding to a body that reflects all incident radiation). Surface albedo is defined as the ratio of irradiance reflected to the irradiance received by a surface. The proportion reflected is not only determined by properties of the surface itself, but also by the sp...</td>\n",
       "      <td>144177,144212,182348,386554,387310,410664</td>\n",
       "      <td>False</td>\n",
       "    </tr>\n",
       "    <tr>\n",
       "      <th>2</th>\n",
       "      <td>In Greek mythology, Achilles or Achilleus ( ə-KIL-eez; Greek: Ἀχιλλεύς, Achilleus [a.kʰil.le͜ús]) was a Greek hero of the Trojan War and the central character and greatest warrior of Homer's Iliad. His mother was the immortal Nereid Thetis, and his father, the mortal Peleus, was the king of the Myrmidons.  Achilles' most notable feat during the Trojan War was the slaying of the Trojan hero Hector outside the gates of Troy. Although the death of Achilles is not presented in the Iliad, other sources concur that he was killed near the end of the Trojan War by Paris, who shot him in the heel w...</td>\n",
       "      <td>134702,167207,225935,362613,457078</td>\n",
       "      <td>False</td>\n",
       "    </tr>\n",
       "  </tbody>\n",
       "</table>\n",
       "</div>"
      ],
      "text/plain": [
       "                                                                                                                                                                                                                                                                                                                                                                                                                                                                                                                                                                                                                      text  \\\n",
       "0  Anarchism is a political philosophy that advocates self-governed societies based on voluntary institutions. These are often described as stateless societies, although several authors have defined them more specifically as institutions based on non-hierarchical or free associations. Anarchism holds the state to be undesirable, unnecessary and harmful.While opposition to the state is central, anarchism specifically entails opposing authority or hierarchical organisation in the conduct of all human relations. Anarchism is usually considered a far-left ideology and much of anarchist economics ...   \n",
       "1  Albedo () (Latin: albedo, meaning \"whiteness\") is the measure of the diffuse reflection of solar radiation out of the total solar radiation received by an astronomical body (e.g. a planet like Earth). It is dimensionless and measured on a scale from 0 (corresponding to a black body that absorbs all incident radiation) to 1 (corresponding to a body that reflects all incident radiation). Surface albedo is defined as the ratio of irradiance reflected to the irradiance received by a surface. The proportion reflected is not only determined by properties of the surface itself, but also by the sp...   \n",
       "2  In Greek mythology, Achilles or Achilleus ( ə-KIL-eez; Greek: Ἀχιλλεύς, Achilleus [a.kʰil.le͜ús]) was a Greek hero of the Trojan War and the central character and greatest warrior of Homer's Iliad. His mother was the immortal Nereid Thetis, and his father, the mortal Peleus, was the king of the Myrmidons.  Achilles' most notable feat during the Trojan War was the slaying of the Trojan hero Hector outside the gates of Troy. Although the death of Achilles is not presented in the Iliad, other sources concur that he was killed near the end of the Trojan War by Paris, who shot him in the heel w...   \n",
       "\n",
       "                                          labels  is_valid  \n",
       "0  81199,83757,83805,193030,368811,368937,423960     False  \n",
       "1      144177,144212,182348,386554,387310,410664     False  \n",
       "2             134702,167207,225935,362613,457078     False  "
      ]
     },
     "execution_count": null,
     "metadata": {},
     "output_type": "execute_result"
    }
   ],
   "source": [
    "df.head(3)"
   ]
  },
  {
   "cell_type": "markdown",
   "id": "66718388-da8d-4f38-ae96-efb29e2e5e83",
   "metadata": {},
   "source": [
    "We will now create the `DataLoaders` using `DataBlock` API:"
   ]
  },
  {
   "cell_type": "code",
   "execution_count": null,
   "id": "a888ae1e-3c7e-4394-876d-ff79f8679411",
   "metadata": {},
   "outputs": [],
   "source": [
    "dls_lm = DataBlock(\n",
    "    blocks   = TextBlock.from_df('text', is_lm=True, n_workers=4),\n",
    "    get_x    = ColReader('text'),\n",
    "    splitter = RandomSplitter(0.1)\n",
    ").dataloaders(df, bs=384, seq_len=80)"
   ]
  },
  {
   "cell_type": "markdown",
   "id": "109ad077-b9ba-4567-897c-1fd69fbf7e4e",
   "metadata": {},
   "source": [
    "Let's take a look at the batches:"
   ]
  },
  {
   "cell_type": "code",
   "execution_count": null,
   "id": "fb5eb28e-94a7-4448-a4e3-0151959e16ba",
   "metadata": {},
   "outputs": [
    {
     "name": "stderr",
     "output_type": "stream",
     "text": [
      "/home/deb/miniconda3/lib/python3.9/site-packages/fastai/torch_core.py:475: FutureWarning: The series.append method is deprecated and will be removed from pandas in a future version. Use pandas.concat instead.\n",
      "  ax = ax.append(pd.Series({label: o}))\n",
      "/home/deb/miniconda3/lib/python3.9/site-packages/fastai/torch_core.py:475: FutureWarning: The series.append method is deprecated and will be removed from pandas in a future version. Use pandas.concat instead.\n",
      "  ax = ax.append(pd.Series({label: o}))\n",
      "/home/deb/miniconda3/lib/python3.9/site-packages/fastai/torch_core.py:475: FutureWarning: The series.append method is deprecated and will be removed from pandas in a future version. Use pandas.concat instead.\n",
      "  ax = ax.append(pd.Series({label: o}))\n",
      "/home/deb/miniconda3/lib/python3.9/site-packages/fastai/torch_core.py:475: FutureWarning: The series.append method is deprecated and will be removed from pandas in a future version. Use pandas.concat instead.\n",
      "  ax = ax.append(pd.Series({label: o}))\n"
     ]
    },
    {
     "data": {
      "text/html": [
       "<table border=\"1\" class=\"dataframe\">\n",
       "  <thead>\n",
       "    <tr style=\"text-align: right;\">\n",
       "      <th></th>\n",
       "      <th>text</th>\n",
       "      <th>text_</th>\n",
       "    </tr>\n",
       "  </thead>\n",
       "  <tbody>\n",
       "    <tr>\n",
       "      <th>0</th>\n",
       "      <td>xxbos xxmaj neck xxmaj road ( formerly xxmaj gravesend xxmaj neck xxmaj road ) is a local station on the xxup bmt xxmaj brighton xxmaj line of the xxmaj new xxmaj york xxmaj city xxmaj subway . xxmaj served by the q train at all times , it is located at xxmaj gravesend xxmaj neck xxmaj road between xxmaj east 15th and xxmaj east 16th xxmaj streets in xxmaj xxunk , xxmaj brooklyn . = = xxmaj station layout =</td>\n",
       "      <td>xxmaj neck xxmaj road ( formerly xxmaj gravesend xxmaj neck xxmaj road ) is a local station on the xxup bmt xxmaj brighton xxmaj line of the xxmaj new xxmaj york xxmaj city xxmaj subway . xxmaj served by the q train at all times , it is located at xxmaj gravesend xxmaj neck xxmaj road between xxmaj east 15th and xxmaj east 16th xxmaj streets in xxmaj xxunk , xxmaj brooklyn . = = xxmaj station layout = =</td>\n",
       "    </tr>\n",
       "    <tr>\n",
       "      <th>1</th>\n",
       "      <td>rapes arranged as he believed him to be writing a piece on prison corruption for xxmaj the xxmaj washington xxmaj post . xxmaj that night , xxmaj donaldson was lured into a cell by a prisoner who claimed that he and his friends wanted to ' discuss pacifism ' with him in their cells . xxmaj he was then xxunk and orally raped dozens of times by an estimated 45 male inmates . xxmaj he suffered additional abuse a second</td>\n",
       "      <td>arranged as he believed him to be writing a piece on prison corruption for xxmaj the xxmaj washington xxmaj post . xxmaj that night , xxmaj donaldson was lured into a cell by a prisoner who claimed that he and his friends wanted to ' discuss pacifism ' with him in their cells . xxmaj he was then xxunk and orally raped dozens of times by an estimated 45 male inmates . xxmaj he suffered additional abuse a second night</td>\n",
       "    </tr>\n",
       "  </tbody>\n",
       "</table>"
      ],
      "text/plain": [
       "<IPython.core.display.HTML object>"
      ]
     },
     "metadata": {},
     "output_type": "display_data"
    }
   ],
   "source": [
    "dls_lm.show_batch(max_n=2)"
   ]
  },
  {
   "cell_type": "markdown",
   "id": "f39427f5-8bb3-4330-abf1-a37fe875ef06",
   "metadata": {},
   "source": [
    "The length of our vocabulary is:"
   ]
  },
  {
   "cell_type": "code",
   "execution_count": null,
   "id": "ff8eff9f-2e0b-49bd-a831-98c1152ffbeb",
   "metadata": {},
   "outputs": [
    {
     "data": {
      "text/plain": [
       "60008"
      ]
     },
     "execution_count": null,
     "metadata": {},
     "output_type": "execute_result"
    }
   ],
   "source": [
    "len(dls_lm.vocab)"
   ]
  },
  {
   "cell_type": "markdown",
   "id": "945db402-b7a7-44cf-9ad3-ccc19e6086cd",
   "metadata": {},
   "source": [
    "Let's take a look at some words of the vocab:"
   ]
  },
  {
   "cell_type": "code",
   "execution_count": null,
   "id": "6e968ac3-7892-44cd-a5cf-a393faed199f",
   "metadata": {},
   "outputs": [
    {
     "name": "stdout",
     "output_type": "stream",
     "text": [
      "(#60008) ['xxunk','xxpad','xxbos','xxeos','xxfld','xxrep','xxwrep','xxup','xxmaj','the',',','.','of','=','and','in','a','to','-','(',')','\"','was','is','for','on','as','3','by','with'...]\n"
     ]
    }
   ],
   "source": [
    "print(coll_repr(L(dls_lm.vocab), 30))"
   ]
  },
  {
   "cell_type": "markdown",
   "id": "ed6c7ecf-6561-468f-83eb-98c76e839548",
   "metadata": {},
   "source": [
    "Creating the `DataLaoders` takes some time, so smash that *save* button (also a good idea to save the `dls_lm.vocab` for later use):"
   ]
  },
  {
   "cell_type": "code",
   "execution_count": null,
   "id": "8cbd5c4a-9461-4e74-823c-5d7df6175aad",
   "metadata": {},
   "outputs": [],
   "source": [
    "torch.save(dls_lm, path_model/'wiki-500k_dls_lm.pkl')\n",
    "torch.save(dls_lm.vocab, path_model/'wiki-500k_dls_lm_vocab.pkl')"
   ]
  },
  {
   "cell_type": "markdown",
   "id": "684b7367-644f-4399-a024-8515424f3e4e",
   "metadata": {},
   "source": [
    "To load back the `dls_lm` later on:"
   ]
  },
  {
   "cell_type": "code",
   "execution_count": null,
   "id": "aef4e101-6045-4ccb-8719-8bf6ccf2133c",
   "metadata": {},
   "outputs": [],
   "source": [
    "dls_lm = torch.load(path_model/'wiki-500k_dls_lm.pkl')"
   ]
  },
  {
   "cell_type": "markdown",
   "id": "0a8a2862-9586-4348-af00-7f88ee98f283",
   "metadata": {},
   "source": [
    "## `Learner` for the Language Model Fine-Tuning:"
   ]
  },
  {
   "cell_type": "code",
   "execution_count": null,
   "id": "066b8008-c451-488b-bcd5-c2c56e520fd7",
   "metadata": {},
   "outputs": [],
   "source": [
    "learn = language_model_learner(\n",
    "    dls_lm, AWD_LSTM, drop_mult=0.3,\n",
    "    metrics=[accuracy, Perplexity()]).to_fp16()"
   ]
  },
  {
   "cell_type": "markdown",
   "id": "e54a2908-b1d0-4d84-9de5-5a1cc3a8cd70",
   "metadata": {},
   "source": [
    "Let's compute the learning rate using the `lr_find`:"
   ]
  },
  {
   "cell_type": "code",
   "execution_count": null,
   "id": "8a6ce819-c842-4e63-bde1-0e4782e4ac2c",
   "metadata": {},
   "outputs": [
    {
     "data": {
      "text/html": [],
      "text/plain": [
       "<IPython.core.display.HTML object>"
      ]
     },
     "metadata": {},
     "output_type": "display_data"
    },
    {
     "data": {
      "text/plain": [
       "(0.017378008365631102,\n",
       " 0.03981071710586548,\n",
       " 0.00363078061491251,\n",
       " 0.015848932787775993)"
      ]
     },
     "execution_count": null,
     "metadata": {},
     "output_type": "execute_result"
    },
    {
     "data": {
      "image/png": "[encoded data removed]",
      "text/plain": [
       "<Figure size 432x288 with 1 Axes>"
      ]
     },
     "metadata": {
      "needs_background": "light"
     },
     "output_type": "display_data"
    }
   ],
   "source": [
    "lr_min, lr_steep, lr_valley, lr_slide = learn.lr_find(suggest_funcs=(minimum, steep, valley, slide))\n",
    "lr_min, lr_steep, lr_valley, lr_slide"
   ]
  },
  {
   "cell_type": "code",
   "execution_count": null,
   "id": "25870a9c-b75b-4f9b-a64a-6e761aba62d9",
   "metadata": {},
   "outputs": [
    {
     "data": {
      "text/html": [
       "<table border=\"1\" class=\"dataframe\">\n",
       "  <thead>\n",
       "    <tr style=\"text-align: left;\">\n",
       "      <th>epoch</th>\n",
       "      <th>train_loss</th>\n",
       "      <th>valid_loss</th>\n",
       "      <th>accuracy</th>\n",
       "      <th>perplexity</th>\n",
       "      <th>time</th>\n",
       "    </tr>\n",
       "  </thead>\n",
       "  <tbody>\n",
       "    <tr>\n",
       "      <td>0</td>\n",
       "      <td>3.488356</td>\n",
       "      <td>3.449270</td>\n",
       "      <td>0.399913</td>\n",
       "      <td>31.477398</td>\n",
       "      <td>04:24</td>\n",
       "    </tr>\n",
       "  </tbody>\n",
       "</table>"
      ],
      "text/plain": [
       "<IPython.core.display.HTML object>"
      ]
     },
     "metadata": {},
     "output_type": "display_data"
    }
   ],
   "source": [
    "learn.fit_one_cycle(1, lr_min)"
   ]
  },
  {
   "cell_type": "markdown",
   "id": "16d534d2-d91c-4f83-91e8-3034c0c84c7c",
   "metadata": {},
   "source": [
    "It takes quite a while to train each epoch, so we'll be saving the intermediate model results during the training process:"
   ]
  },
  {
   "cell_type": "code",
   "execution_count": null,
   "id": "6e918e54-0198-483e-8bd6-c56678275841",
   "metadata": {},
   "outputs": [
    {
     "data": {
      "text/plain": [
       "Path('/home/deb/xcube/nbs/examples/mimic/models/caml_lm_recent.pth')"
      ]
     },
     "execution_count": null,
     "metadata": {},
     "output_type": "execute_result"
    }
   ],
   "source": [
    "learn.save(path_model/'wiki-500k_lm')"
   ]
  },
  {
   "cell_type": "markdown",
   "id": "11ac265e-6f06-4ade-930f-1df874b172ae",
   "metadata": {},
   "source": [
    "Let's now load back the `Learner`"
   ]
  },
  {
   "cell_type": "code",
   "execution_count": null,
   "id": "f4a613dc-43fc-4604-b4e5-31575bc97e3c",
   "metadata": {},
   "outputs": [],
   "source": [
    "learn = learn.load(path_model/'wiki-500k_lm')"
   ]
  },
  {
   "cell_type": "markdown",
   "id": "3c8546b7-c8c5-44b4-9ea9-08cab3c11b0b",
   "metadata": {},
   "source": [
    "Let's validate the `Learner` to make sure we loaded the correct version:"
   ]
  },
  {
   "cell_type": "code",
   "execution_count": null,
   "id": "66b6809d-3c16-476d-861f-91c05794683b",
   "metadata": {},
   "outputs": [],
   "source": [
    "learn.validate()"
   ]
  },
  {
   "cell_type": "markdown",
   "id": "06b4d2ec-b57d-4b2a-b63d-a549558b8132",
   "metadata": {},
   "source": [
    "Since we have completed the initial training, we will now continue fine-tuning the model after unfreezing:"
   ]
  },
  {
   "cell_type": "code",
   "execution_count": null,
   "id": "ba11c6fe-524a-4d72-bc37-dc3508e7f598",
   "metadata": {},
   "outputs": [],
   "source": [
    "learn.unfreeze()"
   ]
  },
  {
   "cell_type": "markdown",
   "id": "87abcdc8-8816-44e3-a11c-58de1b9ad4dd",
   "metadata": {},
   "source": [
    "and run `lr_find` again, because we now have more layers to train, and the last layers weight have already been trained for one epoch:"
   ]
  },
  {
   "cell_type": "code",
   "execution_count": null,
   "id": "dd9d5c54-7199-4364-9aee-b5b9c0467108",
   "metadata": {},
   "outputs": [],
   "source": [
    "lr_min, lr_steep, lr_valley, lr_slide = learn.lr_find(suggest_funcs=(minimum, steep, valley, slide))\n",
    "lr_min, lr_steep, lr_valley, lr_slide"
   ]
  },
  {
   "cell_type": "markdown",
   "id": "55d37b25-63d5-43bc-93fe-0f82c47b5677",
   "metadata": {},
   "source": [
    "Let's now traing with a suitable learning rate:"
   ]
  },
  {
   "cell_type": "code",
   "execution_count": null,
   "id": "039fb4f9-0b5d-4a26-9330-6a72a2bc02a5",
   "metadata": {},
   "outputs": [
    {
     "data": {
      "text/html": [
       "<table border=\"1\" class=\"dataframe\">\n",
       "  <thead>\n",
       "    <tr style=\"text-align: left;\">\n",
       "      <th>epoch</th>\n",
       "      <th>train_loss</th>\n",
       "      <th>valid_loss</th>\n",
       "      <th>accuracy</th>\n",
       "      <th>perplexity</th>\n",
       "      <th>time</th>\n",
       "    </tr>\n",
       "  </thead>\n",
       "  <tbody>\n",
       "    <tr>\n",
       "      <td>0</td>\n",
       "      <td>2.700497</td>\n",
       "      <td>2.601790</td>\n",
       "      <td>0.498114</td>\n",
       "      <td>13.487859</td>\n",
       "      <td>21:50</td>\n",
       "    </tr>\n",
       "    <tr>\n",
       "      <td>1</td>\n",
       "      <td>2.532751</td>\n",
       "      <td>2.447730</td>\n",
       "      <td>0.516926</td>\n",
       "      <td>11.562066</td>\n",
       "      <td>21:53</td>\n",
       "    </tr>\n",
       "    <tr>\n",
       "      <td>2</td>\n",
       "      <td>2.438119</td>\n",
       "      <td>2.364874</td>\n",
       "      <td>0.527396</td>\n",
       "      <td>10.642694</td>\n",
       "      <td>21:45</td>\n",
       "    </tr>\n",
       "    <tr>\n",
       "      <td>3</td>\n",
       "      <td>2.373062</td>\n",
       "      <td>2.317114</td>\n",
       "      <td>0.533622</td>\n",
       "      <td>10.146353</td>\n",
       "      <td>21:37</td>\n",
       "    </tr>\n",
       "    <tr>\n",
       "      <td>4</td>\n",
       "      <td>2.315276</td>\n",
       "      <td>2.284130</td>\n",
       "      <td>0.538038</td>\n",
       "      <td>9.817142</td>\n",
       "      <td>21:30</td>\n",
       "    </tr>\n",
       "    <tr>\n",
       "      <td>5</td>\n",
       "      <td>2.294005</td>\n",
       "      <td>2.259134</td>\n",
       "      <td>0.541297</td>\n",
       "      <td>9.574790</td>\n",
       "      <td>21:33</td>\n",
       "    </tr>\n",
       "    <tr>\n",
       "      <td>6</td>\n",
       "      <td>2.244216</td>\n",
       "      <td>2.240372</td>\n",
       "      <td>0.544038</td>\n",
       "      <td>9.396826</td>\n",
       "      <td>21:33</td>\n",
       "    </tr>\n",
       "    <tr>\n",
       "      <td>7</td>\n",
       "      <td>2.236868</td>\n",
       "      <td>2.227880</td>\n",
       "      <td>0.546116</td>\n",
       "      <td>9.280175</td>\n",
       "      <td>21:30</td>\n",
       "    </tr>\n",
       "    <tr>\n",
       "      <td>8</td>\n",
       "      <td>2.209610</td>\n",
       "      <td>2.221307</td>\n",
       "      <td>0.547150</td>\n",
       "      <td>9.219376</td>\n",
       "      <td>21:31</td>\n",
       "    </tr>\n",
       "    <tr>\n",
       "      <td>9</td>\n",
       "      <td>2.166203</td>\n",
       "      <td>2.220918</td>\n",
       "      <td>0.547269</td>\n",
       "      <td>9.215789</td>\n",
       "      <td>21:37</td>\n",
       "    </tr>\n",
       "  </tbody>\n",
       "</table>"
      ],
      "text/plain": [
       "<IPython.core.display.HTML object>"
      ]
     },
     "metadata": {},
     "output_type": "display_data"
    },
    {
     "name": "stdout",
     "output_type": "stream",
     "text": [
      "Better model found at epoch 0 with valid_loss value: 2.601789951324463.\n",
      "Better model found at epoch 1 with valid_loss value: 2.4477295875549316.\n",
      "Better model found at epoch 2 with valid_loss value: 2.3648736476898193.\n",
      "Better model found at epoch 3 with valid_loss value: 2.3171143531799316.\n",
      "Better model found at epoch 4 with valid_loss value: 2.284130096435547.\n",
      "Better model found at epoch 5 with valid_loss value: 2.2591335773468018.\n",
      "Better model found at epoch 6 with valid_loss value: 2.2403719425201416.\n",
      "Better model found at epoch 7 with valid_loss value: 2.2278804779052734.\n",
      "Better model found at epoch 8 with valid_loss value: 2.2213072776794434.\n",
      "Better model found at epoch 9 with valid_loss value: 2.2209181785583496.\n"
     ]
    }
   ],
   "source": [
    "learn.fit_one_cycle(10, lr_max=2e-3, cbs=SaveModelCallback(fname=path_model/'wiki-500k_lm'))"
   ]
  },
  {
   "cell_type": "markdown",
   "id": "fbcec4c8-d465-4cf6-b0b3-8abbc5f66aa8",
   "metadata": {},
   "source": [
    "Note: Make sure if you have trained the most language model `Learner` for more epochs (then you need to save that version)"
   ]
  },
  {
   "cell_type": "markdown",
   "id": "cb9b2519-64d9-475e-a6ca-703292e3f3eb",
   "metadata": {},
   "source": [
    "### Saving the encoder of the Language Model"
   ]
  },
  {
   "cell_type": "markdown",
   "id": "3f1065c8-eb36-4861-8026-eb945a2240e3",
   "metadata": {},
   "source": [
    "**Crucial:** Once we have trained our LM we will save all of our model except the final layer that converts activation to probabilities of picking each token in our vocabulary. The model not including the final layer has a sexy name - *encoder*. We will save it using `save_encoder` method of the `Learner`:"
   ]
  },
  {
   "cell_type": "code",
   "execution_count": null,
   "id": "76595155-9573-459e-8372-a89657661122",
   "metadata": {},
   "outputs": [],
   "source": [
    "learn.save_encoder(path_model/'wiki-500k_lm_finetuned')"
   ]
  },
  {
   "cell_type": "markdown",
   "id": "61ee007e-1f59-4123-8b32-6bed775b72d3",
   "metadata": {},
   "source": [
    "This completes the second stage of the text classification process - fine-tuning the Language Model pretrained on Wikipedia corpus. We will now use it to fine-tune a text multi-label text classifier."
   ]
  },
  {
   "cell_type": "code",
   "execution_count": null,
   "id": "fb62c383-3017-4a29-a605-d75d722baffb",
   "metadata": {},
   "outputs": [],
   "source": []
  }
 ],
 "metadata": {
  "kernelspec": {
   "display_name": "Python 3 (ipykernel)",
   "language": "python",
   "name": "python3"
  }
 },
 "nbformat": 4,
 "nbformat_minor": 5
}
