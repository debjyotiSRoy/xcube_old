{
 "cells": [
  {
   "cell_type": "markdown",
   "id": "609c5b6a",
   "metadata": {},
   "source": [
    "# Mimic-III Data Extraction"
   ]
  },
  {
   "cell_type": "code",
   "execution_count": null,
   "id": "2494daeb",
   "metadata": {},
   "outputs": [],
   "source": [
    "import fastbook\n",
    "fastbook.setup_book()"
   ]
  },
  {
   "cell_type": "code",
   "execution_count": null,
   "id": "052422f1",
   "metadata": {},
   "outputs": [],
   "source": [
    "from fastbook import *\n",
    "from IPython.display import display,HTML"
   ]
  },
  {
   "cell_type": "markdown",
   "id": "89305454",
   "metadata": {},
   "source": [
    "#### Project specific imports"
   ]
  },
  {
   "cell_type": "code",
   "execution_count": null,
   "id": "e8bc076c",
   "metadata": {},
   "outputs": [],
   "source": [
    "# import sys\n",
    "# sys.path.append('../')\n",
    "# from utils import datasets, get_discharge_summaries, concat_and_split"
   ]
  },
  {
   "cell_type": "markdown",
   "id": "a66dc8a9",
   "metadata": {},
   "source": [
    "Start by creating a data folder (in my case it is called data2) with the following files:\n",
    "\n",
    "data2\n",
    "|- NOTEEVENTS.csv   \n",
    "|- DIAGNOSES_ICD.csv  \n",
    "|- PROCEDURES_ICD.csv  \n",
    "|- *_hadm_ids.csv  \n",
    "|- D_ICD_DIAGNOSES.csv  \n",
    "|- D_ICD_PROCEDURES.csv  \n",
    "|- ICD9_descriptions  \n",
    "\n",
    "Along the way we will create some processed files and place them inside a subdirectory of data2 called data2/processed.\n",
    "\n",
    "\n",
    "When we are done with this notebook, our dataset will be ready in '/home/ubuntu/codemimic/data2/processed/notes_labelled.csv' "
   ]
  },
  {
   "cell_type": "markdown",
   "id": "8bce6c5b",
   "metadata": {},
   "source": [
    "#### Setting base path and data path:"
   ]
  },
  {
   "cell_type": "code",
   "execution_count": null,
   "id": "6b0d66fc",
   "metadata": {},
   "outputs": [],
   "source": [
    "path = Path('/home/ubuntu/codemimic')\n",
    "path_data = path/'data2'"
   ]
  },
  {
   "cell_type": "code",
   "execution_count": null,
   "id": "7b9eac34",
   "metadata": {},
   "outputs": [
    {
     "data": {
      "text/plain": [
       "(#13) [Path('/home/ubuntu/codemimic/data2/PROCEDURES_ICD.csv'),Path('/home/ubuntu/codemimic/data2/ICD9_descriptions'),Path('/home/ubuntu/codemimic/data2/NOTEEVENTS.csv'),Path('/home/ubuntu/codemimic/data2/train_full_hadm_ids.csv'),Path('/home/ubuntu/codemimic/data2/processed'),Path('/home/ubuntu/codemimic/data2/train_50_hadm_ids.csv'),Path('/home/ubuntu/codemimic/data2/test_full_hadm_ids.csv'),Path('/home/ubuntu/codemimic/data2/D_ICD_DIAGNOSES.csv'),Path('/home/ubuntu/codemimic/data2/D_ICD_PROCEDURES.csv'),Path('/home/ubuntu/codemimic/data2/dev_50_hadm_ids.csv')...]"
      ]
     },
     "execution_count": null,
     "metadata": {},
     "output_type": "execute_result"
    }
   ],
   "source": [
    "path_data.ls()"
   ]
  },
  {
   "cell_type": "code",
   "execution_count": null,
   "id": "0f3333eb",
   "metadata": {},
   "outputs": [
    {
     "name": "stdout",
     "output_type": "stream",
     "text": [
      "\u001b[01;34m/home/ubuntu/codemimic/data2\u001b[00m\r\n",
      "├── [Sep 16 17:24]  \u001b[01;34mprocessed\u001b[00m\r\n",
      "│   ├── [Sep 16 17:24]  code_descriptions.csv\r\n",
      "│   ├── [Sep 15 16:37]  notes_labelled_sample.csv\r\n",
      "│   ├── [Sep  4 19:46]  notes_labelled.csv\r\n",
      "│   ├── [Sep  4 17:10]  ALL_CODES_filtered.csv\r\n",
      "│   ├── [Sep  4 17:06]  disch_full.csv\r\n",
      "│   └── [Sep  4 16:59]  ALL_CODES.csv\r\n",
      "├── [Aug  3 13:17]  train_full_hadm_ids.csv\r\n",
      "├── [Aug  3 13:17]  train_50_hadm_ids.csv\r\n",
      "├── [Aug  3 13:17]  test_full_hadm_ids.csv\r\n",
      "├── [Aug  3 13:17]  test_50_hadm_ids.csv\r\n",
      "├── [Aug  3 13:17]  dev_full_hadm_ids.csv\r\n",
      "├── [Aug  3 13:17]  dev_50_hadm_ids.csv\r\n",
      "├── [Aug  3 13:12]  PROCEDURES_ICD.csv\r\n",
      "├── [Aug  3 13:12]  NOTEEVENTS.csv\r\n",
      "├── [Aug  3 13:12]  DIAGNOSES_ICD.csv\r\n",
      "├── [Aug  3 13:10]  ICD9_descriptions\r\n",
      "├── [Aug  3 13:10]  D_ICD_PROCEDURES.csv\r\n",
      "└── [Aug  3 13:10]  D_ICD_DIAGNOSES.csv\r\n",
      "\r\n",
      "1 directory, 18 files\r\n"
     ]
    }
   ],
   "source": [
    "!tree -rtD {path_data}"
   ]
  },
  {
   "cell_type": "markdown",
   "id": "4a8c9d07",
   "metadata": {},
   "source": [
    "## Data Formatting"
   ]
  },
  {
   "cell_type": "markdown",
   "id": "02357c2a",
   "metadata": {},
   "source": [
    "### Combine diagnoses and procedure codes and reformat them"
   ]
  },
  {
   "cell_type": "markdown",
   "id": "6f8a1943",
   "metadata": {},
   "source": [
    "The codes in MIMIC-III are given in separate files for procedures and diagnoses, and the codes are given without periods. So let's add periods in the right place."
   ]
  },
  {
   "cell_type": "markdown",
   "id": "c40ddc6f",
   "metadata": {},
   "source": [
    "We begin by taking a peek at the procedure and diagnoses codes."
   ]
  },
  {
   "cell_type": "code",
   "execution_count": null,
   "id": "f768a30d",
   "metadata": {},
   "outputs": [],
   "source": [
    "df_proc = pd.read_csv(path_data/'PROCEDURES_ICD.csv')\n",
    "df_diag = pd.read_csv(path_data/'DIAGNOSES_ICD.csv')"
   ]
  },
  {
   "cell_type": "code",
   "execution_count": null,
   "id": "02ac7261",
   "metadata": {},
   "outputs": [
    {
     "data": {
      "text/html": [
       "<div>\n",
       "<style scoped>\n",
       "    .dataframe tbody tr th:only-of-type {\n",
       "        vertical-align: middle;\n",
       "    }\n",
       "\n",
       "    .dataframe tbody tr th {\n",
       "        vertical-align: top;\n",
       "    }\n",
       "\n",
       "    .dataframe thead th {\n",
       "        text-align: right;\n",
       "    }\n",
       "</style>\n",
       "<table border=\"1\" class=\"dataframe\">\n",
       "  <thead>\n",
       "    <tr style=\"text-align: right;\">\n",
       "      <th></th>\n",
       "      <th>ROW_ID</th>\n",
       "      <th>SUBJECT_ID</th>\n",
       "      <th>HADM_ID</th>\n",
       "      <th>SEQ_NUM</th>\n",
       "      <th>ICD9_CODE</th>\n",
       "    </tr>\n",
       "  </thead>\n",
       "  <tbody>\n",
       "    <tr>\n",
       "      <th>0</th>\n",
       "      <td>944</td>\n",
       "      <td>62641</td>\n",
       "      <td>154460</td>\n",
       "      <td>3</td>\n",
       "      <td>3404</td>\n",
       "    </tr>\n",
       "    <tr>\n",
       "      <th>1</th>\n",
       "      <td>945</td>\n",
       "      <td>2592</td>\n",
       "      <td>130856</td>\n",
       "      <td>1</td>\n",
       "      <td>9671</td>\n",
       "    </tr>\n",
       "    <tr>\n",
       "      <th>2</th>\n",
       "      <td>946</td>\n",
       "      <td>2592</td>\n",
       "      <td>130856</td>\n",
       "      <td>2</td>\n",
       "      <td>3893</td>\n",
       "    </tr>\n",
       "    <tr>\n",
       "      <th>3</th>\n",
       "      <td>947</td>\n",
       "      <td>55357</td>\n",
       "      <td>119355</td>\n",
       "      <td>1</td>\n",
       "      <td>9672</td>\n",
       "    </tr>\n",
       "    <tr>\n",
       "      <th>4</th>\n",
       "      <td>948</td>\n",
       "      <td>55357</td>\n",
       "      <td>119355</td>\n",
       "      <td>2</td>\n",
       "      <td>331</td>\n",
       "    </tr>\n",
       "  </tbody>\n",
       "</table>\n",
       "</div>"
      ],
      "text/plain": [
       "   ROW_ID  SUBJECT_ID  HADM_ID  SEQ_NUM  ICD9_CODE\n",
       "0     944       62641   154460        3       3404\n",
       "1     945        2592   130856        1       9671\n",
       "2     946        2592   130856        2       3893\n",
       "3     947       55357   119355        1       9672\n",
       "4     948       55357   119355        2        331"
      ]
     },
     "execution_count": null,
     "metadata": {},
     "output_type": "execute_result"
    }
   ],
   "source": [
    "df_proc.head()"
   ]
  },
  {
   "cell_type": "code",
   "execution_count": null,
   "id": "a87a8d7e",
   "metadata": {},
   "outputs": [
    {
     "data": {
      "text/html": [
       "<div>\n",
       "<style scoped>\n",
       "    .dataframe tbody tr th:only-of-type {\n",
       "        vertical-align: middle;\n",
       "    }\n",
       "\n",
       "    .dataframe tbody tr th {\n",
       "        vertical-align: top;\n",
       "    }\n",
       "\n",
       "    .dataframe thead th {\n",
       "        text-align: right;\n",
       "    }\n",
       "</style>\n",
       "<table border=\"1\" class=\"dataframe\">\n",
       "  <thead>\n",
       "    <tr style=\"text-align: right;\">\n",
       "      <th></th>\n",
       "      <th>ROW_ID</th>\n",
       "      <th>SUBJECT_ID</th>\n",
       "      <th>HADM_ID</th>\n",
       "      <th>SEQ_NUM</th>\n",
       "      <th>ICD9_CODE</th>\n",
       "    </tr>\n",
       "  </thead>\n",
       "  <tbody>\n",
       "    <tr>\n",
       "      <th>0</th>\n",
       "      <td>1297</td>\n",
       "      <td>109</td>\n",
       "      <td>172335</td>\n",
       "      <td>1.0</td>\n",
       "      <td>40301</td>\n",
       "    </tr>\n",
       "    <tr>\n",
       "      <th>1</th>\n",
       "      <td>1298</td>\n",
       "      <td>109</td>\n",
       "      <td>172335</td>\n",
       "      <td>2.0</td>\n",
       "      <td>486</td>\n",
       "    </tr>\n",
       "    <tr>\n",
       "      <th>2</th>\n",
       "      <td>1299</td>\n",
       "      <td>109</td>\n",
       "      <td>172335</td>\n",
       "      <td>3.0</td>\n",
       "      <td>58281</td>\n",
       "    </tr>\n",
       "    <tr>\n",
       "      <th>3</th>\n",
       "      <td>1300</td>\n",
       "      <td>109</td>\n",
       "      <td>172335</td>\n",
       "      <td>4.0</td>\n",
       "      <td>5855</td>\n",
       "    </tr>\n",
       "    <tr>\n",
       "      <th>4</th>\n",
       "      <td>1301</td>\n",
       "      <td>109</td>\n",
       "      <td>172335</td>\n",
       "      <td>5.0</td>\n",
       "      <td>4254</td>\n",
       "    </tr>\n",
       "  </tbody>\n",
       "</table>\n",
       "</div>"
      ],
      "text/plain": [
       "   ROW_ID  SUBJECT_ID  HADM_ID  SEQ_NUM ICD9_CODE\n",
       "0    1297         109   172335      1.0     40301\n",
       "1    1298         109   172335      2.0       486\n",
       "2    1299         109   172335      3.0     58281\n",
       "3    1300         109   172335      4.0      5855\n",
       "4    1301         109   172335      5.0      4254"
      ]
     },
     "execution_count": null,
     "metadata": {},
     "output_type": "execute_result"
    }
   ],
   "source": [
    "df_diag.head()"
   ]
  },
  {
   "cell_type": "markdown",
   "id": "6d8e20a5",
   "metadata": {},
   "source": [
    "(Replace later!) Let's now add periods at the right places."
   ]
  },
  {
   "cell_type": "code",
   "execution_count": null,
   "id": "b144eefb",
   "metadata": {},
   "outputs": [],
   "source": [
    "# datasets.reformat??"
   ]
  },
  {
   "cell_type": "code",
   "execution_count": null,
   "id": "bdce7676",
   "metadata": {},
   "outputs": [
    {
     "data": {
      "text/html": [
       "<div>\n",
       "<style scoped>\n",
       "    .dataframe tbody tr th:only-of-type {\n",
       "        vertical-align: middle;\n",
       "    }\n",
       "\n",
       "    .dataframe tbody tr th {\n",
       "        vertical-align: top;\n",
       "    }\n",
       "\n",
       "    .dataframe thead th {\n",
       "        text-align: right;\n",
       "    }\n",
       "</style>\n",
       "<table border=\"1\" class=\"dataframe\">\n",
       "  <thead>\n",
       "    <tr style=\"text-align: right;\">\n",
       "      <th></th>\n",
       "      <th>ROW_ID</th>\n",
       "      <th>SUBJECT_ID</th>\n",
       "      <th>HADM_ID</th>\n",
       "      <th>SEQ_NUM</th>\n",
       "      <th>ICD9_CODE</th>\n",
       "      <th>absolute_code</th>\n",
       "    </tr>\n",
       "  </thead>\n",
       "  <tbody>\n",
       "    <tr>\n",
       "      <th>0</th>\n",
       "      <td>944</td>\n",
       "      <td>62641</td>\n",
       "      <td>154460</td>\n",
       "      <td>3</td>\n",
       "      <td>3404</td>\n",
       "      <td>34.04</td>\n",
       "    </tr>\n",
       "    <tr>\n",
       "      <th>1</th>\n",
       "      <td>945</td>\n",
       "      <td>2592</td>\n",
       "      <td>130856</td>\n",
       "      <td>1</td>\n",
       "      <td>9671</td>\n",
       "      <td>96.71</td>\n",
       "    </tr>\n",
       "    <tr>\n",
       "      <th>2</th>\n",
       "      <td>946</td>\n",
       "      <td>2592</td>\n",
       "      <td>130856</td>\n",
       "      <td>2</td>\n",
       "      <td>3893</td>\n",
       "      <td>38.93</td>\n",
       "    </tr>\n",
       "    <tr>\n",
       "      <th>3</th>\n",
       "      <td>947</td>\n",
       "      <td>55357</td>\n",
       "      <td>119355</td>\n",
       "      <td>1</td>\n",
       "      <td>9672</td>\n",
       "      <td>96.72</td>\n",
       "    </tr>\n",
       "    <tr>\n",
       "      <th>4</th>\n",
       "      <td>948</td>\n",
       "      <td>55357</td>\n",
       "      <td>119355</td>\n",
       "      <td>2</td>\n",
       "      <td>331</td>\n",
       "      <td>33.1</td>\n",
       "    </tr>\n",
       "  </tbody>\n",
       "</table>\n",
       "</div>"
      ],
      "text/plain": [
       "   ROW_ID  SUBJECT_ID  HADM_ID  SEQ_NUM  ICD9_CODE absolute_code\n",
       "0     944       62641   154460        3       3404         34.04\n",
       "1     945        2592   130856        1       9671         96.71\n",
       "2     946        2592   130856        2       3893         38.93\n",
       "3     947       55357   119355        1       9672         96.72\n",
       "4     948       55357   119355        2        331          33.1"
      ]
     },
     "execution_count": null,
     "metadata": {},
     "output_type": "execute_result"
    }
   ],
   "source": [
    "df_proc['absolute_code'] = df_proc.apply(lambda row: str(datasets.reformat(str(row[4]), False)), axis=1)\n",
    "df_proc.head()"
   ]
  },
  {
   "cell_type": "code",
   "execution_count": null,
   "id": "7d61d53f",
   "metadata": {},
   "outputs": [
    {
     "data": {
      "text/html": [
       "<div>\n",
       "<style scoped>\n",
       "    .dataframe tbody tr th:only-of-type {\n",
       "        vertical-align: middle;\n",
       "    }\n",
       "\n",
       "    .dataframe tbody tr th {\n",
       "        vertical-align: top;\n",
       "    }\n",
       "\n",
       "    .dataframe thead th {\n",
       "        text-align: right;\n",
       "    }\n",
       "</style>\n",
       "<table border=\"1\" class=\"dataframe\">\n",
       "  <thead>\n",
       "    <tr style=\"text-align: right;\">\n",
       "      <th></th>\n",
       "      <th>ROW_ID</th>\n",
       "      <th>SUBJECT_ID</th>\n",
       "      <th>HADM_ID</th>\n",
       "      <th>SEQ_NUM</th>\n",
       "      <th>ICD9_CODE</th>\n",
       "      <th>absolute_code</th>\n",
       "    </tr>\n",
       "  </thead>\n",
       "  <tbody>\n",
       "    <tr>\n",
       "      <th>0</th>\n",
       "      <td>1297</td>\n",
       "      <td>109</td>\n",
       "      <td>172335</td>\n",
       "      <td>1.0</td>\n",
       "      <td>40301</td>\n",
       "      <td>403.01</td>\n",
       "    </tr>\n",
       "    <tr>\n",
       "      <th>1</th>\n",
       "      <td>1298</td>\n",
       "      <td>109</td>\n",
       "      <td>172335</td>\n",
       "      <td>2.0</td>\n",
       "      <td>486</td>\n",
       "      <td>486</td>\n",
       "    </tr>\n",
       "    <tr>\n",
       "      <th>2</th>\n",
       "      <td>1299</td>\n",
       "      <td>109</td>\n",
       "      <td>172335</td>\n",
       "      <td>3.0</td>\n",
       "      <td>58281</td>\n",
       "      <td>582.81</td>\n",
       "    </tr>\n",
       "    <tr>\n",
       "      <th>3</th>\n",
       "      <td>1300</td>\n",
       "      <td>109</td>\n",
       "      <td>172335</td>\n",
       "      <td>4.0</td>\n",
       "      <td>5855</td>\n",
       "      <td>585.5</td>\n",
       "    </tr>\n",
       "    <tr>\n",
       "      <th>4</th>\n",
       "      <td>1301</td>\n",
       "      <td>109</td>\n",
       "      <td>172335</td>\n",
       "      <td>5.0</td>\n",
       "      <td>4254</td>\n",
       "      <td>425.4</td>\n",
       "    </tr>\n",
       "  </tbody>\n",
       "</table>\n",
       "</div>"
      ],
      "text/plain": [
       "   ROW_ID  SUBJECT_ID  HADM_ID  SEQ_NUM ICD9_CODE absolute_code\n",
       "0    1297         109   172335      1.0     40301        403.01\n",
       "1    1298         109   172335      2.0       486           486\n",
       "2    1299         109   172335      3.0     58281        582.81\n",
       "3    1300         109   172335      4.0      5855         585.5\n",
       "4    1301         109   172335      5.0      4254         425.4"
      ]
     },
     "execution_count": null,
     "metadata": {},
     "output_type": "execute_result"
    }
   ],
   "source": [
    "df_diag['absolute_code'] = df_diag.apply(lambda row: str(datasets.reformat(str(row[4]), True)), axis=1)\n",
    "df_diag.head()"
   ]
  },
  {
   "cell_type": "markdown",
   "id": "674f339a",
   "metadata": {},
   "source": [
    "Okay, this looks good! Let's now combine the diagnoses and procedures codes."
   ]
  },
  {
   "cell_type": "code",
   "execution_count": null,
   "id": "3f0dcc92",
   "metadata": {},
   "outputs": [
    {
     "data": {
      "text/html": [
       "<div>\n",
       "<style scoped>\n",
       "    .dataframe tbody tr th:only-of-type {\n",
       "        vertical-align: middle;\n",
       "    }\n",
       "\n",
       "    .dataframe tbody tr th {\n",
       "        vertical-align: top;\n",
       "    }\n",
       "\n",
       "    .dataframe thead th {\n",
       "        text-align: right;\n",
       "    }\n",
       "</style>\n",
       "<table border=\"1\" class=\"dataframe\">\n",
       "  <thead>\n",
       "    <tr style=\"text-align: right;\">\n",
       "      <th></th>\n",
       "      <th>ROW_ID</th>\n",
       "      <th>SUBJECT_ID</th>\n",
       "      <th>HADM_ID</th>\n",
       "      <th>SEQ_NUM</th>\n",
       "      <th>ICD9_CODE</th>\n",
       "      <th>absolute_code</th>\n",
       "    </tr>\n",
       "  </thead>\n",
       "  <tbody>\n",
       "    <tr>\n",
       "      <th>0</th>\n",
       "      <td>1297</td>\n",
       "      <td>109</td>\n",
       "      <td>172335</td>\n",
       "      <td>1.0</td>\n",
       "      <td>40301</td>\n",
       "      <td>403.01</td>\n",
       "    </tr>\n",
       "    <tr>\n",
       "      <th>1</th>\n",
       "      <td>1298</td>\n",
       "      <td>109</td>\n",
       "      <td>172335</td>\n",
       "      <td>2.0</td>\n",
       "      <td>486</td>\n",
       "      <td>486</td>\n",
       "    </tr>\n",
       "    <tr>\n",
       "      <th>2</th>\n",
       "      <td>1299</td>\n",
       "      <td>109</td>\n",
       "      <td>172335</td>\n",
       "      <td>3.0</td>\n",
       "      <td>58281</td>\n",
       "      <td>582.81</td>\n",
       "    </tr>\n",
       "    <tr>\n",
       "      <th>3</th>\n",
       "      <td>1300</td>\n",
       "      <td>109</td>\n",
       "      <td>172335</td>\n",
       "      <td>4.0</td>\n",
       "      <td>5855</td>\n",
       "      <td>585.5</td>\n",
       "    </tr>\n",
       "    <tr>\n",
       "      <th>4</th>\n",
       "      <td>1301</td>\n",
       "      <td>109</td>\n",
       "      <td>172335</td>\n",
       "      <td>5.0</td>\n",
       "      <td>4254</td>\n",
       "      <td>425.4</td>\n",
       "    </tr>\n",
       "  </tbody>\n",
       "</table>\n",
       "</div>"
      ],
      "text/plain": [
       "   ROW_ID  SUBJECT_ID  HADM_ID  SEQ_NUM ICD9_CODE absolute_code\n",
       "0    1297         109   172335      1.0     40301        403.01\n",
       "1    1298         109   172335      2.0       486           486\n",
       "2    1299         109   172335      3.0     58281        582.81\n",
       "3    1300         109   172335      4.0      5855         585.5\n",
       "4    1301         109   172335      5.0      4254         425.4"
      ]
     },
     "execution_count": null,
     "metadata": {},
     "output_type": "execute_result"
    }
   ],
   "source": [
    "df_codes = pd.concat([df_diag, df_proc])\n",
    "df_codes.head()"
   ]
  },
  {
   "cell_type": "markdown",
   "id": "3a06368b",
   "metadata": {},
   "source": [
    "It's time to crash the save button!"
   ]
  },
  {
   "cell_type": "code",
   "execution_count": null,
   "id": "f3129478",
   "metadata": {},
   "outputs": [],
   "source": [
    "path_processed = path_data/'processed'\n",
    "path_processed.mkdir(parents=True,  exist_ok=True)"
   ]
  },
  {
   "cell_type": "code",
   "execution_count": null,
   "id": "fd168d39",
   "metadata": {},
   "outputs": [],
   "source": [
    "df_codes.to_csv(path_processed/'ALL_CODES.csv', index=False,\n",
    "               columns=['ROW_ID', 'SUBJECT_ID', 'HADM_ID', 'SEQ_NUM', 'absolute_code'],\n",
    "               header=['row_id', 'subject_id', 'hadm_id', 'seq_num', 'ICD9_code'])"
   ]
  },
  {
   "cell_type": "markdown",
   "id": "3eb8dd61",
   "metadata": {},
   "source": [
    "Note that we saved the 'absolute_code' column as 'ICD9_code'. This is what we will use from here on. Okay, let's now read it back in and check how many codes we have."
   ]
  },
  {
   "cell_type": "code",
   "execution_count": null,
   "id": "7f103946",
   "metadata": {},
   "outputs": [
    {
     "data": {
      "text/plain": [
       "(#4) [Path('/home/ubuntu/codemimic/data2/processed/ALL_CODES.csv'),Path('/home/ubuntu/codemimic/data2/processed/ALL_CODES_filtered.csv'),Path('/home/ubuntu/codemimic/data2/processed/disch_full.csv'),Path('/home/ubuntu/codemimic/data2/processed/notes_labelled.csv')]"
      ]
     },
     "execution_count": null,
     "metadata": {},
     "output_type": "execute_result"
    }
   ],
   "source": [
    "path_processed.ls()"
   ]
  },
  {
   "cell_type": "code",
   "execution_count": null,
   "id": "0db30d80",
   "metadata": {},
   "outputs": [
    {
     "data": {
      "text/html": [
       "<div>\n",
       "<style scoped>\n",
       "    .dataframe tbody tr th:only-of-type {\n",
       "        vertical-align: middle;\n",
       "    }\n",
       "\n",
       "    .dataframe tbody tr th {\n",
       "        vertical-align: top;\n",
       "    }\n",
       "\n",
       "    .dataframe thead th {\n",
       "        text-align: right;\n",
       "    }\n",
       "</style>\n",
       "<table border=\"1\" class=\"dataframe\">\n",
       "  <thead>\n",
       "    <tr style=\"text-align: right;\">\n",
       "      <th></th>\n",
       "      <th>row_id</th>\n",
       "      <th>subject_id</th>\n",
       "      <th>hadm_id</th>\n",
       "      <th>seq_num</th>\n",
       "      <th>ICD9_code</th>\n",
       "    </tr>\n",
       "  </thead>\n",
       "  <tbody>\n",
       "    <tr>\n",
       "      <th>0</th>\n",
       "      <td>1297</td>\n",
       "      <td>109</td>\n",
       "      <td>172335</td>\n",
       "      <td>1.0</td>\n",
       "      <td>403.01</td>\n",
       "    </tr>\n",
       "    <tr>\n",
       "      <th>1</th>\n",
       "      <td>1298</td>\n",
       "      <td>109</td>\n",
       "      <td>172335</td>\n",
       "      <td>2.0</td>\n",
       "      <td>486</td>\n",
       "    </tr>\n",
       "    <tr>\n",
       "      <th>2</th>\n",
       "      <td>1299</td>\n",
       "      <td>109</td>\n",
       "      <td>172335</td>\n",
       "      <td>3.0</td>\n",
       "      <td>582.81</td>\n",
       "    </tr>\n",
       "    <tr>\n",
       "      <th>3</th>\n",
       "      <td>1300</td>\n",
       "      <td>109</td>\n",
       "      <td>172335</td>\n",
       "      <td>4.0</td>\n",
       "      <td>585.5</td>\n",
       "    </tr>\n",
       "    <tr>\n",
       "      <th>4</th>\n",
       "      <td>1301</td>\n",
       "      <td>109</td>\n",
       "      <td>172335</td>\n",
       "      <td>5.0</td>\n",
       "      <td>425.4</td>\n",
       "    </tr>\n",
       "  </tbody>\n",
       "</table>\n",
       "</div>"
      ],
      "text/plain": [
       "   row_id  subject_id  hadm_id  seq_num ICD9_code\n",
       "0    1297         109   172335      1.0    403.01\n",
       "1    1298         109   172335      2.0       486\n",
       "2    1299         109   172335      3.0    582.81\n",
       "3    1300         109   172335      4.0     585.5\n",
       "4    1301         109   172335      5.0     425.4"
      ]
     },
     "execution_count": null,
     "metadata": {},
     "output_type": "execute_result"
    }
   ],
   "source": [
    "df_codes = pd.read_csv(path_processed/'ALL_CODES.csv', dtype={\"ICD9_code\": str})\n",
    "df_codes.head()"
   ]
  },
  {
   "cell_type": "markdown",
   "id": "ec618475",
   "metadata": {},
   "source": [
    "#### How many codes (procedure + diagnoses) do we have?"
   ]
  },
  {
   "cell_type": "code",
   "execution_count": null,
   "id": "e015684e",
   "metadata": {},
   "outputs": [
    {
     "data": {
      "text/plain": [
       "8993"
      ]
     },
     "execution_count": null,
     "metadata": {},
     "output_type": "execute_result"
    }
   ],
   "source": [
    "df_codes['ICD9_code'].nunique()"
   ]
  },
  {
   "cell_type": "markdown",
   "id": "e0bcc599",
   "metadata": {},
   "source": [
    "So we have 8894 codes in total. "
   ]
  },
  {
   "cell_type": "markdown",
   "id": "35102f08",
   "metadata": {},
   "source": [
    "## Get the Raw Text"
   ]
  },
  {
   "cell_type": "markdown",
   "id": "c1c164f6",
   "metadata": {},
   "source": [
    "From the NOTEEVENTS.csv we will get the raw text (under the column 'text') only when the corresponding 'category' is 'Discharge Summary'."
   ]
  },
  {
   "cell_type": "code",
   "execution_count": null,
   "id": "b151f1ba",
   "metadata": {},
   "outputs": [
    {
     "name": "stderr",
     "output_type": "stream",
     "text": [
      "/home/ubuntu/miniconda3/envs/menv/lib/python3.8/site-packages/IPython/core/interactiveshell.py:3165: DtypeWarning: Columns (4,5) have mixed types.Specify dtype option on import or set low_memory=False.\n",
      "  has_raised = await self.run_ast_nodes(code_ast.body, cell_name,\n"
     ]
    }
   ],
   "source": [
    "df_notes = pd.read_csv(path_data/'NOTEEVENTS.csv')"
   ]
  },
  {
   "cell_type": "markdown",
   "id": "7fb7dc8c",
   "metadata": {},
   "source": [
    "First, let's change the column names to lower case:"
   ]
  },
  {
   "cell_type": "code",
   "execution_count": null,
   "id": "f2a3d983",
   "metadata": {},
   "outputs": [],
   "source": [
    "df_notes.rename(columns = {col: col.lower() for col in df_notes.columns}, inplace=True)"
   ]
  },
  {
   "cell_type": "code",
   "execution_count": null,
   "id": "b2e20cb2",
   "metadata": {},
   "outputs": [
    {
     "data": {
      "text/html": [
       "<div>\n",
       "<style scoped>\n",
       "    .dataframe tbody tr th:only-of-type {\n",
       "        vertical-align: middle;\n",
       "    }\n",
       "\n",
       "    .dataframe tbody tr th {\n",
       "        vertical-align: top;\n",
       "    }\n",
       "\n",
       "    .dataframe thead th {\n",
       "        text-align: right;\n",
       "    }\n",
       "</style>\n",
       "<table border=\"1\" class=\"dataframe\">\n",
       "  <thead>\n",
       "    <tr style=\"text-align: right;\">\n",
       "      <th></th>\n",
       "      <th>row_id</th>\n",
       "      <th>subject_id</th>\n",
       "      <th>hadm_id</th>\n",
       "      <th>chartdate</th>\n",
       "      <th>charttime</th>\n",
       "      <th>storetime</th>\n",
       "      <th>category</th>\n",
       "      <th>description</th>\n",
       "      <th>cgid</th>\n",
       "      <th>iserror</th>\n",
       "      <th>text</th>\n",
       "    </tr>\n",
       "  </thead>\n",
       "  <tbody>\n",
       "    <tr>\n",
       "      <th>0</th>\n",
       "      <td>174</td>\n",
       "      <td>22532</td>\n",
       "      <td>167853.0</td>\n",
       "      <td>2151-08-04</td>\n",
       "      <td>NaN</td>\n",
       "      <td>NaN</td>\n",
       "      <td>Discharge summary</td>\n",
       "      <td>Report</td>\n",
       "      <td>NaN</td>\n",
       "      <td>NaN</td>\n",
       "      <td>Admission Date:  [**2151-7-16**]       Discharge Date:  [**2151-8-4**]\\n\\n\\nService:\\nADDENDUM:\\n\\nRADIOLOGIC STUDIES:  Radiologic studies also included a chest\\nCT, which confirmed cavitary lesions in the left lung apex\\nconsistent with infectious process/tuberculosis.  This also\\nmoderate-sized left pleural effusion.\\n\\nHEAD CT:  Head CT showed no intracranial hemorrhage or mass\\neffect, but old infarction consistent with past medical\\nhistory.\\n\\nABDOMINAL CT:  Abdominal CT showed lesions of\\nT10 and sacrum most likely secondary to osteoporosis. These can\\nbe followed by repeat imaging ...</td>\n",
       "    </tr>\n",
       "    <tr>\n",
       "      <th>1</th>\n",
       "      <td>175</td>\n",
       "      <td>13702</td>\n",
       "      <td>107527.0</td>\n",
       "      <td>2118-06-14</td>\n",
       "      <td>NaN</td>\n",
       "      <td>NaN</td>\n",
       "      <td>Discharge summary</td>\n",
       "      <td>Report</td>\n",
       "      <td>NaN</td>\n",
       "      <td>NaN</td>\n",
       "      <td>Admission Date:  [**2118-6-2**]       Discharge Date:  [**2118-6-14**]\\n\\nDate of Birth:                    Sex:  F\\n\\nService:  MICU and then to [**Doctor Last Name **] Medicine\\n\\nHISTORY OF PRESENT ILLNESS:  This is an 81-year-old female\\nwith a history of emphysema (not on home O2), who presents\\nwith three days of shortness of breath thought by her primary\\ncare doctor to be a COPD flare.  Two days prior to admission,\\nshe was started on a prednisone taper and one day prior to\\nadmission she required oxygen at home in order to maintain\\noxygen saturation greater than 90%.  She has als...</td>\n",
       "    </tr>\n",
       "    <tr>\n",
       "      <th>2</th>\n",
       "      <td>176</td>\n",
       "      <td>13702</td>\n",
       "      <td>167118.0</td>\n",
       "      <td>2119-05-25</td>\n",
       "      <td>NaN</td>\n",
       "      <td>NaN</td>\n",
       "      <td>Discharge summary</td>\n",
       "      <td>Report</td>\n",
       "      <td>NaN</td>\n",
       "      <td>NaN</td>\n",
       "      <td>Admission Date:  [**2119-5-4**]              Discharge Date:   [**2119-5-25**]\\n\\n\\nService: CARDIOTHORACIC\\n\\nAllergies:\\nAmlodipine\\n\\nAttending:[**Last Name (NamePattern1) 1561**]\\nChief Complaint:\\n81 yo F smoker w/ COPD, severe TBM, s/p tracheobronchoplasty [**5-5**]\\ns/p perc trach [**5-13**]\\n\\nMajor Surgical or Invasive Procedure:\\nbronchoscopy 3/31,4/2,3,[**6-12**], [**5-17**], [**5-19**]\\ns/p trachealplasty [**5-5**]\\npercutaneous tracheostomy [**5-13**] after failed extubation\\ndown size trach on [**5-25**] to size 6 cuffless\\n\\n\\nHistory of Present Illness:\\nThis 81 year old wo...</td>\n",
       "    </tr>\n",
       "  </tbody>\n",
       "</table>\n",
       "</div>"
      ],
      "text/plain": [
       "   row_id  subject_id   hadm_id   chartdate charttime storetime  \\\n",
       "0     174       22532  167853.0  2151-08-04       NaN       NaN   \n",
       "1     175       13702  107527.0  2118-06-14       NaN       NaN   \n",
       "2     176       13702  167118.0  2119-05-25       NaN       NaN   \n",
       "\n",
       "            category description  cgid  iserror  \\\n",
       "0  Discharge summary      Report   NaN      NaN   \n",
       "1  Discharge summary      Report   NaN      NaN   \n",
       "2  Discharge summary      Report   NaN      NaN   \n",
       "\n",
       "                                                                                                                                                                                                                                                                                                                                                                                                                                                                                                                                                                                                                      text  \n",
       "0  Admission Date:  [**2151-7-16**]       Discharge Date:  [**2151-8-4**]\\n\\n\\nService:\\nADDENDUM:\\n\\nRADIOLOGIC STUDIES:  Radiologic studies also included a chest\\nCT, which confirmed cavitary lesions in the left lung apex\\nconsistent with infectious process/tuberculosis.  This also\\nmoderate-sized left pleural effusion.\\n\\nHEAD CT:  Head CT showed no intracranial hemorrhage or mass\\neffect, but old infarction consistent with past medical\\nhistory.\\n\\nABDOMINAL CT:  Abdominal CT showed lesions of\\nT10 and sacrum most likely secondary to osteoporosis. These can\\nbe followed by repeat imaging ...  \n",
       "1  Admission Date:  [**2118-6-2**]       Discharge Date:  [**2118-6-14**]\\n\\nDate of Birth:                    Sex:  F\\n\\nService:  MICU and then to [**Doctor Last Name **] Medicine\\n\\nHISTORY OF PRESENT ILLNESS:  This is an 81-year-old female\\nwith a history of emphysema (not on home O2), who presents\\nwith three days of shortness of breath thought by her primary\\ncare doctor to be a COPD flare.  Two days prior to admission,\\nshe was started on a prednisone taper and one day prior to\\nadmission she required oxygen at home in order to maintain\\noxygen saturation greater than 90%.  She has als...  \n",
       "2  Admission Date:  [**2119-5-4**]              Discharge Date:   [**2119-5-25**]\\n\\n\\nService: CARDIOTHORACIC\\n\\nAllergies:\\nAmlodipine\\n\\nAttending:[**Last Name (NamePattern1) 1561**]\\nChief Complaint:\\n81 yo F smoker w/ COPD, severe TBM, s/p tracheobronchoplasty [**5-5**]\\ns/p perc trach [**5-13**]\\n\\nMajor Surgical or Invasive Procedure:\\nbronchoscopy 3/31,4/2,3,[**6-12**], [**5-17**], [**5-19**]\\ns/p trachealplasty [**5-5**]\\npercutaneous tracheostomy [**5-13**] after failed extubation\\ndown size trach on [**5-25**] to size 6 cuffless\\n\\n\\nHistory of Present Illness:\\nThis 81 year old wo...  "
      ]
     },
     "execution_count": null,
     "metadata": {},
     "output_type": "execute_result"
    }
   ],
   "source": [
    "df_notes.head(3)"
   ]
  },
  {
   "cell_type": "markdown",
   "id": "3216ae06",
   "metadata": {},
   "source": [
    "Let's convert the columns `text` and `category` into string:"
   ]
  },
  {
   "cell_type": "code",
   "execution_count": null,
   "id": "71086db5",
   "metadata": {},
   "outputs": [],
   "source": [
    "df_notes[['text', 'category']] = df_notes[['text', 'category']].astype('str')"
   ]
  },
  {
   "cell_type": "markdown",
   "id": "f4799dec",
   "metadata": {},
   "source": [
    "Let's now read all the notes and select only the ones with 'category' equal to \"Discharge Summary\".\n",
    "And also let's remove any columns other than `subject_id`, `hadm_id`, `charttime` and `text`."
   ]
  },
  {
   "cell_type": "code",
   "execution_count": null,
   "id": "70a63f97",
   "metadata": {},
   "outputs": [],
   "source": [
    "df_notes_filter = df_notes[df_notes.category == 'Discharge summary'];"
   ]
  },
  {
   "cell_type": "code",
   "execution_count": null,
   "id": "8b5fee40",
   "metadata": {},
   "outputs": [],
   "source": [
    "relevant_cols = ['subject_id', 'hadm_id', 'charttime', 'text']\n",
    "df_notes_filter = df_notes_filter[relevant_cols]"
   ]
  },
  {
   "cell_type": "markdown",
   "id": "5689778a",
   "metadata": {},
   "source": [
    "Let's convert the datatype of `hadm_id` from `float64` to `int64` (becuase that's what it is in our `ALL_CODES.csv` file)"
   ]
  },
  {
   "cell_type": "code",
   "execution_count": null,
   "id": "86beb395",
   "metadata": {},
   "outputs": [
    {
     "data": {
      "text/plain": [
       "dtype('float64')"
      ]
     },
     "execution_count": null,
     "metadata": {},
     "output_type": "execute_result"
    }
   ],
   "source": [
    "df_notes_filter.hadm_id.dtype"
   ]
  },
  {
   "cell_type": "code",
   "execution_count": null,
   "id": "66a740e6",
   "metadata": {},
   "outputs": [],
   "source": [
    "df_notes_filter['hadm_id'] = df_notes_filter['hadm_id'].astype('int')"
   ]
  },
  {
   "cell_type": "code",
   "execution_count": null,
   "id": "6b95eaa6",
   "metadata": {},
   "outputs": [
    {
     "data": {
      "text/html": [
       "<div>\n",
       "<style scoped>\n",
       "    .dataframe tbody tr th:only-of-type {\n",
       "        vertical-align: middle;\n",
       "    }\n",
       "\n",
       "    .dataframe tbody tr th {\n",
       "        vertical-align: top;\n",
       "    }\n",
       "\n",
       "    .dataframe thead th {\n",
       "        text-align: right;\n",
       "    }\n",
       "</style>\n",
       "<table border=\"1\" class=\"dataframe\">\n",
       "  <thead>\n",
       "    <tr style=\"text-align: right;\">\n",
       "      <th></th>\n",
       "      <th>subject_id</th>\n",
       "      <th>hadm_id</th>\n",
       "      <th>charttime</th>\n",
       "      <th>text</th>\n",
       "    </tr>\n",
       "  </thead>\n",
       "  <tbody>\n",
       "    <tr>\n",
       "      <th>0</th>\n",
       "      <td>22532</td>\n",
       "      <td>167853</td>\n",
       "      <td>NaN</td>\n",
       "      <td>Admission Date:  [**2151-7-16**]       Discharge Date:  [**2151-8-4**]\\n\\n\\nService:\\nADDENDUM:\\n\\nRADIOLOGIC STUDIES:  Radiologic studies also included a chest\\nCT, which confirmed cavitary lesions in the left lung apex\\nconsistent with infectious process/tuberculosis.  This also\\nmoderate-sized left pleural effusion.\\n\\nHEAD CT:  Head CT showed no intracranial hemorrhage or mass\\neffect, but old infarction consistent with past medical\\nhistory.\\n\\nABDOMINAL CT:  Abdominal CT showed lesions of\\nT10 and sacrum most likely secondary to osteoporosis. These can\\nbe followed by repeat imaging ...</td>\n",
       "    </tr>\n",
       "    <tr>\n",
       "      <th>1</th>\n",
       "      <td>13702</td>\n",
       "      <td>107527</td>\n",
       "      <td>NaN</td>\n",
       "      <td>Admission Date:  [**2118-6-2**]       Discharge Date:  [**2118-6-14**]\\n\\nDate of Birth:                    Sex:  F\\n\\nService:  MICU and then to [**Doctor Last Name **] Medicine\\n\\nHISTORY OF PRESENT ILLNESS:  This is an 81-year-old female\\nwith a history of emphysema (not on home O2), who presents\\nwith three days of shortness of breath thought by her primary\\ncare doctor to be a COPD flare.  Two days prior to admission,\\nshe was started on a prednisone taper and one day prior to\\nadmission she required oxygen at home in order to maintain\\noxygen saturation greater than 90%.  She has als...</td>\n",
       "    </tr>\n",
       "    <tr>\n",
       "      <th>2</th>\n",
       "      <td>13702</td>\n",
       "      <td>167118</td>\n",
       "      <td>NaN</td>\n",
       "      <td>Admission Date:  [**2119-5-4**]              Discharge Date:   [**2119-5-25**]\\n\\n\\nService: CARDIOTHORACIC\\n\\nAllergies:\\nAmlodipine\\n\\nAttending:[**Last Name (NamePattern1) 1561**]\\nChief Complaint:\\n81 yo F smoker w/ COPD, severe TBM, s/p tracheobronchoplasty [**5-5**]\\ns/p perc trach [**5-13**]\\n\\nMajor Surgical or Invasive Procedure:\\nbronchoscopy 3/31,4/2,3,[**6-12**], [**5-17**], [**5-19**]\\ns/p trachealplasty [**5-5**]\\npercutaneous tracheostomy [**5-13**] after failed extubation\\ndown size trach on [**5-25**] to size 6 cuffless\\n\\n\\nHistory of Present Illness:\\nThis 81 year old wo...</td>\n",
       "    </tr>\n",
       "    <tr>\n",
       "      <th>3</th>\n",
       "      <td>13702</td>\n",
       "      <td>196489</td>\n",
       "      <td>NaN</td>\n",
       "      <td>Admission Date:  [**2124-7-21**]              Discharge Date:   [**2124-8-18**]\\n\\n\\nService: MEDICINE\\n\\nAllergies:\\nAmlodipine\\n\\nAttending:[**First Name3 (LF) 898**]\\nChief Complaint:\\nCOPD exacerbation/Shortness of Breath\\n\\nMajor Surgical or Invasive Procedure:\\nIntubation\\narterial line placement\\nPICC line placement\\nEsophagogastroduodenoscopy\\n\\n\\nHistory of Present Illness:\\n87 yo F with h/o CHF, COPD on 5 L oxygen at baseline,\\ntracheobronchomalacia s/p stent, presents with acute dyspnea\\nover several days, and lethargy. This morning patient developed\\nan acute worsening in dyspn...</td>\n",
       "    </tr>\n",
       "    <tr>\n",
       "      <th>4</th>\n",
       "      <td>26880</td>\n",
       "      <td>135453</td>\n",
       "      <td>NaN</td>\n",
       "      <td>Admission Date:  [**2162-3-3**]              Discharge Date:   [**2162-3-25**]\\n\\nDate of Birth:  [**2080-1-4**]             Sex:   M\\n\\nService: MEDICINE\\n\\nAllergies:\\nPatient recorded as having No Known Allergies to Drugs\\n\\nAttending:[**First Name3 (LF) 1828**]\\nChief Complaint:\\nMr. [**Known lastname 1829**] was seen at [**Hospital1 18**] after a mechanical fall from\\na height of 10 feet.  CT scan noted unstable fracture of C6-7 &amp;\\nposterior elements.\\n\\nMajor Surgical or Invasive Procedure:\\n1. Anterior cervical osteotomy, C6-C7, with decompression and\\nexcision of ossification of th...</td>\n",
       "    </tr>\n",
       "  </tbody>\n",
       "</table>\n",
       "</div>"
      ],
      "text/plain": [
       "   subject_id  hadm_id charttime  \\\n",
       "0       22532   167853       NaN   \n",
       "1       13702   107527       NaN   \n",
       "2       13702   167118       NaN   \n",
       "3       13702   196489       NaN   \n",
       "4       26880   135453       NaN   \n",
       "\n",
       "                                                                                                                                                                                                                                                                                                                                                                                                                                                                                                                                                                                                                      text  \n",
       "0  Admission Date:  [**2151-7-16**]       Discharge Date:  [**2151-8-4**]\\n\\n\\nService:\\nADDENDUM:\\n\\nRADIOLOGIC STUDIES:  Radiologic studies also included a chest\\nCT, which confirmed cavitary lesions in the left lung apex\\nconsistent with infectious process/tuberculosis.  This also\\nmoderate-sized left pleural effusion.\\n\\nHEAD CT:  Head CT showed no intracranial hemorrhage or mass\\neffect, but old infarction consistent with past medical\\nhistory.\\n\\nABDOMINAL CT:  Abdominal CT showed lesions of\\nT10 and sacrum most likely secondary to osteoporosis. These can\\nbe followed by repeat imaging ...  \n",
       "1  Admission Date:  [**2118-6-2**]       Discharge Date:  [**2118-6-14**]\\n\\nDate of Birth:                    Sex:  F\\n\\nService:  MICU and then to [**Doctor Last Name **] Medicine\\n\\nHISTORY OF PRESENT ILLNESS:  This is an 81-year-old female\\nwith a history of emphysema (not on home O2), who presents\\nwith three days of shortness of breath thought by her primary\\ncare doctor to be a COPD flare.  Two days prior to admission,\\nshe was started on a prednisone taper and one day prior to\\nadmission she required oxygen at home in order to maintain\\noxygen saturation greater than 90%.  She has als...  \n",
       "2  Admission Date:  [**2119-5-4**]              Discharge Date:   [**2119-5-25**]\\n\\n\\nService: CARDIOTHORACIC\\n\\nAllergies:\\nAmlodipine\\n\\nAttending:[**Last Name (NamePattern1) 1561**]\\nChief Complaint:\\n81 yo F smoker w/ COPD, severe TBM, s/p tracheobronchoplasty [**5-5**]\\ns/p perc trach [**5-13**]\\n\\nMajor Surgical or Invasive Procedure:\\nbronchoscopy 3/31,4/2,3,[**6-12**], [**5-17**], [**5-19**]\\ns/p trachealplasty [**5-5**]\\npercutaneous tracheostomy [**5-13**] after failed extubation\\ndown size trach on [**5-25**] to size 6 cuffless\\n\\n\\nHistory of Present Illness:\\nThis 81 year old wo...  \n",
       "3  Admission Date:  [**2124-7-21**]              Discharge Date:   [**2124-8-18**]\\n\\n\\nService: MEDICINE\\n\\nAllergies:\\nAmlodipine\\n\\nAttending:[**First Name3 (LF) 898**]\\nChief Complaint:\\nCOPD exacerbation/Shortness of Breath\\n\\nMajor Surgical or Invasive Procedure:\\nIntubation\\narterial line placement\\nPICC line placement\\nEsophagogastroduodenoscopy\\n\\n\\nHistory of Present Illness:\\n87 yo F with h/o CHF, COPD on 5 L oxygen at baseline,\\ntracheobronchomalacia s/p stent, presents with acute dyspnea\\nover several days, and lethargy. This morning patient developed\\nan acute worsening in dyspn...  \n",
       "4  Admission Date:  [**2162-3-3**]              Discharge Date:   [**2162-3-25**]\\n\\nDate of Birth:  [**2080-1-4**]             Sex:   M\\n\\nService: MEDICINE\\n\\nAllergies:\\nPatient recorded as having No Known Allergies to Drugs\\n\\nAttending:[**First Name3 (LF) 1828**]\\nChief Complaint:\\nMr. [**Known lastname 1829**] was seen at [**Hospital1 18**] after a mechanical fall from\\na height of 10 feet.  CT scan noted unstable fracture of C6-7 &\\nposterior elements.\\n\\nMajor Surgical or Invasive Procedure:\\n1. Anterior cervical osteotomy, C6-C7, with decompression and\\nexcision of ossification of th...  "
      ]
     },
     "execution_count": null,
     "metadata": {},
     "output_type": "execute_result"
    }
   ],
   "source": [
    "df_notes_filter.head()"
   ]
  },
  {
   "cell_type": "markdown",
   "id": "e059a5f5",
   "metadata": {},
   "source": [
    "Before moving on let's smash that save button again:"
   ]
  },
  {
   "cell_type": "code",
   "execution_count": null,
   "id": "9bd19d16",
   "metadata": {},
   "outputs": [],
   "source": [
    "df_notes_filter.to_csv(path_processed/'disch_full.csv', index=False)"
   ]
  },
  {
   "cell_type": "markdown",
   "id": "829a73c5",
   "metadata": {},
   "source": [
    "Let's now read the file we just created to check:"
   ]
  },
  {
   "cell_type": "code",
   "execution_count": null,
   "id": "bf35e763",
   "metadata": {},
   "outputs": [],
   "source": [
    "df_notes_filter = pd.read_csv(path_processed/'disch_full.csv')"
   ]
  },
  {
   "cell_type": "code",
   "execution_count": null,
   "id": "186c334d",
   "metadata": {},
   "outputs": [
    {
     "data": {
      "text/html": [
       "<div>\n",
       "<style scoped>\n",
       "    .dataframe tbody tr th:only-of-type {\n",
       "        vertical-align: middle;\n",
       "    }\n",
       "\n",
       "    .dataframe tbody tr th {\n",
       "        vertical-align: top;\n",
       "    }\n",
       "\n",
       "    .dataframe thead th {\n",
       "        text-align: right;\n",
       "    }\n",
       "</style>\n",
       "<table border=\"1\" class=\"dataframe\">\n",
       "  <thead>\n",
       "    <tr style=\"text-align: right;\">\n",
       "      <th></th>\n",
       "      <th>subject_id</th>\n",
       "      <th>hadm_id</th>\n",
       "      <th>charttime</th>\n",
       "      <th>text</th>\n",
       "    </tr>\n",
       "  </thead>\n",
       "  <tbody>\n",
       "    <tr>\n",
       "      <th>0</th>\n",
       "      <td>22532</td>\n",
       "      <td>167853</td>\n",
       "      <td>NaN</td>\n",
       "      <td>Admission Date:  [**2151-7-16**]       Discharge Date:  [**2151-8-4**]\\n\\n\\nService:\\nADDENDUM:\\n\\nRADIOLOGIC STUDIES:  Radiologic studies also included a chest\\nCT, which confirmed cavitary lesions in the left lung apex\\nconsistent with infectious process/tuberculosis.  This also\\nmoderate-sized left pleural effusion.\\n\\nHEAD CT:  Head CT showed no intracranial hemorrhage or mass\\neffect, but old infarction consistent with past medical\\nhistory.\\n\\nABDOMINAL CT:  Abdominal CT showed lesions of\\nT10 and sacrum most likely secondary to osteoporosis. These can\\nbe followed by repeat imaging ...</td>\n",
       "    </tr>\n",
       "    <tr>\n",
       "      <th>1</th>\n",
       "      <td>13702</td>\n",
       "      <td>107527</td>\n",
       "      <td>NaN</td>\n",
       "      <td>Admission Date:  [**2118-6-2**]       Discharge Date:  [**2118-6-14**]\\n\\nDate of Birth:                    Sex:  F\\n\\nService:  MICU and then to [**Doctor Last Name **] Medicine\\n\\nHISTORY OF PRESENT ILLNESS:  This is an 81-year-old female\\nwith a history of emphysema (not on home O2), who presents\\nwith three days of shortness of breath thought by her primary\\ncare doctor to be a COPD flare.  Two days prior to admission,\\nshe was started on a prednisone taper and one day prior to\\nadmission she required oxygen at home in order to maintain\\noxygen saturation greater than 90%.  She has als...</td>\n",
       "    </tr>\n",
       "    <tr>\n",
       "      <th>2</th>\n",
       "      <td>13702</td>\n",
       "      <td>167118</td>\n",
       "      <td>NaN</td>\n",
       "      <td>Admission Date:  [**2119-5-4**]              Discharge Date:   [**2119-5-25**]\\n\\n\\nService: CARDIOTHORACIC\\n\\nAllergies:\\nAmlodipine\\n\\nAttending:[**Last Name (NamePattern1) 1561**]\\nChief Complaint:\\n81 yo F smoker w/ COPD, severe TBM, s/p tracheobronchoplasty [**5-5**]\\ns/p perc trach [**5-13**]\\n\\nMajor Surgical or Invasive Procedure:\\nbronchoscopy 3/31,4/2,3,[**6-12**], [**5-17**], [**5-19**]\\ns/p trachealplasty [**5-5**]\\npercutaneous tracheostomy [**5-13**] after failed extubation\\ndown size trach on [**5-25**] to size 6 cuffless\\n\\n\\nHistory of Present Illness:\\nThis 81 year old wo...</td>\n",
       "    </tr>\n",
       "    <tr>\n",
       "      <th>3</th>\n",
       "      <td>13702</td>\n",
       "      <td>196489</td>\n",
       "      <td>NaN</td>\n",
       "      <td>Admission Date:  [**2124-7-21**]              Discharge Date:   [**2124-8-18**]\\n\\n\\nService: MEDICINE\\n\\nAllergies:\\nAmlodipine\\n\\nAttending:[**First Name3 (LF) 898**]\\nChief Complaint:\\nCOPD exacerbation/Shortness of Breath\\n\\nMajor Surgical or Invasive Procedure:\\nIntubation\\narterial line placement\\nPICC line placement\\nEsophagogastroduodenoscopy\\n\\n\\nHistory of Present Illness:\\n87 yo F with h/o CHF, COPD on 5 L oxygen at baseline,\\ntracheobronchomalacia s/p stent, presents with acute dyspnea\\nover several days, and lethargy. This morning patient developed\\nan acute worsening in dyspn...</td>\n",
       "    </tr>\n",
       "    <tr>\n",
       "      <th>4</th>\n",
       "      <td>26880</td>\n",
       "      <td>135453</td>\n",
       "      <td>NaN</td>\n",
       "      <td>Admission Date:  [**2162-3-3**]              Discharge Date:   [**2162-3-25**]\\n\\nDate of Birth:  [**2080-1-4**]             Sex:   M\\n\\nService: MEDICINE\\n\\nAllergies:\\nPatient recorded as having No Known Allergies to Drugs\\n\\nAttending:[**First Name3 (LF) 1828**]\\nChief Complaint:\\nMr. [**Known lastname 1829**] was seen at [**Hospital1 18**] after a mechanical fall from\\na height of 10 feet.  CT scan noted unstable fracture of C6-7 &amp;\\nposterior elements.\\n\\nMajor Surgical or Invasive Procedure:\\n1. Anterior cervical osteotomy, C6-C7, with decompression and\\nexcision of ossification of th...</td>\n",
       "    </tr>\n",
       "  </tbody>\n",
       "</table>\n",
       "</div>"
      ],
      "text/plain": [
       "   subject_id  hadm_id  charttime  \\\n",
       "0       22532   167853        NaN   \n",
       "1       13702   107527        NaN   \n",
       "2       13702   167118        NaN   \n",
       "3       13702   196489        NaN   \n",
       "4       26880   135453        NaN   \n",
       "\n",
       "                                                                                                                                                                                                                                                                                                                                                                                                                                                                                                                                                                                                                      text  \n",
       "0  Admission Date:  [**2151-7-16**]       Discharge Date:  [**2151-8-4**]\\n\\n\\nService:\\nADDENDUM:\\n\\nRADIOLOGIC STUDIES:  Radiologic studies also included a chest\\nCT, which confirmed cavitary lesions in the left lung apex\\nconsistent with infectious process/tuberculosis.  This also\\nmoderate-sized left pleural effusion.\\n\\nHEAD CT:  Head CT showed no intracranial hemorrhage or mass\\neffect, but old infarction consistent with past medical\\nhistory.\\n\\nABDOMINAL CT:  Abdominal CT showed lesions of\\nT10 and sacrum most likely secondary to osteoporosis. These can\\nbe followed by repeat imaging ...  \n",
       "1  Admission Date:  [**2118-6-2**]       Discharge Date:  [**2118-6-14**]\\n\\nDate of Birth:                    Sex:  F\\n\\nService:  MICU and then to [**Doctor Last Name **] Medicine\\n\\nHISTORY OF PRESENT ILLNESS:  This is an 81-year-old female\\nwith a history of emphysema (not on home O2), who presents\\nwith three days of shortness of breath thought by her primary\\ncare doctor to be a COPD flare.  Two days prior to admission,\\nshe was started on a prednisone taper and one day prior to\\nadmission she required oxygen at home in order to maintain\\noxygen saturation greater than 90%.  She has als...  \n",
       "2  Admission Date:  [**2119-5-4**]              Discharge Date:   [**2119-5-25**]\\n\\n\\nService: CARDIOTHORACIC\\n\\nAllergies:\\nAmlodipine\\n\\nAttending:[**Last Name (NamePattern1) 1561**]\\nChief Complaint:\\n81 yo F smoker w/ COPD, severe TBM, s/p tracheobronchoplasty [**5-5**]\\ns/p perc trach [**5-13**]\\n\\nMajor Surgical or Invasive Procedure:\\nbronchoscopy 3/31,4/2,3,[**6-12**], [**5-17**], [**5-19**]\\ns/p trachealplasty [**5-5**]\\npercutaneous tracheostomy [**5-13**] after failed extubation\\ndown size trach on [**5-25**] to size 6 cuffless\\n\\n\\nHistory of Present Illness:\\nThis 81 year old wo...  \n",
       "3  Admission Date:  [**2124-7-21**]              Discharge Date:   [**2124-8-18**]\\n\\n\\nService: MEDICINE\\n\\nAllergies:\\nAmlodipine\\n\\nAttending:[**First Name3 (LF) 898**]\\nChief Complaint:\\nCOPD exacerbation/Shortness of Breath\\n\\nMajor Surgical or Invasive Procedure:\\nIntubation\\narterial line placement\\nPICC line placement\\nEsophagogastroduodenoscopy\\n\\n\\nHistory of Present Illness:\\n87 yo F with h/o CHF, COPD on 5 L oxygen at baseline,\\ntracheobronchomalacia s/p stent, presents with acute dyspnea\\nover several days, and lethargy. This morning patient developed\\nan acute worsening in dyspn...  \n",
       "4  Admission Date:  [**2162-3-3**]              Discharge Date:   [**2162-3-25**]\\n\\nDate of Birth:  [**2080-1-4**]             Sex:   M\\n\\nService: MEDICINE\\n\\nAllergies:\\nPatient recorded as having No Known Allergies to Drugs\\n\\nAttending:[**First Name3 (LF) 1828**]\\nChief Complaint:\\nMr. [**Known lastname 1829**] was seen at [**Hospital1 18**] after a mechanical fall from\\na height of 10 feet.  CT scan noted unstable fracture of C6-7 &\\nposterior elements.\\n\\nMajor Surgical or Invasive Procedure:\\n1. Anterior cervical osteotomy, C6-C7, with decompression and\\nexcision of ossification of th...  "
      ]
     },
     "execution_count": null,
     "metadata": {},
     "output_type": "execute_result"
    }
   ],
   "source": [
    "df_notes_filter.head()"
   ]
  },
  {
   "cell_type": "code",
   "execution_count": null,
   "id": "04d1e2ab",
   "metadata": {},
   "outputs": [
    {
     "data": {
      "text/plain": [
       "dtype('int64')"
      ]
     },
     "execution_count": null,
     "metadata": {},
     "output_type": "execute_result"
    }
   ],
   "source": [
    "df_notes_filter.hadm_id.dtype"
   ]
  },
  {
   "cell_type": "markdown",
   "id": "04841f37",
   "metadata": {},
   "source": [
    "Let's check the effect of filtering:"
   ]
  },
  {
   "cell_type": "code",
   "execution_count": null,
   "id": "7e3eb173",
   "metadata": {},
   "outputs": [
    {
     "data": {
      "text/plain": [
       "(2083180, 59652)"
      ]
     },
     "execution_count": null,
     "metadata": {},
     "output_type": "execute_result"
    }
   ],
   "source": [
    "len(df_notes), len(df_notes_filter)"
   ]
  },
  {
   "cell_type": "markdown",
   "id": "0375e175",
   "metadata": {},
   "source": [
    "To do a cross-check let's count the number of rows in the `df_notes` dataframe that have 'category == Discharge summary', and see if it's indeed `len(df_notes_filter)`"
   ]
  },
  {
   "cell_type": "code",
   "execution_count": null,
   "id": "768ff9cd",
   "metadata": {},
   "outputs": [
    {
     "data": {
      "text/plain": [
       "59652"
      ]
     },
     "execution_count": null,
     "metadata": {},
     "output_type": "execute_result"
    }
   ],
   "source": [
    "(df_notes['category'] == 'Discharge summary').sum()"
   ]
  },
  {
   "cell_type": "markdown",
   "id": "13dcbe37",
   "metadata": {},
   "source": [
    "Great, we got a match!"
   ]
  },
  {
   "cell_type": "markdown",
   "id": "9ea98d5f",
   "metadata": {},
   "source": [
    "Let's now sort the `df_notes_filter` dataframe by `subject_id` and `hadm_id`"
   ]
  },
  {
   "cell_type": "code",
   "execution_count": null,
   "id": "9e8c143f",
   "metadata": {},
   "outputs": [],
   "source": [
    "df_notes_filter.sort_values(['subject_id', 'hadm_id'], inplace=True)"
   ]
  },
  {
   "cell_type": "markdown",
   "id": "7b432614",
   "metadata": {},
   "source": [
    "Let's also save this `df_notes_filter` dataframe:"
   ]
  },
  {
   "cell_type": "code",
   "execution_count": null,
   "id": "33b281e0",
   "metadata": {},
   "outputs": [],
   "source": [
    "df_notes_filter.to_csv(path_processed/'disch_full.csv', index=False)"
   ]
  },
  {
   "cell_type": "code",
   "execution_count": null,
   "id": "e18b39c2",
   "metadata": {},
   "outputs": [
    {
     "data": {
      "text/html": [
       "<div>\n",
       "<style scoped>\n",
       "    .dataframe tbody tr th:only-of-type {\n",
       "        vertical-align: middle;\n",
       "    }\n",
       "\n",
       "    .dataframe tbody tr th {\n",
       "        vertical-align: top;\n",
       "    }\n",
       "\n",
       "    .dataframe thead th {\n",
       "        text-align: right;\n",
       "    }\n",
       "</style>\n",
       "<table border=\"1\" class=\"dataframe\">\n",
       "  <thead>\n",
       "    <tr style=\"text-align: right;\">\n",
       "      <th></th>\n",
       "      <th>subject_id</th>\n",
       "      <th>hadm_id</th>\n",
       "      <th>charttime</th>\n",
       "      <th>text</th>\n",
       "    </tr>\n",
       "  </thead>\n",
       "  <tbody>\n",
       "    <tr>\n",
       "      <th>48470</th>\n",
       "      <td>3</td>\n",
       "      <td>145834</td>\n",
       "      <td>NaN</td>\n",
       "      <td>Admission Date:  [**2101-10-20**]     Discharge Date:  [**2101-10-31**]\\n\\nDate of Birth:   [**2025-4-11**]     Sex:  M\\n\\nService:  Medicine\\n\\nCHIEF COMPLAINT:  Admitted from rehabilitation for\\nhypotension (systolic blood pressure to the 70s) and\\ndecreased urine output.\\n\\nHISTORY OF PRESENT ILLNESS:  The patient is a 76-year-old\\nmale who had been hospitalized at the [**Hospital1 190**] from [**10-11**] through [**10-19**] of [**2101**]\\nafter undergoing a left femoral-AT bypass graft and was\\nsubsequently discharged to a rehabilitation facility.\\n\\nOn [**2101-10-20**], he presented a...</td>\n",
       "    </tr>\n",
       "    <tr>\n",
       "      <th>4782</th>\n",
       "      <td>4</td>\n",
       "      <td>185777</td>\n",
       "      <td>NaN</td>\n",
       "      <td>Admission Date:  [**2191-3-16**]     Discharge Date:  [**2191-3-23**]\\n\\nDate of Birth:   [**2143-5-12**]     Sex:  F\\n\\nService:\\n\\nCHIEF COMPLAINT:  Shortness of breath and fevers.\\n\\nHISTORY OF PRESENT ILLNESS:  The patient is a 47-year-old\\nfemale with a history of human immunodeficiency virus (last\\nCD4 count 42 and a viral load of 65,000), cirrhosis,\\ndiabetes, and hypothyroidism presented with eight days of\\nfevers to 104, chills, shortness of breath, cough, dyspnea on\\nexertion, and fatigue.\\n\\nThe patient states she has become progressively dyspneic to\\nthe point where she is shor...</td>\n",
       "    </tr>\n",
       "    <tr>\n",
       "      <th>24476</th>\n",
       "      <td>6</td>\n",
       "      <td>107064</td>\n",
       "      <td>NaN</td>\n",
       "      <td>Admission Date: [**2175-5-30**]        Discharge Date:  [**2175-6-15**]\\n\\nDate of Birth:                    Sex:  F\\n\\nService:\\n\\n\\nADMISSION DIAGNOSIS:  End stage renal disease, admitted for\\ntransplant surgery.\\n\\nHISTORY OF PRESENT ILLNESS:  The patient is a 65 year-old\\nwoman with end stage renal disease, secondary to malignant\\nhypertension. She was started on dialysis in [**2174-2-7**].  She currently was on peritoneal dialysis and appears\\nto be doing well.  She has a history of gastric angiectasia\\nwhich she requires endoscopy. She was admitted on [**2175-5-30**] for\\na scheduled...</td>\n",
       "    </tr>\n",
       "    <tr>\n",
       "      <th>22764</th>\n",
       "      <td>9</td>\n",
       "      <td>150750</td>\n",
       "      <td>NaN</td>\n",
       "      <td>Admission Date:  [**2149-11-9**]       Discharge Date: [**2149-11-13**]\\n\\nDate of Birth:   [**2108-1-26**]       Sex:  M\\n\\nService:  NEUROLOGY\\n\\nCHIEF COMPLAINT:  Weakness, inability to talk.\\n\\nHISTORY OF THE PRESENT ILLNESS:  This is a 41-year-old\\nAfrican-American male with a history of hypertension who was\\nin his usual state of health until about 10:25 a.m. on the\\nmorning of admission.  He had gone to use the restroom and a\\nfew minutes later his family found him slumped onto the\\nfloor, apparently unable to talk and with weakness in his\\nright arm and leg.  EMS was called and he ...</td>\n",
       "    </tr>\n",
       "    <tr>\n",
       "      <th>57328</th>\n",
       "      <td>9</td>\n",
       "      <td>150750</td>\n",
       "      <td>NaN</td>\n",
       "      <td>Name:  [**Known lastname 10050**], [**Known firstname 779**]                      Unit No:  [**Numeric Identifier 10051**]\\n\\nAdmission Date:  [**2149-11-9**]     Discharge Date:  [**2149-11-14**]\\n\\nDate of Birth:   [**2108-1-26**]     Sex:  M\\n\\nService:\\n\\nDespite mannital and hyperventilation on the [**2149-11-13**], patient continued to neurologically decline.  A brain\\ndeath exam was done showing that the patient had dilated\\nunreactive pupils with no evidence of a corneal or gag\\nreflex. He also did not respond to any noxious stimuli\\ndespite being off propofol.\\n\\nAn apnea test was...</td>\n",
       "    </tr>\n",
       "  </tbody>\n",
       "</table>\n",
       "</div>"
      ],
      "text/plain": [
       "       subject_id  hadm_id  charttime  \\\n",
       "48470           3   145834        NaN   \n",
       "4782            4   185777        NaN   \n",
       "24476           6   107064        NaN   \n",
       "22764           9   150750        NaN   \n",
       "57328           9   150750        NaN   \n",
       "\n",
       "                                                                                                                                                                                                                                                                                                                                                                                                                                                                                                                                                                                                                          text  \n",
       "48470  Admission Date:  [**2101-10-20**]     Discharge Date:  [**2101-10-31**]\\n\\nDate of Birth:   [**2025-4-11**]     Sex:  M\\n\\nService:  Medicine\\n\\nCHIEF COMPLAINT:  Admitted from rehabilitation for\\nhypotension (systolic blood pressure to the 70s) and\\ndecreased urine output.\\n\\nHISTORY OF PRESENT ILLNESS:  The patient is a 76-year-old\\nmale who had been hospitalized at the [**Hospital1 190**] from [**10-11**] through [**10-19**] of [**2101**]\\nafter undergoing a left femoral-AT bypass graft and was\\nsubsequently discharged to a rehabilitation facility.\\n\\nOn [**2101-10-20**], he presented a...  \n",
       "4782   Admission Date:  [**2191-3-16**]     Discharge Date:  [**2191-3-23**]\\n\\nDate of Birth:   [**2143-5-12**]     Sex:  F\\n\\nService:\\n\\nCHIEF COMPLAINT:  Shortness of breath and fevers.\\n\\nHISTORY OF PRESENT ILLNESS:  The patient is a 47-year-old\\nfemale with a history of human immunodeficiency virus (last\\nCD4 count 42 and a viral load of 65,000), cirrhosis,\\ndiabetes, and hypothyroidism presented with eight days of\\nfevers to 104, chills, shortness of breath, cough, dyspnea on\\nexertion, and fatigue.\\n\\nThe patient states she has become progressively dyspneic to\\nthe point where she is shor...  \n",
       "24476  Admission Date: [**2175-5-30**]        Discharge Date:  [**2175-6-15**]\\n\\nDate of Birth:                    Sex:  F\\n\\nService:\\n\\n\\nADMISSION DIAGNOSIS:  End stage renal disease, admitted for\\ntransplant surgery.\\n\\nHISTORY OF PRESENT ILLNESS:  The patient is a 65 year-old\\nwoman with end stage renal disease, secondary to malignant\\nhypertension. She was started on dialysis in [**2174-2-7**].  She currently was on peritoneal dialysis and appears\\nto be doing well.  She has a history of gastric angiectasia\\nwhich she requires endoscopy. She was admitted on [**2175-5-30**] for\\na scheduled...  \n",
       "22764  Admission Date:  [**2149-11-9**]       Discharge Date: [**2149-11-13**]\\n\\nDate of Birth:   [**2108-1-26**]       Sex:  M\\n\\nService:  NEUROLOGY\\n\\nCHIEF COMPLAINT:  Weakness, inability to talk.\\n\\nHISTORY OF THE PRESENT ILLNESS:  This is a 41-year-old\\nAfrican-American male with a history of hypertension who was\\nin his usual state of health until about 10:25 a.m. on the\\nmorning of admission.  He had gone to use the restroom and a\\nfew minutes later his family found him slumped onto the\\nfloor, apparently unable to talk and with weakness in his\\nright arm and leg.  EMS was called and he ...  \n",
       "57328  Name:  [**Known lastname 10050**], [**Known firstname 779**]                      Unit No:  [**Numeric Identifier 10051**]\\n\\nAdmission Date:  [**2149-11-9**]     Discharge Date:  [**2149-11-14**]\\n\\nDate of Birth:   [**2108-1-26**]     Sex:  M\\n\\nService:\\n\\nDespite mannital and hyperventilation on the [**2149-11-13**], patient continued to neurologically decline.  A brain\\ndeath exam was done showing that the patient had dilated\\nunreactive pupils with no evidence of a corneal or gag\\nreflex. He also did not respond to any noxious stimuli\\ndespite being off propofol.\\n\\nAn apnea test was...  "
      ]
     },
     "execution_count": null,
     "metadata": {},
     "output_type": "execute_result"
    }
   ],
   "source": [
    "df_notes_filter.head()"
   ]
  },
  {
   "cell_type": "markdown",
   "id": "c8babe0b",
   "metadata": {},
   "source": [
    "Let's also sort the `df_codes` dataframe by `subject_id` and `hadm_id`:"
   ]
  },
  {
   "cell_type": "code",
   "execution_count": null,
   "id": "18975e91",
   "metadata": {},
   "outputs": [],
   "source": [
    "df_codes = pd.read_csv(path_processed/'ALL_CODES.csv', dtype={\"ICD9_code\": str})\n",
    "df_codes.sort_values(['subject_id', 'hadm_id'], inplace=True)"
   ]
  },
  {
   "cell_type": "code",
   "execution_count": null,
   "id": "ed81fb99",
   "metadata": {},
   "outputs": [
    {
     "data": {
      "text/html": [
       "<div>\n",
       "<style scoped>\n",
       "    .dataframe tbody tr th:only-of-type {\n",
       "        vertical-align: middle;\n",
       "    }\n",
       "\n",
       "    .dataframe tbody tr th {\n",
       "        vertical-align: top;\n",
       "    }\n",
       "\n",
       "    .dataframe thead th {\n",
       "        text-align: right;\n",
       "    }\n",
       "</style>\n",
       "<table border=\"1\" class=\"dataframe\">\n",
       "  <thead>\n",
       "    <tr style=\"text-align: right;\">\n",
       "      <th></th>\n",
       "      <th>row_id</th>\n",
       "      <th>subject_id</th>\n",
       "      <th>hadm_id</th>\n",
       "      <th>seq_num</th>\n",
       "      <th>ICD9_code</th>\n",
       "    </tr>\n",
       "  </thead>\n",
       "  <tbody>\n",
       "    <tr>\n",
       "      <th>608</th>\n",
       "      <td>1</td>\n",
       "      <td>2</td>\n",
       "      <td>163353</td>\n",
       "      <td>1.0</td>\n",
       "      <td>V30.01</td>\n",
       "    </tr>\n",
       "    <tr>\n",
       "      <th>609</th>\n",
       "      <td>2</td>\n",
       "      <td>2</td>\n",
       "      <td>163353</td>\n",
       "      <td>2.0</td>\n",
       "      <td>V05.3</td>\n",
       "    </tr>\n",
       "    <tr>\n",
       "      <th>610</th>\n",
       "      <td>3</td>\n",
       "      <td>2</td>\n",
       "      <td>163353</td>\n",
       "      <td>3.0</td>\n",
       "      <td>V29.0</td>\n",
       "    </tr>\n",
       "    <tr>\n",
       "      <th>746132</th>\n",
       "      <td>109376</td>\n",
       "      <td>2</td>\n",
       "      <td>163353</td>\n",
       "      <td>1.0</td>\n",
       "      <td>99.55</td>\n",
       "    </tr>\n",
       "    <tr>\n",
       "      <th>611</th>\n",
       "      <td>4</td>\n",
       "      <td>3</td>\n",
       "      <td>145834</td>\n",
       "      <td>1.0</td>\n",
       "      <td>038.9</td>\n",
       "    </tr>\n",
       "  </tbody>\n",
       "</table>\n",
       "</div>"
      ],
      "text/plain": [
       "        row_id  subject_id  hadm_id  seq_num ICD9_code\n",
       "608          1           2   163353      1.0    V30.01\n",
       "609          2           2   163353      2.0     V05.3\n",
       "610          3           2   163353      3.0     V29.0\n",
       "746132  109376           2   163353      1.0     99.55\n",
       "611          4           3   145834      1.0     038.9"
      ]
     },
     "execution_count": null,
     "metadata": {},
     "output_type": "execute_result"
    }
   ],
   "source": [
    "df_codes.head()"
   ]
  },
  {
   "cell_type": "markdown",
   "id": "6641af50",
   "metadata": {},
   "source": [
    "Note that at this point we have two dataframes, namely,  \n",
    "1. `df_codes`: contains the `ICD9_code` corresponding to `subject_id` and `hadm_id` (corresponding file: ALL_CODES.csv)\n",
    "2. `df_notes_filter`: contains the `text` (which is the discharge summary) corresponding to the `subject_id` and `hadm_id` (corresponding file: disch_full.csv)"
   ]
  },
  {
   "cell_type": "markdown",
   "id": "f8bbcddb",
   "metadata": {},
   "source": [
    "## Consolidate the Raw Text with  (Multi-)Labels"
   ]
  },
  {
   "cell_type": "markdown",
   "id": "55d1b03b",
   "metadata": {},
   "source": [
    "Note that in our case a data point is uniquely identified by `hadm_id`. So let's calculate the unique `hadm_id`s from the two dataframes: `df_codes` and `df_notes_filter` "
   ]
  },
  {
   "cell_type": "code",
   "execution_count": null,
   "id": "ff62f5db",
   "metadata": {},
   "outputs": [
    {
     "data": {
      "text/plain": [
       "(52726, 58976)"
      ]
     },
     "execution_count": null,
     "metadata": {},
     "output_type": "execute_result"
    }
   ],
   "source": [
    "df_notes_filter['hadm_id'].nunique(), df_codes['hadm_id'].nunique()"
   ]
  },
  {
   "cell_type": "markdown",
   "id": "1f9e625b",
   "metadata": {},
   "source": [
    "Okay, hold on a second! It turns out there are 58976 unique hospital admission ids that were assigned ICD9_codes but only 52726 of those unique hospital admission ids had associated discharge summaries. So we need to weed out hospital admission ids that did not have discharge summaries."
   ]
  },
  {
   "cell_type": "markdown",
   "id": "d1f21b20",
   "metadata": {},
   "source": [
    "(Replace later)"
   ]
  },
  {
   "cell_type": "code",
   "execution_count": null,
   "id": "a82dbdee",
   "metadata": {},
   "outputs": [],
   "source": [
    "hadm_ids = set(df_notes_filter['hadm_id'])\n",
    "with open(path_processed/'ALL_CODES.csv', 'r') as lf:\n",
    "    with open(path_processed/'ALL_CODES_filtered.csv', 'w') as of:\n",
    "        w = csv.writer(of)\n",
    "        w.writerow(['subject_id', 'hadm_id', 'ICD9_code', 'admittime', 'dischtime'])\n",
    "        r = csv.reader(lf)\n",
    "        #header\n",
    "        next(r)\n",
    "        for i,row in enumerate(r):\n",
    "            hadm_id = int(row[2])\n",
    "            #print(hadm_id)\n",
    "            #break\n",
    "            if hadm_id in hadm_ids:\n",
    "                w.writerow(row[1:3] + [row[-1], '', ''])"
   ]
  },
  {
   "cell_type": "code",
   "execution_count": null,
   "id": "a8f93fd4",
   "metadata": {},
   "outputs": [
    {
     "name": "stderr",
     "output_type": "stream",
     "text": [
      "/home/ubuntu/miniconda3/envs/menv/lib/python3.8/site-packages/IPython/core/interactiveshell.py:3165: DtypeWarning: Columns (2) have mixed types.Specify dtype option on import or set low_memory=False.\n",
      "  has_raised = await self.run_ast_nodes(code_ast.body, cell_name,\n"
     ]
    }
   ],
   "source": [
    "df_codes_filter = pd.read_csv(path_processed/'ALL_CODES_filtered.csv', index_col=None)"
   ]
  },
  {
   "cell_type": "markdown",
   "id": "40fa9825",
   "metadata": {},
   "source": [
    "Okay, let's now sort the dataframe `df_codes_filter` by `subject_id` and `hadm_id` and rewrite the file `ALL_CODES_filtered.csv` on disk."
   ]
  },
  {
   "cell_type": "code",
   "execution_count": null,
   "id": "e11e24f1",
   "metadata": {},
   "outputs": [],
   "source": [
    "df_codes_filter.sort_values(['subject_id', 'hadm_id'], inplace=True)\n",
    "df_codes_filter.to_csv(path_processed/'ALL_CODES_filtered.csv', index=False)"
   ]
  },
  {
   "cell_type": "code",
   "execution_count": null,
   "id": "73e5329a",
   "metadata": {},
   "outputs": [
    {
     "data": {
      "text/html": [
       "<div>\n",
       "<style scoped>\n",
       "    .dataframe tbody tr th:only-of-type {\n",
       "        vertical-align: middle;\n",
       "    }\n",
       "\n",
       "    .dataframe tbody tr th {\n",
       "        vertical-align: top;\n",
       "    }\n",
       "\n",
       "    .dataframe thead th {\n",
       "        text-align: right;\n",
       "    }\n",
       "</style>\n",
       "<table border=\"1\" class=\"dataframe\">\n",
       "  <thead>\n",
       "    <tr style=\"text-align: right;\">\n",
       "      <th></th>\n",
       "      <th>subject_id</th>\n",
       "      <th>hadm_id</th>\n",
       "      <th>ICD9_code</th>\n",
       "      <th>admittime</th>\n",
       "      <th>dischtime</th>\n",
       "    </tr>\n",
       "  </thead>\n",
       "  <tbody>\n",
       "    <tr>\n",
       "      <th>561</th>\n",
       "      <td>3</td>\n",
       "      <td>145834</td>\n",
       "      <td>038.9</td>\n",
       "      <td>NaN</td>\n",
       "      <td>NaN</td>\n",
       "    </tr>\n",
       "    <tr>\n",
       "      <th>562</th>\n",
       "      <td>3</td>\n",
       "      <td>145834</td>\n",
       "      <td>785.59</td>\n",
       "      <td>NaN</td>\n",
       "      <td>NaN</td>\n",
       "    </tr>\n",
       "    <tr>\n",
       "      <th>563</th>\n",
       "      <td>3</td>\n",
       "      <td>145834</td>\n",
       "      <td>584.9</td>\n",
       "      <td>NaN</td>\n",
       "      <td>NaN</td>\n",
       "    </tr>\n",
       "    <tr>\n",
       "      <th>564</th>\n",
       "      <td>3</td>\n",
       "      <td>145834</td>\n",
       "      <td>427.5</td>\n",
       "      <td>NaN</td>\n",
       "      <td>NaN</td>\n",
       "    </tr>\n",
       "    <tr>\n",
       "      <th>565</th>\n",
       "      <td>3</td>\n",
       "      <td>145834</td>\n",
       "      <td>410.71</td>\n",
       "      <td>NaN</td>\n",
       "      <td>NaN</td>\n",
       "    </tr>\n",
       "  </tbody>\n",
       "</table>\n",
       "</div>"
      ],
      "text/plain": [
       "     subject_id  hadm_id ICD9_code  admittime  dischtime\n",
       "561           3   145834     038.9        NaN        NaN\n",
       "562           3   145834    785.59        NaN        NaN\n",
       "563           3   145834     584.9        NaN        NaN\n",
       "564           3   145834     427.5        NaN        NaN\n",
       "565           3   145834    410.71        NaN        NaN"
      ]
     },
     "execution_count": null,
     "metadata": {},
     "output_type": "execute_result"
    }
   ],
   "source": [
    "df_codes_filter.head()"
   ]
  },
  {
   "cell_type": "code",
   "execution_count": null,
   "id": "7a0ed96e",
   "metadata": {},
   "outputs": [
    {
     "data": {
      "text/plain": [
       "(52726, 52726)"
      ]
     },
     "execution_count": null,
     "metadata": {},
     "output_type": "execute_result"
    }
   ],
   "source": [
    "df_notes_filter['hadm_id'].nunique(), df_codes_filter['hadm_id'].nunique()"
   ]
  },
  {
   "cell_type": "markdown",
   "id": "212d1d6e",
   "metadata": {},
   "source": [
    "Awesome! now we have both the dataframes, `df_notes_filter` and `df_codes_filter`, with the same number of unique hospital admission ids."
   ]
  },
  {
   "cell_type": "markdown",
   "id": "cb175ee9",
   "metadata": {},
   "source": [
    "Note that at this point we have two dataframes, namely,  \n",
    "1. `df_codes_filter`: contains the `ICD9_code` corresponding to `subject_id` and `hadm_id` (corresponding file: ALL_CODES_filtered.csv)\n",
    "2. `df_notes_filter`: contains the `text` (which is the discharge summary) corresponding to the `subject_id` and `hadm_id` (corresponding file: disch_full.csv)"
   ]
  },
  {
   "cell_type": "markdown",
   "id": "9542896d",
   "metadata": {},
   "source": [
    "Finally, we are ready to a create a single file with raw texts and the corresponding labels. We will do this appending labels (i.e., the ICD9_code) to the the raw texts (the discharge summaries, also referred to as notes). \n",
    "\n",
    "(Replace later) Here is a small script that does this. It generates a file called `notes_labelled.csv` in the `processed` subdirectory."
   ]
  },
  {
   "cell_type": "code",
   "execution_count": null,
   "id": "07dde0ac",
   "metadata": {},
   "outputs": [],
   "source": [
    "# concat_and_split.concat_data??"
   ]
  },
  {
   "cell_type": "code",
   "execution_count": null,
   "id": "6b20a18a",
   "metadata": {},
   "outputs": [
    {
     "name": "stdout",
     "output_type": "stream",
     "text": [
      "CONCATENATING\n",
      "0 done\n",
      "10000 done\n",
      "20000 done\n",
      "30000 done\n",
      "40000 done\n",
      "50000 done\n"
     ]
    }
   ],
   "source": [
    "labelsfile = path_processed/'ALL_CODES_filtered.csv'\n",
    "notesfile = path_processed/'disch_full.csv'\n",
    "outfile = path_processed/'notes_labelled.csv'\n",
    "labelled_data = concat_and_split.concat_data(labelsfile, notesfile, outfile)"
   ]
  },
  {
   "cell_type": "markdown",
   "id": "28bec167",
   "metadata": {},
   "source": [
    "Let's read in the data and check:"
   ]
  },
  {
   "cell_type": "code",
   "execution_count": null,
   "id": "0c475661",
   "metadata": {},
   "outputs": [],
   "source": [
    "df_labelled_data = pd.read_csv(outfile)"
   ]
  },
  {
   "cell_type": "markdown",
   "id": "beea2d77",
   "metadata": {},
   "source": [
    "Let's convert the column names to lower case"
   ]
  },
  {
   "cell_type": "code",
   "execution_count": null,
   "id": "c88adc09",
   "metadata": {},
   "outputs": [],
   "source": [
    "df_labelled_data.rename(columns = {col: col.lower() for col in df_labelled_data.columns}, inplace=True)"
   ]
  },
  {
   "cell_type": "markdown",
   "id": "0f0eb93a",
   "metadata": {},
   "source": [
    "Let's take a look:"
   ]
  },
  {
   "cell_type": "code",
   "execution_count": null,
   "id": "fa33816c",
   "metadata": {},
   "outputs": [
    {
     "data": {
      "text/html": [
       "<div>\n",
       "<style scoped>\n",
       "    .dataframe tbody tr th:only-of-type {\n",
       "        vertical-align: middle;\n",
       "    }\n",
       "\n",
       "    .dataframe tbody tr th {\n",
       "        vertical-align: top;\n",
       "    }\n",
       "\n",
       "    .dataframe thead th {\n",
       "        text-align: right;\n",
       "    }\n",
       "</style>\n",
       "<table border=\"1\" class=\"dataframe\">\n",
       "  <thead>\n",
       "    <tr style=\"text-align: right;\">\n",
       "      <th></th>\n",
       "      <th>subject_id</th>\n",
       "      <th>hadm_id</th>\n",
       "      <th>text</th>\n",
       "      <th>labels</th>\n",
       "    </tr>\n",
       "  </thead>\n",
       "  <tbody>\n",
       "    <tr>\n",
       "      <th>0</th>\n",
       "      <td>3</td>\n",
       "      <td>145834</td>\n",
       "      <td>Admission Date:  [**2101-10-20**]     Discharge Date:  [**2101-10-31**]\\n\\nDate of Birth:   [**2025-4-11**]     Sex:  M\\n\\nService:  Medicine\\n\\nCHIEF COMPLAINT:  Admitted from rehabilitation for\\nhypotension (systolic blood pressure to the 70s) and\\ndecreased urine output.\\n\\nHISTORY OF PRESENT ILLNESS:  The patient is a 76-year-old\\nmale who had been hospitalized at the [**Hospital1 190**] from [**10-11**] through [**10-19**] of [**2101**]\\nafter undergoing a left femoral-AT bypass graft and was\\nsubsequently discharged to a rehabilitation facility.\\n\\nOn [**2101-10-20**], he presented a...</td>\n",
       "      <td>038.9;785.59;584.9;427.5;410.71;428.0;682.6;425.4;263.9;96.04;99.62;89.64;96.72;38.93;96.6</td>\n",
       "    </tr>\n",
       "    <tr>\n",
       "      <th>1</th>\n",
       "      <td>4</td>\n",
       "      <td>185777</td>\n",
       "      <td>Admission Date:  [**2191-3-16**]     Discharge Date:  [**2191-3-23**]\\n\\nDate of Birth:   [**2143-5-12**]     Sex:  F\\n\\nService:\\n\\nCHIEF COMPLAINT:  Shortness of breath and fevers.\\n\\nHISTORY OF PRESENT ILLNESS:  The patient is a 47-year-old\\nfemale with a history of human immunodeficiency virus (last\\nCD4 count 42 and a viral load of 65,000), cirrhosis,\\ndiabetes, and hypothyroidism presented with eight days of\\nfevers to 104, chills, shortness of breath, cough, dyspnea on\\nexertion, and fatigue.\\n\\nThe patient states she has become progressively dyspneic to\\nthe point where she is shor...</td>\n",
       "      <td>042;136.3;799.4;276.3;790.7;571.5;041.11;V09.0;E931.7;38.93;88.72;33.23</td>\n",
       "    </tr>\n",
       "    <tr>\n",
       "      <th>2</th>\n",
       "      <td>6</td>\n",
       "      <td>107064</td>\n",
       "      <td>Admission Date: [**2175-5-30**]        Discharge Date:  [**2175-6-15**]\\n\\nDate of Birth:                    Sex:  F\\n\\nService:\\n\\n\\nADMISSION DIAGNOSIS:  End stage renal disease, admitted for\\ntransplant surgery.\\n\\nHISTORY OF PRESENT ILLNESS:  The patient is a 65 year-old\\nwoman with end stage renal disease, secondary to malignant\\nhypertension. She was started on dialysis in [**2174-2-7**].  She currently was on peritoneal dialysis and appears\\nto be doing well.  She has a history of gastric angiectasia\\nwhich she requires endoscopy. She was admitted on [**2175-5-30**] for\\na scheduled...</td>\n",
       "      <td>403.91;444.0;997.2;276.6;276.7;285.9;275.3;V15.82;55.69;91.0;39.57;38.06;99.04</td>\n",
       "    </tr>\n",
       "    <tr>\n",
       "      <th>3</th>\n",
       "      <td>9</td>\n",
       "      <td>150750</td>\n",
       "      <td>Admission Date:  [**2149-11-9**]       Discharge Date: [**2149-11-13**]\\n\\nDate of Birth:   [**2108-1-26**]       Sex:  M\\n\\nService:  NEUROLOGY\\n\\nCHIEF COMPLAINT:  Weakness, inability to talk.\\n\\nHISTORY OF THE PRESENT ILLNESS:  This is a 41-year-old\\nAfrican-American male with a history of hypertension who was\\nin his usual state of health until about 10:25 a.m. on the\\nmorning of admission.  He had gone to use the restroom and a\\nfew minutes later his family found him slumped onto the\\nfloor, apparently unable to talk and with weakness in his\\nright arm and leg.  EMS was called and he ...</td>\n",
       "      <td>431;507.0;428.0;584.9;276.5;401.9;96.72;96.04</td>\n",
       "    </tr>\n",
       "  </tbody>\n",
       "</table>\n",
       "</div>"
      ],
      "text/plain": [
       "   subject_id  hadm_id  \\\n",
       "0           3   145834   \n",
       "1           4   185777   \n",
       "2           6   107064   \n",
       "3           9   150750   \n",
       "\n",
       "                                                                                                                                                                                                                                                                                                                                                                                                                                                                                                                                                                                                                      text  \\\n",
       "0  Admission Date:  [**2101-10-20**]     Discharge Date:  [**2101-10-31**]\\n\\nDate of Birth:   [**2025-4-11**]     Sex:  M\\n\\nService:  Medicine\\n\\nCHIEF COMPLAINT:  Admitted from rehabilitation for\\nhypotension (systolic blood pressure to the 70s) and\\ndecreased urine output.\\n\\nHISTORY OF PRESENT ILLNESS:  The patient is a 76-year-old\\nmale who had been hospitalized at the [**Hospital1 190**] from [**10-11**] through [**10-19**] of [**2101**]\\nafter undergoing a left femoral-AT bypass graft and was\\nsubsequently discharged to a rehabilitation facility.\\n\\nOn [**2101-10-20**], he presented a...   \n",
       "1  Admission Date:  [**2191-3-16**]     Discharge Date:  [**2191-3-23**]\\n\\nDate of Birth:   [**2143-5-12**]     Sex:  F\\n\\nService:\\n\\nCHIEF COMPLAINT:  Shortness of breath and fevers.\\n\\nHISTORY OF PRESENT ILLNESS:  The patient is a 47-year-old\\nfemale with a history of human immunodeficiency virus (last\\nCD4 count 42 and a viral load of 65,000), cirrhosis,\\ndiabetes, and hypothyroidism presented with eight days of\\nfevers to 104, chills, shortness of breath, cough, dyspnea on\\nexertion, and fatigue.\\n\\nThe patient states she has become progressively dyspneic to\\nthe point where she is shor...   \n",
       "2  Admission Date: [**2175-5-30**]        Discharge Date:  [**2175-6-15**]\\n\\nDate of Birth:                    Sex:  F\\n\\nService:\\n\\n\\nADMISSION DIAGNOSIS:  End stage renal disease, admitted for\\ntransplant surgery.\\n\\nHISTORY OF PRESENT ILLNESS:  The patient is a 65 year-old\\nwoman with end stage renal disease, secondary to malignant\\nhypertension. She was started on dialysis in [**2174-2-7**].  She currently was on peritoneal dialysis and appears\\nto be doing well.  She has a history of gastric angiectasia\\nwhich she requires endoscopy. She was admitted on [**2175-5-30**] for\\na scheduled...   \n",
       "3  Admission Date:  [**2149-11-9**]       Discharge Date: [**2149-11-13**]\\n\\nDate of Birth:   [**2108-1-26**]       Sex:  M\\n\\nService:  NEUROLOGY\\n\\nCHIEF COMPLAINT:  Weakness, inability to talk.\\n\\nHISTORY OF THE PRESENT ILLNESS:  This is a 41-year-old\\nAfrican-American male with a history of hypertension who was\\nin his usual state of health until about 10:25 a.m. on the\\nmorning of admission.  He had gone to use the restroom and a\\nfew minutes later his family found him slumped onto the\\nfloor, apparently unable to talk and with weakness in his\\nright arm and leg.  EMS was called and he ...   \n",
       "\n",
       "                                                                                       labels  \n",
       "0  038.9;785.59;584.9;427.5;410.71;428.0;682.6;425.4;263.9;96.04;99.62;89.64;96.72;38.93;96.6  \n",
       "1                     042;136.3;799.4;276.3;790.7;571.5;041.11;V09.0;E931.7;38.93;88.72;33.23  \n",
       "2              403.91;444.0;997.2;276.6;276.7;285.9;275.3;V15.82;55.69;91.0;39.57;38.06;99.04  \n",
       "3                                               431;507.0;428.0;584.9;276.5;401.9;96.72;96.04  "
      ]
     },
     "execution_count": null,
     "metadata": {},
     "output_type": "execute_result"
    }
   ],
   "source": [
    "df_labelled_data.head(4)"
   ]
  },
  {
   "cell_type": "code",
   "execution_count": null,
   "id": "6c5e9da3",
   "metadata": {},
   "outputs": [],
   "source": []
  },
  {
   "cell_type": "markdown",
   "id": "f7d890e0",
   "metadata": {},
   "source": [
    "Let's calculate the number of unique `hadm_id`s and see if it is still 52726:"
   ]
  },
  {
   "cell_type": "code",
   "execution_count": null,
   "id": "d0344ef0",
   "metadata": {},
   "outputs": [
    {
     "data": {
      "text/plain": [
       "52726"
      ]
     },
     "execution_count": null,
     "metadata": {},
     "output_type": "execute_result"
    }
   ],
   "source": [
    "df_labelled_data['hadm_id'].nunique()"
   ]
  },
  {
   "cell_type": "markdown",
   "id": "bba63f94",
   "metadata": {},
   "source": [
    "Yes, it is! Let's save it again:"
   ]
  },
  {
   "cell_type": "code",
   "execution_count": null,
   "id": "dda4c83b",
   "metadata": {},
   "outputs": [],
   "source": [
    "df_labelled_data.to_csv(outfile, index=False)"
   ]
  },
  {
   "cell_type": "markdown",
   "id": "6c3b9ca5",
   "metadata": {},
   "source": [
    "**So the final file which contains our labelled data is `notes_labelled.csv`.**"
   ]
  },
  {
   "cell_type": "code",
   "execution_count": null,
   "id": "d096eb56",
   "metadata": {},
   "outputs": [],
   "source": [
    "# for row in df_labelled_data.itertuples():\n",
    "#     print(row.SUBJECT_ID, \"|\", row.LABELS)\n",
    "#     break"
   ]
  },
  {
   "cell_type": "markdown",
   "id": "9d50b826",
   "metadata": {},
   "source": [
    "Let's now read the hadm_id splits (into train/dev/test) created by CAML_MIMIC paper."
   ]
  },
  {
   "cell_type": "code",
   "execution_count": null,
   "id": "2f118b4c",
   "metadata": {},
   "outputs": [
    {
     "name": "stdout",
     "output_type": "stream",
     "text": [
      "/home/ubuntu/codemimic/data2/train_full_hadm_ids.csv\r\n",
      "/home/ubuntu/codemimic/data2/test_full_hadm_ids.csv\r\n",
      "/home/ubuntu/codemimic/data2/dev_full_hadm_ids.csv\r\n"
     ]
    }
   ],
   "source": [
    "!find {path_data} -type f -name '*full_hadm*'"
   ]
  },
  {
   "cell_type": "code",
   "execution_count": null,
   "id": "bf4c7b32",
   "metadata": {},
   "outputs": [
    {
     "data": {
      "text/plain": [
       "(47723, 1631, 3372)"
      ]
     },
     "execution_count": null,
     "metadata": {},
     "output_type": "execute_result"
    }
   ],
   "source": [
    "train_hadm = pd.read_csv(path_data/'train_full_hadm_ids.csv', header=None)\n",
    "dev_hadm = pd.read_csv(path_data/'dev_full_hadm_ids.csv', header=None)\n",
    "test_hadm = pd.read_csv(path_data/'test_full_hadm_ids.csv', header=None)\n",
    "len(train_hadm), len(dev_hadm), len(test_hadm)"
   ]
  },
  {
   "cell_type": "code",
   "execution_count": null,
   "id": "406d6bcc",
   "metadata": {},
   "outputs": [],
   "source": [
    "train_hadm['hadm_id'] = train_hadm;  del train_hadm[0]; train_hadm['is_valid'] = False\n",
    "dev_hadm['hadm_id'] = dev_hadm; del dev_hadm[0]; dev_hadm['is_valid'] = False\n",
    "test_hadm['hadm_id'] = test_hadm; del test_hadm[0]; test_hadm['is_valid'] = True"
   ]
  },
  {
   "cell_type": "code",
   "execution_count": null,
   "id": "1b3b14fb",
   "metadata": {},
   "outputs": [
    {
     "data": {
      "text/html": [
       "<div>\n",
       "<style scoped>\n",
       "    .dataframe tbody tr th:only-of-type {\n",
       "        vertical-align: middle;\n",
       "    }\n",
       "\n",
       "    .dataframe tbody tr th {\n",
       "        vertical-align: top;\n",
       "    }\n",
       "\n",
       "    .dataframe thead th {\n",
       "        text-align: right;\n",
       "    }\n",
       "</style>\n",
       "<table border=\"1\" class=\"dataframe\">\n",
       "  <thead>\n",
       "    <tr style=\"text-align: right;\">\n",
       "      <th></th>\n",
       "      <th>hadm_id</th>\n",
       "      <th>is_valid</th>\n",
       "    </tr>\n",
       "  </thead>\n",
       "  <tbody>\n",
       "    <tr>\n",
       "      <th>0</th>\n",
       "      <td>169433</td>\n",
       "      <td>False</td>\n",
       "    </tr>\n",
       "    <tr>\n",
       "      <th>1</th>\n",
       "      <td>178124</td>\n",
       "      <td>False</td>\n",
       "    </tr>\n",
       "    <tr>\n",
       "      <th>2</th>\n",
       "      <td>139808</td>\n",
       "      <td>False</td>\n",
       "    </tr>\n",
       "    <tr>\n",
       "      <th>3</th>\n",
       "      <td>117638</td>\n",
       "      <td>False</td>\n",
       "    </tr>\n",
       "    <tr>\n",
       "      <th>4</th>\n",
       "      <td>190945</td>\n",
       "      <td>False</td>\n",
       "    </tr>\n",
       "    <tr>\n",
       "      <th>...</th>\n",
       "      <td>...</td>\n",
       "      <td>...</td>\n",
       "    </tr>\n",
       "    <tr>\n",
       "      <th>47718</th>\n",
       "      <td>105131</td>\n",
       "      <td>False</td>\n",
       "    </tr>\n",
       "    <tr>\n",
       "      <th>47719</th>\n",
       "      <td>112625</td>\n",
       "      <td>False</td>\n",
       "    </tr>\n",
       "    <tr>\n",
       "      <th>47720</th>\n",
       "      <td>128930</td>\n",
       "      <td>False</td>\n",
       "    </tr>\n",
       "    <tr>\n",
       "      <th>47721</th>\n",
       "      <td>172599</td>\n",
       "      <td>False</td>\n",
       "    </tr>\n",
       "    <tr>\n",
       "      <th>47722</th>\n",
       "      <td>164627</td>\n",
       "      <td>False</td>\n",
       "    </tr>\n",
       "  </tbody>\n",
       "</table>\n",
       "<p>47723 rows × 2 columns</p>\n",
       "</div>"
      ],
      "text/plain": [
       "       hadm_id  is_valid\n",
       "0       169433     False\n",
       "1       178124     False\n",
       "2       139808     False\n",
       "3       117638     False\n",
       "4       190945     False\n",
       "...        ...       ...\n",
       "47718   105131     False\n",
       "47719   112625     False\n",
       "47720   128930     False\n",
       "47721   172599     False\n",
       "47722   164627     False\n",
       "\n",
       "[47723 rows x 2 columns]"
      ]
     },
     "execution_count": null,
     "metadata": {},
     "output_type": "execute_result"
    }
   ],
   "source": [
    "train_hadm"
   ]
  },
  {
   "cell_type": "code",
   "execution_count": null,
   "id": "1454e7e5",
   "metadata": {},
   "outputs": [
    {
     "data": {
      "text/html": [
       "<div>\n",
       "<style scoped>\n",
       "    .dataframe tbody tr th:only-of-type {\n",
       "        vertical-align: middle;\n",
       "    }\n",
       "\n",
       "    .dataframe tbody tr th {\n",
       "        vertical-align: top;\n",
       "    }\n",
       "\n",
       "    .dataframe thead th {\n",
       "        text-align: right;\n",
       "    }\n",
       "</style>\n",
       "<table border=\"1\" class=\"dataframe\">\n",
       "  <thead>\n",
       "    <tr style=\"text-align: right;\">\n",
       "      <th></th>\n",
       "      <th>hadm_id</th>\n",
       "      <th>is_valid</th>\n",
       "    </tr>\n",
       "  </thead>\n",
       "  <tbody>\n",
       "    <tr>\n",
       "      <th>0</th>\n",
       "      <td>111912</td>\n",
       "      <td>False</td>\n",
       "    </tr>\n",
       "    <tr>\n",
       "      <th>1</th>\n",
       "      <td>189769</td>\n",
       "      <td>False</td>\n",
       "    </tr>\n",
       "    <tr>\n",
       "      <th>2</th>\n",
       "      <td>180431</td>\n",
       "      <td>False</td>\n",
       "    </tr>\n",
       "    <tr>\n",
       "      <th>3</th>\n",
       "      <td>152868</td>\n",
       "      <td>False</td>\n",
       "    </tr>\n",
       "    <tr>\n",
       "      <th>4</th>\n",
       "      <td>169373</td>\n",
       "      <td>False</td>\n",
       "    </tr>\n",
       "    <tr>\n",
       "      <th>...</th>\n",
       "      <td>...</td>\n",
       "      <td>...</td>\n",
       "    </tr>\n",
       "    <tr>\n",
       "      <th>1626</th>\n",
       "      <td>173821</td>\n",
       "      <td>False</td>\n",
       "    </tr>\n",
       "    <tr>\n",
       "      <th>1627</th>\n",
       "      <td>157264</td>\n",
       "      <td>False</td>\n",
       "    </tr>\n",
       "    <tr>\n",
       "      <th>1628</th>\n",
       "      <td>164038</td>\n",
       "      <td>False</td>\n",
       "    </tr>\n",
       "    <tr>\n",
       "      <th>1629</th>\n",
       "      <td>167925</td>\n",
       "      <td>False</td>\n",
       "    </tr>\n",
       "    <tr>\n",
       "      <th>1630</th>\n",
       "      <td>143537</td>\n",
       "      <td>False</td>\n",
       "    </tr>\n",
       "  </tbody>\n",
       "</table>\n",
       "<p>1631 rows × 2 columns</p>\n",
       "</div>"
      ],
      "text/plain": [
       "      hadm_id  is_valid\n",
       "0      111912     False\n",
       "1      189769     False\n",
       "2      180431     False\n",
       "3      152868     False\n",
       "4      169373     False\n",
       "...       ...       ...\n",
       "1626   173821     False\n",
       "1627   157264     False\n",
       "1628   164038     False\n",
       "1629   167925     False\n",
       "1630   143537     False\n",
       "\n",
       "[1631 rows x 2 columns]"
      ]
     },
     "execution_count": null,
     "metadata": {},
     "output_type": "execute_result"
    }
   ],
   "source": [
    "dev_hadm"
   ]
  },
  {
   "cell_type": "code",
   "execution_count": null,
   "id": "2eee5fc3",
   "metadata": {},
   "outputs": [
    {
     "data": {
      "text/html": [
       "<div>\n",
       "<style scoped>\n",
       "    .dataframe tbody tr th:only-of-type {\n",
       "        vertical-align: middle;\n",
       "    }\n",
       "\n",
       "    .dataframe tbody tr th {\n",
       "        vertical-align: top;\n",
       "    }\n",
       "\n",
       "    .dataframe thead th {\n",
       "        text-align: right;\n",
       "    }\n",
       "</style>\n",
       "<table border=\"1\" class=\"dataframe\">\n",
       "  <thead>\n",
       "    <tr style=\"text-align: right;\">\n",
       "      <th></th>\n",
       "      <th>hadm_id</th>\n",
       "      <th>is_valid</th>\n",
       "    </tr>\n",
       "  </thead>\n",
       "  <tbody>\n",
       "    <tr>\n",
       "      <th>0</th>\n",
       "      <td>104128</td>\n",
       "      <td>True</td>\n",
       "    </tr>\n",
       "    <tr>\n",
       "      <th>1</th>\n",
       "      <td>193800</td>\n",
       "      <td>True</td>\n",
       "    </tr>\n",
       "    <tr>\n",
       "      <th>2</th>\n",
       "      <td>176502</td>\n",
       "      <td>True</td>\n",
       "    </tr>\n",
       "    <tr>\n",
       "      <th>3</th>\n",
       "      <td>190960</td>\n",
       "      <td>True</td>\n",
       "    </tr>\n",
       "    <tr>\n",
       "      <th>4</th>\n",
       "      <td>186684</td>\n",
       "      <td>True</td>\n",
       "    </tr>\n",
       "    <tr>\n",
       "      <th>...</th>\n",
       "      <td>...</td>\n",
       "      <td>...</td>\n",
       "    </tr>\n",
       "    <tr>\n",
       "      <th>3367</th>\n",
       "      <td>176399</td>\n",
       "      <td>True</td>\n",
       "    </tr>\n",
       "    <tr>\n",
       "      <th>3368</th>\n",
       "      <td>142423</td>\n",
       "      <td>True</td>\n",
       "    </tr>\n",
       "    <tr>\n",
       "      <th>3369</th>\n",
       "      <td>106110</td>\n",
       "      <td>True</td>\n",
       "    </tr>\n",
       "    <tr>\n",
       "      <th>3370</th>\n",
       "      <td>158581</td>\n",
       "      <td>True</td>\n",
       "    </tr>\n",
       "    <tr>\n",
       "      <th>3371</th>\n",
       "      <td>115396</td>\n",
       "      <td>True</td>\n",
       "    </tr>\n",
       "  </tbody>\n",
       "</table>\n",
       "<p>3372 rows × 2 columns</p>\n",
       "</div>"
      ],
      "text/plain": [
       "      hadm_id  is_valid\n",
       "0      104128      True\n",
       "1      193800      True\n",
       "2      176502      True\n",
       "3      190960      True\n",
       "4      186684      True\n",
       "...       ...       ...\n",
       "3367   176399      True\n",
       "3368   142423      True\n",
       "3369   106110      True\n",
       "3370   158581      True\n",
       "3371   115396      True\n",
       "\n",
       "[3372 rows x 2 columns]"
      ]
     },
     "execution_count": null,
     "metadata": {},
     "output_type": "execute_result"
    }
   ],
   "source": [
    "test_hadm"
   ]
  },
  {
   "cell_type": "markdown",
   "id": "4fc2a807",
   "metadata": {},
   "source": [
    "Let's now concatenate the three hadm_ids so that we can merge with the dataframe `df_labelled_data` based on the column `hadm_id`: "
   ]
  },
  {
   "cell_type": "code",
   "execution_count": null,
   "id": "be0e5027",
   "metadata": {},
   "outputs": [
    {
     "data": {
      "text/html": [
       "<div>\n",
       "<style scoped>\n",
       "    .dataframe tbody tr th:only-of-type {\n",
       "        vertical-align: middle;\n",
       "    }\n",
       "\n",
       "    .dataframe tbody tr th {\n",
       "        vertical-align: top;\n",
       "    }\n",
       "\n",
       "    .dataframe thead th {\n",
       "        text-align: right;\n",
       "    }\n",
       "</style>\n",
       "<table border=\"1\" class=\"dataframe\">\n",
       "  <thead>\n",
       "    <tr style=\"text-align: right;\">\n",
       "      <th></th>\n",
       "      <th>hadm_id</th>\n",
       "      <th>is_valid</th>\n",
       "    </tr>\n",
       "  </thead>\n",
       "  <tbody>\n",
       "    <tr>\n",
       "      <th>0</th>\n",
       "      <td>169433</td>\n",
       "      <td>False</td>\n",
       "    </tr>\n",
       "    <tr>\n",
       "      <th>1</th>\n",
       "      <td>178124</td>\n",
       "      <td>False</td>\n",
       "    </tr>\n",
       "    <tr>\n",
       "      <th>2</th>\n",
       "      <td>139808</td>\n",
       "      <td>False</td>\n",
       "    </tr>\n",
       "    <tr>\n",
       "      <th>3</th>\n",
       "      <td>117638</td>\n",
       "      <td>False</td>\n",
       "    </tr>\n",
       "    <tr>\n",
       "      <th>4</th>\n",
       "      <td>190945</td>\n",
       "      <td>False</td>\n",
       "    </tr>\n",
       "    <tr>\n",
       "      <th>...</th>\n",
       "      <td>...</td>\n",
       "      <td>...</td>\n",
       "    </tr>\n",
       "    <tr>\n",
       "      <th>3367</th>\n",
       "      <td>176399</td>\n",
       "      <td>True</td>\n",
       "    </tr>\n",
       "    <tr>\n",
       "      <th>3368</th>\n",
       "      <td>142423</td>\n",
       "      <td>True</td>\n",
       "    </tr>\n",
       "    <tr>\n",
       "      <th>3369</th>\n",
       "      <td>106110</td>\n",
       "      <td>True</td>\n",
       "    </tr>\n",
       "    <tr>\n",
       "      <th>3370</th>\n",
       "      <td>158581</td>\n",
       "      <td>True</td>\n",
       "    </tr>\n",
       "    <tr>\n",
       "      <th>3371</th>\n",
       "      <td>115396</td>\n",
       "      <td>True</td>\n",
       "    </tr>\n",
       "  </tbody>\n",
       "</table>\n",
       "<p>52726 rows × 2 columns</p>\n",
       "</div>"
      ],
      "text/plain": [
       "      hadm_id  is_valid\n",
       "0      169433     False\n",
       "1      178124     False\n",
       "2      139808     False\n",
       "3      117638     False\n",
       "4      190945     False\n",
       "...       ...       ...\n",
       "3367   176399      True\n",
       "3368   142423      True\n",
       "3369   106110      True\n",
       "3370   158581      True\n",
       "3371   115396      True\n",
       "\n",
       "[52726 rows x 2 columns]"
      ]
     },
     "execution_count": null,
     "metadata": {},
     "output_type": "execute_result"
    }
   ],
   "source": [
    "hadm = pd.concat([train_hadm, dev_hadm, test_hadm]); hadm"
   ]
  },
  {
   "cell_type": "markdown",
   "id": "14d6f719",
   "metadata": {},
   "source": [
    "Let's now merge `df_labelled_data` and `hadm`:"
   ]
  },
  {
   "cell_type": "code",
   "execution_count": null,
   "id": "b54b9e1d",
   "metadata": {},
   "outputs": [
    {
     "data": {
      "text/plain": [
       "(Index(['subject_id', 'hadm_id', 'text', 'labels'], dtype='object'),\n",
       " Index(['hadm_id', 'is_valid'], dtype='object'))"
      ]
     },
     "execution_count": null,
     "metadata": {},
     "output_type": "execute_result"
    }
   ],
   "source": [
    "df_labelled_data.columns, hadm.columns"
   ]
  },
  {
   "cell_type": "code",
   "execution_count": null,
   "id": "cc4a7ef0",
   "metadata": {},
   "outputs": [],
   "source": [
    "df_labelled_data = df_labelled_data.merge(hadm)"
   ]
  },
  {
   "cell_type": "code",
   "execution_count": null,
   "id": "4cf17e8b",
   "metadata": {},
   "outputs": [
    {
     "data": {
      "text/html": [
       "<div>\n",
       "<style scoped>\n",
       "    .dataframe tbody tr th:only-of-type {\n",
       "        vertical-align: middle;\n",
       "    }\n",
       "\n",
       "    .dataframe tbody tr th {\n",
       "        vertical-align: top;\n",
       "    }\n",
       "\n",
       "    .dataframe thead th {\n",
       "        text-align: right;\n",
       "    }\n",
       "</style>\n",
       "<table border=\"1\" class=\"dataframe\">\n",
       "  <thead>\n",
       "    <tr style=\"text-align: right;\">\n",
       "      <th></th>\n",
       "      <th>subject_id</th>\n",
       "      <th>hadm_id</th>\n",
       "      <th>text</th>\n",
       "      <th>labels</th>\n",
       "      <th>is_valid</th>\n",
       "    </tr>\n",
       "  </thead>\n",
       "  <tbody>\n",
       "    <tr>\n",
       "      <th>0</th>\n",
       "      <td>3</td>\n",
       "      <td>145834</td>\n",
       "      <td>Admission Date:  [**2101-10-20**]     Discharge Date:  [**2101-10-31**]\\n\\nDate of Birth:   [**2025-4-11**]     Sex:  M\\n\\nService:  Medicine\\n\\nCHIEF COMPLAINT:  Admitted from rehabilitation for\\nhypotension (systolic blood pressure to the 70s) and\\ndecreased urine output.\\n\\nHISTORY OF PRESENT ILLNESS:  The patient is a 76-year-old\\nmale who had been hospitalized at the [**Hospital1 190**] from [**10-11**] through [**10-19**] of [**2101**]\\nafter undergoing a left femoral-AT bypass graft and was\\nsubsequently discharged to a rehabilitation facility.\\n\\nOn [**2101-10-20**], he presented a...</td>\n",
       "      <td>038.9;785.59;584.9;427.5;410.71;428.0;682.6;425.4;263.9;96.04;99.62;89.64;96.72;38.93;96.6</td>\n",
       "      <td>False</td>\n",
       "    </tr>\n",
       "    <tr>\n",
       "      <th>1</th>\n",
       "      <td>4</td>\n",
       "      <td>185777</td>\n",
       "      <td>Admission Date:  [**2191-3-16**]     Discharge Date:  [**2191-3-23**]\\n\\nDate of Birth:   [**2143-5-12**]     Sex:  F\\n\\nService:\\n\\nCHIEF COMPLAINT:  Shortness of breath and fevers.\\n\\nHISTORY OF PRESENT ILLNESS:  The patient is a 47-year-old\\nfemale with a history of human immunodeficiency virus (last\\nCD4 count 42 and a viral load of 65,000), cirrhosis,\\ndiabetes, and hypothyroidism presented with eight days of\\nfevers to 104, chills, shortness of breath, cough, dyspnea on\\nexertion, and fatigue.\\n\\nThe patient states she has become progressively dyspneic to\\nthe point where she is shor...</td>\n",
       "      <td>042;136.3;799.4;276.3;790.7;571.5;041.11;V09.0;E931.7;38.93;88.72;33.23</td>\n",
       "      <td>False</td>\n",
       "    </tr>\n",
       "    <tr>\n",
       "      <th>2</th>\n",
       "      <td>6</td>\n",
       "      <td>107064</td>\n",
       "      <td>Admission Date: [**2175-5-30**]        Discharge Date:  [**2175-6-15**]\\n\\nDate of Birth:                    Sex:  F\\n\\nService:\\n\\n\\nADMISSION DIAGNOSIS:  End stage renal disease, admitted for\\ntransplant surgery.\\n\\nHISTORY OF PRESENT ILLNESS:  The patient is a 65 year-old\\nwoman with end stage renal disease, secondary to malignant\\nhypertension. She was started on dialysis in [**2174-2-7**].  She currently was on peritoneal dialysis and appears\\nto be doing well.  She has a history of gastric angiectasia\\nwhich she requires endoscopy. She was admitted on [**2175-5-30**] for\\na scheduled...</td>\n",
       "      <td>403.91;444.0;997.2;276.6;276.7;285.9;275.3;V15.82;55.69;91.0;39.57;38.06;99.04</td>\n",
       "      <td>False</td>\n",
       "    </tr>\n",
       "    <tr>\n",
       "      <th>3</th>\n",
       "      <td>9</td>\n",
       "      <td>150750</td>\n",
       "      <td>Admission Date:  [**2149-11-9**]       Discharge Date: [**2149-11-13**]\\n\\nDate of Birth:   [**2108-1-26**]       Sex:  M\\n\\nService:  NEUROLOGY\\n\\nCHIEF COMPLAINT:  Weakness, inability to talk.\\n\\nHISTORY OF THE PRESENT ILLNESS:  This is a 41-year-old\\nAfrican-American male with a history of hypertension who was\\nin his usual state of health until about 10:25 a.m. on the\\nmorning of admission.  He had gone to use the restroom and a\\nfew minutes later his family found him slumped onto the\\nfloor, apparently unable to talk and with weakness in his\\nright arm and leg.  EMS was called and he ...</td>\n",
       "      <td>431;507.0;428.0;584.9;276.5;401.9;96.72;96.04</td>\n",
       "      <td>False</td>\n",
       "    </tr>\n",
       "    <tr>\n",
       "      <th>4</th>\n",
       "      <td>10</td>\n",
       "      <td>184167</td>\n",
       "      <td>Admission Date:  [**2103-6-28**]       Discharge Date:  [**2103-7-6**]\\n\\nDate of Birth:   [**2103-6-28**]       Sex:  F\\n\\nService:\\n\\nHISTORY OF PRESENT ILLNESS:  Baby Girl [**Known lastname 48639**] is a 1,385\\ngram, former 30 and [**5-23**] week premature baby, born to an 18\\nyear old, Gravida I, Para 0, now I, mother with prenatal\\nserologies as follows:\\n\\nA positive, antibody negative, RPR nonreactive, hepatitis B\\nsurface antigen negative; GBS unknown.\\n\\nPregnancy was complicated by PPROM on [**2103-6-23**] when the\\nmother was transferred from [**Name (NI) 1474**] Hospital to [**...</td>\n",
       "      <td>V30.00;774.2;765.25;765.15;V29.0;99.83;99.15;96.6</td>\n",
       "      <td>False</td>\n",
       "    </tr>\n",
       "    <tr>\n",
       "      <th>...</th>\n",
       "      <td>...</td>\n",
       "      <td>...</td>\n",
       "      <td>...</td>\n",
       "      <td>...</td>\n",
       "      <td>...</td>\n",
       "    </tr>\n",
       "    <tr>\n",
       "      <th>52721</th>\n",
       "      <td>99985</td>\n",
       "      <td>176670</td>\n",
       "      <td>Admission Date:  [**2181-1-27**]              Discharge Date:   [**2181-2-12**]\\n\\nDate of Birth:  [**2127-4-8**]             Sex:   M\\n\\nService: MEDICINE\\n\\nAllergies:\\nCefepime\\n\\nAttending:[**First Name3 (LF) 1936**]\\nChief Complaint:\\nfever\\n\\nMajor Surgical or Invasive Procedure:\\nnone\\n\\nHistory of Present Illness:\\nPt's a 53-year-old male patient of Dr. [**First Name4 (NamePattern1) **] [**Last Name (NamePattern1) **] is here\\nfor evaluation of fever.  The patient states fever began two\\ndays ago along with a mild dry cough, fever was low-grade at\\nthat time.  Day of admission, pt ...</td>\n",
       "      <td>038.9;518.81;482.41;487.0;785.52;V42.81;995.92;244.9;272.4;285.9;530.81;V10.72;238.71;96.72;96.6;38.93;14.0;96.04</td>\n",
       "      <td>True</td>\n",
       "    </tr>\n",
       "    <tr>\n",
       "      <th>52722</th>\n",
       "      <td>99991</td>\n",
       "      <td>151118</td>\n",
       "      <td>Admission Date:  [**2184-12-24**]              Discharge Date:   [**2185-1-5**]\\n\\nDate of Birth:  [**2137-4-7**]             Sex:   M\\n\\nService: SURGERY\\n\\nAllergies:\\nPatient recorded as having No Known Allergies to Drugs\\n\\nAttending:[**First Name3 (LF) 6346**]\\nChief Complaint:\\nRecurrent diverticulitis\\n\\nMajor Surgical or Invasive Procedure:\\n[**2184-12-24**]: Laparoscopic sigmoid colectomy, splenic flexure\\ntakedown, rigid sigmoidoscopy.\\n.\\n[**2184-12-28**]: Exploratory laparotomy, lysis of adhesions,\\nomentectomy, washout of abdomen, drain placement and abdominal\\nclosure.\\n\\n\\nH...</td>\n",
       "      <td>562.11;038.9;557.0;584.9;995.92;560.81;789.59;553.8;788.5;402.91;428.0;719.47;564.4;250.00;V02.54;E878.8;276.51;17.36;54.12;54.59;54.4;48.23;54.25;54.91</td>\n",
       "      <td>True</td>\n",
       "    </tr>\n",
       "    <tr>\n",
       "      <th>52723</th>\n",
       "      <td>99992</td>\n",
       "      <td>197084</td>\n",
       "      <td>Admission Date:  [**2144-7-25**]              Discharge Date:   [**2144-7-28**]\\n\\nDate of Birth:  [**2078-10-17**]             Sex:   F\\n\\nService: MEDICINE\\n\\nAllergies:\\nBactrim / Norvasc / Lipitor / Cortisone\\n\\nAttending:[**First Name3 (LF) 2751**]\\nChief Complaint:\\nChief Complaint: anemia\\n.\\nReason for MICU transfer: retroperitoneal bleed\\n\\n\\nMajor Surgical or Invasive Procedure:\\nCoiling of superior gluteal artery\\n\\nHistory of Present Illness:\\nMs. [**Known lastname 91180**] is a 65 YOF with history of GERD, HTN, and\\nhypertriglyceridemia who was recently admitted from [**7-9**]...</td>\n",
       "      <td>999.9;568.81;577.2;285.1;584.9;579.9;729.92;530.81;401.9;272.1;569.9;300.4;39.79;88.47</td>\n",
       "      <td>True</td>\n",
       "    </tr>\n",
       "    <tr>\n",
       "      <th>52724</th>\n",
       "      <td>99995</td>\n",
       "      <td>137810</td>\n",
       "      <td>Admission Date:  [**2147-2-8**]              Discharge Date:   [**2147-2-11**]\\n\\n\\nService: SURGERY\\n\\nAllergies:\\nZantac\\n\\nAttending:[**First Name3 (LF) 6088**]\\nChief Complaint:\\nAbdominal Aortic Aneurysm\\n\\nMajor Surgical or Invasive Procedure:\\n[**2147-2-8**]: groin cutdown with mass excision and endovascular\\nrepair of an aortic aneurysm\\n\\n\\nHistory of Present Illness:\\nMs. [**Known lastname **] is an 88-year-old female who is currently being\\nevaluated for percutaneous aortic valve replacement due to\\nsevere\\naortic stenosis.  She has a known infrarenal aortic aneurysm.\\nThis was ...</td>\n",
       "      <td>441.4;428.33;998.12;285.1;424.1;250.00;998.11;996.1;E879.8;272.4;V45.81;428.0;V10.3;V15.82;V58.61;440.0;414.01;39.71;83.39;17.71</td>\n",
       "      <td>True</td>\n",
       "    </tr>\n",
       "    <tr>\n",
       "      <th>52725</th>\n",
       "      <td>99999</td>\n",
       "      <td>113369</td>\n",
       "      <td>Admission Date:  [**2117-12-30**]              Discharge Date:   [**2118-1-4**]\\n\\nDate of Birth:  [**2054-1-6**]             Sex:   F\\n\\nService: NEUROSURGERY\\n\\nAllergies:\\nPenicillins\\n\\nAttending:[**First Name3 (LF) 2724**]\\nChief Complaint:\\nNeurogenic claudication\\n\\nMajor Surgical or Invasive Procedure:\\n[**2117-12-30**] PLIF L4-5\\n\\n\\nHistory of Present Illness:\\n63-year-old woman who complains of bilateral lower extremity\\nsymptoms that are exacerbated by walking.  She receives some\\namelioration with rest.  She denies difficulty with bowel or\\nbladder function.\\n\\n\\nPast Medical ...</td>\n",
       "      <td>756.12;786.1;401.9;250.00;413.9;81.08;80.51;81.62;99.79;84.51</td>\n",
       "      <td>True</td>\n",
       "    </tr>\n",
       "  </tbody>\n",
       "</table>\n",
       "<p>52726 rows × 5 columns</p>\n",
       "</div>"
      ],
      "text/plain": [
       "       subject_id  hadm_id  \\\n",
       "0               3   145834   \n",
       "1               4   185777   \n",
       "2               6   107064   \n",
       "3               9   150750   \n",
       "4              10   184167   \n",
       "...           ...      ...   \n",
       "52721       99985   176670   \n",
       "52722       99991   151118   \n",
       "52723       99992   197084   \n",
       "52724       99995   137810   \n",
       "52725       99999   113369   \n",
       "\n",
       "                                                                                                                                                                                                                                                                                                                                                                                                                                                                                                                                                                                                                          text  \\\n",
       "0      Admission Date:  [**2101-10-20**]     Discharge Date:  [**2101-10-31**]\\n\\nDate of Birth:   [**2025-4-11**]     Sex:  M\\n\\nService:  Medicine\\n\\nCHIEF COMPLAINT:  Admitted from rehabilitation for\\nhypotension (systolic blood pressure to the 70s) and\\ndecreased urine output.\\n\\nHISTORY OF PRESENT ILLNESS:  The patient is a 76-year-old\\nmale who had been hospitalized at the [**Hospital1 190**] from [**10-11**] through [**10-19**] of [**2101**]\\nafter undergoing a left femoral-AT bypass graft and was\\nsubsequently discharged to a rehabilitation facility.\\n\\nOn [**2101-10-20**], he presented a...   \n",
       "1      Admission Date:  [**2191-3-16**]     Discharge Date:  [**2191-3-23**]\\n\\nDate of Birth:   [**2143-5-12**]     Sex:  F\\n\\nService:\\n\\nCHIEF COMPLAINT:  Shortness of breath and fevers.\\n\\nHISTORY OF PRESENT ILLNESS:  The patient is a 47-year-old\\nfemale with a history of human immunodeficiency virus (last\\nCD4 count 42 and a viral load of 65,000), cirrhosis,\\ndiabetes, and hypothyroidism presented with eight days of\\nfevers to 104, chills, shortness of breath, cough, dyspnea on\\nexertion, and fatigue.\\n\\nThe patient states she has become progressively dyspneic to\\nthe point where she is shor...   \n",
       "2      Admission Date: [**2175-5-30**]        Discharge Date:  [**2175-6-15**]\\n\\nDate of Birth:                    Sex:  F\\n\\nService:\\n\\n\\nADMISSION DIAGNOSIS:  End stage renal disease, admitted for\\ntransplant surgery.\\n\\nHISTORY OF PRESENT ILLNESS:  The patient is a 65 year-old\\nwoman with end stage renal disease, secondary to malignant\\nhypertension. She was started on dialysis in [**2174-2-7**].  She currently was on peritoneal dialysis and appears\\nto be doing well.  She has a history of gastric angiectasia\\nwhich she requires endoscopy. She was admitted on [**2175-5-30**] for\\na scheduled...   \n",
       "3      Admission Date:  [**2149-11-9**]       Discharge Date: [**2149-11-13**]\\n\\nDate of Birth:   [**2108-1-26**]       Sex:  M\\n\\nService:  NEUROLOGY\\n\\nCHIEF COMPLAINT:  Weakness, inability to talk.\\n\\nHISTORY OF THE PRESENT ILLNESS:  This is a 41-year-old\\nAfrican-American male with a history of hypertension who was\\nin his usual state of health until about 10:25 a.m. on the\\nmorning of admission.  He had gone to use the restroom and a\\nfew minutes later his family found him slumped onto the\\nfloor, apparently unable to talk and with weakness in his\\nright arm and leg.  EMS was called and he ...   \n",
       "4      Admission Date:  [**2103-6-28**]       Discharge Date:  [**2103-7-6**]\\n\\nDate of Birth:   [**2103-6-28**]       Sex:  F\\n\\nService:\\n\\nHISTORY OF PRESENT ILLNESS:  Baby Girl [**Known lastname 48639**] is a 1,385\\ngram, former 30 and [**5-23**] week premature baby, born to an 18\\nyear old, Gravida I, Para 0, now I, mother with prenatal\\nserologies as follows:\\n\\nA positive, antibody negative, RPR nonreactive, hepatitis B\\nsurface antigen negative; GBS unknown.\\n\\nPregnancy was complicated by PPROM on [**2103-6-23**] when the\\nmother was transferred from [**Name (NI) 1474**] Hospital to [**...   \n",
       "...                                                                                                                                                                                                                                                                                                                                                                                                                                                                                                                                                                                                                        ...   \n",
       "52721  Admission Date:  [**2181-1-27**]              Discharge Date:   [**2181-2-12**]\\n\\nDate of Birth:  [**2127-4-8**]             Sex:   M\\n\\nService: MEDICINE\\n\\nAllergies:\\nCefepime\\n\\nAttending:[**First Name3 (LF) 1936**]\\nChief Complaint:\\nfever\\n\\nMajor Surgical or Invasive Procedure:\\nnone\\n\\nHistory of Present Illness:\\nPt's a 53-year-old male patient of Dr. [**First Name4 (NamePattern1) **] [**Last Name (NamePattern1) **] is here\\nfor evaluation of fever.  The patient states fever began two\\ndays ago along with a mild dry cough, fever was low-grade at\\nthat time.  Day of admission, pt ...   \n",
       "52722  Admission Date:  [**2184-12-24**]              Discharge Date:   [**2185-1-5**]\\n\\nDate of Birth:  [**2137-4-7**]             Sex:   M\\n\\nService: SURGERY\\n\\nAllergies:\\nPatient recorded as having No Known Allergies to Drugs\\n\\nAttending:[**First Name3 (LF) 6346**]\\nChief Complaint:\\nRecurrent diverticulitis\\n\\nMajor Surgical or Invasive Procedure:\\n[**2184-12-24**]: Laparoscopic sigmoid colectomy, splenic flexure\\ntakedown, rigid sigmoidoscopy.\\n.\\n[**2184-12-28**]: Exploratory laparotomy, lysis of adhesions,\\nomentectomy, washout of abdomen, drain placement and abdominal\\nclosure.\\n\\n\\nH...   \n",
       "52723  Admission Date:  [**2144-7-25**]              Discharge Date:   [**2144-7-28**]\\n\\nDate of Birth:  [**2078-10-17**]             Sex:   F\\n\\nService: MEDICINE\\n\\nAllergies:\\nBactrim / Norvasc / Lipitor / Cortisone\\n\\nAttending:[**First Name3 (LF) 2751**]\\nChief Complaint:\\nChief Complaint: anemia\\n.\\nReason for MICU transfer: retroperitoneal bleed\\n\\n\\nMajor Surgical or Invasive Procedure:\\nCoiling of superior gluteal artery\\n\\nHistory of Present Illness:\\nMs. [**Known lastname 91180**] is a 65 YOF with history of GERD, HTN, and\\nhypertriglyceridemia who was recently admitted from [**7-9**]...   \n",
       "52724  Admission Date:  [**2147-2-8**]              Discharge Date:   [**2147-2-11**]\\n\\n\\nService: SURGERY\\n\\nAllergies:\\nZantac\\n\\nAttending:[**First Name3 (LF) 6088**]\\nChief Complaint:\\nAbdominal Aortic Aneurysm\\n\\nMajor Surgical or Invasive Procedure:\\n[**2147-2-8**]: groin cutdown with mass excision and endovascular\\nrepair of an aortic aneurysm\\n\\n\\nHistory of Present Illness:\\nMs. [**Known lastname **] is an 88-year-old female who is currently being\\nevaluated for percutaneous aortic valve replacement due to\\nsevere\\naortic stenosis.  She has a known infrarenal aortic aneurysm.\\nThis was ...   \n",
       "52725  Admission Date:  [**2117-12-30**]              Discharge Date:   [**2118-1-4**]\\n\\nDate of Birth:  [**2054-1-6**]             Sex:   F\\n\\nService: NEUROSURGERY\\n\\nAllergies:\\nPenicillins\\n\\nAttending:[**First Name3 (LF) 2724**]\\nChief Complaint:\\nNeurogenic claudication\\n\\nMajor Surgical or Invasive Procedure:\\n[**2117-12-30**] PLIF L4-5\\n\\n\\nHistory of Present Illness:\\n63-year-old woman who complains of bilateral lower extremity\\nsymptoms that are exacerbated by walking.  She receives some\\namelioration with rest.  She denies difficulty with bowel or\\nbladder function.\\n\\n\\nPast Medical ...   \n",
       "\n",
       "                                                                                                                                                         labels  \\\n",
       "0                                                                    038.9;785.59;584.9;427.5;410.71;428.0;682.6;425.4;263.9;96.04;99.62;89.64;96.72;38.93;96.6   \n",
       "1                                                                                       042;136.3;799.4;276.3;790.7;571.5;041.11;V09.0;E931.7;38.93;88.72;33.23   \n",
       "2                                                                                403.91;444.0;997.2;276.6;276.7;285.9;275.3;V15.82;55.69;91.0;39.57;38.06;99.04   \n",
       "3                                                                                                                 431;507.0;428.0;584.9;276.5;401.9;96.72;96.04   \n",
       "4                                                                                                             V30.00;774.2;765.25;765.15;V29.0;99.83;99.15;96.6   \n",
       "...                                                                                                                                                         ...   \n",
       "52721                                         038.9;518.81;482.41;487.0;785.52;V42.81;995.92;244.9;272.4;285.9;530.81;V10.72;238.71;96.72;96.6;38.93;14.0;96.04   \n",
       "52722  562.11;038.9;557.0;584.9;995.92;560.81;789.59;553.8;788.5;402.91;428.0;719.47;564.4;250.00;V02.54;E878.8;276.51;17.36;54.12;54.59;54.4;48.23;54.25;54.91   \n",
       "52723                                                                    999.9;568.81;577.2;285.1;584.9;579.9;729.92;530.81;401.9;272.1;569.9;300.4;39.79;88.47   \n",
       "52724                          441.4;428.33;998.12;285.1;424.1;250.00;998.11;996.1;E879.8;272.4;V45.81;428.0;V10.3;V15.82;V58.61;440.0;414.01;39.71;83.39;17.71   \n",
       "52725                                                                                             756.12;786.1;401.9;250.00;413.9;81.08;80.51;81.62;99.79;84.51   \n",
       "\n",
       "       is_valid  \n",
       "0         False  \n",
       "1         False  \n",
       "2         False  \n",
       "3         False  \n",
       "4         False  \n",
       "...         ...  \n",
       "52721      True  \n",
       "52722      True  \n",
       "52723      True  \n",
       "52724      True  \n",
       "52725      True  \n",
       "\n",
       "[52726 rows x 5 columns]"
      ]
     },
     "execution_count": null,
     "metadata": {},
     "output_type": "execute_result"
    }
   ],
   "source": [
    "df_labelled_data"
   ]
  },
  {
   "cell_type": "markdown",
   "id": "21d6745b",
   "metadata": {},
   "source": [
    "Smash it one final time!"
   ]
  },
  {
   "cell_type": "code",
   "execution_count": null,
   "id": "75b50ed2",
   "metadata": {},
   "outputs": [],
   "source": [
    "df_labelled_data.to_csv(outfile, index=False)"
   ]
  },
  {
   "cell_type": "markdown",
   "id": "76104d55",
   "metadata": {},
   "source": [
    "- **So at this point we have our dataset in the file `/home/ubuntu/codemimic/data2/processed/notes_labelled.csv`**\n",
    "- **Also, in the next section we create a sample (maintaining the useful representative statistics) of the dataset. It will be saved in `/home/ubuntu/codemimic/data2/processed/notes_labelled_sample.csv`**\n",
    "- **Also the descriptions of the code are stored in the file `/home/ubuntu/codemimic/data2/processed/codes_descriptions.csv`**"
   ]
  },
  {
   "cell_type": "markdown",
   "id": "512fe8c8",
   "metadata": {},
   "source": [
    "---"
   ]
  },
  {
   "cell_type": "markdown",
   "id": "a1b176f0",
   "metadata": {},
   "source": [
    "# Exploratory Data Analysis"
   ]
  },
  {
   "cell_type": "code",
   "execution_count": null,
   "id": "693bfc5b",
   "metadata": {},
   "outputs": [
    {
     "name": "stdout",
     "output_type": "stream",
     "text": [
      "\u001b[01;34m/home/ubuntu/codemimic/data2\u001b[00m\r\n",
      "├── [Sep 16 17:24]  \u001b[01;34mprocessed\u001b[00m\r\n",
      "│   ├── [Sep 16 17:24]  code_descriptions.csv\r\n",
      "│   ├── [Sep 15 16:37]  notes_labelled_sample.csv\r\n",
      "│   ├── [Sep  4 19:46]  notes_labelled.csv\r\n",
      "│   ├── [Sep  4 17:10]  ALL_CODES_filtered.csv\r\n",
      "│   ├── [Sep  4 17:06]  disch_full.csv\r\n",
      "│   └── [Sep  4 16:59]  ALL_CODES.csv\r\n",
      "├── [Aug  3 13:17]  train_full_hadm_ids.csv\r\n",
      "├── [Aug  3 13:17]  train_50_hadm_ids.csv\r\n",
      "├── [Aug  3 13:17]  test_full_hadm_ids.csv\r\n",
      "├── [Aug  3 13:17]  test_50_hadm_ids.csv\r\n",
      "├── [Aug  3 13:17]  dev_full_hadm_ids.csv\r\n",
      "├── [Aug  3 13:17]  dev_50_hadm_ids.csv\r\n",
      "├── [Aug  3 13:12]  PROCEDURES_ICD.csv\r\n",
      "├── [Aug  3 13:12]  NOTEEVENTS.csv\r\n",
      "├── [Aug  3 13:12]  DIAGNOSES_ICD.csv\r\n",
      "├── [Aug  3 13:10]  ICD9_descriptions\r\n",
      "├── [Aug  3 13:10]  D_ICD_PROCEDURES.csv\r\n",
      "└── [Aug  3 13:10]  D_ICD_DIAGNOSES.csv\r\n",
      "\r\n",
      "1 directory, 18 files\r\n"
     ]
    }
   ],
   "source": [
    "!tree -rtD {path_data}"
   ]
  },
  {
   "cell_type": "markdown",
   "id": "e829fba4",
   "metadata": {},
   "source": [
    "#### Load up `notes_labelled.csv`:"
   ]
  },
  {
   "cell_type": "code",
   "execution_count": null,
   "id": "3f65a977",
   "metadata": {},
   "outputs": [],
   "source": [
    "df = pd.read_csv(path_data/'processed'/'notes_labelled.csv', \n",
    "                               dtype={'text': str, 'labels': str, 'subject_id': np.int64, 'hadm_id': np.int64 })"
   ]
  },
  {
   "cell_type": "code",
   "execution_count": null,
   "id": "94003683",
   "metadata": {},
   "outputs": [],
   "source": [
    "df[['text', 'labels']] = df[['text', 'labels']].astype('str')"
   ]
  },
  {
   "cell_type": "code",
   "execution_count": null,
   "id": "a943e099",
   "metadata": {},
   "outputs": [
    {
     "data": {
      "text/html": [
       "<div>\n",
       "<style scoped>\n",
       "    .dataframe tbody tr th:only-of-type {\n",
       "        vertical-align: middle;\n",
       "    }\n",
       "\n",
       "    .dataframe tbody tr th {\n",
       "        vertical-align: top;\n",
       "    }\n",
       "\n",
       "    .dataframe thead th {\n",
       "        text-align: right;\n",
       "    }\n",
       "</style>\n",
       "<table border=\"1\" class=\"dataframe\">\n",
       "  <thead>\n",
       "    <tr style=\"text-align: right;\">\n",
       "      <th></th>\n",
       "      <th>subject_id</th>\n",
       "      <th>hadm_id</th>\n",
       "      <th>text</th>\n",
       "      <th>labels</th>\n",
       "      <th>is_valid</th>\n",
       "    </tr>\n",
       "  </thead>\n",
       "  <tbody>\n",
       "    <tr>\n",
       "      <th>0</th>\n",
       "      <td>3</td>\n",
       "      <td>145834</td>\n",
       "      <td>Admission Date:  [**2101-10-20**]     Discharge Date:  [**2101-10-31**]\\n\\nDate of Birth:   [**2025-4-11**]     Sex:  M\\n\\nService:  Medicine\\n\\nCHIEF COMPLAINT:  Admitted from rehabilitation for\\nhypotension (systolic blood pressure to the 70s) and\\ndecreased urine output.\\n\\nHISTORY OF PRESENT ILLNESS:  The patient is a 76-year-old\\nmale who had been hospitalized at the [**Hospital1 190**] from [**10-11**] through [**10-19**] of [**2101**]\\nafter undergoing a left femoral-AT bypass graft and was\\nsubsequently discharged to a rehabilitation facility.\\n\\nOn [**2101-10-20**], he presented a...</td>\n",
       "      <td>038.9;785.59;584.9;427.5;410.71;428.0;682.6;425.4;263.9;96.04;99.62;89.64;96.72;38.93;96.6</td>\n",
       "      <td>False</td>\n",
       "    </tr>\n",
       "    <tr>\n",
       "      <th>1</th>\n",
       "      <td>4</td>\n",
       "      <td>185777</td>\n",
       "      <td>Admission Date:  [**2191-3-16**]     Discharge Date:  [**2191-3-23**]\\n\\nDate of Birth:   [**2143-5-12**]     Sex:  F\\n\\nService:\\n\\nCHIEF COMPLAINT:  Shortness of breath and fevers.\\n\\nHISTORY OF PRESENT ILLNESS:  The patient is a 47-year-old\\nfemale with a history of human immunodeficiency virus (last\\nCD4 count 42 and a viral load of 65,000), cirrhosis,\\ndiabetes, and hypothyroidism presented with eight days of\\nfevers to 104, chills, shortness of breath, cough, dyspnea on\\nexertion, and fatigue.\\n\\nThe patient states she has become progressively dyspneic to\\nthe point where she is shor...</td>\n",
       "      <td>042;136.3;799.4;276.3;790.7;571.5;041.11;V09.0;E931.7;38.93;88.72;33.23</td>\n",
       "      <td>False</td>\n",
       "    </tr>\n",
       "    <tr>\n",
       "      <th>2</th>\n",
       "      <td>6</td>\n",
       "      <td>107064</td>\n",
       "      <td>Admission Date: [**2175-5-30**]        Discharge Date:  [**2175-6-15**]\\n\\nDate of Birth:                    Sex:  F\\n\\nService:\\n\\n\\nADMISSION DIAGNOSIS:  End stage renal disease, admitted for\\ntransplant surgery.\\n\\nHISTORY OF PRESENT ILLNESS:  The patient is a 65 year-old\\nwoman with end stage renal disease, secondary to malignant\\nhypertension. She was started on dialysis in [**2174-2-7**].  She currently was on peritoneal dialysis and appears\\nto be doing well.  She has a history of gastric angiectasia\\nwhich she requires endoscopy. She was admitted on [**2175-5-30**] for\\na scheduled...</td>\n",
       "      <td>403.91;444.0;997.2;276.6;276.7;285.9;275.3;V15.82;55.69;91.0;39.57;38.06;99.04</td>\n",
       "      <td>False</td>\n",
       "    </tr>\n",
       "    <tr>\n",
       "      <th>3</th>\n",
       "      <td>9</td>\n",
       "      <td>150750</td>\n",
       "      <td>Admission Date:  [**2149-11-9**]       Discharge Date: [**2149-11-13**]\\n\\nDate of Birth:   [**2108-1-26**]       Sex:  M\\n\\nService:  NEUROLOGY\\n\\nCHIEF COMPLAINT:  Weakness, inability to talk.\\n\\nHISTORY OF THE PRESENT ILLNESS:  This is a 41-year-old\\nAfrican-American male with a history of hypertension who was\\nin his usual state of health until about 10:25 a.m. on the\\nmorning of admission.  He had gone to use the restroom and a\\nfew minutes later his family found him slumped onto the\\nfloor, apparently unable to talk and with weakness in his\\nright arm and leg.  EMS was called and he ...</td>\n",
       "      <td>431;507.0;428.0;584.9;276.5;401.9;96.72;96.04</td>\n",
       "      <td>False</td>\n",
       "    </tr>\n",
       "    <tr>\n",
       "      <th>4</th>\n",
       "      <td>10</td>\n",
       "      <td>184167</td>\n",
       "      <td>Admission Date:  [**2103-6-28**]       Discharge Date:  [**2103-7-6**]\\n\\nDate of Birth:   [**2103-6-28**]       Sex:  F\\n\\nService:\\n\\nHISTORY OF PRESENT ILLNESS:  Baby Girl [**Known lastname 48639**] is a 1,385\\ngram, former 30 and [**5-23**] week premature baby, born to an 18\\nyear old, Gravida I, Para 0, now I, mother with prenatal\\nserologies as follows:\\n\\nA positive, antibody negative, RPR nonreactive, hepatitis B\\nsurface antigen negative; GBS unknown.\\n\\nPregnancy was complicated by PPROM on [**2103-6-23**] when the\\nmother was transferred from [**Name (NI) 1474**] Hospital to [**...</td>\n",
       "      <td>V30.00;774.2;765.25;765.15;V29.0;99.83;99.15;96.6</td>\n",
       "      <td>False</td>\n",
       "    </tr>\n",
       "  </tbody>\n",
       "</table>\n",
       "</div>"
      ],
      "text/plain": [
       "   subject_id  hadm_id  \\\n",
       "0           3   145834   \n",
       "1           4   185777   \n",
       "2           6   107064   \n",
       "3           9   150750   \n",
       "4          10   184167   \n",
       "\n",
       "                                                                                                                                                                                                                                                                                                                                                                                                                                                                                                                                                                                                                      text  \\\n",
       "0  Admission Date:  [**2101-10-20**]     Discharge Date:  [**2101-10-31**]\\n\\nDate of Birth:   [**2025-4-11**]     Sex:  M\\n\\nService:  Medicine\\n\\nCHIEF COMPLAINT:  Admitted from rehabilitation for\\nhypotension (systolic blood pressure to the 70s) and\\ndecreased urine output.\\n\\nHISTORY OF PRESENT ILLNESS:  The patient is a 76-year-old\\nmale who had been hospitalized at the [**Hospital1 190**] from [**10-11**] through [**10-19**] of [**2101**]\\nafter undergoing a left femoral-AT bypass graft and was\\nsubsequently discharged to a rehabilitation facility.\\n\\nOn [**2101-10-20**], he presented a...   \n",
       "1  Admission Date:  [**2191-3-16**]     Discharge Date:  [**2191-3-23**]\\n\\nDate of Birth:   [**2143-5-12**]     Sex:  F\\n\\nService:\\n\\nCHIEF COMPLAINT:  Shortness of breath and fevers.\\n\\nHISTORY OF PRESENT ILLNESS:  The patient is a 47-year-old\\nfemale with a history of human immunodeficiency virus (last\\nCD4 count 42 and a viral load of 65,000), cirrhosis,\\ndiabetes, and hypothyroidism presented with eight days of\\nfevers to 104, chills, shortness of breath, cough, dyspnea on\\nexertion, and fatigue.\\n\\nThe patient states she has become progressively dyspneic to\\nthe point where she is shor...   \n",
       "2  Admission Date: [**2175-5-30**]        Discharge Date:  [**2175-6-15**]\\n\\nDate of Birth:                    Sex:  F\\n\\nService:\\n\\n\\nADMISSION DIAGNOSIS:  End stage renal disease, admitted for\\ntransplant surgery.\\n\\nHISTORY OF PRESENT ILLNESS:  The patient is a 65 year-old\\nwoman with end stage renal disease, secondary to malignant\\nhypertension. She was started on dialysis in [**2174-2-7**].  She currently was on peritoneal dialysis and appears\\nto be doing well.  She has a history of gastric angiectasia\\nwhich she requires endoscopy. She was admitted on [**2175-5-30**] for\\na scheduled...   \n",
       "3  Admission Date:  [**2149-11-9**]       Discharge Date: [**2149-11-13**]\\n\\nDate of Birth:   [**2108-1-26**]       Sex:  M\\n\\nService:  NEUROLOGY\\n\\nCHIEF COMPLAINT:  Weakness, inability to talk.\\n\\nHISTORY OF THE PRESENT ILLNESS:  This is a 41-year-old\\nAfrican-American male with a history of hypertension who was\\nin his usual state of health until about 10:25 a.m. on the\\nmorning of admission.  He had gone to use the restroom and a\\nfew minutes later his family found him slumped onto the\\nfloor, apparently unable to talk and with weakness in his\\nright arm and leg.  EMS was called and he ...   \n",
       "4  Admission Date:  [**2103-6-28**]       Discharge Date:  [**2103-7-6**]\\n\\nDate of Birth:   [**2103-6-28**]       Sex:  F\\n\\nService:\\n\\nHISTORY OF PRESENT ILLNESS:  Baby Girl [**Known lastname 48639**] is a 1,385\\ngram, former 30 and [**5-23**] week premature baby, born to an 18\\nyear old, Gravida I, Para 0, now I, mother with prenatal\\nserologies as follows:\\n\\nA positive, antibody negative, RPR nonreactive, hepatitis B\\nsurface antigen negative; GBS unknown.\\n\\nPregnancy was complicated by PPROM on [**2103-6-23**] when the\\nmother was transferred from [**Name (NI) 1474**] Hospital to [**...   \n",
       "\n",
       "                                                                                       labels  \\\n",
       "0  038.9;785.59;584.9;427.5;410.71;428.0;682.6;425.4;263.9;96.04;99.62;89.64;96.72;38.93;96.6   \n",
       "1                     042;136.3;799.4;276.3;790.7;571.5;041.11;V09.0;E931.7;38.93;88.72;33.23   \n",
       "2              403.91;444.0;997.2;276.6;276.7;285.9;275.3;V15.82;55.69;91.0;39.57;38.06;99.04   \n",
       "3                                               431;507.0;428.0;584.9;276.5;401.9;96.72;96.04   \n",
       "4                                           V30.00;774.2;765.25;765.15;V29.0;99.83;99.15;96.6   \n",
       "\n",
       "   is_valid  \n",
       "0     False  \n",
       "1     False  \n",
       "2     False  \n",
       "3     False  \n",
       "4     False  "
      ]
     },
     "execution_count": null,
     "metadata": {},
     "output_type": "execute_result"
    }
   ],
   "source": [
    "df.head()"
   ]
  },
  {
   "cell_type": "markdown",
   "id": "89ee60b1",
   "metadata": {},
   "source": [
    "Check some random notes:"
   ]
  },
  {
   "cell_type": "code",
   "execution_count": null,
   "id": "812a082d",
   "metadata": {},
   "outputs": [
    {
     "name": "stdout",
     "output_type": "stream",
     "text": [
      "Admission Date:  [**2134-12-13**]              Discharge Date:   [**2135-1-1**]\n",
      "\n",
      "Date of Birth:  [**2071-8-15**]             Sex:   M\n",
      "\n",
      "Service: CARDIOTHORACIC\n",
      "\n",
      "Allergies:\n",
      "Prinivil\n",
      "\n",
      "Attending:[**First Name3 (LF) 922**]\n",
      "Chief Complaint:\n",
      "Type A dissection\n",
      "\n",
      "Major Surgical or Invasive Procedure:\n",
      "Graft replacement of ascending aorta (26mm gelweave), aortic\n",
      "valve replacement(25mm Porcine) [**2134-12-13**]\n",
      "Right leg fasciotomies- [**2134-12-15**]\n",
      "L arm PICC line placement [**12-27**]\n",
      "Rt groin debridment [**12-25**]\n",
      "Vac wound dressing placement [**12-31**]\n",
      "\n",
      "\n",
      "History of Present Illness:\n",
      "This 63 year old male with a history of hypertension presented\n",
      "to an outside hospital with the acute onset of chest pain\n",
      "radiating to the back.  A CTA revealed a Type A dissection\n",
      "extending into the left iliac artery, and involving the right\n",
      "internal carotid artery. He was transferred here for emergency\n",
      "repair.\n",
      "\n",
      "Past Medical History:\n",
      "gastric reflux\n",
      "hypertension\n",
      "\n",
      "Social History:\n",
      "Nonsmoker\n",
      "denies alcohol use\n",
      "\n",
      "Family History:\n",
      "Father died of cardiac disease at age 65\n",
      "\n",
      "Physical Exam:\n",
      "98.4  118/64  95  18  100% RA\n",
      "General: pleasant, sleaks with heavy accent\n",
      "Chest: lungs clear, sternum stable\n",
      "COR: Normal s1S2\n",
      "Sternal incision: dry, no erythema\n",
      "Abdomen: soft and nontender. Diffuse rash on belly, legs, arms.\n",
      "R Groin: s/p wound debridment with wet to dry dressing in place\n",
      "extremities: warm without edema\n",
      "\n",
      "Pertinent Results:\n",
      "[**2134-12-13**] 01:53PM   FIBRINOGE-169\n",
      "[**2134-12-13**] 01:53PM   PLT COUNT-162\n",
      "[**2134-12-13**] 01:53PM   PT-13.1 PTT-26.2 INR(PT)-1.1\n",
      "[**2134-12-13**] 01:53PM   WBC-9.1 RBC-4.11* HGB-12.5* HCT-34.7* MCV-85\n",
      "MCH-30.4 MCHC-35.9* RDW-13.4\n",
      "[**2134-12-13**] 01:53PM   LIPASE-58\n",
      "[**2134-12-13**] 01:53PM   UREA N-26* CREAT-1.2\n",
      "[**2134-12-13**] 01:59PM   GLUCOSE-121* LACTATE-3.5* NA+-138 K+-4.3\n",
      "CL--108 TCO2-22\n",
      "[**2134-12-13**] 06:45PM   PLT COUNT-129*\n",
      "[**2134-12-31**] 05:54AM BLOOD WBC-7.0 RBC-3.21* Hgb-9.4* Hct-27.5*\n",
      "MCV-86 MCH-29.4 MCHC-34.3 RDW-14.6 Plt Ct-434\n",
      "[**2134-12-29**] 05:24AM BLOOD Neuts-74.0* Lymphs-13.9* Monos-5.7\n",
      "Eos-6.0* Baso-0.4\n",
      "[**2134-12-31**] 05:54AM BLOOD Plt Ct-434\n",
      "[**2134-12-18**] 01:55AM BLOOD PT-12.3 PTT-22.6 INR(PT)-1.0\n",
      "[**2134-12-31**] 05:54AM BLOOD Glucose-92 UreaN-28* Creat-1.0 Na-136\n",
      "K-4.5 Cl-101 HCO3-25 AnGap-15\n",
      "[**2134-12-31**] 05:54AM BLOOD ALT-25 AST-22 LD(LDH)-399* AlkPhos-95\n",
      "Amylase-86 TotBili-0.6\n",
      "[**2134-12-31**] 05:54AM BLOOD Lipase-58\n",
      "[**2134-12-28**] 09:30PM BLOOD CRP-32.1*\n",
      "[**Hospital1 18**] ECHOCARDIOGRAPHY REPORT\n",
      "[**Known lastname 62669**], [**Known firstname **]       [**Hospital1 18**] [**Numeric Identifier 62670**] (Complete)\n",
      "Done [**2134-12-13**] at 3:26:05 PM      FINAL\n",
      "Referring Physician     [**Name9 (PRE) **] Information\n",
      "[**Name9 (PRE) **], [**First Name3 (LF) 177**] C.\n",
      "[**Hospital Unit Name 927**]\n",
      "[**Location (un) 86**], [**Numeric Identifier 718**]  Status: Inpatient DOB: [**2071-8-15**]\n",
      "Age (years): 63 M  Hgt (in): 66\n",
      "BP (mm Hg): /  Wgt (lb): 180\n",
      "HR (bpm):  BSA (m2): 1.91 m2\n",
      "Indication: Aortic dissection. Left ventricular function.\n",
      "Preoperative assessment.\n",
      "ICD-9 Codes: 441.00, 424.0\n",
      "Test Information\n",
      "Date/Time: [**2134-12-13**] at 15:26    Interpret MD: [**First Name8 (NamePattern2) **] [**Last Name (NamePattern1) **],\n",
      "MD\n",
      "Test Type: TEE (Complete) Son[**Name (NI) 930**]: [**Last Name (NamePattern5) 9958**], MD\n",
      "Doppler: Full Doppler and color Doppler Test Location:\n",
      "Anesthesia West OR cardiac\n",
      "Contrast: None Tech Quality: Adequate\n",
      "Tape #: 2008AW5-: Machine:\n",
      "Echocardiographic Measurements\n",
      "Results  Measurements  Normal Range\n",
      "Left Ventricle - Diastolic Dimension:  5.2 cm  <= 5.6 cm\n",
      "Left Ventricle - Ejection Fraction:  >= 55%  >= 55%\n",
      "Aorta - Annulus:  2.3 cm  <= 3.0 cm\n",
      "Aorta - Sinus Level:  3.6 cm  <= 3.6 cm\n",
      "Aorta - Sinotubular Ridge:  3.0 cm  <= 3.0 cm\n",
      "Aorta - Ascending:  *4.2 cm  <= 3.4 cm\n",
      "Aorta - Arch:  *3.3 cm  <= 3.0 cm\n",
      "Aorta - Descending Thoracic:  2.4 cm  <= 2.5 cm\n",
      "Findings\n",
      "RIGHT ATRIUM/INTERATRIAL SEPTUM: A catheter or pacing wire is\n",
      "seen in the RA and extending into the RV.\n",
      "LEFT VENTRICLE: Normal LV wall thickness, cavity size and\n",
      "regional/global systolic function (LVEF >55%).\n",
      "RIGHT VENTRICLE: Normal RV chamber size and free wall motion.\n",
      "AORTA: Moderately dilated ascending aorta. Mildly dilated aortic\n",
      "arch. Ascending aortic intimal flap/dissection.. Aortic arch\n",
      "intimal flap/dissection. Descending aorta intimal flap/aortic\n",
      "dissection.\n",
      "AORTIC VALVE: Three aortic valve leaflets. Trace AR.\n",
      "MITRAL VALVE: Normal mitral valve leaflets with trivial MR.\n",
      "TRICUSPID VALVE: Physiologic TR.\n",
      "PERICARDIUM: No pericardial effusion.\n",
      "GENERAL COMMENTS: A TEE was performed in the location listed\n",
      "above. I certify I was present in compliance with HCFA\n",
      "regulations. The patient was under general anesthesia throughout\n",
      "the procedure. No TEE related complications. The patient appears\n",
      "to be in sinus rhythm. Results were personally reviewed with the\n",
      "MD caring for the patient.\n",
      "Conclusions\n",
      "Pre Bypass:\n",
      "1- Left ventricular wall thickness, cavity size and\n",
      "regional/global systolic function are normal (LVEF >55%).\n",
      "2- The ascending aorta is moderately dilated. The aortic arch is\n",
      "mildly dilated.\n",
      "3- The aortic valve leaflets (3) appear structurally normal with\n",
      "good leaflet excursion and no aortic regurgitation (trace\n",
      "possible). There is no aortic valve stenosis.\n",
      "4- The mitral valve appears structurally normal with trivial\n",
      "mitral regurgitation.\n",
      "5- There is no pericardial effusion.\n",
      "6- Aortic dissection origin at r. sinotubular junction, extended\n",
      "throughout the extent of observable descending aorta.. The flap\n",
      "prolapses to level of aortic valve but not through the valve.\n",
      "There is no extension to the aortic root and the coronaries are\n",
      "intact.\n",
      "Post Bypass:\n",
      "Preserved biventricular function, LVEF >55%. MR remains mild.\n",
      "There is a bioprosthetic Aortic valve insitu which is well\n",
      "seated (#25 mosaic per surgeons). Peak gradient 10, mean 5 mm\n",
      "Hg, no perivalvluar leaks. The ascending aortic contours\n",
      "appeared regular without visible dissection. A dissection flap\n",
      "could still be seen in the arch and descending aorta. Remaining\n",
      "exam is unchanged. All findings discussed with surgeons at the\n",
      "time of the exam.\n",
      "  I certify that I was present for this procedure in compliance\n",
      "with HCFA regulations.\n",
      "Electronically signed by [**First Name8 (NamePattern2) **] [**Last Name (NamePattern1) **], MD, Interpreting\n",
      "physician [**Last Name (NamePattern4) **] [**2134-12-13**] 20:30\n",
      "    [**Known lastname 62669**],[**Known firstname **] [**Medical Record Number 62671**] M  63  [**2071-8-15**]\n",
      "Radiology Report CHEST PORT. LINE PLACEMENT Study Date of\n",
      "[**2134-12-28**] 8:55 AM\n",
      "[**Last Name (LF) **],[**First Name7 (NamePattern1) 177**] [**Initial (NamePattern1) **] [**Last Name (NamePattern4) 5204**] FA6A [**2134-12-28**] SCHED\n",
      "CHEST PORT. LINE PLACEMENT   Clip # [**Clip Number (Radiology) 62672**]\n",
      "Reason: 53cm R basilic picc: please evaluate placement of tip\n",
      "[**Hospital 93**] MEDICAL CONDITION:\n",
      "   63 year old man with newly placed PICC\n",
      "REASON FOR THIS EXAMINATION:\n",
      "   53cm R basilic picc: please evaluate placement of tip\n",
      "Final Report\n",
      "REASON FOR EXAM: Assess right PICC.\n",
      "Comparison is made with prior study, [**2134-12-21**].\n",
      "New right PICC tip is in the cavoatrial junction. Left lower\n",
      "lobe opacity has\n",
      "resolved. The lungs are grossly clear. There is no pneumothorax.\n",
      "A small\n",
      "right pleural effusion is unchanged. Sternal wires are aligned.\n",
      "\n",
      "Cardiomediastinal contour is unchanged with mild cardiomegaly.\n",
      "DR. [**First Name (STitle) 3901**] [**Initials (NamePattern4) **] [**Last Name (NamePattern4) 3902**]\n",
      "DR. [**First Name4 (NamePattern1) 2618**] [**Last Name (NamePattern1) 2619**]\n",
      "Approved: WED [**2134-12-29**] 9:56 AM\n",
      "     [**Known lastname 62669**],[**Known firstname **] [**Medical Record Number 62671**] M  63  [**2071-8-15**]\n",
      "Radiology Report CHEST (PA & LAT) Study Date of [**2134-12-21**] 1:20 PM\n",
      "\n",
      "[**Last Name (LF) **],[**First Name7 (NamePattern1) 177**] [**Initial (NamePattern1) **] [**Last Name (NamePattern4) 5204**] FA6A [**2134-12-21**] SCHED\n",
      "CHEST (PA & LAT)   Clip # [**Clip Number (Radiology) 62673**]\n",
      "Reason: eval for ptx/atx/infiltrate\n",
      "Final Report\n",
      "INDICATION: 63-year-old man status post repair of type A aortic\n",
      "dissection.\n",
      "Evaluate for pneumothorax or infiltrate.\n",
      "COMPARISON: [**2134-12-17**].\n",
      "A right internal jugular catheter tip terminates over the mid\n",
      "right atrium.\n",
      "The cardiomediastinal silhouette is stable. Lung volumes are\n",
      "low. There is\n",
      "stable small bilateral pleural effusions with likely mild\n",
      "bilateral associated atelectasis. There is no new consolidation.\n",
      "\n",
      "IMPRESSION: Stable bilateral small effusions and mild\n",
      "atelectasis.\n",
      "The study and the report were reviewed by the staff radiologist.\n",
      "\n",
      "DR. [**First Name8 (NamePattern2) **] [**Last Name (NamePattern1) 10270**]\n",
      "DR. [**First Name8 (NamePattern2) 1569**] [**First Name8 (NamePattern2) **] [**Last Name (NamePattern1) 11006**]\n",
      "Approved: [**First Name8 (NamePattern2) **] [**2134-12-21**] 7:43 PM\n",
      "\n",
      "\n",
      "Brief Hospital Course:\n",
      "Following transfer, during which he required intubation, he went\n",
      "emergently to the Operating Room where a type A aortic\n",
      "dissection repair was effected as noted. The right femoral\n",
      "artery was cannulated for bypass. Hypothermic circulatory arrest\n",
      "for 30 minutes was utilized.\n",
      "\n",
      "He weaned from bypass on propofol and Phenylephrine.\n",
      "Postoperatively he weaned from pressor and was hypertensive,\n",
      "requiring IV NTG.  He was kept sedated to allow clearance of\n",
      "myoglobin, which peaked at over 20,000.  He was kept polyuric\n",
      "and a sodium bicarbonate infusion was utilized to alkalinize\n",
      "urine for renal protection.\n",
      "\n",
      "Two compartment fasciotomies were performed on [**12-15**] with the\n",
      "finding of ischemic muscle.  The skin was closed at that time.\n",
      "Myoglobinemia improved with a fall to less than 9600 on [**2134-12-16**].\n",
      "He was awakened, remained stable and antihypertensives were\n",
      "begun to wean IV NTG. He was extubated on POD 3.\n",
      "\n",
      "On [**12-18**] he complained of blurring of the vision in his right eye.\n",
      "Ophthalmologic consultation was obtained, along with neurology\n",
      "and rheumatology. On Ophth. exam a small retinal hemorrhage was\n",
      "noted on the optic disc of the right eye.  CRP and ESR were\n",
      "elevated.  A MRA was requested, but the patient was rather\n",
      "agitated and confused the night of [**12-19**] and was unable to\n",
      "cooperate for the duration of the procedure.\n",
      "\n",
      "POD#7 Dental consultation performed as Mr.[**Known lastname **] was being\n",
      "treated preop on antibiotics for a dental abscess with\n",
      "Clindamycin, which was resumed [**12-17**]. Per Dental the antibiotics\n",
      "were discontinued with referral to follow up as an outpt. with\n",
      "his dentist.\n",
      "\n",
      "POD#8 MRA of the head and neck was performed which showed \"Acute\n",
      "'embolic shower' from a central source, likely related to recent\n",
      "aortic repair.\"  Neurology recommendation is to maintain aspirin\n",
      "therapy.\n",
      "\n",
      "The patient developed erythema at his fasciotomy sites.\n",
      "Cefazolin treatment was initiated, leg was elevated and Ace wrap\n",
      "applied.  The wounds improved with this conservative management.\n",
      " Right groin cannulation site dehisced with serosanguinous\n",
      "fluid.  Dry sterile dressings were applied, and Vancomycin\n",
      "bejun. A PICC line was placed for antibiotic therapy. An ID\n",
      "consult was obtained. After several days therapy the patient\n",
      "developed a rash and refused any further treatment with\n",
      "Vancomycin. His antibiotic regime was switched to Clindamycin\n",
      "per ID recommendations.\n",
      "\n",
      "On POD 16/14 his fasciotomy site opened and 2 days later were\n",
      "primarily closed by the vascular surgery service. On POD19/17 a\n",
      "VAC dressing was placed in the groin wound.\n",
      "\n",
      "On POD 20/18, he was cleared to go home with IV clindamycin and\n",
      "a wound vac to his right groin wound.\n",
      "\n",
      "Medications on Admission:\n",
      "Atenolol\n",
      "\n",
      "Discharge Medications:\n",
      "1. Aspirin 81 mg Tablet, Delayed Release (E.C.) Sig: One (1)\n",
      "Tablet, Delayed Release (E.C.) PO DAILY (Daily).\n",
      "Disp:*30 Tablet, Delayed Release (E.C.)(s)* Refills:*0*\n",
      "2. Docusate Sodium 100 mg Capsule Sig: One (1) Capsule PO BID (2\n",
      "times a day) for 1 months.\n",
      "Disp:*60 Capsule(s)* Refills:*0*\n",
      "3. Camphor-Menthol 0.5-0.5 % Lotion Sig: One (1) Appl Topical\n",
      "QID (4 times a day) as needed.\n",
      "4. Acetaminophen 325 mg Tablet Sig: Two (2) Tablet PO Q4H (every\n",
      "4 hours) as needed.\n",
      "5. Potassium Chloride 20 mEq Tab Sust.Rel. Particle/Crystal Sig:\n",
      "One (1) Tab Sust.Rel. Particle/Crystal PO Q12H (every 12 hours)\n",
      "for 2 weeks.\n",
      "Disp:*28 Tab Sust.Rel. Particle/Crystal(s)* Refills:*0*\n",
      "6. Furosemide 40 mg Tablet Sig: One (1) Tablet PO BID (2 times a\n",
      "day) for 2 weeks.\n",
      "Disp:*28 Tablet(s)* Refills:*0*\n",
      "7. Magnesium Hydroxide 400 mg/5 mL Suspension Sig: Thirty (30)\n",
      "ML PO HS (at bedtime) as needed for constipation.\n",
      "8. Polyvinyl Alcohol-Povidone 1.4-0.6 % Dropperette Sig: Two (2)\n",
      "Drop Ophthalmic Q4H (every 4 hours).\n",
      "9. Metoprolol Tartrate 50 mg Tablet Sig: 2.5 Tablets PO BID (2\n",
      "times a day).\n",
      "Disp:*150 Tablet(s)* Refills:*2*\n",
      "10. Clobetasol 0.05 % Ointment Sig: One (1) Appl Topical [**Hospital1 **] (2\n",
      "times a day).\n",
      "Disp:*qs 1 tube* Refills:*2*\n",
      "11. Fluocinonide 0.05 % Cream Sig: One (1) Appl Topical DAILY\n",
      "(Daily) for 7 days.\n",
      "Disp:*1 tube* Refills:*0*\n",
      "12. Benzoyl Peroxide 10 % Gel Sig: One (1) Appl Topical DAILY\n",
      "(Daily).\n",
      "Disp:*1 tube* Refills:*2*\n",
      "13. Mupirocin Calcium 2 % Cream Sig: One (1) Appl Topical [**Hospital1 **] (2\n",
      "times a day).\n",
      "Disp:*1 tube* Refills:*2*\n",
      "14. Nystatin 100,000 unit/g Cream Sig: One (1) Appl Topical [**Hospital1 **]\n",
      "(2 times a day).\n",
      "Disp:*1 tube* Refills:*2*\n",
      "15. Heparin, Porcine (PF) 10 unit/mL Syringe Sig: Two (2) ML\n",
      "Intravenous daily and prn as needed for line flush: Heparin\n",
      "Flush (10 units/ml) 2 mL IV PRN line flush\n",
      "PICC, heparin dependent: Flush with 10mL Normal Saline followed\n",
      "by Heparin as above daily and PRN per lumen.  .\n",
      "Disp:*qs ML(s)* Refills:*0*\n",
      "16. Clindamycin Phosphate 150 mg/mL Solution Sig: Six Hundred\n",
      "(600) mg Injection Q8H (every 8 hours): thru [**2-5**].\n",
      "Disp:*qs mg* Refills:*2*\n",
      "\n",
      "\n",
      "Discharge Disposition:\n",
      "Home With Service\n",
      "\n",
      "Facility:\n",
      "[**Company 1519**]\n",
      "\n",
      "Discharge Diagnosis:\n",
      "Type A aortic dissection\n",
      "\n",
      "\n",
      "Discharge Condition:\n",
      "stable hemodynamically but deconditioned; requires PT to recover\n",
      "function of right leg post fasciotomies\n",
      "\n",
      "\n",
      "Discharge Instructions:\n",
      "no driving for 4 weeks and off all narcotics\n",
      "no lifting more than 10 pounds for 10 weeks\n",
      "shower daily, no baths or swimming for 6 weeks\n",
      "no lotions, creams or powders to incisions\n",
      "report any fever greater than 100.0\n",
      "report any redness of, or drainage from incisions\n",
      "report any weight gain greater than 2 pounds a day or 5 pounds a\n",
      "week\n",
      "take all medications as directed\n",
      "\n",
      "Followup Instructions:\n",
      "Dr.  [**Last Name (STitle) 914**] in 4 weeks ([**Telephone/Fax (1) 170**])\n",
      "Dr. [**First Name8 (NamePattern2) **] [**Last Name (NamePattern1) 5263**] in [**12-17**] weeks ([**Telephone/Fax (1) 59410**])\n",
      "If dermatological issues persist, can follow-up with Dr. [**Last Name (STitle) 62674**]\n",
      "[**Name (STitle) 2161**] at ([**Telephone/Fax (1) 34896**]\n",
      "Please call for appointments\n",
      "\n",
      "Provider: [**Name10 (NameIs) 251**] [**Last Name (NamePattern4) 1490**], MD Phone:[**Telephone/Fax (1) 1237**]\n",
      "Date/Time:[**2135-1-19**] 9:00\n",
      "Provider: [**First Name8 (NamePattern2) **] [**Last Name (NamePattern1) **], MD Phone:[**Telephone/Fax (1) 457**]\n",
      "Date/Time:[**2135-1-14**] 10:30\n",
      "\n",
      "\n",
      "\n",
      "Completed by:[**2135-1-1**]\n"
     ]
    }
   ],
   "source": [
    "print(random.choice(df.text))"
   ]
  },
  {
   "cell_type": "markdown",
   "id": "5b4b3095",
   "metadata": {},
   "source": [
    "#### Plotting the # of labels disctibution:"
   ]
  },
  {
   "cell_type": "code",
   "execution_count": null,
   "id": "bddc23c0",
   "metadata": {},
   "outputs": [
    {
     "data": {
      "text/plain": [
       "subject_id     int64\n",
       "hadm_id        int64\n",
       "text          object\n",
       "labels        object\n",
       "is_valid        bool\n",
       "dtype: object"
      ]
     },
     "execution_count": null,
     "metadata": {},
     "output_type": "execute_result"
    }
   ],
   "source": [
    "df.dtypes"
   ]
  },
  {
   "cell_type": "code",
   "execution_count": null,
   "id": "3bd04055",
   "metadata": {},
   "outputs": [],
   "source": [
    "label_freq = Counter()\n",
    "for row in df.itertuples():\n",
    "    labels = row.labels.split(';')\n",
    "    for label in labels:\n",
    "        label_freq[label] += 1"
   ]
  },
  {
   "cell_type": "markdown",
   "id": "858c7b80",
   "metadata": {},
   "source": [
    "So the total number of labels are:"
   ]
  },
  {
   "cell_type": "code",
   "execution_count": null,
   "id": "45a95c37",
   "metadata": {},
   "outputs": [
    {
     "data": {
      "text/plain": [
       "8922"
      ]
     },
     "execution_count": null,
     "metadata": {},
     "output_type": "execute_result"
    }
   ],
   "source": [
    "len(label_freq)"
   ]
  },
  {
   "cell_type": "markdown",
   "id": "9a91dcfd",
   "metadata": {},
   "source": [
    "Let's sort the labels according to frequencies:"
   ]
  },
  {
   "cell_type": "code",
   "execution_count": null,
   "id": "0845a597",
   "metadata": {},
   "outputs": [],
   "source": [
    "labels_sorted = sorted(label_freq.items(), key=lambda item: item[1], reverse=True)\n",
    "labels_top50 = dict(labels_sorted[:50])"
   ]
  },
  {
   "cell_type": "code",
   "execution_count": null,
   "id": "f3fc38a1",
   "metadata": {},
   "outputs": [],
   "source": [
    "labels_top50"
   ]
  },
  {
   "cell_type": "markdown",
   "id": "0df35fdc",
   "metadata": {},
   "source": [
    "An alternative way of doing the same using inbuilt `most_common` method of the `Counter` container:"
   ]
  },
  {
   "cell_type": "code",
   "execution_count": null,
   "id": "d1530404",
   "metadata": {},
   "outputs": [
    {
     "data": {
      "text/plain": [
       "[('401.9', 20053),\n",
       " ('38.93', 14444),\n",
       " ('428.0', 12842),\n",
       " ('427.31', 12594),\n",
       " ('414.01', 12179),\n",
       " ('96.04', 9932),\n",
       " ('96.6', 9161),\n",
       " ('584.9', 8907),\n",
       " ('250.00', 8784),\n",
       " ('96.71', 8619),\n",
       " ('272.4', 8504),\n",
       " ('518.81', 7249),\n",
       " ('99.04', 7147),\n",
       " ('39.61', 6809),\n",
       " ('599.0', 6442),\n",
       " ('530.81', 6156),\n",
       " ('96.72', 5926),\n",
       " ('272.0', 5766),\n",
       " ('285.9', 5296),\n",
       " ('88.56', 5240)]"
      ]
     },
     "execution_count": null,
     "metadata": {},
     "output_type": "execute_result"
    }
   ],
   "source": [
    "label_freq.most_common(20)"
   ]
  },
  {
   "cell_type": "markdown",
   "id": "3842c54a",
   "metadata": {},
   "source": [
    "#### Computing the average number of instances per labels:"
   ]
  },
  {
   "cell_type": "code",
   "execution_count": null,
   "id": "77d34d0e",
   "metadata": {},
   "outputs": [
    {
     "data": {
      "text/plain": [
       "95.12351490697154"
      ]
     },
     "execution_count": null,
     "metadata": {},
     "output_type": "execute_result"
    }
   ],
   "source": [
    "array(list(label_freq.values())).mean()"
   ]
  },
  {
   "cell_type": "markdown",
   "id": "ad202950",
   "metadata": {},
   "source": [
    "#### Computing the average number of labels per instance:"
   ]
  },
  {
   "cell_type": "markdown",
   "id": "7554258c",
   "metadata": {},
   "source": [
    "We will add an extra column with the number of labels per instance so that we can take the mean of that column."
   ]
  },
  {
   "cell_type": "code",
   "execution_count": null,
   "id": "a867ef28",
   "metadata": {},
   "outputs": [],
   "source": [
    "label_count = []\n",
    "for labels in df.labels:\n",
    "    label_count.append(len(labels.split(';'))) "
   ]
  },
  {
   "cell_type": "code",
   "execution_count": null,
   "id": "d1b7f943",
   "metadata": {},
   "outputs": [],
   "source": [
    "df_copy = df.copy()"
   ]
  },
  {
   "cell_type": "code",
   "execution_count": null,
   "id": "6d06beed",
   "metadata": {},
   "outputs": [
    {
     "data": {
      "text/html": [
       "<div>\n",
       "<style scoped>\n",
       "    .dataframe tbody tr th:only-of-type {\n",
       "        vertical-align: middle;\n",
       "    }\n",
       "\n",
       "    .dataframe tbody tr th {\n",
       "        vertical-align: top;\n",
       "    }\n",
       "\n",
       "    .dataframe thead th {\n",
       "        text-align: right;\n",
       "    }\n",
       "</style>\n",
       "<table border=\"1\" class=\"dataframe\">\n",
       "  <thead>\n",
       "    <tr style=\"text-align: right;\">\n",
       "      <th></th>\n",
       "      <th>subject_id</th>\n",
       "      <th>hadm_id</th>\n",
       "      <th>text</th>\n",
       "      <th>labels</th>\n",
       "      <th>is_valid</th>\n",
       "      <th>label_count</th>\n",
       "    </tr>\n",
       "  </thead>\n",
       "  <tbody>\n",
       "    <tr>\n",
       "      <th>0</th>\n",
       "      <td>3</td>\n",
       "      <td>145834</td>\n",
       "      <td>Admission Date:  [**2101-10-20**]     Discharge Date:  [**2101-10-31**]\\n\\nDate of Birth:   [**2025-4-11**]     Sex:  M\\n\\nService:  Medicine\\n\\nCHIEF COMPLAINT:  Admitted from rehabilitation for\\nhypotension (systolic blood pressure to the 70s) and\\ndecreased urine output.\\n\\nHISTORY OF PRESENT ILLNESS:  The patient is a 76-year-old\\nmale who had been hospitalized at the [**Hospital1 190**] from [**10-11**] through [**10-19**] of [**2101**]\\nafter undergoing a left femoral-AT bypass graft and was\\nsubsequently discharged to a rehabilitation facility.\\n\\nOn [**2101-10-20**], he presented a...</td>\n",
       "      <td>038.9;785.59;584.9;427.5;410.71;428.0;682.6;425.4;263.9;96.04;99.62;89.64;96.72;38.93;96.6</td>\n",
       "      <td>False</td>\n",
       "      <td>15</td>\n",
       "    </tr>\n",
       "    <tr>\n",
       "      <th>1</th>\n",
       "      <td>4</td>\n",
       "      <td>185777</td>\n",
       "      <td>Admission Date:  [**2191-3-16**]     Discharge Date:  [**2191-3-23**]\\n\\nDate of Birth:   [**2143-5-12**]     Sex:  F\\n\\nService:\\n\\nCHIEF COMPLAINT:  Shortness of breath and fevers.\\n\\nHISTORY OF PRESENT ILLNESS:  The patient is a 47-year-old\\nfemale with a history of human immunodeficiency virus (last\\nCD4 count 42 and a viral load of 65,000), cirrhosis,\\ndiabetes, and hypothyroidism presented with eight days of\\nfevers to 104, chills, shortness of breath, cough, dyspnea on\\nexertion, and fatigue.\\n\\nThe patient states she has become progressively dyspneic to\\nthe point where she is shor...</td>\n",
       "      <td>042;136.3;799.4;276.3;790.7;571.5;041.11;V09.0;E931.7;38.93;88.72;33.23</td>\n",
       "      <td>False</td>\n",
       "      <td>12</td>\n",
       "    </tr>\n",
       "    <tr>\n",
       "      <th>2</th>\n",
       "      <td>6</td>\n",
       "      <td>107064</td>\n",
       "      <td>Admission Date: [**2175-5-30**]        Discharge Date:  [**2175-6-15**]\\n\\nDate of Birth:                    Sex:  F\\n\\nService:\\n\\n\\nADMISSION DIAGNOSIS:  End stage renal disease, admitted for\\ntransplant surgery.\\n\\nHISTORY OF PRESENT ILLNESS:  The patient is a 65 year-old\\nwoman with end stage renal disease, secondary to malignant\\nhypertension. She was started on dialysis in [**2174-2-7**].  She currently was on peritoneal dialysis and appears\\nto be doing well.  She has a history of gastric angiectasia\\nwhich she requires endoscopy. She was admitted on [**2175-5-30**] for\\na scheduled...</td>\n",
       "      <td>403.91;444.0;997.2;276.6;276.7;285.9;275.3;V15.82;55.69;91.0;39.57;38.06;99.04</td>\n",
       "      <td>False</td>\n",
       "      <td>13</td>\n",
       "    </tr>\n",
       "    <tr>\n",
       "      <th>3</th>\n",
       "      <td>9</td>\n",
       "      <td>150750</td>\n",
       "      <td>Admission Date:  [**2149-11-9**]       Discharge Date: [**2149-11-13**]\\n\\nDate of Birth:   [**2108-1-26**]       Sex:  M\\n\\nService:  NEUROLOGY\\n\\nCHIEF COMPLAINT:  Weakness, inability to talk.\\n\\nHISTORY OF THE PRESENT ILLNESS:  This is a 41-year-old\\nAfrican-American male with a history of hypertension who was\\nin his usual state of health until about 10:25 a.m. on the\\nmorning of admission.  He had gone to use the restroom and a\\nfew minutes later his family found him slumped onto the\\nfloor, apparently unable to talk and with weakness in his\\nright arm and leg.  EMS was called and he ...</td>\n",
       "      <td>431;507.0;428.0;584.9;276.5;401.9;96.72;96.04</td>\n",
       "      <td>False</td>\n",
       "      <td>8</td>\n",
       "    </tr>\n",
       "    <tr>\n",
       "      <th>4</th>\n",
       "      <td>10</td>\n",
       "      <td>184167</td>\n",
       "      <td>Admission Date:  [**2103-6-28**]       Discharge Date:  [**2103-7-6**]\\n\\nDate of Birth:   [**2103-6-28**]       Sex:  F\\n\\nService:\\n\\nHISTORY OF PRESENT ILLNESS:  Baby Girl [**Known lastname 48639**] is a 1,385\\ngram, former 30 and [**5-23**] week premature baby, born to an 18\\nyear old, Gravida I, Para 0, now I, mother with prenatal\\nserologies as follows:\\n\\nA positive, antibody negative, RPR nonreactive, hepatitis B\\nsurface antigen negative; GBS unknown.\\n\\nPregnancy was complicated by PPROM on [**2103-6-23**] when the\\nmother was transferred from [**Name (NI) 1474**] Hospital to [**...</td>\n",
       "      <td>V30.00;774.2;765.25;765.15;V29.0;99.83;99.15;96.6</td>\n",
       "      <td>False</td>\n",
       "      <td>8</td>\n",
       "    </tr>\n",
       "    <tr>\n",
       "      <th>...</th>\n",
       "      <td>...</td>\n",
       "      <td>...</td>\n",
       "      <td>...</td>\n",
       "      <td>...</td>\n",
       "      <td>...</td>\n",
       "      <td>...</td>\n",
       "    </tr>\n",
       "    <tr>\n",
       "      <th>52721</th>\n",
       "      <td>99985</td>\n",
       "      <td>176670</td>\n",
       "      <td>Admission Date:  [**2181-1-27**]              Discharge Date:   [**2181-2-12**]\\n\\nDate of Birth:  [**2127-4-8**]             Sex:   M\\n\\nService: MEDICINE\\n\\nAllergies:\\nCefepime\\n\\nAttending:[**First Name3 (LF) 1936**]\\nChief Complaint:\\nfever\\n\\nMajor Surgical or Invasive Procedure:\\nnone\\n\\nHistory of Present Illness:\\nPt's a 53-year-old male patient of Dr. [**First Name4 (NamePattern1) **] [**Last Name (NamePattern1) **] is here\\nfor evaluation of fever.  The patient states fever began two\\ndays ago along with a mild dry cough, fever was low-grade at\\nthat time.  Day of admission, pt ...</td>\n",
       "      <td>038.9;518.81;482.41;487.0;785.52;V42.81;995.92;244.9;272.4;285.9;530.81;V10.72;238.71;96.72;96.6;38.93;14.0;96.04</td>\n",
       "      <td>True</td>\n",
       "      <td>18</td>\n",
       "    </tr>\n",
       "    <tr>\n",
       "      <th>52722</th>\n",
       "      <td>99991</td>\n",
       "      <td>151118</td>\n",
       "      <td>Admission Date:  [**2184-12-24**]              Discharge Date:   [**2185-1-5**]\\n\\nDate of Birth:  [**2137-4-7**]             Sex:   M\\n\\nService: SURGERY\\n\\nAllergies:\\nPatient recorded as having No Known Allergies to Drugs\\n\\nAttending:[**First Name3 (LF) 6346**]\\nChief Complaint:\\nRecurrent diverticulitis\\n\\nMajor Surgical or Invasive Procedure:\\n[**2184-12-24**]: Laparoscopic sigmoid colectomy, splenic flexure\\ntakedown, rigid sigmoidoscopy.\\n.\\n[**2184-12-28**]: Exploratory laparotomy, lysis of adhesions,\\nomentectomy, washout of abdomen, drain placement and abdominal\\nclosure.\\n\\n\\nH...</td>\n",
       "      <td>562.11;038.9;557.0;584.9;995.92;560.81;789.59;553.8;788.5;402.91;428.0;719.47;564.4;250.00;V02.54;E878.8;276.51;17.36;54.12;54.59;54.4;48.23;54.25;54.91</td>\n",
       "      <td>True</td>\n",
       "      <td>24</td>\n",
       "    </tr>\n",
       "    <tr>\n",
       "      <th>52723</th>\n",
       "      <td>99992</td>\n",
       "      <td>197084</td>\n",
       "      <td>Admission Date:  [**2144-7-25**]              Discharge Date:   [**2144-7-28**]\\n\\nDate of Birth:  [**2078-10-17**]             Sex:   F\\n\\nService: MEDICINE\\n\\nAllergies:\\nBactrim / Norvasc / Lipitor / Cortisone\\n\\nAttending:[**First Name3 (LF) 2751**]\\nChief Complaint:\\nChief Complaint: anemia\\n.\\nReason for MICU transfer: retroperitoneal bleed\\n\\n\\nMajor Surgical or Invasive Procedure:\\nCoiling of superior gluteal artery\\n\\nHistory of Present Illness:\\nMs. [**Known lastname 91180**] is a 65 YOF with history of GERD, HTN, and\\nhypertriglyceridemia who was recently admitted from [**7-9**]...</td>\n",
       "      <td>999.9;568.81;577.2;285.1;584.9;579.9;729.92;530.81;401.9;272.1;569.9;300.4;39.79;88.47</td>\n",
       "      <td>True</td>\n",
       "      <td>14</td>\n",
       "    </tr>\n",
       "    <tr>\n",
       "      <th>52724</th>\n",
       "      <td>99995</td>\n",
       "      <td>137810</td>\n",
       "      <td>Admission Date:  [**2147-2-8**]              Discharge Date:   [**2147-2-11**]\\n\\n\\nService: SURGERY\\n\\nAllergies:\\nZantac\\n\\nAttending:[**First Name3 (LF) 6088**]\\nChief Complaint:\\nAbdominal Aortic Aneurysm\\n\\nMajor Surgical or Invasive Procedure:\\n[**2147-2-8**]: groin cutdown with mass excision and endovascular\\nrepair of an aortic aneurysm\\n\\n\\nHistory of Present Illness:\\nMs. [**Known lastname **] is an 88-year-old female who is currently being\\nevaluated for percutaneous aortic valve replacement due to\\nsevere\\naortic stenosis.  She has a known infrarenal aortic aneurysm.\\nThis was ...</td>\n",
       "      <td>441.4;428.33;998.12;285.1;424.1;250.00;998.11;996.1;E879.8;272.4;V45.81;428.0;V10.3;V15.82;V58.61;440.0;414.01;39.71;83.39;17.71</td>\n",
       "      <td>True</td>\n",
       "      <td>20</td>\n",
       "    </tr>\n",
       "    <tr>\n",
       "      <th>52725</th>\n",
       "      <td>99999</td>\n",
       "      <td>113369</td>\n",
       "      <td>Admission Date:  [**2117-12-30**]              Discharge Date:   [**2118-1-4**]\\n\\nDate of Birth:  [**2054-1-6**]             Sex:   F\\n\\nService: NEUROSURGERY\\n\\nAllergies:\\nPenicillins\\n\\nAttending:[**First Name3 (LF) 2724**]\\nChief Complaint:\\nNeurogenic claudication\\n\\nMajor Surgical or Invasive Procedure:\\n[**2117-12-30**] PLIF L4-5\\n\\n\\nHistory of Present Illness:\\n63-year-old woman who complains of bilateral lower extremity\\nsymptoms that are exacerbated by walking.  She receives some\\namelioration with rest.  She denies difficulty with bowel or\\nbladder function.\\n\\n\\nPast Medical ...</td>\n",
       "      <td>756.12;786.1;401.9;250.00;413.9;81.08;80.51;81.62;99.79;84.51</td>\n",
       "      <td>True</td>\n",
       "      <td>10</td>\n",
       "    </tr>\n",
       "  </tbody>\n",
       "</table>\n",
       "<p>52726 rows × 6 columns</p>\n",
       "</div>"
      ],
      "text/plain": [
       "       subject_id  hadm_id  \\\n",
       "0               3   145834   \n",
       "1               4   185777   \n",
       "2               6   107064   \n",
       "3               9   150750   \n",
       "4              10   184167   \n",
       "...           ...      ...   \n",
       "52721       99985   176670   \n",
       "52722       99991   151118   \n",
       "52723       99992   197084   \n",
       "52724       99995   137810   \n",
       "52725       99999   113369   \n",
       "\n",
       "                                                                                                                                                                                                                                                                                                                                                                                                                                                                                                                                                                                                                          text  \\\n",
       "0      Admission Date:  [**2101-10-20**]     Discharge Date:  [**2101-10-31**]\\n\\nDate of Birth:   [**2025-4-11**]     Sex:  M\\n\\nService:  Medicine\\n\\nCHIEF COMPLAINT:  Admitted from rehabilitation for\\nhypotension (systolic blood pressure to the 70s) and\\ndecreased urine output.\\n\\nHISTORY OF PRESENT ILLNESS:  The patient is a 76-year-old\\nmale who had been hospitalized at the [**Hospital1 190**] from [**10-11**] through [**10-19**] of [**2101**]\\nafter undergoing a left femoral-AT bypass graft and was\\nsubsequently discharged to a rehabilitation facility.\\n\\nOn [**2101-10-20**], he presented a...   \n",
       "1      Admission Date:  [**2191-3-16**]     Discharge Date:  [**2191-3-23**]\\n\\nDate of Birth:   [**2143-5-12**]     Sex:  F\\n\\nService:\\n\\nCHIEF COMPLAINT:  Shortness of breath and fevers.\\n\\nHISTORY OF PRESENT ILLNESS:  The patient is a 47-year-old\\nfemale with a history of human immunodeficiency virus (last\\nCD4 count 42 and a viral load of 65,000), cirrhosis,\\ndiabetes, and hypothyroidism presented with eight days of\\nfevers to 104, chills, shortness of breath, cough, dyspnea on\\nexertion, and fatigue.\\n\\nThe patient states she has become progressively dyspneic to\\nthe point where she is shor...   \n",
       "2      Admission Date: [**2175-5-30**]        Discharge Date:  [**2175-6-15**]\\n\\nDate of Birth:                    Sex:  F\\n\\nService:\\n\\n\\nADMISSION DIAGNOSIS:  End stage renal disease, admitted for\\ntransplant surgery.\\n\\nHISTORY OF PRESENT ILLNESS:  The patient is a 65 year-old\\nwoman with end stage renal disease, secondary to malignant\\nhypertension. She was started on dialysis in [**2174-2-7**].  She currently was on peritoneal dialysis and appears\\nto be doing well.  She has a history of gastric angiectasia\\nwhich she requires endoscopy. She was admitted on [**2175-5-30**] for\\na scheduled...   \n",
       "3      Admission Date:  [**2149-11-9**]       Discharge Date: [**2149-11-13**]\\n\\nDate of Birth:   [**2108-1-26**]       Sex:  M\\n\\nService:  NEUROLOGY\\n\\nCHIEF COMPLAINT:  Weakness, inability to talk.\\n\\nHISTORY OF THE PRESENT ILLNESS:  This is a 41-year-old\\nAfrican-American male with a history of hypertension who was\\nin his usual state of health until about 10:25 a.m. on the\\nmorning of admission.  He had gone to use the restroom and a\\nfew minutes later his family found him slumped onto the\\nfloor, apparently unable to talk and with weakness in his\\nright arm and leg.  EMS was called and he ...   \n",
       "4      Admission Date:  [**2103-6-28**]       Discharge Date:  [**2103-7-6**]\\n\\nDate of Birth:   [**2103-6-28**]       Sex:  F\\n\\nService:\\n\\nHISTORY OF PRESENT ILLNESS:  Baby Girl [**Known lastname 48639**] is a 1,385\\ngram, former 30 and [**5-23**] week premature baby, born to an 18\\nyear old, Gravida I, Para 0, now I, mother with prenatal\\nserologies as follows:\\n\\nA positive, antibody negative, RPR nonreactive, hepatitis B\\nsurface antigen negative; GBS unknown.\\n\\nPregnancy was complicated by PPROM on [**2103-6-23**] when the\\nmother was transferred from [**Name (NI) 1474**] Hospital to [**...   \n",
       "...                                                                                                                                                                                                                                                                                                                                                                                                                                                                                                                                                                                                                        ...   \n",
       "52721  Admission Date:  [**2181-1-27**]              Discharge Date:   [**2181-2-12**]\\n\\nDate of Birth:  [**2127-4-8**]             Sex:   M\\n\\nService: MEDICINE\\n\\nAllergies:\\nCefepime\\n\\nAttending:[**First Name3 (LF) 1936**]\\nChief Complaint:\\nfever\\n\\nMajor Surgical or Invasive Procedure:\\nnone\\n\\nHistory of Present Illness:\\nPt's a 53-year-old male patient of Dr. [**First Name4 (NamePattern1) **] [**Last Name (NamePattern1) **] is here\\nfor evaluation of fever.  The patient states fever began two\\ndays ago along with a mild dry cough, fever was low-grade at\\nthat time.  Day of admission, pt ...   \n",
       "52722  Admission Date:  [**2184-12-24**]              Discharge Date:   [**2185-1-5**]\\n\\nDate of Birth:  [**2137-4-7**]             Sex:   M\\n\\nService: SURGERY\\n\\nAllergies:\\nPatient recorded as having No Known Allergies to Drugs\\n\\nAttending:[**First Name3 (LF) 6346**]\\nChief Complaint:\\nRecurrent diverticulitis\\n\\nMajor Surgical or Invasive Procedure:\\n[**2184-12-24**]: Laparoscopic sigmoid colectomy, splenic flexure\\ntakedown, rigid sigmoidoscopy.\\n.\\n[**2184-12-28**]: Exploratory laparotomy, lysis of adhesions,\\nomentectomy, washout of abdomen, drain placement and abdominal\\nclosure.\\n\\n\\nH...   \n",
       "52723  Admission Date:  [**2144-7-25**]              Discharge Date:   [**2144-7-28**]\\n\\nDate of Birth:  [**2078-10-17**]             Sex:   F\\n\\nService: MEDICINE\\n\\nAllergies:\\nBactrim / Norvasc / Lipitor / Cortisone\\n\\nAttending:[**First Name3 (LF) 2751**]\\nChief Complaint:\\nChief Complaint: anemia\\n.\\nReason for MICU transfer: retroperitoneal bleed\\n\\n\\nMajor Surgical or Invasive Procedure:\\nCoiling of superior gluteal artery\\n\\nHistory of Present Illness:\\nMs. [**Known lastname 91180**] is a 65 YOF with history of GERD, HTN, and\\nhypertriglyceridemia who was recently admitted from [**7-9**]...   \n",
       "52724  Admission Date:  [**2147-2-8**]              Discharge Date:   [**2147-2-11**]\\n\\n\\nService: SURGERY\\n\\nAllergies:\\nZantac\\n\\nAttending:[**First Name3 (LF) 6088**]\\nChief Complaint:\\nAbdominal Aortic Aneurysm\\n\\nMajor Surgical or Invasive Procedure:\\n[**2147-2-8**]: groin cutdown with mass excision and endovascular\\nrepair of an aortic aneurysm\\n\\n\\nHistory of Present Illness:\\nMs. [**Known lastname **] is an 88-year-old female who is currently being\\nevaluated for percutaneous aortic valve replacement due to\\nsevere\\naortic stenosis.  She has a known infrarenal aortic aneurysm.\\nThis was ...   \n",
       "52725  Admission Date:  [**2117-12-30**]              Discharge Date:   [**2118-1-4**]\\n\\nDate of Birth:  [**2054-1-6**]             Sex:   F\\n\\nService: NEUROSURGERY\\n\\nAllergies:\\nPenicillins\\n\\nAttending:[**First Name3 (LF) 2724**]\\nChief Complaint:\\nNeurogenic claudication\\n\\nMajor Surgical or Invasive Procedure:\\n[**2117-12-30**] PLIF L4-5\\n\\n\\nHistory of Present Illness:\\n63-year-old woman who complains of bilateral lower extremity\\nsymptoms that are exacerbated by walking.  She receives some\\namelioration with rest.  She denies difficulty with bowel or\\nbladder function.\\n\\n\\nPast Medical ...   \n",
       "\n",
       "                                                                                                                                                         labels  \\\n",
       "0                                                                    038.9;785.59;584.9;427.5;410.71;428.0;682.6;425.4;263.9;96.04;99.62;89.64;96.72;38.93;96.6   \n",
       "1                                                                                       042;136.3;799.4;276.3;790.7;571.5;041.11;V09.0;E931.7;38.93;88.72;33.23   \n",
       "2                                                                                403.91;444.0;997.2;276.6;276.7;285.9;275.3;V15.82;55.69;91.0;39.57;38.06;99.04   \n",
       "3                                                                                                                 431;507.0;428.0;584.9;276.5;401.9;96.72;96.04   \n",
       "4                                                                                                             V30.00;774.2;765.25;765.15;V29.0;99.83;99.15;96.6   \n",
       "...                                                                                                                                                         ...   \n",
       "52721                                         038.9;518.81;482.41;487.0;785.52;V42.81;995.92;244.9;272.4;285.9;530.81;V10.72;238.71;96.72;96.6;38.93;14.0;96.04   \n",
       "52722  562.11;038.9;557.0;584.9;995.92;560.81;789.59;553.8;788.5;402.91;428.0;719.47;564.4;250.00;V02.54;E878.8;276.51;17.36;54.12;54.59;54.4;48.23;54.25;54.91   \n",
       "52723                                                                    999.9;568.81;577.2;285.1;584.9;579.9;729.92;530.81;401.9;272.1;569.9;300.4;39.79;88.47   \n",
       "52724                          441.4;428.33;998.12;285.1;424.1;250.00;998.11;996.1;E879.8;272.4;V45.81;428.0;V10.3;V15.82;V58.61;440.0;414.01;39.71;83.39;17.71   \n",
       "52725                                                                                             756.12;786.1;401.9;250.00;413.9;81.08;80.51;81.62;99.79;84.51   \n",
       "\n",
       "       is_valid  label_count  \n",
       "0         False           15  \n",
       "1         False           12  \n",
       "2         False           13  \n",
       "3         False            8  \n",
       "4         False            8  \n",
       "...         ...          ...  \n",
       "52721      True           18  \n",
       "52722      True           24  \n",
       "52723      True           14  \n",
       "52724      True           20  \n",
       "52725      True           10  \n",
       "\n",
       "[52726 rows x 6 columns]"
      ]
     },
     "execution_count": null,
     "metadata": {},
     "output_type": "execute_result"
    }
   ],
   "source": [
    "df_copy['label_count'] = label_count\n",
    "df_copy"
   ]
  },
  {
   "cell_type": "markdown",
   "id": "6d993b1d",
   "metadata": {},
   "source": [
    "The average number of labels per instance is:"
   ]
  },
  {
   "cell_type": "code",
   "execution_count": null,
   "id": "aaf00ad0",
   "metadata": {},
   "outputs": [
    {
     "data": {
      "text/plain": [
       "16.096271289306983"
      ]
     },
     "execution_count": null,
     "metadata": {},
     "output_type": "execute_result"
    }
   ],
   "source": [
    "df_copy.label_count.mean()"
   ]
  },
  {
   "cell_type": "code",
   "execution_count": null,
   "id": "33c12486",
   "metadata": {},
   "outputs": [
    {
     "data": {
      "text/plain": [
       "8.46712475129644"
      ]
     },
     "execution_count": null,
     "metadata": {},
     "output_type": "execute_result"
    }
   ],
   "source": [
    "df_copy.label_count.std()"
   ]
  },
  {
   "cell_type": "code",
   "execution_count": null,
   "id": "c66ed404",
   "metadata": {},
   "outputs": [
    {
     "data": {
      "image/png": "[encoded data removed]",
      "text/plain": [
       "<Figure size 432x288 with 1 Axes>"
      ]
     },
     "metadata": {
      "needs_background": "light"
     },
     "output_type": "display_data"
    }
   ],
   "source": [
    "df_copy.label_count.hist(bins=100);"
   ]
  },
  {
   "cell_type": "code",
   "execution_count": null,
   "id": "3527498f",
   "metadata": {},
   "outputs": [
    {
     "data": {
      "image/png": "[encoded data removed]",
      "text/plain": [
       "<Figure size 432x288 with 1 Axes>"
      ]
     },
     "metadata": {
      "needs_background": "light"
     },
     "output_type": "display_data"
    }
   ],
   "source": [
    "df_copy.label_count.plot.density();"
   ]
  },
  {
   "cell_type": "code",
   "execution_count": null,
   "id": "805199ac",
   "metadata": {},
   "outputs": [
    {
     "name": "stderr",
     "output_type": "stream",
     "text": [
      "/home/ubuntu/miniconda3/lib/python3.9/site-packages/seaborn/distributions.py:2619: FutureWarning: `distplot` is a deprecated function and will be removed in a future version. Please adapt your code to use either `displot` (a figure-level function with similar flexibility) or `histplot` (an axes-level function for histograms).\n",
      "  warnings.warn(msg, FutureWarning)\n"
     ]
    },
    {
     "data": {
      "image/png": "[encoded data removed]",
      "text/plain": [
       "<Figure size 432x288 with 1 Axes>"
      ]
     },
     "metadata": {
      "needs_background": "light"
     },
     "output_type": "display_data"
    }
   ],
   "source": [
    "import seaborn as sns\n",
    "sns.distplot(df_copy.label_count, bins=100, color='b');"
   ]
  },
  {
   "cell_type": "markdown",
   "id": "1ada6db2",
   "metadata": {},
   "source": [
    "## Sampling to create a small dataset:"
   ]
  },
  {
   "cell_type": "code",
   "execution_count": null,
   "id": "145106ad",
   "metadata": {},
   "outputs": [],
   "source": [
    "df_sample = pd.read_csv(path_data/'processed'/'notes_labelled_sample.csv', \n",
    "                               dtype={'text': str, 'labels': str, 'subject_id': np.int64, 'hadm_id': np.int64 })\n",
    "df_sample[['text', 'labels']] = df_sample[['text', 'labels']].astype('str')"
   ]
  },
  {
   "cell_type": "code",
   "execution_count": null,
   "id": "1a47798b",
   "metadata": {},
   "outputs": [],
   "source": [
    "# df_sample = df.sample(frac=0.3, random_state=42, ignore_index=True)"
   ]
  },
  {
   "cell_type": "code",
   "execution_count": null,
   "id": "07fbf592",
   "metadata": {},
   "outputs": [
    {
     "data": {
      "text/html": [
       "<div>\n",
       "<style scoped>\n",
       "    .dataframe tbody tr th:only-of-type {\n",
       "        vertical-align: middle;\n",
       "    }\n",
       "\n",
       "    .dataframe tbody tr th {\n",
       "        vertical-align: top;\n",
       "    }\n",
       "\n",
       "    .dataframe thead th {\n",
       "        text-align: right;\n",
       "    }\n",
       "</style>\n",
       "<table border=\"1\" class=\"dataframe\">\n",
       "  <thead>\n",
       "    <tr style=\"text-align: right;\">\n",
       "      <th></th>\n",
       "      <th>subject_id</th>\n",
       "      <th>hadm_id</th>\n",
       "      <th>text</th>\n",
       "      <th>labels</th>\n",
       "      <th>is_valid</th>\n",
       "    </tr>\n",
       "  </thead>\n",
       "  <tbody>\n",
       "    <tr>\n",
       "      <th>0</th>\n",
       "      <td>30088</td>\n",
       "      <td>172719</td>\n",
       "      <td>Admission Date:  [**2179-3-7**]              Discharge Date:   [**2179-3-18**]\\n\\nDate of Birth:  [**2121-12-23**]             Sex:   M\\n\\nService: MEDICINE\\n\\nAllergies:\\nIbuprofen\\n\\nAttending:[**First Name3 (LF) 613**]\\nChief Complaint:\\ndyspnea, hyperkalemia\\n\\nMajor Surgical or Invasive Procedure:\\nHemodialysis\\nright Femoral central venous line placement and removal\\n\\n\\nHistory of Present Illness:\\n57 y/o M with hx of ESRD presents after intentionally missing\\ndialysis for last 9 days.  Came to the ED due to the coaxing of\\nhis wife.  Complains of SOB and DOE lasting about the last ...</td>\n",
       "      <td>276.7;585.6;348.39;790.7;427.32;507.0;403.10;825.0;E888.9;300.9;301.9;250.62;357.2;250.42;285.21;278.01;427.31;250.82;V15.81;276.52;707.07;707.22;041.19;39.95;38.93</td>\n",
       "      <td>False</td>\n",
       "    </tr>\n",
       "    <tr>\n",
       "      <th>1</th>\n",
       "      <td>22624</td>\n",
       "      <td>138579</td>\n",
       "      <td>Admission Date:  [**2117-1-21**]              Discharge Date:   [**2117-1-28**]\\n\\nDate of Birth:  [**2070-8-1**]             Sex:   M\\n\\nService: MEDICINE\\n\\nAllergies:\\nPatient recorded as having No Known Allergies to Drugs\\n\\nAttending:[**First Name3 (LF) 943**]\\nChief Complaint:\\nBright red blood in stools\\n\\nMajor Surgical or Invasive Procedure:\\nUpper endoscopy\\nColonoscopy\\nTransfusion of platelets and fresh frozen plasma\\n\\n\\nHistory of Present Illness:\\nIn brief, a 46-year-old man with etoh cirrhosis, varices s/p\\nbanding in [**12-9**], HCV not on treatment, who initially presente...</td>\n",
       "      <td>455.5;303.00;571.2;291.81;070.70;284.8;286.7;562.10;571.1;211.2;456.21;305.1;276.8;45.13;45.23;99.05;99.07;96.34</td>\n",
       "      <td>False</td>\n",
       "    </tr>\n",
       "    <tr>\n",
       "      <th>2</th>\n",
       "      <td>93593</td>\n",
       "      <td>164601</td>\n",
       "      <td>Admission Date:  [**2161-5-8**]              Discharge Date:   [**2161-5-12**]\\n\\n\\nService: MEDICINE\\n\\nAllergies:\\nPercocet\\n\\nAttending:[**First Name3 (LF) 1115**]\\nChief Complaint:\\nGI bleed / coffee-ground emesis.\\n\\nMajor Surgical or Invasive Procedure:\\nEGD\\nBlood transfusion\\n\\n\\nHistory of Present Illness:\\nPatient is an 87-y/o woman with a history of colon cancer s/p\\nright colectomy who presented today to the emergency room after\\n2 episodes of coffee-ground emesis at her rehab facility.\\nHistory was taken from family members as patient was in\\nsignificant discomfort with the NG...</td>\n",
       "      <td>V10.05;V45.72;V15.82;788.30;531.40;998.59;682.6;438.89;728.87;458.29;564.09;401.9;285.9;294.8;311;272.0;E878.2;45.13</td>\n",
       "      <td>True</td>\n",
       "    </tr>\n",
       "    <tr>\n",
       "      <th>3</th>\n",
       "      <td>21976</td>\n",
       "      <td>187519</td>\n",
       "      <td>Admission Date: [**2173-5-10**]        Discharge Date: [**2173-6-13**]\\n\\nDate of Birth:  [**2173-5-10**]        Sex:  M\\n\\nService:  NB\\n\\n\\nHISTORY OF PRESENT ILLNESS:  [**First Name8 (NamePattern2) 16518**] [**Known lastname 3175**] is the first\\nborn of twins at 33-2/7 weeks gestation born to a 34-year-old\\nG2 P1 woman, prenatal screens of blood type O positive,\\nantibody negative, Rubella immune, RPR nonreactive, hepatitis\\nB surface antigen negative, Group B strep status unknown.\\nEstimated date of confinement was [**2173-5-27**]. The\\npregnancy was a spontaneous twin gestation with ...</td>\n",
       "      <td>V31.00;765.17;765.27;770.2;745.5;774.2;779.3;770.6;772.6;770.81;779.81;V50.2;V05.3;V29.0;V18.0;754.81;64.0;93.9;99.15;99.83;99.55</td>\n",
       "      <td>False</td>\n",
       "    </tr>\n",
       "    <tr>\n",
       "      <th>4</th>\n",
       "      <td>10676</td>\n",
       "      <td>142446</td>\n",
       "      <td>Admission Date:  [**2118-3-4**]       Discharge Date:  [**2118-3-17**]\\n\\nDate of Birth:   [**2052-5-23**]       Sex:  M\\n\\nService:  CCU\\n\\nHISTORY OF THE PRESENT ILLNESS:  The patient is a 65-year-old\\nwith known CAD who presented to an outside hospital on the\\nday of admission with right upper back pain.  The pain was\\nradiating to the left arm and he relates that this complaint\\nhas been occurring for at least several weeks.  This episode\\nis similar to his previous back pain which has been\\nunrelieved with NSAIDs in the past.  The pain is much worse\\nwith walking and is associated wit...</td>\n",
       "      <td>410.61;785.51;414.01;427.89;401.9;272.4;36.01;36.06;37.61;37.23;88.56;96.72;96.04</td>\n",
       "      <td>False</td>\n",
       "    </tr>\n",
       "    <tr>\n",
       "      <th>...</th>\n",
       "      <td>...</td>\n",
       "      <td>...</td>\n",
       "      <td>...</td>\n",
       "      <td>...</td>\n",
       "      <td>...</td>\n",
       "    </tr>\n",
       "    <tr>\n",
       "      <th>15813</th>\n",
       "      <td>25009</td>\n",
       "      <td>183327</td>\n",
       "      <td>Admission Date:  [**2133-7-4**]              Discharge Date:   [**2133-7-9**]\\n\\nDate of Birth:  [**2075-3-5**]             Sex:   F\\n\\nService: ORTHOPAEDICS\\n\\nAllergies:\\nXanax\\n\\nAttending:[**First Name3 (LF) 8587**]\\nChief Complaint:\\ns/p Left distal femur hardware failure\\n\\nMajor Surgical or Invasive Procedure:\\n[**2133-7-4**]:  Revision of left distal femur ORIF\\n\\nHistory of Present Illness:\\nMs. [**Known lastname 17025**] is a 58 year old female who had a left\\nsupradcondylar femur fracture repair on [**2133-6-4**].  On [**2133-6-30**] she\\nheard a [**Doctor Last Name **] while se...</td>\n",
       "      <td>996.49;707.06;285.1;707.07;E878.8;V45.81;401.9;428.0;V49.73;458.29;788.5;78.55</td>\n",
       "      <td>False</td>\n",
       "    </tr>\n",
       "    <tr>\n",
       "      <th>15814</th>\n",
       "      <td>72230</td>\n",
       "      <td>130354</td>\n",
       "      <td>Admission Date:  [**2200-10-11**]              Discharge Date:   [**2200-10-15**]\\n\\n\\nService: [**Month/Day/Year 662**]\\n\\nAllergies:\\nPenicillins / Shellfish Derived\\n\\nAttending:[**First Name3 (LF) 30**]\\nChief Complaint:\\nshortness of breath, diarrhea\\n\\nMajor Surgical or Invasive Procedure:\\nnone\\n\\nHistory of Present Illness:\\n86 year old female with a past medical history of\\noccipital stroke with memory difficulties, atrial fibrillation,\\nCdiff, dCHF on 2L at home, severe AS, presented with SOB\\nincreasing x 4-5 days. F/C/S/N/V/, diarrhea periodically\\nfoul-smelling.\\n.\\nIn the ED,...</td>\n",
       "      <td>008.45;428.33;427.32;518.0;276.1;427.31;424.1;280.9;493.90;311;416.8;428.0</td>\n",
       "      <td>False</td>\n",
       "    </tr>\n",
       "    <tr>\n",
       "      <th>15815</th>\n",
       "      <td>65556</td>\n",
       "      <td>167905</td>\n",
       "      <td>Admission Date:  [**2116-6-8**]              Discharge Date:   [**2116-6-20**]\\n\\nDate of Birth:  [**2056-3-1**]             Sex:   M\\n\\nService: MEDICINE\\n\\nAllergies:\\nLyrica / Lipitor\\n\\nAttending:[**First Name3 (LF) 6565**]\\nChief Complaint:\\npancreatic cancer, with liver mets\\n\\nMajor Surgical or Invasive Procedure:\\nNone\\n\\nHistory of Present Illness:\\n60yoM with h/o DM2, ? CHF, EtOH/polysubstance abuse, homeless,\\nbipolar d/o who is transferred to OMED service from General\\nSurgery for further management of metastatic pancreatic cancer.\\n.\\nHe was admitted to OSH [**2116-5-29**] for...</td>\n",
       "      <td>157.0;415.19;584.9;507.0;197.7;197.0;428.32;276.2;V66.7;428.0;250.02;799.02;E935.2;305.00;305.90;296.80;V43.64;V60.0</td>\n",
       "      <td>False</td>\n",
       "    </tr>\n",
       "    <tr>\n",
       "      <th>15816</th>\n",
       "      <td>31398</td>\n",
       "      <td>152973</td>\n",
       "      <td>Admission Date:  [**2196-11-17**]              Discharge Date:   [**2196-11-23**]\\n\\nDate of Birth:  [**2155-3-28**]             Sex:   M\\n\\nService: CARDIOTHORACIC\\n\\nAllergies:\\nPatient recorded as having No Known Allergies to Drugs\\n\\nAttending:[**First Name3 (LF) 1505**]\\nChief Complaint:\\nchest pain\\n\\nMajor Surgical or Invasive Procedure:\\nOPCABx1(svg-RCA)[**11-17**]\\n\\n\\nHistory of Present Illness:\\n41 yo m who presented to OSH with flank pain, found to have\\nureteral calculi, but later developed chest pain. He stated that\\nover past 2 years he had developed chest pain with strenuou...</td>\n",
       "      <td>746.85;592.1;361.9;401.9;V10.87;36.11;14.41</td>\n",
       "      <td>False</td>\n",
       "    </tr>\n",
       "    <tr>\n",
       "      <th>15817</th>\n",
       "      <td>2204</td>\n",
       "      <td>194499</td>\n",
       "      <td>Admission Date:  [**2118-8-21**]              Discharge Date:   [**2118-8-24**]\\n\\nDate of Birth:  [**2068-7-28**]             Sex:   M\\n\\nService: NEUROLOGY\\n\\nAllergies:\\nPatient recorded as having No Known Allergies to Drugs\\n\\nAttending:[**First Name3 (LF) 5018**]\\nChief Complaint:\\nconfusion and language problems\\n\\nMajor Surgical or Invasive Procedure:\\ni.v. t-PA\\nTEE\\n\\n\\nHistory of Present Illness:\\nPt is a 50 year old R handed man in his usual state of\\nhealth today when he left home at 12pm today for a bike ride on\\na\\nnew bike. Shortly before 2pm, he was found lying next to his\\...</td>\n",
       "      <td>434.91;272.0;272.4;401.9;303.91;99.1;89.14;88.72</td>\n",
       "      <td>False</td>\n",
       "    </tr>\n",
       "  </tbody>\n",
       "</table>\n",
       "<p>15818 rows × 5 columns</p>\n",
       "</div>"
      ],
      "text/plain": [
       "       subject_id  hadm_id  \\\n",
       "0           30088   172719   \n",
       "1           22624   138579   \n",
       "2           93593   164601   \n",
       "3           21976   187519   \n",
       "4           10676   142446   \n",
       "...           ...      ...   \n",
       "15813       25009   183327   \n",
       "15814       72230   130354   \n",
       "15815       65556   167905   \n",
       "15816       31398   152973   \n",
       "15817        2204   194499   \n",
       "\n",
       "                                                                                                                                                                                                                                                                                                                                                                                                                                                                                                                                                                                                                          text  \\\n",
       "0      Admission Date:  [**2179-3-7**]              Discharge Date:   [**2179-3-18**]\\n\\nDate of Birth:  [**2121-12-23**]             Sex:   M\\n\\nService: MEDICINE\\n\\nAllergies:\\nIbuprofen\\n\\nAttending:[**First Name3 (LF) 613**]\\nChief Complaint:\\ndyspnea, hyperkalemia\\n\\nMajor Surgical or Invasive Procedure:\\nHemodialysis\\nright Femoral central venous line placement and removal\\n\\n\\nHistory of Present Illness:\\n57 y/o M with hx of ESRD presents after intentionally missing\\ndialysis for last 9 days.  Came to the ED due to the coaxing of\\nhis wife.  Complains of SOB and DOE lasting about the last ...   \n",
       "1      Admission Date:  [**2117-1-21**]              Discharge Date:   [**2117-1-28**]\\n\\nDate of Birth:  [**2070-8-1**]             Sex:   M\\n\\nService: MEDICINE\\n\\nAllergies:\\nPatient recorded as having No Known Allergies to Drugs\\n\\nAttending:[**First Name3 (LF) 943**]\\nChief Complaint:\\nBright red blood in stools\\n\\nMajor Surgical or Invasive Procedure:\\nUpper endoscopy\\nColonoscopy\\nTransfusion of platelets and fresh frozen plasma\\n\\n\\nHistory of Present Illness:\\nIn brief, a 46-year-old man with etoh cirrhosis, varices s/p\\nbanding in [**12-9**], HCV not on treatment, who initially presente...   \n",
       "2      Admission Date:  [**2161-5-8**]              Discharge Date:   [**2161-5-12**]\\n\\n\\nService: MEDICINE\\n\\nAllergies:\\nPercocet\\n\\nAttending:[**First Name3 (LF) 1115**]\\nChief Complaint:\\nGI bleed / coffee-ground emesis.\\n\\nMajor Surgical or Invasive Procedure:\\nEGD\\nBlood transfusion\\n\\n\\nHistory of Present Illness:\\nPatient is an 87-y/o woman with a history of colon cancer s/p\\nright colectomy who presented today to the emergency room after\\n2 episodes of coffee-ground emesis at her rehab facility.\\nHistory was taken from family members as patient was in\\nsignificant discomfort with the NG...   \n",
       "3      Admission Date: [**2173-5-10**]        Discharge Date: [**2173-6-13**]\\n\\nDate of Birth:  [**2173-5-10**]        Sex:  M\\n\\nService:  NB\\n\\n\\nHISTORY OF PRESENT ILLNESS:  [**First Name8 (NamePattern2) 16518**] [**Known lastname 3175**] is the first\\nborn of twins at 33-2/7 weeks gestation born to a 34-year-old\\nG2 P1 woman, prenatal screens of blood type O positive,\\nantibody negative, Rubella immune, RPR nonreactive, hepatitis\\nB surface antigen negative, Group B strep status unknown.\\nEstimated date of confinement was [**2173-5-27**]. The\\npregnancy was a spontaneous twin gestation with ...   \n",
       "4      Admission Date:  [**2118-3-4**]       Discharge Date:  [**2118-3-17**]\\n\\nDate of Birth:   [**2052-5-23**]       Sex:  M\\n\\nService:  CCU\\n\\nHISTORY OF THE PRESENT ILLNESS:  The patient is a 65-year-old\\nwith known CAD who presented to an outside hospital on the\\nday of admission with right upper back pain.  The pain was\\nradiating to the left arm and he relates that this complaint\\nhas been occurring for at least several weeks.  This episode\\nis similar to his previous back pain which has been\\nunrelieved with NSAIDs in the past.  The pain is much worse\\nwith walking and is associated wit...   \n",
       "...                                                                                                                                                                                                                                                                                                                                                                                                                                                                                                                                                                                                                        ...   \n",
       "15813  Admission Date:  [**2133-7-4**]              Discharge Date:   [**2133-7-9**]\\n\\nDate of Birth:  [**2075-3-5**]             Sex:   F\\n\\nService: ORTHOPAEDICS\\n\\nAllergies:\\nXanax\\n\\nAttending:[**First Name3 (LF) 8587**]\\nChief Complaint:\\ns/p Left distal femur hardware failure\\n\\nMajor Surgical or Invasive Procedure:\\n[**2133-7-4**]:  Revision of left distal femur ORIF\\n\\nHistory of Present Illness:\\nMs. [**Known lastname 17025**] is a 58 year old female who had a left\\nsupradcondylar femur fracture repair on [**2133-6-4**].  On [**2133-6-30**] she\\nheard a [**Doctor Last Name **] while se...   \n",
       "15814  Admission Date:  [**2200-10-11**]              Discharge Date:   [**2200-10-15**]\\n\\n\\nService: [**Month/Day/Year 662**]\\n\\nAllergies:\\nPenicillins / Shellfish Derived\\n\\nAttending:[**First Name3 (LF) 30**]\\nChief Complaint:\\nshortness of breath, diarrhea\\n\\nMajor Surgical or Invasive Procedure:\\nnone\\n\\nHistory of Present Illness:\\n86 year old female with a past medical history of\\noccipital stroke with memory difficulties, atrial fibrillation,\\nCdiff, dCHF on 2L at home, severe AS, presented with SOB\\nincreasing x 4-5 days. F/C/S/N/V/, diarrhea periodically\\nfoul-smelling.\\n.\\nIn the ED,...   \n",
       "15815  Admission Date:  [**2116-6-8**]              Discharge Date:   [**2116-6-20**]\\n\\nDate of Birth:  [**2056-3-1**]             Sex:   M\\n\\nService: MEDICINE\\n\\nAllergies:\\nLyrica / Lipitor\\n\\nAttending:[**First Name3 (LF) 6565**]\\nChief Complaint:\\npancreatic cancer, with liver mets\\n\\nMajor Surgical or Invasive Procedure:\\nNone\\n\\nHistory of Present Illness:\\n60yoM with h/o DM2, ? CHF, EtOH/polysubstance abuse, homeless,\\nbipolar d/o who is transferred to OMED service from General\\nSurgery for further management of metastatic pancreatic cancer.\\n.\\nHe was admitted to OSH [**2116-5-29**] for...   \n",
       "15816  Admission Date:  [**2196-11-17**]              Discharge Date:   [**2196-11-23**]\\n\\nDate of Birth:  [**2155-3-28**]             Sex:   M\\n\\nService: CARDIOTHORACIC\\n\\nAllergies:\\nPatient recorded as having No Known Allergies to Drugs\\n\\nAttending:[**First Name3 (LF) 1505**]\\nChief Complaint:\\nchest pain\\n\\nMajor Surgical or Invasive Procedure:\\nOPCABx1(svg-RCA)[**11-17**]\\n\\n\\nHistory of Present Illness:\\n41 yo m who presented to OSH with flank pain, found to have\\nureteral calculi, but later developed chest pain. He stated that\\nover past 2 years he had developed chest pain with strenuou...   \n",
       "15817  Admission Date:  [**2118-8-21**]              Discharge Date:   [**2118-8-24**]\\n\\nDate of Birth:  [**2068-7-28**]             Sex:   M\\n\\nService: NEUROLOGY\\n\\nAllergies:\\nPatient recorded as having No Known Allergies to Drugs\\n\\nAttending:[**First Name3 (LF) 5018**]\\nChief Complaint:\\nconfusion and language problems\\n\\nMajor Surgical or Invasive Procedure:\\ni.v. t-PA\\nTEE\\n\\n\\nHistory of Present Illness:\\nPt is a 50 year old R handed man in his usual state of\\nhealth today when he left home at 12pm today for a bike ride on\\na\\nnew bike. Shortly before 2pm, he was found lying next to his\\...   \n",
       "\n",
       "                                                                                                                                                                     labels  \\\n",
       "0      276.7;585.6;348.39;790.7;427.32;507.0;403.10;825.0;E888.9;300.9;301.9;250.62;357.2;250.42;285.21;278.01;427.31;250.82;V15.81;276.52;707.07;707.22;041.19;39.95;38.93   \n",
       "1                                                          455.5;303.00;571.2;291.81;070.70;284.8;286.7;562.10;571.1;211.2;456.21;305.1;276.8;45.13;45.23;99.05;99.07;96.34   \n",
       "2                                                      V10.05;V45.72;V15.82;788.30;531.40;998.59;682.6;438.89;728.87;458.29;564.09;401.9;285.9;294.8;311;272.0;E878.2;45.13   \n",
       "3                                         V31.00;765.17;765.27;770.2;745.5;774.2;779.3;770.6;772.6;770.81;779.81;V50.2;V05.3;V29.0;V18.0;754.81;64.0;93.9;99.15;99.83;99.55   \n",
       "4                                                                                         410.61;785.51;414.01;427.89;401.9;272.4;36.01;36.06;37.61;37.23;88.56;96.72;96.04   \n",
       "...                                                                                                                                                                     ...   \n",
       "15813                                                                                        996.49;707.06;285.1;707.07;E878.8;V45.81;401.9;428.0;V49.73;458.29;788.5;78.55   \n",
       "15814                                                                                            008.45;428.33;427.32;518.0;276.1;427.31;424.1;280.9;493.90;311;416.8;428.0   \n",
       "15815                                                  157.0;415.19;584.9;507.0;197.7;197.0;428.32;276.2;V66.7;428.0;250.02;799.02;E935.2;305.00;305.90;296.80;V43.64;V60.0   \n",
       "15816                                                                                                                           746.85;592.1;361.9;401.9;V10.87;36.11;14.41   \n",
       "15817                                                                                                                      434.91;272.0;272.4;401.9;303.91;99.1;89.14;88.72   \n",
       "\n",
       "       is_valid  \n",
       "0         False  \n",
       "1         False  \n",
       "2          True  \n",
       "3         False  \n",
       "4         False  \n",
       "...         ...  \n",
       "15813     False  \n",
       "15814     False  \n",
       "15815     False  \n",
       "15816     False  \n",
       "15817     False  \n",
       "\n",
       "[15818 rows x 5 columns]"
      ]
     },
     "execution_count": null,
     "metadata": {},
     "output_type": "execute_result"
    }
   ],
   "source": [
    "df_sample"
   ]
  },
  {
   "cell_type": "code",
   "execution_count": null,
   "id": "5287afde",
   "metadata": {},
   "outputs": [
    {
     "data": {
      "text/plain": [
       "15818"
      ]
     },
     "execution_count": null,
     "metadata": {},
     "output_type": "execute_result"
    }
   ],
   "source": [
    "len(df_sample)"
   ]
  },
  {
   "cell_type": "code",
   "execution_count": null,
   "id": "0050ab12",
   "metadata": {},
   "outputs": [
    {
     "name": "stdout",
     "output_type": "stream",
     "text": [
      "Admission Date:  [**2188-12-18**]     Discharge Date:  [**2188-12-24**]\n",
      "\n",
      "Date of Birth:   [**2111-1-31**]     Sex:  F\n",
      "\n",
      "Service:  CCU\n",
      "\n",
      "HISTORY OF PRESENT ILLNESS:  This is a 78-year-old female\n",
      "with a history of diabetes, hypertension, and a CVA who was\n",
      "admitted one day status post lysis for stemi as a transfer\n",
      "from [**Hospital3 3583**].  Patient was in her usual state of\n",
      "health until yesterday morning when sitting at home she\n",
      "developed substernal chest pain radiating to both arms.\n",
      "Patient has had this before when her blood sugar was low.\n",
      "She called EMS and was taken to [**Hospital3 3583**].  At [**Hospital3 6265**], she was noted to have ST elevations in leads II,\n",
      "aVF (per report, electrocardiogram was not sent).  She was\n",
      "given Retavase with resolution of symptoms.  She was admitted\n",
      "to [**Hospital1 46**] Coronary Care Unit and given heparin, as well as\n",
      "aspirin.  Repeat electrocardiogram today showed persistent ST\n",
      "elevation in leads II, aVF, so patient transferred to [**Hospital6 1760**] for catheterization.  Patient\n",
      "has no complaints currently.  Reports chest pain was\n",
      "substernal, [**11-14**], with no associated nausea, vomiting, or\n",
      "lightheadedness.\n",
      "\n",
      "PAST MEDICAL HISTORY:\n",
      "1.  Diabetes.\n",
      "2.  Hypertension.\n",
      "3.  CVA.\n",
      "4.  Paroxysmal atrial fibrillation on Coumadin.\n",
      "5.  Hypercholesterolemia.\n",
      "6.  Status post abdominal aortic aneurysm repair.\n",
      "\n",
      "ALLERGIES:  No known drug allergies.\n",
      "\n",
      "MEDICATIONS:\n",
      "1.  Aspirin 325 mg.\n",
      "2.  Accupril 20 mg.\n",
      "3.  Protonix 40 mg\n",
      "4.  Insulin sliding scale.\n",
      "5.  Lipitor 20 mg.\n",
      "6.  Lasix 20 mg b.i.d.\n",
      "7.  Amoxicillin.\n",
      "8.  Levaquin.\n",
      "9.  NPH 15 q.h.s.\n",
      "10. Valsartan 80 mg.\n",
      "11. Quinapril 20 mg.\n",
      "12. Lopressor 25 mg b.i.d.\n",
      "\n",
      "PHYSICAL EXAMINATION:  Vital signs:  Pulse of 77.  Blood\n",
      "pressure 174/60.  Respiratory rate 20.  Oxygen saturation 97%\n",
      "on room air.  In general, obese female in no acute distress.\n",
      "Lungs clear to auscultation bilaterally.  Cardiovascular:\n",
      "Regular rate and rhythm, 2/6 systolic ejection murmur at the\n",
      "left sternal border.  Abdomen:  Midline scar, soft,\n",
      "nontender, nondistended with bowel sounds present.  Lower\n",
      "extremities:  No cyanosis, clubbing or edema.  Skin:  Marked\n",
      "bruise in the right upper extremity.\n",
      "\n",
      "OUTSIDE LABORATORIES:  White blood cell count 12.1,\n",
      "hematocrit 34.9, platelet count 252,000, INR 2.5, sodium 143,\n",
      "potassium 4.1, chloride 113, bicarbonate 20, BUN 43,\n",
      "creatinine 2.6, glucose 60, CK went from 210 to 150 to 145.\n",
      "Troponin I went from 6.5 to 2.17 to 2.21.  Chest x-ray from\n",
      "the outside hospital showed no evidence of congestive heart\n",
      "failure.  Electrocardiogram number one on [**12-18**] at 7:50\n",
      "a.m. showed sinus rhythm at 80, normal axis, normal\n",
      "intervals, ST elevation in III, aVF, V2, T wave inversions in\n",
      "I, and aVL.  Electrocardiogram number two on [**12-18**] at\n",
      "[**2132**] hours showed sinus rhythm at 89, normal axis, normal\n",
      "intervals, ST elevation in II, and aVF, T wave inversions in\n",
      "I and aVL.\n",
      "\n",
      "CONCISE SUMMARY OF HOSPITAL COURSE:\n",
      "\n",
      "1.  Cardiovascular:  The patient was admitted to the Coronary\n",
      "Care Unit after having sustained an inferior wall myocardial\n",
      "infarction and thrombolysis.  The patient, on the following\n",
      "day, was taken for cardiac catheterization with subsequent\n",
      "ostial right coronary artery stenting with a >......< stent.\n",
      "Final angiography revealed no residual stenosis, no\n",
      "dissection of flow, was TIMI three.  Hemodynamics showed\n",
      "moderate pulmonary hypertension with PA pressure of 46, mean\n",
      "pulmonary capillary wedge pressure to 22, systemic\n",
      "hypertension with central venous pressures of 175/75.\n",
      "Left-sided filling pressures were elevated with a left\n",
      "ventricular end-diastolic pressure of 25.  In addition to\n",
      "stenting of the proximal right coronary artery, a rotation\n",
      "arthrectomy was done.\n",
      "\n",
      "The patient was placed on aspirin, Plavix, Integrilin for 18\n",
      "hours and beta-blocker, and weaned off the nitroglycerin\n",
      "drip.  ACE inhibitor was held due to evidence of renal\n",
      "failure.  No further diuresis was needed as patient was\n",
      "currently euvolemic.  Patient was also found to be in sinus\n",
      "rhythm despite patient's history of atrial fibrillation.\n",
      "Patient's antihypertensive medication was maximized due to\n",
      "her elevated blood pressure.  After maximizing the\n",
      "antihypertensives, the patient's blood pressure on the day of\n",
      "discharge was 130/50.\n",
      "\n",
      "Echocardiogram was done prior to discharge to evaluate heart\n",
      "function:   Impression:  Left atrium was moderately dilated.\n",
      "Mild symmetric left ventricular hypertrophy.  Left\n",
      "ventricular cavity size was normal and mild regional left\n",
      "ventricular systolic dysfunction with an ejection fraction of\n",
      "50-55%.  There was basal and mid inferior wall hypokinesis.\n",
      "Moderate mitral regurgitation was seen and there was no\n",
      "pericardial effusions.  Patient was originally started on her\n",
      "Coumadin after cardiac catheterization due to patient's\n",
      "history of paroxysmal atrial fibrillation.\n",
      "\n",
      "2.  Renal:  The patient had worsening creatinine to 4.5 post\n",
      "cardiac catheterization.  Her acute renal failure was likely\n",
      "secondary to the contrast dye administered during the\n",
      "procedure.  On the day prior to discharge, patient had her\n",
      "creatinine go from 4.5 to 4.1.  Medications were renally\n",
      "dosed and extreme care was taken to avoid any further\n",
      "nephrotoxic agents.  Patient was adequately hydrated and\n",
      "given Mucomyst pre and post procedure.\n",
      "\n",
      "3.  Hematology:  On day five on admission, the patient was\n",
      "noted to have a drop in her hematocrit from 30.5 to 28.7.\n",
      "Acute blood loss anemia was likely secondary to profound\n",
      "ecchymosis present on abdominal exam.  This was attributed to\n",
      "the subcutaneous heparin injections that were administered\n",
      "b.i.d.  Once heparin subcutaneous injections were stopped,\n",
      "patient's hematocrit stabilized and began to increase.  No\n",
      "transfusions were given on this admission.\n",
      "\n",
      "4.  Endocrine:  Patient was found to be very hyperglycemic on\n",
      "admission and was therefore started on an insulin drip.\n",
      "Blood sugars at that time were 296.  Once stabilized post\n",
      "procedure, patient was transitioned back to her outpatient\n",
      "insulin regimen with good effect.\n",
      "\n",
      "5.  Infectious Disease:  The patient, on admission, was found\n",
      "to have a urinary tract infection.  Outside hospital was\n",
      "treating with Levaquin and we continued to complete a seven\n",
      "to ten day course.\n",
      "\n",
      "CONDITION OF DISCHARGE:  Stable.\n",
      "\n",
      "DISCHARGE STATUS:  To home as patient denied rehabilitation\n",
      "facility.\n",
      "\n",
      "DISCHARGE DIAGNOSES:\n",
      "1.  Acute myocardial infarction, inferior.\n",
      "2.  Hypertension.\n",
      "3.  Renal failure, chronic.\n",
      "4.  Post procedure hematoma.\n",
      "\n",
      "DISCHARGE MEDICATIONS:\n",
      "1.  Aspirin 325 mg tablets po q.d.\n",
      "2.  Plavix 75 mg tablet po q.d.\n",
      "3.  Simvastatin 40 mg tablet, 1 tablet po q.d.\n",
      "4.  Hydralazine 50 mg tablet, 1.5 tablets po q.i.d.\n",
      "5.  Isosorbide mononitrate 30 mg tablets sustained release 24\n",
      "hour three tablets sustained release 24 hours po q.d.\n",
      "6.  Pantoprazole 40 mg tablet, 1 tablet po q.d.\n",
      "7.  Warfarin 5 mg tablet, 1 tablet po q.d.\n",
      "8.  Ipratropium bromide 0.2%, [**2-7**] inhalations q. 6 hours prn\n",
      "for shortness of breath.\n",
      "9.  Albuterol 90 mcg, 1-2 puffs inhaled q. 6 hours prn for\n",
      "shortness of breath.\n",
      "10. Toprol XL 200 mg tablets, sustained release 24, 1 tablet\n",
      "po q.d.\n",
      "\n",
      "FOLLOW-UP PLANS:  Patient is to follow-up with primary care\n",
      "physician, [**Last Name (NamePattern4) **]. [**First Name8 (NamePattern2) **] [**Last Name (NamePattern1) **].  Patient's primary care\n",
      "physician was [**Name (NI) 653**] and he recommended that Ms. [**Known lastname **]\n",
      "call him to schedule an appointment at [**Telephone/Fax (1) 26717**].\n",
      "\n",
      "\n",
      "\n",
      "\n",
      "                          [**First Name8 (NamePattern2) **] [**Last Name (NamePattern1) **], M.D.  [**MD Number(1) 2057**]\n",
      "\n",
      "Dictated By:[**First Name3 (LF) 2551**]\n",
      "\n",
      "MEDQUIST36\n",
      "\n",
      "D:  [**2189-2-24**]  08:23\n",
      "T:  [**2189-2-25**]  13:12\n",
      "JOB#:  [**Job Number 54505**]\n",
      "\n"
     ]
    }
   ],
   "source": [
    "print(df_sample.iloc[5788,2])"
   ]
  },
  {
   "cell_type": "markdown",
   "id": "03057383",
   "metadata": {},
   "source": [
    "Let's check how we are doing w.r.t our training and validation split:"
   ]
  },
  {
   "cell_type": "markdown",
   "id": "f8e49d50",
   "metadata": {},
   "source": [
    "#### **Data Statistics Check #1: Number of instances**:   "
   ]
  },
  {
   "cell_type": "markdown",
   "id": "50144f35",
   "metadata": {},
   "source": [
    "- Original: we had 52,726 data instances and train = 49,354 and valid = 3372.  \n",
    "- After sampling: we have 15,818 data instances and train = 14839, and valid = 979."
   ]
  },
  {
   "cell_type": "code",
   "execution_count": null,
   "id": "bb3fd63c",
   "metadata": {},
   "outputs": [],
   "source": [
    "train, valid = df_sample.index[~df_sample['is_valid']], df_sample.index[df_sample['is_valid']]"
   ]
  },
  {
   "cell_type": "code",
   "execution_count": null,
   "id": "cfb28121",
   "metadata": {},
   "outputs": [
    {
     "data": {
      "text/plain": [
       "(14839, 979)"
      ]
     },
     "execution_count": null,
     "metadata": {},
     "output_type": "execute_result"
    }
   ],
   "source": [
    "len(train), len(valid)"
   ]
  },
  {
   "cell_type": "markdown",
   "id": "64beb885",
   "metadata": {},
   "source": [
    "Okay, this does not look that bad. Let's now check the remaining three statistics:\n",
    "- Total number of labels\n",
    "- average number of labels per instance, and\n",
    "- average number of instances per labels"
   ]
  },
  {
   "cell_type": "markdown",
   "id": "147919e3",
   "metadata": {},
   "source": [
    "#### **Data Statistics Check #2: Number of labels**:"
   ]
  },
  {
   "cell_type": "markdown",
   "id": "205e0f33",
   "metadata": {},
   "source": [
    "- Original: we had 8922 labels\n",
    "- After Sampling: we have 6594 labels "
   ]
  },
  {
   "cell_type": "code",
   "execution_count": null,
   "id": "5d754e34",
   "metadata": {},
   "outputs": [],
   "source": [
    "label_count = []\n",
    "for labels in df_sample.labels:\n",
    "    label_count.append(len(labels.split(';'))) "
   ]
  },
  {
   "cell_type": "code",
   "execution_count": null,
   "id": "324e216d",
   "metadata": {},
   "outputs": [],
   "source": [
    "df_sample_copy = df_sample.copy()"
   ]
  },
  {
   "cell_type": "code",
   "execution_count": null,
   "id": "806e35de",
   "metadata": {},
   "outputs": [
    {
     "data": {
      "text/html": [
       "<div>\n",
       "<style scoped>\n",
       "    .dataframe tbody tr th:only-of-type {\n",
       "        vertical-align: middle;\n",
       "    }\n",
       "\n",
       "    .dataframe tbody tr th {\n",
       "        vertical-align: top;\n",
       "    }\n",
       "\n",
       "    .dataframe thead th {\n",
       "        text-align: right;\n",
       "    }\n",
       "</style>\n",
       "<table border=\"1\" class=\"dataframe\">\n",
       "  <thead>\n",
       "    <tr style=\"text-align: right;\">\n",
       "      <th></th>\n",
       "      <th>subject_id</th>\n",
       "      <th>hadm_id</th>\n",
       "      <th>text</th>\n",
       "      <th>labels</th>\n",
       "      <th>is_valid</th>\n",
       "      <th>label_count</th>\n",
       "    </tr>\n",
       "  </thead>\n",
       "  <tbody>\n",
       "    <tr>\n",
       "      <th>0</th>\n",
       "      <td>30088</td>\n",
       "      <td>172719</td>\n",
       "      <td>Admission Date:  [**2179-3-7**]              Discharge Date:   [**2179-3-18**]\\n\\nDate of Birth:  [**2121-12-23**]             Sex:   M\\n\\nService: MEDICINE\\n\\nAllergies:\\nIbuprofen\\n\\nAttending:[**First Name3 (LF) 613**]\\nChief Complaint:\\ndyspnea, hyperkalemia\\n\\nMajor Surgical or Invasive Procedure:\\nHemodialysis\\nright Femoral central venous line placement and removal\\n\\n\\nHistory of Present Illness:\\n57 y/o M with hx of ESRD presents after intentionally missing\\ndialysis for last 9 days.  Came to the ED due to the coaxing of\\nhis wife.  Complains of SOB and DOE lasting about the last ...</td>\n",
       "      <td>276.7;585.6;348.39;790.7;427.32;507.0;403.10;825.0;E888.9;300.9;301.9;250.62;357.2;250.42;285.21;278.01;427.31;250.82;V15.81;276.52;707.07;707.22;041.19;39.95;38.93</td>\n",
       "      <td>False</td>\n",
       "      <td>25</td>\n",
       "    </tr>\n",
       "    <tr>\n",
       "      <th>1</th>\n",
       "      <td>22624</td>\n",
       "      <td>138579</td>\n",
       "      <td>Admission Date:  [**2117-1-21**]              Discharge Date:   [**2117-1-28**]\\n\\nDate of Birth:  [**2070-8-1**]             Sex:   M\\n\\nService: MEDICINE\\n\\nAllergies:\\nPatient recorded as having No Known Allergies to Drugs\\n\\nAttending:[**First Name3 (LF) 943**]\\nChief Complaint:\\nBright red blood in stools\\n\\nMajor Surgical or Invasive Procedure:\\nUpper endoscopy\\nColonoscopy\\nTransfusion of platelets and fresh frozen plasma\\n\\n\\nHistory of Present Illness:\\nIn brief, a 46-year-old man with etoh cirrhosis, varices s/p\\nbanding in [**12-9**], HCV not on treatment, who initially presente...</td>\n",
       "      <td>455.5;303.00;571.2;291.81;070.70;284.8;286.7;562.10;571.1;211.2;456.21;305.1;276.8;45.13;45.23;99.05;99.07;96.34</td>\n",
       "      <td>False</td>\n",
       "      <td>18</td>\n",
       "    </tr>\n",
       "    <tr>\n",
       "      <th>2</th>\n",
       "      <td>93593</td>\n",
       "      <td>164601</td>\n",
       "      <td>Admission Date:  [**2161-5-8**]              Discharge Date:   [**2161-5-12**]\\n\\n\\nService: MEDICINE\\n\\nAllergies:\\nPercocet\\n\\nAttending:[**First Name3 (LF) 1115**]\\nChief Complaint:\\nGI bleed / coffee-ground emesis.\\n\\nMajor Surgical or Invasive Procedure:\\nEGD\\nBlood transfusion\\n\\n\\nHistory of Present Illness:\\nPatient is an 87-y/o woman with a history of colon cancer s/p\\nright colectomy who presented today to the emergency room after\\n2 episodes of coffee-ground emesis at her rehab facility.\\nHistory was taken from family members as patient was in\\nsignificant discomfort with the NG...</td>\n",
       "      <td>V10.05;V45.72;V15.82;788.30;531.40;998.59;682.6;438.89;728.87;458.29;564.09;401.9;285.9;294.8;311;272.0;E878.2;45.13</td>\n",
       "      <td>True</td>\n",
       "      <td>18</td>\n",
       "    </tr>\n",
       "    <tr>\n",
       "      <th>3</th>\n",
       "      <td>21976</td>\n",
       "      <td>187519</td>\n",
       "      <td>Admission Date: [**2173-5-10**]        Discharge Date: [**2173-6-13**]\\n\\nDate of Birth:  [**2173-5-10**]        Sex:  M\\n\\nService:  NB\\n\\n\\nHISTORY OF PRESENT ILLNESS:  [**First Name8 (NamePattern2) 16518**] [**Known lastname 3175**] is the first\\nborn of twins at 33-2/7 weeks gestation born to a 34-year-old\\nG2 P1 woman, prenatal screens of blood type O positive,\\nantibody negative, Rubella immune, RPR nonreactive, hepatitis\\nB surface antigen negative, Group B strep status unknown.\\nEstimated date of confinement was [**2173-5-27**]. The\\npregnancy was a spontaneous twin gestation with ...</td>\n",
       "      <td>V31.00;765.17;765.27;770.2;745.5;774.2;779.3;770.6;772.6;770.81;779.81;V50.2;V05.3;V29.0;V18.0;754.81;64.0;93.9;99.15;99.83;99.55</td>\n",
       "      <td>False</td>\n",
       "      <td>21</td>\n",
       "    </tr>\n",
       "    <tr>\n",
       "      <th>4</th>\n",
       "      <td>10676</td>\n",
       "      <td>142446</td>\n",
       "      <td>Admission Date:  [**2118-3-4**]       Discharge Date:  [**2118-3-17**]\\n\\nDate of Birth:   [**2052-5-23**]       Sex:  M\\n\\nService:  CCU\\n\\nHISTORY OF THE PRESENT ILLNESS:  The patient is a 65-year-old\\nwith known CAD who presented to an outside hospital on the\\nday of admission with right upper back pain.  The pain was\\nradiating to the left arm and he relates that this complaint\\nhas been occurring for at least several weeks.  This episode\\nis similar to his previous back pain which has been\\nunrelieved with NSAIDs in the past.  The pain is much worse\\nwith walking and is associated wit...</td>\n",
       "      <td>410.61;785.51;414.01;427.89;401.9;272.4;36.01;36.06;37.61;37.23;88.56;96.72;96.04</td>\n",
       "      <td>False</td>\n",
       "      <td>13</td>\n",
       "    </tr>\n",
       "    <tr>\n",
       "      <th>...</th>\n",
       "      <td>...</td>\n",
       "      <td>...</td>\n",
       "      <td>...</td>\n",
       "      <td>...</td>\n",
       "      <td>...</td>\n",
       "      <td>...</td>\n",
       "    </tr>\n",
       "    <tr>\n",
       "      <th>15813</th>\n",
       "      <td>25009</td>\n",
       "      <td>183327</td>\n",
       "      <td>Admission Date:  [**2133-7-4**]              Discharge Date:   [**2133-7-9**]\\n\\nDate of Birth:  [**2075-3-5**]             Sex:   F\\n\\nService: ORTHOPAEDICS\\n\\nAllergies:\\nXanax\\n\\nAttending:[**First Name3 (LF) 8587**]\\nChief Complaint:\\ns/p Left distal femur hardware failure\\n\\nMajor Surgical or Invasive Procedure:\\n[**2133-7-4**]:  Revision of left distal femur ORIF\\n\\nHistory of Present Illness:\\nMs. [**Known lastname 17025**] is a 58 year old female who had a left\\nsupradcondylar femur fracture repair on [**2133-6-4**].  On [**2133-6-30**] she\\nheard a [**Doctor Last Name **] while se...</td>\n",
       "      <td>996.49;707.06;285.1;707.07;E878.8;V45.81;401.9;428.0;V49.73;458.29;788.5;78.55</td>\n",
       "      <td>False</td>\n",
       "      <td>12</td>\n",
       "    </tr>\n",
       "    <tr>\n",
       "      <th>15814</th>\n",
       "      <td>72230</td>\n",
       "      <td>130354</td>\n",
       "      <td>Admission Date:  [**2200-10-11**]              Discharge Date:   [**2200-10-15**]\\n\\n\\nService: [**Month/Day/Year 662**]\\n\\nAllergies:\\nPenicillins / Shellfish Derived\\n\\nAttending:[**First Name3 (LF) 30**]\\nChief Complaint:\\nshortness of breath, diarrhea\\n\\nMajor Surgical or Invasive Procedure:\\nnone\\n\\nHistory of Present Illness:\\n86 year old female with a past medical history of\\noccipital stroke with memory difficulties, atrial fibrillation,\\nCdiff, dCHF on 2L at home, severe AS, presented with SOB\\nincreasing x 4-5 days. F/C/S/N/V/, diarrhea periodically\\nfoul-smelling.\\n.\\nIn the ED,...</td>\n",
       "      <td>008.45;428.33;427.32;518.0;276.1;427.31;424.1;280.9;493.90;311;416.8;428.0</td>\n",
       "      <td>False</td>\n",
       "      <td>12</td>\n",
       "    </tr>\n",
       "    <tr>\n",
       "      <th>15815</th>\n",
       "      <td>65556</td>\n",
       "      <td>167905</td>\n",
       "      <td>Admission Date:  [**2116-6-8**]              Discharge Date:   [**2116-6-20**]\\n\\nDate of Birth:  [**2056-3-1**]             Sex:   M\\n\\nService: MEDICINE\\n\\nAllergies:\\nLyrica / Lipitor\\n\\nAttending:[**First Name3 (LF) 6565**]\\nChief Complaint:\\npancreatic cancer, with liver mets\\n\\nMajor Surgical or Invasive Procedure:\\nNone\\n\\nHistory of Present Illness:\\n60yoM with h/o DM2, ? CHF, EtOH/polysubstance abuse, homeless,\\nbipolar d/o who is transferred to OMED service from General\\nSurgery for further management of metastatic pancreatic cancer.\\n.\\nHe was admitted to OSH [**2116-5-29**] for...</td>\n",
       "      <td>157.0;415.19;584.9;507.0;197.7;197.0;428.32;276.2;V66.7;428.0;250.02;799.02;E935.2;305.00;305.90;296.80;V43.64;V60.0</td>\n",
       "      <td>False</td>\n",
       "      <td>18</td>\n",
       "    </tr>\n",
       "    <tr>\n",
       "      <th>15816</th>\n",
       "      <td>31398</td>\n",
       "      <td>152973</td>\n",
       "      <td>Admission Date:  [**2196-11-17**]              Discharge Date:   [**2196-11-23**]\\n\\nDate of Birth:  [**2155-3-28**]             Sex:   M\\n\\nService: CARDIOTHORACIC\\n\\nAllergies:\\nPatient recorded as having No Known Allergies to Drugs\\n\\nAttending:[**First Name3 (LF) 1505**]\\nChief Complaint:\\nchest pain\\n\\nMajor Surgical or Invasive Procedure:\\nOPCABx1(svg-RCA)[**11-17**]\\n\\n\\nHistory of Present Illness:\\n41 yo m who presented to OSH with flank pain, found to have\\nureteral calculi, but later developed chest pain. He stated that\\nover past 2 years he had developed chest pain with strenuou...</td>\n",
       "      <td>746.85;592.1;361.9;401.9;V10.87;36.11;14.41</td>\n",
       "      <td>False</td>\n",
       "      <td>7</td>\n",
       "    </tr>\n",
       "    <tr>\n",
       "      <th>15817</th>\n",
       "      <td>2204</td>\n",
       "      <td>194499</td>\n",
       "      <td>Admission Date:  [**2118-8-21**]              Discharge Date:   [**2118-8-24**]\\n\\nDate of Birth:  [**2068-7-28**]             Sex:   M\\n\\nService: NEUROLOGY\\n\\nAllergies:\\nPatient recorded as having No Known Allergies to Drugs\\n\\nAttending:[**First Name3 (LF) 5018**]\\nChief Complaint:\\nconfusion and language problems\\n\\nMajor Surgical or Invasive Procedure:\\ni.v. t-PA\\nTEE\\n\\n\\nHistory of Present Illness:\\nPt is a 50 year old R handed man in his usual state of\\nhealth today when he left home at 12pm today for a bike ride on\\na\\nnew bike. Shortly before 2pm, he was found lying next to his\\...</td>\n",
       "      <td>434.91;272.0;272.4;401.9;303.91;99.1;89.14;88.72</td>\n",
       "      <td>False</td>\n",
       "      <td>8</td>\n",
       "    </tr>\n",
       "  </tbody>\n",
       "</table>\n",
       "<p>15818 rows × 6 columns</p>\n",
       "</div>"
      ],
      "text/plain": [
       "       subject_id  hadm_id  \\\n",
       "0           30088   172719   \n",
       "1           22624   138579   \n",
       "2           93593   164601   \n",
       "3           21976   187519   \n",
       "4           10676   142446   \n",
       "...           ...      ...   \n",
       "15813       25009   183327   \n",
       "15814       72230   130354   \n",
       "15815       65556   167905   \n",
       "15816       31398   152973   \n",
       "15817        2204   194499   \n",
       "\n",
       "                                                                                                                                                                                                                                                                                                                                                                                                                                                                                                                                                                                                                          text  \\\n",
       "0      Admission Date:  [**2179-3-7**]              Discharge Date:   [**2179-3-18**]\\n\\nDate of Birth:  [**2121-12-23**]             Sex:   M\\n\\nService: MEDICINE\\n\\nAllergies:\\nIbuprofen\\n\\nAttending:[**First Name3 (LF) 613**]\\nChief Complaint:\\ndyspnea, hyperkalemia\\n\\nMajor Surgical or Invasive Procedure:\\nHemodialysis\\nright Femoral central venous line placement and removal\\n\\n\\nHistory of Present Illness:\\n57 y/o M with hx of ESRD presents after intentionally missing\\ndialysis for last 9 days.  Came to the ED due to the coaxing of\\nhis wife.  Complains of SOB and DOE lasting about the last ...   \n",
       "1      Admission Date:  [**2117-1-21**]              Discharge Date:   [**2117-1-28**]\\n\\nDate of Birth:  [**2070-8-1**]             Sex:   M\\n\\nService: MEDICINE\\n\\nAllergies:\\nPatient recorded as having No Known Allergies to Drugs\\n\\nAttending:[**First Name3 (LF) 943**]\\nChief Complaint:\\nBright red blood in stools\\n\\nMajor Surgical or Invasive Procedure:\\nUpper endoscopy\\nColonoscopy\\nTransfusion of platelets and fresh frozen plasma\\n\\n\\nHistory of Present Illness:\\nIn brief, a 46-year-old man with etoh cirrhosis, varices s/p\\nbanding in [**12-9**], HCV not on treatment, who initially presente...   \n",
       "2      Admission Date:  [**2161-5-8**]              Discharge Date:   [**2161-5-12**]\\n\\n\\nService: MEDICINE\\n\\nAllergies:\\nPercocet\\n\\nAttending:[**First Name3 (LF) 1115**]\\nChief Complaint:\\nGI bleed / coffee-ground emesis.\\n\\nMajor Surgical or Invasive Procedure:\\nEGD\\nBlood transfusion\\n\\n\\nHistory of Present Illness:\\nPatient is an 87-y/o woman with a history of colon cancer s/p\\nright colectomy who presented today to the emergency room after\\n2 episodes of coffee-ground emesis at her rehab facility.\\nHistory was taken from family members as patient was in\\nsignificant discomfort with the NG...   \n",
       "3      Admission Date: [**2173-5-10**]        Discharge Date: [**2173-6-13**]\\n\\nDate of Birth:  [**2173-5-10**]        Sex:  M\\n\\nService:  NB\\n\\n\\nHISTORY OF PRESENT ILLNESS:  [**First Name8 (NamePattern2) 16518**] [**Known lastname 3175**] is the first\\nborn of twins at 33-2/7 weeks gestation born to a 34-year-old\\nG2 P1 woman, prenatal screens of blood type O positive,\\nantibody negative, Rubella immune, RPR nonreactive, hepatitis\\nB surface antigen negative, Group B strep status unknown.\\nEstimated date of confinement was [**2173-5-27**]. The\\npregnancy was a spontaneous twin gestation with ...   \n",
       "4      Admission Date:  [**2118-3-4**]       Discharge Date:  [**2118-3-17**]\\n\\nDate of Birth:   [**2052-5-23**]       Sex:  M\\n\\nService:  CCU\\n\\nHISTORY OF THE PRESENT ILLNESS:  The patient is a 65-year-old\\nwith known CAD who presented to an outside hospital on the\\nday of admission with right upper back pain.  The pain was\\nradiating to the left arm and he relates that this complaint\\nhas been occurring for at least several weeks.  This episode\\nis similar to his previous back pain which has been\\nunrelieved with NSAIDs in the past.  The pain is much worse\\nwith walking and is associated wit...   \n",
       "...                                                                                                                                                                                                                                                                                                                                                                                                                                                                                                                                                                                                                        ...   \n",
       "15813  Admission Date:  [**2133-7-4**]              Discharge Date:   [**2133-7-9**]\\n\\nDate of Birth:  [**2075-3-5**]             Sex:   F\\n\\nService: ORTHOPAEDICS\\n\\nAllergies:\\nXanax\\n\\nAttending:[**First Name3 (LF) 8587**]\\nChief Complaint:\\ns/p Left distal femur hardware failure\\n\\nMajor Surgical or Invasive Procedure:\\n[**2133-7-4**]:  Revision of left distal femur ORIF\\n\\nHistory of Present Illness:\\nMs. [**Known lastname 17025**] is a 58 year old female who had a left\\nsupradcondylar femur fracture repair on [**2133-6-4**].  On [**2133-6-30**] she\\nheard a [**Doctor Last Name **] while se...   \n",
       "15814  Admission Date:  [**2200-10-11**]              Discharge Date:   [**2200-10-15**]\\n\\n\\nService: [**Month/Day/Year 662**]\\n\\nAllergies:\\nPenicillins / Shellfish Derived\\n\\nAttending:[**First Name3 (LF) 30**]\\nChief Complaint:\\nshortness of breath, diarrhea\\n\\nMajor Surgical or Invasive Procedure:\\nnone\\n\\nHistory of Present Illness:\\n86 year old female with a past medical history of\\noccipital stroke with memory difficulties, atrial fibrillation,\\nCdiff, dCHF on 2L at home, severe AS, presented with SOB\\nincreasing x 4-5 days. F/C/S/N/V/, diarrhea periodically\\nfoul-smelling.\\n.\\nIn the ED,...   \n",
       "15815  Admission Date:  [**2116-6-8**]              Discharge Date:   [**2116-6-20**]\\n\\nDate of Birth:  [**2056-3-1**]             Sex:   M\\n\\nService: MEDICINE\\n\\nAllergies:\\nLyrica / Lipitor\\n\\nAttending:[**First Name3 (LF) 6565**]\\nChief Complaint:\\npancreatic cancer, with liver mets\\n\\nMajor Surgical or Invasive Procedure:\\nNone\\n\\nHistory of Present Illness:\\n60yoM with h/o DM2, ? CHF, EtOH/polysubstance abuse, homeless,\\nbipolar d/o who is transferred to OMED service from General\\nSurgery for further management of metastatic pancreatic cancer.\\n.\\nHe was admitted to OSH [**2116-5-29**] for...   \n",
       "15816  Admission Date:  [**2196-11-17**]              Discharge Date:   [**2196-11-23**]\\n\\nDate of Birth:  [**2155-3-28**]             Sex:   M\\n\\nService: CARDIOTHORACIC\\n\\nAllergies:\\nPatient recorded as having No Known Allergies to Drugs\\n\\nAttending:[**First Name3 (LF) 1505**]\\nChief Complaint:\\nchest pain\\n\\nMajor Surgical or Invasive Procedure:\\nOPCABx1(svg-RCA)[**11-17**]\\n\\n\\nHistory of Present Illness:\\n41 yo m who presented to OSH with flank pain, found to have\\nureteral calculi, but later developed chest pain. He stated that\\nover past 2 years he had developed chest pain with strenuou...   \n",
       "15817  Admission Date:  [**2118-8-21**]              Discharge Date:   [**2118-8-24**]\\n\\nDate of Birth:  [**2068-7-28**]             Sex:   M\\n\\nService: NEUROLOGY\\n\\nAllergies:\\nPatient recorded as having No Known Allergies to Drugs\\n\\nAttending:[**First Name3 (LF) 5018**]\\nChief Complaint:\\nconfusion and language problems\\n\\nMajor Surgical or Invasive Procedure:\\ni.v. t-PA\\nTEE\\n\\n\\nHistory of Present Illness:\\nPt is a 50 year old R handed man in his usual state of\\nhealth today when he left home at 12pm today for a bike ride on\\na\\nnew bike. Shortly before 2pm, he was found lying next to his\\...   \n",
       "\n",
       "                                                                                                                                                                     labels  \\\n",
       "0      276.7;585.6;348.39;790.7;427.32;507.0;403.10;825.0;E888.9;300.9;301.9;250.62;357.2;250.42;285.21;278.01;427.31;250.82;V15.81;276.52;707.07;707.22;041.19;39.95;38.93   \n",
       "1                                                          455.5;303.00;571.2;291.81;070.70;284.8;286.7;562.10;571.1;211.2;456.21;305.1;276.8;45.13;45.23;99.05;99.07;96.34   \n",
       "2                                                      V10.05;V45.72;V15.82;788.30;531.40;998.59;682.6;438.89;728.87;458.29;564.09;401.9;285.9;294.8;311;272.0;E878.2;45.13   \n",
       "3                                         V31.00;765.17;765.27;770.2;745.5;774.2;779.3;770.6;772.6;770.81;779.81;V50.2;V05.3;V29.0;V18.0;754.81;64.0;93.9;99.15;99.83;99.55   \n",
       "4                                                                                         410.61;785.51;414.01;427.89;401.9;272.4;36.01;36.06;37.61;37.23;88.56;96.72;96.04   \n",
       "...                                                                                                                                                                     ...   \n",
       "15813                                                                                        996.49;707.06;285.1;707.07;E878.8;V45.81;401.9;428.0;V49.73;458.29;788.5;78.55   \n",
       "15814                                                                                            008.45;428.33;427.32;518.0;276.1;427.31;424.1;280.9;493.90;311;416.8;428.0   \n",
       "15815                                                  157.0;415.19;584.9;507.0;197.7;197.0;428.32;276.2;V66.7;428.0;250.02;799.02;E935.2;305.00;305.90;296.80;V43.64;V60.0   \n",
       "15816                                                                                                                           746.85;592.1;361.9;401.9;V10.87;36.11;14.41   \n",
       "15817                                                                                                                      434.91;272.0;272.4;401.9;303.91;99.1;89.14;88.72   \n",
       "\n",
       "       is_valid  label_count  \n",
       "0         False           25  \n",
       "1         False           18  \n",
       "2          True           18  \n",
       "3         False           21  \n",
       "4         False           13  \n",
       "...         ...          ...  \n",
       "15813     False           12  \n",
       "15814     False           12  \n",
       "15815     False           18  \n",
       "15816     False            7  \n",
       "15817     False            8  \n",
       "\n",
       "[15818 rows x 6 columns]"
      ]
     },
     "execution_count": null,
     "metadata": {},
     "output_type": "execute_result"
    }
   ],
   "source": [
    "df_sample_copy['label_count'] = label_count\n",
    "df_sample_copy"
   ]
  },
  {
   "cell_type": "code",
   "execution_count": null,
   "id": "afa673a2",
   "metadata": {},
   "outputs": [
    {
     "name": "stderr",
     "output_type": "stream",
     "text": [
      "/home/ubuntu/miniconda3/envs/menv/lib/python3.9/site-packages/seaborn/distributions.py:2619: FutureWarning: `distplot` is a deprecated function and will be removed in a future version. Please adapt your code to use either `displot` (a figure-level function with similar flexibility) or `histplot` (an axes-level function for histograms).\n",
      "  warnings.warn(msg, FutureWarning)\n"
     ]
    },
    {
     "data": {
      "image/png": "[encoded data removed]",
      "text/plain": [
       "<Figure size 432x288 with 1 Axes>"
      ]
     },
     "metadata": {
      "needs_background": "light"
     },
     "output_type": "display_data"
    }
   ],
   "source": [
    "import seaborn as sns\n",
    "sns.distplot(df_sample_copy.label_count, bins=100, color='b');"
   ]
  },
  {
   "cell_type": "code",
   "execution_count": null,
   "id": "9f758988",
   "metadata": {},
   "outputs": [],
   "source": [
    "sample_label_freq = Counter()\n",
    "for row in df_sample.itertuples():\n",
    "    labels = row.labels.split(';')\n",
    "    sample_label_freq.update(labels)"
   ]
  },
  {
   "cell_type": "code",
   "execution_count": null,
   "id": "5df077f1",
   "metadata": {},
   "outputs": [
    {
     "data": {
      "text/plain": [
       "6594"
      ]
     },
     "execution_count": null,
     "metadata": {},
     "output_type": "execute_result"
    }
   ],
   "source": [
    "len(sample_label_freq)"
   ]
  },
  {
   "cell_type": "code",
   "execution_count": null,
   "id": "556038c4",
   "metadata": {},
   "outputs": [],
   "source": [
    "labels_sorted = sorted(sample_label_freq.items(), key=lambda item: item[1], reverse=True)"
   ]
  },
  {
   "cell_type": "code",
   "execution_count": null,
   "id": "0d789155",
   "metadata": {},
   "outputs": [
    {
     "data": {
      "text/plain": [
       "[('401.9', 5975),\n",
       " ('38.93', 4345),\n",
       " ('428.0', 3837),\n",
       " ('427.31', 3801),\n",
       " ('414.01', 3627),\n",
       " ('96.04', 3026),\n",
       " ('96.6', 2782),\n",
       " ('584.9', 2685),\n",
       " ('96.71', 2674),\n",
       " ('250.00', 2619),\n",
       " ('272.4', 2522),\n",
       " ('518.81', 2164),\n",
       " ('99.04', 2136),\n",
       " ('39.61', 2035),\n",
       " ('599.0', 2010),\n",
       " ('530.81', 1850),\n",
       " ('96.72', 1759),\n",
       " ('272.0', 1698),\n",
       " ('285.9', 1607),\n",
       " ('88.56', 1495)]"
      ]
     },
     "execution_count": null,
     "metadata": {},
     "output_type": "execute_result"
    }
   ],
   "source": [
    "labels_sorted[:20]"
   ]
  },
  {
   "cell_type": "code",
   "execution_count": null,
   "id": "2d33e7ec",
   "metadata": {},
   "outputs": [
    {
     "data": {
      "text/plain": [
       "((#6594) ['401.9','38.93','428.0','427.31','414.01','96.04','96.6','584.9','96.71','250.00'...],\n",
       " (#6594) [5975,4345,3837,3801,3627,3026,2782,2685,2674,2619...])"
      ]
     },
     "execution_count": null,
     "metadata": {},
     "output_type": "execute_result"
    }
   ],
   "source": [
    "ranked_labels = L(labels_sorted).itemgot(0)\n",
    "ranked_freqs = L(labels_sorted).itemgot(1)\n",
    "ranked_labels, ranked_freqs"
   ]
  },
  {
   "cell_type": "code",
   "execution_count": null,
   "id": "4116986c",
   "metadata": {},
   "outputs": [
    {
     "data": {
      "image/png": "[encoded data removed]",
      "text/plain": [
       "<Figure size 432x288 with 1 Axes>"
      ]
     },
     "metadata": {
      "needs_background": "light"
     },
     "output_type": "display_data"
    }
   ],
   "source": [
    "fig = plt.figure()\n",
    "ax = fig.add_subplot(1,1,1)\n",
    "ax.plot(ranked_freqs)\n",
    "ax.set_xlabel('Code rank by frequency')\n",
    "ax.set_ylabel('Note count')\n",
    "ax.set_yscale('log');"
   ]
  },
  {
   "cell_type": "markdown",
   "id": "b9a587bd",
   "metadata": {},
   "source": [
    "#### Data Satatistics Check #3: Computing the min label freq for each text:"
   ]
  },
  {
   "cell_type": "code",
   "execution_count": null,
   "id": "4bed1905",
   "metadata": {},
   "outputs": [],
   "source": [
    "df_sample_copy = df_sample.copy()"
   ]
  },
  {
   "cell_type": "code",
   "execution_count": null,
   "id": "8eb08cc8",
   "metadata": {},
   "outputs": [
    {
     "data": {
      "text/html": [
       "<div>\n",
       "<style scoped>\n",
       "    .dataframe tbody tr th:only-of-type {\n",
       "        vertical-align: middle;\n",
       "    }\n",
       "\n",
       "    .dataframe tbody tr th {\n",
       "        vertical-align: top;\n",
       "    }\n",
       "\n",
       "    .dataframe thead th {\n",
       "        text-align: right;\n",
       "    }\n",
       "</style>\n",
       "<table border=\"1\" class=\"dataframe\">\n",
       "  <thead>\n",
       "    <tr style=\"text-align: right;\">\n",
       "      <th></th>\n",
       "      <th>subject_id</th>\n",
       "      <th>hadm_id</th>\n",
       "      <th>text</th>\n",
       "      <th>labels</th>\n",
       "      <th>is_valid</th>\n",
       "    </tr>\n",
       "  </thead>\n",
       "  <tbody>\n",
       "    <tr>\n",
       "      <th>0</th>\n",
       "      <td>30088</td>\n",
       "      <td>172719</td>\n",
       "      <td>Admission Date:  [**2179-3-7**]              Discharge Date:   [**2179-3-18**]\\n\\nDate of Birth:  [**2121-12-23**]             Sex:   M\\n\\nService: MEDICINE\\n\\nAllergies:\\nIbuprofen\\n\\nAttending:[**First Name3 (LF) 613**]\\nChief Complaint:\\ndyspnea, hyperkalemia\\n\\nMajor Surgical or Invasive Procedure:\\nHemodialysis\\nright Femoral central venous line placement and removal\\n\\n\\nHistory of Present Illness:\\n57 y/o M with hx of ESRD presents after intentionally missing\\ndialysis for last 9 days.  Came to the ED due to the coaxing of\\nhis wife.  Complains of SOB and DOE lasting about the last ...</td>\n",
       "      <td>276.7;585.6;348.39;790.7;427.32;507.0;403.10;825.0;E888.9;300.9;301.9;250.62;357.2;250.42;285.21;278.01;427.31;250.82;V15.81;276.52;707.07;707.22;041.19;39.95;38.93</td>\n",
       "      <td>False</td>\n",
       "    </tr>\n",
       "    <tr>\n",
       "      <th>1</th>\n",
       "      <td>22624</td>\n",
       "      <td>138579</td>\n",
       "      <td>Admission Date:  [**2117-1-21**]              Discharge Date:   [**2117-1-28**]\\n\\nDate of Birth:  [**2070-8-1**]             Sex:   M\\n\\nService: MEDICINE\\n\\nAllergies:\\nPatient recorded as having No Known Allergies to Drugs\\n\\nAttending:[**First Name3 (LF) 943**]\\nChief Complaint:\\nBright red blood in stools\\n\\nMajor Surgical or Invasive Procedure:\\nUpper endoscopy\\nColonoscopy\\nTransfusion of platelets and fresh frozen plasma\\n\\n\\nHistory of Present Illness:\\nIn brief, a 46-year-old man with etoh cirrhosis, varices s/p\\nbanding in [**12-9**], HCV not on treatment, who initially presente...</td>\n",
       "      <td>455.5;303.00;571.2;291.81;070.70;284.8;286.7;562.10;571.1;211.2;456.21;305.1;276.8;45.13;45.23;99.05;99.07;96.34</td>\n",
       "      <td>False</td>\n",
       "    </tr>\n",
       "    <tr>\n",
       "      <th>2</th>\n",
       "      <td>93593</td>\n",
       "      <td>164601</td>\n",
       "      <td>Admission Date:  [**2161-5-8**]              Discharge Date:   [**2161-5-12**]\\n\\n\\nService: MEDICINE\\n\\nAllergies:\\nPercocet\\n\\nAttending:[**First Name3 (LF) 1115**]\\nChief Complaint:\\nGI bleed / coffee-ground emesis.\\n\\nMajor Surgical or Invasive Procedure:\\nEGD\\nBlood transfusion\\n\\n\\nHistory of Present Illness:\\nPatient is an 87-y/o woman with a history of colon cancer s/p\\nright colectomy who presented today to the emergency room after\\n2 episodes of coffee-ground emesis at her rehab facility.\\nHistory was taken from family members as patient was in\\nsignificant discomfort with the NG...</td>\n",
       "      <td>V10.05;V45.72;V15.82;788.30;531.40;998.59;682.6;438.89;728.87;458.29;564.09;401.9;285.9;294.8;311;272.0;E878.2;45.13</td>\n",
       "      <td>True</td>\n",
       "    </tr>\n",
       "  </tbody>\n",
       "</table>\n",
       "</div>"
      ],
      "text/plain": [
       "   subject_id  hadm_id  \\\n",
       "0       30088   172719   \n",
       "1       22624   138579   \n",
       "2       93593   164601   \n",
       "\n",
       "                                                                                                                                                                                                                                                                                                                                                                                                                                                                                                                                                                                                                      text  \\\n",
       "0  Admission Date:  [**2179-3-7**]              Discharge Date:   [**2179-3-18**]\\n\\nDate of Birth:  [**2121-12-23**]             Sex:   M\\n\\nService: MEDICINE\\n\\nAllergies:\\nIbuprofen\\n\\nAttending:[**First Name3 (LF) 613**]\\nChief Complaint:\\ndyspnea, hyperkalemia\\n\\nMajor Surgical or Invasive Procedure:\\nHemodialysis\\nright Femoral central venous line placement and removal\\n\\n\\nHistory of Present Illness:\\n57 y/o M with hx of ESRD presents after intentionally missing\\ndialysis for last 9 days.  Came to the ED due to the coaxing of\\nhis wife.  Complains of SOB and DOE lasting about the last ...   \n",
       "1  Admission Date:  [**2117-1-21**]              Discharge Date:   [**2117-1-28**]\\n\\nDate of Birth:  [**2070-8-1**]             Sex:   M\\n\\nService: MEDICINE\\n\\nAllergies:\\nPatient recorded as having No Known Allergies to Drugs\\n\\nAttending:[**First Name3 (LF) 943**]\\nChief Complaint:\\nBright red blood in stools\\n\\nMajor Surgical or Invasive Procedure:\\nUpper endoscopy\\nColonoscopy\\nTransfusion of platelets and fresh frozen plasma\\n\\n\\nHistory of Present Illness:\\nIn brief, a 46-year-old man with etoh cirrhosis, varices s/p\\nbanding in [**12-9**], HCV not on treatment, who initially presente...   \n",
       "2  Admission Date:  [**2161-5-8**]              Discharge Date:   [**2161-5-12**]\\n\\n\\nService: MEDICINE\\n\\nAllergies:\\nPercocet\\n\\nAttending:[**First Name3 (LF) 1115**]\\nChief Complaint:\\nGI bleed / coffee-ground emesis.\\n\\nMajor Surgical or Invasive Procedure:\\nEGD\\nBlood transfusion\\n\\n\\nHistory of Present Illness:\\nPatient is an 87-y/o woman with a history of colon cancer s/p\\nright colectomy who presented today to the emergency room after\\n2 episodes of coffee-ground emesis at her rehab facility.\\nHistory was taken from family members as patient was in\\nsignificant discomfort with the NG...   \n",
       "\n",
       "                                                                                                                                                                 labels  \\\n",
       "0  276.7;585.6;348.39;790.7;427.32;507.0;403.10;825.0;E888.9;300.9;301.9;250.62;357.2;250.42;285.21;278.01;427.31;250.82;V15.81;276.52;707.07;707.22;041.19;39.95;38.93   \n",
       "1                                                      455.5;303.00;571.2;291.81;070.70;284.8;286.7;562.10;571.1;211.2;456.21;305.1;276.8;45.13;45.23;99.05;99.07;96.34   \n",
       "2                                                  V10.05;V45.72;V15.82;788.30;531.40;998.59;682.6;438.89;728.87;458.29;564.09;401.9;285.9;294.8;311;272.0;E878.2;45.13   \n",
       "\n",
       "   is_valid  \n",
       "0     False  \n",
       "1     False  \n",
       "2      True  "
      ]
     },
     "execution_count": null,
     "metadata": {},
     "output_type": "execute_result"
    }
   ],
   "source": [
    "df_sample_copy.head(3)"
   ]
  },
  {
   "cell_type": "code",
   "execution_count": null,
   "id": "56db222d",
   "metadata": {},
   "outputs": [
    {
     "data": {
      "text/html": [
       "<div>\n",
       "<style scoped>\n",
       "    .dataframe tbody tr th:only-of-type {\n",
       "        vertical-align: middle;\n",
       "    }\n",
       "\n",
       "    .dataframe tbody tr th {\n",
       "        vertical-align: top;\n",
       "    }\n",
       "\n",
       "    .dataframe thead th {\n",
       "        text-align: right;\n",
       "    }\n",
       "</style>\n",
       "<table border=\"1\" class=\"dataframe\">\n",
       "  <thead>\n",
       "    <tr style=\"text-align: right;\">\n",
       "      <th></th>\n",
       "      <th>subject_id</th>\n",
       "      <th>hadm_id</th>\n",
       "      <th>text</th>\n",
       "      <th>labels</th>\n",
       "      <th>is_valid</th>\n",
       "      <th>min_code_freq</th>\n",
       "      <th>max_code_freq</th>\n",
       "      <th>median_code_freq</th>\n",
       "    </tr>\n",
       "  </thead>\n",
       "  <tbody>\n",
       "    <tr>\n",
       "      <th>0</th>\n",
       "      <td>30088</td>\n",
       "      <td>172719</td>\n",
       "      <td>Admission Date:  [**2179-3-7**]              Discharge Date:   [**2179-3-18**]\\n\\nDate of Birth:  [**2121-12-23**]             Sex:   M\\n\\nService: MEDICINE\\n\\nAllergies:\\nIbuprofen\\n\\nAttending:[**First Name3 (LF) 613**]\\nChief Complaint:\\ndyspnea, hyperkalemia\\n\\nMajor Surgical or Invasive Procedure:\\nHemodialysis\\nright Femoral central venous line placement and removal\\n\\n\\nHistory of Present Illness:\\n57 y/o M with hx of ESRD presents after intentionally missing\\ndialysis for last 9 days.  Came to the ED due to the coaxing of\\nhis wife.  Complains of SOB and DOE lasting about the last ...</td>\n",
       "      <td>276.7;585.6;348.39;790.7;427.32;507.0;403.10;825.0;E888.9;300.9;301.9;250.62;357.2;250.42;285.21;278.01;427.31;250.82;V15.81;276.52;707.07;707.22;041.19;39.95;38.93</td>\n",
       "      <td>False</td>\n",
       "      <td>4</td>\n",
       "      <td>4345</td>\n",
       "      <td>1052.8</td>\n",
       "    </tr>\n",
       "    <tr>\n",
       "      <th>1</th>\n",
       "      <td>22624</td>\n",
       "      <td>138579</td>\n",
       "      <td>Admission Date:  [**2117-1-21**]              Discharge Date:   [**2117-1-28**]\\n\\nDate of Birth:  [**2070-8-1**]             Sex:   M\\n\\nService: MEDICINE\\n\\nAllergies:\\nPatient recorded as having No Known Allergies to Drugs\\n\\nAttending:[**First Name3 (LF) 943**]\\nChief Complaint:\\nBright red blood in stools\\n\\nMajor Surgical or Invasive Procedure:\\nUpper endoscopy\\nColonoscopy\\nTransfusion of platelets and fresh frozen plasma\\n\\n\\nHistory of Present Illness:\\nIn brief, a 46-year-old man with etoh cirrhosis, varices s/p\\nbanding in [**12-9**], HCV not on treatment, who initially presente...</td>\n",
       "      <td>455.5;303.00;571.2;291.81;070.70;284.8;286.7;562.10;571.1;211.2;456.21;305.1;276.8;45.13;45.23;99.05;99.07;96.34</td>\n",
       "      <td>False</td>\n",
       "      <td>16</td>\n",
       "      <td>1003</td>\n",
       "      <td>659.0</td>\n",
       "    </tr>\n",
       "    <tr>\n",
       "      <th>2</th>\n",
       "      <td>93593</td>\n",
       "      <td>164601</td>\n",
       "      <td>Admission Date:  [**2161-5-8**]              Discharge Date:   [**2161-5-12**]\\n\\n\\nService: MEDICINE\\n\\nAllergies:\\nPercocet\\n\\nAttending:[**First Name3 (LF) 1115**]\\nChief Complaint:\\nGI bleed / coffee-ground emesis.\\n\\nMajor Surgical or Invasive Procedure:\\nEGD\\nBlood transfusion\\n\\n\\nHistory of Present Illness:\\nPatient is an 87-y/o woman with a history of colon cancer s/p\\nright colectomy who presented today to the emergency room after\\n2 episodes of coffee-ground emesis at her rehab facility.\\nHistory was taken from family members as patient was in\\nsignificant discomfort with the NG...</td>\n",
       "      <td>V10.05;V45.72;V15.82;788.30;531.40;998.59;682.6;438.89;728.87;458.29;564.09;401.9;285.9;294.8;311;272.0;E878.2;45.13</td>\n",
       "      <td>True</td>\n",
       "      <td>34</td>\n",
       "      <td>5975</td>\n",
       "      <td>1634.3</td>\n",
       "    </tr>\n",
       "    <tr>\n",
       "      <th>3</th>\n",
       "      <td>21976</td>\n",
       "      <td>187519</td>\n",
       "      <td>Admission Date: [**2173-5-10**]        Discharge Date: [**2173-6-13**]\\n\\nDate of Birth:  [**2173-5-10**]        Sex:  M\\n\\nService:  NB\\n\\n\\nHISTORY OF PRESENT ILLNESS:  [**First Name8 (NamePattern2) 16518**] [**Known lastname 3175**] is the first\\nborn of twins at 33-2/7 weeks gestation born to a 34-year-old\\nG2 P1 woman, prenatal screens of blood type O positive,\\nantibody negative, Rubella immune, RPR nonreactive, hepatitis\\nB surface antigen negative, Group B strep status unknown.\\nEstimated date of confinement was [**2173-5-27**]. The\\npregnancy was a spontaneous twin gestation with ...</td>\n",
       "      <td>V31.00;765.17;765.27;770.2;745.5;774.2;779.3;770.6;772.6;770.81;779.81;V50.2;V05.3;V29.0;V18.0;754.81;64.0;93.9;99.15;99.83;99.55</td>\n",
       "      <td>False</td>\n",
       "      <td>1</td>\n",
       "      <td>1281</td>\n",
       "      <td>715.0</td>\n",
       "    </tr>\n",
       "    <tr>\n",
       "      <th>4</th>\n",
       "      <td>10676</td>\n",
       "      <td>142446</td>\n",
       "      <td>Admission Date:  [**2118-3-4**]       Discharge Date:  [**2118-3-17**]\\n\\nDate of Birth:   [**2052-5-23**]       Sex:  M\\n\\nService:  CCU\\n\\nHISTORY OF THE PRESENT ILLNESS:  The patient is a 65-year-old\\nwith known CAD who presented to an outside hospital on the\\nday of admission with right upper back pain.  The pain was\\nradiating to the left arm and he relates that this complaint\\nhas been occurring for at least several weeks.  This episode\\nis similar to his previous back pain which has been\\nunrelieved with NSAIDs in the past.  The pain is much worse\\nwith walking and is associated wit...</td>\n",
       "      <td>410.61;785.51;414.01;427.89;401.9;272.4;36.01;36.06;37.61;37.23;88.56;96.72;96.04</td>\n",
       "      <td>False</td>\n",
       "      <td>7</td>\n",
       "      <td>5975</td>\n",
       "      <td>3506.8</td>\n",
       "    </tr>\n",
       "    <tr>\n",
       "      <th>...</th>\n",
       "      <td>...</td>\n",
       "      <td>...</td>\n",
       "      <td>...</td>\n",
       "      <td>...</td>\n",
       "      <td>...</td>\n",
       "      <td>...</td>\n",
       "      <td>...</td>\n",
       "      <td>...</td>\n",
       "    </tr>\n",
       "    <tr>\n",
       "      <th>15813</th>\n",
       "      <td>25009</td>\n",
       "      <td>183327</td>\n",
       "      <td>Admission Date:  [**2133-7-4**]              Discharge Date:   [**2133-7-9**]\\n\\nDate of Birth:  [**2075-3-5**]             Sex:   F\\n\\nService: ORTHOPAEDICS\\n\\nAllergies:\\nXanax\\n\\nAttending:[**First Name3 (LF) 8587**]\\nChief Complaint:\\ns/p Left distal femur hardware failure\\n\\nMajor Surgical or Invasive Procedure:\\n[**2133-7-4**]:  Revision of left distal femur ORIF\\n\\nHistory of Present Illness:\\nMs. [**Known lastname 17025**] is a 58 year old female who had a left\\nsupradcondylar femur fracture repair on [**2133-6-4**].  On [**2133-6-30**] she\\nheard a [**Doctor Last Name **] while se...</td>\n",
       "      <td>996.49;707.06;285.1;707.07;E878.8;V45.81;401.9;428.0;V49.73;458.29;788.5;78.55</td>\n",
       "      <td>False</td>\n",
       "      <td>9</td>\n",
       "      <td>5975</td>\n",
       "      <td>3585.9</td>\n",
       "    </tr>\n",
       "    <tr>\n",
       "      <th>15814</th>\n",
       "      <td>72230</td>\n",
       "      <td>130354</td>\n",
       "      <td>Admission Date:  [**2200-10-11**]              Discharge Date:   [**2200-10-15**]\\n\\n\\nService: [**Month/Day/Year 662**]\\n\\nAllergies:\\nPenicillins / Shellfish Derived\\n\\nAttending:[**First Name3 (LF) 30**]\\nChief Complaint:\\nshortness of breath, diarrhea\\n\\nMajor Surgical or Invasive Procedure:\\nnone\\n\\nHistory of Present Illness:\\n86 year old female with a past medical history of\\noccipital stroke with memory difficulties, atrial fibrillation,\\nCdiff, dCHF on 2L at home, severe AS, presented with SOB\\nincreasing x 4-5 days. F/C/S/N/V/, diarrhea periodically\\nfoul-smelling.\\n.\\nIn the ED,...</td>\n",
       "      <td>008.45;428.33;427.32;518.0;276.1;427.31;424.1;280.9;493.90;311;416.8;428.0</td>\n",
       "      <td>False</td>\n",
       "      <td>345</td>\n",
       "      <td>3837</td>\n",
       "      <td>3523.5</td>\n",
       "    </tr>\n",
       "    <tr>\n",
       "      <th>15815</th>\n",
       "      <td>65556</td>\n",
       "      <td>167905</td>\n",
       "      <td>Admission Date:  [**2116-6-8**]              Discharge Date:   [**2116-6-20**]\\n\\nDate of Birth:  [**2056-3-1**]             Sex:   M\\n\\nService: MEDICINE\\n\\nAllergies:\\nLyrica / Lipitor\\n\\nAttending:[**First Name3 (LF) 6565**]\\nChief Complaint:\\npancreatic cancer, with liver mets\\n\\nMajor Surgical or Invasive Procedure:\\nNone\\n\\nHistory of Present Illness:\\n60yoM with h/o DM2, ? CHF, EtOH/polysubstance abuse, homeless,\\nbipolar d/o who is transferred to OMED service from General\\nSurgery for further management of metastatic pancreatic cancer.\\n.\\nHe was admitted to OSH [**2116-5-29**] for...</td>\n",
       "      <td>157.0;415.19;584.9;507.0;197.7;197.0;428.32;276.2;V66.7;428.0;250.02;799.02;E935.2;305.00;305.90;296.80;V43.64;V60.0</td>\n",
       "      <td>False</td>\n",
       "      <td>39</td>\n",
       "      <td>3837</td>\n",
       "      <td>1742.1</td>\n",
       "    </tr>\n",
       "    <tr>\n",
       "      <th>15816</th>\n",
       "      <td>31398</td>\n",
       "      <td>152973</td>\n",
       "      <td>Admission Date:  [**2196-11-17**]              Discharge Date:   [**2196-11-23**]\\n\\nDate of Birth:  [**2155-3-28**]             Sex:   M\\n\\nService: CARDIOTHORACIC\\n\\nAllergies:\\nPatient recorded as having No Known Allergies to Drugs\\n\\nAttending:[**First Name3 (LF) 1505**]\\nChief Complaint:\\nchest pain\\n\\nMajor Surgical or Invasive Procedure:\\nOPCABx1(svg-RCA)[**11-17**]\\n\\n\\nHistory of Present Illness:\\n41 yo m who presented to OSH with flank pain, found to have\\nureteral calculi, but later developed chest pain. He stated that\\nover past 2 years he had developed chest pain with strenuou...</td>\n",
       "      <td>746.85;592.1;361.9;401.9;V10.87;36.11;14.41</td>\n",
       "      <td>False</td>\n",
       "      <td>1</td>\n",
       "      <td>5975</td>\n",
       "      <td>2565.2</td>\n",
       "    </tr>\n",
       "    <tr>\n",
       "      <th>15817</th>\n",
       "      <td>2204</td>\n",
       "      <td>194499</td>\n",
       "      <td>Admission Date:  [**2118-8-21**]              Discharge Date:   [**2118-8-24**]\\n\\nDate of Birth:  [**2068-7-28**]             Sex:   M\\n\\nService: NEUROLOGY\\n\\nAllergies:\\nPatient recorded as having No Known Allergies to Drugs\\n\\nAttending:[**First Name3 (LF) 5018**]\\nChief Complaint:\\nconfusion and language problems\\n\\nMajor Surgical or Invasive Procedure:\\ni.v. t-PA\\nTEE\\n\\n\\nHistory of Present Illness:\\nPt is a 50 year old R handed man in his usual state of\\nhealth today when he left home at 12pm today for a bike ride on\\na\\nnew bike. Shortly before 2pm, he was found lying next to his\\...</td>\n",
       "      <td>434.91;272.0;272.4;401.9;303.91;99.1;89.14;88.72</td>\n",
       "      <td>False</td>\n",
       "      <td>23</td>\n",
       "      <td>5975</td>\n",
       "      <td>3557.9</td>\n",
       "    </tr>\n",
       "  </tbody>\n",
       "</table>\n",
       "<p>15818 rows × 8 columns</p>\n",
       "</div>"
      ],
      "text/plain": [
       "       subject_id  hadm_id  \\\n",
       "0           30088   172719   \n",
       "1           22624   138579   \n",
       "2           93593   164601   \n",
       "3           21976   187519   \n",
       "4           10676   142446   \n",
       "...           ...      ...   \n",
       "15813       25009   183327   \n",
       "15814       72230   130354   \n",
       "15815       65556   167905   \n",
       "15816       31398   152973   \n",
       "15817        2204   194499   \n",
       "\n",
       "                                                                                                                                                                                                                                                                                                                                                                                                                                                                                                                                                                                                                          text  \\\n",
       "0      Admission Date:  [**2179-3-7**]              Discharge Date:   [**2179-3-18**]\\n\\nDate of Birth:  [**2121-12-23**]             Sex:   M\\n\\nService: MEDICINE\\n\\nAllergies:\\nIbuprofen\\n\\nAttending:[**First Name3 (LF) 613**]\\nChief Complaint:\\ndyspnea, hyperkalemia\\n\\nMajor Surgical or Invasive Procedure:\\nHemodialysis\\nright Femoral central venous line placement and removal\\n\\n\\nHistory of Present Illness:\\n57 y/o M with hx of ESRD presents after intentionally missing\\ndialysis for last 9 days.  Came to the ED due to the coaxing of\\nhis wife.  Complains of SOB and DOE lasting about the last ...   \n",
       "1      Admission Date:  [**2117-1-21**]              Discharge Date:   [**2117-1-28**]\\n\\nDate of Birth:  [**2070-8-1**]             Sex:   M\\n\\nService: MEDICINE\\n\\nAllergies:\\nPatient recorded as having No Known Allergies to Drugs\\n\\nAttending:[**First Name3 (LF) 943**]\\nChief Complaint:\\nBright red blood in stools\\n\\nMajor Surgical or Invasive Procedure:\\nUpper endoscopy\\nColonoscopy\\nTransfusion of platelets and fresh frozen plasma\\n\\n\\nHistory of Present Illness:\\nIn brief, a 46-year-old man with etoh cirrhosis, varices s/p\\nbanding in [**12-9**], HCV not on treatment, who initially presente...   \n",
       "2      Admission Date:  [**2161-5-8**]              Discharge Date:   [**2161-5-12**]\\n\\n\\nService: MEDICINE\\n\\nAllergies:\\nPercocet\\n\\nAttending:[**First Name3 (LF) 1115**]\\nChief Complaint:\\nGI bleed / coffee-ground emesis.\\n\\nMajor Surgical or Invasive Procedure:\\nEGD\\nBlood transfusion\\n\\n\\nHistory of Present Illness:\\nPatient is an 87-y/o woman with a history of colon cancer s/p\\nright colectomy who presented today to the emergency room after\\n2 episodes of coffee-ground emesis at her rehab facility.\\nHistory was taken from family members as patient was in\\nsignificant discomfort with the NG...   \n",
       "3      Admission Date: [**2173-5-10**]        Discharge Date: [**2173-6-13**]\\n\\nDate of Birth:  [**2173-5-10**]        Sex:  M\\n\\nService:  NB\\n\\n\\nHISTORY OF PRESENT ILLNESS:  [**First Name8 (NamePattern2) 16518**] [**Known lastname 3175**] is the first\\nborn of twins at 33-2/7 weeks gestation born to a 34-year-old\\nG2 P1 woman, prenatal screens of blood type O positive,\\nantibody negative, Rubella immune, RPR nonreactive, hepatitis\\nB surface antigen negative, Group B strep status unknown.\\nEstimated date of confinement was [**2173-5-27**]. The\\npregnancy was a spontaneous twin gestation with ...   \n",
       "4      Admission Date:  [**2118-3-4**]       Discharge Date:  [**2118-3-17**]\\n\\nDate of Birth:   [**2052-5-23**]       Sex:  M\\n\\nService:  CCU\\n\\nHISTORY OF THE PRESENT ILLNESS:  The patient is a 65-year-old\\nwith known CAD who presented to an outside hospital on the\\nday of admission with right upper back pain.  The pain was\\nradiating to the left arm and he relates that this complaint\\nhas been occurring for at least several weeks.  This episode\\nis similar to his previous back pain which has been\\nunrelieved with NSAIDs in the past.  The pain is much worse\\nwith walking and is associated wit...   \n",
       "...                                                                                                                                                                                                                                                                                                                                                                                                                                                                                                                                                                                                                        ...   \n",
       "15813  Admission Date:  [**2133-7-4**]              Discharge Date:   [**2133-7-9**]\\n\\nDate of Birth:  [**2075-3-5**]             Sex:   F\\n\\nService: ORTHOPAEDICS\\n\\nAllergies:\\nXanax\\n\\nAttending:[**First Name3 (LF) 8587**]\\nChief Complaint:\\ns/p Left distal femur hardware failure\\n\\nMajor Surgical or Invasive Procedure:\\n[**2133-7-4**]:  Revision of left distal femur ORIF\\n\\nHistory of Present Illness:\\nMs. [**Known lastname 17025**] is a 58 year old female who had a left\\nsupradcondylar femur fracture repair on [**2133-6-4**].  On [**2133-6-30**] she\\nheard a [**Doctor Last Name **] while se...   \n",
       "15814  Admission Date:  [**2200-10-11**]              Discharge Date:   [**2200-10-15**]\\n\\n\\nService: [**Month/Day/Year 662**]\\n\\nAllergies:\\nPenicillins / Shellfish Derived\\n\\nAttending:[**First Name3 (LF) 30**]\\nChief Complaint:\\nshortness of breath, diarrhea\\n\\nMajor Surgical or Invasive Procedure:\\nnone\\n\\nHistory of Present Illness:\\n86 year old female with a past medical history of\\noccipital stroke with memory difficulties, atrial fibrillation,\\nCdiff, dCHF on 2L at home, severe AS, presented with SOB\\nincreasing x 4-5 days. F/C/S/N/V/, diarrhea periodically\\nfoul-smelling.\\n.\\nIn the ED,...   \n",
       "15815  Admission Date:  [**2116-6-8**]              Discharge Date:   [**2116-6-20**]\\n\\nDate of Birth:  [**2056-3-1**]             Sex:   M\\n\\nService: MEDICINE\\n\\nAllergies:\\nLyrica / Lipitor\\n\\nAttending:[**First Name3 (LF) 6565**]\\nChief Complaint:\\npancreatic cancer, with liver mets\\n\\nMajor Surgical or Invasive Procedure:\\nNone\\n\\nHistory of Present Illness:\\n60yoM with h/o DM2, ? CHF, EtOH/polysubstance abuse, homeless,\\nbipolar d/o who is transferred to OMED service from General\\nSurgery for further management of metastatic pancreatic cancer.\\n.\\nHe was admitted to OSH [**2116-5-29**] for...   \n",
       "15816  Admission Date:  [**2196-11-17**]              Discharge Date:   [**2196-11-23**]\\n\\nDate of Birth:  [**2155-3-28**]             Sex:   M\\n\\nService: CARDIOTHORACIC\\n\\nAllergies:\\nPatient recorded as having No Known Allergies to Drugs\\n\\nAttending:[**First Name3 (LF) 1505**]\\nChief Complaint:\\nchest pain\\n\\nMajor Surgical or Invasive Procedure:\\nOPCABx1(svg-RCA)[**11-17**]\\n\\n\\nHistory of Present Illness:\\n41 yo m who presented to OSH with flank pain, found to have\\nureteral calculi, but later developed chest pain. He stated that\\nover past 2 years he had developed chest pain with strenuou...   \n",
       "15817  Admission Date:  [**2118-8-21**]              Discharge Date:   [**2118-8-24**]\\n\\nDate of Birth:  [**2068-7-28**]             Sex:   M\\n\\nService: NEUROLOGY\\n\\nAllergies:\\nPatient recorded as having No Known Allergies to Drugs\\n\\nAttending:[**First Name3 (LF) 5018**]\\nChief Complaint:\\nconfusion and language problems\\n\\nMajor Surgical or Invasive Procedure:\\ni.v. t-PA\\nTEE\\n\\n\\nHistory of Present Illness:\\nPt is a 50 year old R handed man in his usual state of\\nhealth today when he left home at 12pm today for a bike ride on\\na\\nnew bike. Shortly before 2pm, he was found lying next to his\\...   \n",
       "\n",
       "                                                                                                                                                                     labels  \\\n",
       "0      276.7;585.6;348.39;790.7;427.32;507.0;403.10;825.0;E888.9;300.9;301.9;250.62;357.2;250.42;285.21;278.01;427.31;250.82;V15.81;276.52;707.07;707.22;041.19;39.95;38.93   \n",
       "1                                                          455.5;303.00;571.2;291.81;070.70;284.8;286.7;562.10;571.1;211.2;456.21;305.1;276.8;45.13;45.23;99.05;99.07;96.34   \n",
       "2                                                      V10.05;V45.72;V15.82;788.30;531.40;998.59;682.6;438.89;728.87;458.29;564.09;401.9;285.9;294.8;311;272.0;E878.2;45.13   \n",
       "3                                         V31.00;765.17;765.27;770.2;745.5;774.2;779.3;770.6;772.6;770.81;779.81;V50.2;V05.3;V29.0;V18.0;754.81;64.0;93.9;99.15;99.83;99.55   \n",
       "4                                                                                         410.61;785.51;414.01;427.89;401.9;272.4;36.01;36.06;37.61;37.23;88.56;96.72;96.04   \n",
       "...                                                                                                                                                                     ...   \n",
       "15813                                                                                        996.49;707.06;285.1;707.07;E878.8;V45.81;401.9;428.0;V49.73;458.29;788.5;78.55   \n",
       "15814                                                                                            008.45;428.33;427.32;518.0;276.1;427.31;424.1;280.9;493.90;311;416.8;428.0   \n",
       "15815                                                  157.0;415.19;584.9;507.0;197.7;197.0;428.32;276.2;V66.7;428.0;250.02;799.02;E935.2;305.00;305.90;296.80;V43.64;V60.0   \n",
       "15816                                                                                                                           746.85;592.1;361.9;401.9;V10.87;36.11;14.41   \n",
       "15817                                                                                                                      434.91;272.0;272.4;401.9;303.91;99.1;89.14;88.72   \n",
       "\n",
       "       is_valid  min_code_freq  max_code_freq  median_code_freq  \n",
       "0         False              4           4345            1052.8  \n",
       "1         False             16           1003             659.0  \n",
       "2          True             34           5975            1634.3  \n",
       "3         False              1           1281             715.0  \n",
       "4         False              7           5975            3506.8  \n",
       "...         ...            ...            ...               ...  \n",
       "15813     False              9           5975            3585.9  \n",
       "15814     False            345           3837            3523.5  \n",
       "15815     False             39           3837            1742.1  \n",
       "15816     False              1           5975            2565.2  \n",
       "15817     False             23           5975            3557.9  \n",
       "\n",
       "[15818 rows x 8 columns]"
      ]
     },
     "execution_count": null,
     "metadata": {},
     "output_type": "execute_result"
    }
   ],
   "source": [
    "df_sample_copy['min_code_freq'] = df_sample_copy.apply(\n",
    "    lambda row: min([sample_label_freq[label] for label in row.labels.split(';')]), axis=1)\n",
    "\n",
    "df_sample_copy['max_code_freq'] = df_sample_copy.apply(\n",
    "    lambda row: max([sample_label_freq[label] for label in row.labels.split(';')]), axis=1)\n",
    "\n",
    "df_sample_copy['median_code_freq'] = df_sample_copy.apply(\n",
    "    lambda row: np.percentile(np.array([sample_label_freq[label] for label in row.labels.split(';')]), 90), axis=1)\n",
    "\n",
    "df_sample_copy"
   ]
  },
  {
   "cell_type": "code",
   "execution_count": null,
   "id": "a1fdd587",
   "metadata": {},
   "outputs": [
    {
     "data": {
      "image/png": "[encoded data removed]",
      "text/plain": [
       "<Figure size 1440x1440 with 6 Axes>"
      ]
     },
     "metadata": {
      "needs_background": "light"
     },
     "output_type": "display_data"
    }
   ],
   "source": [
    "fig, axes = plt.subplots(nrows=3, ncols=2, figsize=(20,20))\n",
    "\n",
    "for freq, axis in zip(['min_code_freq', 'max_code_freq', 'median_code_freq'], axes):\n",
    "    df_sample_copy[freq].hist(ax=axis[0], bins=25)\n",
    "    axis[0].set_xlabel(freq)\n",
    "    axis[0].set_ylabel('# of notes')\n",
    "    df_sample_copy[freq].plot.density(ax=axis[1])\n",
    "    axis[1].set_xlabel(freq)"
   ]
  },
  {
   "cell_type": "code",
   "execution_count": null,
   "id": "f1c6c425",
   "metadata": {},
   "outputs": [],
   "source": [
    "min_code_freq = Counter(df_sample_copy.min_code_freq)\n",
    "max_code_freq = Counter(df_sample_copy.max_code_freq)\n",
    "median_code_freq = Counter(df_sample_copy.median_code_freq)"
   ]
  },
  {
   "cell_type": "code",
   "execution_count": null,
   "id": "d4e48b2c",
   "metadata": {},
   "outputs": [
    {
     "data": {
      "text/plain": [
       "15818"
      ]
     },
     "execution_count": null,
     "metadata": {},
     "output_type": "execute_result"
    }
   ],
   "source": [
    "total_notes = L(min_code_freq.values()).sum()\n",
    "total_notes"
   ]
  },
  {
   "cell_type": "code",
   "execution_count": null,
   "id": "601831fd",
   "metadata": {},
   "outputs": [],
   "source": [
    "for kmin in min_code_freq:\n",
    "    min_code_freq[kmin] = (min_code_freq[kmin]/total_notes) * 100\n",
    "    \n",
    "for kmax in max_code_freq:\n",
    "    max_code_freq[kmax] = (max_code_freq[kmax]/total_notes) * 100\n",
    "    \n",
    "for kmedian in median_code_freq:\n",
    "    median_code_freq[kmedian] = (median_code_freq[kmedian]/total_notes) * 100"
   ]
  },
  {
   "cell_type": "code",
   "execution_count": null,
   "id": "6faaa823",
   "metadata": {},
   "outputs": [],
   "source": [
    "min_code_freq = dict(sorted(min_code_freq.items(), key=lambda item: item[0]))\n",
    "max_code_freq = dict(sorted(max_code_freq.items(), key=lambda item: item[0]))\n",
    "median_code_freq = dict(sorted(median_code_freq.items(), key=lambda item: item[0]))"
   ]
  },
  {
   "cell_type": "code",
   "execution_count": null,
   "id": "b6e36374",
   "metadata": {},
   "outputs": [
    {
     "data": {
      "image/png": "[encoded data removed]",
      "text/plain": [
       "<Figure size 1440x1440 with 6 Axes>"
      ]
     },
     "metadata": {
      "needs_background": "light"
     },
     "output_type": "display_data"
    }
   ],
   "source": [
    "fig, axes = plt.subplots(nrows=3, ncols=2, figsize=(20,20))\n",
    "\n",
    "for axis, freq_dict, label in zip(axes, (min_code_freq, max_code_freq, median_code_freq), ('min', 'max', 'median')):\n",
    "    axis[0].plot(freq_dict.keys(), freq_dict.values())\n",
    "    axis[0].set_xlabel(f'{label} code freq (f)')\n",
    "    axis[0].set_ylabel('% of notes ( P[f] )');\n",
    "\n",
    "    axis[1].plot(freq_dict.keys(), np.cumsum(list(freq_dict.values())))\n",
    "    axis[1].set_xlabel(f'{label} code freq (f)')\n",
    "    axis[1].set_ylabel('P[f<=t]');"
   ]
  },
  {
   "cell_type": "markdown",
   "id": "db5d9a18",
   "metadata": {},
   "source": [
    "The most frequent labels previously:"
   ]
  },
  {
   "cell_type": "code",
   "execution_count": null,
   "id": "b03eedd1",
   "metadata": {},
   "outputs": [
    {
     "data": {
      "text/plain": [
       "[('401.9', 5975),\n",
       " ('38.93', 4345),\n",
       " ('428.0', 3837),\n",
       " ('427.31', 3801),\n",
       " ('414.01', 3627),\n",
       " ('96.04', 3026),\n",
       " ('96.6', 2782),\n",
       " ('584.9', 2685),\n",
       " ('96.71', 2674),\n",
       " ('250.00', 2619),\n",
       " ('272.4', 2522),\n",
       " ('518.81', 2164),\n",
       " ('99.04', 2136),\n",
       " ('39.61', 2035),\n",
       " ('599.0', 2010),\n",
       " ('530.81', 1850),\n",
       " ('96.72', 1759),\n",
       " ('272.0', 1698),\n",
       " ('285.9', 1607),\n",
       " ('88.56', 1495)]"
      ]
     },
     "execution_count": null,
     "metadata": {},
     "output_type": "execute_result"
    }
   ],
   "source": [
    "sample_label_freq.most_common(20)"
   ]
  },
  {
   "cell_type": "markdown",
   "id": "0093828d",
   "metadata": {},
   "source": [
    "The most frequent lables after sampling:"
   ]
  },
  {
   "cell_type": "code",
   "execution_count": null,
   "id": "e582fa93",
   "metadata": {},
   "outputs": [
    {
     "data": {
      "text/plain": [
       "[('401.9', 20053),\n",
       " ('38.93', 14444),\n",
       " ('428.0', 12842),\n",
       " ('427.31', 12594),\n",
       " ('414.01', 12179),\n",
       " ('96.04', 9932),\n",
       " ('96.6', 9161),\n",
       " ('584.9', 8907),\n",
       " ('250.00', 8784),\n",
       " ('96.71', 8619),\n",
       " ('272.4', 8504),\n",
       " ('518.81', 7249),\n",
       " ('99.04', 7147),\n",
       " ('39.61', 6809),\n",
       " ('599.0', 6442),\n",
       " ('530.81', 6156),\n",
       " ('96.72', 5926),\n",
       " ('272.0', 5766),\n",
       " ('285.9', 5296),\n",
       " ('88.56', 5240)]"
      ]
     },
     "execution_count": null,
     "metadata": {},
     "output_type": "execute_result"
    }
   ],
   "source": [
    "label_freq.most_common(20)"
   ]
  },
  {
   "cell_type": "markdown",
   "id": "4b42bb64",
   "metadata": {},
   "source": [
    "Simply Incredible!"
   ]
  },
  {
   "cell_type": "code",
   "execution_count": null,
   "id": "fd819923",
   "metadata": {},
   "outputs": [
    {
     "data": {
      "text/plain": [
       "38.60388231725811"
      ]
     },
     "execution_count": null,
     "metadata": {},
     "output_type": "execute_result"
    }
   ],
   "source": [
    "array(list(sample_label_freq.values())).mean()"
   ]
  },
  {
   "cell_type": "markdown",
   "id": "562ec030",
   "metadata": {},
   "source": [
    "#### **Data Statistics Check #3 (Avg number of instances per label)_**:"
   ]
  },
  {
   "cell_type": "markdown",
   "id": "97cdd65e",
   "metadata": {},
   "source": [
    "- Original: ~98\n",
    "- After Sampling: ~38"
   ]
  },
  {
   "cell_type": "markdown",
   "id": "ccedca97",
   "metadata": {},
   "source": [
    "Let's now compute the average number of labels per instance:"
   ]
  },
  {
   "cell_type": "code",
   "execution_count": null,
   "id": "35707553",
   "metadata": {},
   "outputs": [
    {
     "data": {
      "text/plain": [
       "0        25\n",
       "1        18\n",
       "2        18\n",
       "3        21\n",
       "4        13\n",
       "         ..\n",
       "15813    12\n",
       "15814    12\n",
       "15815    18\n",
       "15816     7\n",
       "15817     8\n",
       "Length: 15818, dtype: int64"
      ]
     },
     "execution_count": null,
     "metadata": {},
     "output_type": "execute_result"
    }
   ],
   "source": [
    "labels_per_instance = df_sample.apply(lambda row: len(row.labels.split(';')), axis=1)\n",
    "labels_per_instance"
   ]
  },
  {
   "cell_type": "code",
   "execution_count": null,
   "id": "f26ebf46",
   "metadata": {},
   "outputs": [
    {
     "data": {
      "text/plain": [
       "16.092679226198"
      ]
     },
     "execution_count": null,
     "metadata": {},
     "output_type": "execute_result"
    }
   ],
   "source": [
    "labels_per_instance.mean()"
   ]
  },
  {
   "cell_type": "markdown",
   "id": "648b8961",
   "metadata": {},
   "source": [
    "#### **Data Statistics Check #4 (Avg number of labels per instance)_**:"
   ]
  },
  {
   "cell_type": "markdown",
   "id": "9ecd816d",
   "metadata": {},
   "source": [
    "- Original: ~16\n",
    "- After Sampling: ~16"
   ]
  },
  {
   "cell_type": "markdown",
   "id": "7608d61e",
   "metadata": {},
   "source": [
    "Fantastic! Previously (in the original dataset) also it was also ~16."
   ]
  },
  {
   "cell_type": "markdown",
   "id": "5671c18f",
   "metadata": {},
   "source": [
    "Let's save this sample dataset we just created:"
   ]
  },
  {
   "cell_type": "code",
   "execution_count": null,
   "id": "bbe263bb",
   "metadata": {},
   "outputs": [
    {
     "name": "stdout",
     "output_type": "stream",
     "text": [
      "\u001b[01;34m/home/ubuntu/codemimic/data2\u001b[00m\r\n",
      "├── DIAGNOSES_ICD.csv\r\n",
      "├── D_ICD_DIAGNOSES.csv\r\n",
      "├── D_ICD_PROCEDURES.csv\r\n",
      "├── ICD9_descriptions\r\n",
      "├── NOTEEVENTS.csv\r\n",
      "├── PROCEDURES_ICD.csv\r\n",
      "├── dev_50_hadm_ids.csv\r\n",
      "├── dev_full_hadm_ids.csv\r\n",
      "├── \u001b[01;34mprocessed\u001b[00m\r\n",
      "│   ├── ALL_CODES.csv\r\n",
      "│   ├── ALL_CODES_filtered.csv\r\n",
      "│   ├── code_descriptions.csv\r\n",
      "│   ├── disch_full.csv\r\n",
      "│   ├── notes_labelled.csv\r\n",
      "│   └── notes_labelled_sample.csv\r\n",
      "├── test_50_hadm_ids.csv\r\n",
      "├── test_full_hadm_ids.csv\r\n",
      "├── train_50_hadm_ids.csv\r\n",
      "└── train_full_hadm_ids.csv\r\n",
      "\r\n",
      "1 directory, 18 files\r\n"
     ]
    }
   ],
   "source": [
    "!tree {path_data}"
   ]
  },
  {
   "cell_type": "code",
   "execution_count": null,
   "id": "b0cbdbb0",
   "metadata": {},
   "outputs": [],
   "source": [
    "df_sample.to_csv(path_data/'processed'/'notes_labelled_sample.csv', index=False)"
   ]
  },
  {
   "cell_type": "markdown",
   "id": "dfacfb18",
   "metadata": {},
   "source": [
    "## Creating a Dataframe with ICD9 codes and the corresponding descriptions:"
   ]
  },
  {
   "cell_type": "code",
   "execution_count": null,
   "id": "acc4598c",
   "metadata": {},
   "outputs": [
    {
     "data": {
      "text/plain": [
       "Path('/home/ubuntu/codemimic/data2/ICD9_descriptions')"
      ]
     },
     "execution_count": null,
     "metadata": {},
     "output_type": "execute_result"
    }
   ],
   "source": [
    "file_descrip = path_data/'ICD9_descriptions'\n",
    "file_descrip"
   ]
  },
  {
   "cell_type": "code",
   "execution_count": null,
   "id": "ee5d77c8",
   "metadata": {},
   "outputs": [],
   "source": [
    "lines = L()\n",
    "with open(file_descrip, 'r') as f: lines += L(*f.readlines())"
   ]
  },
  {
   "cell_type": "code",
   "execution_count": null,
   "id": "89f869d8",
   "metadata": {},
   "outputs": [
    {
     "name": "stdout",
     "output_type": "stream",
     "text": [
      "21164 /home/ubuntu/codemimic/data2/ICD9_descriptions\r\n"
     ]
    }
   ],
   "source": [
    "!wc -l {path_data/'ICD9_descriptions'}"
   ]
  },
  {
   "cell_type": "code",
   "execution_count": null,
   "id": "f2f7ce3a",
   "metadata": {},
   "outputs": [
    {
     "data": {
      "text/plain": [
       "21164"
      ]
     },
     "execution_count": null,
     "metadata": {},
     "output_type": "execute_result"
    }
   ],
   "source": [
    "lines = [l.strip().split('\\t') for l in lines]\n",
    "len(lines)"
   ]
  },
  {
   "cell_type": "markdown",
   "id": "1ae1f9db",
   "metadata": {},
   "source": [
    "Take a look at an example line:"
   ]
  },
  {
   "cell_type": "code",
   "execution_count": null,
   "id": "5f63814a",
   "metadata": {},
   "outputs": [
    {
     "data": {
      "text/plain": [
       "['00.09', 'Other therapeutic ultrasound']"
      ]
     },
     "execution_count": null,
     "metadata": {},
     "output_type": "execute_result"
    }
   ],
   "source": [
    "lines[7]"
   ]
  },
  {
   "cell_type": "markdown",
   "id": "d60105bf",
   "metadata": {},
   "source": [
    "Covert this into a dataframe:"
   ]
  },
  {
   "cell_type": "code",
   "execution_count": null,
   "id": "4d4bf6e9",
   "metadata": {},
   "outputs": [
    {
     "data": {
      "text/html": [
       "<div>\n",
       "<style scoped>\n",
       "    .dataframe tbody tr th:only-of-type {\n",
       "        vertical-align: middle;\n",
       "    }\n",
       "\n",
       "    .dataframe tbody tr th {\n",
       "        vertical-align: top;\n",
       "    }\n",
       "\n",
       "    .dataframe thead th {\n",
       "        text-align: right;\n",
       "    }\n",
       "</style>\n",
       "<table border=\"1\" class=\"dataframe\">\n",
       "  <thead>\n",
       "    <tr style=\"text-align: right;\">\n",
       "      <th></th>\n",
       "      <th>ICD9_code</th>\n",
       "      <th>description</th>\n",
       "    </tr>\n",
       "  </thead>\n",
       "  <tbody>\n",
       "    <tr>\n",
       "      <th>0</th>\n",
       "      <td>@</td>\n",
       "      <td>ICD9 Hierarchy Root</td>\n",
       "    </tr>\n",
       "    <tr>\n",
       "      <th>1</th>\n",
       "      <td>00</td>\n",
       "      <td>Procedures and interventions, Not Elsewhere Classified</td>\n",
       "    </tr>\n",
       "    <tr>\n",
       "      <th>2</th>\n",
       "      <td>00-99.99</td>\n",
       "      <td>PROCEDURES</td>\n",
       "    </tr>\n",
       "    <tr>\n",
       "      <th>3</th>\n",
       "      <td>00.0</td>\n",
       "      <td>Therapeutic ultrasound</td>\n",
       "    </tr>\n",
       "    <tr>\n",
       "      <th>4</th>\n",
       "      <td>00.01</td>\n",
       "      <td>Therapeutic ultrasound of vessels of head and neck</td>\n",
       "    </tr>\n",
       "    <tr>\n",
       "      <th>...</th>\n",
       "      <td>...</td>\n",
       "      <td>...</td>\n",
       "    </tr>\n",
       "    <tr>\n",
       "      <th>21159</th>\n",
       "      <td>V85.54</td>\n",
       "      <td>Body Mass Index, pediatric, greater than or equal to 95th percentile for age</td>\n",
       "    </tr>\n",
       "    <tr>\n",
       "      <th>21160</th>\n",
       "      <td>V86</td>\n",
       "      <td>Estrogen receptor status</td>\n",
       "    </tr>\n",
       "    <tr>\n",
       "      <th>21161</th>\n",
       "      <td>V86-V86.99</td>\n",
       "      <td>ESTROGEN RECEPTOR STATUS</td>\n",
       "    </tr>\n",
       "    <tr>\n",
       "      <th>21162</th>\n",
       "      <td>V86.0</td>\n",
       "      <td>Estrogen receptor positive status [ER+]</td>\n",
       "    </tr>\n",
       "    <tr>\n",
       "      <th>21163</th>\n",
       "      <td>V86.1</td>\n",
       "      <td>Estrogen receptor negative status [ER-]</td>\n",
       "    </tr>\n",
       "  </tbody>\n",
       "</table>\n",
       "<p>21164 rows × 2 columns</p>\n",
       "</div>"
      ],
      "text/plain": [
       "        ICD9_code  \\\n",
       "0               @   \n",
       "1              00   \n",
       "2        00-99.99   \n",
       "3            00.0   \n",
       "4           00.01   \n",
       "...           ...   \n",
       "21159      V85.54   \n",
       "21160         V86   \n",
       "21161  V86-V86.99   \n",
       "21162       V86.0   \n",
       "21163       V86.1   \n",
       "\n",
       "                                                                        description  \n",
       "0                                                               ICD9 Hierarchy Root  \n",
       "1                            Procedures and interventions, Not Elsewhere Classified  \n",
       "2                                                                        PROCEDURES  \n",
       "3                                                            Therapeutic ultrasound  \n",
       "4                                Therapeutic ultrasound of vessels of head and neck  \n",
       "...                                                                             ...  \n",
       "21159  Body Mass Index, pediatric, greater than or equal to 95th percentile for age  \n",
       "21160                                                      Estrogen receptor status  \n",
       "21161                                                      ESTROGEN RECEPTOR STATUS  \n",
       "21162                                       Estrogen receptor positive status [ER+]  \n",
       "21163                                       Estrogen receptor negative status [ER-]  \n",
       "\n",
       "[21164 rows x 2 columns]"
      ]
     },
     "execution_count": null,
     "metadata": {},
     "output_type": "execute_result"
    }
   ],
   "source": [
    "df_descrip = pd.DataFrame(lines, columns=['ICD9_code', 'description'])\n",
    "df_descrip"
   ]
  },
  {
   "cell_type": "markdown",
   "id": "ec4ecde0",
   "metadata": {},
   "source": [
    "Now we will save this dataframe into a csv file:"
   ]
  },
  {
   "cell_type": "code",
   "execution_count": null,
   "id": "8e4cf862",
   "metadata": {},
   "outputs": [],
   "source": [
    "df_descrip.to_csv(path_data/'processed'/'code_descriptions.csv', index=False)"
   ]
  }
 ],
 "metadata": {
  "kernelspec": {
   "display_name": "Python [conda env:menv]",
   "language": "python",
   "name": "conda-env-menv-py"
  }
 },
 "nbformat": 4,
 "nbformat_minor": 5
}
