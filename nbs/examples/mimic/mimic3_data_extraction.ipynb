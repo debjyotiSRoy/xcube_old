{
 "cells": [
  {
   "cell_type": "code",
   "execution_count": 5,
   "id": "8a74b687-2124-41eb-8e6c-ed581f80af2d",
   "metadata": {},
   "outputs": [],
   "source": [
    "import fastbook\n",
    "fastbook.setup_book()\n",
    "\n",
    "from fastbook import *\n",
    "from IPython.display import display,HTML"
   ]
  },
  {
   "cell_type": "markdown",
   "id": "89305454",
   "metadata": {
    "jp-MarkdownHeadingCollapsed": true,
    "tags": []
   },
   "source": [
    "#### Project specific imports"
   ]
  },
  {
   "cell_type": "code",
   "execution_count": null,
   "id": "e8bc076c",
   "metadata": {},
   "outputs": [],
   "source": [
    "# import sys\n",
    "# sys.path.append('../')\n",
    "# from utils import datasets, get_discharge_summaries, concat_and_split"
   ]
  },
  {
   "cell_type": "markdown",
   "id": "a66dc8a9",
   "metadata": {},
   "source": [
    "Start by creating a data folder (in my case it is called data2) with the following files:\n",
    "\n",
    "data2\n",
    "|- NOTEEVENTS.csv   \n",
    "|- DIAGNOSES_ICD.csv  \n",
    "|- PROCEDURES_ICD.csv  \n",
    "|- *_hadm_ids.csv  \n",
    "|- D_ICD_DIAGNOSES.csv  \n",
    "|- D_ICD_PROCEDURES.csv  \n",
    "|- ICD9_descriptions  \n",
    "\n",
    "Along the way we will create some processed files and place them inside a subdirectory of data2 called data2/processed.\n",
    "\n",
    "\n",
    "When we are done with this notebook, our dataset will be ready in '/home/ubuntu/codemimic/data2/processed/notes_labelled.csv' "
   ]
  },
  {
   "cell_type": "markdown",
   "id": "8bce6c5b",
   "metadata": {
    "jp-MarkdownHeadingCollapsed": true,
    "tags": []
   },
   "source": [
    "#### Setting base path and data path:"
   ]
  },
  {
   "cell_type": "code",
   "execution_count": 6,
   "id": "67adc047-9edb-49d3-aea8-86695d3d8e5c",
   "metadata": {},
   "outputs": [
    {
     "name": "stdout",
     "output_type": "stream",
     "text": [
      "\u001b[01;34m/home/deb/xcube/nbs/examples/mimic/data\u001b[00m\n",
      "├── [Feb  4 15:39]  train_sample.csv\n",
      "├── [Feb  4 15:39]  test_sample.csv\n",
      "├── [Feb  4 15:39]  dev_sample.csv\n",
      "├── [Feb  3 19:08]  caml_notes_labelled.csv\n",
      "├── [Feb  3 18:07]  train_full.csv\n",
      "├── [Feb  3 18:07]  test_full.csv\n",
      "├── [Feb  3 18:07]  dev_full.csv\n",
      "├── [Feb  3 15:55]  disch_full.csv\n",
      "├── [Feb  3 15:55]  code_descriptions.csv\n",
      "├── [Feb  3 15:54]  ALL_CODES_filtered.csv\n",
      "├── [Feb  3 15:53]  ALL_CODES.csv\n",
      "├── [Jan 18 19:01]  notes_labelled_sample_10percent.csv\n",
      "├── [Dec 16 19:13]  notes_labelled.csv\n",
      "└── [Dec 16 19:13]  notes_labelled_sample.csv\n",
      "\n",
      "0 directories, 14 files\n"
     ]
    }
   ],
   "source": [
    "path = Path.cwd()\n",
    "path_data = path/'data'\n",
    "\n",
    "path_data.ls()\n",
    "\n",
    "!tree -rtD {path_data}"
   ]
  },
  {
   "cell_type": "markdown",
   "id": "609c5b6a",
   "metadata": {
    "jp-MarkdownHeadingCollapsed": true,
    "tags": []
   },
   "source": [
    "# Mimic-III Data Extraction"
   ]
  },
  {
   "cell_type": "markdown",
   "id": "4a8c9d07",
   "metadata": {
    "jp-MarkdownHeadingCollapsed": true,
    "tags": []
   },
   "source": [
    "## Data Formatting"
   ]
  },
  {
   "cell_type": "markdown",
   "id": "02357c2a",
   "metadata": {
    "jp-MarkdownHeadingCollapsed": true,
    "tags": []
   },
   "source": [
    "### Combine diagnoses and procedure codes and reformat them"
   ]
  },
  {
   "cell_type": "markdown",
   "id": "6f8a1943",
   "metadata": {},
   "source": [
    "The codes in MIMIC-III are given in separate files for procedures and diagnoses, and the codes are given without periods. So let's add periods in the right place."
   ]
  },
  {
   "cell_type": "markdown",
   "id": "c40ddc6f",
   "metadata": {},
   "source": [
    "We begin by taking a peek at the procedure and diagnoses codes."
   ]
  },
  {
   "cell_type": "code",
   "execution_count": null,
   "id": "f768a30d",
   "metadata": {},
   "outputs": [],
   "source": [
    "df_proc = pd.read_csv(path_data/'PROCEDURES_ICD.csv')\n",
    "df_diag = pd.read_csv(path_data/'DIAGNOSES_ICD.csv')"
   ]
  },
  {
   "cell_type": "code",
   "execution_count": null,
   "id": "02ac7261",
   "metadata": {},
   "outputs": [
    {
     "data": {
      "text/html": [
       "<div>\n",
       "<style scoped>\n",
       "    .dataframe tbody tr th:only-of-type {\n",
       "        vertical-align: middle;\n",
       "    }\n",
       "\n",
       "    .dataframe tbody tr th {\n",
       "        vertical-align: top;\n",
       "    }\n",
       "\n",
       "    .dataframe thead th {\n",
       "        text-align: right;\n",
       "    }\n",
       "</style>\n",
       "<table border=\"1\" class=\"dataframe\">\n",
       "  <thead>\n",
       "    <tr style=\"text-align: right;\">\n",
       "      <th></th>\n",
       "      <th>ROW_ID</th>\n",
       "      <th>SUBJECT_ID</th>\n",
       "      <th>HADM_ID</th>\n",
       "      <th>SEQ_NUM</th>\n",
       "      <th>ICD9_CODE</th>\n",
       "    </tr>\n",
       "  </thead>\n",
       "  <tbody>\n",
       "    <tr>\n",
       "      <th>0</th>\n",
       "      <td>944</td>\n",
       "      <td>62641</td>\n",
       "      <td>154460</td>\n",
       "      <td>3</td>\n",
       "      <td>3404</td>\n",
       "    </tr>\n",
       "    <tr>\n",
       "      <th>1</th>\n",
       "      <td>945</td>\n",
       "      <td>2592</td>\n",
       "      <td>130856</td>\n",
       "      <td>1</td>\n",
       "      <td>9671</td>\n",
       "    </tr>\n",
       "    <tr>\n",
       "      <th>2</th>\n",
       "      <td>946</td>\n",
       "      <td>2592</td>\n",
       "      <td>130856</td>\n",
       "      <td>2</td>\n",
       "      <td>3893</td>\n",
       "    </tr>\n",
       "    <tr>\n",
       "      <th>3</th>\n",
       "      <td>947</td>\n",
       "      <td>55357</td>\n",
       "      <td>119355</td>\n",
       "      <td>1</td>\n",
       "      <td>9672</td>\n",
       "    </tr>\n",
       "    <tr>\n",
       "      <th>4</th>\n",
       "      <td>948</td>\n",
       "      <td>55357</td>\n",
       "      <td>119355</td>\n",
       "      <td>2</td>\n",
       "      <td>331</td>\n",
       "    </tr>\n",
       "  </tbody>\n",
       "</table>\n",
       "</div>"
      ],
      "text/plain": [
       "   ROW_ID  SUBJECT_ID  HADM_ID  SEQ_NUM  ICD9_CODE\n",
       "0     944       62641   154460        3       3404\n",
       "1     945        2592   130856        1       9671\n",
       "2     946        2592   130856        2       3893\n",
       "3     947       55357   119355        1       9672\n",
       "4     948       55357   119355        2        331"
      ]
     },
     "execution_count": null,
     "metadata": {},
     "output_type": "execute_result"
    }
   ],
   "source": [
    "df_proc.head()"
   ]
  },
  {
   "cell_type": "code",
   "execution_count": null,
   "id": "a87a8d7e",
   "metadata": {},
   "outputs": [
    {
     "data": {
      "text/html": [
       "<div>\n",
       "<style scoped>\n",
       "    .dataframe tbody tr th:only-of-type {\n",
       "        vertical-align: middle;\n",
       "    }\n",
       "\n",
       "    .dataframe tbody tr th {\n",
       "        vertical-align: top;\n",
       "    }\n",
       "\n",
       "    .dataframe thead th {\n",
       "        text-align: right;\n",
       "    }\n",
       "</style>\n",
       "<table border=\"1\" class=\"dataframe\">\n",
       "  <thead>\n",
       "    <tr style=\"text-align: right;\">\n",
       "      <th></th>\n",
       "      <th>ROW_ID</th>\n",
       "      <th>SUBJECT_ID</th>\n",
       "      <th>HADM_ID</th>\n",
       "      <th>SEQ_NUM</th>\n",
       "      <th>ICD9_CODE</th>\n",
       "    </tr>\n",
       "  </thead>\n",
       "  <tbody>\n",
       "    <tr>\n",
       "      <th>0</th>\n",
       "      <td>1297</td>\n",
       "      <td>109</td>\n",
       "      <td>172335</td>\n",
       "      <td>1.0</td>\n",
       "      <td>40301</td>\n",
       "    </tr>\n",
       "    <tr>\n",
       "      <th>1</th>\n",
       "      <td>1298</td>\n",
       "      <td>109</td>\n",
       "      <td>172335</td>\n",
       "      <td>2.0</td>\n",
       "      <td>486</td>\n",
       "    </tr>\n",
       "    <tr>\n",
       "      <th>2</th>\n",
       "      <td>1299</td>\n",
       "      <td>109</td>\n",
       "      <td>172335</td>\n",
       "      <td>3.0</td>\n",
       "      <td>58281</td>\n",
       "    </tr>\n",
       "    <tr>\n",
       "      <th>3</th>\n",
       "      <td>1300</td>\n",
       "      <td>109</td>\n",
       "      <td>172335</td>\n",
       "      <td>4.0</td>\n",
       "      <td>5855</td>\n",
       "    </tr>\n",
       "    <tr>\n",
       "      <th>4</th>\n",
       "      <td>1301</td>\n",
       "      <td>109</td>\n",
       "      <td>172335</td>\n",
       "      <td>5.0</td>\n",
       "      <td>4254</td>\n",
       "    </tr>\n",
       "  </tbody>\n",
       "</table>\n",
       "</div>"
      ],
      "text/plain": [
       "   ROW_ID  SUBJECT_ID  HADM_ID  SEQ_NUM ICD9_CODE\n",
       "0    1297         109   172335      1.0     40301\n",
       "1    1298         109   172335      2.0       486\n",
       "2    1299         109   172335      3.0     58281\n",
       "3    1300         109   172335      4.0      5855\n",
       "4    1301         109   172335      5.0      4254"
      ]
     },
     "execution_count": null,
     "metadata": {},
     "output_type": "execute_result"
    }
   ],
   "source": [
    "df_diag.head()"
   ]
  },
  {
   "cell_type": "markdown",
   "id": "6d8e20a5",
   "metadata": {},
   "source": [
    "(Replace later!) Let's now add periods at the right places."
   ]
  },
  {
   "cell_type": "code",
   "execution_count": null,
   "id": "b144eefb",
   "metadata": {},
   "outputs": [],
   "source": [
    "# datasets.reformat??"
   ]
  },
  {
   "cell_type": "code",
   "execution_count": null,
   "id": "bdce7676",
   "metadata": {},
   "outputs": [
    {
     "data": {
      "text/html": [
       "<div>\n",
       "<style scoped>\n",
       "    .dataframe tbody tr th:only-of-type {\n",
       "        vertical-align: middle;\n",
       "    }\n",
       "\n",
       "    .dataframe tbody tr th {\n",
       "        vertical-align: top;\n",
       "    }\n",
       "\n",
       "    .dataframe thead th {\n",
       "        text-align: right;\n",
       "    }\n",
       "</style>\n",
       "<table border=\"1\" class=\"dataframe\">\n",
       "  <thead>\n",
       "    <tr style=\"text-align: right;\">\n",
       "      <th></th>\n",
       "      <th>ROW_ID</th>\n",
       "      <th>SUBJECT_ID</th>\n",
       "      <th>HADM_ID</th>\n",
       "      <th>SEQ_NUM</th>\n",
       "      <th>ICD9_CODE</th>\n",
       "      <th>absolute_code</th>\n",
       "    </tr>\n",
       "  </thead>\n",
       "  <tbody>\n",
       "    <tr>\n",
       "      <th>0</th>\n",
       "      <td>944</td>\n",
       "      <td>62641</td>\n",
       "      <td>154460</td>\n",
       "      <td>3</td>\n",
       "      <td>3404</td>\n",
       "      <td>34.04</td>\n",
       "    </tr>\n",
       "    <tr>\n",
       "      <th>1</th>\n",
       "      <td>945</td>\n",
       "      <td>2592</td>\n",
       "      <td>130856</td>\n",
       "      <td>1</td>\n",
       "      <td>9671</td>\n",
       "      <td>96.71</td>\n",
       "    </tr>\n",
       "    <tr>\n",
       "      <th>2</th>\n",
       "      <td>946</td>\n",
       "      <td>2592</td>\n",
       "      <td>130856</td>\n",
       "      <td>2</td>\n",
       "      <td>3893</td>\n",
       "      <td>38.93</td>\n",
       "    </tr>\n",
       "    <tr>\n",
       "      <th>3</th>\n",
       "      <td>947</td>\n",
       "      <td>55357</td>\n",
       "      <td>119355</td>\n",
       "      <td>1</td>\n",
       "      <td>9672</td>\n",
       "      <td>96.72</td>\n",
       "    </tr>\n",
       "    <tr>\n",
       "      <th>4</th>\n",
       "      <td>948</td>\n",
       "      <td>55357</td>\n",
       "      <td>119355</td>\n",
       "      <td>2</td>\n",
       "      <td>331</td>\n",
       "      <td>33.1</td>\n",
       "    </tr>\n",
       "  </tbody>\n",
       "</table>\n",
       "</div>"
      ],
      "text/plain": [
       "   ROW_ID  SUBJECT_ID  HADM_ID  SEQ_NUM  ICD9_CODE absolute_code\n",
       "0     944       62641   154460        3       3404         34.04\n",
       "1     945        2592   130856        1       9671         96.71\n",
       "2     946        2592   130856        2       3893         38.93\n",
       "3     947       55357   119355        1       9672         96.72\n",
       "4     948       55357   119355        2        331          33.1"
      ]
     },
     "execution_count": null,
     "metadata": {},
     "output_type": "execute_result"
    }
   ],
   "source": [
    "df_proc['absolute_code'] = df_proc.apply(lambda row: str(datasets.reformat(str(row[4]), False)), axis=1)\n",
    "df_proc.head()"
   ]
  },
  {
   "cell_type": "code",
   "execution_count": null,
   "id": "7d61d53f",
   "metadata": {},
   "outputs": [
    {
     "data": {
      "text/html": [
       "<div>\n",
       "<style scoped>\n",
       "    .dataframe tbody tr th:only-of-type {\n",
       "        vertical-align: middle;\n",
       "    }\n",
       "\n",
       "    .dataframe tbody tr th {\n",
       "        vertical-align: top;\n",
       "    }\n",
       "\n",
       "    .dataframe thead th {\n",
       "        text-align: right;\n",
       "    }\n",
       "</style>\n",
       "<table border=\"1\" class=\"dataframe\">\n",
       "  <thead>\n",
       "    <tr style=\"text-align: right;\">\n",
       "      <th></th>\n",
       "      <th>ROW_ID</th>\n",
       "      <th>SUBJECT_ID</th>\n",
       "      <th>HADM_ID</th>\n",
       "      <th>SEQ_NUM</th>\n",
       "      <th>ICD9_CODE</th>\n",
       "      <th>absolute_code</th>\n",
       "    </tr>\n",
       "  </thead>\n",
       "  <tbody>\n",
       "    <tr>\n",
       "      <th>0</th>\n",
       "      <td>1297</td>\n",
       "      <td>109</td>\n",
       "      <td>172335</td>\n",
       "      <td>1.0</td>\n",
       "      <td>40301</td>\n",
       "      <td>403.01</td>\n",
       "    </tr>\n",
       "    <tr>\n",
       "      <th>1</th>\n",
       "      <td>1298</td>\n",
       "      <td>109</td>\n",
       "      <td>172335</td>\n",
       "      <td>2.0</td>\n",
       "      <td>486</td>\n",
       "      <td>486</td>\n",
       "    </tr>\n",
       "    <tr>\n",
       "      <th>2</th>\n",
       "      <td>1299</td>\n",
       "      <td>109</td>\n",
       "      <td>172335</td>\n",
       "      <td>3.0</td>\n",
       "      <td>58281</td>\n",
       "      <td>582.81</td>\n",
       "    </tr>\n",
       "    <tr>\n",
       "      <th>3</th>\n",
       "      <td>1300</td>\n",
       "      <td>109</td>\n",
       "      <td>172335</td>\n",
       "      <td>4.0</td>\n",
       "      <td>5855</td>\n",
       "      <td>585.5</td>\n",
       "    </tr>\n",
       "    <tr>\n",
       "      <th>4</th>\n",
       "      <td>1301</td>\n",
       "      <td>109</td>\n",
       "      <td>172335</td>\n",
       "      <td>5.0</td>\n",
       "      <td>4254</td>\n",
       "      <td>425.4</td>\n",
       "    </tr>\n",
       "  </tbody>\n",
       "</table>\n",
       "</div>"
      ],
      "text/plain": [
       "   ROW_ID  SUBJECT_ID  HADM_ID  SEQ_NUM ICD9_CODE absolute_code\n",
       "0    1297         109   172335      1.0     40301        403.01\n",
       "1    1298         109   172335      2.0       486           486\n",
       "2    1299         109   172335      3.0     58281        582.81\n",
       "3    1300         109   172335      4.0      5855         585.5\n",
       "4    1301         109   172335      5.0      4254         425.4"
      ]
     },
     "execution_count": null,
     "metadata": {},
     "output_type": "execute_result"
    }
   ],
   "source": [
    "df_diag['absolute_code'] = df_diag.apply(lambda row: str(datasets.reformat(str(row[4]), True)), axis=1)\n",
    "df_diag.head()"
   ]
  },
  {
   "cell_type": "markdown",
   "id": "674f339a",
   "metadata": {},
   "source": [
    "Okay, this looks good! Let's now combine the diagnoses and procedures codes."
   ]
  },
  {
   "cell_type": "code",
   "execution_count": null,
   "id": "3f0dcc92",
   "metadata": {},
   "outputs": [
    {
     "data": {
      "text/html": [
       "<div>\n",
       "<style scoped>\n",
       "    .dataframe tbody tr th:only-of-type {\n",
       "        vertical-align: middle;\n",
       "    }\n",
       "\n",
       "    .dataframe tbody tr th {\n",
       "        vertical-align: top;\n",
       "    }\n",
       "\n",
       "    .dataframe thead th {\n",
       "        text-align: right;\n",
       "    }\n",
       "</style>\n",
       "<table border=\"1\" class=\"dataframe\">\n",
       "  <thead>\n",
       "    <tr style=\"text-align: right;\">\n",
       "      <th></th>\n",
       "      <th>ROW_ID</th>\n",
       "      <th>SUBJECT_ID</th>\n",
       "      <th>HADM_ID</th>\n",
       "      <th>SEQ_NUM</th>\n",
       "      <th>ICD9_CODE</th>\n",
       "      <th>absolute_code</th>\n",
       "    </tr>\n",
       "  </thead>\n",
       "  <tbody>\n",
       "    <tr>\n",
       "      <th>0</th>\n",
       "      <td>1297</td>\n",
       "      <td>109</td>\n",
       "      <td>172335</td>\n",
       "      <td>1.0</td>\n",
       "      <td>40301</td>\n",
       "      <td>403.01</td>\n",
       "    </tr>\n",
       "    <tr>\n",
       "      <th>1</th>\n",
       "      <td>1298</td>\n",
       "      <td>109</td>\n",
       "      <td>172335</td>\n",
       "      <td>2.0</td>\n",
       "      <td>486</td>\n",
       "      <td>486</td>\n",
       "    </tr>\n",
       "    <tr>\n",
       "      <th>2</th>\n",
       "      <td>1299</td>\n",
       "      <td>109</td>\n",
       "      <td>172335</td>\n",
       "      <td>3.0</td>\n",
       "      <td>58281</td>\n",
       "      <td>582.81</td>\n",
       "    </tr>\n",
       "    <tr>\n",
       "      <th>3</th>\n",
       "      <td>1300</td>\n",
       "      <td>109</td>\n",
       "      <td>172335</td>\n",
       "      <td>4.0</td>\n",
       "      <td>5855</td>\n",
       "      <td>585.5</td>\n",
       "    </tr>\n",
       "    <tr>\n",
       "      <th>4</th>\n",
       "      <td>1301</td>\n",
       "      <td>109</td>\n",
       "      <td>172335</td>\n",
       "      <td>5.0</td>\n",
       "      <td>4254</td>\n",
       "      <td>425.4</td>\n",
       "    </tr>\n",
       "  </tbody>\n",
       "</table>\n",
       "</div>"
      ],
      "text/plain": [
       "   ROW_ID  SUBJECT_ID  HADM_ID  SEQ_NUM ICD9_CODE absolute_code\n",
       "0    1297         109   172335      1.0     40301        403.01\n",
       "1    1298         109   172335      2.0       486           486\n",
       "2    1299         109   172335      3.0     58281        582.81\n",
       "3    1300         109   172335      4.0      5855         585.5\n",
       "4    1301         109   172335      5.0      4254         425.4"
      ]
     },
     "execution_count": null,
     "metadata": {},
     "output_type": "execute_result"
    }
   ],
   "source": [
    "df_codes = pd.concat([df_diag, df_proc])\n",
    "df_codes.head()"
   ]
  },
  {
   "cell_type": "markdown",
   "id": "3a06368b",
   "metadata": {},
   "source": [
    "It's time to crash the save button!"
   ]
  },
  {
   "cell_type": "code",
   "execution_count": null,
   "id": "f3129478",
   "metadata": {},
   "outputs": [],
   "source": [
    "path_processed = path_data/'processed'\n",
    "path_processed.mkdir(parents=True,  exist_ok=True)"
   ]
  },
  {
   "cell_type": "code",
   "execution_count": null,
   "id": "fd168d39",
   "metadata": {},
   "outputs": [],
   "source": [
    "df_codes.to_csv(path_processed/'ALL_CODES.csv', index=False,\n",
    "               columns=['ROW_ID', 'SUBJECT_ID', 'HADM_ID', 'SEQ_NUM', 'absolute_code'],\n",
    "               header=['row_id', 'subject_id', 'hadm_id', 'seq_num', 'ICD9_code'])"
   ]
  },
  {
   "cell_type": "markdown",
   "id": "3eb8dd61",
   "metadata": {},
   "source": [
    "Note that we saved the 'absolute_code' column as 'ICD9_code'. This is what we will use from here on. Okay, let's now read it back in and check how many codes we have."
   ]
  },
  {
   "cell_type": "code",
   "execution_count": null,
   "id": "7f103946",
   "metadata": {},
   "outputs": [
    {
     "data": {
      "text/plain": [
       "(#4) [Path('/home/ubuntu/codemimic/data2/processed/ALL_CODES.csv'),Path('/home/ubuntu/codemimic/data2/processed/ALL_CODES_filtered.csv'),Path('/home/ubuntu/codemimic/data2/processed/disch_full.csv'),Path('/home/ubuntu/codemimic/data2/processed/notes_labelled.csv')]"
      ]
     },
     "execution_count": null,
     "metadata": {},
     "output_type": "execute_result"
    }
   ],
   "source": [
    "path_processed.ls()"
   ]
  },
  {
   "cell_type": "code",
   "execution_count": null,
   "id": "0db30d80",
   "metadata": {},
   "outputs": [
    {
     "data": {
      "text/html": [
       "<div>\n",
       "<style scoped>\n",
       "    .dataframe tbody tr th:only-of-type {\n",
       "        vertical-align: middle;\n",
       "    }\n",
       "\n",
       "    .dataframe tbody tr th {\n",
       "        vertical-align: top;\n",
       "    }\n",
       "\n",
       "    .dataframe thead th {\n",
       "        text-align: right;\n",
       "    }\n",
       "</style>\n",
       "<table border=\"1\" class=\"dataframe\">\n",
       "  <thead>\n",
       "    <tr style=\"text-align: right;\">\n",
       "      <th></th>\n",
       "      <th>row_id</th>\n",
       "      <th>subject_id</th>\n",
       "      <th>hadm_id</th>\n",
       "      <th>seq_num</th>\n",
       "      <th>ICD9_code</th>\n",
       "    </tr>\n",
       "  </thead>\n",
       "  <tbody>\n",
       "    <tr>\n",
       "      <th>0</th>\n",
       "      <td>1297</td>\n",
       "      <td>109</td>\n",
       "      <td>172335</td>\n",
       "      <td>1.0</td>\n",
       "      <td>403.01</td>\n",
       "    </tr>\n",
       "    <tr>\n",
       "      <th>1</th>\n",
       "      <td>1298</td>\n",
       "      <td>109</td>\n",
       "      <td>172335</td>\n",
       "      <td>2.0</td>\n",
       "      <td>486</td>\n",
       "    </tr>\n",
       "    <tr>\n",
       "      <th>2</th>\n",
       "      <td>1299</td>\n",
       "      <td>109</td>\n",
       "      <td>172335</td>\n",
       "      <td>3.0</td>\n",
       "      <td>582.81</td>\n",
       "    </tr>\n",
       "    <tr>\n",
       "      <th>3</th>\n",
       "      <td>1300</td>\n",
       "      <td>109</td>\n",
       "      <td>172335</td>\n",
       "      <td>4.0</td>\n",
       "      <td>585.5</td>\n",
       "    </tr>\n",
       "    <tr>\n",
       "      <th>4</th>\n",
       "      <td>1301</td>\n",
       "      <td>109</td>\n",
       "      <td>172335</td>\n",
       "      <td>5.0</td>\n",
       "      <td>425.4</td>\n",
       "    </tr>\n",
       "  </tbody>\n",
       "</table>\n",
       "</div>"
      ],
      "text/plain": [
       "   row_id  subject_id  hadm_id  seq_num ICD9_code\n",
       "0    1297         109   172335      1.0    403.01\n",
       "1    1298         109   172335      2.0       486\n",
       "2    1299         109   172335      3.0    582.81\n",
       "3    1300         109   172335      4.0     585.5\n",
       "4    1301         109   172335      5.0     425.4"
      ]
     },
     "execution_count": null,
     "metadata": {},
     "output_type": "execute_result"
    }
   ],
   "source": [
    "df_codes = pd.read_csv(path_processed/'ALL_CODES.csv', dtype={\"ICD9_code\": str})\n",
    "df_codes.head()"
   ]
  },
  {
   "cell_type": "markdown",
   "id": "ec618475",
   "metadata": {
    "jp-MarkdownHeadingCollapsed": true,
    "tags": []
   },
   "source": [
    "#### How many codes (procedure + diagnoses) do we have?"
   ]
  },
  {
   "cell_type": "code",
   "execution_count": null,
   "id": "e015684e",
   "metadata": {},
   "outputs": [
    {
     "data": {
      "text/plain": [
       "8993"
      ]
     },
     "execution_count": null,
     "metadata": {},
     "output_type": "execute_result"
    }
   ],
   "source": [
    "df_codes['ICD9_code'].nunique()"
   ]
  },
  {
   "cell_type": "markdown",
   "id": "e0bcc599",
   "metadata": {},
   "source": [
    "So we have 8894 codes in total. "
   ]
  },
  {
   "cell_type": "markdown",
   "id": "35102f08",
   "metadata": {
    "jp-MarkdownHeadingCollapsed": true,
    "tags": []
   },
   "source": [
    "## Get the Raw Text"
   ]
  },
  {
   "cell_type": "markdown",
   "id": "c1c164f6",
   "metadata": {},
   "source": [
    "From the NOTEEVENTS.csv we will get the raw text (under the column 'text') only when the corresponding 'category' is 'Discharge Summary'."
   ]
  },
  {
   "cell_type": "code",
   "execution_count": null,
   "id": "b151f1ba",
   "metadata": {},
   "outputs": [
    {
     "name": "stderr",
     "output_type": "stream",
     "text": [
      "/home/ubuntu/miniconda3/envs/menv/lib/python3.8/site-packages/IPython/core/interactiveshell.py:3165: DtypeWarning: Columns (4,5) have mixed types.Specify dtype option on import or set low_memory=False.\n",
      "  has_raised = await self.run_ast_nodes(code_ast.body, cell_name,\n"
     ]
    }
   ],
   "source": [
    "df_notes = pd.read_csv(path_data/'NOTEEVENTS.csv')"
   ]
  },
  {
   "cell_type": "markdown",
   "id": "7fb7dc8c",
   "metadata": {},
   "source": [
    "First, let's change the column names to lower case:"
   ]
  },
  {
   "cell_type": "code",
   "execution_count": null,
   "id": "f2a3d983",
   "metadata": {},
   "outputs": [],
   "source": [
    "df_notes.rename(columns = {col: col.lower() for col in df_notes.columns}, inplace=True)"
   ]
  },
  {
   "cell_type": "code",
   "execution_count": null,
   "id": "b2e20cb2",
   "metadata": {},
   "outputs": [
    {
     "data": {
      "text/html": [
       "<div>\n",
       "<style scoped>\n",
       "    .dataframe tbody tr th:only-of-type {\n",
       "        vertical-align: middle;\n",
       "    }\n",
       "\n",
       "    .dataframe tbody tr th {\n",
       "        vertical-align: top;\n",
       "    }\n",
       "\n",
       "    .dataframe thead th {\n",
       "        text-align: right;\n",
       "    }\n",
       "</style>\n",
       "<table border=\"1\" class=\"dataframe\">\n",
       "  <thead>\n",
       "    <tr style=\"text-align: right;\">\n",
       "      <th></th>\n",
       "      <th>row_id</th>\n",
       "      <th>subject_id</th>\n",
       "      <th>hadm_id</th>\n",
       "      <th>chartdate</th>\n",
       "      <th>charttime</th>\n",
       "      <th>storetime</th>\n",
       "      <th>category</th>\n",
       "      <th>description</th>\n",
       "      <th>cgid</th>\n",
       "      <th>iserror</th>\n",
       "      <th>text</th>\n",
       "    </tr>\n",
       "  </thead>\n",
       "  <tbody>\n",
       "    <tr>\n",
       "      <th>0</th>\n",
       "      <td>174</td>\n",
       "      <td>22532</td>\n",
       "      <td>167853.0</td>\n",
       "      <td>2151-08-04</td>\n",
       "      <td>NaN</td>\n",
       "      <td>NaN</td>\n",
       "      <td>Discharge summary</td>\n",
       "      <td>Report</td>\n",
       "      <td>NaN</td>\n",
       "      <td>NaN</td>\n",
       "      <td>Admission Date:  [**2151-7-16**]       Discharge Date:  [**2151-8-4**]\\n\\n\\nService:\\nADDENDUM:\\n\\nRADIOLOGIC STUDIES:  Radiologic studies also included a chest\\nCT, which confirmed cavitary lesions in the left lung apex\\nconsistent with infectious process/tuberculosis.  This also\\nmoderate-sized left pleural effusion.\\n\\nHEAD CT:  Head CT showed no intracranial hemorrhage or mass\\neffect, but old infarction consistent with past medical\\nhistory.\\n\\nABDOMINAL CT:  Abdominal CT showed lesions of\\nT10 and sacrum most likely secondary to osteoporosis. These can\\nbe followed by repeat imaging ...</td>\n",
       "    </tr>\n",
       "    <tr>\n",
       "      <th>1</th>\n",
       "      <td>175</td>\n",
       "      <td>13702</td>\n",
       "      <td>107527.0</td>\n",
       "      <td>2118-06-14</td>\n",
       "      <td>NaN</td>\n",
       "      <td>NaN</td>\n",
       "      <td>Discharge summary</td>\n",
       "      <td>Report</td>\n",
       "      <td>NaN</td>\n",
       "      <td>NaN</td>\n",
       "      <td>Admission Date:  [**2118-6-2**]       Discharge Date:  [**2118-6-14**]\\n\\nDate of Birth:                    Sex:  F\\n\\nService:  MICU and then to [**Doctor Last Name **] Medicine\\n\\nHISTORY OF PRESENT ILLNESS:  This is an 81-year-old female\\nwith a history of emphysema (not on home O2), who presents\\nwith three days of shortness of breath thought by her primary\\ncare doctor to be a COPD flare.  Two days prior to admission,\\nshe was started on a prednisone taper and one day prior to\\nadmission she required oxygen at home in order to maintain\\noxygen saturation greater than 90%.  She has als...</td>\n",
       "    </tr>\n",
       "    <tr>\n",
       "      <th>2</th>\n",
       "      <td>176</td>\n",
       "      <td>13702</td>\n",
       "      <td>167118.0</td>\n",
       "      <td>2119-05-25</td>\n",
       "      <td>NaN</td>\n",
       "      <td>NaN</td>\n",
       "      <td>Discharge summary</td>\n",
       "      <td>Report</td>\n",
       "      <td>NaN</td>\n",
       "      <td>NaN</td>\n",
       "      <td>Admission Date:  [**2119-5-4**]              Discharge Date:   [**2119-5-25**]\\n\\n\\nService: CARDIOTHORACIC\\n\\nAllergies:\\nAmlodipine\\n\\nAttending:[**Last Name (NamePattern1) 1561**]\\nChief Complaint:\\n81 yo F smoker w/ COPD, severe TBM, s/p tracheobronchoplasty [**5-5**]\\ns/p perc trach [**5-13**]\\n\\nMajor Surgical or Invasive Procedure:\\nbronchoscopy 3/31,4/2,3,[**6-12**], [**5-17**], [**5-19**]\\ns/p trachealplasty [**5-5**]\\npercutaneous tracheostomy [**5-13**] after failed extubation\\ndown size trach on [**5-25**] to size 6 cuffless\\n\\n\\nHistory of Present Illness:\\nThis 81 year old wo...</td>\n",
       "    </tr>\n",
       "  </tbody>\n",
       "</table>\n",
       "</div>"
      ],
      "text/plain": [
       "   row_id  subject_id   hadm_id   chartdate charttime storetime  \\\n",
       "0     174       22532  167853.0  2151-08-04       NaN       NaN   \n",
       "1     175       13702  107527.0  2118-06-14       NaN       NaN   \n",
       "2     176       13702  167118.0  2119-05-25       NaN       NaN   \n",
       "\n",
       "            category description  cgid  iserror  \\\n",
       "0  Discharge summary      Report   NaN      NaN   \n",
       "1  Discharge summary      Report   NaN      NaN   \n",
       "2  Discharge summary      Report   NaN      NaN   \n",
       "\n",
       "                                                                                                                                                                                                                                                                                                                                                                                                                                                                                                                                                                                                                      text  \n",
       "0  Admission Date:  [**2151-7-16**]       Discharge Date:  [**2151-8-4**]\\n\\n\\nService:\\nADDENDUM:\\n\\nRADIOLOGIC STUDIES:  Radiologic studies also included a chest\\nCT, which confirmed cavitary lesions in the left lung apex\\nconsistent with infectious process/tuberculosis.  This also\\nmoderate-sized left pleural effusion.\\n\\nHEAD CT:  Head CT showed no intracranial hemorrhage or mass\\neffect, but old infarction consistent with past medical\\nhistory.\\n\\nABDOMINAL CT:  Abdominal CT showed lesions of\\nT10 and sacrum most likely secondary to osteoporosis. These can\\nbe followed by repeat imaging ...  \n",
       "1  Admission Date:  [**2118-6-2**]       Discharge Date:  [**2118-6-14**]\\n\\nDate of Birth:                    Sex:  F\\n\\nService:  MICU and then to [**Doctor Last Name **] Medicine\\n\\nHISTORY OF PRESENT ILLNESS:  This is an 81-year-old female\\nwith a history of emphysema (not on home O2), who presents\\nwith three days of shortness of breath thought by her primary\\ncare doctor to be a COPD flare.  Two days prior to admission,\\nshe was started on a prednisone taper and one day prior to\\nadmission she required oxygen at home in order to maintain\\noxygen saturation greater than 90%.  She has als...  \n",
       "2  Admission Date:  [**2119-5-4**]              Discharge Date:   [**2119-5-25**]\\n\\n\\nService: CARDIOTHORACIC\\n\\nAllergies:\\nAmlodipine\\n\\nAttending:[**Last Name (NamePattern1) 1561**]\\nChief Complaint:\\n81 yo F smoker w/ COPD, severe TBM, s/p tracheobronchoplasty [**5-5**]\\ns/p perc trach [**5-13**]\\n\\nMajor Surgical or Invasive Procedure:\\nbronchoscopy 3/31,4/2,3,[**6-12**], [**5-17**], [**5-19**]\\ns/p trachealplasty [**5-5**]\\npercutaneous tracheostomy [**5-13**] after failed extubation\\ndown size trach on [**5-25**] to size 6 cuffless\\n\\n\\nHistory of Present Illness:\\nThis 81 year old wo...  "
      ]
     },
     "execution_count": null,
     "metadata": {},
     "output_type": "execute_result"
    }
   ],
   "source": [
    "df_notes.head(3)"
   ]
  },
  {
   "cell_type": "markdown",
   "id": "3216ae06",
   "metadata": {},
   "source": [
    "Let's convert the columns `text` and `category` into string:"
   ]
  },
  {
   "cell_type": "code",
   "execution_count": null,
   "id": "71086db5",
   "metadata": {},
   "outputs": [],
   "source": [
    "df_notes[['text', 'category']] = df_notes[['text', 'category']].astype('str')"
   ]
  },
  {
   "cell_type": "markdown",
   "id": "f4799dec",
   "metadata": {},
   "source": [
    "Let's now read all the notes and select only the ones with 'category' equal to \"Discharge Summary\".\n",
    "And also let's remove any columns other than `subject_id`, `hadm_id`, `charttime` and `text`."
   ]
  },
  {
   "cell_type": "code",
   "execution_count": null,
   "id": "70a63f97",
   "metadata": {},
   "outputs": [],
   "source": [
    "df_notes_filter = df_notes[df_notes.category == 'Discharge summary'];"
   ]
  },
  {
   "cell_type": "code",
   "execution_count": null,
   "id": "8b5fee40",
   "metadata": {},
   "outputs": [],
   "source": [
    "relevant_cols = ['subject_id', 'hadm_id', 'charttime', 'text']\n",
    "df_notes_filter = df_notes_filter[relevant_cols]"
   ]
  },
  {
   "cell_type": "markdown",
   "id": "5689778a",
   "metadata": {},
   "source": [
    "Let's convert the datatype of `hadm_id` from `float64` to `int64` (becuase that's what it is in our `ALL_CODES.csv` file)"
   ]
  },
  {
   "cell_type": "code",
   "execution_count": null,
   "id": "86beb395",
   "metadata": {},
   "outputs": [
    {
     "data": {
      "text/plain": [
       "dtype('float64')"
      ]
     },
     "execution_count": null,
     "metadata": {},
     "output_type": "execute_result"
    }
   ],
   "source": [
    "df_notes_filter.hadm_id.dtype"
   ]
  },
  {
   "cell_type": "code",
   "execution_count": null,
   "id": "66a740e6",
   "metadata": {},
   "outputs": [],
   "source": [
    "df_notes_filter['hadm_id'] = df_notes_filter['hadm_id'].astype('int')"
   ]
  },
  {
   "cell_type": "code",
   "execution_count": null,
   "id": "6b95eaa6",
   "metadata": {},
   "outputs": [
    {
     "data": {
      "text/html": [
       "<div>\n",
       "<style scoped>\n",
       "    .dataframe tbody tr th:only-of-type {\n",
       "        vertical-align: middle;\n",
       "    }\n",
       "\n",
       "    .dataframe tbody tr th {\n",
       "        vertical-align: top;\n",
       "    }\n",
       "\n",
       "    .dataframe thead th {\n",
       "        text-align: right;\n",
       "    }\n",
       "</style>\n",
       "<table border=\"1\" class=\"dataframe\">\n",
       "  <thead>\n",
       "    <tr style=\"text-align: right;\">\n",
       "      <th></th>\n",
       "      <th>subject_id</th>\n",
       "      <th>hadm_id</th>\n",
       "      <th>charttime</th>\n",
       "      <th>text</th>\n",
       "    </tr>\n",
       "  </thead>\n",
       "  <tbody>\n",
       "    <tr>\n",
       "      <th>0</th>\n",
       "      <td>22532</td>\n",
       "      <td>167853</td>\n",
       "      <td>NaN</td>\n",
       "      <td>Admission Date:  [**2151-7-16**]       Discharge Date:  [**2151-8-4**]\\n\\n\\nService:\\nADDENDUM:\\n\\nRADIOLOGIC STUDIES:  Radiologic studies also included a chest\\nCT, which confirmed cavitary lesions in the left lung apex\\nconsistent with infectious process/tuberculosis.  This also\\nmoderate-sized left pleural effusion.\\n\\nHEAD CT:  Head CT showed no intracranial hemorrhage or mass\\neffect, but old infarction consistent with past medical\\nhistory.\\n\\nABDOMINAL CT:  Abdominal CT showed lesions of\\nT10 and sacrum most likely secondary to osteoporosis. These can\\nbe followed by repeat imaging ...</td>\n",
       "    </tr>\n",
       "    <tr>\n",
       "      <th>1</th>\n",
       "      <td>13702</td>\n",
       "      <td>107527</td>\n",
       "      <td>NaN</td>\n",
       "      <td>Admission Date:  [**2118-6-2**]       Discharge Date:  [**2118-6-14**]\\n\\nDate of Birth:                    Sex:  F\\n\\nService:  MICU and then to [**Doctor Last Name **] Medicine\\n\\nHISTORY OF PRESENT ILLNESS:  This is an 81-year-old female\\nwith a history of emphysema (not on home O2), who presents\\nwith three days of shortness of breath thought by her primary\\ncare doctor to be a COPD flare.  Two days prior to admission,\\nshe was started on a prednisone taper and one day prior to\\nadmission she required oxygen at home in order to maintain\\noxygen saturation greater than 90%.  She has als...</td>\n",
       "    </tr>\n",
       "    <tr>\n",
       "      <th>2</th>\n",
       "      <td>13702</td>\n",
       "      <td>167118</td>\n",
       "      <td>NaN</td>\n",
       "      <td>Admission Date:  [**2119-5-4**]              Discharge Date:   [**2119-5-25**]\\n\\n\\nService: CARDIOTHORACIC\\n\\nAllergies:\\nAmlodipine\\n\\nAttending:[**Last Name (NamePattern1) 1561**]\\nChief Complaint:\\n81 yo F smoker w/ COPD, severe TBM, s/p tracheobronchoplasty [**5-5**]\\ns/p perc trach [**5-13**]\\n\\nMajor Surgical or Invasive Procedure:\\nbronchoscopy 3/31,4/2,3,[**6-12**], [**5-17**], [**5-19**]\\ns/p trachealplasty [**5-5**]\\npercutaneous tracheostomy [**5-13**] after failed extubation\\ndown size trach on [**5-25**] to size 6 cuffless\\n\\n\\nHistory of Present Illness:\\nThis 81 year old wo...</td>\n",
       "    </tr>\n",
       "    <tr>\n",
       "      <th>3</th>\n",
       "      <td>13702</td>\n",
       "      <td>196489</td>\n",
       "      <td>NaN</td>\n",
       "      <td>Admission Date:  [**2124-7-21**]              Discharge Date:   [**2124-8-18**]\\n\\n\\nService: MEDICINE\\n\\nAllergies:\\nAmlodipine\\n\\nAttending:[**First Name3 (LF) 898**]\\nChief Complaint:\\nCOPD exacerbation/Shortness of Breath\\n\\nMajor Surgical or Invasive Procedure:\\nIntubation\\narterial line placement\\nPICC line placement\\nEsophagogastroduodenoscopy\\n\\n\\nHistory of Present Illness:\\n87 yo F with h/o CHF, COPD on 5 L oxygen at baseline,\\ntracheobronchomalacia s/p stent, presents with acute dyspnea\\nover several days, and lethargy. This morning patient developed\\nan acute worsening in dyspn...</td>\n",
       "    </tr>\n",
       "    <tr>\n",
       "      <th>4</th>\n",
       "      <td>26880</td>\n",
       "      <td>135453</td>\n",
       "      <td>NaN</td>\n",
       "      <td>Admission Date:  [**2162-3-3**]              Discharge Date:   [**2162-3-25**]\\n\\nDate of Birth:  [**2080-1-4**]             Sex:   M\\n\\nService: MEDICINE\\n\\nAllergies:\\nPatient recorded as having No Known Allergies to Drugs\\n\\nAttending:[**First Name3 (LF) 1828**]\\nChief Complaint:\\nMr. [**Known lastname 1829**] was seen at [**Hospital1 18**] after a mechanical fall from\\na height of 10 feet.  CT scan noted unstable fracture of C6-7 &amp;\\nposterior elements.\\n\\nMajor Surgical or Invasive Procedure:\\n1. Anterior cervical osteotomy, C6-C7, with decompression and\\nexcision of ossification of th...</td>\n",
       "    </tr>\n",
       "  </tbody>\n",
       "</table>\n",
       "</div>"
      ],
      "text/plain": [
       "   subject_id  hadm_id charttime  \\\n",
       "0       22532   167853       NaN   \n",
       "1       13702   107527       NaN   \n",
       "2       13702   167118       NaN   \n",
       "3       13702   196489       NaN   \n",
       "4       26880   135453       NaN   \n",
       "\n",
       "                                                                                                                                                                                                                                                                                                                                                                                                                                                                                                                                                                                                                      text  \n",
       "0  Admission Date:  [**2151-7-16**]       Discharge Date:  [**2151-8-4**]\\n\\n\\nService:\\nADDENDUM:\\n\\nRADIOLOGIC STUDIES:  Radiologic studies also included a chest\\nCT, which confirmed cavitary lesions in the left lung apex\\nconsistent with infectious process/tuberculosis.  This also\\nmoderate-sized left pleural effusion.\\n\\nHEAD CT:  Head CT showed no intracranial hemorrhage or mass\\neffect, but old infarction consistent with past medical\\nhistory.\\n\\nABDOMINAL CT:  Abdominal CT showed lesions of\\nT10 and sacrum most likely secondary to osteoporosis. These can\\nbe followed by repeat imaging ...  \n",
       "1  Admission Date:  [**2118-6-2**]       Discharge Date:  [**2118-6-14**]\\n\\nDate of Birth:                    Sex:  F\\n\\nService:  MICU and then to [**Doctor Last Name **] Medicine\\n\\nHISTORY OF PRESENT ILLNESS:  This is an 81-year-old female\\nwith a history of emphysema (not on home O2), who presents\\nwith three days of shortness of breath thought by her primary\\ncare doctor to be a COPD flare.  Two days prior to admission,\\nshe was started on a prednisone taper and one day prior to\\nadmission she required oxygen at home in order to maintain\\noxygen saturation greater than 90%.  She has als...  \n",
       "2  Admission Date:  [**2119-5-4**]              Discharge Date:   [**2119-5-25**]\\n\\n\\nService: CARDIOTHORACIC\\n\\nAllergies:\\nAmlodipine\\n\\nAttending:[**Last Name (NamePattern1) 1561**]\\nChief Complaint:\\n81 yo F smoker w/ COPD, severe TBM, s/p tracheobronchoplasty [**5-5**]\\ns/p perc trach [**5-13**]\\n\\nMajor Surgical or Invasive Procedure:\\nbronchoscopy 3/31,4/2,3,[**6-12**], [**5-17**], [**5-19**]\\ns/p trachealplasty [**5-5**]\\npercutaneous tracheostomy [**5-13**] after failed extubation\\ndown size trach on [**5-25**] to size 6 cuffless\\n\\n\\nHistory of Present Illness:\\nThis 81 year old wo...  \n",
       "3  Admission Date:  [**2124-7-21**]              Discharge Date:   [**2124-8-18**]\\n\\n\\nService: MEDICINE\\n\\nAllergies:\\nAmlodipine\\n\\nAttending:[**First Name3 (LF) 898**]\\nChief Complaint:\\nCOPD exacerbation/Shortness of Breath\\n\\nMajor Surgical or Invasive Procedure:\\nIntubation\\narterial line placement\\nPICC line placement\\nEsophagogastroduodenoscopy\\n\\n\\nHistory of Present Illness:\\n87 yo F with h/o CHF, COPD on 5 L oxygen at baseline,\\ntracheobronchomalacia s/p stent, presents with acute dyspnea\\nover several days, and lethargy. This morning patient developed\\nan acute worsening in dyspn...  \n",
       "4  Admission Date:  [**2162-3-3**]              Discharge Date:   [**2162-3-25**]\\n\\nDate of Birth:  [**2080-1-4**]             Sex:   M\\n\\nService: MEDICINE\\n\\nAllergies:\\nPatient recorded as having No Known Allergies to Drugs\\n\\nAttending:[**First Name3 (LF) 1828**]\\nChief Complaint:\\nMr. [**Known lastname 1829**] was seen at [**Hospital1 18**] after a mechanical fall from\\na height of 10 feet.  CT scan noted unstable fracture of C6-7 &\\nposterior elements.\\n\\nMajor Surgical or Invasive Procedure:\\n1. Anterior cervical osteotomy, C6-C7, with decompression and\\nexcision of ossification of th...  "
      ]
     },
     "execution_count": null,
     "metadata": {},
     "output_type": "execute_result"
    }
   ],
   "source": [
    "df_notes_filter.head()"
   ]
  },
  {
   "cell_type": "markdown",
   "id": "e059a5f5",
   "metadata": {},
   "source": [
    "Before moving on let's smash that save button again:"
   ]
  },
  {
   "cell_type": "code",
   "execution_count": null,
   "id": "9bd19d16",
   "metadata": {},
   "outputs": [],
   "source": [
    "df_notes_filter.to_csv(path_processed/'disch_full.csv', index=False)"
   ]
  },
  {
   "cell_type": "markdown",
   "id": "829a73c5",
   "metadata": {},
   "source": [
    "Let's now read the file we just created to check:"
   ]
  },
  {
   "cell_type": "code",
   "execution_count": null,
   "id": "bf35e763",
   "metadata": {},
   "outputs": [],
   "source": [
    "df_notes_filter = pd.read_csv(path_processed/'disch_full.csv')"
   ]
  },
  {
   "cell_type": "code",
   "execution_count": null,
   "id": "186c334d",
   "metadata": {},
   "outputs": [
    {
     "data": {
      "text/html": [
       "<div>\n",
       "<style scoped>\n",
       "    .dataframe tbody tr th:only-of-type {\n",
       "        vertical-align: middle;\n",
       "    }\n",
       "\n",
       "    .dataframe tbody tr th {\n",
       "        vertical-align: top;\n",
       "    }\n",
       "\n",
       "    .dataframe thead th {\n",
       "        text-align: right;\n",
       "    }\n",
       "</style>\n",
       "<table border=\"1\" class=\"dataframe\">\n",
       "  <thead>\n",
       "    <tr style=\"text-align: right;\">\n",
       "      <th></th>\n",
       "      <th>subject_id</th>\n",
       "      <th>hadm_id</th>\n",
       "      <th>charttime</th>\n",
       "      <th>text</th>\n",
       "    </tr>\n",
       "  </thead>\n",
       "  <tbody>\n",
       "    <tr>\n",
       "      <th>0</th>\n",
       "      <td>22532</td>\n",
       "      <td>167853</td>\n",
       "      <td>NaN</td>\n",
       "      <td>Admission Date:  [**2151-7-16**]       Discharge Date:  [**2151-8-4**]\\n\\n\\nService:\\nADDENDUM:\\n\\nRADIOLOGIC STUDIES:  Radiologic studies also included a chest\\nCT, which confirmed cavitary lesions in the left lung apex\\nconsistent with infectious process/tuberculosis.  This also\\nmoderate-sized left pleural effusion.\\n\\nHEAD CT:  Head CT showed no intracranial hemorrhage or mass\\neffect, but old infarction consistent with past medical\\nhistory.\\n\\nABDOMINAL CT:  Abdominal CT showed lesions of\\nT10 and sacrum most likely secondary to osteoporosis. These can\\nbe followed by repeat imaging ...</td>\n",
       "    </tr>\n",
       "    <tr>\n",
       "      <th>1</th>\n",
       "      <td>13702</td>\n",
       "      <td>107527</td>\n",
       "      <td>NaN</td>\n",
       "      <td>Admission Date:  [**2118-6-2**]       Discharge Date:  [**2118-6-14**]\\n\\nDate of Birth:                    Sex:  F\\n\\nService:  MICU and then to [**Doctor Last Name **] Medicine\\n\\nHISTORY OF PRESENT ILLNESS:  This is an 81-year-old female\\nwith a history of emphysema (not on home O2), who presents\\nwith three days of shortness of breath thought by her primary\\ncare doctor to be a COPD flare.  Two days prior to admission,\\nshe was started on a prednisone taper and one day prior to\\nadmission she required oxygen at home in order to maintain\\noxygen saturation greater than 90%.  She has als...</td>\n",
       "    </tr>\n",
       "    <tr>\n",
       "      <th>2</th>\n",
       "      <td>13702</td>\n",
       "      <td>167118</td>\n",
       "      <td>NaN</td>\n",
       "      <td>Admission Date:  [**2119-5-4**]              Discharge Date:   [**2119-5-25**]\\n\\n\\nService: CARDIOTHORACIC\\n\\nAllergies:\\nAmlodipine\\n\\nAttending:[**Last Name (NamePattern1) 1561**]\\nChief Complaint:\\n81 yo F smoker w/ COPD, severe TBM, s/p tracheobronchoplasty [**5-5**]\\ns/p perc trach [**5-13**]\\n\\nMajor Surgical or Invasive Procedure:\\nbronchoscopy 3/31,4/2,3,[**6-12**], [**5-17**], [**5-19**]\\ns/p trachealplasty [**5-5**]\\npercutaneous tracheostomy [**5-13**] after failed extubation\\ndown size trach on [**5-25**] to size 6 cuffless\\n\\n\\nHistory of Present Illness:\\nThis 81 year old wo...</td>\n",
       "    </tr>\n",
       "    <tr>\n",
       "      <th>3</th>\n",
       "      <td>13702</td>\n",
       "      <td>196489</td>\n",
       "      <td>NaN</td>\n",
       "      <td>Admission Date:  [**2124-7-21**]              Discharge Date:   [**2124-8-18**]\\n\\n\\nService: MEDICINE\\n\\nAllergies:\\nAmlodipine\\n\\nAttending:[**First Name3 (LF) 898**]\\nChief Complaint:\\nCOPD exacerbation/Shortness of Breath\\n\\nMajor Surgical or Invasive Procedure:\\nIntubation\\narterial line placement\\nPICC line placement\\nEsophagogastroduodenoscopy\\n\\n\\nHistory of Present Illness:\\n87 yo F with h/o CHF, COPD on 5 L oxygen at baseline,\\ntracheobronchomalacia s/p stent, presents with acute dyspnea\\nover several days, and lethargy. This morning patient developed\\nan acute worsening in dyspn...</td>\n",
       "    </tr>\n",
       "    <tr>\n",
       "      <th>4</th>\n",
       "      <td>26880</td>\n",
       "      <td>135453</td>\n",
       "      <td>NaN</td>\n",
       "      <td>Admission Date:  [**2162-3-3**]              Discharge Date:   [**2162-3-25**]\\n\\nDate of Birth:  [**2080-1-4**]             Sex:   M\\n\\nService: MEDICINE\\n\\nAllergies:\\nPatient recorded as having No Known Allergies to Drugs\\n\\nAttending:[**First Name3 (LF) 1828**]\\nChief Complaint:\\nMr. [**Known lastname 1829**] was seen at [**Hospital1 18**] after a mechanical fall from\\na height of 10 feet.  CT scan noted unstable fracture of C6-7 &amp;\\nposterior elements.\\n\\nMajor Surgical or Invasive Procedure:\\n1. Anterior cervical osteotomy, C6-C7, with decompression and\\nexcision of ossification of th...</td>\n",
       "    </tr>\n",
       "  </tbody>\n",
       "</table>\n",
       "</div>"
      ],
      "text/plain": [
       "   subject_id  hadm_id  charttime  \\\n",
       "0       22532   167853        NaN   \n",
       "1       13702   107527        NaN   \n",
       "2       13702   167118        NaN   \n",
       "3       13702   196489        NaN   \n",
       "4       26880   135453        NaN   \n",
       "\n",
       "                                                                                                                                                                                                                                                                                                                                                                                                                                                                                                                                                                                                                      text  \n",
       "0  Admission Date:  [**2151-7-16**]       Discharge Date:  [**2151-8-4**]\\n\\n\\nService:\\nADDENDUM:\\n\\nRADIOLOGIC STUDIES:  Radiologic studies also included a chest\\nCT, which confirmed cavitary lesions in the left lung apex\\nconsistent with infectious process/tuberculosis.  This also\\nmoderate-sized left pleural effusion.\\n\\nHEAD CT:  Head CT showed no intracranial hemorrhage or mass\\neffect, but old infarction consistent with past medical\\nhistory.\\n\\nABDOMINAL CT:  Abdominal CT showed lesions of\\nT10 and sacrum most likely secondary to osteoporosis. These can\\nbe followed by repeat imaging ...  \n",
       "1  Admission Date:  [**2118-6-2**]       Discharge Date:  [**2118-6-14**]\\n\\nDate of Birth:                    Sex:  F\\n\\nService:  MICU and then to [**Doctor Last Name **] Medicine\\n\\nHISTORY OF PRESENT ILLNESS:  This is an 81-year-old female\\nwith a history of emphysema (not on home O2), who presents\\nwith three days of shortness of breath thought by her primary\\ncare doctor to be a COPD flare.  Two days prior to admission,\\nshe was started on a prednisone taper and one day prior to\\nadmission she required oxygen at home in order to maintain\\noxygen saturation greater than 90%.  She has als...  \n",
       "2  Admission Date:  [**2119-5-4**]              Discharge Date:   [**2119-5-25**]\\n\\n\\nService: CARDIOTHORACIC\\n\\nAllergies:\\nAmlodipine\\n\\nAttending:[**Last Name (NamePattern1) 1561**]\\nChief Complaint:\\n81 yo F smoker w/ COPD, severe TBM, s/p tracheobronchoplasty [**5-5**]\\ns/p perc trach [**5-13**]\\n\\nMajor Surgical or Invasive Procedure:\\nbronchoscopy 3/31,4/2,3,[**6-12**], [**5-17**], [**5-19**]\\ns/p trachealplasty [**5-5**]\\npercutaneous tracheostomy [**5-13**] after failed extubation\\ndown size trach on [**5-25**] to size 6 cuffless\\n\\n\\nHistory of Present Illness:\\nThis 81 year old wo...  \n",
       "3  Admission Date:  [**2124-7-21**]              Discharge Date:   [**2124-8-18**]\\n\\n\\nService: MEDICINE\\n\\nAllergies:\\nAmlodipine\\n\\nAttending:[**First Name3 (LF) 898**]\\nChief Complaint:\\nCOPD exacerbation/Shortness of Breath\\n\\nMajor Surgical or Invasive Procedure:\\nIntubation\\narterial line placement\\nPICC line placement\\nEsophagogastroduodenoscopy\\n\\n\\nHistory of Present Illness:\\n87 yo F with h/o CHF, COPD on 5 L oxygen at baseline,\\ntracheobronchomalacia s/p stent, presents with acute dyspnea\\nover several days, and lethargy. This morning patient developed\\nan acute worsening in dyspn...  \n",
       "4  Admission Date:  [**2162-3-3**]              Discharge Date:   [**2162-3-25**]\\n\\nDate of Birth:  [**2080-1-4**]             Sex:   M\\n\\nService: MEDICINE\\n\\nAllergies:\\nPatient recorded as having No Known Allergies to Drugs\\n\\nAttending:[**First Name3 (LF) 1828**]\\nChief Complaint:\\nMr. [**Known lastname 1829**] was seen at [**Hospital1 18**] after a mechanical fall from\\na height of 10 feet.  CT scan noted unstable fracture of C6-7 &\\nposterior elements.\\n\\nMajor Surgical or Invasive Procedure:\\n1. Anterior cervical osteotomy, C6-C7, with decompression and\\nexcision of ossification of th...  "
      ]
     },
     "execution_count": null,
     "metadata": {},
     "output_type": "execute_result"
    }
   ],
   "source": [
    "df_notes_filter.head()"
   ]
  },
  {
   "cell_type": "code",
   "execution_count": null,
   "id": "04d1e2ab",
   "metadata": {},
   "outputs": [
    {
     "data": {
      "text/plain": [
       "dtype('int64')"
      ]
     },
     "execution_count": null,
     "metadata": {},
     "output_type": "execute_result"
    }
   ],
   "source": [
    "df_notes_filter.hadm_id.dtype"
   ]
  },
  {
   "cell_type": "markdown",
   "id": "04841f37",
   "metadata": {},
   "source": [
    "Let's check the effect of filtering:"
   ]
  },
  {
   "cell_type": "code",
   "execution_count": null,
   "id": "7e3eb173",
   "metadata": {},
   "outputs": [
    {
     "data": {
      "text/plain": [
       "(2083180, 59652)"
      ]
     },
     "execution_count": null,
     "metadata": {},
     "output_type": "execute_result"
    }
   ],
   "source": [
    "len(df_notes), len(df_notes_filter)"
   ]
  },
  {
   "cell_type": "markdown",
   "id": "0375e175",
   "metadata": {},
   "source": [
    "To do a cross-check let's count the number of rows in the `df_notes` dataframe that have 'category == Discharge summary', and see if it's indeed `len(df_notes_filter)`"
   ]
  },
  {
   "cell_type": "code",
   "execution_count": null,
   "id": "768ff9cd",
   "metadata": {},
   "outputs": [
    {
     "data": {
      "text/plain": [
       "59652"
      ]
     },
     "execution_count": null,
     "metadata": {},
     "output_type": "execute_result"
    }
   ],
   "source": [
    "(df_notes['category'] == 'Discharge summary').sum()"
   ]
  },
  {
   "cell_type": "markdown",
   "id": "13dcbe37",
   "metadata": {},
   "source": [
    "Great, we got a match!"
   ]
  },
  {
   "cell_type": "markdown",
   "id": "9ea98d5f",
   "metadata": {},
   "source": [
    "Let's now sort the `df_notes_filter` dataframe by `subject_id` and `hadm_id`"
   ]
  },
  {
   "cell_type": "code",
   "execution_count": null,
   "id": "9e8c143f",
   "metadata": {},
   "outputs": [],
   "source": [
    "df_notes_filter.sort_values(['subject_id', 'hadm_id'], inplace=True)"
   ]
  },
  {
   "cell_type": "markdown",
   "id": "7b432614",
   "metadata": {},
   "source": [
    "Let's also save this `df_notes_filter` dataframe:"
   ]
  },
  {
   "cell_type": "code",
   "execution_count": null,
   "id": "33b281e0",
   "metadata": {},
   "outputs": [],
   "source": [
    "df_notes_filter.to_csv(path_processed/'disch_full.csv', index=False)"
   ]
  },
  {
   "cell_type": "code",
   "execution_count": null,
   "id": "e18b39c2",
   "metadata": {},
   "outputs": [
    {
     "data": {
      "text/html": [
       "<div>\n",
       "<style scoped>\n",
       "    .dataframe tbody tr th:only-of-type {\n",
       "        vertical-align: middle;\n",
       "    }\n",
       "\n",
       "    .dataframe tbody tr th {\n",
       "        vertical-align: top;\n",
       "    }\n",
       "\n",
       "    .dataframe thead th {\n",
       "        text-align: right;\n",
       "    }\n",
       "</style>\n",
       "<table border=\"1\" class=\"dataframe\">\n",
       "  <thead>\n",
       "    <tr style=\"text-align: right;\">\n",
       "      <th></th>\n",
       "      <th>subject_id</th>\n",
       "      <th>hadm_id</th>\n",
       "      <th>charttime</th>\n",
       "      <th>text</th>\n",
       "    </tr>\n",
       "  </thead>\n",
       "  <tbody>\n",
       "    <tr>\n",
       "      <th>48470</th>\n",
       "      <td>3</td>\n",
       "      <td>145834</td>\n",
       "      <td>NaN</td>\n",
       "      <td>Admission Date:  [**2101-10-20**]     Discharge Date:  [**2101-10-31**]\\n\\nDate of Birth:   [**2025-4-11**]     Sex:  M\\n\\nService:  Medicine\\n\\nCHIEF COMPLAINT:  Admitted from rehabilitation for\\nhypotension (systolic blood pressure to the 70s) and\\ndecreased urine output.\\n\\nHISTORY OF PRESENT ILLNESS:  The patient is a 76-year-old\\nmale who had been hospitalized at the [**Hospital1 190**] from [**10-11**] through [**10-19**] of [**2101**]\\nafter undergoing a left femoral-AT bypass graft and was\\nsubsequently discharged to a rehabilitation facility.\\n\\nOn [**2101-10-20**], he presented a...</td>\n",
       "    </tr>\n",
       "    <tr>\n",
       "      <th>4782</th>\n",
       "      <td>4</td>\n",
       "      <td>185777</td>\n",
       "      <td>NaN</td>\n",
       "      <td>Admission Date:  [**2191-3-16**]     Discharge Date:  [**2191-3-23**]\\n\\nDate of Birth:   [**2143-5-12**]     Sex:  F\\n\\nService:\\n\\nCHIEF COMPLAINT:  Shortness of breath and fevers.\\n\\nHISTORY OF PRESENT ILLNESS:  The patient is a 47-year-old\\nfemale with a history of human immunodeficiency virus (last\\nCD4 count 42 and a viral load of 65,000), cirrhosis,\\ndiabetes, and hypothyroidism presented with eight days of\\nfevers to 104, chills, shortness of breath, cough, dyspnea on\\nexertion, and fatigue.\\n\\nThe patient states she has become progressively dyspneic to\\nthe point where she is shor...</td>\n",
       "    </tr>\n",
       "    <tr>\n",
       "      <th>24476</th>\n",
       "      <td>6</td>\n",
       "      <td>107064</td>\n",
       "      <td>NaN</td>\n",
       "      <td>Admission Date: [**2175-5-30**]        Discharge Date:  [**2175-6-15**]\\n\\nDate of Birth:                    Sex:  F\\n\\nService:\\n\\n\\nADMISSION DIAGNOSIS:  End stage renal disease, admitted for\\ntransplant surgery.\\n\\nHISTORY OF PRESENT ILLNESS:  The patient is a 65 year-old\\nwoman with end stage renal disease, secondary to malignant\\nhypertension. She was started on dialysis in [**2174-2-7**].  She currently was on peritoneal dialysis and appears\\nto be doing well.  She has a history of gastric angiectasia\\nwhich she requires endoscopy. She was admitted on [**2175-5-30**] for\\na scheduled...</td>\n",
       "    </tr>\n",
       "    <tr>\n",
       "      <th>22764</th>\n",
       "      <td>9</td>\n",
       "      <td>150750</td>\n",
       "      <td>NaN</td>\n",
       "      <td>Admission Date:  [**2149-11-9**]       Discharge Date: [**2149-11-13**]\\n\\nDate of Birth:   [**2108-1-26**]       Sex:  M\\n\\nService:  NEUROLOGY\\n\\nCHIEF COMPLAINT:  Weakness, inability to talk.\\n\\nHISTORY OF THE PRESENT ILLNESS:  This is a 41-year-old\\nAfrican-American male with a history of hypertension who was\\nin his usual state of health until about 10:25 a.m. on the\\nmorning of admission.  He had gone to use the restroom and a\\nfew minutes later his family found him slumped onto the\\nfloor, apparently unable to talk and with weakness in his\\nright arm and leg.  EMS was called and he ...</td>\n",
       "    </tr>\n",
       "    <tr>\n",
       "      <th>57328</th>\n",
       "      <td>9</td>\n",
       "      <td>150750</td>\n",
       "      <td>NaN</td>\n",
       "      <td>Name:  [**Known lastname 10050**], [**Known firstname 779**]                      Unit No:  [**Numeric Identifier 10051**]\\n\\nAdmission Date:  [**2149-11-9**]     Discharge Date:  [**2149-11-14**]\\n\\nDate of Birth:   [**2108-1-26**]     Sex:  M\\n\\nService:\\n\\nDespite mannital and hyperventilation on the [**2149-11-13**], patient continued to neurologically decline.  A brain\\ndeath exam was done showing that the patient had dilated\\nunreactive pupils with no evidence of a corneal or gag\\nreflex. He also did not respond to any noxious stimuli\\ndespite being off propofol.\\n\\nAn apnea test was...</td>\n",
       "    </tr>\n",
       "  </tbody>\n",
       "</table>\n",
       "</div>"
      ],
      "text/plain": [
       "       subject_id  hadm_id  charttime  \\\n",
       "48470           3   145834        NaN   \n",
       "4782            4   185777        NaN   \n",
       "24476           6   107064        NaN   \n",
       "22764           9   150750        NaN   \n",
       "57328           9   150750        NaN   \n",
       "\n",
       "                                                                                                                                                                                                                                                                                                                                                                                                                                                                                                                                                                                                                          text  \n",
       "48470  Admission Date:  [**2101-10-20**]     Discharge Date:  [**2101-10-31**]\\n\\nDate of Birth:   [**2025-4-11**]     Sex:  M\\n\\nService:  Medicine\\n\\nCHIEF COMPLAINT:  Admitted from rehabilitation for\\nhypotension (systolic blood pressure to the 70s) and\\ndecreased urine output.\\n\\nHISTORY OF PRESENT ILLNESS:  The patient is a 76-year-old\\nmale who had been hospitalized at the [**Hospital1 190**] from [**10-11**] through [**10-19**] of [**2101**]\\nafter undergoing a left femoral-AT bypass graft and was\\nsubsequently discharged to a rehabilitation facility.\\n\\nOn [**2101-10-20**], he presented a...  \n",
       "4782   Admission Date:  [**2191-3-16**]     Discharge Date:  [**2191-3-23**]\\n\\nDate of Birth:   [**2143-5-12**]     Sex:  F\\n\\nService:\\n\\nCHIEF COMPLAINT:  Shortness of breath and fevers.\\n\\nHISTORY OF PRESENT ILLNESS:  The patient is a 47-year-old\\nfemale with a history of human immunodeficiency virus (last\\nCD4 count 42 and a viral load of 65,000), cirrhosis,\\ndiabetes, and hypothyroidism presented with eight days of\\nfevers to 104, chills, shortness of breath, cough, dyspnea on\\nexertion, and fatigue.\\n\\nThe patient states she has become progressively dyspneic to\\nthe point where she is shor...  \n",
       "24476  Admission Date: [**2175-5-30**]        Discharge Date:  [**2175-6-15**]\\n\\nDate of Birth:                    Sex:  F\\n\\nService:\\n\\n\\nADMISSION DIAGNOSIS:  End stage renal disease, admitted for\\ntransplant surgery.\\n\\nHISTORY OF PRESENT ILLNESS:  The patient is a 65 year-old\\nwoman with end stage renal disease, secondary to malignant\\nhypertension. She was started on dialysis in [**2174-2-7**].  She currently was on peritoneal dialysis and appears\\nto be doing well.  She has a history of gastric angiectasia\\nwhich she requires endoscopy. She was admitted on [**2175-5-30**] for\\na scheduled...  \n",
       "22764  Admission Date:  [**2149-11-9**]       Discharge Date: [**2149-11-13**]\\n\\nDate of Birth:   [**2108-1-26**]       Sex:  M\\n\\nService:  NEUROLOGY\\n\\nCHIEF COMPLAINT:  Weakness, inability to talk.\\n\\nHISTORY OF THE PRESENT ILLNESS:  This is a 41-year-old\\nAfrican-American male with a history of hypertension who was\\nin his usual state of health until about 10:25 a.m. on the\\nmorning of admission.  He had gone to use the restroom and a\\nfew minutes later his family found him slumped onto the\\nfloor, apparently unable to talk and with weakness in his\\nright arm and leg.  EMS was called and he ...  \n",
       "57328  Name:  [**Known lastname 10050**], [**Known firstname 779**]                      Unit No:  [**Numeric Identifier 10051**]\\n\\nAdmission Date:  [**2149-11-9**]     Discharge Date:  [**2149-11-14**]\\n\\nDate of Birth:   [**2108-1-26**]     Sex:  M\\n\\nService:\\n\\nDespite mannital and hyperventilation on the [**2149-11-13**], patient continued to neurologically decline.  A brain\\ndeath exam was done showing that the patient had dilated\\nunreactive pupils with no evidence of a corneal or gag\\nreflex. He also did not respond to any noxious stimuli\\ndespite being off propofol.\\n\\nAn apnea test was...  "
      ]
     },
     "execution_count": null,
     "metadata": {},
     "output_type": "execute_result"
    }
   ],
   "source": [
    "df_notes_filter.head()"
   ]
  },
  {
   "cell_type": "markdown",
   "id": "c8babe0b",
   "metadata": {},
   "source": [
    "Let's also sort the `df_codes` dataframe by `subject_id` and `hadm_id`:"
   ]
  },
  {
   "cell_type": "code",
   "execution_count": null,
   "id": "18975e91",
   "metadata": {},
   "outputs": [],
   "source": [
    "df_codes = pd.read_csv(path_processed/'ALL_CODES.csv', dtype={\"ICD9_code\": str})\n",
    "df_codes.sort_values(['subject_id', 'hadm_id'], inplace=True)"
   ]
  },
  {
   "cell_type": "code",
   "execution_count": null,
   "id": "ed81fb99",
   "metadata": {},
   "outputs": [
    {
     "data": {
      "text/html": [
       "<div>\n",
       "<style scoped>\n",
       "    .dataframe tbody tr th:only-of-type {\n",
       "        vertical-align: middle;\n",
       "    }\n",
       "\n",
       "    .dataframe tbody tr th {\n",
       "        vertical-align: top;\n",
       "    }\n",
       "\n",
       "    .dataframe thead th {\n",
       "        text-align: right;\n",
       "    }\n",
       "</style>\n",
       "<table border=\"1\" class=\"dataframe\">\n",
       "  <thead>\n",
       "    <tr style=\"text-align: right;\">\n",
       "      <th></th>\n",
       "      <th>row_id</th>\n",
       "      <th>subject_id</th>\n",
       "      <th>hadm_id</th>\n",
       "      <th>seq_num</th>\n",
       "      <th>ICD9_code</th>\n",
       "    </tr>\n",
       "  </thead>\n",
       "  <tbody>\n",
       "    <tr>\n",
       "      <th>608</th>\n",
       "      <td>1</td>\n",
       "      <td>2</td>\n",
       "      <td>163353</td>\n",
       "      <td>1.0</td>\n",
       "      <td>V30.01</td>\n",
       "    </tr>\n",
       "    <tr>\n",
       "      <th>609</th>\n",
       "      <td>2</td>\n",
       "      <td>2</td>\n",
       "      <td>163353</td>\n",
       "      <td>2.0</td>\n",
       "      <td>V05.3</td>\n",
       "    </tr>\n",
       "    <tr>\n",
       "      <th>610</th>\n",
       "      <td>3</td>\n",
       "      <td>2</td>\n",
       "      <td>163353</td>\n",
       "      <td>3.0</td>\n",
       "      <td>V29.0</td>\n",
       "    </tr>\n",
       "    <tr>\n",
       "      <th>746132</th>\n",
       "      <td>109376</td>\n",
       "      <td>2</td>\n",
       "      <td>163353</td>\n",
       "      <td>1.0</td>\n",
       "      <td>99.55</td>\n",
       "    </tr>\n",
       "    <tr>\n",
       "      <th>611</th>\n",
       "      <td>4</td>\n",
       "      <td>3</td>\n",
       "      <td>145834</td>\n",
       "      <td>1.0</td>\n",
       "      <td>038.9</td>\n",
       "    </tr>\n",
       "  </tbody>\n",
       "</table>\n",
       "</div>"
      ],
      "text/plain": [
       "        row_id  subject_id  hadm_id  seq_num ICD9_code\n",
       "608          1           2   163353      1.0    V30.01\n",
       "609          2           2   163353      2.0     V05.3\n",
       "610          3           2   163353      3.0     V29.0\n",
       "746132  109376           2   163353      1.0     99.55\n",
       "611          4           3   145834      1.0     038.9"
      ]
     },
     "execution_count": null,
     "metadata": {},
     "output_type": "execute_result"
    }
   ],
   "source": [
    "df_codes.head()"
   ]
  },
  {
   "cell_type": "markdown",
   "id": "6641af50",
   "metadata": {},
   "source": [
    "Note that at this point we have two dataframes, namely,  \n",
    "1. `df_codes`: contains the `ICD9_code` corresponding to `subject_id` and `hadm_id` (corresponding file: ALL_CODES.csv)\n",
    "2. `df_notes_filter`: contains the `text` (which is the discharge summary) corresponding to the `subject_id` and `hadm_id` (corresponding file: disch_full.csv)"
   ]
  },
  {
   "cell_type": "markdown",
   "id": "f8bbcddb",
   "metadata": {
    "jp-MarkdownHeadingCollapsed": true,
    "tags": []
   },
   "source": [
    "## Consolidate the Raw Text with  (Multi-)Labels"
   ]
  },
  {
   "cell_type": "markdown",
   "id": "55d1b03b",
   "metadata": {},
   "source": [
    "Note that in our case a data point is uniquely identified by `hadm_id`. So let's calculate the unique `hadm_id`s from the two dataframes: `df_codes` and `df_notes_filter` "
   ]
  },
  {
   "cell_type": "code",
   "execution_count": null,
   "id": "ff62f5db",
   "metadata": {},
   "outputs": [
    {
     "data": {
      "text/plain": [
       "(52726, 58976)"
      ]
     },
     "execution_count": null,
     "metadata": {},
     "output_type": "execute_result"
    }
   ],
   "source": [
    "df_notes_filter['hadm_id'].nunique(), df_codes['hadm_id'].nunique()"
   ]
  },
  {
   "cell_type": "markdown",
   "id": "1f9e625b",
   "metadata": {},
   "source": [
    "Okay, hold on a second! It turns out there are 58976 unique hospital admission ids that were assigned ICD9_codes but only 52726 of those unique hospital admission ids had associated discharge summaries. So we need to weed out hospital admission ids that did not have discharge summaries."
   ]
  },
  {
   "cell_type": "markdown",
   "id": "d1f21b20",
   "metadata": {},
   "source": [
    "(Replace later)"
   ]
  },
  {
   "cell_type": "code",
   "execution_count": null,
   "id": "a82dbdee",
   "metadata": {},
   "outputs": [],
   "source": [
    "hadm_ids = set(df_notes_filter['hadm_id'])\n",
    "with open(path_processed/'ALL_CODES.csv', 'r') as lf:\n",
    "    with open(path_processed/'ALL_CODES_filtered.csv', 'w') as of:\n",
    "        w = csv.writer(of)\n",
    "        w.writerow(['subject_id', 'hadm_id', 'ICD9_code', 'admittime', 'dischtime'])\n",
    "        r = csv.reader(lf)\n",
    "        #header\n",
    "        next(r)\n",
    "        for i,row in enumerate(r):\n",
    "            hadm_id = int(row[2])\n",
    "            #print(hadm_id)\n",
    "            #break\n",
    "            if hadm_id in hadm_ids:\n",
    "                w.writerow(row[1:3] + [row[-1], '', ''])"
   ]
  },
  {
   "cell_type": "code",
   "execution_count": null,
   "id": "a8f93fd4",
   "metadata": {},
   "outputs": [
    {
     "name": "stderr",
     "output_type": "stream",
     "text": [
      "/home/ubuntu/miniconda3/envs/menv/lib/python3.8/site-packages/IPython/core/interactiveshell.py:3165: DtypeWarning: Columns (2) have mixed types.Specify dtype option on import or set low_memory=False.\n",
      "  has_raised = await self.run_ast_nodes(code_ast.body, cell_name,\n"
     ]
    }
   ],
   "source": [
    "df_codes_filter = pd.read_csv(path_processed/'ALL_CODES_filtered.csv', index_col=None)"
   ]
  },
  {
   "cell_type": "markdown",
   "id": "40fa9825",
   "metadata": {},
   "source": [
    "Okay, let's now sort the dataframe `df_codes_filter` by `subject_id` and `hadm_id` and rewrite the file `ALL_CODES_filtered.csv` on disk."
   ]
  },
  {
   "cell_type": "code",
   "execution_count": null,
   "id": "e11e24f1",
   "metadata": {},
   "outputs": [],
   "source": [
    "df_codes_filter.sort_values(['subject_id', 'hadm_id'], inplace=True)\n",
    "df_codes_filter.to_csv(path_processed/'ALL_CODES_filtered.csv', index=False)"
   ]
  },
  {
   "cell_type": "code",
   "execution_count": null,
   "id": "73e5329a",
   "metadata": {},
   "outputs": [
    {
     "data": {
      "text/html": [
       "<div>\n",
       "<style scoped>\n",
       "    .dataframe tbody tr th:only-of-type {\n",
       "        vertical-align: middle;\n",
       "    }\n",
       "\n",
       "    .dataframe tbody tr th {\n",
       "        vertical-align: top;\n",
       "    }\n",
       "\n",
       "    .dataframe thead th {\n",
       "        text-align: right;\n",
       "    }\n",
       "</style>\n",
       "<table border=\"1\" class=\"dataframe\">\n",
       "  <thead>\n",
       "    <tr style=\"text-align: right;\">\n",
       "      <th></th>\n",
       "      <th>subject_id</th>\n",
       "      <th>hadm_id</th>\n",
       "      <th>ICD9_code</th>\n",
       "      <th>admittime</th>\n",
       "      <th>dischtime</th>\n",
       "    </tr>\n",
       "  </thead>\n",
       "  <tbody>\n",
       "    <tr>\n",
       "      <th>561</th>\n",
       "      <td>3</td>\n",
       "      <td>145834</td>\n",
       "      <td>038.9</td>\n",
       "      <td>NaN</td>\n",
       "      <td>NaN</td>\n",
       "    </tr>\n",
       "    <tr>\n",
       "      <th>562</th>\n",
       "      <td>3</td>\n",
       "      <td>145834</td>\n",
       "      <td>785.59</td>\n",
       "      <td>NaN</td>\n",
       "      <td>NaN</td>\n",
       "    </tr>\n",
       "    <tr>\n",
       "      <th>563</th>\n",
       "      <td>3</td>\n",
       "      <td>145834</td>\n",
       "      <td>584.9</td>\n",
       "      <td>NaN</td>\n",
       "      <td>NaN</td>\n",
       "    </tr>\n",
       "    <tr>\n",
       "      <th>564</th>\n",
       "      <td>3</td>\n",
       "      <td>145834</td>\n",
       "      <td>427.5</td>\n",
       "      <td>NaN</td>\n",
       "      <td>NaN</td>\n",
       "    </tr>\n",
       "    <tr>\n",
       "      <th>565</th>\n",
       "      <td>3</td>\n",
       "      <td>145834</td>\n",
       "      <td>410.71</td>\n",
       "      <td>NaN</td>\n",
       "      <td>NaN</td>\n",
       "    </tr>\n",
       "  </tbody>\n",
       "</table>\n",
       "</div>"
      ],
      "text/plain": [
       "     subject_id  hadm_id ICD9_code  admittime  dischtime\n",
       "561           3   145834     038.9        NaN        NaN\n",
       "562           3   145834    785.59        NaN        NaN\n",
       "563           3   145834     584.9        NaN        NaN\n",
       "564           3   145834     427.5        NaN        NaN\n",
       "565           3   145834    410.71        NaN        NaN"
      ]
     },
     "execution_count": null,
     "metadata": {},
     "output_type": "execute_result"
    }
   ],
   "source": [
    "df_codes_filter.head()"
   ]
  },
  {
   "cell_type": "code",
   "execution_count": null,
   "id": "7a0ed96e",
   "metadata": {},
   "outputs": [
    {
     "data": {
      "text/plain": [
       "(52726, 52726)"
      ]
     },
     "execution_count": null,
     "metadata": {},
     "output_type": "execute_result"
    }
   ],
   "source": [
    "df_notes_filter['hadm_id'].nunique(), df_codes_filter['hadm_id'].nunique()"
   ]
  },
  {
   "cell_type": "markdown",
   "id": "212d1d6e",
   "metadata": {},
   "source": [
    "Awesome! now we have both the dataframes, `df_notes_filter` and `df_codes_filter`, with the same number of unique hospital admission ids."
   ]
  },
  {
   "cell_type": "markdown",
   "id": "cb175ee9",
   "metadata": {},
   "source": [
    "Note that at this point we have two dataframes, namely,  \n",
    "1. `df_codes_filter`: contains the `ICD9_code` corresponding to `subject_id` and `hadm_id` (corresponding file: ALL_CODES_filtered.csv)\n",
    "2. `df_notes_filter`: contains the `text` (which is the discharge summary) corresponding to the `subject_id` and `hadm_id` (corresponding file: disch_full.csv)"
   ]
  },
  {
   "cell_type": "markdown",
   "id": "9542896d",
   "metadata": {},
   "source": [
    "Finally, we are ready to a create a single file with raw texts and the corresponding labels. We will do this appending labels (i.e., the ICD9_code) to the the raw texts (the discharge summaries, also referred to as notes). \n",
    "\n",
    "(Replace later) Here is a small script that does this. It generates a file called `notes_labelled.csv` in the `processed` subdirectory."
   ]
  },
  {
   "cell_type": "code",
   "execution_count": null,
   "id": "07dde0ac",
   "metadata": {},
   "outputs": [],
   "source": [
    "# concat_and_split.concat_data??"
   ]
  },
  {
   "cell_type": "code",
   "execution_count": null,
   "id": "6b20a18a",
   "metadata": {},
   "outputs": [
    {
     "name": "stdout",
     "output_type": "stream",
     "text": [
      "CONCATENATING\n",
      "0 done\n",
      "10000 done\n",
      "20000 done\n",
      "30000 done\n",
      "40000 done\n",
      "50000 done\n"
     ]
    }
   ],
   "source": [
    "labelsfile = path_processed/'ALL_CODES_filtered.csv'\n",
    "notesfile = path_processed/'disch_full.csv'\n",
    "outfile = path_processed/'notes_labelled.csv'\n",
    "labelled_data = concat_and_split.concat_data(labelsfile, notesfile, outfile)"
   ]
  },
  {
   "cell_type": "markdown",
   "id": "28bec167",
   "metadata": {},
   "source": [
    "Let's read in the data and check:"
   ]
  },
  {
   "cell_type": "code",
   "execution_count": null,
   "id": "0c475661",
   "metadata": {},
   "outputs": [],
   "source": [
    "df_labelled_data = pd.read_csv(outfile)"
   ]
  },
  {
   "cell_type": "markdown",
   "id": "beea2d77",
   "metadata": {},
   "source": [
    "Let's convert the column names to lower case"
   ]
  },
  {
   "cell_type": "code",
   "execution_count": null,
   "id": "c88adc09",
   "metadata": {},
   "outputs": [],
   "source": [
    "df_labelled_data.rename(columns = {col: col.lower() for col in df_labelled_data.columns}, inplace=True)"
   ]
  },
  {
   "cell_type": "markdown",
   "id": "0f0eb93a",
   "metadata": {},
   "source": [
    "Let's take a look:"
   ]
  },
  {
   "cell_type": "code",
   "execution_count": null,
   "id": "fa33816c",
   "metadata": {},
   "outputs": [
    {
     "data": {
      "text/html": [
       "<div>\n",
       "<style scoped>\n",
       "    .dataframe tbody tr th:only-of-type {\n",
       "        vertical-align: middle;\n",
       "    }\n",
       "\n",
       "    .dataframe tbody tr th {\n",
       "        vertical-align: top;\n",
       "    }\n",
       "\n",
       "    .dataframe thead th {\n",
       "        text-align: right;\n",
       "    }\n",
       "</style>\n",
       "<table border=\"1\" class=\"dataframe\">\n",
       "  <thead>\n",
       "    <tr style=\"text-align: right;\">\n",
       "      <th></th>\n",
       "      <th>subject_id</th>\n",
       "      <th>hadm_id</th>\n",
       "      <th>text</th>\n",
       "      <th>labels</th>\n",
       "    </tr>\n",
       "  </thead>\n",
       "  <tbody>\n",
       "    <tr>\n",
       "      <th>0</th>\n",
       "      <td>3</td>\n",
       "      <td>145834</td>\n",
       "      <td>Admission Date:  [**2101-10-20**]     Discharge Date:  [**2101-10-31**]\\n\\nDate of Birth:   [**2025-4-11**]     Sex:  M\\n\\nService:  Medicine\\n\\nCHIEF COMPLAINT:  Admitted from rehabilitation for\\nhypotension (systolic blood pressure to the 70s) and\\ndecreased urine output.\\n\\nHISTORY OF PRESENT ILLNESS:  The patient is a 76-year-old\\nmale who had been hospitalized at the [**Hospital1 190**] from [**10-11**] through [**10-19**] of [**2101**]\\nafter undergoing a left femoral-AT bypass graft and was\\nsubsequently discharged to a rehabilitation facility.\\n\\nOn [**2101-10-20**], he presented a...</td>\n",
       "      <td>038.9;785.59;584.9;427.5;410.71;428.0;682.6;425.4;263.9;96.04;99.62;89.64;96.72;38.93;96.6</td>\n",
       "    </tr>\n",
       "    <tr>\n",
       "      <th>1</th>\n",
       "      <td>4</td>\n",
       "      <td>185777</td>\n",
       "      <td>Admission Date:  [**2191-3-16**]     Discharge Date:  [**2191-3-23**]\\n\\nDate of Birth:   [**2143-5-12**]     Sex:  F\\n\\nService:\\n\\nCHIEF COMPLAINT:  Shortness of breath and fevers.\\n\\nHISTORY OF PRESENT ILLNESS:  The patient is a 47-year-old\\nfemale with a history of human immunodeficiency virus (last\\nCD4 count 42 and a viral load of 65,000), cirrhosis,\\ndiabetes, and hypothyroidism presented with eight days of\\nfevers to 104, chills, shortness of breath, cough, dyspnea on\\nexertion, and fatigue.\\n\\nThe patient states she has become progressively dyspneic to\\nthe point where she is shor...</td>\n",
       "      <td>042;136.3;799.4;276.3;790.7;571.5;041.11;V09.0;E931.7;38.93;88.72;33.23</td>\n",
       "    </tr>\n",
       "    <tr>\n",
       "      <th>2</th>\n",
       "      <td>6</td>\n",
       "      <td>107064</td>\n",
       "      <td>Admission Date: [**2175-5-30**]        Discharge Date:  [**2175-6-15**]\\n\\nDate of Birth:                    Sex:  F\\n\\nService:\\n\\n\\nADMISSION DIAGNOSIS:  End stage renal disease, admitted for\\ntransplant surgery.\\n\\nHISTORY OF PRESENT ILLNESS:  The patient is a 65 year-old\\nwoman with end stage renal disease, secondary to malignant\\nhypertension. She was started on dialysis in [**2174-2-7**].  She currently was on peritoneal dialysis and appears\\nto be doing well.  She has a history of gastric angiectasia\\nwhich she requires endoscopy. She was admitted on [**2175-5-30**] for\\na scheduled...</td>\n",
       "      <td>403.91;444.0;997.2;276.6;276.7;285.9;275.3;V15.82;55.69;91.0;39.57;38.06;99.04</td>\n",
       "    </tr>\n",
       "    <tr>\n",
       "      <th>3</th>\n",
       "      <td>9</td>\n",
       "      <td>150750</td>\n",
       "      <td>Admission Date:  [**2149-11-9**]       Discharge Date: [**2149-11-13**]\\n\\nDate of Birth:   [**2108-1-26**]       Sex:  M\\n\\nService:  NEUROLOGY\\n\\nCHIEF COMPLAINT:  Weakness, inability to talk.\\n\\nHISTORY OF THE PRESENT ILLNESS:  This is a 41-year-old\\nAfrican-American male with a history of hypertension who was\\nin his usual state of health until about 10:25 a.m. on the\\nmorning of admission.  He had gone to use the restroom and a\\nfew minutes later his family found him slumped onto the\\nfloor, apparently unable to talk and with weakness in his\\nright arm and leg.  EMS was called and he ...</td>\n",
       "      <td>431;507.0;428.0;584.9;276.5;401.9;96.72;96.04</td>\n",
       "    </tr>\n",
       "  </tbody>\n",
       "</table>\n",
       "</div>"
      ],
      "text/plain": [
       "   subject_id  hadm_id  \\\n",
       "0           3   145834   \n",
       "1           4   185777   \n",
       "2           6   107064   \n",
       "3           9   150750   \n",
       "\n",
       "                                                                                                                                                                                                                                                                                                                                                                                                                                                                                                                                                                                                                      text  \\\n",
       "0  Admission Date:  [**2101-10-20**]     Discharge Date:  [**2101-10-31**]\\n\\nDate of Birth:   [**2025-4-11**]     Sex:  M\\n\\nService:  Medicine\\n\\nCHIEF COMPLAINT:  Admitted from rehabilitation for\\nhypotension (systolic blood pressure to the 70s) and\\ndecreased urine output.\\n\\nHISTORY OF PRESENT ILLNESS:  The patient is a 76-year-old\\nmale who had been hospitalized at the [**Hospital1 190**] from [**10-11**] through [**10-19**] of [**2101**]\\nafter undergoing a left femoral-AT bypass graft and was\\nsubsequently discharged to a rehabilitation facility.\\n\\nOn [**2101-10-20**], he presented a...   \n",
       "1  Admission Date:  [**2191-3-16**]     Discharge Date:  [**2191-3-23**]\\n\\nDate of Birth:   [**2143-5-12**]     Sex:  F\\n\\nService:\\n\\nCHIEF COMPLAINT:  Shortness of breath and fevers.\\n\\nHISTORY OF PRESENT ILLNESS:  The patient is a 47-year-old\\nfemale with a history of human immunodeficiency virus (last\\nCD4 count 42 and a viral load of 65,000), cirrhosis,\\ndiabetes, and hypothyroidism presented with eight days of\\nfevers to 104, chills, shortness of breath, cough, dyspnea on\\nexertion, and fatigue.\\n\\nThe patient states she has become progressively dyspneic to\\nthe point where she is shor...   \n",
       "2  Admission Date: [**2175-5-30**]        Discharge Date:  [**2175-6-15**]\\n\\nDate of Birth:                    Sex:  F\\n\\nService:\\n\\n\\nADMISSION DIAGNOSIS:  End stage renal disease, admitted for\\ntransplant surgery.\\n\\nHISTORY OF PRESENT ILLNESS:  The patient is a 65 year-old\\nwoman with end stage renal disease, secondary to malignant\\nhypertension. She was started on dialysis in [**2174-2-7**].  She currently was on peritoneal dialysis and appears\\nto be doing well.  She has a history of gastric angiectasia\\nwhich she requires endoscopy. She was admitted on [**2175-5-30**] for\\na scheduled...   \n",
       "3  Admission Date:  [**2149-11-9**]       Discharge Date: [**2149-11-13**]\\n\\nDate of Birth:   [**2108-1-26**]       Sex:  M\\n\\nService:  NEUROLOGY\\n\\nCHIEF COMPLAINT:  Weakness, inability to talk.\\n\\nHISTORY OF THE PRESENT ILLNESS:  This is a 41-year-old\\nAfrican-American male with a history of hypertension who was\\nin his usual state of health until about 10:25 a.m. on the\\nmorning of admission.  He had gone to use the restroom and a\\nfew minutes later his family found him slumped onto the\\nfloor, apparently unable to talk and with weakness in his\\nright arm and leg.  EMS was called and he ...   \n",
       "\n",
       "                                                                                       labels  \n",
       "0  038.9;785.59;584.9;427.5;410.71;428.0;682.6;425.4;263.9;96.04;99.62;89.64;96.72;38.93;96.6  \n",
       "1                     042;136.3;799.4;276.3;790.7;571.5;041.11;V09.0;E931.7;38.93;88.72;33.23  \n",
       "2              403.91;444.0;997.2;276.6;276.7;285.9;275.3;V15.82;55.69;91.0;39.57;38.06;99.04  \n",
       "3                                               431;507.0;428.0;584.9;276.5;401.9;96.72;96.04  "
      ]
     },
     "execution_count": null,
     "metadata": {},
     "output_type": "execute_result"
    }
   ],
   "source": [
    "df_labelled_data.head(4)"
   ]
  },
  {
   "cell_type": "markdown",
   "id": "f7d890e0",
   "metadata": {},
   "source": [
    "Let's calculate the number of unique `hadm_id`s and see if it is still 52726:"
   ]
  },
  {
   "cell_type": "code",
   "execution_count": null,
   "id": "d0344ef0",
   "metadata": {},
   "outputs": [
    {
     "data": {
      "text/plain": [
       "52726"
      ]
     },
     "execution_count": null,
     "metadata": {},
     "output_type": "execute_result"
    }
   ],
   "source": [
    "df_labelled_data['hadm_id'].nunique()"
   ]
  },
  {
   "cell_type": "markdown",
   "id": "bba63f94",
   "metadata": {},
   "source": [
    "Yes, it is! Let's save it again:"
   ]
  },
  {
   "cell_type": "code",
   "execution_count": null,
   "id": "dda4c83b",
   "metadata": {},
   "outputs": [],
   "source": [
    "df_labelled_data.to_csv(outfile, index=False)"
   ]
  },
  {
   "cell_type": "markdown",
   "id": "6c3b9ca5",
   "metadata": {},
   "source": [
    "**So the final file which contains our labelled data is `notes_labelled.csv`.**"
   ]
  },
  {
   "cell_type": "code",
   "execution_count": null,
   "id": "d096eb56",
   "metadata": {},
   "outputs": [],
   "source": [
    "# for row in df_labelled_data.itertuples():\n",
    "#     print(row.SUBJECT_ID, \"|\", row.LABELS)\n",
    "#     break"
   ]
  },
  {
   "cell_type": "markdown",
   "id": "9d50b826",
   "metadata": {},
   "source": [
    "Let's now read the hadm_id splits (into train/dev/test) created by CAML_MIMIC paper."
   ]
  },
  {
   "cell_type": "code",
   "execution_count": null,
   "id": "2f118b4c",
   "metadata": {},
   "outputs": [
    {
     "name": "stdout",
     "output_type": "stream",
     "text": [
      "/home/ubuntu/codemimic/data2/train_full_hadm_ids.csv\n",
      "/home/ubuntu/codemimic/data2/test_full_hadm_ids.csv\n",
      "/home/ubuntu/codemimic/data2/dev_full_hadm_ids.csv\n"
     ]
    }
   ],
   "source": [
    "!find {path_data} -type f -name '*full_hadm*'"
   ]
  },
  {
   "cell_type": "code",
   "execution_count": null,
   "id": "bf4c7b32",
   "metadata": {},
   "outputs": [
    {
     "data": {
      "text/plain": [
       "(47723, 1631, 3372)"
      ]
     },
     "execution_count": null,
     "metadata": {},
     "output_type": "execute_result"
    }
   ],
   "source": [
    "train_hadm = pd.read_csv(path_data/'train_full_hadm_ids.csv', header=None)\n",
    "dev_hadm = pd.read_csv(path_data/'dev_full_hadm_ids.csv', header=None)\n",
    "test_hadm = pd.read_csv(path_data/'test_full_hadm_ids.csv', header=None)\n",
    "len(train_hadm), len(dev_hadm), len(test_hadm)"
   ]
  },
  {
   "cell_type": "code",
   "execution_count": null,
   "id": "406d6bcc",
   "metadata": {},
   "outputs": [],
   "source": [
    "train_hadm['hadm_id'] = train_hadm;  del train_hadm[0]; train_hadm['is_valid'] = False\n",
    "dev_hadm['hadm_id'] = dev_hadm; del dev_hadm[0]; dev_hadm['is_valid'] = False\n",
    "test_hadm['hadm_id'] = test_hadm; del test_hadm[0]; test_hadm['is_valid'] = True"
   ]
  },
  {
   "cell_type": "code",
   "execution_count": null,
   "id": "1b3b14fb",
   "metadata": {},
   "outputs": [
    {
     "data": {
      "text/html": [
       "<div>\n",
       "<style scoped>\n",
       "    .dataframe tbody tr th:only-of-type {\n",
       "        vertical-align: middle;\n",
       "    }\n",
       "\n",
       "    .dataframe tbody tr th {\n",
       "        vertical-align: top;\n",
       "    }\n",
       "\n",
       "    .dataframe thead th {\n",
       "        text-align: right;\n",
       "    }\n",
       "</style>\n",
       "<table border=\"1\" class=\"dataframe\">\n",
       "  <thead>\n",
       "    <tr style=\"text-align: right;\">\n",
       "      <th></th>\n",
       "      <th>hadm_id</th>\n",
       "      <th>is_valid</th>\n",
       "    </tr>\n",
       "  </thead>\n",
       "  <tbody>\n",
       "    <tr>\n",
       "      <th>0</th>\n",
       "      <td>169433</td>\n",
       "      <td>False</td>\n",
       "    </tr>\n",
       "    <tr>\n",
       "      <th>1</th>\n",
       "      <td>178124</td>\n",
       "      <td>False</td>\n",
       "    </tr>\n",
       "    <tr>\n",
       "      <th>2</th>\n",
       "      <td>139808</td>\n",
       "      <td>False</td>\n",
       "    </tr>\n",
       "    <tr>\n",
       "      <th>3</th>\n",
       "      <td>117638</td>\n",
       "      <td>False</td>\n",
       "    </tr>\n",
       "    <tr>\n",
       "      <th>4</th>\n",
       "      <td>190945</td>\n",
       "      <td>False</td>\n",
       "    </tr>\n",
       "    <tr>\n",
       "      <th>...</th>\n",
       "      <td>...</td>\n",
       "      <td>...</td>\n",
       "    </tr>\n",
       "    <tr>\n",
       "      <th>47718</th>\n",
       "      <td>105131</td>\n",
       "      <td>False</td>\n",
       "    </tr>\n",
       "    <tr>\n",
       "      <th>47719</th>\n",
       "      <td>112625</td>\n",
       "      <td>False</td>\n",
       "    </tr>\n",
       "    <tr>\n",
       "      <th>47720</th>\n",
       "      <td>128930</td>\n",
       "      <td>False</td>\n",
       "    </tr>\n",
       "    <tr>\n",
       "      <th>47721</th>\n",
       "      <td>172599</td>\n",
       "      <td>False</td>\n",
       "    </tr>\n",
       "    <tr>\n",
       "      <th>47722</th>\n",
       "      <td>164627</td>\n",
       "      <td>False</td>\n",
       "    </tr>\n",
       "  </tbody>\n",
       "</table>\n",
       "<p>47723 rows × 2 columns</p>\n",
       "</div>"
      ],
      "text/plain": [
       "       hadm_id  is_valid\n",
       "0       169433     False\n",
       "1       178124     False\n",
       "2       139808     False\n",
       "3       117638     False\n",
       "4       190945     False\n",
       "...        ...       ...\n",
       "47718   105131     False\n",
       "47719   112625     False\n",
       "47720   128930     False\n",
       "47721   172599     False\n",
       "47722   164627     False\n",
       "\n",
       "[47723 rows x 2 columns]"
      ]
     },
     "execution_count": null,
     "metadata": {},
     "output_type": "execute_result"
    }
   ],
   "source": [
    "train_hadm"
   ]
  },
  {
   "cell_type": "code",
   "execution_count": null,
   "id": "1454e7e5",
   "metadata": {},
   "outputs": [
    {
     "data": {
      "text/html": [
       "<div>\n",
       "<style scoped>\n",
       "    .dataframe tbody tr th:only-of-type {\n",
       "        vertical-align: middle;\n",
       "    }\n",
       "\n",
       "    .dataframe tbody tr th {\n",
       "        vertical-align: top;\n",
       "    }\n",
       "\n",
       "    .dataframe thead th {\n",
       "        text-align: right;\n",
       "    }\n",
       "</style>\n",
       "<table border=\"1\" class=\"dataframe\">\n",
       "  <thead>\n",
       "    <tr style=\"text-align: right;\">\n",
       "      <th></th>\n",
       "      <th>hadm_id</th>\n",
       "      <th>is_valid</th>\n",
       "    </tr>\n",
       "  </thead>\n",
       "  <tbody>\n",
       "    <tr>\n",
       "      <th>0</th>\n",
       "      <td>111912</td>\n",
       "      <td>False</td>\n",
       "    </tr>\n",
       "    <tr>\n",
       "      <th>1</th>\n",
       "      <td>189769</td>\n",
       "      <td>False</td>\n",
       "    </tr>\n",
       "    <tr>\n",
       "      <th>2</th>\n",
       "      <td>180431</td>\n",
       "      <td>False</td>\n",
       "    </tr>\n",
       "    <tr>\n",
       "      <th>3</th>\n",
       "      <td>152868</td>\n",
       "      <td>False</td>\n",
       "    </tr>\n",
       "    <tr>\n",
       "      <th>4</th>\n",
       "      <td>169373</td>\n",
       "      <td>False</td>\n",
       "    </tr>\n",
       "    <tr>\n",
       "      <th>...</th>\n",
       "      <td>...</td>\n",
       "      <td>...</td>\n",
       "    </tr>\n",
       "    <tr>\n",
       "      <th>1626</th>\n",
       "      <td>173821</td>\n",
       "      <td>False</td>\n",
       "    </tr>\n",
       "    <tr>\n",
       "      <th>1627</th>\n",
       "      <td>157264</td>\n",
       "      <td>False</td>\n",
       "    </tr>\n",
       "    <tr>\n",
       "      <th>1628</th>\n",
       "      <td>164038</td>\n",
       "      <td>False</td>\n",
       "    </tr>\n",
       "    <tr>\n",
       "      <th>1629</th>\n",
       "      <td>167925</td>\n",
       "      <td>False</td>\n",
       "    </tr>\n",
       "    <tr>\n",
       "      <th>1630</th>\n",
       "      <td>143537</td>\n",
       "      <td>False</td>\n",
       "    </tr>\n",
       "  </tbody>\n",
       "</table>\n",
       "<p>1631 rows × 2 columns</p>\n",
       "</div>"
      ],
      "text/plain": [
       "      hadm_id  is_valid\n",
       "0      111912     False\n",
       "1      189769     False\n",
       "2      180431     False\n",
       "3      152868     False\n",
       "4      169373     False\n",
       "...       ...       ...\n",
       "1626   173821     False\n",
       "1627   157264     False\n",
       "1628   164038     False\n",
       "1629   167925     False\n",
       "1630   143537     False\n",
       "\n",
       "[1631 rows x 2 columns]"
      ]
     },
     "execution_count": null,
     "metadata": {},
     "output_type": "execute_result"
    }
   ],
   "source": [
    "dev_hadm"
   ]
  },
  {
   "cell_type": "code",
   "execution_count": null,
   "id": "2eee5fc3",
   "metadata": {},
   "outputs": [
    {
     "data": {
      "text/html": [
       "<div>\n",
       "<style scoped>\n",
       "    .dataframe tbody tr th:only-of-type {\n",
       "        vertical-align: middle;\n",
       "    }\n",
       "\n",
       "    .dataframe tbody tr th {\n",
       "        vertical-align: top;\n",
       "    }\n",
       "\n",
       "    .dataframe thead th {\n",
       "        text-align: right;\n",
       "    }\n",
       "</style>\n",
       "<table border=\"1\" class=\"dataframe\">\n",
       "  <thead>\n",
       "    <tr style=\"text-align: right;\">\n",
       "      <th></th>\n",
       "      <th>hadm_id</th>\n",
       "      <th>is_valid</th>\n",
       "    </tr>\n",
       "  </thead>\n",
       "  <tbody>\n",
       "    <tr>\n",
       "      <th>0</th>\n",
       "      <td>104128</td>\n",
       "      <td>True</td>\n",
       "    </tr>\n",
       "    <tr>\n",
       "      <th>1</th>\n",
       "      <td>193800</td>\n",
       "      <td>True</td>\n",
       "    </tr>\n",
       "    <tr>\n",
       "      <th>2</th>\n",
       "      <td>176502</td>\n",
       "      <td>True</td>\n",
       "    </tr>\n",
       "    <tr>\n",
       "      <th>3</th>\n",
       "      <td>190960</td>\n",
       "      <td>True</td>\n",
       "    </tr>\n",
       "    <tr>\n",
       "      <th>4</th>\n",
       "      <td>186684</td>\n",
       "      <td>True</td>\n",
       "    </tr>\n",
       "    <tr>\n",
       "      <th>...</th>\n",
       "      <td>...</td>\n",
       "      <td>...</td>\n",
       "    </tr>\n",
       "    <tr>\n",
       "      <th>3367</th>\n",
       "      <td>176399</td>\n",
       "      <td>True</td>\n",
       "    </tr>\n",
       "    <tr>\n",
       "      <th>3368</th>\n",
       "      <td>142423</td>\n",
       "      <td>True</td>\n",
       "    </tr>\n",
       "    <tr>\n",
       "      <th>3369</th>\n",
       "      <td>106110</td>\n",
       "      <td>True</td>\n",
       "    </tr>\n",
       "    <tr>\n",
       "      <th>3370</th>\n",
       "      <td>158581</td>\n",
       "      <td>True</td>\n",
       "    </tr>\n",
       "    <tr>\n",
       "      <th>3371</th>\n",
       "      <td>115396</td>\n",
       "      <td>True</td>\n",
       "    </tr>\n",
       "  </tbody>\n",
       "</table>\n",
       "<p>3372 rows × 2 columns</p>\n",
       "</div>"
      ],
      "text/plain": [
       "      hadm_id  is_valid\n",
       "0      104128      True\n",
       "1      193800      True\n",
       "2      176502      True\n",
       "3      190960      True\n",
       "4      186684      True\n",
       "...       ...       ...\n",
       "3367   176399      True\n",
       "3368   142423      True\n",
       "3369   106110      True\n",
       "3370   158581      True\n",
       "3371   115396      True\n",
       "\n",
       "[3372 rows x 2 columns]"
      ]
     },
     "execution_count": null,
     "metadata": {},
     "output_type": "execute_result"
    }
   ],
   "source": [
    "test_hadm"
   ]
  },
  {
   "cell_type": "markdown",
   "id": "4fc2a807",
   "metadata": {},
   "source": [
    "Let's now concatenate the three hadm_ids so that we can merge with the dataframe `df_labelled_data` based on the column `hadm_id`: "
   ]
  },
  {
   "cell_type": "code",
   "execution_count": null,
   "id": "be0e5027",
   "metadata": {},
   "outputs": [
    {
     "data": {
      "text/html": [
       "<div>\n",
       "<style scoped>\n",
       "    .dataframe tbody tr th:only-of-type {\n",
       "        vertical-align: middle;\n",
       "    }\n",
       "\n",
       "    .dataframe tbody tr th {\n",
       "        vertical-align: top;\n",
       "    }\n",
       "\n",
       "    .dataframe thead th {\n",
       "        text-align: right;\n",
       "    }\n",
       "</style>\n",
       "<table border=\"1\" class=\"dataframe\">\n",
       "  <thead>\n",
       "    <tr style=\"text-align: right;\">\n",
       "      <th></th>\n",
       "      <th>hadm_id</th>\n",
       "      <th>is_valid</th>\n",
       "    </tr>\n",
       "  </thead>\n",
       "  <tbody>\n",
       "    <tr>\n",
       "      <th>0</th>\n",
       "      <td>169433</td>\n",
       "      <td>False</td>\n",
       "    </tr>\n",
       "    <tr>\n",
       "      <th>1</th>\n",
       "      <td>178124</td>\n",
       "      <td>False</td>\n",
       "    </tr>\n",
       "    <tr>\n",
       "      <th>2</th>\n",
       "      <td>139808</td>\n",
       "      <td>False</td>\n",
       "    </tr>\n",
       "    <tr>\n",
       "      <th>3</th>\n",
       "      <td>117638</td>\n",
       "      <td>False</td>\n",
       "    </tr>\n",
       "    <tr>\n",
       "      <th>4</th>\n",
       "      <td>190945</td>\n",
       "      <td>False</td>\n",
       "    </tr>\n",
       "    <tr>\n",
       "      <th>...</th>\n",
       "      <td>...</td>\n",
       "      <td>...</td>\n",
       "    </tr>\n",
       "    <tr>\n",
       "      <th>3367</th>\n",
       "      <td>176399</td>\n",
       "      <td>True</td>\n",
       "    </tr>\n",
       "    <tr>\n",
       "      <th>3368</th>\n",
       "      <td>142423</td>\n",
       "      <td>True</td>\n",
       "    </tr>\n",
       "    <tr>\n",
       "      <th>3369</th>\n",
       "      <td>106110</td>\n",
       "      <td>True</td>\n",
       "    </tr>\n",
       "    <tr>\n",
       "      <th>3370</th>\n",
       "      <td>158581</td>\n",
       "      <td>True</td>\n",
       "    </tr>\n",
       "    <tr>\n",
       "      <th>3371</th>\n",
       "      <td>115396</td>\n",
       "      <td>True</td>\n",
       "    </tr>\n",
       "  </tbody>\n",
       "</table>\n",
       "<p>52726 rows × 2 columns</p>\n",
       "</div>"
      ],
      "text/plain": [
       "      hadm_id  is_valid\n",
       "0      169433     False\n",
       "1      178124     False\n",
       "2      139808     False\n",
       "3      117638     False\n",
       "4      190945     False\n",
       "...       ...       ...\n",
       "3367   176399      True\n",
       "3368   142423      True\n",
       "3369   106110      True\n",
       "3370   158581      True\n",
       "3371   115396      True\n",
       "\n",
       "[52726 rows x 2 columns]"
      ]
     },
     "execution_count": null,
     "metadata": {},
     "output_type": "execute_result"
    }
   ],
   "source": [
    "hadm = pd.concat([train_hadm, dev_hadm, test_hadm]); hadm"
   ]
  },
  {
   "cell_type": "markdown",
   "id": "14d6f719",
   "metadata": {},
   "source": [
    "Let's now merge `df_labelled_data` and `hadm`:"
   ]
  },
  {
   "cell_type": "code",
   "execution_count": null,
   "id": "b54b9e1d",
   "metadata": {},
   "outputs": [
    {
     "data": {
      "text/plain": [
       "(Index(['subject_id', 'hadm_id', 'text', 'labels'], dtype='object'),\n",
       " Index(['hadm_id', 'is_valid'], dtype='object'))"
      ]
     },
     "execution_count": null,
     "metadata": {},
     "output_type": "execute_result"
    }
   ],
   "source": [
    "df_labelled_data.columns, hadm.columns"
   ]
  },
  {
   "cell_type": "code",
   "execution_count": null,
   "id": "cc4a7ef0",
   "metadata": {},
   "outputs": [],
   "source": [
    "df_labelled_data = df_labelled_data.merge(hadm)"
   ]
  },
  {
   "cell_type": "code",
   "execution_count": null,
   "id": "4cf17e8b",
   "metadata": {},
   "outputs": [
    {
     "data": {
      "text/html": [
       "<div>\n",
       "<style scoped>\n",
       "    .dataframe tbody tr th:only-of-type {\n",
       "        vertical-align: middle;\n",
       "    }\n",
       "\n",
       "    .dataframe tbody tr th {\n",
       "        vertical-align: top;\n",
       "    }\n",
       "\n",
       "    .dataframe thead th {\n",
       "        text-align: right;\n",
       "    }\n",
       "</style>\n",
       "<table border=\"1\" class=\"dataframe\">\n",
       "  <thead>\n",
       "    <tr style=\"text-align: right;\">\n",
       "      <th></th>\n",
       "      <th>subject_id</th>\n",
       "      <th>hadm_id</th>\n",
       "      <th>text</th>\n",
       "      <th>labels</th>\n",
       "      <th>is_valid</th>\n",
       "    </tr>\n",
       "  </thead>\n",
       "  <tbody>\n",
       "    <tr>\n",
       "      <th>0</th>\n",
       "      <td>3</td>\n",
       "      <td>145834</td>\n",
       "      <td>Admission Date:  [**2101-10-20**]     Discharge Date:  [**2101-10-31**]\\n\\nDate of Birth:   [**2025-4-11**]     Sex:  M\\n\\nService:  Medicine\\n\\nCHIEF COMPLAINT:  Admitted from rehabilitation for\\nhypotension (systolic blood pressure to the 70s) and\\ndecreased urine output.\\n\\nHISTORY OF PRESENT ILLNESS:  The patient is a 76-year-old\\nmale who had been hospitalized at the [**Hospital1 190**] from [**10-11**] through [**10-19**] of [**2101**]\\nafter undergoing a left femoral-AT bypass graft and was\\nsubsequently discharged to a rehabilitation facility.\\n\\nOn [**2101-10-20**], he presented a...</td>\n",
       "      <td>038.9;785.59;584.9;427.5;410.71;428.0;682.6;425.4;263.9;96.04;99.62;89.64;96.72;38.93;96.6</td>\n",
       "      <td>False</td>\n",
       "    </tr>\n",
       "    <tr>\n",
       "      <th>1</th>\n",
       "      <td>4</td>\n",
       "      <td>185777</td>\n",
       "      <td>Admission Date:  [**2191-3-16**]     Discharge Date:  [**2191-3-23**]\\n\\nDate of Birth:   [**2143-5-12**]     Sex:  F\\n\\nService:\\n\\nCHIEF COMPLAINT:  Shortness of breath and fevers.\\n\\nHISTORY OF PRESENT ILLNESS:  The patient is a 47-year-old\\nfemale with a history of human immunodeficiency virus (last\\nCD4 count 42 and a viral load of 65,000), cirrhosis,\\ndiabetes, and hypothyroidism presented with eight days of\\nfevers to 104, chills, shortness of breath, cough, dyspnea on\\nexertion, and fatigue.\\n\\nThe patient states she has become progressively dyspneic to\\nthe point where she is shor...</td>\n",
       "      <td>042;136.3;799.4;276.3;790.7;571.5;041.11;V09.0;E931.7;38.93;88.72;33.23</td>\n",
       "      <td>False</td>\n",
       "    </tr>\n",
       "    <tr>\n",
       "      <th>2</th>\n",
       "      <td>6</td>\n",
       "      <td>107064</td>\n",
       "      <td>Admission Date: [**2175-5-30**]        Discharge Date:  [**2175-6-15**]\\n\\nDate of Birth:                    Sex:  F\\n\\nService:\\n\\n\\nADMISSION DIAGNOSIS:  End stage renal disease, admitted for\\ntransplant surgery.\\n\\nHISTORY OF PRESENT ILLNESS:  The patient is a 65 year-old\\nwoman with end stage renal disease, secondary to malignant\\nhypertension. She was started on dialysis in [**2174-2-7**].  She currently was on peritoneal dialysis and appears\\nto be doing well.  She has a history of gastric angiectasia\\nwhich she requires endoscopy. She was admitted on [**2175-5-30**] for\\na scheduled...</td>\n",
       "      <td>403.91;444.0;997.2;276.6;276.7;285.9;275.3;V15.82;55.69;91.0;39.57;38.06;99.04</td>\n",
       "      <td>False</td>\n",
       "    </tr>\n",
       "    <tr>\n",
       "      <th>3</th>\n",
       "      <td>9</td>\n",
       "      <td>150750</td>\n",
       "      <td>Admission Date:  [**2149-11-9**]       Discharge Date: [**2149-11-13**]\\n\\nDate of Birth:   [**2108-1-26**]       Sex:  M\\n\\nService:  NEUROLOGY\\n\\nCHIEF COMPLAINT:  Weakness, inability to talk.\\n\\nHISTORY OF THE PRESENT ILLNESS:  This is a 41-year-old\\nAfrican-American male with a history of hypertension who was\\nin his usual state of health until about 10:25 a.m. on the\\nmorning of admission.  He had gone to use the restroom and a\\nfew minutes later his family found him slumped onto the\\nfloor, apparently unable to talk and with weakness in his\\nright arm and leg.  EMS was called and he ...</td>\n",
       "      <td>431;507.0;428.0;584.9;276.5;401.9;96.72;96.04</td>\n",
       "      <td>False</td>\n",
       "    </tr>\n",
       "    <tr>\n",
       "      <th>4</th>\n",
       "      <td>10</td>\n",
       "      <td>184167</td>\n",
       "      <td>Admission Date:  [**2103-6-28**]       Discharge Date:  [**2103-7-6**]\\n\\nDate of Birth:   [**2103-6-28**]       Sex:  F\\n\\nService:\\n\\nHISTORY OF PRESENT ILLNESS:  Baby Girl [**Known lastname 48639**] is a 1,385\\ngram, former 30 and [**5-23**] week premature baby, born to an 18\\nyear old, Gravida I, Para 0, now I, mother with prenatal\\nserologies as follows:\\n\\nA positive, antibody negative, RPR nonreactive, hepatitis B\\nsurface antigen negative; GBS unknown.\\n\\nPregnancy was complicated by PPROM on [**2103-6-23**] when the\\nmother was transferred from [**Name (NI) 1474**] Hospital to [**...</td>\n",
       "      <td>V30.00;774.2;765.25;765.15;V29.0;99.83;99.15;96.6</td>\n",
       "      <td>False</td>\n",
       "    </tr>\n",
       "    <tr>\n",
       "      <th>...</th>\n",
       "      <td>...</td>\n",
       "      <td>...</td>\n",
       "      <td>...</td>\n",
       "      <td>...</td>\n",
       "      <td>...</td>\n",
       "    </tr>\n",
       "    <tr>\n",
       "      <th>52721</th>\n",
       "      <td>99985</td>\n",
       "      <td>176670</td>\n",
       "      <td>Admission Date:  [**2181-1-27**]              Discharge Date:   [**2181-2-12**]\\n\\nDate of Birth:  [**2127-4-8**]             Sex:   M\\n\\nService: MEDICINE\\n\\nAllergies:\\nCefepime\\n\\nAttending:[**First Name3 (LF) 1936**]\\nChief Complaint:\\nfever\\n\\nMajor Surgical or Invasive Procedure:\\nnone\\n\\nHistory of Present Illness:\\nPt's a 53-year-old male patient of Dr. [**First Name4 (NamePattern1) **] [**Last Name (NamePattern1) **] is here\\nfor evaluation of fever.  The patient states fever began two\\ndays ago along with a mild dry cough, fever was low-grade at\\nthat time.  Day of admission, pt ...</td>\n",
       "      <td>038.9;518.81;482.41;487.0;785.52;V42.81;995.92;244.9;272.4;285.9;530.81;V10.72;238.71;96.72;96.6;38.93;14.0;96.04</td>\n",
       "      <td>True</td>\n",
       "    </tr>\n",
       "    <tr>\n",
       "      <th>52722</th>\n",
       "      <td>99991</td>\n",
       "      <td>151118</td>\n",
       "      <td>Admission Date:  [**2184-12-24**]              Discharge Date:   [**2185-1-5**]\\n\\nDate of Birth:  [**2137-4-7**]             Sex:   M\\n\\nService: SURGERY\\n\\nAllergies:\\nPatient recorded as having No Known Allergies to Drugs\\n\\nAttending:[**First Name3 (LF) 6346**]\\nChief Complaint:\\nRecurrent diverticulitis\\n\\nMajor Surgical or Invasive Procedure:\\n[**2184-12-24**]: Laparoscopic sigmoid colectomy, splenic flexure\\ntakedown, rigid sigmoidoscopy.\\n.\\n[**2184-12-28**]: Exploratory laparotomy, lysis of adhesions,\\nomentectomy, washout of abdomen, drain placement and abdominal\\nclosure.\\n\\n\\nH...</td>\n",
       "      <td>562.11;038.9;557.0;584.9;995.92;560.81;789.59;553.8;788.5;402.91;428.0;719.47;564.4;250.00;V02.54;E878.8;276.51;17.36;54.12;54.59;54.4;48.23;54.25;54.91</td>\n",
       "      <td>True</td>\n",
       "    </tr>\n",
       "    <tr>\n",
       "      <th>52723</th>\n",
       "      <td>99992</td>\n",
       "      <td>197084</td>\n",
       "      <td>Admission Date:  [**2144-7-25**]              Discharge Date:   [**2144-7-28**]\\n\\nDate of Birth:  [**2078-10-17**]             Sex:   F\\n\\nService: MEDICINE\\n\\nAllergies:\\nBactrim / Norvasc / Lipitor / Cortisone\\n\\nAttending:[**First Name3 (LF) 2751**]\\nChief Complaint:\\nChief Complaint: anemia\\n.\\nReason for MICU transfer: retroperitoneal bleed\\n\\n\\nMajor Surgical or Invasive Procedure:\\nCoiling of superior gluteal artery\\n\\nHistory of Present Illness:\\nMs. [**Known lastname 91180**] is a 65 YOF with history of GERD, HTN, and\\nhypertriglyceridemia who was recently admitted from [**7-9**]...</td>\n",
       "      <td>999.9;568.81;577.2;285.1;584.9;579.9;729.92;530.81;401.9;272.1;569.9;300.4;39.79;88.47</td>\n",
       "      <td>True</td>\n",
       "    </tr>\n",
       "    <tr>\n",
       "      <th>52724</th>\n",
       "      <td>99995</td>\n",
       "      <td>137810</td>\n",
       "      <td>Admission Date:  [**2147-2-8**]              Discharge Date:   [**2147-2-11**]\\n\\n\\nService: SURGERY\\n\\nAllergies:\\nZantac\\n\\nAttending:[**First Name3 (LF) 6088**]\\nChief Complaint:\\nAbdominal Aortic Aneurysm\\n\\nMajor Surgical or Invasive Procedure:\\n[**2147-2-8**]: groin cutdown with mass excision and endovascular\\nrepair of an aortic aneurysm\\n\\n\\nHistory of Present Illness:\\nMs. [**Known lastname **] is an 88-year-old female who is currently being\\nevaluated for percutaneous aortic valve replacement due to\\nsevere\\naortic stenosis.  She has a known infrarenal aortic aneurysm.\\nThis was ...</td>\n",
       "      <td>441.4;428.33;998.12;285.1;424.1;250.00;998.11;996.1;E879.8;272.4;V45.81;428.0;V10.3;V15.82;V58.61;440.0;414.01;39.71;83.39;17.71</td>\n",
       "      <td>True</td>\n",
       "    </tr>\n",
       "    <tr>\n",
       "      <th>52725</th>\n",
       "      <td>99999</td>\n",
       "      <td>113369</td>\n",
       "      <td>Admission Date:  [**2117-12-30**]              Discharge Date:   [**2118-1-4**]\\n\\nDate of Birth:  [**2054-1-6**]             Sex:   F\\n\\nService: NEUROSURGERY\\n\\nAllergies:\\nPenicillins\\n\\nAttending:[**First Name3 (LF) 2724**]\\nChief Complaint:\\nNeurogenic claudication\\n\\nMajor Surgical or Invasive Procedure:\\n[**2117-12-30**] PLIF L4-5\\n\\n\\nHistory of Present Illness:\\n63-year-old woman who complains of bilateral lower extremity\\nsymptoms that are exacerbated by walking.  She receives some\\namelioration with rest.  She denies difficulty with bowel or\\nbladder function.\\n\\n\\nPast Medical ...</td>\n",
       "      <td>756.12;786.1;401.9;250.00;413.9;81.08;80.51;81.62;99.79;84.51</td>\n",
       "      <td>True</td>\n",
       "    </tr>\n",
       "  </tbody>\n",
       "</table>\n",
       "<p>52726 rows × 5 columns</p>\n",
       "</div>"
      ],
      "text/plain": [
       "       subject_id  hadm_id  \\\n",
       "0               3   145834   \n",
       "1               4   185777   \n",
       "2               6   107064   \n",
       "3               9   150750   \n",
       "4              10   184167   \n",
       "...           ...      ...   \n",
       "52721       99985   176670   \n",
       "52722       99991   151118   \n",
       "52723       99992   197084   \n",
       "52724       99995   137810   \n",
       "52725       99999   113369   \n",
       "\n",
       "                                                                                                                                                                                                                                                                                                                                                                                                                                                                                                                                                                                                                          text  \\\n",
       "0      Admission Date:  [**2101-10-20**]     Discharge Date:  [**2101-10-31**]\\n\\nDate of Birth:   [**2025-4-11**]     Sex:  M\\n\\nService:  Medicine\\n\\nCHIEF COMPLAINT:  Admitted from rehabilitation for\\nhypotension (systolic blood pressure to the 70s) and\\ndecreased urine output.\\n\\nHISTORY OF PRESENT ILLNESS:  The patient is a 76-year-old\\nmale who had been hospitalized at the [**Hospital1 190**] from [**10-11**] through [**10-19**] of [**2101**]\\nafter undergoing a left femoral-AT bypass graft and was\\nsubsequently discharged to a rehabilitation facility.\\n\\nOn [**2101-10-20**], he presented a...   \n",
       "1      Admission Date:  [**2191-3-16**]     Discharge Date:  [**2191-3-23**]\\n\\nDate of Birth:   [**2143-5-12**]     Sex:  F\\n\\nService:\\n\\nCHIEF COMPLAINT:  Shortness of breath and fevers.\\n\\nHISTORY OF PRESENT ILLNESS:  The patient is a 47-year-old\\nfemale with a history of human immunodeficiency virus (last\\nCD4 count 42 and a viral load of 65,000), cirrhosis,\\ndiabetes, and hypothyroidism presented with eight days of\\nfevers to 104, chills, shortness of breath, cough, dyspnea on\\nexertion, and fatigue.\\n\\nThe patient states she has become progressively dyspneic to\\nthe point where she is shor...   \n",
       "2      Admission Date: [**2175-5-30**]        Discharge Date:  [**2175-6-15**]\\n\\nDate of Birth:                    Sex:  F\\n\\nService:\\n\\n\\nADMISSION DIAGNOSIS:  End stage renal disease, admitted for\\ntransplant surgery.\\n\\nHISTORY OF PRESENT ILLNESS:  The patient is a 65 year-old\\nwoman with end stage renal disease, secondary to malignant\\nhypertension. She was started on dialysis in [**2174-2-7**].  She currently was on peritoneal dialysis and appears\\nto be doing well.  She has a history of gastric angiectasia\\nwhich she requires endoscopy. She was admitted on [**2175-5-30**] for\\na scheduled...   \n",
       "3      Admission Date:  [**2149-11-9**]       Discharge Date: [**2149-11-13**]\\n\\nDate of Birth:   [**2108-1-26**]       Sex:  M\\n\\nService:  NEUROLOGY\\n\\nCHIEF COMPLAINT:  Weakness, inability to talk.\\n\\nHISTORY OF THE PRESENT ILLNESS:  This is a 41-year-old\\nAfrican-American male with a history of hypertension who was\\nin his usual state of health until about 10:25 a.m. on the\\nmorning of admission.  He had gone to use the restroom and a\\nfew minutes later his family found him slumped onto the\\nfloor, apparently unable to talk and with weakness in his\\nright arm and leg.  EMS was called and he ...   \n",
       "4      Admission Date:  [**2103-6-28**]       Discharge Date:  [**2103-7-6**]\\n\\nDate of Birth:   [**2103-6-28**]       Sex:  F\\n\\nService:\\n\\nHISTORY OF PRESENT ILLNESS:  Baby Girl [**Known lastname 48639**] is a 1,385\\ngram, former 30 and [**5-23**] week premature baby, born to an 18\\nyear old, Gravida I, Para 0, now I, mother with prenatal\\nserologies as follows:\\n\\nA positive, antibody negative, RPR nonreactive, hepatitis B\\nsurface antigen negative; GBS unknown.\\n\\nPregnancy was complicated by PPROM on [**2103-6-23**] when the\\nmother was transferred from [**Name (NI) 1474**] Hospital to [**...   \n",
       "...                                                                                                                                                                                                                                                                                                                                                                                                                                                                                                                                                                                                                        ...   \n",
       "52721  Admission Date:  [**2181-1-27**]              Discharge Date:   [**2181-2-12**]\\n\\nDate of Birth:  [**2127-4-8**]             Sex:   M\\n\\nService: MEDICINE\\n\\nAllergies:\\nCefepime\\n\\nAttending:[**First Name3 (LF) 1936**]\\nChief Complaint:\\nfever\\n\\nMajor Surgical or Invasive Procedure:\\nnone\\n\\nHistory of Present Illness:\\nPt's a 53-year-old male patient of Dr. [**First Name4 (NamePattern1) **] [**Last Name (NamePattern1) **] is here\\nfor evaluation of fever.  The patient states fever began two\\ndays ago along with a mild dry cough, fever was low-grade at\\nthat time.  Day of admission, pt ...   \n",
       "52722  Admission Date:  [**2184-12-24**]              Discharge Date:   [**2185-1-5**]\\n\\nDate of Birth:  [**2137-4-7**]             Sex:   M\\n\\nService: SURGERY\\n\\nAllergies:\\nPatient recorded as having No Known Allergies to Drugs\\n\\nAttending:[**First Name3 (LF) 6346**]\\nChief Complaint:\\nRecurrent diverticulitis\\n\\nMajor Surgical or Invasive Procedure:\\n[**2184-12-24**]: Laparoscopic sigmoid colectomy, splenic flexure\\ntakedown, rigid sigmoidoscopy.\\n.\\n[**2184-12-28**]: Exploratory laparotomy, lysis of adhesions,\\nomentectomy, washout of abdomen, drain placement and abdominal\\nclosure.\\n\\n\\nH...   \n",
       "52723  Admission Date:  [**2144-7-25**]              Discharge Date:   [**2144-7-28**]\\n\\nDate of Birth:  [**2078-10-17**]             Sex:   F\\n\\nService: MEDICINE\\n\\nAllergies:\\nBactrim / Norvasc / Lipitor / Cortisone\\n\\nAttending:[**First Name3 (LF) 2751**]\\nChief Complaint:\\nChief Complaint: anemia\\n.\\nReason for MICU transfer: retroperitoneal bleed\\n\\n\\nMajor Surgical or Invasive Procedure:\\nCoiling of superior gluteal artery\\n\\nHistory of Present Illness:\\nMs. [**Known lastname 91180**] is a 65 YOF with history of GERD, HTN, and\\nhypertriglyceridemia who was recently admitted from [**7-9**]...   \n",
       "52724  Admission Date:  [**2147-2-8**]              Discharge Date:   [**2147-2-11**]\\n\\n\\nService: SURGERY\\n\\nAllergies:\\nZantac\\n\\nAttending:[**First Name3 (LF) 6088**]\\nChief Complaint:\\nAbdominal Aortic Aneurysm\\n\\nMajor Surgical or Invasive Procedure:\\n[**2147-2-8**]: groin cutdown with mass excision and endovascular\\nrepair of an aortic aneurysm\\n\\n\\nHistory of Present Illness:\\nMs. [**Known lastname **] is an 88-year-old female who is currently being\\nevaluated for percutaneous aortic valve replacement due to\\nsevere\\naortic stenosis.  She has a known infrarenal aortic aneurysm.\\nThis was ...   \n",
       "52725  Admission Date:  [**2117-12-30**]              Discharge Date:   [**2118-1-4**]\\n\\nDate of Birth:  [**2054-1-6**]             Sex:   F\\n\\nService: NEUROSURGERY\\n\\nAllergies:\\nPenicillins\\n\\nAttending:[**First Name3 (LF) 2724**]\\nChief Complaint:\\nNeurogenic claudication\\n\\nMajor Surgical or Invasive Procedure:\\n[**2117-12-30**] PLIF L4-5\\n\\n\\nHistory of Present Illness:\\n63-year-old woman who complains of bilateral lower extremity\\nsymptoms that are exacerbated by walking.  She receives some\\namelioration with rest.  She denies difficulty with bowel or\\nbladder function.\\n\\n\\nPast Medical ...   \n",
       "\n",
       "                                                                                                                                                         labels  \\\n",
       "0                                                                    038.9;785.59;584.9;427.5;410.71;428.0;682.6;425.4;263.9;96.04;99.62;89.64;96.72;38.93;96.6   \n",
       "1                                                                                       042;136.3;799.4;276.3;790.7;571.5;041.11;V09.0;E931.7;38.93;88.72;33.23   \n",
       "2                                                                                403.91;444.0;997.2;276.6;276.7;285.9;275.3;V15.82;55.69;91.0;39.57;38.06;99.04   \n",
       "3                                                                                                                 431;507.0;428.0;584.9;276.5;401.9;96.72;96.04   \n",
       "4                                                                                                             V30.00;774.2;765.25;765.15;V29.0;99.83;99.15;96.6   \n",
       "...                                                                                                                                                         ...   \n",
       "52721                                         038.9;518.81;482.41;487.0;785.52;V42.81;995.92;244.9;272.4;285.9;530.81;V10.72;238.71;96.72;96.6;38.93;14.0;96.04   \n",
       "52722  562.11;038.9;557.0;584.9;995.92;560.81;789.59;553.8;788.5;402.91;428.0;719.47;564.4;250.00;V02.54;E878.8;276.51;17.36;54.12;54.59;54.4;48.23;54.25;54.91   \n",
       "52723                                                                    999.9;568.81;577.2;285.1;584.9;579.9;729.92;530.81;401.9;272.1;569.9;300.4;39.79;88.47   \n",
       "52724                          441.4;428.33;998.12;285.1;424.1;250.00;998.11;996.1;E879.8;272.4;V45.81;428.0;V10.3;V15.82;V58.61;440.0;414.01;39.71;83.39;17.71   \n",
       "52725                                                                                             756.12;786.1;401.9;250.00;413.9;81.08;80.51;81.62;99.79;84.51   \n",
       "\n",
       "       is_valid  \n",
       "0         False  \n",
       "1         False  \n",
       "2         False  \n",
       "3         False  \n",
       "4         False  \n",
       "...         ...  \n",
       "52721      True  \n",
       "52722      True  \n",
       "52723      True  \n",
       "52724      True  \n",
       "52725      True  \n",
       "\n",
       "[52726 rows x 5 columns]"
      ]
     },
     "execution_count": null,
     "metadata": {},
     "output_type": "execute_result"
    }
   ],
   "source": [
    "df_labelled_data"
   ]
  },
  {
   "cell_type": "markdown",
   "id": "21d6745b",
   "metadata": {},
   "source": [
    "Smash it one final time!"
   ]
  },
  {
   "cell_type": "code",
   "execution_count": null,
   "id": "75b50ed2",
   "metadata": {},
   "outputs": [],
   "source": [
    "df_labelled_data.to_csv(outfile, index=False)"
   ]
  },
  {
   "cell_type": "markdown",
   "id": "76104d55",
   "metadata": {},
   "source": [
    "- **So at this point we have our dataset in the file `/home/ubuntu/codemimic/data2/processed/notes_labelled.csv`**\n",
    "- **Also, in the next section we create a sample (maintaining the useful representative statistics) of the dataset. It will be saved in `/home/ubuntu/codemimic/data2/processed/notes_labelled_sample.csv`**\n",
    "- **Also the descriptions of the code are stored in the file `/home/ubuntu/codemimic/data2/processed/codes_descriptions.csv`**"
   ]
  },
  {
   "cell_type": "markdown",
   "id": "512fe8c8",
   "metadata": {},
   "source": [
    "---"
   ]
  },
  {
   "cell_type": "markdown",
   "id": "a1b176f0",
   "metadata": {
    "jp-MarkdownHeadingCollapsed": true,
    "tags": []
   },
   "source": [
    "# Exploratory Data Analysis"
   ]
  },
  {
   "cell_type": "markdown",
   "id": "e829fba4",
   "metadata": {
    "jp-MarkdownHeadingCollapsed": true,
    "tags": []
   },
   "source": [
    "#### Load up `notes_labelled.csv`:"
   ]
  },
  {
   "cell_type": "code",
   "execution_count": 4,
   "id": "3f65a977",
   "metadata": {},
   "outputs": [],
   "source": [
    "df = pd.read_csv(path_data/'notes_labelled.csv', \n",
    "                               dtype={'text': str, 'labels': str, 'subject_id': np.int64, 'hadm_id': np.int64 })"
   ]
  },
  {
   "cell_type": "code",
   "execution_count": 5,
   "id": "94003683",
   "metadata": {},
   "outputs": [],
   "source": [
    "df[['text', 'labels']] = df[['text', 'labels']].astype('str')"
   ]
  },
  {
   "cell_type": "code",
   "execution_count": 6,
   "id": "6680f550-4c48-4728-8912-7b20800405f3",
   "metadata": {
    "tags": []
   },
   "outputs": [
    {
     "data": {
      "text/html": [
       "<div>\n",
       "<style scoped>\n",
       "    .dataframe tbody tr th:only-of-type {\n",
       "        vertical-align: middle;\n",
       "    }\n",
       "\n",
       "    .dataframe tbody tr th {\n",
       "        vertical-align: top;\n",
       "    }\n",
       "\n",
       "    .dataframe thead th {\n",
       "        text-align: right;\n",
       "    }\n",
       "</style>\n",
       "<table border=\"1\" class=\"dataframe\">\n",
       "  <thead>\n",
       "    <tr style=\"text-align: right;\">\n",
       "      <th></th>\n",
       "      <th>subject_id</th>\n",
       "      <th>hadm_id</th>\n",
       "      <th>text</th>\n",
       "      <th>labels</th>\n",
       "      <th>is_valid</th>\n",
       "    </tr>\n",
       "  </thead>\n",
       "  <tbody>\n",
       "    <tr>\n",
       "      <th>0</th>\n",
       "      <td>3</td>\n",
       "      <td>145834</td>\n",
       "      <td>Admission Date:  [**2101-10-20**]     Discharge Date:  [**2101-10-31**]\\n\\nDate of Birth:   [**2025-4-11**]     Sex:  M\\n\\nService:  Medicine\\n\\nCHIEF COMPLAINT:  Admitted from rehabilitation for\\nhypotension (systolic blood pressure to the 70s) and\\ndecreased urine output.\\n\\nHISTORY OF PRESENT ILLNESS:  The patient is a 76-year-old\\nmale who had been hospitalized at the [**Hospital1 190**] from [**10-11**] through [**10-19**] of [**2101**]\\nafter undergoing a left femoral-AT bypass graft and was\\nsubsequently discharged to a rehabilitation facility.\\n\\nOn [**2101-10-20**], he presented a...</td>\n",
       "      <td>038.9;785.59;584.9;427.5;410.71;428.0;682.6;425.4;263.9;96.04;99.62;89.64;96.72;38.93;96.6</td>\n",
       "      <td>False</td>\n",
       "    </tr>\n",
       "    <tr>\n",
       "      <th>1</th>\n",
       "      <td>4</td>\n",
       "      <td>185777</td>\n",
       "      <td>Admission Date:  [**2191-3-16**]     Discharge Date:  [**2191-3-23**]\\n\\nDate of Birth:   [**2143-5-12**]     Sex:  F\\n\\nService:\\n\\nCHIEF COMPLAINT:  Shortness of breath and fevers.\\n\\nHISTORY OF PRESENT ILLNESS:  The patient is a 47-year-old\\nfemale with a history of human immunodeficiency virus (last\\nCD4 count 42 and a viral load of 65,000), cirrhosis,\\ndiabetes, and hypothyroidism presented with eight days of\\nfevers to 104, chills, shortness of breath, cough, dyspnea on\\nexertion, and fatigue.\\n\\nThe patient states she has become progressively dyspneic to\\nthe point where she is shor...</td>\n",
       "      <td>042;136.3;799.4;276.3;790.7;571.5;041.11;V09.0;E931.7;38.93;88.72;33.23</td>\n",
       "      <td>False</td>\n",
       "    </tr>\n",
       "  </tbody>\n",
       "</table>\n",
       "</div>"
      ],
      "text/plain": [
       "   subject_id  hadm_id  \\\n",
       "0           3   145834   \n",
       "1           4   185777   \n",
       "\n",
       "                                                                                                                                                                                                                                                                                                                                                                                                                                                                                                                                                                                                                      text  \\\n",
       "0  Admission Date:  [**2101-10-20**]     Discharge Date:  [**2101-10-31**]\\n\\nDate of Birth:   [**2025-4-11**]     Sex:  M\\n\\nService:  Medicine\\n\\nCHIEF COMPLAINT:  Admitted from rehabilitation for\\nhypotension (systolic blood pressure to the 70s) and\\ndecreased urine output.\\n\\nHISTORY OF PRESENT ILLNESS:  The patient is a 76-year-old\\nmale who had been hospitalized at the [**Hospital1 190**] from [**10-11**] through [**10-19**] of [**2101**]\\nafter undergoing a left femoral-AT bypass graft and was\\nsubsequently discharged to a rehabilitation facility.\\n\\nOn [**2101-10-20**], he presented a...   \n",
       "1  Admission Date:  [**2191-3-16**]     Discharge Date:  [**2191-3-23**]\\n\\nDate of Birth:   [**2143-5-12**]     Sex:  F\\n\\nService:\\n\\nCHIEF COMPLAINT:  Shortness of breath and fevers.\\n\\nHISTORY OF PRESENT ILLNESS:  The patient is a 47-year-old\\nfemale with a history of human immunodeficiency virus (last\\nCD4 count 42 and a viral load of 65,000), cirrhosis,\\ndiabetes, and hypothyroidism presented with eight days of\\nfevers to 104, chills, shortness of breath, cough, dyspnea on\\nexertion, and fatigue.\\n\\nThe patient states she has become progressively dyspneic to\\nthe point where she is shor...   \n",
       "\n",
       "                                                                                       labels  \\\n",
       "0  038.9;785.59;584.9;427.5;410.71;428.0;682.6;425.4;263.9;96.04;99.62;89.64;96.72;38.93;96.6   \n",
       "1                     042;136.3;799.4;276.3;790.7;571.5;041.11;V09.0;E931.7;38.93;88.72;33.23   \n",
       "\n",
       "   is_valid  \n",
       "0     False  \n",
       "1     False  "
      ]
     },
     "execution_count": 6,
     "metadata": {},
     "output_type": "execute_result"
    }
   ],
   "source": [
    "df.head(2)"
   ]
  },
  {
   "cell_type": "markdown",
   "id": "b0229372-c538-435b-b6ae-686ec47a5333",
   "metadata": {},
   "source": [
    "Let's sort the lengths of the texts in the raw mimic iii dataset and see what it looks like (how big are those texts)"
   ]
  },
  {
   "cell_type": "code",
   "execution_count": 7,
   "id": "0f45ee99-cc64-4a0e-9c06-2d3fba6d6ac4",
   "metadata": {},
   "outputs": [
    {
     "data": {
      "text/plain": [
       "184        528\n",
       "2992       587\n",
       "6751       631\n",
       "3678       687\n",
       "8357       717\n",
       "         ...  \n",
       "377      56303\n",
       "37949    59718\n",
       "26121    60365\n",
       "40488    65134\n",
       "7109     78231\n",
       "Length: 52726, dtype: int64"
      ]
     },
     "execution_count": 7,
     "metadata": {},
     "output_type": "execute_result"
    }
   ],
   "source": [
    "df.apply(lambda row: len(row.text), axis=1).sort_values()"
   ]
  },
  {
   "cell_type": "markdown",
   "id": "67719ff7-7eab-4687-99bb-4184ac61cad6",
   "metadata": {},
   "source": [
    "Let's make a list of the hadm_ids in the training set and the validation set:"
   ]
  },
  {
   "cell_type": "code",
   "execution_count": 8,
   "id": "c60e2277-d1f3-427f-852a-f2ad27d8e6a2",
   "metadata": {},
   "outputs": [],
   "source": [
    "my_train, my_valid = df.hadm_id[~df.is_valid], df.hadm_id[df.is_valid]"
   ]
  },
  {
   "cell_type": "markdown",
   "id": "e6582d23-5044-4f1b-b03c-3ca312f51774",
   "metadata": {
    "jp-MarkdownHeadingCollapsed": true,
    "tags": []
   },
   "source": [
    "#### If you want to use `caml_notes_labelled.csv`:"
   ]
  },
  {
   "cell_type": "code",
   "execution_count": 33,
   "id": "15f6869e-4c55-4c84-b3a0-22b33904eed2",
   "metadata": {},
   "outputs": [],
   "source": [
    "# all_files = path_data.glob(\"*full.csv\")"
   ]
  },
  {
   "cell_type": "code",
   "execution_count": 34,
   "id": "2d627ef1-83a4-4c25-8e05-ed0115a25de8",
   "metadata": {},
   "outputs": [],
   "source": [
    "# L(all_files)"
   ]
  },
  {
   "cell_type": "code",
   "execution_count": 35,
   "id": "580fab4d-495d-4934-89b4-7404e8dfba72",
   "metadata": {},
   "outputs": [],
   "source": [
    "# all_files = list(all_files)\n",
    "# all_files"
   ]
  },
  {
   "cell_type": "code",
   "execution_count": 36,
   "id": "3acd9d6e-b4a2-4cee-aca2-ef567f152647",
   "metadata": {},
   "outputs": [],
   "source": [
    "# all_files.remove(Path(path_data/'disch_full.csv'))\n",
    "# all_files"
   ]
  },
  {
   "cell_type": "code",
   "execution_count": 37,
   "id": "7c156a72-0daa-4974-bab0-137eb7ef5d50",
   "metadata": {},
   "outputs": [],
   "source": [
    "# li = []\n",
    "# for file in all_files:\n",
    "#     df_caml = pd.read_csv(file, header=0, names=['subject_id', 'hadm_id', 'text', 'labels', 'length'])\n",
    "#     if file.name == 'test_full.csv':\n",
    "#         df_caml['is_valid'] = True\n",
    "#     else:\n",
    "#         df_caml['is_valid'] = False\n",
    "#     li.append(df_caml)"
   ]
  },
  {
   "cell_type": "code",
   "execution_count": 38,
   "id": "9d776d54-dd3c-4818-a410-58716018ca2e",
   "metadata": {},
   "outputs": [],
   "source": [
    "# df_caml = pd.concat(li, axis=0)"
   ]
  },
  {
   "cell_type": "code",
   "execution_count": 16,
   "id": "fe669409-6d40-484d-976d-5a209d8a066c",
   "metadata": {},
   "outputs": [],
   "source": [
    "# df_caml.to_csv(path_data/'caml_notes_labelled.csv', index=False)"
   ]
  },
  {
   "cell_type": "code",
   "execution_count": 8,
   "id": "3a55893c-feed-4b69-88be-696e2c4af28f",
   "metadata": {},
   "outputs": [
    {
     "data": {
      "text/html": [
       "<div>\n",
       "<style scoped>\n",
       "    .dataframe tbody tr th:only-of-type {\n",
       "        vertical-align: middle;\n",
       "    }\n",
       "\n",
       "    .dataframe tbody tr th {\n",
       "        vertical-align: top;\n",
       "    }\n",
       "\n",
       "    .dataframe thead th {\n",
       "        text-align: right;\n",
       "    }\n",
       "</style>\n",
       "<table border=\"1\" class=\"dataframe\">\n",
       "  <thead>\n",
       "    <tr style=\"text-align: right;\">\n",
       "      <th></th>\n",
       "      <th>subject_id</th>\n",
       "      <th>hadm_id</th>\n",
       "      <th>text</th>\n",
       "      <th>labels</th>\n",
       "      <th>length</th>\n",
       "      <th>is_valid</th>\n",
       "    </tr>\n",
       "  </thead>\n",
       "  <tbody>\n",
       "    <tr>\n",
       "      <th>0</th>\n",
       "      <td>86006</td>\n",
       "      <td>111912</td>\n",
       "      <td>admission date discharge date date of birth sex f service surgery allergies patient recorded as having no known allergies to drugs attending first name3 lf chief complaint 60f on coumadin was found slightly drowsy tonight then fell down stairs paramedic found her unconscious and she was intubated w o any medication head ct shows multiple iph transferred to hospital1 for further eval major surgical or invasive procedure none past medical history her medical history is significant for hypertension osteoarthritis involving bilateral knee joints with a dependence on cane for ambulation chronic...</td>\n",
       "      <td>801.35;348.4;805.06;807.01;998.30;707.24;E880.9;427.31;414.01;401.9;V58.61;V43.64;707.00;E878.1;96.71</td>\n",
       "      <td>230</td>\n",
       "      <td>False</td>\n",
       "    </tr>\n",
       "    <tr>\n",
       "      <th>1</th>\n",
       "      <td>85950</td>\n",
       "      <td>189769</td>\n",
       "      <td>admission date discharge date service neurosurgery allergies sulfa sulfonamides attending first name3 lf chief complaint cc cc contact info major surgical or invasive procedure none history of present illness hpi 88m who lives with family had fall yesterday today had decline in mental status ems called pt was unresponsive on arrival went to osh head ct showed large r sdh pt was intubated at osh and transferred to hospital1 for further care past medical history cad s p mi in s p cabg in ventricular aneurysm at that time cath in with occluded rca unable to intervene chf reported ef 1st degre...</td>\n",
       "      <td>852.25;E888.9;403.90;585.9;250.00;414.00;V45.81;96.71</td>\n",
       "      <td>304</td>\n",
       "      <td>False</td>\n",
       "    </tr>\n",
       "  </tbody>\n",
       "</table>\n",
       "</div>"
      ],
      "text/plain": [
       "   subject_id  hadm_id  \\\n",
       "0       86006   111912   \n",
       "1       85950   189769   \n",
       "\n",
       "                                                                                                                                                                                                                                                                                                                                                                                                                                                                                                                                                                                                                      text  \\\n",
       "0  admission date discharge date date of birth sex f service surgery allergies patient recorded as having no known allergies to drugs attending first name3 lf chief complaint 60f on coumadin was found slightly drowsy tonight then fell down stairs paramedic found her unconscious and she was intubated w o any medication head ct shows multiple iph transferred to hospital1 for further eval major surgical or invasive procedure none past medical history her medical history is significant for hypertension osteoarthritis involving bilateral knee joints with a dependence on cane for ambulation chronic...   \n",
       "1  admission date discharge date service neurosurgery allergies sulfa sulfonamides attending first name3 lf chief complaint cc cc contact info major surgical or invasive procedure none history of present illness hpi 88m who lives with family had fall yesterday today had decline in mental status ems called pt was unresponsive on arrival went to osh head ct showed large r sdh pt was intubated at osh and transferred to hospital1 for further care past medical history cad s p mi in s p cabg in ventricular aneurysm at that time cath in with occluded rca unable to intervene chf reported ef 1st degre...   \n",
       "\n",
       "                                                                                                  labels  \\\n",
       "0  801.35;348.4;805.06;807.01;998.30;707.24;E880.9;427.31;414.01;401.9;V58.61;V43.64;707.00;E878.1;96.71   \n",
       "1                                                  852.25;E888.9;403.90;585.9;250.00;414.00;V45.81;96.71   \n",
       "\n",
       "   length  is_valid  \n",
       "0     230     False  \n",
       "1     304     False  "
      ]
     },
     "execution_count": 8,
     "metadata": {},
     "output_type": "execute_result"
    }
   ],
   "source": [
    "df_caml = pd.read_csv(path_data/'caml_notes_labelled.csv',  dtype={'text': str, 'labels': str})\n",
    "df_caml.head(2)"
   ]
  },
  {
   "cell_type": "code",
   "execution_count": 87,
   "id": "f076dbbe-c35d-4632-86b3-28b588e3b90c",
   "metadata": {},
   "outputs": [
    {
     "data": {
      "text/plain": [
       "(52726, 41127, 52726)"
      ]
     },
     "execution_count": 87,
     "metadata": {},
     "output_type": "execute_result"
    }
   ],
   "source": [
    "len(df_caml), df_caml.subject_id.nunique(), df_caml.hadm_id.nunique()"
   ]
  },
  {
   "cell_type": "code",
   "execution_count": 66,
   "id": "4dfd7da9-3a5a-4a5d-9d91-61078b8b1a2d",
   "metadata": {},
   "outputs": [
    {
     "data": {
      "text/plain": [
       "0          230\n",
       "1          304\n",
       "2          359\n",
       "3          408\n",
       "4          409\n",
       "         ...  \n",
       "52721     7858\n",
       "52722     8097\n",
       "52723     8774\n",
       "52724     8783\n",
       "52725    10500\n",
       "Name: length, Length: 52726, dtype: int64"
      ]
     },
     "execution_count": 66,
     "metadata": {},
     "output_type": "execute_result"
    }
   ],
   "source": [
    "df_caml.length"
   ]
  },
  {
   "cell_type": "code",
   "execution_count": 88,
   "id": "f3b73395-7706-4f92-b842-a5d2c8cb3e8c",
   "metadata": {},
   "outputs": [],
   "source": [
    "# len((df_caml.iloc[-1, 2]).split(' '))"
   ]
  },
  {
   "cell_type": "code",
   "execution_count": 18,
   "id": "62453154-bee7-4481-8a43-871fc1c61f4e",
   "metadata": {},
   "outputs": [],
   "source": [
    "caml_train, caml_valid = df_caml.hadm_id[~df_caml.is_valid], df_caml.hadm_id[df_caml.is_valid]"
   ]
  },
  {
   "cell_type": "code",
   "execution_count": 19,
   "id": "89e68b90-79d6-4f43-944c-4586587df26e",
   "metadata": {},
   "outputs": [],
   "source": [
    "assert set(my_train) == set(caml_train)"
   ]
  },
  {
   "cell_type": "code",
   "execution_count": 20,
   "id": "7408c487-762c-42d7-a100-a16f7a984e7a",
   "metadata": {},
   "outputs": [],
   "source": [
    "assert set(my_valid) == set(caml_valid)"
   ]
  },
  {
   "cell_type": "code",
   "execution_count": 14,
   "id": "5ba3a015-4926-4671-8290-e3f479b8e278",
   "metadata": {},
   "outputs": [],
   "source": [
    "# set(my_train).symmetric_difference(set(caml_train))"
   ]
  },
  {
   "cell_type": "code",
   "execution_count": 15,
   "id": "306885f9-2777-40dd-a7f3-f4eff568a1f9",
   "metadata": {},
   "outputs": [],
   "source": [
    "# set(my_valid).symmetric_difference(set(caml_valid))"
   ]
  },
  {
   "cell_type": "markdown",
   "id": "89ee60b1",
   "metadata": {},
   "source": [
    "Check the length of some random notes in both the datsets (i.e., the full raw version as well as the caml truncated/preprocessed version):"
   ]
  },
  {
   "cell_type": "code",
   "execution_count": 99,
   "id": "6ec92cdc-c476-4949-b91e-5c5b4237c8b5",
   "metadata": {},
   "outputs": [
    {
     "data": {
      "text/plain": [
       "(48598, 145497)"
      ]
     },
     "execution_count": 99,
     "metadata": {},
     "output_type": "execute_result"
    }
   ],
   "source": [
    "ind = random.choice(range(len(df)))\n",
    "hadmid = df.iloc[ind].hadm_id\n",
    "ind, hadmid"
   ]
  },
  {
   "cell_type": "code",
   "execution_count": 100,
   "id": "01b5dc03-ca13-4437-b759-d6e3043349b5",
   "metadata": {},
   "outputs": [
    {
     "data": {
      "text/html": [
       "<div>\n",
       "<style scoped>\n",
       "    .dataframe tbody tr th:only-of-type {\n",
       "        vertical-align: middle;\n",
       "    }\n",
       "\n",
       "    .dataframe tbody tr th {\n",
       "        vertical-align: top;\n",
       "    }\n",
       "\n",
       "    .dataframe thead th {\n",
       "        text-align: right;\n",
       "    }\n",
       "</style>\n",
       "<table border=\"1\" class=\"dataframe\">\n",
       "  <thead>\n",
       "    <tr style=\"text-align: right;\">\n",
       "      <th></th>\n",
       "      <th>subject_id</th>\n",
       "      <th>hadm_id</th>\n",
       "      <th>text</th>\n",
       "      <th>labels</th>\n",
       "      <th>is_valid</th>\n",
       "    </tr>\n",
       "  </thead>\n",
       "  <tbody>\n",
       "    <tr>\n",
       "      <th>48598</th>\n",
       "      <td>86580</td>\n",
       "      <td>145497</td>\n",
       "      <td>Admission Date:  [**2120-11-15**]              Discharge Date:   [**2120-11-22**]\\n\\nDate of Birth:  [**2067-7-11**]             Sex:   M\\n\\nService: MEDICINE\\n\\nAllergies:\\nPatient recorded as having No Known Allergies to Drugs\\n\\nAttending:[**First Name3 (LF) 1711**]\\nChief Complaint:\\nSOB\\nDOE\\n\\n\\nMajor Surgical or Invasive Procedure:\\npericardial tap and window placement\\nVATS procedure\\nPleural Fluid tap\\nPleurex Catheter Placement\\n\\n\\nHistory of Present Illness:\\nMr. [**Known lastname 36384**] is a 53 y/o M with stage four metastatic renal\\ncell carcinoma (since [**5-23**]) with mu...</td>\n",
       "      <td>420.90;518.4;511.81;198.5;196.8;518.0;423.3;427.89;272.4;288.60;799.02;458.9;276.52;V10.52;37.12;34.21;37.0;37.21;34.91;34.91</td>\n",
       "      <td>False</td>\n",
       "    </tr>\n",
       "  </tbody>\n",
       "</table>\n",
       "</div>"
      ],
      "text/plain": [
       "       subject_id  hadm_id  \\\n",
       "48598       86580   145497   \n",
       "\n",
       "                                                                                                                                                                                                                                                                                                                                                                                                                                                                                                                                                                                                                          text  \\\n",
       "48598  Admission Date:  [**2120-11-15**]              Discharge Date:   [**2120-11-22**]\\n\\nDate of Birth:  [**2067-7-11**]             Sex:   M\\n\\nService: MEDICINE\\n\\nAllergies:\\nPatient recorded as having No Known Allergies to Drugs\\n\\nAttending:[**First Name3 (LF) 1711**]\\nChief Complaint:\\nSOB\\nDOE\\n\\n\\nMajor Surgical or Invasive Procedure:\\npericardial tap and window placement\\nVATS procedure\\nPleural Fluid tap\\nPleurex Catheter Placement\\n\\n\\nHistory of Present Illness:\\nMr. [**Known lastname 36384**] is a 53 y/o M with stage four metastatic renal\\ncell carcinoma (since [**5-23**]) with mu...   \n",
       "\n",
       "                                                                                                                              labels  \\\n",
       "48598  420.90;518.4;511.81;198.5;196.8;518.0;423.3;427.89;272.4;288.60;799.02;458.9;276.52;V10.52;37.12;34.21;37.0;37.21;34.91;34.91   \n",
       "\n",
       "       is_valid  \n",
       "48598     False  "
      ]
     },
     "execution_count": 100,
     "metadata": {},
     "output_type": "execute_result"
    }
   ],
   "source": [
    "df[df.hadm_id == hadmid]"
   ]
  },
  {
   "cell_type": "code",
   "execution_count": 101,
   "id": "3fac4b2a-f063-48cf-a6b4-d503594e6312",
   "metadata": {
    "scrolled": true,
    "tags": []
   },
   "outputs": [
    {
     "name": "stdout",
     "output_type": "stream",
     "text": [
      "Admission Date:  [**2120-11-15**]              Discharge Date:   [**2120-11-22**]\n",
      "\n",
      "Date of Birth:  [**2067-7-11**]             Sex:   M\n",
      "\n",
      "Service: MEDICINE\n",
      "\n",
      "Allergies:\n",
      "Patient recorded as having No Known Allergies to Drugs\n",
      "\n",
      "Attending:[**First Name3 (LF) 1711**]\n",
      "Chief Complaint:\n",
      "SOB\n",
      "DOE\n",
      "\n",
      "\n",
      "Major Surgical or Invasive Procedure:\n",
      "pericardial tap and window placement\n",
      "VATS procedure\n",
      "Pleural Fluid tap\n",
      "Pleurex Catheter Placement\n",
      "\n",
      "\n",
      "History of Present Illness:\n",
      "Mr. [**Known lastname 36384**] is a 53 y/o M with stage four metastatic renal\n",
      "cell carcinoma (since [**5-23**]) with multiple mets to lymph nodes\n",
      "and to bone.  The patient presented with five days of worsening\n",
      "dyspnea to the [**Hospital1 18**] ED.  He states that he was not able to lie\n",
      "flat while sleeping because of the shortness of breath and this\n",
      "morning found himself needing to tripod himself to catch his\n",
      "breath.  Patient reported cough associated with his dyspnea.  He\n",
      "states that he has had fatigue for several months and it was\n",
      "thought that his baseline dyspnea was related to his malignancy.\n",
      ".\n",
      "When patient presented for evaluation he had an ECG that was\n",
      "concerning for ischemia.  On presentation, the patient's VS were\n",
      "98.4, 118/78, 115, 22, 100 RA.  The patient had a CTA to r/o PE,\n",
      "but was found to have a large pericardial effusion, a concerning\n",
      "etiology to the patient's shortness of breath.  The patient had\n",
      "an Echocardiogram that showed a large circumferential effusion\n",
      "concerning for tamponade physiology.  The patient had a positive\n",
      "pulsus of 20 in the ED and was found to have elevated JVP.\n",
      ".\n",
      "The patient was taken to the Cath lab where he underwent a\n",
      "pericardiocentesis, draining approx 1L of bloody fluid.\n",
      "Patient's cardiac catheterization demonstrated near equalization\n",
      "of pressures.  The patient was transferred from the cath lab to\n",
      "the CCU for further monitoring with a drain in place.\n",
      ".\n",
      "On arrival to the CCU, patient's vital signs are stable, however\n",
      "remains in sinus tachycardia (100s).  He denies any nausea,\n",
      "vomiting, diarrhea, chest discomfort (other than at drain site).\n",
      " He reports that his dyspnea is improved.\n",
      ".\n",
      ".\n",
      "\n",
      "\n",
      "Past Medical History:\n",
      "1. Metastatic RCC\n",
      "2. s/p bilateral knee scopes\n",
      "3. s/p vasectomy\n",
      "\n",
      "Social History:\n",
      "The patient grew up in [**Location (un) 16843**].  He lives in [**Location 36385**].  He\n",
      "works commercial real estate.  He is married and has three\n",
      "daughters.  [**Name (NI) **] has a 20-pack-year history of tobacco use but\n",
      "quit >19 years ago.  He has occasional alcohol use and drinks\n",
      "one to two glasses of wine a few times a week.  He denies any\n",
      "illicit drug use.\n",
      "\n",
      "\n",
      "Family History:\n",
      "He has two brothers and one sister, all of whom\n",
      "are well.  His father is deceased from melanoma.  His paternal\n",
      "grandfather died from emphysema.  His paternal grandmother died\n",
      "from MI.  His mother is alive. His maternal grandfather died at\n",
      "the age of 96.  His maternal grandmother died from [**Name (NI) 2481**].\n",
      "He has three daughters, all of whom are well.\n",
      "\n",
      "\n",
      "Physical Exam:\n",
      "At admission\n",
      "GENERAL: Oriented x3. Mood, affect appropriate.\n",
      "HEENT: NCAT. Sclera anicteric. PERRL, EOMI. Conjunctiva were\n",
      "pink, no pallor or cyanosis of the oral mucosa. No xanthalesma.\n",
      "\n",
      "NECK: Supple with JVP of 8cm\n",
      "CARDIAC: PMI located in 5th intercostal space, midclavicular\n",
      "line. RR, normal S1, S2. +friction rub. No S3 or S4.\n",
      "LUNGS: Diffuse fine crackles on left lung fields\n",
      "(anterolaterally).  Unable to auscultate bases given venous\n",
      "sheath.\n",
      "ABDOMEN: Soft, NTND. No HSM or tenderness. Abd aorta not\n",
      "enlarged by palpation. No abdominial bruits.\n",
      "EXTREMITIES: Bilateral, asymmetrical lower extremity pitting\n",
      "edema (Tr-1+).  L > R.\n",
      "SKIN: No stasis dermatitis, ulcers, scars, or xanthomas.\n",
      "PULSES:\n",
      "Right: Carotid 2+ DP 2+ PT 2+\n",
      "Left: Carotid 2+ DP 2+ PT 2+\n",
      "\n",
      "\n",
      "Pertinent Results:\n",
      "[**2120-11-15**] 09:00PM OTHER BODY FLUID  TOT PROT-4.6 GLUCOSE-42\n",
      "LD(LDH)-[**Numeric Identifier 35391**] AMYLASE-57 ALBUMIN-2.6\n",
      "[**2120-11-15**] 09:00PM OTHER BODY FLUID  WBC-2444* HCT-12* POLYS-67*\n",
      "LYMPHS-20* MONOS-0 EOS-1* MESOTHELI-6* MACROPHAG-6*\n",
      "[**2120-11-15**] 12:10PM   GLUCOSE-130* UREA N-25* CREAT-1.2 SODIUM-136\n",
      "POTASSIUM-4.8 CHLORIDE-101 TOTAL CO2-21* ANION GAP-19\n",
      "[**2120-11-15**] 12:10PM   CK(CPK)-84\n",
      "[**2120-11-15**] 12:10PM   estGFR-Using this\n",
      "[**2120-11-15**] 12:10PM   cTropnT-<0.01\n",
      "[**2120-11-15**] 12:10PM   CK-MB-NotDone\n",
      "[**2120-11-15**] 12:10PM   WBC-16.5* RBC-4.64 HGB-10.7* HCT-33.9*\n",
      "MCV-73* MCH-23.0* MCHC-31.5 RDW-19.6*\n",
      "[**2120-11-15**] 12:10PM   NEUTS-85.3* LYMPHS-9.1* MONOS-4.7 EOS-0.7\n",
      "BASOS-0.2\n",
      "[**2120-11-15**] 12:10PM   PLT COUNT-494*\n",
      "[**2120-11-15**] 12:10PM   PT-14.0* PTT-33.1 INR(PT)-1.2*\n",
      "Cytology - pending\n",
      "\n",
      "Brief Hospital Course:\n",
      "# bilateral pleural effusion/respiratory distress ?????? Exudative in\n",
      "origin on thoracentesis, drainage of R. Lung was performed via\n",
      "thoracentesis, with large improvement in symptoms, although\n",
      "continued to have severe drops in ambulatory O2. Interventional\n",
      "thoracics plans to place pleurex catheter.  Cytology is still\n",
      "pending at the time of discharge.  For symptomatic relief he was\n",
      "placed on Benzonatate, Guaifenesin-Dextromethorphan, Ipratropium\n",
      "Bromide Neb prn for supportive care.\n",
      ".\n",
      "# Cardiac tamponade:  Presumed to be [**2-19**] malignancy. S/p VATS\n",
      "with pericardial window, unfortunately repeat echo shows\n",
      "persistent, organized pericardial effusion.  Respiratory\n",
      "distress improved symptomatically with pericardial drain, and\n",
      "effusion.  Cytology is still pending on the pericardial fluid\n",
      "that was drained.  Thoracics was consulted and will consider\n",
      "pericardial stripping in the future.\n",
      ".\n",
      "# Leukocytosis:  Remained stable throughout admission from\n",
      "13-16.  Most likely etiology is RCC.  There were never  clear\n",
      "signs of infection. He persisted to be afebrile for 72 hours. He\n",
      "was empirically treated with Levo, given multiple\n",
      "intraparenchymal nodules and productive cough.  Mr [**Known lastname 36384**]\n",
      "has been very cooperative with incentive spirometry.\n",
      "- Incentive spirometer\n",
      "- Monitor CXR\n",
      ".\n",
      ".\n",
      "# Pain control: Was acheived post procedure with roxanol. He no\n",
      "longer requires this medication.\n",
      "-\n",
      ".\n",
      "# CORONARIES:  Patient with no known h/o CAD, however patient\n",
      "with mild regional left ventricular systolic dysfunction with\n",
      "mild basal to mid inferior wall hypokinesis and mid\n",
      "inferolateral wall hypokinesis on [**2118**] echo.   Patient has not\n",
      "had cardiac cath given other co-morbidities and lack of\n",
      "symptoms.  Not active currently.\n",
      ".\n",
      "# PUMP:  Patient with lymphangitic involvement of lungs.  CT\n",
      "Scan near admission showed pulmonary edema and pulmonary\n",
      "effusion R>L.  Patient had PCWP of 19, RVEDP 22, PA pressures\n",
      "41/17, Mean RA pressures of 8 on first echo. Has tumor burden\n",
      "impacting pulmonary artery. Currently appears euvolemic. Patient\n",
      "will behave like he has a PE, hemodynamically.  Removeal of his\n",
      "tamponade physiology obviously improved his pump function.\n",
      ".\n",
      "# RHYTHM:  In and out Sinus tachycardia/atrial bigeminy.\n",
      "Unclear etiology or chronicity. Likely [**2-19**] cont pericardial\n",
      "effusion. Last TSH in [**9-25**] WNL, had history of elevated TSH over\n",
      "year ago, unclear if related to chemotherapy. He was in sinus\n",
      "tach at the time of d/c.\n",
      "- TSH ?????? 6.5 currently\n",
      ".\n",
      "#  Asymmetrical BLE edema:  Patient with a history of\n",
      "asymmetrical LE edema L > R; has been documented in past.  No\n",
      "tenderness to palpation or acute concern for underlying DVT,\n",
      "though patient at higher risk given malignancy.  This is\n",
      "secondary to compression from massive lymphadenopathy.\n",
      ".\n",
      "# Metastatic Renal Cell Carcinoma:  Patient with shoulder and L\n",
      "iliac mets, s/p XRT to hip and RFA to shoulder.  Patient was on\n",
      "a new experimental chemotherapeutic [**Doctor Last Name 360**], MDX-1106, which has\n",
      "unclear benefits in patient's condition.  Patient is s/p\n",
      "multiple rounds of different agents, and it is unclear if any\n",
      "can have pericardial effusion as secondary effect.  INR rising,\n",
      "could be [**2-19**] poor diet.  Plan to discuss Sutent with heme/onc on\n",
      "d/c.\n",
      "\n",
      "\n",
      "Medications on Admission:\n",
      "MDX-1106 infusion (per oncology) - last dose 10/20\n",
      "\n",
      "Discharge Medications:\n",
      "1. Phytonadione 5 mg Tablet Sig: One (1) Tablet PO DAILY (Daily)\n",
      "for 1 days.\n",
      "Disp:*1 Tablet(s)* Refills:*0*\n",
      "2. Benzonatate 100 mg Capsule Sig: [**1-19**] Capsules PO TID (3 times\n",
      "a day) as needed for cough.\n",
      "Disp:*60 Capsule(s)* Refills:*0*\n",
      "3. Multiple Vitamin     Tablet Sig: One (1) Tablet PO once a\n",
      "day.\n",
      "4. Lorazepam 0.5 mg Tablet Sig: 1-2 Tablets PO four times a day\n",
      "as needed for anxiety.\n",
      "5. Acetaminophen Extra Strength 500 mg Tablet Sig: 1-2 Tablets\n",
      "PO four times a day as needed for pain.\n",
      "\n",
      "\n",
      "Discharge Disposition:\n",
      "Home With Service\n",
      "\n",
      "Facility:\n",
      "[**Company 1519**]\n",
      "\n",
      "Discharge Diagnosis:\n",
      "Pericardial and Pleural effusions\n",
      "Metastatic Renal Cell Carcinoma\n",
      "\n",
      "\n",
      "Discharge Condition:\n",
      "Mental Status:Clear and coherent\n",
      "Level of Consciousness:Alert and interactive\n",
      "Activity Status:Ambulatory - Independent\n",
      "\n",
      "\n",
      "Discharge Instructions:\n",
      "YOu had a collection of fluid around your heart that was tapped\n",
      "and a window was placed that will continuously drain any other\n",
      "fluid that accumulates from now on. An ECHO done on [**11-21**] showed\n",
      "some reaccumulation of the fluid around your heart, possibly\n",
      "some blood and clots. You also had some fluid collections in\n",
      "your lungs that were drained on [**11-22**] and __ permanant tubes were\n",
      "placed for continued drainage. You also will be seen next week\n",
      "in oncology for further treatment of your cancer.\n",
      ".\n",
      "Medication changes:\n",
      "1. Benzonatate: to take for your cough\n",
      "2. Lorazepam: to take for anxiety or sleep\n",
      "3. Vitamin K: to take for one more day to help your blood to\n",
      "clot.\n",
      "\n",
      "Followup Instructions:\n",
      "Primary Care:\n",
      "[**Last Name (LF) **],[**First Name3 (LF) **] K. Phone: [**Telephone/Fax (1) 2205**] Date/Time:\n",
      ".\n",
      "Oncology:\n",
      "Date/time: Tuesday [**2120-11-26**] Office will call you with a time.\n",
      "Provider: [**Name10 (NameIs) 10838**] [**Name11 (NameIs) **], [**MD Number(3) 1240**]:[**Telephone/Fax (1) 22**]\n",
      "Date/Time:[**2120-12-3**] 1:30\n",
      "Provider: [**Name10 (NameIs) 22181**] [**Name8 (MD) **], RN Phone:[**Telephone/Fax (1) 22**]\n",
      "Date/Time:[**2120-12-3**] 1:30\n",
      "Provider: [**First Name11 (Name Pattern1) **] [**Last Name (NamePattern4) 5387**], MD Phone:[**Telephone/Fax (1) 22**]\n",
      "Date/Time:[**2120-12-3**] 1:30\n",
      "\n",
      "\n",
      "\n",
      "Completed by:[**2120-11-22**]\n"
     ]
    }
   ],
   "source": [
    "print(df.iloc[ind].text)"
   ]
  },
  {
   "cell_type": "code",
   "execution_count": 102,
   "id": "f8850170-8792-49eb-80ec-9e9a690a3ae2",
   "metadata": {
    "scrolled": true,
    "tags": []
   },
   "outputs": [
    {
     "data": {
      "text/plain": [
       "1374"
      ]
     },
     "execution_count": 102,
     "metadata": {},
     "output_type": "execute_result"
    }
   ],
   "source": [
    "len((df.iloc[ind].text).split(' '))"
   ]
  },
  {
   "cell_type": "code",
   "execution_count": 103,
   "id": "05996017-3553-4d49-83c2-7b239c05e8cc",
   "metadata": {},
   "outputs": [
    {
     "data": {
      "text/plain": [
       "546"
      ]
     },
     "execution_count": 103,
     "metadata": {},
     "output_type": "execute_result"
    }
   ],
   "source": [
    "ind_caml = df_caml[df_caml.hadm_id == hadmid].index[0]\n",
    "ind_caml"
   ]
  },
  {
   "cell_type": "code",
   "execution_count": 104,
   "id": "0b4571af-63a7-4aea-b75f-d82b7838bb51",
   "metadata": {},
   "outputs": [
    {
     "data": {
      "text/html": [
       "<div>\n",
       "<style scoped>\n",
       "    .dataframe tbody tr th:only-of-type {\n",
       "        vertical-align: middle;\n",
       "    }\n",
       "\n",
       "    .dataframe tbody tr th {\n",
       "        vertical-align: top;\n",
       "    }\n",
       "\n",
       "    .dataframe thead th {\n",
       "        text-align: right;\n",
       "    }\n",
       "</style>\n",
       "<table border=\"1\" class=\"dataframe\">\n",
       "  <thead>\n",
       "    <tr style=\"text-align: right;\">\n",
       "      <th></th>\n",
       "      <th>subject_id</th>\n",
       "      <th>hadm_id</th>\n",
       "      <th>text</th>\n",
       "      <th>labels</th>\n",
       "      <th>length</th>\n",
       "      <th>is_valid</th>\n",
       "    </tr>\n",
       "  </thead>\n",
       "  <tbody>\n",
       "    <tr>\n",
       "      <th>546</th>\n",
       "      <td>86580</td>\n",
       "      <td>145497</td>\n",
       "      <td>admission date discharge date date of birth sex m service medicine allergies patient recorded as having no known allergies to drugs attending first name3 lf chief complaint sob doe major surgical or invasive procedure pericardial tap and window placement vats procedure pleural fluid tap pleurex catheter placement history of present illness mr known lastname is a y o m with stage four metastatic renal cell carcinoma since with multiple mets to lymph nodes and to bone the patient presented with five days of worsening dyspnea to the hospital1 ed he states that he was not able to lie flat whil...</td>\n",
       "      <td>420.90;518.4;511.81;198.5;196.8;518.0;423.3;427.89;272.4;288.60;799.02;458.9;276.52;V10.52;37.12;34.21;37.0;37.21;34.91;34.91</td>\n",
       "      <td>1401</td>\n",
       "      <td>False</td>\n",
       "    </tr>\n",
       "  </tbody>\n",
       "</table>\n",
       "</div>"
      ],
      "text/plain": [
       "     subject_id  hadm_id  \\\n",
       "546       86580   145497   \n",
       "\n",
       "                                                                                                                                                                                                                                                                                                                                                                                                                                                                                                                                                                                                                        text  \\\n",
       "546  admission date discharge date date of birth sex m service medicine allergies patient recorded as having no known allergies to drugs attending first name3 lf chief complaint sob doe major surgical or invasive procedure pericardial tap and window placement vats procedure pleural fluid tap pleurex catheter placement history of present illness mr known lastname is a y o m with stage four metastatic renal cell carcinoma since with multiple mets to lymph nodes and to bone the patient presented with five days of worsening dyspnea to the hospital1 ed he states that he was not able to lie flat whil...   \n",
       "\n",
       "                                                                                                                            labels  \\\n",
       "546  420.90;518.4;511.81;198.5;196.8;518.0;423.3;427.89;272.4;288.60;799.02;458.9;276.52;V10.52;37.12;34.21;37.0;37.21;34.91;34.91   \n",
       "\n",
       "     length  is_valid  \n",
       "546    1401     False  "
      ]
     },
     "execution_count": 104,
     "metadata": {},
     "output_type": "execute_result"
    }
   ],
   "source": [
    "df_caml[df_caml.hadm_id == hadmid]"
   ]
  },
  {
   "cell_type": "code",
   "execution_count": 105,
   "id": "7e62648d-eedf-413a-bf44-d2efc10cd552",
   "metadata": {},
   "outputs": [
    {
     "name": "stdout",
     "output_type": "stream",
     "text": [
      "admission date discharge date date of birth sex m service medicine allergies patient recorded as having no known allergies to drugs attending first name3 lf chief complaint sob doe major surgical or invasive procedure pericardial tap and window placement vats procedure pleural fluid tap pleurex catheter placement history of present illness mr known lastname is a y o m with stage four metastatic renal cell carcinoma since with multiple mets to lymph nodes and to bone the patient presented with five days of worsening dyspnea to the hospital1 ed he states that he was not able to lie flat while sleeping because of the shortness of breath and this morning found himself needing to tripod himself to catch his breath patient reported cough associated with his dyspnea he states that he has had fatigue for several months and it was thought that his baseline dyspnea was related to his malignancy when patient presented for evaluation he had an ecg that was concerning for ischemia on presentation the patient s vs were ra the patient had a cta to r o pe but was found to have a large pericardial effusion a concerning etiology to the patient s shortness of breath the patient had an echocardiogram that showed a large circumferential effusion concerning for tamponade physiology the patient had a positive pulsus of in the ed and was found to have elevated jvp the patient was taken to the cath lab where he underwent a pericardiocentesis draining approx 1l of bloody fluid patient s cardiac catheterization demonstrated near equalization of pressures the patient was transferred from the cath lab to the ccu for further monitoring with a drain in place on arrival to the ccu patient s vital signs are stable however remains in sinus tachycardia 100s he denies any nausea vomiting diarrhea chest discomfort other than at drain site he reports that his dyspnea is improved past medical history metastatic rcc s p bilateral knee scopes s p vasectomy social history the patient grew up in location un he lives in location he works commercial real estate he is married and has three daughters name ni has a pack year history of tobacco use but quit years ago he has occasional alcohol use and drinks one to two glasses of wine a few times a week he denies any illicit drug use family history he has two brothers and one sister all of whom are well his father is deceased from melanoma his paternal grandfather died from emphysema his paternal grandmother died from mi his mother is alive his maternal grandfather died at the age of his maternal grandmother died from name ni he has three daughters all of whom are well physical exam at admission general oriented x3 mood affect appropriate heent ncat sclera anicteric perrl eomi conjunctiva were pink no pallor or cyanosis of the oral mucosa no xanthalesma neck supple with jvp of 8cm cardiac pmi located in 5th intercostal space midclavicular line rr normal s1 s2 friction rub no s3 or s4 lungs diffuse fine crackles on left lung fields anterolaterally unable to auscultate bases given venous sheath abdomen soft ntnd no hsm or tenderness abd aorta not enlarged by palpation no abdominial bruits extremities bilateral asymmetrical lower extremity pitting edema tr l r skin no stasis dermatitis ulcers scars or xanthomas pulses right carotid dp pt left carotid dp pt pertinent results 00pm other body fluid tot prot glucose ld ldh numeric identifier amylase albumin 00pm other body fluid wbc hct polys lymphs monos eos mesotheli macrophag 10pm glucose urea n creat sodium potassium chloride total co2 anion gap 10pm ck cpk 10pm estgfr using this 10pm ctropnt 10pm ck mb notdone 10pm wbc rbc hgb hct mcv mch mchc rdw 10pm neuts lymphs monos eos basos 10pm plt count 10pm pt ptt inr pt cytology pending brief hospital course bilateral pleural effusion respiratory distress exudative in origin on thoracentesis drainage of r lung was performed via thoracentesis with large improvement in symptoms although continued to have severe drops in ambulatory o2 interventional thoracics plans to place pleurex catheter cytology is still pending at the time of discharge for symptomatic relief he was placed on benzonatate guaifenesin dextromethorphan ipratropium bromide neb prn for supportive care cardiac tamponade presumed to be malignancy s p vats with pericardial window unfortunately repeat echo shows persistent organized pericardial effusion respiratory distress improved symptomatically with pericardial drain and effusion cytology is still pending on the pericardial fluid that was drained thoracics was consulted and will consider pericardial stripping in the future leukocytosis remained stable throughout admission from most likely etiology is rcc there were never clear signs of infection he persisted to be afebrile for hours he was empirically treated with levo given multiple intraparenchymal nodules and productive cough mr known lastname has been very cooperative with incentive spirometry incentive spirometer monitor cxr pain control was acheived post procedure with roxanol he no longer requires this medication coronaries patient with no known h o cad however patient with mild regional left ventricular systolic dysfunction with mild basal to mid inferior wall hypokinesis and mid inferolateral wall hypokinesis on echo patient has not had cardiac cath given other co morbidities and lack of symptoms not active currently pump patient with lymphangitic involvement of lungs ct scan near admission showed pulmonary edema and pulmonary effusion r l patient had pcwp of rvedp pa pressures mean ra pressures of on first echo has tumor burden impacting pulmonary artery currently appears euvolemic patient will behave like he has a pe hemodynamically removeal of his tamponade physiology obviously improved his pump function rhythm in and out sinus tachycardia atrial bigeminy unclear etiology or chronicity likely cont pericardial effusion last tsh in wnl had history of elevated tsh over year ago unclear if related to chemotherapy he was in sinus tach at the time of d c tsh currently asymmetrical ble edema patient with a history of asymmetrical le edema l r has been documented in past no tenderness to palpation or acute concern for underlying dvt though patient at higher risk given malignancy this is secondary to compression from massive lymphadenopathy metastatic renal cell carcinoma patient with shoulder and l iliac mets s p xrt to hip and rfa to shoulder patient was on a new experimental chemotherapeutic doctor last name mdx which has unclear benefits in patient s condition patient is s p multiple rounds of different agents and it is unclear if any can have pericardial effusion as secondary effect inr rising could be poor diet plan to discuss sutent with heme onc on d c medications on admission mdx infusion per oncology last dose discharge medications phytonadione mg tablet sig one tablet po daily daily for days disp tablet s refills benzonatate mg capsule sig capsules po tid times a day as needed for cough disp capsule s refills multiple vitamin tablet sig one tablet po once a day lorazepam mg tablet sig tablets po four times a day as needed for anxiety acetaminophen extra strength mg tablet sig tablets po four times a day as needed for pain discharge disposition home with service facility company discharge diagnosis pericardial and pleural effusions metastatic renal cell carcinoma discharge condition mental status clear and coherent level of consciousness alert and interactive activity status ambulatory independent discharge instructions you had a collection of fluid around your heart that was tapped and a window was placed that will continuously drain any other fluid that accumulates from now on an echo done on showed some reaccumulation of the fluid around your heart possibly some blood and clots you also had some fluid collections in your lungs that were drained on and __ permanant tubes were placed for continued drainage you also will be seen next week in oncology for further treatment of your cancer medication changes benzonatate to take for your cough lorazepam to take for anxiety or sleep vitamin k to take for one more day to help your blood to clot followup instructions primary care last name lf first name3 lf k phone telephone fax date time oncology date time tuesday office will call you with a time provider name10 nameis name11 nameis md number telephone fax date time provider name10 nameis name8 md rn phone telephone fax date time provider first name11 name pattern1 last name namepattern4 md phone telephone fax date time completed by\n"
     ]
    }
   ],
   "source": [
    "print(df_caml.iloc[ind_caml].text)"
   ]
  },
  {
   "cell_type": "code",
   "execution_count": 106,
   "id": "2c92d55e-34ec-48f8-a9a5-3bdaf8da7ada",
   "metadata": {},
   "outputs": [
    {
     "data": {
      "text/plain": [
       "1401"
      ]
     },
     "execution_count": 106,
     "metadata": {},
     "output_type": "execute_result"
    }
   ],
   "source": [
    "len((df_caml.iloc[ind_caml].text).split(' '))"
   ]
  },
  {
   "cell_type": "markdown",
   "id": "5b4b3095",
   "metadata": {
    "jp-MarkdownHeadingCollapsed": true,
    "tags": []
   },
   "source": [
    "#### Plotting the # of labels disctibution:"
   ]
  },
  {
   "cell_type": "code",
   "execution_count": null,
   "id": "bddc23c0",
   "metadata": {},
   "outputs": [
    {
     "data": {
      "text/plain": [
       "subject_id     int64\n",
       "hadm_id        int64\n",
       "text          object\n",
       "labels        object\n",
       "is_valid        bool\n",
       "dtype: object"
      ]
     },
     "execution_count": null,
     "metadata": {},
     "output_type": "execute_result"
    }
   ],
   "source": [
    "df.dtypes"
   ]
  },
  {
   "cell_type": "code",
   "execution_count": null,
   "id": "3bd04055",
   "metadata": {},
   "outputs": [],
   "source": [
    "label_freq = Counter()\n",
    "for row in df.itertuples():\n",
    "    labels = row.labels.split(';')\n",
    "    for label in labels:\n",
    "        label_freq[label] += 1"
   ]
  },
  {
   "cell_type": "markdown",
   "id": "858c7b80",
   "metadata": {},
   "source": [
    "So the total number of labels are:"
   ]
  },
  {
   "cell_type": "code",
   "execution_count": null,
   "id": "45a95c37",
   "metadata": {},
   "outputs": [
    {
     "data": {
      "text/plain": [
       "8922"
      ]
     },
     "execution_count": null,
     "metadata": {},
     "output_type": "execute_result"
    }
   ],
   "source": [
    "len(label_freq)"
   ]
  },
  {
   "cell_type": "markdown",
   "id": "9a91dcfd",
   "metadata": {},
   "source": [
    "Let's sort the labels according to frequencies:"
   ]
  },
  {
   "cell_type": "code",
   "execution_count": null,
   "id": "0845a597",
   "metadata": {},
   "outputs": [],
   "source": [
    "labels_sorted = sorted(label_freq.items(), key=lambda item: item[1], reverse=True)\n",
    "labels_top50 = dict(labels_sorted[:50])"
   ]
  },
  {
   "cell_type": "code",
   "execution_count": null,
   "id": "f3fc38a1",
   "metadata": {},
   "outputs": [],
   "source": [
    "labels_top50"
   ]
  },
  {
   "cell_type": "markdown",
   "id": "0df35fdc",
   "metadata": {},
   "source": [
    "An alternative way of doing the same using inbuilt `most_common` method of the `Counter` container:"
   ]
  },
  {
   "cell_type": "code",
   "execution_count": null,
   "id": "d1530404",
   "metadata": {},
   "outputs": [
    {
     "data": {
      "text/plain": [
       "[('401.9', 20053),\n",
       " ('38.93', 14444),\n",
       " ('428.0', 12842),\n",
       " ('427.31', 12594),\n",
       " ('414.01', 12179),\n",
       " ('96.04', 9932),\n",
       " ('96.6', 9161),\n",
       " ('584.9', 8907),\n",
       " ('250.00', 8784),\n",
       " ('96.71', 8619),\n",
       " ('272.4', 8504),\n",
       " ('518.81', 7249),\n",
       " ('99.04', 7147),\n",
       " ('39.61', 6809),\n",
       " ('599.0', 6442),\n",
       " ('530.81', 6156),\n",
       " ('96.72', 5926),\n",
       " ('272.0', 5766),\n",
       " ('285.9', 5296),\n",
       " ('88.56', 5240)]"
      ]
     },
     "execution_count": null,
     "metadata": {},
     "output_type": "execute_result"
    }
   ],
   "source": [
    "label_freq.most_common(20)"
   ]
  },
  {
   "cell_type": "markdown",
   "id": "3842c54a",
   "metadata": {
    "jp-MarkdownHeadingCollapsed": true,
    "tags": []
   },
   "source": [
    "#### Computing the average number of instances per labels:"
   ]
  },
  {
   "cell_type": "code",
   "execution_count": null,
   "id": "77d34d0e",
   "metadata": {},
   "outputs": [
    {
     "data": {
      "text/plain": [
       "95.12351490697154"
      ]
     },
     "execution_count": null,
     "metadata": {},
     "output_type": "execute_result"
    }
   ],
   "source": [
    "array(list(label_freq.values())).mean()"
   ]
  },
  {
   "cell_type": "markdown",
   "id": "ad202950",
   "metadata": {
    "jp-MarkdownHeadingCollapsed": true,
    "tags": []
   },
   "source": [
    "#### Computing the average number of labels per instance:"
   ]
  },
  {
   "cell_type": "markdown",
   "id": "7554258c",
   "metadata": {},
   "source": [
    "We will add an extra column with the number of labels per instance so that we can take the mean of that column."
   ]
  },
  {
   "cell_type": "code",
   "execution_count": null,
   "id": "a867ef28",
   "metadata": {},
   "outputs": [],
   "source": [
    "label_count = []\n",
    "for labels in df.labels:\n",
    "    label_count.append(len(labels.split(';'))) "
   ]
  },
  {
   "cell_type": "code",
   "execution_count": null,
   "id": "d1b7f943",
   "metadata": {},
   "outputs": [],
   "source": [
    "df_copy = df.copy()"
   ]
  },
  {
   "cell_type": "code",
   "execution_count": null,
   "id": "6d06beed",
   "metadata": {},
   "outputs": [
    {
     "data": {
      "text/html": [
       "<div>\n",
       "<style scoped>\n",
       "    .dataframe tbody tr th:only-of-type {\n",
       "        vertical-align: middle;\n",
       "    }\n",
       "\n",
       "    .dataframe tbody tr th {\n",
       "        vertical-align: top;\n",
       "    }\n",
       "\n",
       "    .dataframe thead th {\n",
       "        text-align: right;\n",
       "    }\n",
       "</style>\n",
       "<table border=\"1\" class=\"dataframe\">\n",
       "  <thead>\n",
       "    <tr style=\"text-align: right;\">\n",
       "      <th></th>\n",
       "      <th>subject_id</th>\n",
       "      <th>hadm_id</th>\n",
       "      <th>text</th>\n",
       "      <th>labels</th>\n",
       "      <th>is_valid</th>\n",
       "      <th>label_count</th>\n",
       "    </tr>\n",
       "  </thead>\n",
       "  <tbody>\n",
       "    <tr>\n",
       "      <th>0</th>\n",
       "      <td>3</td>\n",
       "      <td>145834</td>\n",
       "      <td>Admission Date:  [**2101-10-20**]     Discharge Date:  [**2101-10-31**]\\n\\nDate of Birth:   [**2025-4-11**]     Sex:  M\\n\\nService:  Medicine\\n\\nCHIEF COMPLAINT:  Admitted from rehabilitation for\\nhypotension (systolic blood pressure to the 70s) and\\ndecreased urine output.\\n\\nHISTORY OF PRESENT ILLNESS:  The patient is a 76-year-old\\nmale who had been hospitalized at the [**Hospital1 190**] from [**10-11**] through [**10-19**] of [**2101**]\\nafter undergoing a left femoral-AT bypass graft and was\\nsubsequently discharged to a rehabilitation facility.\\n\\nOn [**2101-10-20**], he presented a...</td>\n",
       "      <td>038.9;785.59;584.9;427.5;410.71;428.0;682.6;425.4;263.9;96.04;99.62;89.64;96.72;38.93;96.6</td>\n",
       "      <td>False</td>\n",
       "      <td>15</td>\n",
       "    </tr>\n",
       "    <tr>\n",
       "      <th>1</th>\n",
       "      <td>4</td>\n",
       "      <td>185777</td>\n",
       "      <td>Admission Date:  [**2191-3-16**]     Discharge Date:  [**2191-3-23**]\\n\\nDate of Birth:   [**2143-5-12**]     Sex:  F\\n\\nService:\\n\\nCHIEF COMPLAINT:  Shortness of breath and fevers.\\n\\nHISTORY OF PRESENT ILLNESS:  The patient is a 47-year-old\\nfemale with a history of human immunodeficiency virus (last\\nCD4 count 42 and a viral load of 65,000), cirrhosis,\\ndiabetes, and hypothyroidism presented with eight days of\\nfevers to 104, chills, shortness of breath, cough, dyspnea on\\nexertion, and fatigue.\\n\\nThe patient states she has become progressively dyspneic to\\nthe point where she is shor...</td>\n",
       "      <td>042;136.3;799.4;276.3;790.7;571.5;041.11;V09.0;E931.7;38.93;88.72;33.23</td>\n",
       "      <td>False</td>\n",
       "      <td>12</td>\n",
       "    </tr>\n",
       "    <tr>\n",
       "      <th>2</th>\n",
       "      <td>6</td>\n",
       "      <td>107064</td>\n",
       "      <td>Admission Date: [**2175-5-30**]        Discharge Date:  [**2175-6-15**]\\n\\nDate of Birth:                    Sex:  F\\n\\nService:\\n\\n\\nADMISSION DIAGNOSIS:  End stage renal disease, admitted for\\ntransplant surgery.\\n\\nHISTORY OF PRESENT ILLNESS:  The patient is a 65 year-old\\nwoman with end stage renal disease, secondary to malignant\\nhypertension. She was started on dialysis in [**2174-2-7**].  She currently was on peritoneal dialysis and appears\\nto be doing well.  She has a history of gastric angiectasia\\nwhich she requires endoscopy. She was admitted on [**2175-5-30**] for\\na scheduled...</td>\n",
       "      <td>403.91;444.0;997.2;276.6;276.7;285.9;275.3;V15.82;55.69;91.0;39.57;38.06;99.04</td>\n",
       "      <td>False</td>\n",
       "      <td>13</td>\n",
       "    </tr>\n",
       "    <tr>\n",
       "      <th>3</th>\n",
       "      <td>9</td>\n",
       "      <td>150750</td>\n",
       "      <td>Admission Date:  [**2149-11-9**]       Discharge Date: [**2149-11-13**]\\n\\nDate of Birth:   [**2108-1-26**]       Sex:  M\\n\\nService:  NEUROLOGY\\n\\nCHIEF COMPLAINT:  Weakness, inability to talk.\\n\\nHISTORY OF THE PRESENT ILLNESS:  This is a 41-year-old\\nAfrican-American male with a history of hypertension who was\\nin his usual state of health until about 10:25 a.m. on the\\nmorning of admission.  He had gone to use the restroom and a\\nfew minutes later his family found him slumped onto the\\nfloor, apparently unable to talk and with weakness in his\\nright arm and leg.  EMS was called and he ...</td>\n",
       "      <td>431;507.0;428.0;584.9;276.5;401.9;96.72;96.04</td>\n",
       "      <td>False</td>\n",
       "      <td>8</td>\n",
       "    </tr>\n",
       "    <tr>\n",
       "      <th>4</th>\n",
       "      <td>10</td>\n",
       "      <td>184167</td>\n",
       "      <td>Admission Date:  [**2103-6-28**]       Discharge Date:  [**2103-7-6**]\\n\\nDate of Birth:   [**2103-6-28**]       Sex:  F\\n\\nService:\\n\\nHISTORY OF PRESENT ILLNESS:  Baby Girl [**Known lastname 48639**] is a 1,385\\ngram, former 30 and [**5-23**] week premature baby, born to an 18\\nyear old, Gravida I, Para 0, now I, mother with prenatal\\nserologies as follows:\\n\\nA positive, antibody negative, RPR nonreactive, hepatitis B\\nsurface antigen negative; GBS unknown.\\n\\nPregnancy was complicated by PPROM on [**2103-6-23**] when the\\nmother was transferred from [**Name (NI) 1474**] Hospital to [**...</td>\n",
       "      <td>V30.00;774.2;765.25;765.15;V29.0;99.83;99.15;96.6</td>\n",
       "      <td>False</td>\n",
       "      <td>8</td>\n",
       "    </tr>\n",
       "    <tr>\n",
       "      <th>...</th>\n",
       "      <td>...</td>\n",
       "      <td>...</td>\n",
       "      <td>...</td>\n",
       "      <td>...</td>\n",
       "      <td>...</td>\n",
       "      <td>...</td>\n",
       "    </tr>\n",
       "    <tr>\n",
       "      <th>52721</th>\n",
       "      <td>99985</td>\n",
       "      <td>176670</td>\n",
       "      <td>Admission Date:  [**2181-1-27**]              Discharge Date:   [**2181-2-12**]\\n\\nDate of Birth:  [**2127-4-8**]             Sex:   M\\n\\nService: MEDICINE\\n\\nAllergies:\\nCefepime\\n\\nAttending:[**First Name3 (LF) 1936**]\\nChief Complaint:\\nfever\\n\\nMajor Surgical or Invasive Procedure:\\nnone\\n\\nHistory of Present Illness:\\nPt's a 53-year-old male patient of Dr. [**First Name4 (NamePattern1) **] [**Last Name (NamePattern1) **] is here\\nfor evaluation of fever.  The patient states fever began two\\ndays ago along with a mild dry cough, fever was low-grade at\\nthat time.  Day of admission, pt ...</td>\n",
       "      <td>038.9;518.81;482.41;487.0;785.52;V42.81;995.92;244.9;272.4;285.9;530.81;V10.72;238.71;96.72;96.6;38.93;14.0;96.04</td>\n",
       "      <td>True</td>\n",
       "      <td>18</td>\n",
       "    </tr>\n",
       "    <tr>\n",
       "      <th>52722</th>\n",
       "      <td>99991</td>\n",
       "      <td>151118</td>\n",
       "      <td>Admission Date:  [**2184-12-24**]              Discharge Date:   [**2185-1-5**]\\n\\nDate of Birth:  [**2137-4-7**]             Sex:   M\\n\\nService: SURGERY\\n\\nAllergies:\\nPatient recorded as having No Known Allergies to Drugs\\n\\nAttending:[**First Name3 (LF) 6346**]\\nChief Complaint:\\nRecurrent diverticulitis\\n\\nMajor Surgical or Invasive Procedure:\\n[**2184-12-24**]: Laparoscopic sigmoid colectomy, splenic flexure\\ntakedown, rigid sigmoidoscopy.\\n.\\n[**2184-12-28**]: Exploratory laparotomy, lysis of adhesions,\\nomentectomy, washout of abdomen, drain placement and abdominal\\nclosure.\\n\\n\\nH...</td>\n",
       "      <td>562.11;038.9;557.0;584.9;995.92;560.81;789.59;553.8;788.5;402.91;428.0;719.47;564.4;250.00;V02.54;E878.8;276.51;17.36;54.12;54.59;54.4;48.23;54.25;54.91</td>\n",
       "      <td>True</td>\n",
       "      <td>24</td>\n",
       "    </tr>\n",
       "    <tr>\n",
       "      <th>52723</th>\n",
       "      <td>99992</td>\n",
       "      <td>197084</td>\n",
       "      <td>Admission Date:  [**2144-7-25**]              Discharge Date:   [**2144-7-28**]\\n\\nDate of Birth:  [**2078-10-17**]             Sex:   F\\n\\nService: MEDICINE\\n\\nAllergies:\\nBactrim / Norvasc / Lipitor / Cortisone\\n\\nAttending:[**First Name3 (LF) 2751**]\\nChief Complaint:\\nChief Complaint: anemia\\n.\\nReason for MICU transfer: retroperitoneal bleed\\n\\n\\nMajor Surgical or Invasive Procedure:\\nCoiling of superior gluteal artery\\n\\nHistory of Present Illness:\\nMs. [**Known lastname 91180**] is a 65 YOF with history of GERD, HTN, and\\nhypertriglyceridemia who was recently admitted from [**7-9**]...</td>\n",
       "      <td>999.9;568.81;577.2;285.1;584.9;579.9;729.92;530.81;401.9;272.1;569.9;300.4;39.79;88.47</td>\n",
       "      <td>True</td>\n",
       "      <td>14</td>\n",
       "    </tr>\n",
       "    <tr>\n",
       "      <th>52724</th>\n",
       "      <td>99995</td>\n",
       "      <td>137810</td>\n",
       "      <td>Admission Date:  [**2147-2-8**]              Discharge Date:   [**2147-2-11**]\\n\\n\\nService: SURGERY\\n\\nAllergies:\\nZantac\\n\\nAttending:[**First Name3 (LF) 6088**]\\nChief Complaint:\\nAbdominal Aortic Aneurysm\\n\\nMajor Surgical or Invasive Procedure:\\n[**2147-2-8**]: groin cutdown with mass excision and endovascular\\nrepair of an aortic aneurysm\\n\\n\\nHistory of Present Illness:\\nMs. [**Known lastname **] is an 88-year-old female who is currently being\\nevaluated for percutaneous aortic valve replacement due to\\nsevere\\naortic stenosis.  She has a known infrarenal aortic aneurysm.\\nThis was ...</td>\n",
       "      <td>441.4;428.33;998.12;285.1;424.1;250.00;998.11;996.1;E879.8;272.4;V45.81;428.0;V10.3;V15.82;V58.61;440.0;414.01;39.71;83.39;17.71</td>\n",
       "      <td>True</td>\n",
       "      <td>20</td>\n",
       "    </tr>\n",
       "    <tr>\n",
       "      <th>52725</th>\n",
       "      <td>99999</td>\n",
       "      <td>113369</td>\n",
       "      <td>Admission Date:  [**2117-12-30**]              Discharge Date:   [**2118-1-4**]\\n\\nDate of Birth:  [**2054-1-6**]             Sex:   F\\n\\nService: NEUROSURGERY\\n\\nAllergies:\\nPenicillins\\n\\nAttending:[**First Name3 (LF) 2724**]\\nChief Complaint:\\nNeurogenic claudication\\n\\nMajor Surgical or Invasive Procedure:\\n[**2117-12-30**] PLIF L4-5\\n\\n\\nHistory of Present Illness:\\n63-year-old woman who complains of bilateral lower extremity\\nsymptoms that are exacerbated by walking.  She receives some\\namelioration with rest.  She denies difficulty with bowel or\\nbladder function.\\n\\n\\nPast Medical ...</td>\n",
       "      <td>756.12;786.1;401.9;250.00;413.9;81.08;80.51;81.62;99.79;84.51</td>\n",
       "      <td>True</td>\n",
       "      <td>10</td>\n",
       "    </tr>\n",
       "  </tbody>\n",
       "</table>\n",
       "<p>52726 rows × 6 columns</p>\n",
       "</div>"
      ],
      "text/plain": [
       "       subject_id  hadm_id  \\\n",
       "0               3   145834   \n",
       "1               4   185777   \n",
       "2               6   107064   \n",
       "3               9   150750   \n",
       "4              10   184167   \n",
       "...           ...      ...   \n",
       "52721       99985   176670   \n",
       "52722       99991   151118   \n",
       "52723       99992   197084   \n",
       "52724       99995   137810   \n",
       "52725       99999   113369   \n",
       "\n",
       "                                                                                                                                                                                                                                                                                                                                                                                                                                                                                                                                                                                                                          text  \\\n",
       "0      Admission Date:  [**2101-10-20**]     Discharge Date:  [**2101-10-31**]\\n\\nDate of Birth:   [**2025-4-11**]     Sex:  M\\n\\nService:  Medicine\\n\\nCHIEF COMPLAINT:  Admitted from rehabilitation for\\nhypotension (systolic blood pressure to the 70s) and\\ndecreased urine output.\\n\\nHISTORY OF PRESENT ILLNESS:  The patient is a 76-year-old\\nmale who had been hospitalized at the [**Hospital1 190**] from [**10-11**] through [**10-19**] of [**2101**]\\nafter undergoing a left femoral-AT bypass graft and was\\nsubsequently discharged to a rehabilitation facility.\\n\\nOn [**2101-10-20**], he presented a...   \n",
       "1      Admission Date:  [**2191-3-16**]     Discharge Date:  [**2191-3-23**]\\n\\nDate of Birth:   [**2143-5-12**]     Sex:  F\\n\\nService:\\n\\nCHIEF COMPLAINT:  Shortness of breath and fevers.\\n\\nHISTORY OF PRESENT ILLNESS:  The patient is a 47-year-old\\nfemale with a history of human immunodeficiency virus (last\\nCD4 count 42 and a viral load of 65,000), cirrhosis,\\ndiabetes, and hypothyroidism presented with eight days of\\nfevers to 104, chills, shortness of breath, cough, dyspnea on\\nexertion, and fatigue.\\n\\nThe patient states she has become progressively dyspneic to\\nthe point where she is shor...   \n",
       "2      Admission Date: [**2175-5-30**]        Discharge Date:  [**2175-6-15**]\\n\\nDate of Birth:                    Sex:  F\\n\\nService:\\n\\n\\nADMISSION DIAGNOSIS:  End stage renal disease, admitted for\\ntransplant surgery.\\n\\nHISTORY OF PRESENT ILLNESS:  The patient is a 65 year-old\\nwoman with end stage renal disease, secondary to malignant\\nhypertension. She was started on dialysis in [**2174-2-7**].  She currently was on peritoneal dialysis and appears\\nto be doing well.  She has a history of gastric angiectasia\\nwhich she requires endoscopy. She was admitted on [**2175-5-30**] for\\na scheduled...   \n",
       "3      Admission Date:  [**2149-11-9**]       Discharge Date: [**2149-11-13**]\\n\\nDate of Birth:   [**2108-1-26**]       Sex:  M\\n\\nService:  NEUROLOGY\\n\\nCHIEF COMPLAINT:  Weakness, inability to talk.\\n\\nHISTORY OF THE PRESENT ILLNESS:  This is a 41-year-old\\nAfrican-American male with a history of hypertension who was\\nin his usual state of health until about 10:25 a.m. on the\\nmorning of admission.  He had gone to use the restroom and a\\nfew minutes later his family found him slumped onto the\\nfloor, apparently unable to talk and with weakness in his\\nright arm and leg.  EMS was called and he ...   \n",
       "4      Admission Date:  [**2103-6-28**]       Discharge Date:  [**2103-7-6**]\\n\\nDate of Birth:   [**2103-6-28**]       Sex:  F\\n\\nService:\\n\\nHISTORY OF PRESENT ILLNESS:  Baby Girl [**Known lastname 48639**] is a 1,385\\ngram, former 30 and [**5-23**] week premature baby, born to an 18\\nyear old, Gravida I, Para 0, now I, mother with prenatal\\nserologies as follows:\\n\\nA positive, antibody negative, RPR nonreactive, hepatitis B\\nsurface antigen negative; GBS unknown.\\n\\nPregnancy was complicated by PPROM on [**2103-6-23**] when the\\nmother was transferred from [**Name (NI) 1474**] Hospital to [**...   \n",
       "...                                                                                                                                                                                                                                                                                                                                                                                                                                                                                                                                                                                                                        ...   \n",
       "52721  Admission Date:  [**2181-1-27**]              Discharge Date:   [**2181-2-12**]\\n\\nDate of Birth:  [**2127-4-8**]             Sex:   M\\n\\nService: MEDICINE\\n\\nAllergies:\\nCefepime\\n\\nAttending:[**First Name3 (LF) 1936**]\\nChief Complaint:\\nfever\\n\\nMajor Surgical or Invasive Procedure:\\nnone\\n\\nHistory of Present Illness:\\nPt's a 53-year-old male patient of Dr. [**First Name4 (NamePattern1) **] [**Last Name (NamePattern1) **] is here\\nfor evaluation of fever.  The patient states fever began two\\ndays ago along with a mild dry cough, fever was low-grade at\\nthat time.  Day of admission, pt ...   \n",
       "52722  Admission Date:  [**2184-12-24**]              Discharge Date:   [**2185-1-5**]\\n\\nDate of Birth:  [**2137-4-7**]             Sex:   M\\n\\nService: SURGERY\\n\\nAllergies:\\nPatient recorded as having No Known Allergies to Drugs\\n\\nAttending:[**First Name3 (LF) 6346**]\\nChief Complaint:\\nRecurrent diverticulitis\\n\\nMajor Surgical or Invasive Procedure:\\n[**2184-12-24**]: Laparoscopic sigmoid colectomy, splenic flexure\\ntakedown, rigid sigmoidoscopy.\\n.\\n[**2184-12-28**]: Exploratory laparotomy, lysis of adhesions,\\nomentectomy, washout of abdomen, drain placement and abdominal\\nclosure.\\n\\n\\nH...   \n",
       "52723  Admission Date:  [**2144-7-25**]              Discharge Date:   [**2144-7-28**]\\n\\nDate of Birth:  [**2078-10-17**]             Sex:   F\\n\\nService: MEDICINE\\n\\nAllergies:\\nBactrim / Norvasc / Lipitor / Cortisone\\n\\nAttending:[**First Name3 (LF) 2751**]\\nChief Complaint:\\nChief Complaint: anemia\\n.\\nReason for MICU transfer: retroperitoneal bleed\\n\\n\\nMajor Surgical or Invasive Procedure:\\nCoiling of superior gluteal artery\\n\\nHistory of Present Illness:\\nMs. [**Known lastname 91180**] is a 65 YOF with history of GERD, HTN, and\\nhypertriglyceridemia who was recently admitted from [**7-9**]...   \n",
       "52724  Admission Date:  [**2147-2-8**]              Discharge Date:   [**2147-2-11**]\\n\\n\\nService: SURGERY\\n\\nAllergies:\\nZantac\\n\\nAttending:[**First Name3 (LF) 6088**]\\nChief Complaint:\\nAbdominal Aortic Aneurysm\\n\\nMajor Surgical or Invasive Procedure:\\n[**2147-2-8**]: groin cutdown with mass excision and endovascular\\nrepair of an aortic aneurysm\\n\\n\\nHistory of Present Illness:\\nMs. [**Known lastname **] is an 88-year-old female who is currently being\\nevaluated for percutaneous aortic valve replacement due to\\nsevere\\naortic stenosis.  She has a known infrarenal aortic aneurysm.\\nThis was ...   \n",
       "52725  Admission Date:  [**2117-12-30**]              Discharge Date:   [**2118-1-4**]\\n\\nDate of Birth:  [**2054-1-6**]             Sex:   F\\n\\nService: NEUROSURGERY\\n\\nAllergies:\\nPenicillins\\n\\nAttending:[**First Name3 (LF) 2724**]\\nChief Complaint:\\nNeurogenic claudication\\n\\nMajor Surgical or Invasive Procedure:\\n[**2117-12-30**] PLIF L4-5\\n\\n\\nHistory of Present Illness:\\n63-year-old woman who complains of bilateral lower extremity\\nsymptoms that are exacerbated by walking.  She receives some\\namelioration with rest.  She denies difficulty with bowel or\\nbladder function.\\n\\n\\nPast Medical ...   \n",
       "\n",
       "                                                                                                                                                         labels  \\\n",
       "0                                                                    038.9;785.59;584.9;427.5;410.71;428.0;682.6;425.4;263.9;96.04;99.62;89.64;96.72;38.93;96.6   \n",
       "1                                                                                       042;136.3;799.4;276.3;790.7;571.5;041.11;V09.0;E931.7;38.93;88.72;33.23   \n",
       "2                                                                                403.91;444.0;997.2;276.6;276.7;285.9;275.3;V15.82;55.69;91.0;39.57;38.06;99.04   \n",
       "3                                                                                                                 431;507.0;428.0;584.9;276.5;401.9;96.72;96.04   \n",
       "4                                                                                                             V30.00;774.2;765.25;765.15;V29.0;99.83;99.15;96.6   \n",
       "...                                                                                                                                                         ...   \n",
       "52721                                         038.9;518.81;482.41;487.0;785.52;V42.81;995.92;244.9;272.4;285.9;530.81;V10.72;238.71;96.72;96.6;38.93;14.0;96.04   \n",
       "52722  562.11;038.9;557.0;584.9;995.92;560.81;789.59;553.8;788.5;402.91;428.0;719.47;564.4;250.00;V02.54;E878.8;276.51;17.36;54.12;54.59;54.4;48.23;54.25;54.91   \n",
       "52723                                                                    999.9;568.81;577.2;285.1;584.9;579.9;729.92;530.81;401.9;272.1;569.9;300.4;39.79;88.47   \n",
       "52724                          441.4;428.33;998.12;285.1;424.1;250.00;998.11;996.1;E879.8;272.4;V45.81;428.0;V10.3;V15.82;V58.61;440.0;414.01;39.71;83.39;17.71   \n",
       "52725                                                                                             756.12;786.1;401.9;250.00;413.9;81.08;80.51;81.62;99.79;84.51   \n",
       "\n",
       "       is_valid  label_count  \n",
       "0         False           15  \n",
       "1         False           12  \n",
       "2         False           13  \n",
       "3         False            8  \n",
       "4         False            8  \n",
       "...         ...          ...  \n",
       "52721      True           18  \n",
       "52722      True           24  \n",
       "52723      True           14  \n",
       "52724      True           20  \n",
       "52725      True           10  \n",
       "\n",
       "[52726 rows x 6 columns]"
      ]
     },
     "execution_count": null,
     "metadata": {},
     "output_type": "execute_result"
    }
   ],
   "source": [
    "df_copy['label_count'] = label_count\n",
    "df_copy"
   ]
  },
  {
   "cell_type": "markdown",
   "id": "6d993b1d",
   "metadata": {},
   "source": [
    "The average number of labels per instance is:"
   ]
  },
  {
   "cell_type": "code",
   "execution_count": null,
   "id": "aaf00ad0",
   "metadata": {},
   "outputs": [
    {
     "data": {
      "text/plain": [
       "16.096271289306983"
      ]
     },
     "execution_count": null,
     "metadata": {},
     "output_type": "execute_result"
    }
   ],
   "source": [
    "df_copy.label_count.mean()"
   ]
  },
  {
   "cell_type": "code",
   "execution_count": null,
   "id": "33c12486",
   "metadata": {},
   "outputs": [
    {
     "data": {
      "text/plain": [
       "8.46712475129644"
      ]
     },
     "execution_count": null,
     "metadata": {},
     "output_type": "execute_result"
    }
   ],
   "source": [
    "df_copy.label_count.std()"
   ]
  },
  {
   "cell_type": "code",
   "execution_count": null,
   "id": "c66ed404",
   "metadata": {},
   "outputs": [
    {
     "data": {
      "image/png": "[encoded data removed]",
      "text/plain": [
       "<Figure size 432x288 with 1 Axes>"
      ]
     },
     "metadata": {
      "needs_background": "light"
     },
     "output_type": "display_data"
    }
   ],
   "source": [
    "df_copy.label_count.hist(bins=100);"
   ]
  },
  {
   "cell_type": "code",
   "execution_count": null,
   "id": "3527498f",
   "metadata": {},
   "outputs": [
    {
     "data": {
      "image/png": "[encoded data removed]",
      "text/plain": [
       "<Figure size 432x288 with 1 Axes>"
      ]
     },
     "metadata": {
      "needs_background": "light"
     },
     "output_type": "display_data"
    }
   ],
   "source": [
    "df_copy.label_count.plot.density();"
   ]
  },
  {
   "cell_type": "code",
   "execution_count": null,
   "id": "805199ac",
   "metadata": {},
   "outputs": [
    {
     "name": "stderr",
     "output_type": "stream",
     "text": [
      "/home/ubuntu/miniconda3/lib/python3.9/site-packages/seaborn/distributions.py:2619: FutureWarning: `distplot` is a deprecated function and will be removed in a future version. Please adapt your code to use either `displot` (a figure-level function with similar flexibility) or `histplot` (an axes-level function for histograms).\n",
      "  warnings.warn(msg, FutureWarning)\n"
     ]
    },
    {
     "data": {
      "image/png": "[encoded data removed]",
      "text/plain": [
       "<Figure size 432x288 with 1 Axes>"
      ]
     },
     "metadata": {
      "needs_background": "light"
     },
     "output_type": "display_data"
    }
   ],
   "source": [
    "import seaborn as sns\n",
    "sns.distplot(df_copy.label_count, bins=100, color='b');"
   ]
  },
  {
   "cell_type": "markdown",
   "id": "1ada6db2",
   "metadata": {
    "jp-MarkdownHeadingCollapsed": true,
    "tags": []
   },
   "source": [
    "## Sampling to create a small dataset:"
   ]
  },
  {
   "cell_type": "code",
   "execution_count": 9,
   "id": "ed362fba-b4b7-4e05-a990-d0275c9cf997",
   "metadata": {},
   "outputs": [
    {
     "data": {
      "text/plain": [
       "52726"
      ]
     },
     "execution_count": 9,
     "metadata": {},
     "output_type": "execute_result"
    }
   ],
   "source": [
    "len(df)"
   ]
  },
  {
   "cell_type": "code",
   "execution_count": 10,
   "id": "1a47798b",
   "metadata": {},
   "outputs": [],
   "source": [
    "df_sample = df.sample(frac=0.1, random_state=42, ignore_index=True)"
   ]
  },
  {
   "cell_type": "code",
   "execution_count": null,
   "id": "145106ad",
   "metadata": {},
   "outputs": [],
   "source": [
    "df_sample = pd.read_csv(path_data/'processed'/'notes_labelled_sample.csv', \n",
    "                               dtype={'text': str, 'labels': str, 'subject_id': np.int64, 'hadm_id': np.int64 })\n",
    "df_sample[['text', 'labels']] = df_sample[['text', 'labels']].astype('str')"
   ]
  },
  {
   "cell_type": "code",
   "execution_count": 11,
   "id": "07fbf592",
   "metadata": {
    "collapsed": true,
    "jupyter": {
     "outputs_hidden": true
    },
    "tags": []
   },
   "outputs": [
    {
     "data": {
      "text/html": [
       "<div>\n",
       "<style scoped>\n",
       "    .dataframe tbody tr th:only-of-type {\n",
       "        vertical-align: middle;\n",
       "    }\n",
       "\n",
       "    .dataframe tbody tr th {\n",
       "        vertical-align: top;\n",
       "    }\n",
       "\n",
       "    .dataframe thead th {\n",
       "        text-align: right;\n",
       "    }\n",
       "</style>\n",
       "<table border=\"1\" class=\"dataframe\">\n",
       "  <thead>\n",
       "    <tr style=\"text-align: right;\">\n",
       "      <th></th>\n",
       "      <th>subject_id</th>\n",
       "      <th>hadm_id</th>\n",
       "      <th>text</th>\n",
       "      <th>labels</th>\n",
       "      <th>is_valid</th>\n",
       "    </tr>\n",
       "  </thead>\n",
       "  <tbody>\n",
       "    <tr>\n",
       "      <th>0</th>\n",
       "      <td>30088</td>\n",
       "      <td>172719</td>\n",
       "      <td>Admission Date:  [**2179-3-7**]              Discharge Date:   [**2179-3-18**]\\n\\nDate of Birth:  [**2121-12-23**]             Sex:   M\\n\\nService: MEDICINE\\n\\nAllergies:\\nIbuprofen\\n\\nAttending:[**First Name3 (LF) 613**]\\nChief Complaint:\\ndyspnea, hyperkalemia\\n\\nMajor Surgical or Invasive Procedure:\\nHemodialysis\\nright Femoral central venous line placement and removal\\n\\n\\nHistory of Present Illness:\\n57 y/o M with hx of ESRD presents after intentionally missing\\ndialysis for last 9 days.  Came to the ED due to the coaxing of\\nhis wife.  Complains of SOB and DOE lasting about the last ...</td>\n",
       "      <td>276.7;585.6;348.39;790.7;427.32;507.0;403.10;825.0;E888.9;300.9;301.9;250.62;357.2;250.42;285.21;278.01;427.31;250.82;V15.81;276.52;707.07;707.22;041.19;39.95;38.93</td>\n",
       "      <td>False</td>\n",
       "    </tr>\n",
       "    <tr>\n",
       "      <th>1</th>\n",
       "      <td>22624</td>\n",
       "      <td>138579</td>\n",
       "      <td>Admission Date:  [**2117-1-21**]              Discharge Date:   [**2117-1-28**]\\n\\nDate of Birth:  [**2070-8-1**]             Sex:   M\\n\\nService: MEDICINE\\n\\nAllergies:\\nPatient recorded as having No Known Allergies to Drugs\\n\\nAttending:[**First Name3 (LF) 943**]\\nChief Complaint:\\nBright red blood in stools\\n\\nMajor Surgical or Invasive Procedure:\\nUpper endoscopy\\nColonoscopy\\nTransfusion of platelets and fresh frozen plasma\\n\\n\\nHistory of Present Illness:\\nIn brief, a 46-year-old man with etoh cirrhosis, varices s/p\\nbanding in [**12-9**], HCV not on treatment, who initially presente...</td>\n",
       "      <td>455.5;303.00;571.2;291.81;070.70;284.8;286.7;562.10;571.1;211.2;456.21;305.1;276.8;45.13;45.23;99.05;99.07;96.34</td>\n",
       "      <td>False</td>\n",
       "    </tr>\n",
       "    <tr>\n",
       "      <th>2</th>\n",
       "      <td>93593</td>\n",
       "      <td>164601</td>\n",
       "      <td>Admission Date:  [**2161-5-8**]              Discharge Date:   [**2161-5-12**]\\n\\n\\nService: MEDICINE\\n\\nAllergies:\\nPercocet\\n\\nAttending:[**First Name3 (LF) 1115**]\\nChief Complaint:\\nGI bleed / coffee-ground emesis.\\n\\nMajor Surgical or Invasive Procedure:\\nEGD\\nBlood transfusion\\n\\n\\nHistory of Present Illness:\\nPatient is an 87-y/o woman with a history of colon cancer s/p\\nright colectomy who presented today to the emergency room after\\n2 episodes of coffee-ground emesis at her rehab facility.\\nHistory was taken from family members as patient was in\\nsignificant discomfort with the NG...</td>\n",
       "      <td>V10.05;V45.72;V15.82;788.30;531.40;998.59;682.6;438.89;728.87;458.29;564.09;401.9;285.9;294.8;311;272.0;E878.2;45.13</td>\n",
       "      <td>True</td>\n",
       "    </tr>\n",
       "    <tr>\n",
       "      <th>3</th>\n",
       "      <td>21976</td>\n",
       "      <td>187519</td>\n",
       "      <td>Admission Date: [**2173-5-10**]        Discharge Date: [**2173-6-13**]\\n\\nDate of Birth:  [**2173-5-10**]        Sex:  M\\n\\nService:  NB\\n\\n\\nHISTORY OF PRESENT ILLNESS:  [**First Name8 (NamePattern2) 16518**] [**Known lastname 3175**] is the first\\nborn of twins at 33-2/7 weeks gestation born to a 34-year-old\\nG2 P1 woman, prenatal screens of blood type O positive,\\nantibody negative, Rubella immune, RPR nonreactive, hepatitis\\nB surface antigen negative, Group B strep status unknown.\\nEstimated date of confinement was [**2173-5-27**]. The\\npregnancy was a spontaneous twin gestation with ...</td>\n",
       "      <td>V31.00;765.17;765.27;770.2;745.5;774.2;779.3;770.6;772.6;770.81;779.81;V50.2;V05.3;V29.0;V18.0;754.81;64.0;93.9;99.15;99.83;99.55</td>\n",
       "      <td>False</td>\n",
       "    </tr>\n",
       "    <tr>\n",
       "      <th>4</th>\n",
       "      <td>10676</td>\n",
       "      <td>142446</td>\n",
       "      <td>Admission Date:  [**2118-3-4**]       Discharge Date:  [**2118-3-17**]\\n\\nDate of Birth:   [**2052-5-23**]       Sex:  M\\n\\nService:  CCU\\n\\nHISTORY OF THE PRESENT ILLNESS:  The patient is a 65-year-old\\nwith known CAD who presented to an outside hospital on the\\nday of admission with right upper back pain.  The pain was\\nradiating to the left arm and he relates that this complaint\\nhas been occurring for at least several weeks.  This episode\\nis similar to his previous back pain which has been\\nunrelieved with NSAIDs in the past.  The pain is much worse\\nwith walking and is associated wit...</td>\n",
       "      <td>410.61;785.51;414.01;427.89;401.9;272.4;36.01;36.06;37.61;37.23;88.56;96.72;96.04</td>\n",
       "      <td>False</td>\n",
       "    </tr>\n",
       "    <tr>\n",
       "      <th>...</th>\n",
       "      <td>...</td>\n",
       "      <td>...</td>\n",
       "      <td>...</td>\n",
       "      <td>...</td>\n",
       "      <td>...</td>\n",
       "    </tr>\n",
       "    <tr>\n",
       "      <th>5268</th>\n",
       "      <td>15922</td>\n",
       "      <td>166147</td>\n",
       "      <td>Admission Date:  [**2149-1-9**]              Discharge Date:   [**2149-1-23**]\\n\\nDate of Birth:  [**2104-8-30**]             Sex:   M\\n\\nService: SURGERY\\n\\nAllergies:\\nPatient recorded as having No Known Allergies to Drugs\\n\\nAttending:[**First Name3 (LF) 668**]\\nChief Complaint:\\nESLD, to receive liver transplant\\n\\nMajor Surgical or Invasive Procedure:\\n[**2149-1-13**]: Orthotopic Liver transplant\\n\\nHistory of Present Illness:\\n44 y/o male with history of ESLD secondary to HCV and ETOH with\\nrecent admissions for management of the liver disease and\\ncurrent MELD score of 32 has receiv...</td>\n",
       "      <td>570;070.70;571.2;572.2;276.1;286.7;780.09;303.93;251.8;E932.0;50.59;93.0;96.6;99.04;99.05;99.06;99.07;38.93</td>\n",
       "      <td>False</td>\n",
       "    </tr>\n",
       "    <tr>\n",
       "      <th>5269</th>\n",
       "      <td>6285</td>\n",
       "      <td>189873</td>\n",
       "      <td>Admission Date:  [**2195-9-14**]              Discharge Date:   [**2195-9-25**]\\n\\n\\nService: CARDIOTHORACIC\\n\\nAllergies:\\nCortisone\\n\\nAttending:[**First Name3 (LF) 1505**]\\nChief Complaint:\\n3 vessel CAD\\n\\n\\n\\nMajor Surgical or Invasive Procedure:\\nCABG x 3(SVG-&gt;LAD, SVG-&gt;RCA, SVG-&gt;OM)\\n\\n\\nHistory of Present Illness:\\n84 year old female w/ CAD, PAF, CRI, and labile hypertension\\nadmitted for catheterization on [**2195-9-14**].\\nPatient is s/p acute IMI in [**2195-4-5**] at which time she underwent\\na cardiac cath which showed severe 3VD.  LAD had 96% ostial\\nstenosis, with 60% mid-ves...</td>\n",
       "      <td>414.01;428.0;427.31;411.1;585.9;412;V58.61;401.9;36.13;37.22;39.61;88.52;88.55</td>\n",
       "      <td>False</td>\n",
       "    </tr>\n",
       "    <tr>\n",
       "      <th>5270</th>\n",
       "      <td>91484</td>\n",
       "      <td>147153</td>\n",
       "      <td>Admission Date:  [**2194-6-27**]              Discharge Date:   [**2194-6-27**]\\n\\nDate of Birth:  [**2160-6-16**]             Sex:   M\\n\\nService: MEDICINE\\n\\nAllergies:\\nHaldol\\n\\nAttending:[**First Name3 (LF) 2712**]\\nChief Complaint:\\nfound down\\n\\nMajor Surgical or Invasive Procedure:\\nIntubation/extubation\\n\\n\\nHistory of Present Illness:\\n34 y.o male w/ unknown pmhx found down at [**Hospital1 778**] stadium. AAx1,\\nhemodynamically stable, responsive to sternal rub at the field.\\nText message mentioned adderall and suboxone as meds. No known\\nmedical history. FS was \"high.\"\\n.\\nIniti...</td>\n",
       "      <td>965.00;304.01;276.1;305.60;305.70;305.90;250.00;276.7;285.9;709.8;E850.2;96.04;96.71</td>\n",
       "      <td>True</td>\n",
       "    </tr>\n",
       "    <tr>\n",
       "      <th>5271</th>\n",
       "      <td>18395</td>\n",
       "      <td>101133</td>\n",
       "      <td>Admission Date:  [**2119-4-26**]     Discharge Date:  [**2119-4-28**]\\n\\nDate of Birth:   [**2050-3-25**]     Sex:  F\\n\\nService:  NEUROSURGERY\\n\\nHISTORY:  The patient underwent right occipital craniotomy\\nfor resection of tumor without interoperative complications.\\nThe patient was monitored in the Surgical Intensive Care\\nUnit.  Preoperatively the patient had bilateral left\\nhemianopsia.\\n\\nPAST MEDICAL HISTORY:  The patient has a past medical history\\nof status post lung carcinoma with lung resection in 7/99,\\nstatus post chemotherapy and XRT; hypercholesterolemia;\\ngastroesophageal re...</td>\n",
       "      <td>198.3;496;272.0;530.81;V10.11;15.9</td>\n",
       "      <td>False</td>\n",
       "    </tr>\n",
       "    <tr>\n",
       "      <th>5272</th>\n",
       "      <td>4462</td>\n",
       "      <td>156372</td>\n",
       "      <td>Admission Date:  [**2121-2-6**]       Discharge Date:  [**2121-2-13**]\\n\\n\\n\\nCHIEF COMPLAINT:  Severe chest pain, myocardial infarction.\\n\\nHISTORY OF PRESENT ILLNESS:  This is a very pleasant,\\n81-year-old previously healthy, elderly female with no\\nthe evening prior to admission the patient was awakened from\\nsleep by a [**9-18**] substernal chest pain.  At baseline the\\npatient is very active and suffers from no chest pain,\\nshortness of breath or dyspnea on exertion.  The episode\\nprecipitating admission was associated with diaphoresis,\\nsevere shortness of breath.  There was no assoc...</td>\n",
       "      <td>410.11;414.01;998.2;416.0;428.0;365.9;V43.64;36.01;36.06;37.23;88.56;99.20</td>\n",
       "      <td>False</td>\n",
       "    </tr>\n",
       "  </tbody>\n",
       "</table>\n",
       "<p>5273 rows × 5 columns</p>\n",
       "</div>"
      ],
      "text/plain": [
       "      subject_id  hadm_id  \\\n",
       "0          30088   172719   \n",
       "1          22624   138579   \n",
       "2          93593   164601   \n",
       "3          21976   187519   \n",
       "4          10676   142446   \n",
       "...          ...      ...   \n",
       "5268       15922   166147   \n",
       "5269        6285   189873   \n",
       "5270       91484   147153   \n",
       "5271       18395   101133   \n",
       "5272        4462   156372   \n",
       "\n",
       "                                                                                                                                                                                                                                                                                                                                                                                                                                                                                                                                                                                                                         text  \\\n",
       "0     Admission Date:  [**2179-3-7**]              Discharge Date:   [**2179-3-18**]\\n\\nDate of Birth:  [**2121-12-23**]             Sex:   M\\n\\nService: MEDICINE\\n\\nAllergies:\\nIbuprofen\\n\\nAttending:[**First Name3 (LF) 613**]\\nChief Complaint:\\ndyspnea, hyperkalemia\\n\\nMajor Surgical or Invasive Procedure:\\nHemodialysis\\nright Femoral central venous line placement and removal\\n\\n\\nHistory of Present Illness:\\n57 y/o M with hx of ESRD presents after intentionally missing\\ndialysis for last 9 days.  Came to the ED due to the coaxing of\\nhis wife.  Complains of SOB and DOE lasting about the last ...   \n",
       "1     Admission Date:  [**2117-1-21**]              Discharge Date:   [**2117-1-28**]\\n\\nDate of Birth:  [**2070-8-1**]             Sex:   M\\n\\nService: MEDICINE\\n\\nAllergies:\\nPatient recorded as having No Known Allergies to Drugs\\n\\nAttending:[**First Name3 (LF) 943**]\\nChief Complaint:\\nBright red blood in stools\\n\\nMajor Surgical or Invasive Procedure:\\nUpper endoscopy\\nColonoscopy\\nTransfusion of platelets and fresh frozen plasma\\n\\n\\nHistory of Present Illness:\\nIn brief, a 46-year-old man with etoh cirrhosis, varices s/p\\nbanding in [**12-9**], HCV not on treatment, who initially presente...   \n",
       "2     Admission Date:  [**2161-5-8**]              Discharge Date:   [**2161-5-12**]\\n\\n\\nService: MEDICINE\\n\\nAllergies:\\nPercocet\\n\\nAttending:[**First Name3 (LF) 1115**]\\nChief Complaint:\\nGI bleed / coffee-ground emesis.\\n\\nMajor Surgical or Invasive Procedure:\\nEGD\\nBlood transfusion\\n\\n\\nHistory of Present Illness:\\nPatient is an 87-y/o woman with a history of colon cancer s/p\\nright colectomy who presented today to the emergency room after\\n2 episodes of coffee-ground emesis at her rehab facility.\\nHistory was taken from family members as patient was in\\nsignificant discomfort with the NG...   \n",
       "3     Admission Date: [**2173-5-10**]        Discharge Date: [**2173-6-13**]\\n\\nDate of Birth:  [**2173-5-10**]        Sex:  M\\n\\nService:  NB\\n\\n\\nHISTORY OF PRESENT ILLNESS:  [**First Name8 (NamePattern2) 16518**] [**Known lastname 3175**] is the first\\nborn of twins at 33-2/7 weeks gestation born to a 34-year-old\\nG2 P1 woman, prenatal screens of blood type O positive,\\nantibody negative, Rubella immune, RPR nonreactive, hepatitis\\nB surface antigen negative, Group B strep status unknown.\\nEstimated date of confinement was [**2173-5-27**]. The\\npregnancy was a spontaneous twin gestation with ...   \n",
       "4     Admission Date:  [**2118-3-4**]       Discharge Date:  [**2118-3-17**]\\n\\nDate of Birth:   [**2052-5-23**]       Sex:  M\\n\\nService:  CCU\\n\\nHISTORY OF THE PRESENT ILLNESS:  The patient is a 65-year-old\\nwith known CAD who presented to an outside hospital on the\\nday of admission with right upper back pain.  The pain was\\nradiating to the left arm and he relates that this complaint\\nhas been occurring for at least several weeks.  This episode\\nis similar to his previous back pain which has been\\nunrelieved with NSAIDs in the past.  The pain is much worse\\nwith walking and is associated wit...   \n",
       "...                                                                                                                                                                                                                                                                                                                                                                                                                                                                                                                                                                                                                       ...   \n",
       "5268  Admission Date:  [**2149-1-9**]              Discharge Date:   [**2149-1-23**]\\n\\nDate of Birth:  [**2104-8-30**]             Sex:   M\\n\\nService: SURGERY\\n\\nAllergies:\\nPatient recorded as having No Known Allergies to Drugs\\n\\nAttending:[**First Name3 (LF) 668**]\\nChief Complaint:\\nESLD, to receive liver transplant\\n\\nMajor Surgical or Invasive Procedure:\\n[**2149-1-13**]: Orthotopic Liver transplant\\n\\nHistory of Present Illness:\\n44 y/o male with history of ESLD secondary to HCV and ETOH with\\nrecent admissions for management of the liver disease and\\ncurrent MELD score of 32 has receiv...   \n",
       "5269  Admission Date:  [**2195-9-14**]              Discharge Date:   [**2195-9-25**]\\n\\n\\nService: CARDIOTHORACIC\\n\\nAllergies:\\nCortisone\\n\\nAttending:[**First Name3 (LF) 1505**]\\nChief Complaint:\\n3 vessel CAD\\n\\n\\n\\nMajor Surgical or Invasive Procedure:\\nCABG x 3(SVG->LAD, SVG->RCA, SVG->OM)\\n\\n\\nHistory of Present Illness:\\n84 year old female w/ CAD, PAF, CRI, and labile hypertension\\nadmitted for catheterization on [**2195-9-14**].\\nPatient is s/p acute IMI in [**2195-4-5**] at which time she underwent\\na cardiac cath which showed severe 3VD.  LAD had 96% ostial\\nstenosis, with 60% mid-ves...   \n",
       "5270  Admission Date:  [**2194-6-27**]              Discharge Date:   [**2194-6-27**]\\n\\nDate of Birth:  [**2160-6-16**]             Sex:   M\\n\\nService: MEDICINE\\n\\nAllergies:\\nHaldol\\n\\nAttending:[**First Name3 (LF) 2712**]\\nChief Complaint:\\nfound down\\n\\nMajor Surgical or Invasive Procedure:\\nIntubation/extubation\\n\\n\\nHistory of Present Illness:\\n34 y.o male w/ unknown pmhx found down at [**Hospital1 778**] stadium. AAx1,\\nhemodynamically stable, responsive to sternal rub at the field.\\nText message mentioned adderall and suboxone as meds. No known\\nmedical history. FS was \"high.\"\\n.\\nIniti...   \n",
       "5271  Admission Date:  [**2119-4-26**]     Discharge Date:  [**2119-4-28**]\\n\\nDate of Birth:   [**2050-3-25**]     Sex:  F\\n\\nService:  NEUROSURGERY\\n\\nHISTORY:  The patient underwent right occipital craniotomy\\nfor resection of tumor without interoperative complications.\\nThe patient was monitored in the Surgical Intensive Care\\nUnit.  Preoperatively the patient had bilateral left\\nhemianopsia.\\n\\nPAST MEDICAL HISTORY:  The patient has a past medical history\\nof status post lung carcinoma with lung resection in 7/99,\\nstatus post chemotherapy and XRT; hypercholesterolemia;\\ngastroesophageal re...   \n",
       "5272  Admission Date:  [**2121-2-6**]       Discharge Date:  [**2121-2-13**]\\n\\n\\n\\nCHIEF COMPLAINT:  Severe chest pain, myocardial infarction.\\n\\nHISTORY OF PRESENT ILLNESS:  This is a very pleasant,\\n81-year-old previously healthy, elderly female with no\\nthe evening prior to admission the patient was awakened from\\nsleep by a [**9-18**] substernal chest pain.  At baseline the\\npatient is very active and suffers from no chest pain,\\nshortness of breath or dyspnea on exertion.  The episode\\nprecipitating admission was associated with diaphoresis,\\nsevere shortness of breath.  There was no assoc...   \n",
       "\n",
       "                                                                                                                                                                    labels  \\\n",
       "0     276.7;585.6;348.39;790.7;427.32;507.0;403.10;825.0;E888.9;300.9;301.9;250.62;357.2;250.42;285.21;278.01;427.31;250.82;V15.81;276.52;707.07;707.22;041.19;39.95;38.93   \n",
       "1                                                         455.5;303.00;571.2;291.81;070.70;284.8;286.7;562.10;571.1;211.2;456.21;305.1;276.8;45.13;45.23;99.05;99.07;96.34   \n",
       "2                                                     V10.05;V45.72;V15.82;788.30;531.40;998.59;682.6;438.89;728.87;458.29;564.09;401.9;285.9;294.8;311;272.0;E878.2;45.13   \n",
       "3                                        V31.00;765.17;765.27;770.2;745.5;774.2;779.3;770.6;772.6;770.81;779.81;V50.2;V05.3;V29.0;V18.0;754.81;64.0;93.9;99.15;99.83;99.55   \n",
       "4                                                                                        410.61;785.51;414.01;427.89;401.9;272.4;36.01;36.06;37.61;37.23;88.56;96.72;96.04   \n",
       "...                                                                                                                                                                    ...   \n",
       "5268                                                           570;070.70;571.2;572.2;276.1;286.7;780.09;303.93;251.8;E932.0;50.59;93.0;96.6;99.04;99.05;99.06;99.07;38.93   \n",
       "5269                                                                                        414.01;428.0;427.31;411.1;585.9;412;V58.61;401.9;36.13;37.22;39.61;88.52;88.55   \n",
       "5270                                                                                  965.00;304.01;276.1;305.60;305.70;305.90;250.00;276.7;285.9;709.8;E850.2;96.04;96.71   \n",
       "5271                                                                                                                                    198.3;496;272.0;530.81;V10.11;15.9   \n",
       "5272                                                                                            410.11;414.01;998.2;416.0;428.0;365.9;V43.64;36.01;36.06;37.23;88.56;99.20   \n",
       "\n",
       "      is_valid  \n",
       "0        False  \n",
       "1        False  \n",
       "2         True  \n",
       "3        False  \n",
       "4        False  \n",
       "...        ...  \n",
       "5268     False  \n",
       "5269     False  \n",
       "5270      True  \n",
       "5271     False  \n",
       "5272     False  \n",
       "\n",
       "[5273 rows x 5 columns]"
      ]
     },
     "execution_count": 11,
     "metadata": {},
     "output_type": "execute_result"
    }
   ],
   "source": [
    "df_sample"
   ]
  },
  {
   "cell_type": "code",
   "execution_count": 12,
   "id": "5287afde",
   "metadata": {},
   "outputs": [
    {
     "data": {
      "text/plain": [
       "5273"
      ]
     },
     "execution_count": 12,
     "metadata": {},
     "output_type": "execute_result"
    }
   ],
   "source": [
    "len(df_sample)"
   ]
  },
  {
   "cell_type": "code",
   "execution_count": 13,
   "id": "0050ab12",
   "metadata": {
    "collapsed": true,
    "jupyter": {
     "outputs_hidden": true
    },
    "tags": []
   },
   "outputs": [
    {
     "name": "stdout",
     "output_type": "stream",
     "text": [
      "Admission Date:  [**2180-7-19**]              Discharge Date:   [**2180-7-20**]\n",
      "\n",
      "Date of Birth:  [**2107-6-27**]             Sex:   M\n",
      "\n",
      "Service: MEDICINE\n",
      "\n",
      "Allergies:\n",
      "Corgard / Lasix\n",
      "\n",
      "Attending:[**First Name3 (LF) 1711**]\n",
      "Chief Complaint:\n",
      "Bradycardia\n",
      "\n",
      "Major Surgical or Invasive Procedure:\n",
      "none\n",
      "\n",
      "History of Present Illness:\n",
      "73M with CAD s/p DES to RCA and LCX, DMII, hyperlipidemia, LVH,\n",
      "called EMS early this morning reporting two days of lethargy and\n",
      "lightheadedness. On arrival EMS found him to have a neart rate\n",
      "in the 30's.\n",
      ".\n",
      "The patient was recently started on atenolol 25mg two days ago\n",
      "for treatment of CAD and frequent atrial and ventricular ectopy.\n",
      "He was also told to decrease his diltiazem dosing. He took his\n",
      "first dose of atenolol Monday, without decreasing his diltiazem.\n",
      "He reports feeling normal and active during the day Monday and\n",
      "feeling weak and lightheaded monday night.  He took his second\n",
      "dose Tuesday morning and reports feeling fine all day tuesday as\n",
      "well.  Tuesday night he reports feeling weak, lightheaded, and\n",
      "almost fell.  He went to bed and then decided to call EMS at 4am\n",
      "to bring him in to the ED.\n",
      ".\n",
      "On arrival to the ED he was in a regular junctional rhythm\n",
      "without P waves at a rate of 34 and systolic blood pressure of\n",
      "106. His Oxygen saturation was 100% RA. He was given Glucagon\n",
      "5mg and Magnesium. His heart rate remained between 22 and 59,\n",
      "mostly in 30's, during his stay in the ED and his blood pressure\n",
      "ranged 84-121/43-60,  mostly 100/50.  He was given .5mg of\n",
      "atropine when his HR dipped to 22 and blood pressure decreased\n",
      "to 85.  Heart rate responded to 33 with blood pressure 105/57.\n",
      "The first set of cardiac enzymes were negative.  Also with new\n",
      "acute renal failure with creatiinne of 1.7 from baseline 1.2.\n",
      ".\n",
      "The patient underwent holter monitoring on [**7-3**] for evaluation of\n",
      "non-sustained VT.  This evaluation showed sinus bradycardia with\n",
      "episodes of junctional bradycardia with rates as low as 39. It\n",
      "also showed an asymptomatic daytime pause of 3.3 seconds and\n",
      "frequent atrial and ventricular ectopy.\n",
      ".\n",
      "He also reports a syncopal episode in [**Month (only) 404**].  He was evaluated\n",
      "by Neurology and this was attributed to hypoglycemia or\n",
      "parkinson's.\n",
      ".\n",
      "On arrival to the CCU he had a rate of 32 with blood pressure\n",
      "100/60.  He was given 1mg of calcium chloride with increased\n",
      "heart rate to 56 and increased blood pressure to 150/80.\n",
      ".\n",
      "On review of systems, s/he denies any prior history of stroke,\n",
      "TIA, deep venous thrombosis, pulmonary embolism, bleeding at the\n",
      "time of surgery, myalgias, joint pains, cough, hemoptysis, black\n",
      "stools or red stools. S/he denies recent fevers, chills or\n",
      "rigors. S/he denies exertional buttock or calf pain. All of the\n",
      "other review of systems were negative.\n",
      ".\n",
      "He sleeps on one pillow and has no PND, peripheral edema, weight\n",
      "gain, syncope, or claudication.  He occasionally experiences\n",
      "postural lightheadedness when standing up from a seated\n",
      "position.\n",
      "\n",
      "Past Medical History:\n",
      "1. CAD, status post stening x3, 1 drug-eluting, 2 non. He\n",
      "was followed by a cardiologist at [**Hospital6 1708**].\n",
      "\n",
      "2. Diabetes mellitus with diabetic neuropathy.\n",
      "3. Dyslipidemia including hypertriglyceridemia.\n",
      "4. Hypertension.\n",
      "5. A history of multiple squamous skin cancers.\n",
      "6. Proteinuria\n",
      "\n",
      "Social History:\n",
      "He is single and lives alone. He is a retired [**Location (un) 511**]\n",
      "telephone worker. He has remote history of smoking cigars, quit\n",
      "[**2170**] after 40 years of smoking, never smoked cigarettes. Drinks\n",
      "1.75L whiskey a month.\n",
      "\n",
      "\n",
      "Family History:\n",
      "Father - died MI in 50s\n",
      "Mother - died of cancer at age 88\n",
      "Brother - DM, Parkinsons\n",
      "\n",
      "Physical Exam:\n",
      "GENERAL: WDWN male in NAD. Oriented x3. Mood, affect\n",
      "appropriate.\n",
      "HEENT: NCAT. Sclera anicteric. PERRL, EOMI. Conjunctiva were\n",
      "pink, no pallor or cyanosis of the oral mucosa. No xanthalesma.\n",
      "\n",
      "NECK: Supple with no JVP.\n",
      "CARDIAC: Bradycardic. normal S1, S2. No m/r/g. No thrills,\n",
      "lifts. No S3 or S4.\n",
      "LUNGS: CTAB, Bronchial breath sounds.\n",
      "ABDOMEN: Obese, Soft, NTND. No HSM or tenderness.\n",
      "EXTREMITIES: No c/c/e. No femoral bruits.\n",
      "SKIN: No stasis dermatitis, ulcers, scars, or xanthomas.\n",
      "PULSES:\n",
      "Right: DP and PT dopplerable\n",
      "Left: DP and PT dopplerable\n",
      "\n",
      "\n",
      "Pertinent Results:\n",
      "EKG: [**7-19**]- Junctional bradycardia. Compared to the previous\n",
      "tracing of [**2180-7-19**] right bundle-branch block is no longer\n",
      "recorded. The Q-T interval is prolonged\n",
      ".\n",
      "[**2180-7-19**] 05:15AM BLOOD WBC-9.9 RBC-4.05* Hgb-13.1* Hct-39.0*\n",
      "MCV-96 MCH-\n",
      "32.4* MCHC-33.6 RDW-14.5 Plt Ct-245\n",
      "[**2180-7-20**] 05:00AM BLOOD WBC-9.3 RBC-3.99* Hgb-12.9* Hct-37.8*\n",
      "MCV-95 MCH-32.4* MCHC-34.1 RDW-14.3 Plt Ct-197\n",
      "[**2180-7-19**] 05:15AM BLOOD Neuts-59.0 Lymphs-32.5 Monos-5.1 Eos-2.9\n",
      "Baso-0.5\n",
      "[**2180-7-19**] 05:15AM BLOOD PT-13.2 PTT-24.5 INR(PT)-1.1\n",
      "[**2180-7-19**] 05:15AM BLOOD Plt Ct-245\n",
      "[**2180-7-20**] 05:00AM BLOOD Plt Ct-197\n",
      "[**2180-7-19**] 05:15AM BLOOD Glucose-268* UreaN-21* Creat-1.7* Na-132*\n",
      "K-5.0 Cl-100 HCO3-22 AnGap-15\n",
      "[**2180-7-19**] 03:15PM BLOOD Glucose-118* UreaN-24* Creat-1.7* Na-135\n",
      "K-4.5 Cl-101 HCO3-26 AnGap-13\n",
      "[**2180-7-20**] 05:00AM BLOOD Glucose-56* UreaN-22* Creat-1.2 Na-135\n",
      "K-4.2 Cl-101 HCO3-27 AnGap-11\n",
      "[**2180-7-19**] 05:15AM BLOOD CK(CPK)-52\n",
      "[**2180-7-19**] 03:15PM BLOOD CK(CPK)-39\n",
      "[**2180-7-19**] 05:15AM BLOOD cTropnT-0.01\n",
      "[**2180-7-19**] 03:15PM BLOOD CK-MB-4 cTropnT-<0.01\n",
      "\n",
      "Brief Hospital Course:\n",
      "73 year old man with CAD, DMII, parkinson's disease, found to\n",
      "have junctional bradycardia after recent initiation of atenolol,\n",
      "likely sick sinus syndrome, in NSR after calcium chloride\n",
      "administration.\n",
      ".\n",
      "# Bradycardia: presented with junctional rhythm with HR in 30s,\n",
      "then in NSR with HR in 60s-70s with 1 amp calcium chloride\n",
      "administration. It is thought that the recent addition of\n",
      "atenolol to his home diltiazem regimen may have caused\n",
      "suppression of AV node, with retrograde p waves causing a\n",
      "simulated pacemeaker syndrome, when the atria and ventricle\n",
      "contract simultaneously, causing increased vagal tone.  After\n",
      "the calcium chloride administration, patient maintained HR in\n",
      "60s-70s, with BP 150s-160s.  He was kept off atenolol (and all\n",
      "beta blockers).  He was kept off diltiazem (and all calcium\n",
      "channel blockers).  He is to not resume these classes of\n",
      "medicines.  It was reviewed with patient that he likely has sick\n",
      "sinus syndrome, for which he can only take diuretics/ACEi/ARBs\n",
      "for blood pressure control.  He was discharged home with [**Doctor Last Name **] of\n",
      "Hearts monitor and outpatient workup for sick sinus syndrome.\n",
      "Dr. [**Last Name (STitle) **] will be getting the results of the [**Doctor Last Name **] of Hearts\n",
      "monitor and will discuss them with patient on [**2180-8-9**].\n",
      ".\n",
      "# Acute on chronic Renal failure: Cr on presentation 1.7, which\n",
      "improved to baseline 1.2.  Likely from poor cardiac output.\n",
      "Patient's UOP was within normal limits on discharge.\n",
      ".\n",
      "# Diabetes II: metformin and glyburide were held.  Patient\n",
      "continued on home dose insulin and insulin sliding scale.\n",
      ".\n",
      "# Hypertension: beta blockers and calcium channel blockers were\n",
      "held.  SBP range was 150s-160s. Outpatient management will be\n",
      "primarily ARBs, diuretics.  He is to continue valsartan and\n",
      "hydrochlorothiazide (12.5 mg daily) as his new BP meds.\n",
      ".\n",
      "# Coronary Artery Disease: s/p two DES to RCA and LCX in [**2173**].\n",
      "Patient was continued on aspirin 81mg and atorvastatin 10 mg.\n",
      "He will be off BB and CCB due to likely sick sinus, as noted\n",
      "above.\n",
      ".\n",
      "# Peripheral Neuropathy: from diabetes.  Continued on home dose\n",
      "gabapentin.\n",
      ".\n",
      "# Spinal stenosis: pain control was adequate throughout\n",
      "hospitalization.\n",
      ".\n",
      "# Parkinson's disease ?????? stable. Cont carbidopa-levodopa.\n",
      "\n",
      "Medications on Admission:\n",
      "Atenolol 25 mg Tablet\n",
      "1 Tablet(s) by mouth once a day\n",
      "Atorvastatin [Lipitor] 10 mg Tablet 1 Tablet(s) by mouth twice\n",
      "daily    Carbidopa-Levodopa [Sinemet] 10 mg-100 mg Tablet 1\n",
      "Tablet(s) by mouth four times a day\n",
      "Diltiazem HCl 180 mg Capsule, Sustained Release 1 Capsule(s) by\n",
      "mouth every day\n",
      "Gabapentin 300 mg Capsule [**12-3**] Capsule(s) by mouth Once or twice\n",
      "daily  [**2180-5-3**]\n",
      "Glyburide 5 mg Tablet Two Tablet(s) by mouth am  nr\n",
      "LO DOSE INSULIN SYRINGES 1CC AS DIRECTED FOR INSULIN\n",
      "ADMINISTRATION    Metformin [Glucophage XR] 500 mg Tablet\n",
      "Sustained Release 24 hr three Tablet(s) by mouth daily\n",
      "Valsartan [Diovan] 160 mg Tablet One Tablet(s) by mouth Daily\n",
      "\n",
      "Aspirin [Ecotrin Low Strength] 81 mg Tablet, Delayed Release\n",
      "(E.C.)\n",
      "one Tablet(s) by mouth daily\n",
      "Blood Sugar Diagnostic [Accu-Chek Aviva] Strip Two Daily\n",
      "Insulin NPH Human Recomb [Humulin N] 100 unit/mL Suspension\n",
      "inject subcutaneously 60units in the morning\n",
      "Multivitamin\n",
      "\n",
      "\n",
      "Discharge Medications:\n",
      "1. Valsartan 160 mg Tablet Sig: One (1) Tablet PO DAILY (Daily).\n",
      "Disp:*30 Tablet(s)* Refills:*2*\n",
      "2. Hydrochlorothiazide 12.5 mg Capsule Sig: One (1) Capsule PO\n",
      "DAILY (Daily).\n",
      "Disp:*30 Capsule(s)* Refills:*2*\n",
      "3. Multivitamin     Tablet Sig: One (1) Tablet PO DAILY (Daily).\n",
      "\n",
      "4. Carbidopa-Levodopa 10-100 mg Tablet Sig: One (1) Tablet PO\n",
      "four times a day.\n",
      "5. Gabapentin 300 mg Capsule Sig: One (1) Capsule PO DAILY\n",
      "(Daily).\n",
      "6. Atorvastatin 10 mg Tablet Sig: One (1) Tablet PO DAILY\n",
      "(Daily).\n",
      "7. Aspirin 81 mg Tablet, Chewable Sig: One (1) Tablet, Chewable\n",
      "PO DAILY (Daily).\n",
      "8. Insulin NPH Human Recomb 100 unit/mL Suspension Sig: Sixty\n",
      "(60) units Subcutaneous once a day.\n",
      "9. Glucophage XR 500 mg Tablet Sustained Release 24 hr Sig:\n",
      "Three (3) Tablet Sustained Release 24 hr PO once a day.\n",
      "10. Glyburide 5 mg Tablet Sig: Two (2) Tablet PO once a day.\n",
      "11. Outpatient Lab Work\n",
      "chem 7 on [**2180-7-26**]. Call results to Dr. [**First Name (STitle) 216**] at [**Telephone/Fax (1) 250**]\n",
      "\n",
      "\n",
      "Discharge Disposition:\n",
      "Home\n",
      "\n",
      "Discharge Diagnosis:\n",
      "PRIMARY:\n",
      "1. Bradycardia with junctional rhythm, medication induced\n",
      "2. Sick sinus syndrome\n",
      "3. Acute on Chronic Kidney disease, stage 3\n",
      "4. Diabetes Mellitus Type 2\n",
      "5. Hypertension\n",
      "6. Coronary Artery Disease\n",
      "\n",
      "\n",
      "Discharge Condition:\n",
      "stable, with HR 70-80, SBP 150-160\n",
      "\n",
      "\n",
      "Discharge Instructions:\n",
      "You were admitted to the hospital with slow heart rate\n",
      "(bradycardia) likely related to your atenolol and diltiazem\n",
      "medications. You were given calcium chloride which increased\n",
      "your heart rate into normal sinus rhythm. You are to not take\n",
      "atenolol (or other beta blockers). You are to not take diltiazem\n",
      "(or other calcium channel blockers). For blood pressure control,\n",
      "you will take your valsartan (your home dose) and be started on\n",
      "a medicine which does not affect heart rate\n",
      "(hydrochlorothiazide). You will be wearing [**Initials (NamePattern4) **] [**Last Name (NamePattern4) **] of Hearts\n",
      "Monitor after you go home. Please follow instructions for use,\n",
      "Dr. [**Last Name (STitle) **] will be getting the results and will discuss them\n",
      "with you on [**2180-8-9**].\n",
      ".\n",
      "NEW MEDICATION:\n",
      "-hydrochlorothiazide 12.5 mg daily\n",
      ".\n",
      "Please seek medical attention for lightheadedness, weakness,\n",
      "fatigue, chest pain, palpitations, shortness of breath, fevers,\n",
      "abdominal pain, or any other concerns.\n",
      "\n",
      "Followup Instructions:\n",
      "Cardiology:\n",
      "Provider: [**Last Name (NamePattern4) **]. [**First Name8 (NamePattern2) **] [**Name (STitle) **] Phone: [**Telephone/Fax (1) 62**]\n",
      "Date/Time:[**2180-8-9**] 9:00\n",
      "Primary Care:\n",
      "Provider: [**Name10 (NameIs) **] [**Name8 (MD) **], MD Phone:[**Telephone/Fax (1) 250**] Date/Time:[**2180-8-28**]\n",
      "8:30\n",
      "Nephrology:\n",
      "Provider: [**First Name11 (Name Pattern1) 1877**] [**Last Name (NamePattern1) 1878**], M.D. Phone:[**Telephone/Fax (1) 721**]\n",
      "Date/Time:[**2180-11-2**] 1:00\n",
      "Dermatology:\n",
      "Provider: [**Name10 (NameIs) 28909**],[**Name11 (NameIs) 8754**] DERMATOLOGY GEN-[**Doctor First Name 8754**] (NHB)\n",
      "Date/Time:[**2180-8-4**] 8:15\n",
      "\n",
      "\n",
      "\n",
      "Completed by:[**2180-7-21**]\n"
     ]
    }
   ],
   "source": [
    "print(df_sample.iloc[4567,2])"
   ]
  },
  {
   "cell_type": "markdown",
   "id": "f14a8c16-f500-4ef5-8ebf-7c4b01c13174",
   "metadata": {},
   "source": [
    "---"
   ]
  },
  {
   "cell_type": "code",
   "execution_count": 9,
   "id": "564aa4d4-e899-4d34-b451-19fcacbd32de",
   "metadata": {
    "collapsed": true,
    "jupyter": {
     "outputs_hidden": true,
     "source_hidden": true
    }
   },
   "outputs": [],
   "source": [
    "df_caml_train = pd.read_csv(path_data/'train_sample.csv')\n",
    "df_caml_test = pd.read_csv(path_data/'test_sample.csv')\n",
    "df_caml_dev = pd.read_csv(path_data/'dev_sample.csv')"
   ]
  },
  {
   "cell_type": "code",
   "execution_count": 10,
   "id": "6d3c0b4c-b767-4505-af3e-3c274b1022fe",
   "metadata": {
    "collapsed": true,
    "jupyter": {
     "outputs_hidden": true,
     "source_hidden": true
    }
   },
   "outputs": [],
   "source": [
    "hadms_train = df_caml_train.HADM_ID\n",
    "hadms_test = df_caml_test.HADM_ID\n",
    "hadms_dev = df_caml_dev.HADM_ID"
   ]
  },
  {
   "cell_type": "code",
   "execution_count": 11,
   "id": "71f52321-31be-48ac-a1ce-2a79ec878496",
   "metadata": {
    "collapsed": true,
    "jupyter": {
     "outputs_hidden": true,
     "source_hidden": true
    }
   },
   "outputs": [
    {
     "data": {
      "text/plain": [
       "(4759, 333, 181)"
      ]
     },
     "execution_count": 11,
     "metadata": {},
     "output_type": "execute_result"
    }
   ],
   "source": [
    "len(hadms_train), len(hadms_test), len(hadms_dev)"
   ]
  },
  {
   "cell_type": "code",
   "execution_count": 12,
   "id": "701bd07d-16b3-4d4f-a65a-7d2a118a0c75",
   "metadata": {
    "collapsed": true,
    "jupyter": {
     "outputs_hidden": true,
     "source_hidden": true
    }
   },
   "outputs": [
    {
     "data": {
      "text/plain": [
       "4940"
      ]
     },
     "execution_count": 12,
     "metadata": {},
     "output_type": "execute_result"
    }
   ],
   "source": [
    "hadms_train = list(pd.concat([hadms_train, hadms_dev], axis=0))\n",
    "len(hadms_train)"
   ]
  },
  {
   "cell_type": "code",
   "execution_count": 29,
   "id": "b70aa804-d55b-4564-b041-150d356dd47e",
   "metadata": {
    "collapsed": true,
    "jupyter": {
     "outputs_hidden": true,
     "source_hidden": true
    }
   },
   "outputs": [
    {
     "data": {
      "text/html": [
       "<div>\n",
       "<style scoped>\n",
       "    .dataframe tbody tr th:only-of-type {\n",
       "        vertical-align: middle;\n",
       "    }\n",
       "\n",
       "    .dataframe tbody tr th {\n",
       "        vertical-align: top;\n",
       "    }\n",
       "\n",
       "    .dataframe thead th {\n",
       "        text-align: right;\n",
       "    }\n",
       "</style>\n",
       "<table border=\"1\" class=\"dataframe\">\n",
       "  <thead>\n",
       "    <tr style=\"text-align: right;\">\n",
       "      <th></th>\n",
       "      <th>subject_id</th>\n",
       "      <th>hadm_id</th>\n",
       "      <th>text</th>\n",
       "      <th>labels</th>\n",
       "      <th>length</th>\n",
       "      <th>is_valid</th>\n",
       "    </tr>\n",
       "  </thead>\n",
       "  <tbody>\n",
       "    <tr>\n",
       "      <th>0</th>\n",
       "      <td>88025</td>\n",
       "      <td>180431</td>\n",
       "      <td>admission date discharge date date of birth sex f service surgery allergies no known allergies adverse drug reactions attending first name3 lf chief complaint s p fall major surgical or invasive procedure none history of present illness 45f etoh s p fall from window at feet found ambulating and slurring speech on scene intubated en route for declining mental status in the er the patient was found to be bradycardic to the s with bp of systolic she was given atropine dilantin and was started on saline past medical history unknown social history unknown family history unknown physical exam ex...</td>\n",
       "      <td>518.81;348.4;348.82;801.25;427.89;E882;V49.86;305.00;96.71;38.93</td>\n",
       "      <td>359</td>\n",
       "      <td>False</td>\n",
       "    </tr>\n",
       "    <tr>\n",
       "      <th>1</th>\n",
       "      <td>85055</td>\n",
       "      <td>169373</td>\n",
       "      <td>admission date discharge date date of birth sex m service surgery allergies no drug allergy information on file attending first name3 lf chief complaint gun shot wound major surgical or invasive procedure placement of bilateral thoracostomy tubes left thoracotomy exploratory laparotomy left diaphragm repair left upper lobe lung resection washout of left wrist repair of right common iliac vein laceration history of present illness pt is y o m who presented to hospital1 via location un s p gun shot wound to chest and abdomen pt unresponsive at scene and intubated prior to arrival past medica...</td>\n",
       "      <td>861.32;958.4;868.14;881.20;289.82;862.1;902.53;860.5;991.6;E922.9;V66.7;32.39;34.02;38.84;54.11;34.82;39.32;34.09;86.28;99.04;99.05;99.07;99.06;96.71</td>\n",
       "      <td>409</td>\n",
       "      <td>False</td>\n",
       "    </tr>\n",
       "    <tr>\n",
       "      <th>2</th>\n",
       "      <td>88336</td>\n",
       "      <td>158174</td>\n",
       "      <td>admission date discharge date date of birth sex m service surgery allergies penicillins attending first name3 lf chief complaint s p fall pneumothorax major surgical or invasive procedure none history of present illness the patient is a y o male with a history of etoh abuse who sustained a fall down flights of stairs on he presented on to an osh with c o sob and was found to have multiple rib fractures and a right sided ptx he was transferred to hospital1 for further management past medical history etoh abuse otherwise unknown social history h o etoh abuse pt lives with his father in name ...</td>\n",
       "      <td>860.0;518.0;507.0;291.0;518.81;934.1;453.9;807.02;805.4;E880.9;303.01;E912;788.42;690.10;276.8;287.5;96.72;34.04;96.04;96.71;33.24;38.91;96.6;33.22;33.22;33.22;96.04;33.24;33.24;33.24</td>\n",
       "      <td>525</td>\n",
       "      <td>False</td>\n",
       "    </tr>\n",
       "  </tbody>\n",
       "</table>\n",
       "</div>"
      ],
      "text/plain": [
       "   subject_id  hadm_id  \\\n",
       "0       88025   180431   \n",
       "1       85055   169373   \n",
       "2       88336   158174   \n",
       "\n",
       "                                                                                                                                                                                                                                                                                                                                                                                                                                                                                                                                                                                                                      text  \\\n",
       "0  admission date discharge date date of birth sex f service surgery allergies no known allergies adverse drug reactions attending first name3 lf chief complaint s p fall major surgical or invasive procedure none history of present illness 45f etoh s p fall from window at feet found ambulating and slurring speech on scene intubated en route for declining mental status in the er the patient was found to be bradycardic to the s with bp of systolic she was given atropine dilantin and was started on saline past medical history unknown social history unknown family history unknown physical exam ex...   \n",
       "1  admission date discharge date date of birth sex m service surgery allergies no drug allergy information on file attending first name3 lf chief complaint gun shot wound major surgical or invasive procedure placement of bilateral thoracostomy tubes left thoracotomy exploratory laparotomy left diaphragm repair left upper lobe lung resection washout of left wrist repair of right common iliac vein laceration history of present illness pt is y o m who presented to hospital1 via location un s p gun shot wound to chest and abdomen pt unresponsive at scene and intubated prior to arrival past medica...   \n",
       "2  admission date discharge date date of birth sex m service surgery allergies penicillins attending first name3 lf chief complaint s p fall pneumothorax major surgical or invasive procedure none history of present illness the patient is a y o male with a history of etoh abuse who sustained a fall down flights of stairs on he presented on to an osh with c o sob and was found to have multiple rib fractures and a right sided ptx he was transferred to hospital1 for further management past medical history etoh abuse otherwise unknown social history h o etoh abuse pt lives with his father in name ...   \n",
       "\n",
       "                                                                                                                                                                                    labels  \\\n",
       "0                                                                                                                         518.81;348.4;348.82;801.25;427.89;E882;V49.86;305.00;96.71;38.93   \n",
       "1                                    861.32;958.4;868.14;881.20;289.82;862.1;902.53;860.5;991.6;E922.9;V66.7;32.39;34.02;38.84;54.11;34.82;39.32;34.09;86.28;99.04;99.05;99.07;99.06;96.71   \n",
       "2  860.0;518.0;507.0;291.0;518.81;934.1;453.9;807.02;805.4;E880.9;303.01;E912;788.42;690.10;276.8;287.5;96.72;34.04;96.04;96.71;33.24;38.91;96.6;33.22;33.22;33.22;96.04;33.24;33.24;33.24   \n",
       "\n",
       "   length  is_valid  \n",
       "0     359     False  \n",
       "1     409     False  \n",
       "2     525     False  "
      ]
     },
     "execution_count": 29,
     "metadata": {},
     "output_type": "execute_result"
    }
   ],
   "source": [
    "train = df_caml[df_caml.hadm_id.isin(hadms_train)].reset_index(drop=True)\n",
    "train.head(3)"
   ]
  },
  {
   "cell_type": "code",
   "execution_count": 30,
   "id": "0dc5c87d-712c-477e-b455-0d49ab8f498b",
   "metadata": {
    "collapsed": true,
    "jupyter": {
     "outputs_hidden": true,
     "source_hidden": true
    }
   },
   "outputs": [
    {
     "data": {
      "text/plain": [
       "0.0"
      ]
     },
     "execution_count": 30,
     "metadata": {},
     "output_type": "execute_result"
    }
   ],
   "source": [
    "array(train.is_valid, dtype=float).sum()"
   ]
  },
  {
   "cell_type": "code",
   "execution_count": 31,
   "id": "cfb6c93b-3cfd-46ad-aa42-2bdcd9a7c522",
   "metadata": {
    "collapsed": true,
    "jupyter": {
     "outputs_hidden": true,
     "source_hidden": true
    }
   },
   "outputs": [
    {
     "data": {
      "text/html": [
       "<div>\n",
       "<style scoped>\n",
       "    .dataframe tbody tr th:only-of-type {\n",
       "        vertical-align: middle;\n",
       "    }\n",
       "\n",
       "    .dataframe tbody tr th {\n",
       "        vertical-align: top;\n",
       "    }\n",
       "\n",
       "    .dataframe thead th {\n",
       "        text-align: right;\n",
       "    }\n",
       "</style>\n",
       "<table border=\"1\" class=\"dataframe\">\n",
       "  <thead>\n",
       "    <tr style=\"text-align: right;\">\n",
       "      <th></th>\n",
       "      <th>subject_id</th>\n",
       "      <th>hadm_id</th>\n",
       "      <th>text</th>\n",
       "      <th>labels</th>\n",
       "      <th>length</th>\n",
       "      <th>is_valid</th>\n",
       "    </tr>\n",
       "  </thead>\n",
       "  <tbody>\n",
       "    <tr>\n",
       "      <th>0</th>\n",
       "      <td>99726</td>\n",
       "      <td>186684</td>\n",
       "      <td>admission date discharge date date of birth sex m service surgery allergies quinine attending first name3 lf chief complaint septic shock and pneumatosis coli major surgical or invasive procedure exploratory laparotomy history of present illness the patient is a year old man with a personal history of prostate cancer and a diagnosis of pancreatic cancer with multifocal liver metastases on chemotherapy he had an acute event and was transferred to our emergency room septic in shock resuscitation and intubation failed to improve his status and he was noted to have pneumatosis coli on a ct sca...</td>\n",
       "      <td>038.9;785.52;518.81;584.9;197.7;197.8;729.73;998.2;995.92;401.9;275.41;V10.46;E870.0;46.73;54.11;96.04;96.71;38.91</td>\n",
       "      <td>331</td>\n",
       "      <td>True</td>\n",
       "    </tr>\n",
       "    <tr>\n",
       "      <th>1</th>\n",
       "      <td>92941</td>\n",
       "      <td>184784</td>\n",
       "      <td>admission date discharge date date of birth sex m service surgery allergies patient recorded as having no known allergies to drugs attending first name3 lf chief complaint s p motor vehicle crash major surgical or invasive procedure orif left femur fracture history of present illness 49m with etoh s p motor vehicle crash restrained driver vs tree he was transported to hospital1 for further care past medical history hypothyroidism family history noncontributory pertinent results 16pm glucose lactate 09pm wbc rbc hgb hct mcv mch mchc rdw 09pm plt count 53am pt ptt inr pt 53am asa neg ethanol...</td>\n",
       "      <td>821.01;507.0;276.2;285.1;E816.0;305.00;244.9;79.35</td>\n",
       "      <td>502</td>\n",
       "      <td>True</td>\n",
       "    </tr>\n",
       "    <tr>\n",
       "      <th>2</th>\n",
       "      <td>96125</td>\n",
       "      <td>197970</td>\n",
       "      <td>admission date discharge date date of birth sex m service neurosurgery allergies no known allergies adverse drug reactions attending first name3 lf chief complaint fall down stairs major surgical or invasive procedure none history of present illness y o m found down at base of stairs patient was unresponsive at scene was intubated and became combative received morphine and was sedated head ct revealed sah and occipital skull fractures at osh patient was transferred to hospital1 for further evaluation on arrival patient was intubated and placed on propofol past medical history unknown socia...</td>\n",
       "      <td>801.20;E880.9;96.71;38.91</td>\n",
       "      <td>511</td>\n",
       "      <td>True</td>\n",
       "    </tr>\n",
       "  </tbody>\n",
       "</table>\n",
       "</div>"
      ],
      "text/plain": [
       "   subject_id  hadm_id  \\\n",
       "0       99726   186684   \n",
       "1       92941   184784   \n",
       "2       96125   197970   \n",
       "\n",
       "                                                                                                                                                                                                                                                                                                                                                                                                                                                                                                                                                                                                                      text  \\\n",
       "0  admission date discharge date date of birth sex m service surgery allergies quinine attending first name3 lf chief complaint septic shock and pneumatosis coli major surgical or invasive procedure exploratory laparotomy history of present illness the patient is a year old man with a personal history of prostate cancer and a diagnosis of pancreatic cancer with multifocal liver metastases on chemotherapy he had an acute event and was transferred to our emergency room septic in shock resuscitation and intubation failed to improve his status and he was noted to have pneumatosis coli on a ct sca...   \n",
       "1  admission date discharge date date of birth sex m service surgery allergies patient recorded as having no known allergies to drugs attending first name3 lf chief complaint s p motor vehicle crash major surgical or invasive procedure orif left femur fracture history of present illness 49m with etoh s p motor vehicle crash restrained driver vs tree he was transported to hospital1 for further care past medical history hypothyroidism family history noncontributory pertinent results 16pm glucose lactate 09pm wbc rbc hgb hct mcv mch mchc rdw 09pm plt count 53am pt ptt inr pt 53am asa neg ethanol...   \n",
       "2  admission date discharge date date of birth sex m service neurosurgery allergies no known allergies adverse drug reactions attending first name3 lf chief complaint fall down stairs major surgical or invasive procedure none history of present illness y o m found down at base of stairs patient was unresponsive at scene was intubated and became combative received morphine and was sedated head ct revealed sah and occipital skull fractures at osh patient was transferred to hospital1 for further evaluation on arrival patient was intubated and placed on propofol past medical history unknown socia...   \n",
       "\n",
       "                                                                                                               labels  \\\n",
       "0  038.9;785.52;518.81;584.9;197.7;197.8;729.73;998.2;995.92;401.9;275.41;V10.46;E870.0;46.73;54.11;96.04;96.71;38.91   \n",
       "1                                                                  821.01;507.0;276.2;285.1;E816.0;305.00;244.9;79.35   \n",
       "2                                                                                           801.20;E880.9;96.71;38.91   \n",
       "\n",
       "   length  is_valid  \n",
       "0     331      True  \n",
       "1     502      True  \n",
       "2     511      True  "
      ]
     },
     "execution_count": 31,
     "metadata": {},
     "output_type": "execute_result"
    }
   ],
   "source": [
    "valid = df_caml[df_caml.hadm_id.isin(hadms_test)].reset_index(drop=True)\n",
    "valid.head(3)"
   ]
  },
  {
   "cell_type": "code",
   "execution_count": 32,
   "id": "e0cf10c8-3540-4ba6-8ea5-3da40e1f5cb7",
   "metadata": {
    "collapsed": true,
    "jupyter": {
     "outputs_hidden": true,
     "source_hidden": true
    }
   },
   "outputs": [
    {
     "data": {
      "text/plain": [
       "333.0"
      ]
     },
     "execution_count": 32,
     "metadata": {},
     "output_type": "execute_result"
    }
   ],
   "source": [
    "array(valid.is_valid, dtype=float).sum()"
   ]
  },
  {
   "cell_type": "code",
   "execution_count": 36,
   "id": "1ff5e708-f201-4db2-82c8-278e72cb56e9",
   "metadata": {
    "collapsed": true,
    "jupyter": {
     "outputs_hidden": true,
     "source_hidden": true
    }
   },
   "outputs": [
    {
     "data": {
      "text/html": [
       "<div>\n",
       "<style scoped>\n",
       "    .dataframe tbody tr th:only-of-type {\n",
       "        vertical-align: middle;\n",
       "    }\n",
       "\n",
       "    .dataframe tbody tr th {\n",
       "        vertical-align: top;\n",
       "    }\n",
       "\n",
       "    .dataframe thead th {\n",
       "        text-align: right;\n",
       "    }\n",
       "</style>\n",
       "<table border=\"1\" class=\"dataframe\">\n",
       "  <thead>\n",
       "    <tr style=\"text-align: right;\">\n",
       "      <th></th>\n",
       "      <th>subject_id</th>\n",
       "      <th>hadm_id</th>\n",
       "      <th>text</th>\n",
       "      <th>labels</th>\n",
       "      <th>length</th>\n",
       "      <th>is_valid</th>\n",
       "    </tr>\n",
       "  </thead>\n",
       "  <tbody>\n",
       "    <tr>\n",
       "      <th>0</th>\n",
       "      <td>88025</td>\n",
       "      <td>180431</td>\n",
       "      <td>admission date discharge date date of birth sex f service surgery allergies no known allergies adverse drug reactions attending first name3 lf chief complaint s p fall major surgical or invasive procedure none history of present illness 45f etoh s p fall from window at feet found ambulating and slurring speech on scene intubated en route for declining mental status in the er the patient was found to be bradycardic to the s with bp of systolic she was given atropine dilantin and was started on saline past medical history unknown social history unknown family history unknown physical exam ex...</td>\n",
       "      <td>518.81;348.4;348.82;801.25;427.89;E882;V49.86;305.00;96.71;38.93</td>\n",
       "      <td>359</td>\n",
       "      <td>False</td>\n",
       "    </tr>\n",
       "    <tr>\n",
       "      <th>1</th>\n",
       "      <td>85055</td>\n",
       "      <td>169373</td>\n",
       "      <td>admission date discharge date date of birth sex m service surgery allergies no drug allergy information on file attending first name3 lf chief complaint gun shot wound major surgical or invasive procedure placement of bilateral thoracostomy tubes left thoracotomy exploratory laparotomy left diaphragm repair left upper lobe lung resection washout of left wrist repair of right common iliac vein laceration history of present illness pt is y o m who presented to hospital1 via location un s p gun shot wound to chest and abdomen pt unresponsive at scene and intubated prior to arrival past medica...</td>\n",
       "      <td>861.32;958.4;868.14;881.20;289.82;862.1;902.53;860.5;991.6;E922.9;V66.7;32.39;34.02;38.84;54.11;34.82;39.32;34.09;86.28;99.04;99.05;99.07;99.06;96.71</td>\n",
       "      <td>409</td>\n",
       "      <td>False</td>\n",
       "    </tr>\n",
       "    <tr>\n",
       "      <th>2</th>\n",
       "      <td>88336</td>\n",
       "      <td>158174</td>\n",
       "      <td>admission date discharge date date of birth sex m service surgery allergies penicillins attending first name3 lf chief complaint s p fall pneumothorax major surgical or invasive procedure none history of present illness the patient is a y o male with a history of etoh abuse who sustained a fall down flights of stairs on he presented on to an osh with c o sob and was found to have multiple rib fractures and a right sided ptx he was transferred to hospital1 for further management past medical history etoh abuse otherwise unknown social history h o etoh abuse pt lives with his father in name ...</td>\n",
       "      <td>860.0;518.0;507.0;291.0;518.81;934.1;453.9;807.02;805.4;E880.9;303.01;E912;788.42;690.10;276.8;287.5;96.72;34.04;96.04;96.71;33.24;38.91;96.6;33.22;33.22;33.22;96.04;33.24;33.24;33.24</td>\n",
       "      <td>525</td>\n",
       "      <td>False</td>\n",
       "    </tr>\n",
       "  </tbody>\n",
       "</table>\n",
       "</div>"
      ],
      "text/plain": [
       "   subject_id  hadm_id  \\\n",
       "0       88025   180431   \n",
       "1       85055   169373   \n",
       "2       88336   158174   \n",
       "\n",
       "                                                                                                                                                                                                                                                                                                                                                                                                                                                                                                                                                                                                                      text  \\\n",
       "0  admission date discharge date date of birth sex f service surgery allergies no known allergies adverse drug reactions attending first name3 lf chief complaint s p fall major surgical or invasive procedure none history of present illness 45f etoh s p fall from window at feet found ambulating and slurring speech on scene intubated en route for declining mental status in the er the patient was found to be bradycardic to the s with bp of systolic she was given atropine dilantin and was started on saline past medical history unknown social history unknown family history unknown physical exam ex...   \n",
       "1  admission date discharge date date of birth sex m service surgery allergies no drug allergy information on file attending first name3 lf chief complaint gun shot wound major surgical or invasive procedure placement of bilateral thoracostomy tubes left thoracotomy exploratory laparotomy left diaphragm repair left upper lobe lung resection washout of left wrist repair of right common iliac vein laceration history of present illness pt is y o m who presented to hospital1 via location un s p gun shot wound to chest and abdomen pt unresponsive at scene and intubated prior to arrival past medica...   \n",
       "2  admission date discharge date date of birth sex m service surgery allergies penicillins attending first name3 lf chief complaint s p fall pneumothorax major surgical or invasive procedure none history of present illness the patient is a y o male with a history of etoh abuse who sustained a fall down flights of stairs on he presented on to an osh with c o sob and was found to have multiple rib fractures and a right sided ptx he was transferred to hospital1 for further management past medical history etoh abuse otherwise unknown social history h o etoh abuse pt lives with his father in name ...   \n",
       "\n",
       "                                                                                                                                                                                    labels  \\\n",
       "0                                                                                                                         518.81;348.4;348.82;801.25;427.89;E882;V49.86;305.00;96.71;38.93   \n",
       "1                                    861.32;958.4;868.14;881.20;289.82;862.1;902.53;860.5;991.6;E922.9;V66.7;32.39;34.02;38.84;54.11;34.82;39.32;34.09;86.28;99.04;99.05;99.07;99.06;96.71   \n",
       "2  860.0;518.0;507.0;291.0;518.81;934.1;453.9;807.02;805.4;E880.9;303.01;E912;788.42;690.10;276.8;287.5;96.72;34.04;96.04;96.71;33.24;38.91;96.6;33.22;33.22;33.22;96.04;33.24;33.24;33.24   \n",
       "\n",
       "   length  is_valid  \n",
       "0     359     False  \n",
       "1     409     False  \n",
       "2     525     False  "
      ]
     },
     "execution_count": 36,
     "metadata": {},
     "output_type": "execute_result"
    }
   ],
   "source": [
    "df_caml_sample = pd.concat([train, valid], axis=0)\n",
    "df_caml_sample.head(3)"
   ]
  },
  {
   "cell_type": "code",
   "execution_count": 34,
   "id": "e31dff8f-c543-4ccb-9d4c-4c8e9d0a5f63",
   "metadata": {
    "collapsed": true,
    "jupyter": {
     "outputs_hidden": true,
     "source_hidden": true
    }
   },
   "outputs": [
    {
     "data": {
      "text/plain": [
       "5273"
      ]
     },
     "execution_count": 34,
     "metadata": {},
     "output_type": "execute_result"
    }
   ],
   "source": [
    "len(df_caml_sample)"
   ]
  },
  {
   "cell_type": "code",
   "execution_count": 35,
   "id": "c9d461b4-2d63-4367-9567-8f690adebe58",
   "metadata": {
    "collapsed": true,
    "jupyter": {
     "outputs_hidden": true,
     "source_hidden": true
    }
   },
   "outputs": [],
   "source": [
    "df_caml_sample.to_csv(path_data/'caml_notes_labelled_sample_10percent.csv', index=False)"
   ]
  },
  {
   "cell_type": "markdown",
   "id": "379e57c8-4da5-45ec-9eaf-6dc59023b2f2",
   "metadata": {},
   "source": [
    "---"
   ]
  },
  {
   "cell_type": "markdown",
   "id": "03057383",
   "metadata": {},
   "source": [
    "Let's check how we are doing w.r.t our training and validation split:"
   ]
  },
  {
   "cell_type": "markdown",
   "id": "f8e49d50",
   "metadata": {
    "jp-MarkdownHeadingCollapsed": true,
    "tags": []
   },
   "source": [
    "#### **Data Statistics Check #1: Number of instances**:   "
   ]
  },
  {
   "cell_type": "markdown",
   "id": "50144f35",
   "metadata": {},
   "source": [
    "- Original: we had 52,726 data instances and train = 49,354 and valid = 3372.  \n",
    "- After sampling: we have 15,818 data instances and train = 14839, and valid = 979."
   ]
  },
  {
   "cell_type": "code",
   "execution_count": 14,
   "id": "bb3fd63c",
   "metadata": {},
   "outputs": [],
   "source": [
    "train, valid = df_sample.index[~df_sample['is_valid']], df_sample.index[df_sample['is_valid']]"
   ]
  },
  {
   "cell_type": "code",
   "execution_count": 15,
   "id": "cfb28121",
   "metadata": {},
   "outputs": [
    {
     "data": {
      "text/plain": [
       "(4940, 333)"
      ]
     },
     "execution_count": 15,
     "metadata": {},
     "output_type": "execute_result"
    }
   ],
   "source": [
    "len(train), len(valid)"
   ]
  },
  {
   "cell_type": "markdown",
   "id": "64beb885",
   "metadata": {},
   "source": [
    "Okay, this does not look that bad. Let's now check the remaining three statistics:\n",
    "- Total number of labels\n",
    "- average number of labels per instance, and\n",
    "- average number of instances per labels"
   ]
  },
  {
   "cell_type": "markdown",
   "id": "147919e3",
   "metadata": {
    "jp-MarkdownHeadingCollapsed": true,
    "tags": []
   },
   "source": [
    "#### **Data Statistics Check #2: Number of labels**:"
   ]
  },
  {
   "cell_type": "markdown",
   "id": "205e0f33",
   "metadata": {},
   "source": [
    "- Original: we had 8922 labels\n",
    "- After Sampling: we have 6594 labels "
   ]
  },
  {
   "cell_type": "code",
   "execution_count": 16,
   "id": "5d754e34",
   "metadata": {},
   "outputs": [],
   "source": [
    "label_count = []\n",
    "for labels in df_sample.labels:\n",
    "    label_count.append(len(labels.split(';'))) "
   ]
  },
  {
   "cell_type": "code",
   "execution_count": 17,
   "id": "324e216d",
   "metadata": {},
   "outputs": [],
   "source": [
    "df_sample_copy = df_sample.copy()"
   ]
  },
  {
   "cell_type": "code",
   "execution_count": 18,
   "id": "806e35de",
   "metadata": {
    "collapsed": true,
    "jupyter": {
     "outputs_hidden": true
    },
    "tags": []
   },
   "outputs": [
    {
     "data": {
      "text/html": [
       "<div>\n",
       "<style scoped>\n",
       "    .dataframe tbody tr th:only-of-type {\n",
       "        vertical-align: middle;\n",
       "    }\n",
       "\n",
       "    .dataframe tbody tr th {\n",
       "        vertical-align: top;\n",
       "    }\n",
       "\n",
       "    .dataframe thead th {\n",
       "        text-align: right;\n",
       "    }\n",
       "</style>\n",
       "<table border=\"1\" class=\"dataframe\">\n",
       "  <thead>\n",
       "    <tr style=\"text-align: right;\">\n",
       "      <th></th>\n",
       "      <th>subject_id</th>\n",
       "      <th>hadm_id</th>\n",
       "      <th>text</th>\n",
       "      <th>labels</th>\n",
       "      <th>is_valid</th>\n",
       "      <th>label_count</th>\n",
       "    </tr>\n",
       "  </thead>\n",
       "  <tbody>\n",
       "    <tr>\n",
       "      <th>0</th>\n",
       "      <td>30088</td>\n",
       "      <td>172719</td>\n",
       "      <td>Admission Date:  [**2179-3-7**]              Discharge Date:   [**2179-3-18**]\\n\\nDate of Birth:  [**2121-12-23**]             Sex:   M\\n\\nService: MEDICINE\\n\\nAllergies:\\nIbuprofen\\n\\nAttending:[**First Name3 (LF) 613**]\\nChief Complaint:\\ndyspnea, hyperkalemia\\n\\nMajor Surgical or Invasive Procedure:\\nHemodialysis\\nright Femoral central venous line placement and removal\\n\\n\\nHistory of Present Illness:\\n57 y/o M with hx of ESRD presents after intentionally missing\\ndialysis for last 9 days.  Came to the ED due to the coaxing of\\nhis wife.  Complains of SOB and DOE lasting about the last ...</td>\n",
       "      <td>276.7;585.6;348.39;790.7;427.32;507.0;403.10;825.0;E888.9;300.9;301.9;250.62;357.2;250.42;285.21;278.01;427.31;250.82;V15.81;276.52;707.07;707.22;041.19;39.95;38.93</td>\n",
       "      <td>False</td>\n",
       "      <td>25</td>\n",
       "    </tr>\n",
       "    <tr>\n",
       "      <th>1</th>\n",
       "      <td>22624</td>\n",
       "      <td>138579</td>\n",
       "      <td>Admission Date:  [**2117-1-21**]              Discharge Date:   [**2117-1-28**]\\n\\nDate of Birth:  [**2070-8-1**]             Sex:   M\\n\\nService: MEDICINE\\n\\nAllergies:\\nPatient recorded as having No Known Allergies to Drugs\\n\\nAttending:[**First Name3 (LF) 943**]\\nChief Complaint:\\nBright red blood in stools\\n\\nMajor Surgical or Invasive Procedure:\\nUpper endoscopy\\nColonoscopy\\nTransfusion of platelets and fresh frozen plasma\\n\\n\\nHistory of Present Illness:\\nIn brief, a 46-year-old man with etoh cirrhosis, varices s/p\\nbanding in [**12-9**], HCV not on treatment, who initially presente...</td>\n",
       "      <td>455.5;303.00;571.2;291.81;070.70;284.8;286.7;562.10;571.1;211.2;456.21;305.1;276.8;45.13;45.23;99.05;99.07;96.34</td>\n",
       "      <td>False</td>\n",
       "      <td>18</td>\n",
       "    </tr>\n",
       "    <tr>\n",
       "      <th>2</th>\n",
       "      <td>93593</td>\n",
       "      <td>164601</td>\n",
       "      <td>Admission Date:  [**2161-5-8**]              Discharge Date:   [**2161-5-12**]\\n\\n\\nService: MEDICINE\\n\\nAllergies:\\nPercocet\\n\\nAttending:[**First Name3 (LF) 1115**]\\nChief Complaint:\\nGI bleed / coffee-ground emesis.\\n\\nMajor Surgical or Invasive Procedure:\\nEGD\\nBlood transfusion\\n\\n\\nHistory of Present Illness:\\nPatient is an 87-y/o woman with a history of colon cancer s/p\\nright colectomy who presented today to the emergency room after\\n2 episodes of coffee-ground emesis at her rehab facility.\\nHistory was taken from family members as patient was in\\nsignificant discomfort with the NG...</td>\n",
       "      <td>V10.05;V45.72;V15.82;788.30;531.40;998.59;682.6;438.89;728.87;458.29;564.09;401.9;285.9;294.8;311;272.0;E878.2;45.13</td>\n",
       "      <td>True</td>\n",
       "      <td>18</td>\n",
       "    </tr>\n",
       "    <tr>\n",
       "      <th>3</th>\n",
       "      <td>21976</td>\n",
       "      <td>187519</td>\n",
       "      <td>Admission Date: [**2173-5-10**]        Discharge Date: [**2173-6-13**]\\n\\nDate of Birth:  [**2173-5-10**]        Sex:  M\\n\\nService:  NB\\n\\n\\nHISTORY OF PRESENT ILLNESS:  [**First Name8 (NamePattern2) 16518**] [**Known lastname 3175**] is the first\\nborn of twins at 33-2/7 weeks gestation born to a 34-year-old\\nG2 P1 woman, prenatal screens of blood type O positive,\\nantibody negative, Rubella immune, RPR nonreactive, hepatitis\\nB surface antigen negative, Group B strep status unknown.\\nEstimated date of confinement was [**2173-5-27**]. The\\npregnancy was a spontaneous twin gestation with ...</td>\n",
       "      <td>V31.00;765.17;765.27;770.2;745.5;774.2;779.3;770.6;772.6;770.81;779.81;V50.2;V05.3;V29.0;V18.0;754.81;64.0;93.9;99.15;99.83;99.55</td>\n",
       "      <td>False</td>\n",
       "      <td>21</td>\n",
       "    </tr>\n",
       "    <tr>\n",
       "      <th>4</th>\n",
       "      <td>10676</td>\n",
       "      <td>142446</td>\n",
       "      <td>Admission Date:  [**2118-3-4**]       Discharge Date:  [**2118-3-17**]\\n\\nDate of Birth:   [**2052-5-23**]       Sex:  M\\n\\nService:  CCU\\n\\nHISTORY OF THE PRESENT ILLNESS:  The patient is a 65-year-old\\nwith known CAD who presented to an outside hospital on the\\nday of admission with right upper back pain.  The pain was\\nradiating to the left arm and he relates that this complaint\\nhas been occurring for at least several weeks.  This episode\\nis similar to his previous back pain which has been\\nunrelieved with NSAIDs in the past.  The pain is much worse\\nwith walking and is associated wit...</td>\n",
       "      <td>410.61;785.51;414.01;427.89;401.9;272.4;36.01;36.06;37.61;37.23;88.56;96.72;96.04</td>\n",
       "      <td>False</td>\n",
       "      <td>13</td>\n",
       "    </tr>\n",
       "    <tr>\n",
       "      <th>...</th>\n",
       "      <td>...</td>\n",
       "      <td>...</td>\n",
       "      <td>...</td>\n",
       "      <td>...</td>\n",
       "      <td>...</td>\n",
       "      <td>...</td>\n",
       "    </tr>\n",
       "    <tr>\n",
       "      <th>5268</th>\n",
       "      <td>15922</td>\n",
       "      <td>166147</td>\n",
       "      <td>Admission Date:  [**2149-1-9**]              Discharge Date:   [**2149-1-23**]\\n\\nDate of Birth:  [**2104-8-30**]             Sex:   M\\n\\nService: SURGERY\\n\\nAllergies:\\nPatient recorded as having No Known Allergies to Drugs\\n\\nAttending:[**First Name3 (LF) 668**]\\nChief Complaint:\\nESLD, to receive liver transplant\\n\\nMajor Surgical or Invasive Procedure:\\n[**2149-1-13**]: Orthotopic Liver transplant\\n\\nHistory of Present Illness:\\n44 y/o male with history of ESLD secondary to HCV and ETOH with\\nrecent admissions for management of the liver disease and\\ncurrent MELD score of 32 has receiv...</td>\n",
       "      <td>570;070.70;571.2;572.2;276.1;286.7;780.09;303.93;251.8;E932.0;50.59;93.0;96.6;99.04;99.05;99.06;99.07;38.93</td>\n",
       "      <td>False</td>\n",
       "      <td>18</td>\n",
       "    </tr>\n",
       "    <tr>\n",
       "      <th>5269</th>\n",
       "      <td>6285</td>\n",
       "      <td>189873</td>\n",
       "      <td>Admission Date:  [**2195-9-14**]              Discharge Date:   [**2195-9-25**]\\n\\n\\nService: CARDIOTHORACIC\\n\\nAllergies:\\nCortisone\\n\\nAttending:[**First Name3 (LF) 1505**]\\nChief Complaint:\\n3 vessel CAD\\n\\n\\n\\nMajor Surgical or Invasive Procedure:\\nCABG x 3(SVG-&gt;LAD, SVG-&gt;RCA, SVG-&gt;OM)\\n\\n\\nHistory of Present Illness:\\n84 year old female w/ CAD, PAF, CRI, and labile hypertension\\nadmitted for catheterization on [**2195-9-14**].\\nPatient is s/p acute IMI in [**2195-4-5**] at which time she underwent\\na cardiac cath which showed severe 3VD.  LAD had 96% ostial\\nstenosis, with 60% mid-ves...</td>\n",
       "      <td>414.01;428.0;427.31;411.1;585.9;412;V58.61;401.9;36.13;37.22;39.61;88.52;88.55</td>\n",
       "      <td>False</td>\n",
       "      <td>13</td>\n",
       "    </tr>\n",
       "    <tr>\n",
       "      <th>5270</th>\n",
       "      <td>91484</td>\n",
       "      <td>147153</td>\n",
       "      <td>Admission Date:  [**2194-6-27**]              Discharge Date:   [**2194-6-27**]\\n\\nDate of Birth:  [**2160-6-16**]             Sex:   M\\n\\nService: MEDICINE\\n\\nAllergies:\\nHaldol\\n\\nAttending:[**First Name3 (LF) 2712**]\\nChief Complaint:\\nfound down\\n\\nMajor Surgical or Invasive Procedure:\\nIntubation/extubation\\n\\n\\nHistory of Present Illness:\\n34 y.o male w/ unknown pmhx found down at [**Hospital1 778**] stadium. AAx1,\\nhemodynamically stable, responsive to sternal rub at the field.\\nText message mentioned adderall and suboxone as meds. No known\\nmedical history. FS was \"high.\"\\n.\\nIniti...</td>\n",
       "      <td>965.00;304.01;276.1;305.60;305.70;305.90;250.00;276.7;285.9;709.8;E850.2;96.04;96.71</td>\n",
       "      <td>True</td>\n",
       "      <td>13</td>\n",
       "    </tr>\n",
       "    <tr>\n",
       "      <th>5271</th>\n",
       "      <td>18395</td>\n",
       "      <td>101133</td>\n",
       "      <td>Admission Date:  [**2119-4-26**]     Discharge Date:  [**2119-4-28**]\\n\\nDate of Birth:   [**2050-3-25**]     Sex:  F\\n\\nService:  NEUROSURGERY\\n\\nHISTORY:  The patient underwent right occipital craniotomy\\nfor resection of tumor without interoperative complications.\\nThe patient was monitored in the Surgical Intensive Care\\nUnit.  Preoperatively the patient had bilateral left\\nhemianopsia.\\n\\nPAST MEDICAL HISTORY:  The patient has a past medical history\\nof status post lung carcinoma with lung resection in 7/99,\\nstatus post chemotherapy and XRT; hypercholesterolemia;\\ngastroesophageal re...</td>\n",
       "      <td>198.3;496;272.0;530.81;V10.11;15.9</td>\n",
       "      <td>False</td>\n",
       "      <td>6</td>\n",
       "    </tr>\n",
       "    <tr>\n",
       "      <th>5272</th>\n",
       "      <td>4462</td>\n",
       "      <td>156372</td>\n",
       "      <td>Admission Date:  [**2121-2-6**]       Discharge Date:  [**2121-2-13**]\\n\\n\\n\\nCHIEF COMPLAINT:  Severe chest pain, myocardial infarction.\\n\\nHISTORY OF PRESENT ILLNESS:  This is a very pleasant,\\n81-year-old previously healthy, elderly female with no\\nthe evening prior to admission the patient was awakened from\\nsleep by a [**9-18**] substernal chest pain.  At baseline the\\npatient is very active and suffers from no chest pain,\\nshortness of breath or dyspnea on exertion.  The episode\\nprecipitating admission was associated with diaphoresis,\\nsevere shortness of breath.  There was no assoc...</td>\n",
       "      <td>410.11;414.01;998.2;416.0;428.0;365.9;V43.64;36.01;36.06;37.23;88.56;99.20</td>\n",
       "      <td>False</td>\n",
       "      <td>12</td>\n",
       "    </tr>\n",
       "  </tbody>\n",
       "</table>\n",
       "<p>5273 rows × 6 columns</p>\n",
       "</div>"
      ],
      "text/plain": [
       "      subject_id  hadm_id  \\\n",
       "0          30088   172719   \n",
       "1          22624   138579   \n",
       "2          93593   164601   \n",
       "3          21976   187519   \n",
       "4          10676   142446   \n",
       "...          ...      ...   \n",
       "5268       15922   166147   \n",
       "5269        6285   189873   \n",
       "5270       91484   147153   \n",
       "5271       18395   101133   \n",
       "5272        4462   156372   \n",
       "\n",
       "                                                                                                                                                                                                                                                                                                                                                                                                                                                                                                                                                                                                                         text  \\\n",
       "0     Admission Date:  [**2179-3-7**]              Discharge Date:   [**2179-3-18**]\\n\\nDate of Birth:  [**2121-12-23**]             Sex:   M\\n\\nService: MEDICINE\\n\\nAllergies:\\nIbuprofen\\n\\nAttending:[**First Name3 (LF) 613**]\\nChief Complaint:\\ndyspnea, hyperkalemia\\n\\nMajor Surgical or Invasive Procedure:\\nHemodialysis\\nright Femoral central venous line placement and removal\\n\\n\\nHistory of Present Illness:\\n57 y/o M with hx of ESRD presents after intentionally missing\\ndialysis for last 9 days.  Came to the ED due to the coaxing of\\nhis wife.  Complains of SOB and DOE lasting about the last ...   \n",
       "1     Admission Date:  [**2117-1-21**]              Discharge Date:   [**2117-1-28**]\\n\\nDate of Birth:  [**2070-8-1**]             Sex:   M\\n\\nService: MEDICINE\\n\\nAllergies:\\nPatient recorded as having No Known Allergies to Drugs\\n\\nAttending:[**First Name3 (LF) 943**]\\nChief Complaint:\\nBright red blood in stools\\n\\nMajor Surgical or Invasive Procedure:\\nUpper endoscopy\\nColonoscopy\\nTransfusion of platelets and fresh frozen plasma\\n\\n\\nHistory of Present Illness:\\nIn brief, a 46-year-old man with etoh cirrhosis, varices s/p\\nbanding in [**12-9**], HCV not on treatment, who initially presente...   \n",
       "2     Admission Date:  [**2161-5-8**]              Discharge Date:   [**2161-5-12**]\\n\\n\\nService: MEDICINE\\n\\nAllergies:\\nPercocet\\n\\nAttending:[**First Name3 (LF) 1115**]\\nChief Complaint:\\nGI bleed / coffee-ground emesis.\\n\\nMajor Surgical or Invasive Procedure:\\nEGD\\nBlood transfusion\\n\\n\\nHistory of Present Illness:\\nPatient is an 87-y/o woman with a history of colon cancer s/p\\nright colectomy who presented today to the emergency room after\\n2 episodes of coffee-ground emesis at her rehab facility.\\nHistory was taken from family members as patient was in\\nsignificant discomfort with the NG...   \n",
       "3     Admission Date: [**2173-5-10**]        Discharge Date: [**2173-6-13**]\\n\\nDate of Birth:  [**2173-5-10**]        Sex:  M\\n\\nService:  NB\\n\\n\\nHISTORY OF PRESENT ILLNESS:  [**First Name8 (NamePattern2) 16518**] [**Known lastname 3175**] is the first\\nborn of twins at 33-2/7 weeks gestation born to a 34-year-old\\nG2 P1 woman, prenatal screens of blood type O positive,\\nantibody negative, Rubella immune, RPR nonreactive, hepatitis\\nB surface antigen negative, Group B strep status unknown.\\nEstimated date of confinement was [**2173-5-27**]. The\\npregnancy was a spontaneous twin gestation with ...   \n",
       "4     Admission Date:  [**2118-3-4**]       Discharge Date:  [**2118-3-17**]\\n\\nDate of Birth:   [**2052-5-23**]       Sex:  M\\n\\nService:  CCU\\n\\nHISTORY OF THE PRESENT ILLNESS:  The patient is a 65-year-old\\nwith known CAD who presented to an outside hospital on the\\nday of admission with right upper back pain.  The pain was\\nradiating to the left arm and he relates that this complaint\\nhas been occurring for at least several weeks.  This episode\\nis similar to his previous back pain which has been\\nunrelieved with NSAIDs in the past.  The pain is much worse\\nwith walking and is associated wit...   \n",
       "...                                                                                                                                                                                                                                                                                                                                                                                                                                                                                                                                                                                                                       ...   \n",
       "5268  Admission Date:  [**2149-1-9**]              Discharge Date:   [**2149-1-23**]\\n\\nDate of Birth:  [**2104-8-30**]             Sex:   M\\n\\nService: SURGERY\\n\\nAllergies:\\nPatient recorded as having No Known Allergies to Drugs\\n\\nAttending:[**First Name3 (LF) 668**]\\nChief Complaint:\\nESLD, to receive liver transplant\\n\\nMajor Surgical or Invasive Procedure:\\n[**2149-1-13**]: Orthotopic Liver transplant\\n\\nHistory of Present Illness:\\n44 y/o male with history of ESLD secondary to HCV and ETOH with\\nrecent admissions for management of the liver disease and\\ncurrent MELD score of 32 has receiv...   \n",
       "5269  Admission Date:  [**2195-9-14**]              Discharge Date:   [**2195-9-25**]\\n\\n\\nService: CARDIOTHORACIC\\n\\nAllergies:\\nCortisone\\n\\nAttending:[**First Name3 (LF) 1505**]\\nChief Complaint:\\n3 vessel CAD\\n\\n\\n\\nMajor Surgical or Invasive Procedure:\\nCABG x 3(SVG->LAD, SVG->RCA, SVG->OM)\\n\\n\\nHistory of Present Illness:\\n84 year old female w/ CAD, PAF, CRI, and labile hypertension\\nadmitted for catheterization on [**2195-9-14**].\\nPatient is s/p acute IMI in [**2195-4-5**] at which time she underwent\\na cardiac cath which showed severe 3VD.  LAD had 96% ostial\\nstenosis, with 60% mid-ves...   \n",
       "5270  Admission Date:  [**2194-6-27**]              Discharge Date:   [**2194-6-27**]\\n\\nDate of Birth:  [**2160-6-16**]             Sex:   M\\n\\nService: MEDICINE\\n\\nAllergies:\\nHaldol\\n\\nAttending:[**First Name3 (LF) 2712**]\\nChief Complaint:\\nfound down\\n\\nMajor Surgical or Invasive Procedure:\\nIntubation/extubation\\n\\n\\nHistory of Present Illness:\\n34 y.o male w/ unknown pmhx found down at [**Hospital1 778**] stadium. AAx1,\\nhemodynamically stable, responsive to sternal rub at the field.\\nText message mentioned adderall and suboxone as meds. No known\\nmedical history. FS was \"high.\"\\n.\\nIniti...   \n",
       "5271  Admission Date:  [**2119-4-26**]     Discharge Date:  [**2119-4-28**]\\n\\nDate of Birth:   [**2050-3-25**]     Sex:  F\\n\\nService:  NEUROSURGERY\\n\\nHISTORY:  The patient underwent right occipital craniotomy\\nfor resection of tumor without interoperative complications.\\nThe patient was monitored in the Surgical Intensive Care\\nUnit.  Preoperatively the patient had bilateral left\\nhemianopsia.\\n\\nPAST MEDICAL HISTORY:  The patient has a past medical history\\nof status post lung carcinoma with lung resection in 7/99,\\nstatus post chemotherapy and XRT; hypercholesterolemia;\\ngastroesophageal re...   \n",
       "5272  Admission Date:  [**2121-2-6**]       Discharge Date:  [**2121-2-13**]\\n\\n\\n\\nCHIEF COMPLAINT:  Severe chest pain, myocardial infarction.\\n\\nHISTORY OF PRESENT ILLNESS:  This is a very pleasant,\\n81-year-old previously healthy, elderly female with no\\nthe evening prior to admission the patient was awakened from\\nsleep by a [**9-18**] substernal chest pain.  At baseline the\\npatient is very active and suffers from no chest pain,\\nshortness of breath or dyspnea on exertion.  The episode\\nprecipitating admission was associated with diaphoresis,\\nsevere shortness of breath.  There was no assoc...   \n",
       "\n",
       "                                                                                                                                                                    labels  \\\n",
       "0     276.7;585.6;348.39;790.7;427.32;507.0;403.10;825.0;E888.9;300.9;301.9;250.62;357.2;250.42;285.21;278.01;427.31;250.82;V15.81;276.52;707.07;707.22;041.19;39.95;38.93   \n",
       "1                                                         455.5;303.00;571.2;291.81;070.70;284.8;286.7;562.10;571.1;211.2;456.21;305.1;276.8;45.13;45.23;99.05;99.07;96.34   \n",
       "2                                                     V10.05;V45.72;V15.82;788.30;531.40;998.59;682.6;438.89;728.87;458.29;564.09;401.9;285.9;294.8;311;272.0;E878.2;45.13   \n",
       "3                                        V31.00;765.17;765.27;770.2;745.5;774.2;779.3;770.6;772.6;770.81;779.81;V50.2;V05.3;V29.0;V18.0;754.81;64.0;93.9;99.15;99.83;99.55   \n",
       "4                                                                                        410.61;785.51;414.01;427.89;401.9;272.4;36.01;36.06;37.61;37.23;88.56;96.72;96.04   \n",
       "...                                                                                                                                                                    ...   \n",
       "5268                                                           570;070.70;571.2;572.2;276.1;286.7;780.09;303.93;251.8;E932.0;50.59;93.0;96.6;99.04;99.05;99.06;99.07;38.93   \n",
       "5269                                                                                        414.01;428.0;427.31;411.1;585.9;412;V58.61;401.9;36.13;37.22;39.61;88.52;88.55   \n",
       "5270                                                                                  965.00;304.01;276.1;305.60;305.70;305.90;250.00;276.7;285.9;709.8;E850.2;96.04;96.71   \n",
       "5271                                                                                                                                    198.3;496;272.0;530.81;V10.11;15.9   \n",
       "5272                                                                                            410.11;414.01;998.2;416.0;428.0;365.9;V43.64;36.01;36.06;37.23;88.56;99.20   \n",
       "\n",
       "      is_valid  label_count  \n",
       "0        False           25  \n",
       "1        False           18  \n",
       "2         True           18  \n",
       "3        False           21  \n",
       "4        False           13  \n",
       "...        ...          ...  \n",
       "5268     False           18  \n",
       "5269     False           13  \n",
       "5270      True           13  \n",
       "5271     False            6  \n",
       "5272     False           12  \n",
       "\n",
       "[5273 rows x 6 columns]"
      ]
     },
     "execution_count": 18,
     "metadata": {},
     "output_type": "execute_result"
    }
   ],
   "source": [
    "df_sample_copy['label_count'] = label_count\n",
    "df_sample_copy"
   ]
  },
  {
   "cell_type": "code",
   "execution_count": 20,
   "id": "afa673a2",
   "metadata": {},
   "outputs": [
    {
     "name": "stderr",
     "output_type": "stream",
     "text": [
      "/home/deb/miniconda3/lib/python3.9/site-packages/seaborn/distributions.py:2619: FutureWarning: `distplot` is a deprecated function and will be removed in a future version. Please adapt your code to use either `displot` (a figure-level function with similar flexibility) or `histplot` (an axes-level function for histograms).\n",
      "  warnings.warn(msg, FutureWarning)\n"
     ]
    },
    {
     "data": {
      "image/png": "[encoded data removed]",
      "text/plain": [
       "<Figure size 432x288 with 1 Axes>"
      ]
     },
     "metadata": {
      "needs_background": "light"
     },
     "output_type": "display_data"
    }
   ],
   "source": [
    "import seaborn as sns\n",
    "sns.distplot(df_sample_copy.label_count, bins=100, color='b');"
   ]
  },
  {
   "cell_type": "code",
   "execution_count": 21,
   "id": "9f758988",
   "metadata": {},
   "outputs": [],
   "source": [
    "sample_label_freq = Counter()\n",
    "for row in df_sample.itertuples():\n",
    "    labels = row.labels.split(';')\n",
    "    sample_label_freq.update(labels)"
   ]
  },
  {
   "cell_type": "code",
   "execution_count": 22,
   "id": "5df077f1",
   "metadata": {},
   "outputs": [
    {
     "data": {
      "text/plain": [
       "4716"
      ]
     },
     "execution_count": 22,
     "metadata": {},
     "output_type": "execute_result"
    }
   ],
   "source": [
    "len(sample_label_freq)"
   ]
  },
  {
   "cell_type": "code",
   "execution_count": 23,
   "id": "556038c4",
   "metadata": {},
   "outputs": [],
   "source": [
    "labels_sorted = sorted(sample_label_freq.items(), key=lambda item: item[1], reverse=True)"
   ]
  },
  {
   "cell_type": "code",
   "execution_count": 24,
   "id": "0d789155",
   "metadata": {},
   "outputs": [
    {
     "data": {
      "text/plain": [
       "[('401.9', 1999),\n",
       " ('38.93', 1437),\n",
       " ('427.31', 1298),\n",
       " ('428.0', 1287),\n",
       " ('414.01', 1220),\n",
       " ('96.04', 1017),\n",
       " ('96.6', 939),\n",
       " ('96.71', 908),\n",
       " ('584.9', 907),\n",
       " ('272.4', 884),\n",
       " ('250.00', 883),\n",
       " ('518.81', 745),\n",
       " ('99.04', 734),\n",
       " ('599.0', 670),\n",
       " ('39.61', 667),\n",
       " ('530.81', 657),\n",
       " ('96.72', 584),\n",
       " ('285.9', 555),\n",
       " ('272.0', 546),\n",
       " ('88.56', 506)]"
      ]
     },
     "execution_count": 24,
     "metadata": {},
     "output_type": "execute_result"
    }
   ],
   "source": [
    "labels_sorted[:20]"
   ]
  },
  {
   "cell_type": "code",
   "execution_count": 25,
   "id": "2d33e7ec",
   "metadata": {},
   "outputs": [
    {
     "data": {
      "text/plain": [
       "((#4716) ['401.9','38.93','427.31','428.0','414.01','96.04','96.6','96.71','584.9','272.4'...],\n",
       " (#4716) [1999,1437,1298,1287,1220,1017,939,908,907,884...])"
      ]
     },
     "execution_count": 25,
     "metadata": {},
     "output_type": "execute_result"
    }
   ],
   "source": [
    "ranked_labels = L(labels_sorted).itemgot(0)\n",
    "ranked_freqs = L(labels_sorted).itemgot(1)\n",
    "ranked_labels, ranked_freqs"
   ]
  },
  {
   "cell_type": "code",
   "execution_count": 26,
   "id": "4116986c",
   "metadata": {},
   "outputs": [
    {
     "data": {
      "image/png": "[encoded data removed]",
      "text/plain": [
       "<Figure size 432x288 with 1 Axes>"
      ]
     },
     "metadata": {
      "needs_background": "light"
     },
     "output_type": "display_data"
    }
   ],
   "source": [
    "fig = plt.figure()\n",
    "ax = fig.add_subplot(1,1,1)\n",
    "ax.plot(ranked_freqs)\n",
    "ax.set_xlabel('Code rank by frequency')\n",
    "ax.set_ylabel('Note count')\n",
    "ax.set_yscale('log');"
   ]
  },
  {
   "cell_type": "markdown",
   "id": "b9a587bd",
   "metadata": {
    "jp-MarkdownHeadingCollapsed": true,
    "tags": []
   },
   "source": [
    "#### Data Satatistics Check #3: Computing the min label freq for each text:"
   ]
  },
  {
   "cell_type": "code",
   "execution_count": 27,
   "id": "4bed1905",
   "metadata": {},
   "outputs": [],
   "source": [
    "df_sample_copy = df_sample.copy()"
   ]
  },
  {
   "cell_type": "code",
   "execution_count": 28,
   "id": "8eb08cc8",
   "metadata": {},
   "outputs": [
    {
     "data": {
      "text/html": [
       "<div>\n",
       "<style scoped>\n",
       "    .dataframe tbody tr th:only-of-type {\n",
       "        vertical-align: middle;\n",
       "    }\n",
       "\n",
       "    .dataframe tbody tr th {\n",
       "        vertical-align: top;\n",
       "    }\n",
       "\n",
       "    .dataframe thead th {\n",
       "        text-align: right;\n",
       "    }\n",
       "</style>\n",
       "<table border=\"1\" class=\"dataframe\">\n",
       "  <thead>\n",
       "    <tr style=\"text-align: right;\">\n",
       "      <th></th>\n",
       "      <th>subject_id</th>\n",
       "      <th>hadm_id</th>\n",
       "      <th>text</th>\n",
       "      <th>labels</th>\n",
       "      <th>is_valid</th>\n",
       "    </tr>\n",
       "  </thead>\n",
       "  <tbody>\n",
       "    <tr>\n",
       "      <th>0</th>\n",
       "      <td>30088</td>\n",
       "      <td>172719</td>\n",
       "      <td>Admission Date:  [**2179-3-7**]              Discharge Date:   [**2179-3-18**]\\n\\nDate of Birth:  [**2121-12-23**]             Sex:   M\\n\\nService: MEDICINE\\n\\nAllergies:\\nIbuprofen\\n\\nAttending:[**First Name3 (LF) 613**]\\nChief Complaint:\\ndyspnea, hyperkalemia\\n\\nMajor Surgical or Invasive Procedure:\\nHemodialysis\\nright Femoral central venous line placement and removal\\n\\n\\nHistory of Present Illness:\\n57 y/o M with hx of ESRD presents after intentionally missing\\ndialysis for last 9 days.  Came to the ED due to the coaxing of\\nhis wife.  Complains of SOB and DOE lasting about the last ...</td>\n",
       "      <td>276.7;585.6;348.39;790.7;427.32;507.0;403.10;825.0;E888.9;300.9;301.9;250.62;357.2;250.42;285.21;278.01;427.31;250.82;V15.81;276.52;707.07;707.22;041.19;39.95;38.93</td>\n",
       "      <td>False</td>\n",
       "    </tr>\n",
       "    <tr>\n",
       "      <th>1</th>\n",
       "      <td>22624</td>\n",
       "      <td>138579</td>\n",
       "      <td>Admission Date:  [**2117-1-21**]              Discharge Date:   [**2117-1-28**]\\n\\nDate of Birth:  [**2070-8-1**]             Sex:   M\\n\\nService: MEDICINE\\n\\nAllergies:\\nPatient recorded as having No Known Allergies to Drugs\\n\\nAttending:[**First Name3 (LF) 943**]\\nChief Complaint:\\nBright red blood in stools\\n\\nMajor Surgical or Invasive Procedure:\\nUpper endoscopy\\nColonoscopy\\nTransfusion of platelets and fresh frozen plasma\\n\\n\\nHistory of Present Illness:\\nIn brief, a 46-year-old man with etoh cirrhosis, varices s/p\\nbanding in [**12-9**], HCV not on treatment, who initially presente...</td>\n",
       "      <td>455.5;303.00;571.2;291.81;070.70;284.8;286.7;562.10;571.1;211.2;456.21;305.1;276.8;45.13;45.23;99.05;99.07;96.34</td>\n",
       "      <td>False</td>\n",
       "    </tr>\n",
       "    <tr>\n",
       "      <th>2</th>\n",
       "      <td>93593</td>\n",
       "      <td>164601</td>\n",
       "      <td>Admission Date:  [**2161-5-8**]              Discharge Date:   [**2161-5-12**]\\n\\n\\nService: MEDICINE\\n\\nAllergies:\\nPercocet\\n\\nAttending:[**First Name3 (LF) 1115**]\\nChief Complaint:\\nGI bleed / coffee-ground emesis.\\n\\nMajor Surgical or Invasive Procedure:\\nEGD\\nBlood transfusion\\n\\n\\nHistory of Present Illness:\\nPatient is an 87-y/o woman with a history of colon cancer s/p\\nright colectomy who presented today to the emergency room after\\n2 episodes of coffee-ground emesis at her rehab facility.\\nHistory was taken from family members as patient was in\\nsignificant discomfort with the NG...</td>\n",
       "      <td>V10.05;V45.72;V15.82;788.30;531.40;998.59;682.6;438.89;728.87;458.29;564.09;401.9;285.9;294.8;311;272.0;E878.2;45.13</td>\n",
       "      <td>True</td>\n",
       "    </tr>\n",
       "  </tbody>\n",
       "</table>\n",
       "</div>"
      ],
      "text/plain": [
       "   subject_id  hadm_id  \\\n",
       "0       30088   172719   \n",
       "1       22624   138579   \n",
       "2       93593   164601   \n",
       "\n",
       "                                                                                                                                                                                                                                                                                                                                                                                                                                                                                                                                                                                                                      text  \\\n",
       "0  Admission Date:  [**2179-3-7**]              Discharge Date:   [**2179-3-18**]\\n\\nDate of Birth:  [**2121-12-23**]             Sex:   M\\n\\nService: MEDICINE\\n\\nAllergies:\\nIbuprofen\\n\\nAttending:[**First Name3 (LF) 613**]\\nChief Complaint:\\ndyspnea, hyperkalemia\\n\\nMajor Surgical or Invasive Procedure:\\nHemodialysis\\nright Femoral central venous line placement and removal\\n\\n\\nHistory of Present Illness:\\n57 y/o M with hx of ESRD presents after intentionally missing\\ndialysis for last 9 days.  Came to the ED due to the coaxing of\\nhis wife.  Complains of SOB and DOE lasting about the last ...   \n",
       "1  Admission Date:  [**2117-1-21**]              Discharge Date:   [**2117-1-28**]\\n\\nDate of Birth:  [**2070-8-1**]             Sex:   M\\n\\nService: MEDICINE\\n\\nAllergies:\\nPatient recorded as having No Known Allergies to Drugs\\n\\nAttending:[**First Name3 (LF) 943**]\\nChief Complaint:\\nBright red blood in stools\\n\\nMajor Surgical or Invasive Procedure:\\nUpper endoscopy\\nColonoscopy\\nTransfusion of platelets and fresh frozen plasma\\n\\n\\nHistory of Present Illness:\\nIn brief, a 46-year-old man with etoh cirrhosis, varices s/p\\nbanding in [**12-9**], HCV not on treatment, who initially presente...   \n",
       "2  Admission Date:  [**2161-5-8**]              Discharge Date:   [**2161-5-12**]\\n\\n\\nService: MEDICINE\\n\\nAllergies:\\nPercocet\\n\\nAttending:[**First Name3 (LF) 1115**]\\nChief Complaint:\\nGI bleed / coffee-ground emesis.\\n\\nMajor Surgical or Invasive Procedure:\\nEGD\\nBlood transfusion\\n\\n\\nHistory of Present Illness:\\nPatient is an 87-y/o woman with a history of colon cancer s/p\\nright colectomy who presented today to the emergency room after\\n2 episodes of coffee-ground emesis at her rehab facility.\\nHistory was taken from family members as patient was in\\nsignificant discomfort with the NG...   \n",
       "\n",
       "                                                                                                                                                                 labels  \\\n",
       "0  276.7;585.6;348.39;790.7;427.32;507.0;403.10;825.0;E888.9;300.9;301.9;250.62;357.2;250.42;285.21;278.01;427.31;250.82;V15.81;276.52;707.07;707.22;041.19;39.95;38.93   \n",
       "1                                                      455.5;303.00;571.2;291.81;070.70;284.8;286.7;562.10;571.1;211.2;456.21;305.1;276.8;45.13;45.23;99.05;99.07;96.34   \n",
       "2                                                  V10.05;V45.72;V15.82;788.30;531.40;998.59;682.6;438.89;728.87;458.29;564.09;401.9;285.9;294.8;311;272.0;E878.2;45.13   \n",
       "\n",
       "   is_valid  \n",
       "0     False  \n",
       "1     False  \n",
       "2      True  "
      ]
     },
     "execution_count": 28,
     "metadata": {},
     "output_type": "execute_result"
    }
   ],
   "source": [
    "df_sample_copy.head(3)"
   ]
  },
  {
   "cell_type": "code",
   "execution_count": 29,
   "id": "56db222d",
   "metadata": {
    "collapsed": true,
    "jupyter": {
     "outputs_hidden": true
    },
    "tags": []
   },
   "outputs": [
    {
     "data": {
      "text/html": [
       "<div>\n",
       "<style scoped>\n",
       "    .dataframe tbody tr th:only-of-type {\n",
       "        vertical-align: middle;\n",
       "    }\n",
       "\n",
       "    .dataframe tbody tr th {\n",
       "        vertical-align: top;\n",
       "    }\n",
       "\n",
       "    .dataframe thead th {\n",
       "        text-align: right;\n",
       "    }\n",
       "</style>\n",
       "<table border=\"1\" class=\"dataframe\">\n",
       "  <thead>\n",
       "    <tr style=\"text-align: right;\">\n",
       "      <th></th>\n",
       "      <th>subject_id</th>\n",
       "      <th>hadm_id</th>\n",
       "      <th>text</th>\n",
       "      <th>labels</th>\n",
       "      <th>is_valid</th>\n",
       "      <th>min_code_freq</th>\n",
       "      <th>max_code_freq</th>\n",
       "      <th>median_code_freq</th>\n",
       "    </tr>\n",
       "  </thead>\n",
       "  <tbody>\n",
       "    <tr>\n",
       "      <th>0</th>\n",
       "      <td>30088</td>\n",
       "      <td>172719</td>\n",
       "      <td>Admission Date:  [**2179-3-7**]              Discharge Date:   [**2179-3-18**]\\n\\nDate of Birth:  [**2121-12-23**]             Sex:   M\\n\\nService: MEDICINE\\n\\nAllergies:\\nIbuprofen\\n\\nAttending:[**First Name3 (LF) 613**]\\nChief Complaint:\\ndyspnea, hyperkalemia\\n\\nMajor Surgical or Invasive Procedure:\\nHemodialysis\\nright Femoral central venous line placement and removal\\n\\n\\nHistory of Present Illness:\\n57 y/o M with hx of ESRD presents after intentionally missing\\ndialysis for last 9 days.  Came to the ED due to the coaxing of\\nhis wife.  Complains of SOB and DOE lasting about the last ...</td>\n",
       "      <td>276.7;585.6;348.39;790.7;427.32;507.0;403.10;825.0;E888.9;300.9;301.9;250.62;357.2;250.42;285.21;278.01;427.31;250.82;V15.81;276.52;707.07;707.22;041.19;39.95;38.93</td>\n",
       "      <td>False</td>\n",
       "      <td>3</td>\n",
       "      <td>1437</td>\n",
       "      <td>351.0</td>\n",
       "    </tr>\n",
       "    <tr>\n",
       "      <th>1</th>\n",
       "      <td>22624</td>\n",
       "      <td>138579</td>\n",
       "      <td>Admission Date:  [**2117-1-21**]              Discharge Date:   [**2117-1-28**]\\n\\nDate of Birth:  [**2070-8-1**]             Sex:   M\\n\\nService: MEDICINE\\n\\nAllergies:\\nPatient recorded as having No Known Allergies to Drugs\\n\\nAttending:[**First Name3 (LF) 943**]\\nChief Complaint:\\nBright red blood in stools\\n\\nMajor Surgical or Invasive Procedure:\\nUpper endoscopy\\nColonoscopy\\nTransfusion of platelets and fresh frozen plasma\\n\\n\\nHistory of Present Illness:\\nIn brief, a 46-year-old man with etoh cirrhosis, varices s/p\\nbanding in [**12-9**], HCV not on treatment, who initially presente...</td>\n",
       "      <td>455.5;303.00;571.2;291.81;070.70;284.8;286.7;562.10;571.1;211.2;456.21;305.1;276.8;45.13;45.23;99.05;99.07;96.34</td>\n",
       "      <td>False</td>\n",
       "      <td>6</td>\n",
       "      <td>339</td>\n",
       "      <td>224.1</td>\n",
       "    </tr>\n",
       "    <tr>\n",
       "      <th>2</th>\n",
       "      <td>93593</td>\n",
       "      <td>164601</td>\n",
       "      <td>Admission Date:  [**2161-5-8**]              Discharge Date:   [**2161-5-12**]\\n\\n\\nService: MEDICINE\\n\\nAllergies:\\nPercocet\\n\\nAttending:[**First Name3 (LF) 1115**]\\nChief Complaint:\\nGI bleed / coffee-ground emesis.\\n\\nMajor Surgical or Invasive Procedure:\\nEGD\\nBlood transfusion\\n\\n\\nHistory of Present Illness:\\nPatient is an 87-y/o woman with a history of colon cancer s/p\\nright colectomy who presented today to the emergency room after\\n2 episodes of coffee-ground emesis at her rehab facility.\\nHistory was taken from family members as patient was in\\nsignificant discomfort with the NG...</td>\n",
       "      <td>V10.05;V45.72;V15.82;788.30;531.40;998.59;682.6;438.89;728.87;458.29;564.09;401.9;285.9;294.8;311;272.0;E878.2;45.13</td>\n",
       "      <td>True</td>\n",
       "      <td>11</td>\n",
       "      <td>1999</td>\n",
       "      <td>548.7</td>\n",
       "    </tr>\n",
       "    <tr>\n",
       "      <th>3</th>\n",
       "      <td>21976</td>\n",
       "      <td>187519</td>\n",
       "      <td>Admission Date: [**2173-5-10**]        Discharge Date: [**2173-6-13**]\\n\\nDate of Birth:  [**2173-5-10**]        Sex:  M\\n\\nService:  NB\\n\\n\\nHISTORY OF PRESENT ILLNESS:  [**First Name8 (NamePattern2) 16518**] [**Known lastname 3175**] is the first\\nborn of twins at 33-2/7 weeks gestation born to a 34-year-old\\nG2 P1 woman, prenatal screens of blood type O positive,\\nantibody negative, Rubella immune, RPR nonreactive, hepatitis\\nB surface antigen negative, Group B strep status unknown.\\nEstimated date of confinement was [**2173-5-27**]. The\\npregnancy was a spontaneous twin gestation with ...</td>\n",
       "      <td>V31.00;765.17;765.27;770.2;745.5;774.2;779.3;770.6;772.6;770.81;779.81;V50.2;V05.3;V29.0;V18.0;754.81;64.0;93.9;99.15;99.83;99.55</td>\n",
       "      <td>False</td>\n",
       "      <td>1</td>\n",
       "      <td>424</td>\n",
       "      <td>233.0</td>\n",
       "    </tr>\n",
       "    <tr>\n",
       "      <th>4</th>\n",
       "      <td>10676</td>\n",
       "      <td>142446</td>\n",
       "      <td>Admission Date:  [**2118-3-4**]       Discharge Date:  [**2118-3-17**]\\n\\nDate of Birth:   [**2052-5-23**]       Sex:  M\\n\\nService:  CCU\\n\\nHISTORY OF THE PRESENT ILLNESS:  The patient is a 65-year-old\\nwith known CAD who presented to an outside hospital on the\\nday of admission with right upper back pain.  The pain was\\nradiating to the left arm and he relates that this complaint\\nhas been occurring for at least several weeks.  This episode\\nis similar to his previous back pain which has been\\nunrelieved with NSAIDs in the past.  The pain is much worse\\nwith walking and is associated wit...</td>\n",
       "      <td>410.61;785.51;414.01;427.89;401.9;272.4;36.01;36.06;37.61;37.23;88.56;96.72;96.04</td>\n",
       "      <td>False</td>\n",
       "      <td>4</td>\n",
       "      <td>1999</td>\n",
       "      <td>1179.4</td>\n",
       "    </tr>\n",
       "    <tr>\n",
       "      <th>...</th>\n",
       "      <td>...</td>\n",
       "      <td>...</td>\n",
       "      <td>...</td>\n",
       "      <td>...</td>\n",
       "      <td>...</td>\n",
       "      <td>...</td>\n",
       "      <td>...</td>\n",
       "      <td>...</td>\n",
       "    </tr>\n",
       "    <tr>\n",
       "      <th>5268</th>\n",
       "      <td>15922</td>\n",
       "      <td>166147</td>\n",
       "      <td>Admission Date:  [**2149-1-9**]              Discharge Date:   [**2149-1-23**]\\n\\nDate of Birth:  [**2104-8-30**]             Sex:   M\\n\\nService: SURGERY\\n\\nAllergies:\\nPatient recorded as having No Known Allergies to Drugs\\n\\nAttending:[**First Name3 (LF) 668**]\\nChief Complaint:\\nESLD, to receive liver transplant\\n\\nMajor Surgical or Invasive Procedure:\\n[**2149-1-13**]: Orthotopic Liver transplant\\n\\nHistory of Present Illness:\\n44 y/o male with history of ESLD secondary to HCV and ETOH with\\nrecent admissions for management of the liver disease and\\ncurrent MELD score of 32 has receiv...</td>\n",
       "      <td>570;070.70;571.2;572.2;276.1;286.7;780.09;303.93;251.8;E932.0;50.59;93.0;96.6;99.04;99.05;99.06;99.07;38.93</td>\n",
       "      <td>False</td>\n",
       "      <td>11</td>\n",
       "      <td>1437</td>\n",
       "      <td>795.5</td>\n",
       "    </tr>\n",
       "    <tr>\n",
       "      <th>5269</th>\n",
       "      <td>6285</td>\n",
       "      <td>189873</td>\n",
       "      <td>Admission Date:  [**2195-9-14**]              Discharge Date:   [**2195-9-25**]\\n\\n\\nService: CARDIOTHORACIC\\n\\nAllergies:\\nCortisone\\n\\nAttending:[**First Name3 (LF) 1505**]\\nChief Complaint:\\n3 vessel CAD\\n\\n\\n\\nMajor Surgical or Invasive Procedure:\\nCABG x 3(SVG-&gt;LAD, SVG-&gt;RCA, SVG-&gt;OM)\\n\\n\\nHistory of Present Illness:\\n84 year old female w/ CAD, PAF, CRI, and labile hypertension\\nadmitted for catheterization on [**2195-9-14**].\\nPatient is s/p acute IMI in [**2195-4-5**] at which time she underwent\\na cardiac cath which showed severe 3VD.  LAD had 96% ostial\\nstenosis, with 60% mid-ves...</td>\n",
       "      <td>414.01;428.0;427.31;411.1;585.9;412;V58.61;401.9;36.13;37.22;39.61;88.52;88.55</td>\n",
       "      <td>False</td>\n",
       "      <td>52</td>\n",
       "      <td>1999</td>\n",
       "      <td>1295.8</td>\n",
       "    </tr>\n",
       "    <tr>\n",
       "      <th>5270</th>\n",
       "      <td>91484</td>\n",
       "      <td>147153</td>\n",
       "      <td>Admission Date:  [**2194-6-27**]              Discharge Date:   [**2194-6-27**]\\n\\nDate of Birth:  [**2160-6-16**]             Sex:   M\\n\\nService: MEDICINE\\n\\nAllergies:\\nHaldol\\n\\nAttending:[**First Name3 (LF) 2712**]\\nChief Complaint:\\nfound down\\n\\nMajor Surgical or Invasive Procedure:\\nIntubation/extubation\\n\\n\\nHistory of Present Illness:\\n34 y.o male w/ unknown pmhx found down at [**Hospital1 778**] stadium. AAx1,\\nhemodynamically stable, responsive to sternal rub at the field.\\nText message mentioned adderall and suboxone as meds. No known\\nmedical history. FS was \"high.\"\\n.\\nIniti...</td>\n",
       "      <td>965.00;304.01;276.1;305.60;305.70;305.90;250.00;276.7;285.9;709.8;E850.2;96.04;96.71</td>\n",
       "      <td>True</td>\n",
       "      <td>3</td>\n",
       "      <td>1017</td>\n",
       "      <td>903.0</td>\n",
       "    </tr>\n",
       "    <tr>\n",
       "      <th>5271</th>\n",
       "      <td>18395</td>\n",
       "      <td>101133</td>\n",
       "      <td>Admission Date:  [**2119-4-26**]     Discharge Date:  [**2119-4-28**]\\n\\nDate of Birth:   [**2050-3-25**]     Sex:  F\\n\\nService:  NEUROSURGERY\\n\\nHISTORY:  The patient underwent right occipital craniotomy\\nfor resection of tumor without interoperative complications.\\nThe patient was monitored in the Surgical Intensive Care\\nUnit.  Preoperatively the patient had bilateral left\\nhemianopsia.\\n\\nPAST MEDICAL HISTORY:  The patient has a past medical history\\nof status post lung carcinoma with lung resection in 7/99,\\nstatus post chemotherapy and XRT; hypercholesterolemia;\\ngastroesophageal re...</td>\n",
       "      <td>198.3;496;272.0;530.81;V10.11;15.9</td>\n",
       "      <td>False</td>\n",
       "      <td>52</td>\n",
       "      <td>657</td>\n",
       "      <td>601.5</td>\n",
       "    </tr>\n",
       "    <tr>\n",
       "      <th>5272</th>\n",
       "      <td>4462</td>\n",
       "      <td>156372</td>\n",
       "      <td>Admission Date:  [**2121-2-6**]       Discharge Date:  [**2121-2-13**]\\n\\n\\n\\nCHIEF COMPLAINT:  Severe chest pain, myocardial infarction.\\n\\nHISTORY OF PRESENT ILLNESS:  This is a very pleasant,\\n81-year-old previously healthy, elderly female with no\\nthe evening prior to admission the patient was awakened from\\nsleep by a [**9-18**] substernal chest pain.  At baseline the\\npatient is very active and suffers from no chest pain,\\nshortness of breath or dyspnea on exertion.  The episode\\nprecipitating admission was associated with diaphoresis,\\nsevere shortness of breath.  There was no assoc...</td>\n",
       "      <td>410.11;414.01;998.2;416.0;428.0;365.9;V43.64;36.01;36.06;37.23;88.56;99.20</td>\n",
       "      <td>False</td>\n",
       "      <td>38</td>\n",
       "      <td>1287</td>\n",
       "      <td>1148.6</td>\n",
       "    </tr>\n",
       "  </tbody>\n",
       "</table>\n",
       "<p>5273 rows × 8 columns</p>\n",
       "</div>"
      ],
      "text/plain": [
       "      subject_id  hadm_id  \\\n",
       "0          30088   172719   \n",
       "1          22624   138579   \n",
       "2          93593   164601   \n",
       "3          21976   187519   \n",
       "4          10676   142446   \n",
       "...          ...      ...   \n",
       "5268       15922   166147   \n",
       "5269        6285   189873   \n",
       "5270       91484   147153   \n",
       "5271       18395   101133   \n",
       "5272        4462   156372   \n",
       "\n",
       "                                                                                                                                                                                                                                                                                                                                                                                                                                                                                                                                                                                                                         text  \\\n",
       "0     Admission Date:  [**2179-3-7**]              Discharge Date:   [**2179-3-18**]\\n\\nDate of Birth:  [**2121-12-23**]             Sex:   M\\n\\nService: MEDICINE\\n\\nAllergies:\\nIbuprofen\\n\\nAttending:[**First Name3 (LF) 613**]\\nChief Complaint:\\ndyspnea, hyperkalemia\\n\\nMajor Surgical or Invasive Procedure:\\nHemodialysis\\nright Femoral central venous line placement and removal\\n\\n\\nHistory of Present Illness:\\n57 y/o M with hx of ESRD presents after intentionally missing\\ndialysis for last 9 days.  Came to the ED due to the coaxing of\\nhis wife.  Complains of SOB and DOE lasting about the last ...   \n",
       "1     Admission Date:  [**2117-1-21**]              Discharge Date:   [**2117-1-28**]\\n\\nDate of Birth:  [**2070-8-1**]             Sex:   M\\n\\nService: MEDICINE\\n\\nAllergies:\\nPatient recorded as having No Known Allergies to Drugs\\n\\nAttending:[**First Name3 (LF) 943**]\\nChief Complaint:\\nBright red blood in stools\\n\\nMajor Surgical or Invasive Procedure:\\nUpper endoscopy\\nColonoscopy\\nTransfusion of platelets and fresh frozen plasma\\n\\n\\nHistory of Present Illness:\\nIn brief, a 46-year-old man with etoh cirrhosis, varices s/p\\nbanding in [**12-9**], HCV not on treatment, who initially presente...   \n",
       "2     Admission Date:  [**2161-5-8**]              Discharge Date:   [**2161-5-12**]\\n\\n\\nService: MEDICINE\\n\\nAllergies:\\nPercocet\\n\\nAttending:[**First Name3 (LF) 1115**]\\nChief Complaint:\\nGI bleed / coffee-ground emesis.\\n\\nMajor Surgical or Invasive Procedure:\\nEGD\\nBlood transfusion\\n\\n\\nHistory of Present Illness:\\nPatient is an 87-y/o woman with a history of colon cancer s/p\\nright colectomy who presented today to the emergency room after\\n2 episodes of coffee-ground emesis at her rehab facility.\\nHistory was taken from family members as patient was in\\nsignificant discomfort with the NG...   \n",
       "3     Admission Date: [**2173-5-10**]        Discharge Date: [**2173-6-13**]\\n\\nDate of Birth:  [**2173-5-10**]        Sex:  M\\n\\nService:  NB\\n\\n\\nHISTORY OF PRESENT ILLNESS:  [**First Name8 (NamePattern2) 16518**] [**Known lastname 3175**] is the first\\nborn of twins at 33-2/7 weeks gestation born to a 34-year-old\\nG2 P1 woman, prenatal screens of blood type O positive,\\nantibody negative, Rubella immune, RPR nonreactive, hepatitis\\nB surface antigen negative, Group B strep status unknown.\\nEstimated date of confinement was [**2173-5-27**]. The\\npregnancy was a spontaneous twin gestation with ...   \n",
       "4     Admission Date:  [**2118-3-4**]       Discharge Date:  [**2118-3-17**]\\n\\nDate of Birth:   [**2052-5-23**]       Sex:  M\\n\\nService:  CCU\\n\\nHISTORY OF THE PRESENT ILLNESS:  The patient is a 65-year-old\\nwith known CAD who presented to an outside hospital on the\\nday of admission with right upper back pain.  The pain was\\nradiating to the left arm and he relates that this complaint\\nhas been occurring for at least several weeks.  This episode\\nis similar to his previous back pain which has been\\nunrelieved with NSAIDs in the past.  The pain is much worse\\nwith walking and is associated wit...   \n",
       "...                                                                                                                                                                                                                                                                                                                                                                                                                                                                                                                                                                                                                       ...   \n",
       "5268  Admission Date:  [**2149-1-9**]              Discharge Date:   [**2149-1-23**]\\n\\nDate of Birth:  [**2104-8-30**]             Sex:   M\\n\\nService: SURGERY\\n\\nAllergies:\\nPatient recorded as having No Known Allergies to Drugs\\n\\nAttending:[**First Name3 (LF) 668**]\\nChief Complaint:\\nESLD, to receive liver transplant\\n\\nMajor Surgical or Invasive Procedure:\\n[**2149-1-13**]: Orthotopic Liver transplant\\n\\nHistory of Present Illness:\\n44 y/o male with history of ESLD secondary to HCV and ETOH with\\nrecent admissions for management of the liver disease and\\ncurrent MELD score of 32 has receiv...   \n",
       "5269  Admission Date:  [**2195-9-14**]              Discharge Date:   [**2195-9-25**]\\n\\n\\nService: CARDIOTHORACIC\\n\\nAllergies:\\nCortisone\\n\\nAttending:[**First Name3 (LF) 1505**]\\nChief Complaint:\\n3 vessel CAD\\n\\n\\n\\nMajor Surgical or Invasive Procedure:\\nCABG x 3(SVG->LAD, SVG->RCA, SVG->OM)\\n\\n\\nHistory of Present Illness:\\n84 year old female w/ CAD, PAF, CRI, and labile hypertension\\nadmitted for catheterization on [**2195-9-14**].\\nPatient is s/p acute IMI in [**2195-4-5**] at which time she underwent\\na cardiac cath which showed severe 3VD.  LAD had 96% ostial\\nstenosis, with 60% mid-ves...   \n",
       "5270  Admission Date:  [**2194-6-27**]              Discharge Date:   [**2194-6-27**]\\n\\nDate of Birth:  [**2160-6-16**]             Sex:   M\\n\\nService: MEDICINE\\n\\nAllergies:\\nHaldol\\n\\nAttending:[**First Name3 (LF) 2712**]\\nChief Complaint:\\nfound down\\n\\nMajor Surgical or Invasive Procedure:\\nIntubation/extubation\\n\\n\\nHistory of Present Illness:\\n34 y.o male w/ unknown pmhx found down at [**Hospital1 778**] stadium. AAx1,\\nhemodynamically stable, responsive to sternal rub at the field.\\nText message mentioned adderall and suboxone as meds. No known\\nmedical history. FS was \"high.\"\\n.\\nIniti...   \n",
       "5271  Admission Date:  [**2119-4-26**]     Discharge Date:  [**2119-4-28**]\\n\\nDate of Birth:   [**2050-3-25**]     Sex:  F\\n\\nService:  NEUROSURGERY\\n\\nHISTORY:  The patient underwent right occipital craniotomy\\nfor resection of tumor without interoperative complications.\\nThe patient was monitored in the Surgical Intensive Care\\nUnit.  Preoperatively the patient had bilateral left\\nhemianopsia.\\n\\nPAST MEDICAL HISTORY:  The patient has a past medical history\\nof status post lung carcinoma with lung resection in 7/99,\\nstatus post chemotherapy and XRT; hypercholesterolemia;\\ngastroesophageal re...   \n",
       "5272  Admission Date:  [**2121-2-6**]       Discharge Date:  [**2121-2-13**]\\n\\n\\n\\nCHIEF COMPLAINT:  Severe chest pain, myocardial infarction.\\n\\nHISTORY OF PRESENT ILLNESS:  This is a very pleasant,\\n81-year-old previously healthy, elderly female with no\\nthe evening prior to admission the patient was awakened from\\nsleep by a [**9-18**] substernal chest pain.  At baseline the\\npatient is very active and suffers from no chest pain,\\nshortness of breath or dyspnea on exertion.  The episode\\nprecipitating admission was associated with diaphoresis,\\nsevere shortness of breath.  There was no assoc...   \n",
       "\n",
       "                                                                                                                                                                    labels  \\\n",
       "0     276.7;585.6;348.39;790.7;427.32;507.0;403.10;825.0;E888.9;300.9;301.9;250.62;357.2;250.42;285.21;278.01;427.31;250.82;V15.81;276.52;707.07;707.22;041.19;39.95;38.93   \n",
       "1                                                         455.5;303.00;571.2;291.81;070.70;284.8;286.7;562.10;571.1;211.2;456.21;305.1;276.8;45.13;45.23;99.05;99.07;96.34   \n",
       "2                                                     V10.05;V45.72;V15.82;788.30;531.40;998.59;682.6;438.89;728.87;458.29;564.09;401.9;285.9;294.8;311;272.0;E878.2;45.13   \n",
       "3                                        V31.00;765.17;765.27;770.2;745.5;774.2;779.3;770.6;772.6;770.81;779.81;V50.2;V05.3;V29.0;V18.0;754.81;64.0;93.9;99.15;99.83;99.55   \n",
       "4                                                                                        410.61;785.51;414.01;427.89;401.9;272.4;36.01;36.06;37.61;37.23;88.56;96.72;96.04   \n",
       "...                                                                                                                                                                    ...   \n",
       "5268                                                           570;070.70;571.2;572.2;276.1;286.7;780.09;303.93;251.8;E932.0;50.59;93.0;96.6;99.04;99.05;99.06;99.07;38.93   \n",
       "5269                                                                                        414.01;428.0;427.31;411.1;585.9;412;V58.61;401.9;36.13;37.22;39.61;88.52;88.55   \n",
       "5270                                                                                  965.00;304.01;276.1;305.60;305.70;305.90;250.00;276.7;285.9;709.8;E850.2;96.04;96.71   \n",
       "5271                                                                                                                                    198.3;496;272.0;530.81;V10.11;15.9   \n",
       "5272                                                                                            410.11;414.01;998.2;416.0;428.0;365.9;V43.64;36.01;36.06;37.23;88.56;99.20   \n",
       "\n",
       "      is_valid  min_code_freq  max_code_freq  median_code_freq  \n",
       "0        False              3           1437             351.0  \n",
       "1        False              6            339             224.1  \n",
       "2         True             11           1999             548.7  \n",
       "3        False              1            424             233.0  \n",
       "4        False              4           1999            1179.4  \n",
       "...        ...            ...            ...               ...  \n",
       "5268     False             11           1437             795.5  \n",
       "5269     False             52           1999            1295.8  \n",
       "5270      True              3           1017             903.0  \n",
       "5271     False             52            657             601.5  \n",
       "5272     False             38           1287            1148.6  \n",
       "\n",
       "[5273 rows x 8 columns]"
      ]
     },
     "execution_count": 29,
     "metadata": {},
     "output_type": "execute_result"
    }
   ],
   "source": [
    "df_sample_copy['min_code_freq'] = df_sample_copy.apply(\n",
    "    lambda row: min([sample_label_freq[label] for label in row.labels.split(';')]), axis=1)\n",
    "\n",
    "df_sample_copy['max_code_freq'] = df_sample_copy.apply(\n",
    "    lambda row: max([sample_label_freq[label] for label in row.labels.split(';')]), axis=1)\n",
    "\n",
    "df_sample_copy['median_code_freq'] = df_sample_copy.apply(\n",
    "    lambda row: np.percentile(np.array([sample_label_freq[label] for label in row.labels.split(';')]), 90), axis=1)\n",
    "\n",
    "df_sample_copy"
   ]
  },
  {
   "cell_type": "code",
   "execution_count": 30,
   "id": "a1fdd587",
   "metadata": {},
   "outputs": [
    {
     "data": {
      "image/png": "[encoded data removed]",
      "text/plain": [
       "<Figure size 1440x1440 with 6 Axes>"
      ]
     },
     "metadata": {
      "needs_background": "light"
     },
     "output_type": "display_data"
    }
   ],
   "source": [
    "fig, axes = plt.subplots(nrows=3, ncols=2, figsize=(20,20))\n",
    "\n",
    "for freq, axis in zip(['min_code_freq', 'max_code_freq', 'median_code_freq'], axes):\n",
    "    df_sample_copy[freq].hist(ax=axis[0], bins=25)\n",
    "    axis[0].set_xlabel(freq)\n",
    "    axis[0].set_ylabel('# of notes')\n",
    "    df_sample_copy[freq].plot.density(ax=axis[1])\n",
    "    axis[1].set_xlabel(freq)"
   ]
  },
  {
   "cell_type": "code",
   "execution_count": 31,
   "id": "f1c6c425",
   "metadata": {},
   "outputs": [],
   "source": [
    "min_code_freq = Counter(df_sample_copy.min_code_freq)\n",
    "max_code_freq = Counter(df_sample_copy.max_code_freq)\n",
    "median_code_freq = Counter(df_sample_copy.median_code_freq)"
   ]
  },
  {
   "cell_type": "code",
   "execution_count": 32,
   "id": "d4e48b2c",
   "metadata": {},
   "outputs": [
    {
     "data": {
      "text/plain": [
       "5273"
      ]
     },
     "execution_count": 32,
     "metadata": {},
     "output_type": "execute_result"
    }
   ],
   "source": [
    "total_notes = L(min_code_freq.values()).sum()\n",
    "total_notes"
   ]
  },
  {
   "cell_type": "code",
   "execution_count": 33,
   "id": "601831fd",
   "metadata": {},
   "outputs": [],
   "source": [
    "for kmin in min_code_freq:\n",
    "    min_code_freq[kmin] = (min_code_freq[kmin]/total_notes) * 100\n",
    "    \n",
    "for kmax in max_code_freq:\n",
    "    max_code_freq[kmax] = (max_code_freq[kmax]/total_notes) * 100\n",
    "    \n",
    "for kmedian in median_code_freq:\n",
    "    median_code_freq[kmedian] = (median_code_freq[kmedian]/total_notes) * 100"
   ]
  },
  {
   "cell_type": "code",
   "execution_count": 34,
   "id": "6faaa823",
   "metadata": {},
   "outputs": [],
   "source": [
    "min_code_freq = dict(sorted(min_code_freq.items(), key=lambda item: item[0]))\n",
    "max_code_freq = dict(sorted(max_code_freq.items(), key=lambda item: item[0]))\n",
    "median_code_freq = dict(sorted(median_code_freq.items(), key=lambda item: item[0]))"
   ]
  },
  {
   "cell_type": "code",
   "execution_count": 35,
   "id": "b6e36374",
   "metadata": {},
   "outputs": [
    {
     "data": {
      "image/png": "[encoded data removed]",
      "text/plain": [
       "<Figure size 1440x1440 with 6 Axes>"
      ]
     },
     "metadata": {
      "needs_background": "light"
     },
     "output_type": "display_data"
    }
   ],
   "source": [
    "fig, axes = plt.subplots(nrows=3, ncols=2, figsize=(20,20))\n",
    "\n",
    "for axis, freq_dict, label in zip(axes, (min_code_freq, max_code_freq, median_code_freq), ('min', 'max', 'median')):\n",
    "    axis[0].plot(freq_dict.keys(), freq_dict.values())\n",
    "    axis[0].set_xlabel(f'{label} code freq (f)')\n",
    "    axis[0].set_ylabel('% of notes ( P[f] )');\n",
    "\n",
    "    axis[1].plot(freq_dict.keys(), np.cumsum(list(freq_dict.values())))\n",
    "    axis[1].set_xlabel(f'{label} code freq (f)')\n",
    "    axis[1].set_ylabel('P[f<=t]');"
   ]
  },
  {
   "cell_type": "markdown",
   "id": "db5d9a18",
   "metadata": {},
   "source": [
    "The most frequent labels previously:"
   ]
  },
  {
   "cell_type": "code",
   "execution_count": 37,
   "id": "e582fa93",
   "metadata": {},
   "outputs": [
    {
     "ename": "NameError",
     "evalue": "name 'label_freq' is not defined",
     "output_type": "error",
     "traceback": [
      "\u001b[0;31m---------------------------------------------------------------------------\u001b[0m",
      "\u001b[0;31mNameError\u001b[0m                                 Traceback (most recent call last)",
      "\u001b[0;32m/tmp/ipykernel_3635/645020104.py\u001b[0m in \u001b[0;36m<module>\u001b[0;34m\u001b[0m\n\u001b[0;32m----> 1\u001b[0;31m \u001b[0mlabel_freq\u001b[0m\u001b[0;34m.\u001b[0m\u001b[0mmost_common\u001b[0m\u001b[0;34m(\u001b[0m\u001b[0;36m20\u001b[0m\u001b[0;34m)\u001b[0m\u001b[0;34m\u001b[0m\u001b[0;34m\u001b[0m\u001b[0m\n\u001b[0m",
      "\u001b[0;31mNameError\u001b[0m: name 'label_freq' is not defined"
     ]
    }
   ],
   "source": [
    "label_freq.most_common(20)"
   ]
  },
  {
   "cell_type": "markdown",
   "id": "0093828d",
   "metadata": {},
   "source": [
    "The most frequent lables after sampling:"
   ]
  },
  {
   "cell_type": "code",
   "execution_count": 36,
   "id": "b03eedd1",
   "metadata": {},
   "outputs": [
    {
     "data": {
      "text/plain": [
       "[('401.9', 1999),\n",
       " ('38.93', 1437),\n",
       " ('427.31', 1298),\n",
       " ('428.0', 1287),\n",
       " ('414.01', 1220),\n",
       " ('96.04', 1017),\n",
       " ('96.6', 939),\n",
       " ('96.71', 908),\n",
       " ('584.9', 907),\n",
       " ('272.4', 884),\n",
       " ('250.00', 883),\n",
       " ('518.81', 745),\n",
       " ('99.04', 734),\n",
       " ('599.0', 670),\n",
       " ('39.61', 667),\n",
       " ('530.81', 657),\n",
       " ('96.72', 584),\n",
       " ('285.9', 555),\n",
       " ('272.0', 546),\n",
       " ('88.56', 506)]"
      ]
     },
     "execution_count": 36,
     "metadata": {},
     "output_type": "execute_result"
    }
   ],
   "source": [
    "sample_label_freq.most_common(20)"
   ]
  },
  {
   "cell_type": "markdown",
   "id": "4b42bb64",
   "metadata": {},
   "source": [
    "Simply Incredible!"
   ]
  },
  {
   "cell_type": "code",
   "execution_count": 38,
   "id": "fd819923",
   "metadata": {},
   "outputs": [
    {
     "data": {
      "text/plain": [
       "18.11704834605598"
      ]
     },
     "execution_count": 38,
     "metadata": {},
     "output_type": "execute_result"
    }
   ],
   "source": [
    "array(list(sample_label_freq.values())).mean()"
   ]
  },
  {
   "cell_type": "markdown",
   "id": "562ec030",
   "metadata": {
    "jp-MarkdownHeadingCollapsed": true,
    "tags": []
   },
   "source": [
    "#### **Data Statistics Check #3 (Avg number of instances per label)_**:"
   ]
  },
  {
   "cell_type": "markdown",
   "id": "97cdd65e",
   "metadata": {},
   "source": [
    "- Original: ~98\n",
    "- After Sampling: ~38"
   ]
  },
  {
   "cell_type": "markdown",
   "id": "ccedca97",
   "metadata": {},
   "source": [
    "Let's now compute the average number of labels per instance:"
   ]
  },
  {
   "cell_type": "code",
   "execution_count": 39,
   "id": "35707553",
   "metadata": {},
   "outputs": [
    {
     "data": {
      "text/plain": [
       "0       25\n",
       "1       18\n",
       "2       18\n",
       "3       21\n",
       "4       13\n",
       "        ..\n",
       "5268    18\n",
       "5269    13\n",
       "5270    13\n",
       "5271     6\n",
       "5272    12\n",
       "Length: 5273, dtype: int64"
      ]
     },
     "execution_count": 39,
     "metadata": {},
     "output_type": "execute_result"
    }
   ],
   "source": [
    "labels_per_instance = df_sample.apply(lambda row: len(row.labels.split(';')), axis=1)\n",
    "labels_per_instance"
   ]
  },
  {
   "cell_type": "code",
   "execution_count": 40,
   "id": "f26ebf46",
   "metadata": {},
   "outputs": [
    {
     "data": {
      "text/plain": [
       "16.203299829319175"
      ]
     },
     "execution_count": 40,
     "metadata": {},
     "output_type": "execute_result"
    }
   ],
   "source": [
    "labels_per_instance.mean()"
   ]
  },
  {
   "cell_type": "markdown",
   "id": "648b8961",
   "metadata": {
    "jp-MarkdownHeadingCollapsed": true,
    "tags": []
   },
   "source": [
    "#### **Data Statistics Check #4 (Avg number of labels per instance)_**:"
   ]
  },
  {
   "cell_type": "markdown",
   "id": "9ecd816d",
   "metadata": {},
   "source": [
    "- Original: ~16\n",
    "- After Sampling: ~16"
   ]
  },
  {
   "cell_type": "markdown",
   "id": "7608d61e",
   "metadata": {},
   "source": [
    "Fantastic! Previously (in the original dataset) also it was also ~16."
   ]
  },
  {
   "cell_type": "markdown",
   "id": "5671c18f",
   "metadata": {},
   "source": [
    "Let's save this sample dataset we just created:"
   ]
  },
  {
   "cell_type": "code",
   "execution_count": 41,
   "id": "bbe263bb",
   "metadata": {},
   "outputs": [
    {
     "name": "stdout",
     "output_type": "stream",
     "text": [
      "\u001b[01;34m/home/deb/xcube/nbs/examples/mimic/data\u001b[00m\n",
      "├── notes_labelled.csv\n",
      "└── notes_labelled_sample.csv\n",
      "\n",
      "0 directories, 2 files\n"
     ]
    }
   ],
   "source": [
    "!tree {path_data}"
   ]
  },
  {
   "cell_type": "code",
   "execution_count": 43,
   "id": "b0cbdbb0",
   "metadata": {},
   "outputs": [],
   "source": [
    "df_sample.to_csv(path_data/'notes_labelled_sample_10percent.csv', index=False)"
   ]
  },
  {
   "cell_type": "markdown",
   "id": "dfacfb18",
   "metadata": {
    "jp-MarkdownHeadingCollapsed": true,
    "tags": []
   },
   "source": [
    "## Creating a Dataframe with ICD9 codes and the corresponding descriptions:"
   ]
  },
  {
   "cell_type": "code",
   "execution_count": null,
   "id": "acc4598c",
   "metadata": {},
   "outputs": [
    {
     "data": {
      "text/plain": [
       "Path('/home/ubuntu/codemimic/data2/ICD9_descriptions')"
      ]
     },
     "execution_count": null,
     "metadata": {},
     "output_type": "execute_result"
    }
   ],
   "source": [
    "file_descrip = path_data/'ICD9_descriptions'\n",
    "file_descrip"
   ]
  },
  {
   "cell_type": "code",
   "execution_count": null,
   "id": "ee5d77c8",
   "metadata": {},
   "outputs": [],
   "source": [
    "lines = L()\n",
    "with open(file_descrip, 'r') as f: lines += L(*f.readlines())"
   ]
  },
  {
   "cell_type": "code",
   "execution_count": null,
   "id": "89f869d8",
   "metadata": {},
   "outputs": [
    {
     "name": "stdout",
     "output_type": "stream",
     "text": [
      "21164 /home/ubuntu/codemimic/data2/ICD9_descriptions\n"
     ]
    }
   ],
   "source": [
    "!wc -l {path_data/'ICD9_descriptions'}"
   ]
  },
  {
   "cell_type": "code",
   "execution_count": null,
   "id": "f2f7ce3a",
   "metadata": {},
   "outputs": [
    {
     "data": {
      "text/plain": [
       "21164"
      ]
     },
     "execution_count": null,
     "metadata": {},
     "output_type": "execute_result"
    }
   ],
   "source": [
    "lines = [l.strip().split('\\t') for l in lines]\n",
    "len(lines)"
   ]
  },
  {
   "cell_type": "markdown",
   "id": "1ae1f9db",
   "metadata": {},
   "source": [
    "Take a look at an example line:"
   ]
  },
  {
   "cell_type": "code",
   "execution_count": null,
   "id": "5f63814a",
   "metadata": {},
   "outputs": [
    {
     "data": {
      "text/plain": [
       "['00.09', 'Other therapeutic ultrasound']"
      ]
     },
     "execution_count": null,
     "metadata": {},
     "output_type": "execute_result"
    }
   ],
   "source": [
    "lines[7]"
   ]
  },
  {
   "cell_type": "markdown",
   "id": "d60105bf",
   "metadata": {},
   "source": [
    "Covert this into a dataframe:"
   ]
  },
  {
   "cell_type": "code",
   "execution_count": null,
   "id": "4d4bf6e9",
   "metadata": {},
   "outputs": [
    {
     "data": {
      "text/html": [
       "<div>\n",
       "<style scoped>\n",
       "    .dataframe tbody tr th:only-of-type {\n",
       "        vertical-align: middle;\n",
       "    }\n",
       "\n",
       "    .dataframe tbody tr th {\n",
       "        vertical-align: top;\n",
       "    }\n",
       "\n",
       "    .dataframe thead th {\n",
       "        text-align: right;\n",
       "    }\n",
       "</style>\n",
       "<table border=\"1\" class=\"dataframe\">\n",
       "  <thead>\n",
       "    <tr style=\"text-align: right;\">\n",
       "      <th></th>\n",
       "      <th>ICD9_code</th>\n",
       "      <th>description</th>\n",
       "    </tr>\n",
       "  </thead>\n",
       "  <tbody>\n",
       "    <tr>\n",
       "      <th>0</th>\n",
       "      <td>@</td>\n",
       "      <td>ICD9 Hierarchy Root</td>\n",
       "    </tr>\n",
       "    <tr>\n",
       "      <th>1</th>\n",
       "      <td>00</td>\n",
       "      <td>Procedures and interventions, Not Elsewhere Classified</td>\n",
       "    </tr>\n",
       "    <tr>\n",
       "      <th>2</th>\n",
       "      <td>00-99.99</td>\n",
       "      <td>PROCEDURES</td>\n",
       "    </tr>\n",
       "    <tr>\n",
       "      <th>3</th>\n",
       "      <td>00.0</td>\n",
       "      <td>Therapeutic ultrasound</td>\n",
       "    </tr>\n",
       "    <tr>\n",
       "      <th>4</th>\n",
       "      <td>00.01</td>\n",
       "      <td>Therapeutic ultrasound of vessels of head and neck</td>\n",
       "    </tr>\n",
       "    <tr>\n",
       "      <th>...</th>\n",
       "      <td>...</td>\n",
       "      <td>...</td>\n",
       "    </tr>\n",
       "    <tr>\n",
       "      <th>21159</th>\n",
       "      <td>V85.54</td>\n",
       "      <td>Body Mass Index, pediatric, greater than or equal to 95th percentile for age</td>\n",
       "    </tr>\n",
       "    <tr>\n",
       "      <th>21160</th>\n",
       "      <td>V86</td>\n",
       "      <td>Estrogen receptor status</td>\n",
       "    </tr>\n",
       "    <tr>\n",
       "      <th>21161</th>\n",
       "      <td>V86-V86.99</td>\n",
       "      <td>ESTROGEN RECEPTOR STATUS</td>\n",
       "    </tr>\n",
       "    <tr>\n",
       "      <th>21162</th>\n",
       "      <td>V86.0</td>\n",
       "      <td>Estrogen receptor positive status [ER+]</td>\n",
       "    </tr>\n",
       "    <tr>\n",
       "      <th>21163</th>\n",
       "      <td>V86.1</td>\n",
       "      <td>Estrogen receptor negative status [ER-]</td>\n",
       "    </tr>\n",
       "  </tbody>\n",
       "</table>\n",
       "<p>21164 rows × 2 columns</p>\n",
       "</div>"
      ],
      "text/plain": [
       "        ICD9_code  \\\n",
       "0               @   \n",
       "1              00   \n",
       "2        00-99.99   \n",
       "3            00.0   \n",
       "4           00.01   \n",
       "...           ...   \n",
       "21159      V85.54   \n",
       "21160         V86   \n",
       "21161  V86-V86.99   \n",
       "21162       V86.0   \n",
       "21163       V86.1   \n",
       "\n",
       "                                                                        description  \n",
       "0                                                               ICD9 Hierarchy Root  \n",
       "1                            Procedures and interventions, Not Elsewhere Classified  \n",
       "2                                                                        PROCEDURES  \n",
       "3                                                            Therapeutic ultrasound  \n",
       "4                                Therapeutic ultrasound of vessels of head and neck  \n",
       "...                                                                             ...  \n",
       "21159  Body Mass Index, pediatric, greater than or equal to 95th percentile for age  \n",
       "21160                                                      Estrogen receptor status  \n",
       "21161                                                      ESTROGEN RECEPTOR STATUS  \n",
       "21162                                       Estrogen receptor positive status [ER+]  \n",
       "21163                                       Estrogen receptor negative status [ER-]  \n",
       "\n",
       "[21164 rows x 2 columns]"
      ]
     },
     "execution_count": null,
     "metadata": {},
     "output_type": "execute_result"
    }
   ],
   "source": [
    "df_descrip = pd.DataFrame(lines, columns=['ICD9_code', 'description'])\n",
    "df_descrip"
   ]
  },
  {
   "cell_type": "markdown",
   "id": "ec4ecde0",
   "metadata": {},
   "source": [
    "Now we will save this dataframe into a csv file:"
   ]
  },
  {
   "cell_type": "code",
   "execution_count": null,
   "id": "8e4cf862",
   "metadata": {},
   "outputs": [],
   "source": [
    "df_descrip.to_csv(path_data/'processed'/'code_descriptions.csv', index=False)"
   ]
  }
 ],
 "metadata": {
  "kernelspec": {
   "display_name": "Python 3 (ipykernel)",
   "language": "python",
   "name": "python3"
  },
  "language_info": {
   "codemirror_mode": {
    "name": "ipython",
    "version": 3
   },
   "file_extension": ".py",
   "mimetype": "text/x-python",
   "name": "python",
   "nbconvert_exporter": "python",
   "pygments_lexer": "ipython3",
   "version": "3.9.12"
  }
 },
 "nbformat": 4,
 "nbformat_minor": 5
}
