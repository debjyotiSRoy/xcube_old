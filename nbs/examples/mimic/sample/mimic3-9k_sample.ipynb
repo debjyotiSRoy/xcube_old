{
 "cells": [
  {
   "cell_type": "code",
   "execution_count": 1,
   "id": "6c4623f6-43a3-4d46-9059-b65d8ee95562",
   "metadata": {
    "tags": []
   },
   "outputs": [],
   "source": [
    "#hide\n",
    "#skip\n",
    "! [ -e /content ] && pip install -Uqq fastai  # upgrade fastai on colab"
   ]
  },
  {
   "cell_type": "code",
   "execution_count": 2,
   "id": "27b40bc0-c654-4803-aba1-59e75c4450a6",
   "metadata": {},
   "outputs": [],
   "source": [
    "%load_ext autoreload\n",
    "%autoreload 2"
   ]
  },
  {
   "cell_type": "markdown",
   "id": "351448fd-b3d7-4872-9bfe-b19c09d16c13",
   "metadata": {
    "tags": []
   },
   "source": [
    "# Mimic3-9K (Sample)\n",
    "\n",
    "> API details"
   ]
  },
  {
   "cell_type": "code",
   "execution_count": 3,
   "id": "221be366-f6ee-4e37-9905-6649e850b9af",
   "metadata": {},
   "outputs": [],
   "source": [
    "import fastbook\n",
    "fastbook.setup_book()\n",
    "\n",
    "from fastbook import *"
   ]
  },
  {
   "cell_type": "markdown",
   "id": "7b696f14-b657-4a62-9317-b78d5625fb09",
   "metadata": {},
   "source": [
    "Application specific imports"
   ]
  },
  {
   "cell_type": "code",
   "execution_count": 4,
   "id": "a6361109-5606-4b3a-b69a-9e8a033191fd",
   "metadata": {},
   "outputs": [],
   "source": [
    "from fastai.text.all import *\n",
    "from fastai.distributed import *\n",
    "\n",
    "from xcube.text.learner import text_classifier_learner\n",
    "from xcube.metrics import PrecisionK"
   ]
  },
  {
   "cell_type": "markdown",
   "id": "36823127-3853-4817-a095-bd6e30d6d807",
   "metadata": {
    "jp-MarkdownHeadingCollapsed": true,
    "tags": []
   },
   "source": [
    "#### Setting the base path as the path of the repository"
   ]
  },
  {
   "cell_type": "code",
   "execution_count": 5,
   "id": "5a105e04-718d-4d4b-a038-dd8a2e51a8b1",
   "metadata": {},
   "outputs": [],
   "source": [
    "def namestr(obj, namespace):\n",
    "    \"Returns the name of the object `obj` passed\"\n",
    "    return [name for name in namespace if namespace[name] is obj]"
   ]
  },
  {
   "cell_type": "code",
   "execution_count": 6,
   "id": "d988a425-bb45-492b-9af3-d89a0ee2bad3",
   "metadata": {},
   "outputs": [],
   "source": [
    "a = 'some_var'\n",
    "test_eq(namestr(a, globals()), ['a'])"
   ]
  },
  {
   "cell_type": "code",
   "execution_count": 7,
   "id": "70f0d107-24df-420b-bb3d-c4dbfc41a4e9",
   "metadata": {
    "tags": []
   },
   "outputs": [
    {
     "name": "stdout",
     "output_type": "stream",
     "text": [
      "path = /home/deb/xcube/nbs/examples/mimic/sample\n",
      "path_data = /home/deb/xcube/nbs/examples/mimic/sample/data\n",
      "path_model = /home/deb/xcube/nbs/examples/mimic/sample/models\n",
      "data = /home/deb/xcube/nbs/examples/mimic/sample/data/mimic3-9k.csv\n",
      "dls_lm_path = /home/deb/xcube/nbs/examples/mimic/sample/models/mimic3-9k_dls_lm.pkl\n",
      "dls_lm_r_path = /home/deb/xcube/nbs/examples/mimic/sample/models/mimic3-9k_dls_lm_r.pkl\n",
      "dls_lm_vocab_path = /home/deb/xcube/nbs/examples/mimic/sample/models/mimic3-9k_dls_lm_vocab.pkl\n",
      "dls_lm_vocab_r_path = /home/deb/xcube/nbs/examples/mimic/sample/models/mimic3-9k_dls_lm_vocab_r.pkl\n",
      "lm_path = /home/deb/xcube/nbs/examples/mimic/sample/models/mimic3-9k_lm.pth\n",
      "lm_r_path = /home/deb/xcube/nbs/examples/mimic/sample/models/mimic3-9k_lm_r.pth\n",
      "lm_finetuned_path = /home/deb/xcube/nbs/examples/mimic/sample/models/mimic3-9k_lm_finetuned.pth\n",
      "lm_finetuned_r_path = /home/deb/xcube/nbs/examples/mimic/sample/models/mimic3-9k_lm_finetuned_r.pth\n",
      "dsets_clas_path = /home/deb/xcube/nbs/examples/mimic/sample/models/mimic3-9k_dset_clas.pkl\n",
      "dsets_clas_r_path = /home/deb/xcube/nbs/examples/mimic/sample/models/mimic3-9k_dset_clas_r.pkl\n",
      "dls_clas_path = /home/deb/xcube/nbs/examples/mimic/sample/models/mimic3-9k_dls_clas.pkl\n",
      "dls_clas_r_path = /home/deb/xcube/nbs/examples/mimic/sample/models/mimic3-9k_dls_clas_r.pkl\n",
      "clas_path = /home/deb/xcube/nbs/examples/mimic/sample/models/mimic3-9k_clas.pth\n",
      "clas_r_path = /home/deb/xcube/nbs/examples/mimic/sample/models/mimic3-9k_clas_r.pth\n"
     ]
    }
   ],
   "source": [
    "path = Path.cwd()\n",
    "path_data = path/'data'\n",
    "path_model = path/'models'\n",
    "\n",
    "path_model.mkdir(exist_ok=True)\n",
    "path_data.mkdir(exist_ok=True)\n",
    "\n",
    "file_prefix = 'mimic3-9k'\n",
    "\n",
    "data = path_data/(file_prefix+'.csv')\n",
    "dls_lm_path, dls_lm_r_path = path_model/f\"{file_prefix}_dls_lm.pkl\", path_model/f\"{file_prefix}_dls_lm_r.pkl\"\n",
    "dls_lm_vocab_path, dls_lm_vocab_r_path = path_model/f\"{file_prefix}_dls_lm_vocab.pkl\", path_model/f\"{file_prefix}_dls_lm_vocab_r.pkl\"\n",
    "lm_path, lm_r_path = path_model/f\"{file_prefix}_lm.pth\", path_model/f\"{file_prefix}_lm_r.pth\"\n",
    "lm_finetuned_path, lm_finetuned_r_path = path_model/f\"{file_prefix}_lm_finetuned.pth\", path_model/f\"{file_prefix}_lm_finetuned_r.pth\"\n",
    "dsets_clas_path, dsets_clas_r_path = path_model/f\"{file_prefix}_dset_clas.pkl\", path_model/f\"{file_prefix}_dset_clas_r.pkl\"\n",
    "dls_clas_path, dls_clas_r_path = path_model/f\"{file_prefix}_dls_clas.pkl\", path_model/f\"{file_prefix}_dls_clas_r.pkl\"\n",
    "clas_path, clas_r_path = path_model/f\"{file_prefix}_clas.pth\", path_model/f\"{file_prefix}_clas_r.pth\"\n",
    "\n",
    "plist = [path, path_data, path_model, \n",
    "         data, \n",
    "         dls_lm_path, dls_lm_r_path,\n",
    "         dls_lm_vocab_path, dls_lm_vocab_r_path,\n",
    "         lm_path, lm_r_path,\n",
    "         lm_finetuned_path, lm_finetuned_r_path,\n",
    "         dsets_clas_path, dsets_clas_r_path,\n",
    "         dls_clas_path, dls_clas_r_path,\n",
    "         clas_path, clas_r_path]\n",
    "for o in plist:\n",
    "    print(f\"{namestr(o, globals())[0]} = {o}\")"
   ]
  },
  {
   "cell_type": "markdown",
   "id": "fc4edcba-f180-42f3-ab22-715126cad5ba",
   "metadata": {},
   "source": [
    "In this notebook we are going to create a small sample for the purpose of quick iteration. So below let's create some symlinks that we are going to point to the the main dataset and the language model (Only nned to run the following symlinks once):"
   ]
  },
  {
   "cell_type": "markdown",
   "id": "4a2c08df-736d-4fe1-80b1-bc9eaffa81a1",
   "metadata": {},
   "source": [
    "To be safe, delete any existing symlinks:"
   ]
  },
  {
   "cell_type": "code",
   "execution_count": 40,
   "id": "496b466c-c9fc-4b71-a28c-0640bbb54f52",
   "metadata": {},
   "outputs": [],
   "source": [
    "for p in plist:\n",
    "    if p.is_symlink(): p.unlink()"
   ]
  },
  {
   "cell_type": "markdown",
   "id": "c57beb41-1536-4bef-8d9b-45889ca43dd4",
   "metadata": {},
   "source": [
    "Symlink the data:"
   ]
  },
  {
   "cell_type": "code",
   "execution_count": 41,
   "id": "19cc3c66-ec0a-4c41-a82f-84ffb8aaceeb",
   "metadata": {},
   "outputs": [
    {
     "data": {
      "text/plain": [
       "Path('/home/deb/xcube/nbs/examples/mimic/sample/data/mimic3-9k.csv')"
      ]
     },
     "execution_count": 41,
     "metadata": {},
     "output_type": "execute_result"
    }
   ],
   "source": [
    "data.symlink_to(path.parent/'data'/(file_prefix+'.csv'))\n",
    "data"
   ]
  },
  {
   "cell_type": "markdown",
   "id": "7030428b-151e-48bb-a06f-3ca6651fe9d4",
   "metadata": {},
   "source": [
    "Symlink the language model (fwd and bwd):"
   ]
  },
  {
   "cell_type": "code",
   "execution_count": 42,
   "id": "30c12140-a1e7-4b4c-a2a6-eff5c4f5c5e5",
   "metadata": {},
   "outputs": [
    {
     "data": {
      "text/plain": [
       "(True,\n",
       " Path('/home/deb/xcube/nbs/examples/mimic/sample/models/mimic3-9k_lm.pth'))"
      ]
     },
     "execution_count": 42,
     "metadata": {},
     "output_type": "execute_result"
    }
   ],
   "source": [
    "lm_path.symlink_to(path.parent/'models'/(file_prefix+'_lm.pth'))\n",
    "lm_path.exists(), lm_path"
   ]
  },
  {
   "cell_type": "code",
   "execution_count": 43,
   "id": "46cc7403-8d5c-4d6b-9050-fffdb0c048b1",
   "metadata": {},
   "outputs": [
    {
     "data": {
      "text/plain": [
       "(True,\n",
       " Path('/home/deb/xcube/nbs/examples/mimic/sample/models/mimic3-9k_lm_r.pth'))"
      ]
     },
     "execution_count": 43,
     "metadata": {},
     "output_type": "execute_result"
    }
   ],
   "source": [
    "lm_r_path.symlink_to(path.parent/'models'/(file_prefix+'_lm_r.pth'))\n",
    "lm_r_path.exists(), lm_r_path"
   ]
  },
  {
   "cell_type": "markdown",
   "id": "0d391b1e-4e90-4bc1-abcc-34a8c7468fa9",
   "metadata": {},
   "source": [
    "Symlink the language model encoder (fwd and bwd):"
   ]
  },
  {
   "cell_type": "code",
   "execution_count": 44,
   "id": "79a8e28a-be53-467d-bc76-6c39eadec6ad",
   "metadata": {},
   "outputs": [
    {
     "data": {
      "text/plain": [
       "(True,\n",
       " Path('/home/deb/xcube/nbs/examples/mimic/sample/models/mimic3-9k_lm_finetuned.pth'))"
      ]
     },
     "execution_count": 44,
     "metadata": {},
     "output_type": "execute_result"
    }
   ],
   "source": [
    "lm_finetuned_path.symlink_to(path.parent/'models'/(file_prefix+'_lm_finetuned.pth'))\n",
    "lm_finetuned_path.exists(), lm_finetuned_path"
   ]
  },
  {
   "cell_type": "code",
   "execution_count": 45,
   "id": "2966cf46-9e81-4606-a47d-32f0c42d477a",
   "metadata": {},
   "outputs": [
    {
     "data": {
      "text/plain": [
       "(True,\n",
       " Path('/home/deb/xcube/nbs/examples/mimic/sample/models/mimic3-9k_lm_finetuned_r.pth'))"
      ]
     },
     "execution_count": 45,
     "metadata": {},
     "output_type": "execute_result"
    }
   ],
   "source": [
    "lm_finetuned_r_path.symlink_to(path.parent/'models'/(file_prefix+'_lm_finetuned_r.pth'))\n",
    "lm_finetuned_r_path.exists(), lm_finetuned_r_path"
   ]
  },
  {
   "cell_type": "markdown",
   "id": "174c1057-604f-4022-81a3-882e4ce764e7",
   "metadata": {},
   "source": [
    "Symlink the language model vocab (fwd and bwd): (Well we don't really need both as those are same.)"
   ]
  },
  {
   "cell_type": "code",
   "execution_count": 46,
   "id": "8819b3a1-9d9d-443f-8cc1-bcdb9744c2e1",
   "metadata": {},
   "outputs": [
    {
     "data": {
      "text/plain": [
       "(True,\n",
       " Path('/home/deb/xcube/nbs/examples/mimic/sample/models/mimic3-9k_dls_lm_vocab.pkl'))"
      ]
     },
     "execution_count": 46,
     "metadata": {},
     "output_type": "execute_result"
    }
   ],
   "source": [
    "dls_lm_vocab_path.symlink_to(path.parent/'models'/(file_prefix+'_dls_lm_vocab.pkl'))\n",
    "dls_lm_vocab_path.exists(), dls_lm_vocab_path"
   ]
  },
  {
   "cell_type": "code",
   "execution_count": 47,
   "id": "9ea9deb1-df39-4b3e-b958-ef4252e1e8e0",
   "metadata": {},
   "outputs": [
    {
     "data": {
      "text/plain": [
       "(True,\n",
       " Path('/home/deb/xcube/nbs/examples/mimic/sample/models/mimic3-9k_dls_lm_vocab_r.pkl'))"
      ]
     },
     "execution_count": 47,
     "metadata": {},
     "output_type": "execute_result"
    }
   ],
   "source": [
    "dls_lm_vocab_r_path.symlink_to(path.parent/'models'/(file_prefix+'_dls_lm_vocab_r.pkl'))\n",
    "dls_lm_vocab_r_path.exists(), dls_lm_vocab_r_path"
   ]
  },
  {
   "cell_type": "markdown",
   "id": "b94d38cc-a7f6-41e8-a03a-fdf9ab0425e7",
   "metadata": {
    "jp-MarkdownHeadingCollapsed": true,
    "tags": []
   },
   "source": [
    "## `DataLoaders` for the Language Model"
   ]
  },
  {
   "cell_type": "markdown",
   "id": "9ac59c07-e293-4b5f-bd04-d6713a666149",
   "metadata": {},
   "source": [
    "To be able to use Transfer Learning, first we need to fine-tune our Language Model (which we pretrained on Wikipedia) on the corpus of Wiki-500k (the one we downloaded). Here we will build the `DataLoaders` object using fastai's `DataBlock` API:"
   ]
  },
  {
   "cell_type": "code",
   "execution_count": 30,
   "id": "d07bee19-b1d9-492a-bc50-a32a1b049208",
   "metadata": {},
   "outputs": [],
   "source": [
    "# !head -n 1 {data}"
   ]
  },
  {
   "cell_type": "code",
   "execution_count": 35,
   "id": "c15a2fca-bf86-4a13-ba60-1bcfe8f41762",
   "metadata": {},
   "outputs": [
    {
     "data": {
      "text/plain": [
       "52726"
      ]
     },
     "execution_count": 35,
     "metadata": {},
     "output_type": "execute_result"
    }
   ],
   "source": [
    "df = pd.read_csv(data,\n",
    "                 header=0,\n",
    "                 names=['subject_id', 'hadm_id', 'text', 'labels', 'length', 'is_valid'],\n",
    "                 dtype={'subject_id': str, 'hadm_id': str, 'text': str, 'labels': str, 'length': np.int64, 'is_valid': bool})\n",
    "len(df)"
   ]
  },
  {
   "cell_type": "code",
   "execution_count": 36,
   "id": "3cbe3d5e-f89d-4bc3-948c-0b0b207daa7c",
   "metadata": {},
   "outputs": [],
   "source": [
    "df[['text', 'labels']] = df[['text', 'labels']].astype(str)"
   ]
  },
  {
   "cell_type": "markdown",
   "id": "2eb1bab1-78f8-4ada-84e2-36d87d7e805f",
   "metadata": {},
   "source": [
    "Let's take a look at the data:"
   ]
  },
  {
   "cell_type": "code",
   "execution_count": 37,
   "id": "01c248e5-774b-46f1-8dca-64bab545f716",
   "metadata": {
    "collapsed": true,
    "jupyter": {
     "outputs_hidden": true
    },
    "tags": []
   },
   "outputs": [
    {
     "data": {
      "text/html": [
       "<div>\n",
       "<style scoped>\n",
       "    .dataframe tbody tr th:only-of-type {\n",
       "        vertical-align: middle;\n",
       "    }\n",
       "\n",
       "    .dataframe tbody tr th {\n",
       "        vertical-align: top;\n",
       "    }\n",
       "\n",
       "    .dataframe thead th {\n",
       "        text-align: right;\n",
       "    }\n",
       "</style>\n",
       "<table border=\"1\" class=\"dataframe\">\n",
       "  <thead>\n",
       "    <tr style=\"text-align: right;\">\n",
       "      <th></th>\n",
       "      <th>subject_id</th>\n",
       "      <th>hadm_id</th>\n",
       "      <th>text</th>\n",
       "      <th>labels</th>\n",
       "      <th>length</th>\n",
       "      <th>is_valid</th>\n",
       "    </tr>\n",
       "  </thead>\n",
       "  <tbody>\n",
       "    <tr>\n",
       "      <th>0</th>\n",
       "      <td>86006</td>\n",
       "      <td>111912</td>\n",
       "      <td>admission date discharge date date of birth sex f service surgery allergies patient recorded as having no known allergies to drugs attending first name3 lf chief complaint 60f on coumadin was found slightly drowsy tonight then fell down stairs paramedic found her unconscious and she was intubated w o any medication head ct shows multiple iph transferred to hospital1 for further eval major surgical or invasive procedure none past medical history her medical history is significant for hypertension osteoarthritis involving bilateral knee joints with a dependence on cane for ambulation chronic...</td>\n",
       "      <td>801.35;348.4;805.06;807.01;998.30;707.24;E880.9;427.31;414.01;401.9;V58.61;V43.64;707.00;E878.1;96.71</td>\n",
       "      <td>230</td>\n",
       "      <td>False</td>\n",
       "    </tr>\n",
       "    <tr>\n",
       "      <th>1</th>\n",
       "      <td>85950</td>\n",
       "      <td>189769</td>\n",
       "      <td>admission date discharge date service neurosurgery allergies sulfa sulfonamides attending first name3 lf chief complaint cc cc contact info major surgical or invasive procedure none history of present illness hpi 88m who lives with family had fall yesterday today had decline in mental status ems called pt was unresponsive on arrival went to osh head ct showed large r sdh pt was intubated at osh and transferred to hospital1 for further care past medical history cad s p mi in s p cabg in ventricular aneurysm at that time cath in with occluded rca unable to intervene chf reported ef 1st degre...</td>\n",
       "      <td>852.25;E888.9;403.90;585.9;250.00;414.00;V45.81;96.71</td>\n",
       "      <td>304</td>\n",
       "      <td>False</td>\n",
       "    </tr>\n",
       "    <tr>\n",
       "      <th>2</th>\n",
       "      <td>88025</td>\n",
       "      <td>180431</td>\n",
       "      <td>admission date discharge date date of birth sex f service surgery allergies no known allergies adverse drug reactions attending first name3 lf chief complaint s p fall major surgical or invasive procedure none history of present illness 45f etoh s p fall from window at feet found ambulating and slurring speech on scene intubated en route for declining mental status in the er the patient was found to be bradycardic to the s with bp of systolic she was given atropine dilantin and was started on saline past medical history unknown social history unknown family history unknown physical exam ex...</td>\n",
       "      <td>518.81;348.4;348.82;801.25;427.89;E882;V49.86;305.00;96.71;38.93</td>\n",
       "      <td>359</td>\n",
       "      <td>False</td>\n",
       "    </tr>\n",
       "  </tbody>\n",
       "</table>\n",
       "</div>"
      ],
      "text/plain": [
       "  subject_id hadm_id  \\\n",
       "0      86006  111912   \n",
       "1      85950  189769   \n",
       "2      88025  180431   \n",
       "\n",
       "                                                                                                                                                                                                                                                                                                                                                                                                                                                                                                                                                                                                                      text  \\\n",
       "0  admission date discharge date date of birth sex f service surgery allergies patient recorded as having no known allergies to drugs attending first name3 lf chief complaint 60f on coumadin was found slightly drowsy tonight then fell down stairs paramedic found her unconscious and she was intubated w o any medication head ct shows multiple iph transferred to hospital1 for further eval major surgical or invasive procedure none past medical history her medical history is significant for hypertension osteoarthritis involving bilateral knee joints with a dependence on cane for ambulation chronic...   \n",
       "1  admission date discharge date service neurosurgery allergies sulfa sulfonamides attending first name3 lf chief complaint cc cc contact info major surgical or invasive procedure none history of present illness hpi 88m who lives with family had fall yesterday today had decline in mental status ems called pt was unresponsive on arrival went to osh head ct showed large r sdh pt was intubated at osh and transferred to hospital1 for further care past medical history cad s p mi in s p cabg in ventricular aneurysm at that time cath in with occluded rca unable to intervene chf reported ef 1st degre...   \n",
       "2  admission date discharge date date of birth sex f service surgery allergies no known allergies adverse drug reactions attending first name3 lf chief complaint s p fall major surgical or invasive procedure none history of present illness 45f etoh s p fall from window at feet found ambulating and slurring speech on scene intubated en route for declining mental status in the er the patient was found to be bradycardic to the s with bp of systolic she was given atropine dilantin and was started on saline past medical history unknown social history unknown family history unknown physical exam ex...   \n",
       "\n",
       "                                                                                                  labels  \\\n",
       "0  801.35;348.4;805.06;807.01;998.30;707.24;E880.9;427.31;414.01;401.9;V58.61;V43.64;707.00;E878.1;96.71   \n",
       "1                                                  852.25;E888.9;403.90;585.9;250.00;414.00;V45.81;96.71   \n",
       "2                                       518.81;348.4;348.82;801.25;427.89;E882;V49.86;305.00;96.71;38.93   \n",
       "\n",
       "   length  is_valid  \n",
       "0     230     False  \n",
       "1     304     False  \n",
       "2     359     False  "
      ]
     },
     "execution_count": 37,
     "metadata": {},
     "output_type": "execute_result"
    }
   ],
   "source": [
    "df.head(3)"
   ]
  },
  {
   "cell_type": "markdown",
   "id": "66718388-da8d-4f38-ae96-efb29e2e5e83",
   "metadata": {},
   "source": [
    "We will now create the `DataLoaders` using `DataBlock` API:"
   ]
  },
  {
   "cell_type": "code",
   "execution_count": 13,
   "id": "a888ae1e-3c7e-4394-876d-ff79f8679411",
   "metadata": {},
   "outputs": [
    {
     "data": {
      "text/html": [
       "\n",
       "<style>\n",
       "    /* Turns off some styling */\n",
       "    progress {\n",
       "        /* gets rid of default border in Firefox and Opera. */\n",
       "        border: none;\n",
       "        /* Needs to be in here for Safari polyfill so background images work as expected. */\n",
       "        background-size: auto;\n",
       "    }\n",
       "    .progress-bar-interrupted, .progress-bar-interrupted::-webkit-progress-bar {\n",
       "        background: #F44336;\n",
       "    }\n",
       "</style>\n"
      ],
      "text/plain": [
       "<IPython.core.display.HTML object>"
      ]
     },
     "metadata": {},
     "output_type": "display_data"
    },
    {
     "data": {
      "text/html": [],
      "text/plain": [
       "<IPython.core.display.HTML object>"
      ]
     },
     "metadata": {},
     "output_type": "display_data"
    }
   ],
   "source": [
    "dls_lm = DataBlock(\n",
    "    blocks   = TextBlock.from_df('text', is_lm=True),\n",
    "    get_x    = ColReader('text'),\n",
    "    splitter = RandomSplitter(0.1)\n",
    ").dataloaders(df, bs=384, seq_len=80)"
   ]
  },
  {
   "cell_type": "markdown",
   "id": "109ad077-b9ba-4567-897c-1fd69fbf7e4e",
   "metadata": {},
   "source": [
    "Let's take a look at the batches:"
   ]
  },
  {
   "cell_type": "code",
   "execution_count": 45,
   "id": "fb5eb28e-94a7-4448-a4e3-0151959e16ba",
   "metadata": {
    "collapsed": true,
    "jupyter": {
     "outputs_hidden": true
    },
    "tags": []
   },
   "outputs": [
    {
     "name": "stderr",
     "output_type": "stream",
     "text": [
      "/home/deb/miniconda3/lib/python3.9/site-packages/fastai/torch_core.py:476: FutureWarning: The series.append method is deprecated and will be removed from pandas in a future version. Use pandas.concat instead.\n",
      "  ax = ax.append(pd.Series({label: o}))\n",
      "/home/deb/miniconda3/lib/python3.9/site-packages/fastai/torch_core.py:476: FutureWarning: The series.append method is deprecated and will be removed from pandas in a future version. Use pandas.concat instead.\n",
      "  ax = ax.append(pd.Series({label: o}))\n",
      "/home/deb/miniconda3/lib/python3.9/site-packages/fastai/torch_core.py:476: FutureWarning: The series.append method is deprecated and will be removed from pandas in a future version. Use pandas.concat instead.\n",
      "  ax = ax.append(pd.Series({label: o}))\n",
      "/home/deb/miniconda3/lib/python3.9/site-packages/fastai/torch_core.py:476: FutureWarning: The series.append method is deprecated and will be removed from pandas in a future version. Use pandas.concat instead.\n",
      "  ax = ax.append(pd.Series({label: o}))\n"
     ]
    },
    {
     "data": {
      "text/html": [
       "<table border=\"1\" class=\"dataframe\">\n",
       "  <thead>\n",
       "    <tr style=\"text-align: right;\">\n",
       "      <th></th>\n",
       "      <th>text</th>\n",
       "      <th>text_</th>\n",
       "    </tr>\n",
       "  </thead>\n",
       "  <tbody>\n",
       "    <tr>\n",
       "      <th>0</th>\n",
       "      <td>xxbos admission date discharge date date of birth sex m service cardiac surgery chief complaint chest pain history of present illness mr known lastname is a year old man with a history of hypertension who presented to an outside hospital complaining of chest pain radiating to his jaw and arms he went to his local emergency department where they found that his cardiac enzymes were negative his electrocardiogram showed a right bundle branch block and his chest pain was typical</td>\n",
       "      <td>admission date discharge date date of birth sex m service cardiac surgery chief complaint chest pain history of present illness mr known lastname is a year old man with a history of hypertension who presented to an outside hospital complaining of chest pain radiating to his jaw and arms he went to his local emergency department where they found that his cardiac enzymes were negative his electrocardiogram showed a right bundle branch block and his chest pain was typical for</td>\n",
       "    </tr>\n",
       "    <tr>\n",
       "      <th>1</th>\n",
       "      <td>outpatient he will need to continue hd m w f first name8 namepattern2 name8 md md doctor first name completed by xxbos admission date discharge date date of birth sex m service medicine allergies keflex vioxx codeine attending last name namepattern1 chief complaint le edema and dyspnea major surgical or invasive procedure none history of present illness 51 m with t2 dm unclear diastolic chf htn and chronic pain on narcotics who presents with worsening le edema and sob at</td>\n",
       "      <td>he will need to continue hd m w f first name8 namepattern2 name8 md md doctor first name completed by xxbos admission date discharge date date of birth sex m service medicine allergies keflex vioxx codeine attending last name namepattern1 chief complaint le edema and dyspnea major surgical or invasive procedure none history of present illness 51 m with t2 dm unclear diastolic chf htn and chronic pain on narcotics who presents with worsening le edema and sob at rehab</td>\n",
       "    </tr>\n",
       "  </tbody>\n",
       "</table>"
      ],
      "text/plain": [
       "<IPython.core.display.HTML object>"
      ]
     },
     "metadata": {},
     "output_type": "display_data"
    }
   ],
   "source": [
    "dls_lm.show_batch(max_n=2)"
   ]
  },
  {
   "cell_type": "markdown",
   "id": "f39427f5-8bb3-4330-abf1-a37fe875ef06",
   "metadata": {},
   "source": [
    "The length of our vocabulary is:"
   ]
  },
  {
   "cell_type": "code",
   "execution_count": 46,
   "id": "ff8eff9f-2e0b-49bd-a831-98c1152ffbeb",
   "metadata": {},
   "outputs": [
    {
     "data": {
      "text/plain": [
       "57376"
      ]
     },
     "execution_count": 46,
     "metadata": {},
     "output_type": "execute_result"
    }
   ],
   "source": [
    "len(dls_lm.vocab)"
   ]
  },
  {
   "cell_type": "markdown",
   "id": "945db402-b7a7-44cf-9ad3-ccc19e6086cd",
   "metadata": {},
   "source": [
    "Let's take a look at some words of the vocab:"
   ]
  },
  {
   "cell_type": "code",
   "execution_count": 47,
   "id": "6e968ac3-7892-44cd-a5cf-a393faed199f",
   "metadata": {},
   "outputs": [
    {
     "name": "stdout",
     "output_type": "stream",
     "text": [
      "(#57376) ['xxunk','xxpad','xxbos','xxeos','xxfld','xxrep','xxwrep','xxup','xxmaj','the','and','to','of','was','with','a','on','in','for','mg','no','tablet','patient','is','he','at','blood','name','po','she'...]\n"
     ]
    }
   ],
   "source": [
    "print(coll_repr(L(dls_lm.vocab), 30))"
   ]
  },
  {
   "cell_type": "markdown",
   "id": "ed6c7ecf-6561-468f-83eb-98c76e839548",
   "metadata": {},
   "source": [
    "Creating the `DataLaoders` takes some time, so smash that *save* button (also a good idea to save the `dls_lm.vocab` for later use):"
   ]
  },
  {
   "cell_type": "code",
   "execution_count": 48,
   "id": "8cbd5c4a-9461-4e74-823c-5d7df6175aad",
   "metadata": {},
   "outputs": [],
   "source": [
    "torch.save(dls_lm, dls_lm_path)\n",
    "torch.save(dls_lm.vocab, dls_lm_vocab_path)"
   ]
  },
  {
   "cell_type": "markdown",
   "id": "684b7367-644f-4399-a024-8515424f3e4e",
   "metadata": {},
   "source": [
    "To load back the `dls_lm` later on:"
   ]
  },
  {
   "cell_type": "code",
   "execution_count": 44,
   "id": "aef4e101-6045-4ccb-8719-8bf6ccf2133c",
   "metadata": {},
   "outputs": [],
   "source": [
    "dls_lm = torch.load(dls_lm_path)"
   ]
  },
  {
   "cell_type": "markdown",
   "id": "0a8a2862-9586-4348-af00-7f88ee98f283",
   "metadata": {
    "jp-MarkdownHeadingCollapsed": true,
    "tags": []
   },
   "source": [
    "## `Learner` for the Language Model Fine-Tuning:"
   ]
  },
  {
   "cell_type": "code",
   "execution_count": 50,
   "id": "066b8008-c451-488b-bcd5-c2c56e520fd7",
   "metadata": {},
   "outputs": [],
   "source": [
    "learn = language_model_learner(\n",
    "    dls_lm, AWD_LSTM, drop_mult=0.3,\n",
    "    metrics=[accuracy, Perplexity()]).to_fp16()"
   ]
  },
  {
   "cell_type": "markdown",
   "id": "e54a2908-b1d0-4d84-9de5-5a1cc3a8cd70",
   "metadata": {},
   "source": [
    "Let's compute the learning rate using the `lr_find`:"
   ]
  },
  {
   "cell_type": "code",
   "execution_count": null,
   "id": "8a6ce819-c842-4e63-bde1-0e4782e4ac2c",
   "metadata": {
    "tags": []
   },
   "outputs": [],
   "source": [
    "lr_min, lr_steep, lr_valley, lr_slide = learn.lr_find(suggest_funcs=(minimum, steep, valley, slide))\n",
    "lr_min, lr_steep, lr_valley, lr_slide"
   ]
  },
  {
   "cell_type": "code",
   "execution_count": 20,
   "id": "25870a9c-b75b-4f9b-a64a-6e761aba62d9",
   "metadata": {},
   "outputs": [
    {
     "data": {
      "text/html": [
       "\n",
       "<style>\n",
       "    /* Turns off some styling */\n",
       "    progress {\n",
       "        /* gets rid of default border in Firefox and Opera. */\n",
       "        border: none;\n",
       "        /* Needs to be in here for Safari polyfill so background images work as expected. */\n",
       "        background-size: auto;\n",
       "    }\n",
       "    .progress-bar-interrupted, .progress-bar-interrupted::-webkit-progress-bar {\n",
       "        background: #F44336;\n",
       "    }\n",
       "</style>\n"
      ],
      "text/plain": [
       "<IPython.core.display.HTML object>"
      ]
     },
     "metadata": {},
     "output_type": "display_data"
    },
    {
     "data": {
      "text/html": [
       "<table border=\"1\" class=\"dataframe\">\n",
       "  <thead>\n",
       "    <tr style=\"text-align: left;\">\n",
       "      <th>epoch</th>\n",
       "      <th>train_loss</th>\n",
       "      <th>valid_loss</th>\n",
       "      <th>accuracy</th>\n",
       "      <th>perplexity</th>\n",
       "      <th>time</th>\n",
       "    </tr>\n",
       "  </thead>\n",
       "  <tbody>\n",
       "    <tr>\n",
       "      <td>0</td>\n",
       "      <td>3.646323</td>\n",
       "      <td>3.512013</td>\n",
       "      <td>0.382642</td>\n",
       "      <td>33.515659</td>\n",
       "      <td>2:27:57</td>\n",
       "    </tr>\n",
       "  </tbody>\n",
       "</table>"
      ],
      "text/plain": [
       "<IPython.core.display.HTML object>"
      ]
     },
     "metadata": {},
     "output_type": "display_data"
    }
   ],
   "source": [
    "learn.fit_one_cycle(1, lr_min)"
   ]
  },
  {
   "cell_type": "markdown",
   "id": "16d534d2-d91c-4f83-91e8-3034c0c84c7c",
   "metadata": {},
   "source": [
    "It takes quite a while to train each epoch, so we'll be saving the intermediate model results during the training process:"
   ]
  },
  {
   "cell_type": "code",
   "execution_count": 21,
   "id": "6e918e54-0198-483e-8bd6-c56678275841",
   "metadata": {
    "tags": []
   },
   "outputs": [
    {
     "data": {
      "text/plain": [
       "Path('models/lm.pth')"
      ]
     },
     "execution_count": 21,
     "metadata": {},
     "output_type": "execute_result"
    }
   ],
   "source": [
    "learn.save('lm')"
   ]
  },
  {
   "cell_type": "markdown",
   "id": "11ac265e-6f06-4ade-930f-1df874b172ae",
   "metadata": {},
   "source": [
    "Let's now load back the `Learner`"
   ]
  },
  {
   "cell_type": "code",
   "execution_count": 58,
   "id": "f4a613dc-43fc-4604-b4e5-31575bc97e3c",
   "metadata": {},
   "outputs": [],
   "source": [
    "learn = learn.load('lm')"
   ]
  },
  {
   "cell_type": "markdown",
   "id": "3c8546b7-c8c5-44b4-9ea9-08cab3c11b0b",
   "metadata": {},
   "source": [
    "Let's validate the `Learner` to make sure we loaded the correct version:"
   ]
  },
  {
   "cell_type": "code",
   "execution_count": 59,
   "id": "66b6809d-3c16-476d-861f-91c05794683b",
   "metadata": {},
   "outputs": [
    {
     "data": {
      "text/html": [
       "\n",
       "<style>\n",
       "    /* Turns off some styling */\n",
       "    progress {\n",
       "        /* gets rid of default border in Firefox and Opera. */\n",
       "        border: none;\n",
       "        /* Needs to be in here for Safari polyfill so background images work as expected. */\n",
       "        background-size: auto;\n",
       "    }\n",
       "    .progress-bar-interrupted, .progress-bar-interrupted::-webkit-progress-bar {\n",
       "        background: #F44336;\n",
       "    }\n",
       "</style>\n"
      ],
      "text/plain": [
       "<IPython.core.display.HTML object>"
      ]
     },
     "metadata": {},
     "output_type": "display_data"
    },
    {
     "data": {
      "text/html": [],
      "text/plain": [
       "<IPython.core.display.HTML object>"
      ]
     },
     "metadata": {},
     "output_type": "display_data"
    },
    {
     "data": {
      "text/plain": [
       "(#3) [2.1801044940948486,0.551633358001709,8.847230911254883]"
      ]
     },
     "execution_count": 59,
     "metadata": {},
     "output_type": "execute_result"
    }
   ],
   "source": [
    "learn.validate()"
   ]
  },
  {
   "cell_type": "markdown",
   "id": "06b4d2ec-b57d-4b2a-b63d-a549558b8132",
   "metadata": {},
   "source": [
    "Since we have completed the initial training, we will now continue fine-tuning the model after unfreezing:"
   ]
  },
  {
   "cell_type": "code",
   "execution_count": 20,
   "id": "ba11c6fe-524a-4d72-bc37-dc3508e7f598",
   "metadata": {},
   "outputs": [],
   "source": [
    "learn.unfreeze()"
   ]
  },
  {
   "cell_type": "markdown",
   "id": "87abcdc8-8816-44e3-a11c-58de1b9ad4dd",
   "metadata": {},
   "source": [
    "and run `lr_find` again, because we now have more layers to train, and the last layers weight have already been trained for one epoch:"
   ]
  },
  {
   "cell_type": "code",
   "execution_count": null,
   "id": "dd9d5c54-7199-4364-9aee-b5b9c0467108",
   "metadata": {},
   "outputs": [],
   "source": [
    "lr_min, lr_steep, lr_valley, lr_slide = learn.lr_find(suggest_funcs=(minimum, steep, valley, slide))\n",
    "lr_min, lr_steep, lr_valley, lr_slide"
   ]
  },
  {
   "cell_type": "markdown",
   "id": "55d37b25-63d5-43bc-93fe-0f82c47b5677",
   "metadata": {},
   "source": [
    "Let's now traing with a suitable learning rate:"
   ]
  },
  {
   "cell_type": "code",
   "execution_count": null,
   "id": "039fb4f9-0b5d-4a26-9330-6a72a2bc02a5",
   "metadata": {},
   "outputs": [],
   "source": [
    "learn.fit_one_cycle(10, lr_max=2e-3, cbs=SaveModelCallback(fname='lm'))"
   ]
  },
  {
   "cell_type": "markdown",
   "id": "fbcec4c8-d465-4cf6-b0b3-8abbc5f66aa8",
   "metadata": {},
   "source": [
    "Note: Make sure if you have trained the most language model `Learner` for more epochs (then you need to save that version)"
   ]
  },
  {
   "cell_type": "markdown",
   "id": "cb9b2519-64d9-475e-a6ca-703292e3f3eb",
   "metadata": {
    "jp-MarkdownHeadingCollapsed": true,
    "tags": []
   },
   "source": [
    "### Saving the encoder of the Language Model"
   ]
  },
  {
   "cell_type": "markdown",
   "id": "3f1065c8-eb36-4861-8026-eb945a2240e3",
   "metadata": {},
   "source": [
    "**Crucial:** Once we have trained our LM we will save all of our model except the final layer that converts activation to probabilities of picking each token in our vocabulary. The model not including the final layer has a sexy name - *encoder*. We will save it using `save_encoder` method of the `Learner`:"
   ]
  },
  {
   "cell_type": "code",
   "execution_count": 62,
   "id": "76595155-9573-459e-8372-a89657661122",
   "metadata": {},
   "outputs": [],
   "source": [
    "learn.save_encoder('lm_finetuned')"
   ]
  },
  {
   "cell_type": "markdown",
   "id": "61ee007e-1f59-4123-8b32-6bed775b72d3",
   "metadata": {},
   "source": [
    "This completes the second stage of the text classification process - fine-tuning the Language Model pretrained on Wikipedia corpus. We will now use it to fine-tune a text multi-label text classifier."
   ]
  },
  {
   "cell_type": "markdown",
   "id": "7d6e7208-9a8a-4bed-a8a7-f2f9efc57c49",
   "metadata": {
    "tags": []
   },
   "source": [
    "## `DataLoaders` for the Multi-Label Classifier (using fastai's Mid-Level Data API)"
   ]
  },
  {
   "cell_type": "markdown",
   "id": "16899780-09f9-4652-9fbd-c063766c265c",
   "metadata": {
    "jp-MarkdownHeadingCollapsed": true,
    "tags": []
   },
   "source": [
    "### Loading Raw Data"
   ]
  },
  {
   "cell_type": "code",
   "execution_count": 34,
   "id": "0457ecb8-d66a-4b4f-bff4-76eeaaf746d0",
   "metadata": {},
   "outputs": [
    {
     "data": {
      "text/plain": [
       "Path('/home/deb/xcube/nbs/examples/mimic/sample/data/mimic3-9k.csv')"
      ]
     },
     "execution_count": 34,
     "metadata": {},
     "output_type": "execute_result"
    }
   ],
   "source": [
    "data"
   ]
  },
  {
   "cell_type": "code",
   "execution_count": 35,
   "id": "05d1235b-eb73-46bb-9ed7-791444d04366",
   "metadata": {},
   "outputs": [],
   "source": [
    "# !head -n 1 {data}"
   ]
  },
  {
   "cell_type": "code",
   "execution_count": 36,
   "id": "574f199b-8ed2-43ef-8c58-d2183e2d6d64",
   "metadata": {},
   "outputs": [],
   "source": [
    "# !shuf -n 200000 {data} > {data_sample} "
   ]
  },
  {
   "cell_type": "code",
   "execution_count": 37,
   "id": "1d3187b4-e145-464b-b7ca-82f0836cf4e6",
   "metadata": {},
   "outputs": [
    {
     "data": {
      "text/plain": [
       "52726"
      ]
     },
     "execution_count": 37,
     "metadata": {},
     "output_type": "execute_result"
    }
   ],
   "source": [
    "df = pd.read_csv(data,\n",
    "                 header=0,\n",
    "                 names=['subject_id', 'hadm_id', 'text', 'labels', 'length', 'is_valid'],\n",
    "                 dtype={'subject_id': str, 'hadm_id': str, 'text': str, 'labels': str, 'length': np.int64, 'is_valid': bool})\n",
    "len(df)"
   ]
  },
  {
   "cell_type": "code",
   "execution_count": 38,
   "id": "03fe9f01-1d5a-4087-9016-1289c98ece83",
   "metadata": {},
   "outputs": [],
   "source": [
    "df[['text', 'labels']] = df[['text', 'labels']].astype(str)"
   ]
  },
  {
   "cell_type": "code",
   "execution_count": 39,
   "id": "9d4d9e9f-c915-487d-941d-4f65b2175c94",
   "metadata": {
    "collapsed": true,
    "jupyter": {
     "outputs_hidden": true
    },
    "tags": []
   },
   "outputs": [
    {
     "data": {
      "text/html": [
       "<div>\n",
       "<style scoped>\n",
       "    .dataframe tbody tr th:only-of-type {\n",
       "        vertical-align: middle;\n",
       "    }\n",
       "\n",
       "    .dataframe tbody tr th {\n",
       "        vertical-align: top;\n",
       "    }\n",
       "\n",
       "    .dataframe thead th {\n",
       "        text-align: right;\n",
       "    }\n",
       "</style>\n",
       "<table border=\"1\" class=\"dataframe\">\n",
       "  <thead>\n",
       "    <tr style=\"text-align: right;\">\n",
       "      <th></th>\n",
       "      <th>subject_id</th>\n",
       "      <th>hadm_id</th>\n",
       "      <th>text</th>\n",
       "      <th>labels</th>\n",
       "      <th>length</th>\n",
       "      <th>is_valid</th>\n",
       "    </tr>\n",
       "  </thead>\n",
       "  <tbody>\n",
       "    <tr>\n",
       "      <th>0</th>\n",
       "      <td>86006</td>\n",
       "      <td>111912</td>\n",
       "      <td>admission date discharge date date of birth sex f service surgery allergies patient recorded as having no known allergies to drugs attending first name3 lf chief complaint 60f on coumadin was found slightly drowsy tonight then fell down stairs paramedic found her unconscious and she was intubated w o any medication head ct shows multiple iph transferred to hospital1 for further eval major surgical or invasive procedure none past medical history her medical history is significant for hypertension osteoarthritis involving bilateral knee joints with a dependence on cane for ambulation chronic...</td>\n",
       "      <td>801.35;348.4;805.06;807.01;998.30;707.24;E880.9;427.31;414.01;401.9;V58.61;V43.64;707.00;E878.1;96.71</td>\n",
       "      <td>230</td>\n",
       "      <td>False</td>\n",
       "    </tr>\n",
       "    <tr>\n",
       "      <th>1</th>\n",
       "      <td>85950</td>\n",
       "      <td>189769</td>\n",
       "      <td>admission date discharge date service neurosurgery allergies sulfa sulfonamides attending first name3 lf chief complaint cc cc contact info major surgical or invasive procedure none history of present illness hpi 88m who lives with family had fall yesterday today had decline in mental status ems called pt was unresponsive on arrival went to osh head ct showed large r sdh pt was intubated at osh and transferred to hospital1 for further care past medical history cad s p mi in s p cabg in ventricular aneurysm at that time cath in with occluded rca unable to intervene chf reported ef 1st degre...</td>\n",
       "      <td>852.25;E888.9;403.90;585.9;250.00;414.00;V45.81;96.71</td>\n",
       "      <td>304</td>\n",
       "      <td>False</td>\n",
       "    </tr>\n",
       "    <tr>\n",
       "      <th>2</th>\n",
       "      <td>88025</td>\n",
       "      <td>180431</td>\n",
       "      <td>admission date discharge date date of birth sex f service surgery allergies no known allergies adverse drug reactions attending first name3 lf chief complaint s p fall major surgical or invasive procedure none history of present illness 45f etoh s p fall from window at feet found ambulating and slurring speech on scene intubated en route for declining mental status in the er the patient was found to be bradycardic to the s with bp of systolic she was given atropine dilantin and was started on saline past medical history unknown social history unknown family history unknown physical exam ex...</td>\n",
       "      <td>518.81;348.4;348.82;801.25;427.89;E882;V49.86;305.00;96.71;38.93</td>\n",
       "      <td>359</td>\n",
       "      <td>False</td>\n",
       "    </tr>\n",
       "  </tbody>\n",
       "</table>\n",
       "</div>"
      ],
      "text/plain": [
       "  subject_id hadm_id  \\\n",
       "0      86006  111912   \n",
       "1      85950  189769   \n",
       "2      88025  180431   \n",
       "\n",
       "                                                                                                                                                                                                                                                                                                                                                                                                                                                                                                                                                                                                                      text  \\\n",
       "0  admission date discharge date date of birth sex f service surgery allergies patient recorded as having no known allergies to drugs attending first name3 lf chief complaint 60f on coumadin was found slightly drowsy tonight then fell down stairs paramedic found her unconscious and she was intubated w o any medication head ct shows multiple iph transferred to hospital1 for further eval major surgical or invasive procedure none past medical history her medical history is significant for hypertension osteoarthritis involving bilateral knee joints with a dependence on cane for ambulation chronic...   \n",
       "1  admission date discharge date service neurosurgery allergies sulfa sulfonamides attending first name3 lf chief complaint cc cc contact info major surgical or invasive procedure none history of present illness hpi 88m who lives with family had fall yesterday today had decline in mental status ems called pt was unresponsive on arrival went to osh head ct showed large r sdh pt was intubated at osh and transferred to hospital1 for further care past medical history cad s p mi in s p cabg in ventricular aneurysm at that time cath in with occluded rca unable to intervene chf reported ef 1st degre...   \n",
       "2  admission date discharge date date of birth sex f service surgery allergies no known allergies adverse drug reactions attending first name3 lf chief complaint s p fall major surgical or invasive procedure none history of present illness 45f etoh s p fall from window at feet found ambulating and slurring speech on scene intubated en route for declining mental status in the er the patient was found to be bradycardic to the s with bp of systolic she was given atropine dilantin and was started on saline past medical history unknown social history unknown family history unknown physical exam ex...   \n",
       "\n",
       "                                                                                                  labels  \\\n",
       "0  801.35;348.4;805.06;807.01;998.30;707.24;E880.9;427.31;414.01;401.9;V58.61;V43.64;707.00;E878.1;96.71   \n",
       "1                                                  852.25;E888.9;403.90;585.9;250.00;414.00;V45.81;96.71   \n",
       "2                                       518.81;348.4;348.82;801.25;427.89;E882;V49.86;305.00;96.71;38.93   \n",
       "\n",
       "   length  is_valid  \n",
       "0     230     False  \n",
       "1     304     False  \n",
       "2     359     False  "
      ]
     },
     "execution_count": 39,
     "metadata": {},
     "output_type": "execute_result"
    }
   ],
   "source": [
    "df.head(3)"
   ]
  },
  {
   "cell_type": "markdown",
   "id": "55aaa6ee-a48a-4f58-9e9c-4c7b7267f363",
   "metadata": {},
   "source": [
    "Sample a small fraction of the dataset to ensure quick iteration:"
   ]
  },
  {
   "cell_type": "code",
   "execution_count": 40,
   "id": "f47678ad-0888-44c8-9398-7f6e4ec5c57a",
   "metadata": {},
   "outputs": [
    {
     "data": {
      "text/plain": [
       "264"
      ]
     },
     "execution_count": 40,
     "metadata": {},
     "output_type": "execute_result"
    }
   ],
   "source": [
    "# df = df.sample(frac=0.3, random_state=89, ignore_index=True)\n",
    "# df = df.sample(frac=0.025, random_state=89, ignore_index=True)\n",
    "df = df.sample(frac=0.005, random_state=89, ignore_index=True)\n",
    "len(df)"
   ]
  },
  {
   "cell_type": "markdown",
   "id": "313bc7e5-5795-4ae5-9322-6a236b01d706",
   "metadata": {},
   "source": [
    "Let's now gather the labels from the 'labels' columns of the df:"
   ]
  },
  {
   "cell_type": "code",
   "execution_count": 41,
   "id": "f9740030-1cec-405b-939b-845a7b92b2fd",
   "metadata": {},
   "outputs": [],
   "source": [
    "lbl_freqs = Counter()\n",
    "for labels in df.labels: lbl_freqs.update(labels.split(';'))"
   ]
  },
  {
   "cell_type": "markdown",
   "id": "52f53c3b-1c25-4ae3-9528-5092747d2bfb",
   "metadata": {},
   "source": [
    "The total number of labels are:"
   ]
  },
  {
   "cell_type": "code",
   "execution_count": 42,
   "id": "0e816938-b66f-4565-9871-e9465f712d1e",
   "metadata": {},
   "outputs": [
    {
     "data": {
      "text/plain": [
       "1271"
      ]
     },
     "execution_count": 42,
     "metadata": {},
     "output_type": "execute_result"
    }
   ],
   "source": [
    "len(lbl_freqs)"
   ]
  },
  {
   "cell_type": "markdown",
   "id": "99eb351e-8beb-4b2a-9413-44780af36d6e",
   "metadata": {},
   "source": [
    "Let's take a look at the most common labels:"
   ]
  },
  {
   "cell_type": "code",
   "execution_count": 93,
   "id": "3b77e405-3f4c-46d2-a73f-ebce63fa2a15",
   "metadata": {
    "collapsed": true,
    "jupyter": {
     "outputs_hidden": true
    },
    "tags": []
   },
   "outputs": [
    {
     "data": {
      "text/html": [
       "<div>\n",
       "<style scoped>\n",
       "    .dataframe tbody tr th:only-of-type {\n",
       "        vertical-align: middle;\n",
       "    }\n",
       "\n",
       "    .dataframe tbody tr th {\n",
       "        vertical-align: top;\n",
       "    }\n",
       "\n",
       "    .dataframe thead th {\n",
       "        text-align: right;\n",
       "    }\n",
       "</style>\n",
       "<table border=\"1\" class=\"dataframe\">\n",
       "  <thead>\n",
       "    <tr style=\"text-align: right;\">\n",
       "      <th></th>\n",
       "      <th>label</th>\n",
       "      <th>frequency</th>\n",
       "    </tr>\n",
       "  </thead>\n",
       "  <tbody>\n",
       "    <tr>\n",
       "      <th>0</th>\n",
       "      <td>401.9</td>\n",
       "      <td>20053</td>\n",
       "    </tr>\n",
       "    <tr>\n",
       "      <th>1</th>\n",
       "      <td>38.93</td>\n",
       "      <td>14444</td>\n",
       "    </tr>\n",
       "    <tr>\n",
       "      <th>2</th>\n",
       "      <td>428.0</td>\n",
       "      <td>12842</td>\n",
       "    </tr>\n",
       "    <tr>\n",
       "      <th>3</th>\n",
       "      <td>427.31</td>\n",
       "      <td>12594</td>\n",
       "    </tr>\n",
       "    <tr>\n",
       "      <th>4</th>\n",
       "      <td>414.01</td>\n",
       "      <td>12179</td>\n",
       "    </tr>\n",
       "    <tr>\n",
       "      <th>5</th>\n",
       "      <td>96.04</td>\n",
       "      <td>9932</td>\n",
       "    </tr>\n",
       "    <tr>\n",
       "      <th>6</th>\n",
       "      <td>96.6</td>\n",
       "      <td>9161</td>\n",
       "    </tr>\n",
       "    <tr>\n",
       "      <th>7</th>\n",
       "      <td>584.9</td>\n",
       "      <td>8907</td>\n",
       "    </tr>\n",
       "    <tr>\n",
       "      <th>8</th>\n",
       "      <td>250.00</td>\n",
       "      <td>8784</td>\n",
       "    </tr>\n",
       "    <tr>\n",
       "      <th>9</th>\n",
       "      <td>96.71</td>\n",
       "      <td>8619</td>\n",
       "    </tr>\n",
       "    <tr>\n",
       "      <th>10</th>\n",
       "      <td>272.4</td>\n",
       "      <td>8504</td>\n",
       "    </tr>\n",
       "    <tr>\n",
       "      <th>11</th>\n",
       "      <td>518.81</td>\n",
       "      <td>7249</td>\n",
       "    </tr>\n",
       "    <tr>\n",
       "      <th>12</th>\n",
       "      <td>99.04</td>\n",
       "      <td>7147</td>\n",
       "    </tr>\n",
       "    <tr>\n",
       "      <th>13</th>\n",
       "      <td>39.61</td>\n",
       "      <td>6809</td>\n",
       "    </tr>\n",
       "    <tr>\n",
       "      <th>14</th>\n",
       "      <td>599.0</td>\n",
       "      <td>6442</td>\n",
       "    </tr>\n",
       "    <tr>\n",
       "      <th>15</th>\n",
       "      <td>530.81</td>\n",
       "      <td>6156</td>\n",
       "    </tr>\n",
       "    <tr>\n",
       "      <th>16</th>\n",
       "      <td>96.72</td>\n",
       "      <td>5926</td>\n",
       "    </tr>\n",
       "    <tr>\n",
       "      <th>17</th>\n",
       "      <td>272.0</td>\n",
       "      <td>5766</td>\n",
       "    </tr>\n",
       "    <tr>\n",
       "      <th>18</th>\n",
       "      <td>285.9</td>\n",
       "      <td>5296</td>\n",
       "    </tr>\n",
       "    <tr>\n",
       "      <th>19</th>\n",
       "      <td>88.56</td>\n",
       "      <td>5240</td>\n",
       "    </tr>\n",
       "  </tbody>\n",
       "</table>\n",
       "</div>"
      ],
      "text/plain": [
       "     label  frequency\n",
       "0    401.9      20053\n",
       "1    38.93      14444\n",
       "2    428.0      12842\n",
       "3   427.31      12594\n",
       "4   414.01      12179\n",
       "5    96.04       9932\n",
       "6     96.6       9161\n",
       "7    584.9       8907\n",
       "8   250.00       8784\n",
       "9    96.71       8619\n",
       "10   272.4       8504\n",
       "11  518.81       7249\n",
       "12   99.04       7147\n",
       "13   39.61       6809\n",
       "14   599.0       6442\n",
       "15  530.81       6156\n",
       "16   96.72       5926\n",
       "17   272.0       5766\n",
       "18   285.9       5296\n",
       "19   88.56       5240"
      ]
     },
     "execution_count": 93,
     "metadata": {},
     "output_type": "execute_result"
    }
   ],
   "source": [
    "pd.DataFrame(lbl_freqs.most_common(20), columns=['label', 'frequency'])"
   ]
  },
  {
   "cell_type": "markdown",
   "id": "fbf7209f-8051-4003-97bc-944928a6bcdc",
   "metadata": {},
   "source": [
    "Let's make a list of all labels (We will use it later while creating the `DataLoader`)"
   ]
  },
  {
   "cell_type": "code",
   "execution_count": 43,
   "id": "08fadbd0-f498-4dae-87b4-74129b48fa6b",
   "metadata": {},
   "outputs": [],
   "source": [
    "lbls = list(lbl_freqs.keys())"
   ]
  },
  {
   "cell_type": "markdown",
   "id": "a814826c-b341-4722-8f3c-ad98ea2f53f6",
   "metadata": {
    "tags": []
   },
   "source": [
    "### Dataset Statistics "
   ]
  },
  {
   "cell_type": "markdown",
   "id": "df7ceef9-6e33-41ec-a078-6fc5ee508dc8",
   "metadata": {
    "jp-MarkdownHeadingCollapsed": true,
    "tags": []
   },
   "source": [
    "#### Check #1: Number of instances (train/valid split)"
   ]
  },
  {
   "cell_type": "code",
   "execution_count": 29,
   "id": "b383fe50-3a03-4fc1-a2ef-d0d410f068c6",
   "metadata": {},
   "outputs": [
    {
     "data": {
      "text/plain": [
       "(244, 20)"
      ]
     },
     "execution_count": 29,
     "metadata": {},
     "output_type": "execute_result"
    }
   ],
   "source": [
    "train, valid = df.index[~df['is_valid']], df.index[df['is_valid']]\n",
    "len(train), len(valid)"
   ]
  },
  {
   "cell_type": "markdown",
   "id": "ac6eb9d7-673a-4e7e-af34-b56d314f333d",
   "metadata": {
    "tags": []
   },
   "source": [
    "#### Check #2: Avg number of instances per label"
   ]
  },
  {
   "cell_type": "code",
   "execution_count": 30,
   "id": "6d98df47-4cc2-44a4-8ee9-b9b890c22f9b",
   "metadata": {},
   "outputs": [
    {
     "data": {
      "text/plain": [
       "3.341463414634146"
      ]
     },
     "execution_count": 30,
     "metadata": {},
     "output_type": "execute_result"
    }
   ],
   "source": [
    "array(list(lbl_freqs.values())).mean()"
   ]
  },
  {
   "cell_type": "markdown",
   "id": "100ea260-fa73-42eb-a785-8d6cc2dab27f",
   "metadata": {
    "jp-MarkdownHeadingCollapsed": true,
    "tags": []
   },
   "source": [
    "#### Check #3: Plotting the label distribution"
   ]
  },
  {
   "cell_type": "code",
   "execution_count": 32,
   "id": "278a4b53-2032-4d54-aa87-9c54f97cd741",
   "metadata": {},
   "outputs": [],
   "source": [
    "lbl_count = []\n",
    "for lbls in df.labels: lbl_count.append(len(lbls.split(',')))"
   ]
  },
  {
   "cell_type": "code",
   "execution_count": 85,
   "id": "1bb0982e-9548-4321-9d16-de6b21f8daf7",
   "metadata": {},
   "outputs": [],
   "source": [
    "df_copy = df.copy()\n",
    "df_copy['label_count'] = lbl_count"
   ]
  },
  {
   "cell_type": "code",
   "execution_count": 86,
   "id": "2b00d3bf-4102-4f19-afba-1e1079e9f36d",
   "metadata": {},
   "outputs": [
    {
     "data": {
      "text/html": [
       "<div>\n",
       "<style scoped>\n",
       "    .dataframe tbody tr th:only-of-type {\n",
       "        vertical-align: middle;\n",
       "    }\n",
       "\n",
       "    .dataframe tbody tr th {\n",
       "        vertical-align: top;\n",
       "    }\n",
       "\n",
       "    .dataframe thead th {\n",
       "        text-align: right;\n",
       "    }\n",
       "</style>\n",
       "<table border=\"1\" class=\"dataframe\">\n",
       "  <thead>\n",
       "    <tr style=\"text-align: right;\">\n",
       "      <th></th>\n",
       "      <th>text</th>\n",
       "      <th>labels</th>\n",
       "      <th>is_valid</th>\n",
       "      <th>label_count</th>\n",
       "    </tr>\n",
       "  </thead>\n",
       "  <tbody>\n",
       "    <tr>\n",
       "      <th>0</th>\n",
       "      <td>Methodical Bible study: A new approach to hermeneutics /SEP/ Methodical Bible study: A new approach to hermeneutics. Inductive study compares related Bible texts in order to let the Bible interpret itself, rather than approaching Scripture with predetermined notions of what it will say.  Dr. Trainas Methodical Bible Study was not intended to be the last word in inductive Bible study; but since its first publication in 1952, it has become a foundational text in this field.  Christian colleges and seminaries have made it required reading for beginning Bible students, while many churches have...</td>\n",
       "      <td>34141,119299,126600,128716,187372,218742</td>\n",
       "      <td>False</td>\n",
       "      <td>6</td>\n",
       "    </tr>\n",
       "    <tr>\n",
       "      <th>1</th>\n",
       "      <td>Southeastern Mills Roast Beef Gravy Mix, 4.5-Ounce Packages (Pack of 24) /SEP/ Southeastern Mills Roast Beef Gravy Mix, 4.5-Ounce Packages (Pack of 24). Makes 3-1/2 cups. Down home taste. Makes hearty beef stew base.</td>\n",
       "      <td>465536,465553,615429</td>\n",
       "      <td>False</td>\n",
       "      <td>3</td>\n",
       "    </tr>\n",
       "  </tbody>\n",
       "</table>\n",
       "</div>"
      ],
      "text/plain": [
       "                                                                                                                                                                                                                                                                                                                                                                                                                                                                                                                                                                                                                      text  \\\n",
       "0  Methodical Bible study: A new approach to hermeneutics /SEP/ Methodical Bible study: A new approach to hermeneutics. Inductive study compares related Bible texts in order to let the Bible interpret itself, rather than approaching Scripture with predetermined notions of what it will say.  Dr. Trainas Methodical Bible Study was not intended to be the last word in inductive Bible study; but since its first publication in 1952, it has become a foundational text in this field.  Christian colleges and seminaries have made it required reading for beginning Bible students, while many churches have...   \n",
       "1                                                                                                                                                                                                                                                                                                                                                                                                 Southeastern Mills Roast Beef Gravy Mix, 4.5-Ounce Packages (Pack of 24) /SEP/ Southeastern Mills Roast Beef Gravy Mix, 4.5-Ounce Packages (Pack of 24). Makes 3-1/2 cups. Down home taste. Makes hearty beef stew base.   \n",
       "\n",
       "                                     labels  is_valid  label_count  \n",
       "0  34141,119299,126600,128716,187372,218742     False            6  \n",
       "1                      465536,465553,615429     False            3  "
      ]
     },
     "execution_count": 86,
     "metadata": {},
     "output_type": "execute_result"
    }
   ],
   "source": [
    "df_copy.head(2)"
   ]
  },
  {
   "cell_type": "markdown",
   "id": "75c304dc-f6bc-4196-b20f-8d1087003c67",
   "metadata": {},
   "source": [
    "The average number of labels per instance is:"
   ]
  },
  {
   "cell_type": "code",
   "execution_count": 112,
   "id": "8b26ea81-4843-4ce9-bb73-b840968b0f27",
   "metadata": {},
   "outputs": [
    {
     "data": {
      "text/plain": [
       "5.385563363865518"
      ]
     },
     "execution_count": 112,
     "metadata": {},
     "output_type": "execute_result"
    }
   ],
   "source": [
    "df_copy.label_count.mean()"
   ]
  },
  {
   "cell_type": "code",
   "execution_count": 87,
   "id": "b06e5fc2-8107-47e3-9d2b-7564f42c08d9",
   "metadata": {},
   "outputs": [
    {
     "name": "stderr",
     "output_type": "stream",
     "text": [
      "/home/deb/miniconda3/lib/python3.9/site-packages/seaborn/distributions.py:2619: FutureWarning: `distplot` is a deprecated function and will be removed in a future version. Please adapt your code to use either `displot` (a figure-level function with similar flexibility) or `histplot` (an axes-level function for histograms).\n",
      "  warnings.warn(msg, FutureWarning)\n"
     ]
    },
    {
     "data": {
      "image/png": "[encoded data removed]",
      "text/plain": [
       "<Figure size 432x288 with 1 Axes>"
      ]
     },
     "metadata": {
      "needs_background": "light"
     },
     "output_type": "display_data"
    }
   ],
   "source": [
    "import seaborn as sns\n",
    "sns.distplot(df_copy.label_count, bins=10, color='b');"
   ]
  },
  {
   "cell_type": "code",
   "execution_count": 88,
   "id": "ff9fbd91-d26c-450a-9728-aca6bff42128",
   "metadata": {},
   "outputs": [],
   "source": [
    "lbls_sorted = sorted(lbl_freqs.items(), key=lambda item: item[1], reverse=True)"
   ]
  },
  {
   "cell_type": "code",
   "execution_count": 89,
   "id": "d85de31d-f8cf-405d-95b6-eafa7df6f0fc",
   "metadata": {},
   "outputs": [
    {
     "data": {
      "text/plain": [
       "[('455619', 2258),\n",
       " ('455662', 2176),\n",
       " ('547041', 2160),\n",
       " ('516790', 1214),\n",
       " ('455712', 1203),\n",
       " ('455620', 1133),\n",
       " ('632786', 1132),\n",
       " ('632789', 1132),\n",
       " ('632785', 1030),\n",
       " ('632788', 1030),\n",
       " ('492255', 938),\n",
       " ('455014', 872),\n",
       " ('670034', 850),\n",
       " ('427871', 815),\n",
       " ('599701', 803),\n",
       " ('308331', 801),\n",
       " ('581325', 801),\n",
       " ('649272', 799),\n",
       " ('455704', 762),\n",
       " ('666760', 733)]"
      ]
     },
     "execution_count": 89,
     "metadata": {},
     "output_type": "execute_result"
    }
   ],
   "source": [
    "lbls_sorted[:20]"
   ]
  },
  {
   "cell_type": "code",
   "execution_count": 90,
   "id": "bd338026-7583-4cba-9519-fa7ed9626996",
   "metadata": {},
   "outputs": [
    {
     "data": {
      "text/plain": [
       "((#670091) ['455619','455662','547041','516790','455712','455620','632786','632789','632785','632788'...],\n",
       " (#670091) [2258,2176,2160,1214,1203,1133,1132,1132,1030,1030...])"
      ]
     },
     "execution_count": 90,
     "metadata": {},
     "output_type": "execute_result"
    }
   ],
   "source": [
    "ranked_lbls = L(lbls_sorted).itemgot(0)\n",
    "ranked_freqs = L(lbls_sorted).itemgot(1)\n",
    "ranked_lbls, ranked_freqs"
   ]
  },
  {
   "cell_type": "code",
   "execution_count": 91,
   "id": "ca4caa8d-9494-4923-be64-d1a54311c7f5",
   "metadata": {},
   "outputs": [
    {
     "data": {
      "image/png": "[encoded data removed]",
      "text/plain": [
       "<Figure size 720x360 with 1 Axes>"
      ]
     },
     "metadata": {
      "needs_background": "light"
     },
     "output_type": "display_data"
    }
   ],
   "source": [
    "fig = plt.figure(figsize=(10,5))\n",
    "ax = fig.add_subplot(1,1,1)\n",
    "ax.plot(ranked_freqs)\n",
    "ax.set_xlabel('Labels ranked by frequency')\n",
    "ax.set_ylabel('Text Count')\n",
    "ax.set_yscale('log');"
   ]
  },
  {
   "cell_type": "markdown",
   "id": "2e620e7c-7df3-4bce-ae43-cec8eed716d6",
   "metadata": {
    "jp-MarkdownHeadingCollapsed": true,
    "tags": []
   },
   "source": [
    "#### Check #4: Computing the min label freq for each text"
   ]
  },
  {
   "cell_type": "code",
   "execution_count": 70,
   "id": "52d4ede1-b78f-4d80-961d-a247aa3bc609",
   "metadata": {
    "collapsed": true,
    "jupyter": {
     "outputs_hidden": true
    },
    "tags": []
   },
   "outputs": [
    {
     "data": {
      "text/html": [
       "<div>\n",
       "<style scoped>\n",
       "    .dataframe tbody tr th:only-of-type {\n",
       "        vertical-align: middle;\n",
       "    }\n",
       "\n",
       "    .dataframe tbody tr th {\n",
       "        vertical-align: top;\n",
       "    }\n",
       "\n",
       "    .dataframe thead th {\n",
       "        text-align: right;\n",
       "    }\n",
       "</style>\n",
       "<table border=\"1\" class=\"dataframe\">\n",
       "  <thead>\n",
       "    <tr style=\"text-align: right;\">\n",
       "      <th></th>\n",
       "      <th>text</th>\n",
       "      <th>labels</th>\n",
       "      <th>is_valid</th>\n",
       "      <th>label_count</th>\n",
       "      <th>min_code_freq</th>\n",
       "      <th>max_code_freq</th>\n",
       "      <th>90pct_code_freq</th>\n",
       "    </tr>\n",
       "  </thead>\n",
       "  <tbody>\n",
       "    <tr>\n",
       "      <th>0</th>\n",
       "      <td>Methodical Bible study: A new approach to hermeneutics /SEP/ Methodical Bible study: A new approach to hermeneutics. Inductive study compares related Bible texts in order to let the Bible interpret itself, rather than approaching Scripture with predetermined notions of what it will say.  Dr. Trainas Methodical Bible Study was not intended to be the last word in inductive Bible study; but since its first publication in 1952, it has become a foundational text in this field.  Christian colleges and seminaries have made it required reading for beginning Bible students, while many churches have...</td>\n",
       "      <td>34141,119299,126600,128716,187372,218742</td>\n",
       "      <td>False</td>\n",
       "      <td>6</td>\n",
       "      <td>2</td>\n",
       "      <td>29</td>\n",
       "      <td>25.5</td>\n",
       "    </tr>\n",
       "    <tr>\n",
       "      <th>1</th>\n",
       "      <td>Southeastern Mills Roast Beef Gravy Mix, 4.5-Ounce Packages (Pack of 24) /SEP/ Southeastern Mills Roast Beef Gravy Mix, 4.5-Ounce Packages (Pack of 24). Makes 3-1/2 cups. Down home taste. Makes hearty beef stew base.</td>\n",
       "      <td>465536,465553,615429</td>\n",
       "      <td>False</td>\n",
       "      <td>3</td>\n",
       "      <td>2</td>\n",
       "      <td>3</td>\n",
       "      <td>3.0</td>\n",
       "    </tr>\n",
       "    <tr>\n",
       "      <th>2</th>\n",
       "      <td>MMF Industries 24-Key Portable Zippered Key Case (201502417) /SEP/ MMF Industries 24-Key Portable Zippered Key Case (201502417). The MMF Industries 201502417 24-Key Portable Zippered Key Case is an attractive burgundy-colored leather-like vinyl case with brass corners and looks like a portfolio. Its easy-slide zipper keeps keys enclosed, and a hook-and-loop fastener strips keep keys securely in place. Key tags are included.\\tZippered key case offers a portable alternative to metal wall key cabinets. Included key tags are backed by hook-and-loop closures. Easy slide zipper keeps keys enclos...</td>\n",
       "      <td>393828</td>\n",
       "      <td>False</td>\n",
       "      <td>1</td>\n",
       "      <td>2</td>\n",
       "      <td>2</td>\n",
       "      <td>2.0</td>\n",
       "    </tr>\n",
       "    <tr>\n",
       "      <th>3</th>\n",
       "      <td>Hoover the Fishing President /SEP/ Hoover the Fishing President. Hal Elliott Wert has spent years researching Herbert Hoover, Franklin Roosevelt, and Harry Truman. He holds a Ph.D. from the University of Kansas and currently teaches at the Kansas City Art Institute.</td>\n",
       "      <td>167614,223686</td>\n",
       "      <td>False</td>\n",
       "      <td>2</td>\n",
       "      <td>4</td>\n",
       "      <td>4</td>\n",
       "      <td>4.0</td>\n",
       "    </tr>\n",
       "    <tr>\n",
       "      <th>4</th>\n",
       "      <td>GeoPuzzle U.S.A. and Canada - Educational Geography Jigsaw Puzzle (69 pcs) /SEP/ GeoPuzzle U.S.A. and Canada - Educational Geography Jigsaw Puzzle (69 pcs). GeoPuzzles are jigsaw puzzles that make learning world geography fun. The pieces of a GeoPuzzle are shaped like individual countries, so children learn as they put the puzzle together. Award-winning Geopuzzles help to build fine motor, cognitive, language, and problem-solving skills, and are a great introduction to world geography for children 4 and up. Designed by an art professor, jumbo sized and brightly colored GeoPuzzles are avail...</td>\n",
       "      <td>480528,480530,480532,485144,485146,598793</td>\n",
       "      <td>False</td>\n",
       "      <td>6</td>\n",
       "      <td>5</td>\n",
       "      <td>10</td>\n",
       "      <td>8.5</td>\n",
       "    </tr>\n",
       "    <tr>\n",
       "      <th>5</th>\n",
       "      <td>Amazon.com: Paul Fredrick Men's Cotton Pinpoint Oxford Straight Collar Dress Shirt: Clothing /SEP/ Amazon.com: Paul Fredrick Men's Cotton Pinpoint Oxford Straight Collar Dress Shirt: Clothing. Pinpoint Oxford Cotton. Traditional Straight Collar, 1/4 Topstitched. Button Cuffs, 1/4 Topstitched. Embedded Collar Stay. Regular, Big and Tall. Top Center Placket. Split Yoke. Single Front Rounded Pocket. Machine Wash Or Dry Clean. Imported. * Big and Tall Sizes - addl $5.00</td>\n",
       "      <td>516790,567615,670034</td>\n",
       "      <td>False</td>\n",
       "      <td>3</td>\n",
       "      <td>256</td>\n",
       "      <td>1214</td>\n",
       "      <td>1141.2</td>\n",
       "    </tr>\n",
       "    <tr>\n",
       "      <th>6</th>\n",
       "      <td>Darkest Fear : A Myron Bolitar Novel /SEP/ Darkest Fear : A Myron Bolitar Novel. Myron Bolitar's father's recent heart attack brings Myron smack into a midlife encounter with issues of adulthood and mortality. And if that's not enough to turn his life upside down, the reappearance of his first serious girlfriend is. The basketball star turned sports agent, who does a little detecting when business is slow, is saddened by the news that Emily Downing's 13-year-old son is dying and desperately needs a bone marrow transplant; even if she did leave him for the man who destroyed his basketball c...</td>\n",
       "      <td>50442,50516,50647,50672,50680,662538</td>\n",
       "      <td>False</td>\n",
       "      <td>6</td>\n",
       "      <td>2</td>\n",
       "      <td>3</td>\n",
       "      <td>2.5</td>\n",
       "    </tr>\n",
       "    <tr>\n",
       "      <th>7</th>\n",
       "      <td>In Debt We Trust (2007) /SEP/ In Debt We Trust (2007). Just a few decades ago, owing more money than you had in your  bank account was the exception, not the rule.  Yet, in the last 10 years,  consumer debt has doubled and, for the first time, Americans are spending  more than they're saving -- or making.  This April, award-winning former  ABC News and CNN producer Danny Schechter investigates America's mounting  debt crisis in his latest hard-hitting expose, IN DEBT WE TRUST.   While many Americans are \"maxing out\" on credit cards, there is a  much deeper story: power is shifting into few...</td>\n",
       "      <td>493095,499382,560691,589867,591343,611615,619231</td>\n",
       "      <td>False</td>\n",
       "      <td>7</td>\n",
       "      <td>4</td>\n",
       "      <td>50</td>\n",
       "      <td>47.0</td>\n",
       "    </tr>\n",
       "    <tr>\n",
       "      <th>8</th>\n",
       "      <td>Craftsman 9-34740 32 Piece 1/4-3/8 Drive Standard/Metric Socket Wrench Set /SEP/ Craftsman 9-34740 32 Piece 1/4-3/8 Drive Standard/Metric Socket Wrench Set. Craftsman 9-34740 32 Pc. 1/4-3/8 Drive Standard/Metric Socket Wrench Set. The Craftsman 9-34740 32 Pc. 1/4-3/8 Drive Standard/Metric Socket Wrench Set includes 1/4 Inch Drive Sockets; 8 Six-Point Standard Sockets:9-43492 7/32-Inch, 9-43496 11/32,9-43493 1/4-Inch, 9-43497 3/8-Inch, 9-43494 9/32-Inch, 9-43498 7/16-Inch,9-43495 5/16-Inch, 9-43499 1/2-Inch; 7 Six-Point Metric Sockets:9-43505 4mm, 9-43504 8mm, 9-43501 5mm, 9-43507 9mm,9-435...</td>\n",
       "      <td>590298,609038</td>\n",
       "      <td>False</td>\n",
       "      <td>2</td>\n",
       "      <td>2</td>\n",
       "      <td>2</td>\n",
       "      <td>2.0</td>\n",
       "    </tr>\n",
       "    <tr>\n",
       "      <th>9</th>\n",
       "      <td>2013 Hammer Nutrition Complex Carbohydrate Energy Gel - 12-Pack /SEP/ 2013 Hammer Nutrition Complex Carbohydrate Energy Gel - 12-Pack. Hammer Nutrition made the Complex Carbohydrate Energy Gel with natural ingredients and real fruit, so you won't have those unhealthy insulin-spike sugar highs. Instead, you get prolonged energy levels from the complex carbohydrates and amino acids in this Hammer Gel. The syrup-like consistency makes it easy to drink straight or add to your water. Unlike nutrition bars that freeze on your winter treks or melt during hot adventure races, the Complex Carbohydr...</td>\n",
       "      <td>453268,453277,510450,516828,520780,542684,634756</td>\n",
       "      <td>False</td>\n",
       "      <td>7</td>\n",
       "      <td>3</td>\n",
       "      <td>11</td>\n",
       "      <td>9.2</td>\n",
       "    </tr>\n",
       "  </tbody>\n",
       "</table>\n",
       "</div>"
      ],
      "text/plain": [
       "                                                                                                                                                                                                                                                                                                                                                                                                                                                                                                                                                                                                                      text  \\\n",
       "0  Methodical Bible study: A new approach to hermeneutics /SEP/ Methodical Bible study: A new approach to hermeneutics. Inductive study compares related Bible texts in order to let the Bible interpret itself, rather than approaching Scripture with predetermined notions of what it will say.  Dr. Trainas Methodical Bible Study was not intended to be the last word in inductive Bible study; but since its first publication in 1952, it has become a foundational text in this field.  Christian colleges and seminaries have made it required reading for beginning Bible students, while many churches have...   \n",
       "1                                                                                                                                                                                                                                                                                                                                                                                                 Southeastern Mills Roast Beef Gravy Mix, 4.5-Ounce Packages (Pack of 24) /SEP/ Southeastern Mills Roast Beef Gravy Mix, 4.5-Ounce Packages (Pack of 24). Makes 3-1/2 cups. Down home taste. Makes hearty beef stew base.   \n",
       "2  MMF Industries 24-Key Portable Zippered Key Case (201502417) /SEP/ MMF Industries 24-Key Portable Zippered Key Case (201502417). The MMF Industries 201502417 24-Key Portable Zippered Key Case is an attractive burgundy-colored leather-like vinyl case with brass corners and looks like a portfolio. Its easy-slide zipper keeps keys enclosed, and a hook-and-loop fastener strips keep keys securely in place. Key tags are included.\\tZippered key case offers a portable alternative to metal wall key cabinets. Included key tags are backed by hook-and-loop closures. Easy slide zipper keeps keys enclos...   \n",
       "3                                                                                                                                                                                                                                                                                                                                               Hoover the Fishing President /SEP/ Hoover the Fishing President. Hal Elliott Wert has spent years researching Herbert Hoover, Franklin Roosevelt, and Harry Truman. He holds a Ph.D. from the University of Kansas and currently teaches at the Kansas City Art Institute.   \n",
       "4  GeoPuzzle U.S.A. and Canada - Educational Geography Jigsaw Puzzle (69 pcs) /SEP/ GeoPuzzle U.S.A. and Canada - Educational Geography Jigsaw Puzzle (69 pcs). GeoPuzzles are jigsaw puzzles that make learning world geography fun. The pieces of a GeoPuzzle are shaped like individual countries, so children learn as they put the puzzle together. Award-winning Geopuzzles help to build fine motor, cognitive, language, and problem-solving skills, and are a great introduction to world geography for children 4 and up. Designed by an art professor, jumbo sized and brightly colored GeoPuzzles are avail...   \n",
       "5                                                                                                                                   Amazon.com: Paul Fredrick Men's Cotton Pinpoint Oxford Straight Collar Dress Shirt: Clothing /SEP/ Amazon.com: Paul Fredrick Men's Cotton Pinpoint Oxford Straight Collar Dress Shirt: Clothing. Pinpoint Oxford Cotton. Traditional Straight Collar, 1/4 Topstitched. Button Cuffs, 1/4 Topstitched. Embedded Collar Stay. Regular, Big and Tall. Top Center Placket. Split Yoke. Single Front Rounded Pocket. Machine Wash Or Dry Clean. Imported. * Big and Tall Sizes - addl $5.00   \n",
       "6  Darkest Fear : A Myron Bolitar Novel /SEP/ Darkest Fear : A Myron Bolitar Novel. Myron Bolitar's father's recent heart attack brings Myron smack into a midlife encounter with issues of adulthood and mortality. And if that's not enough to turn his life upside down, the reappearance of his first serious girlfriend is. The basketball star turned sports agent, who does a little detecting when business is slow, is saddened by the news that Emily Downing's 13-year-old son is dying and desperately needs a bone marrow transplant; even if she did leave him for the man who destroyed his basketball c...   \n",
       "7  In Debt We Trust (2007) /SEP/ In Debt We Trust (2007). Just a few decades ago, owing more money than you had in your  bank account was the exception, not the rule.  Yet, in the last 10 years,  consumer debt has doubled and, for the first time, Americans are spending  more than they're saving -- or making.  This April, award-winning former  ABC News and CNN producer Danny Schechter investigates America's mounting  debt crisis in his latest hard-hitting expose, IN DEBT WE TRUST.   While many Americans are \"maxing out\" on credit cards, there is a  much deeper story: power is shifting into few...   \n",
       "8  Craftsman 9-34740 32 Piece 1/4-3/8 Drive Standard/Metric Socket Wrench Set /SEP/ Craftsman 9-34740 32 Piece 1/4-3/8 Drive Standard/Metric Socket Wrench Set. Craftsman 9-34740 32 Pc. 1/4-3/8 Drive Standard/Metric Socket Wrench Set. The Craftsman 9-34740 32 Pc. 1/4-3/8 Drive Standard/Metric Socket Wrench Set includes 1/4 Inch Drive Sockets; 8 Six-Point Standard Sockets:9-43492 7/32-Inch, 9-43496 11/32,9-43493 1/4-Inch, 9-43497 3/8-Inch, 9-43494 9/32-Inch, 9-43498 7/16-Inch,9-43495 5/16-Inch, 9-43499 1/2-Inch; 7 Six-Point Metric Sockets:9-43505 4mm, 9-43504 8mm, 9-43501 5mm, 9-43507 9mm,9-435...   \n",
       "9  2013 Hammer Nutrition Complex Carbohydrate Energy Gel - 12-Pack /SEP/ 2013 Hammer Nutrition Complex Carbohydrate Energy Gel - 12-Pack. Hammer Nutrition made the Complex Carbohydrate Energy Gel with natural ingredients and real fruit, so you won't have those unhealthy insulin-spike sugar highs. Instead, you get prolonged energy levels from the complex carbohydrates and amino acids in this Hammer Gel. The syrup-like consistency makes it easy to drink straight or add to your water. Unlike nutrition bars that freeze on your winter treks or melt during hot adventure races, the Complex Carbohydr...   \n",
       "\n",
       "                                             labels  is_valid  label_count  \\\n",
       "0          34141,119299,126600,128716,187372,218742     False            6   \n",
       "1                              465536,465553,615429     False            3   \n",
       "2                                            393828     False            1   \n",
       "3                                     167614,223686     False            2   \n",
       "4         480528,480530,480532,485144,485146,598793     False            6   \n",
       "5                              516790,567615,670034     False            3   \n",
       "6              50442,50516,50647,50672,50680,662538     False            6   \n",
       "7  493095,499382,560691,589867,591343,611615,619231     False            7   \n",
       "8                                     590298,609038     False            2   \n",
       "9  453268,453277,510450,516828,520780,542684,634756     False            7   \n",
       "\n",
       "   min_code_freq  max_code_freq  90pct_code_freq  \n",
       "0              2             29             25.5  \n",
       "1              2              3              3.0  \n",
       "2              2              2              2.0  \n",
       "3              4              4              4.0  \n",
       "4              5             10              8.5  \n",
       "5            256           1214           1141.2  \n",
       "6              2              3              2.5  \n",
       "7              4             50             47.0  \n",
       "8              2              2              2.0  \n",
       "9              3             11              9.2  "
      ]
     },
     "execution_count": 70,
     "metadata": {},
     "output_type": "execute_result"
    }
   ],
   "source": [
    "df_copy.head(10)"
   ]
  },
  {
   "cell_type": "code",
   "execution_count": 92,
   "id": "63b368d8-9b78-44b7-83b1-55b9350c30c1",
   "metadata": {},
   "outputs": [],
   "source": [
    "df_copy['min_code_freq'] = df_copy.apply(\n",
    "    lambda row: min([lbl_freqs[lbl] for lbl in row.labels.split(',')]), axis=1)"
   ]
  },
  {
   "cell_type": "code",
   "execution_count": 93,
   "id": "5dfda215-baea-40f5-aaa6-365cc2c12816",
   "metadata": {},
   "outputs": [],
   "source": [
    "df_copy['max_code_freq'] = df_copy.apply(\n",
    "    lambda row: max([lbl_freqs[lbl] for lbl in row.labels.split(',')]), axis=1)"
   ]
  },
  {
   "cell_type": "code",
   "execution_count": 94,
   "id": "59f37236-c1b0-459e-9fa4-23ab9a520ee0",
   "metadata": {},
   "outputs": [],
   "source": [
    "df_copy['90pct_code_freq'] = df_copy.apply(\n",
    "    lambda row: np.percentile([lbl_freqs[lbl] for lbl in row.labels.split(',')], 90), axis=1)"
   ]
  },
  {
   "cell_type": "code",
   "execution_count": 95,
   "id": "8f0f2290-0a71-45ab-b378-019699a02a4e",
   "metadata": {},
   "outputs": [
    {
     "data": {
      "image/png": "[encoded data removed]",
      "text/plain": [
       "<Figure size 1440x1440 with 6 Axes>"
      ]
     },
     "metadata": {
      "needs_background": "light"
     },
     "output_type": "display_data"
    }
   ],
   "source": [
    "fig, axes = plt.subplots(nrows=3, ncols=2, figsize=(20,20))\n",
    "\n",
    "for freq, axis in zip(['min_code_freq', 'max_code_freq', '90pct_code_freq'], axes):\n",
    "    df_copy[freq].hist(ax=axis[0], bins=25)\n",
    "    axis[0].set_xlabel(freq)\n",
    "    axis[0].set_ylabel('Text Count')\n",
    "    df_copy[freq].plot.density(ax=axis[1])\n",
    "    axis[1].set_xlabel(freq)\n",
    "    "
   ]
  },
  {
   "cell_type": "code",
   "execution_count": 96,
   "id": "56145d70-0f65-499f-ace7-36c1a8e21b32",
   "metadata": {},
   "outputs": [],
   "source": [
    "min_code_freqs = Counter(df_copy['min_code_freq'])\n",
    "max_code_freqs = Counter(df_copy['max_code_freq'])\n",
    "nintypct_code_freqs = Counter(df_copy['90pct_code_freq'])"
   ]
  },
  {
   "cell_type": "code",
   "execution_count": 97,
   "id": "edafb421-df2e-48e2-a376-b20e5830143a",
   "metadata": {},
   "outputs": [
    {
     "data": {
      "text/plain": [
       "643474"
      ]
     },
     "execution_count": 97,
     "metadata": {},
     "output_type": "execute_result"
    }
   ],
   "source": [
    "total_notes = L(min_code_freqs.values()).sum()\n",
    "total_notes"
   ]
  },
  {
   "cell_type": "code",
   "execution_count": 98,
   "id": "8611757d-d58d-47a5-b9d7-166b09dadb89",
   "metadata": {},
   "outputs": [],
   "source": [
    "for kmin in min_code_freqs:\n",
    "    min_code_freqs[kmin] = (min_code_freqs[kmin]/total_notes) * 100\n",
    "    \n",
    "for kmax in max_code_freqs:\n",
    "    max_code_freqs[kmax] = (max_code_freqs[kmax]/total_notes) * 100\n",
    "    \n",
    "for k90pct in nintypct_code_freqs:\n",
    "    nintypct_code_freqs[k90pct] = (nintypct_code_freqs[k90pct]/total_notes) * 100"
   ]
  },
  {
   "cell_type": "code",
   "execution_count": 99,
   "id": "76c88c72-faef-4579-915d-fda715410952",
   "metadata": {},
   "outputs": [],
   "source": [
    "min_code_freqs = dict(sorted(min_code_freqs.items(), key=lambda item: item[0]))\n",
    "max_code_freqs = dict(sorted(max_code_freqs.items(), key=lambda item: item[0]))\n",
    "nintypct_code_freqs = dict(sorted(nintypct_code_freqs.items(), key=lambda item: item[0]))"
   ]
  },
  {
   "cell_type": "code",
   "execution_count": 100,
   "id": "d3642c3a-3e8a-4791-83b6-61d8a2dae5cf",
   "metadata": {},
   "outputs": [
    {
     "data": {
      "image/png": "[encoded data removed]",
      "text/plain": [
       "<Figure size 1440x1440 with 6 Axes>"
      ]
     },
     "metadata": {
      "needs_background": "light"
     },
     "output_type": "display_data"
    }
   ],
   "source": [
    "fig, axes = plt.subplots(nrows=3, ncols=2, figsize=(20,20))\n",
    "\n",
    "for axis, freq_dict, label in zip(axes, (min_code_freqs, max_code_freqs, nintypct_code_freqs), ('min', 'max', '90pct')):\n",
    "    axis[0].plot(freq_dict.keys(), freq_dict.values())\n",
    "    axis[0].set_xlabel(f\"{label} label freq (f)\")\n",
    "    axis[0].set_ylabel(\"% of texts (P[f])\");\n",
    "    \n",
    "    axis[1].plot(freq_dict.keys(), np.cumsum(list(freq_dict.values())))\n",
    "    axis[1].set_xlabel(f\"{label} code freq (f)\")\n",
    "    axis[1].set_ylabel(\"P[f<=t]\");"
   ]
  },
  {
   "cell_type": "markdown",
   "id": "dcf56be8-093f-4111-bb83-6bb554d29f59",
   "metadata": {
    "tags": []
   },
   "source": [
    "### Steps for creating the classifier `DataLoaders` using fastai's `Transforms`:"
   ]
  },
  {
   "cell_type": "markdown",
   "id": "b6244383-cd5a-41c9-b0e1-0023cd9be9a9",
   "metadata": {
    "tags": []
   },
   "source": [
    "#### 1. train/valid `splitter`:"
   ]
  },
  {
   "cell_type": "markdown",
   "id": "d9c0dca9-5e1f-4ca9-82c5-9ebe66675798",
   "metadata": {},
   "source": [
    "Okay, based on the `is_valid` column of our Dataframe, let's create a splitter:"
   ]
  },
  {
   "cell_type": "code",
   "execution_count": 44,
   "id": "75d5f107-0dd9-488a-97ac-44fd174b4cae",
   "metadata": {},
   "outputs": [],
   "source": [
    "def splitter(df):\n",
    "    train = df.index[~df['is_valid']].tolist()\n",
    "    valid = df.index[df['is_valid']].to_list()\n",
    "    return train, valid"
   ]
  },
  {
   "cell_type": "markdown",
   "id": "99e790b0-42d1-4bbf-a4b2-b2dab4e78129",
   "metadata": {},
   "source": [
    "Let's check the train/valid split"
   ]
  },
  {
   "cell_type": "code",
   "execution_count": 45,
   "id": "2ae731a4-7874-46c4-a504-926fd6c3ca4d",
   "metadata": {},
   "outputs": [
    {
     "data": {
      "text/plain": [
       "((#244) [0,1,2,3,4,5,6,7,8,9...],\n",
       " (#20) [26,44,60,77,82,108,115,124,154,159...])"
      ]
     },
     "execution_count": 45,
     "metadata": {},
     "output_type": "execute_result"
    }
   ],
   "source": [
    "splits = [train, valid] = splitter(df)\n",
    "L(splits[0]), L(splits[1])"
   ]
  },
  {
   "cell_type": "markdown",
   "id": "b6d8686d-6831-43e5-8550-6f7384f83098",
   "metadata": {
    "jp-MarkdownHeadingCollapsed": true,
    "tags": []
   },
   "source": [
    "#### 2. Making the `Datasets` object:"
   ]
  },
  {
   "cell_type": "markdown",
   "id": "0b2b71bb-ccd3-457a-bc0e-13698c327931",
   "metadata": {},
   "source": [
    "**Crucial:** We need the vocab of the language model so that we can make sure we use the same correspondence of token to index. Otherwise, the embeddings we learned in our fine-tuned language model won't make any sense to our classifier model, and the fine-tuning won't be of any use. So we need to pass the `lm_vocab` to the `Numericalize` transform:"
   ]
  },
  {
   "cell_type": "markdown",
   "id": "d1b3b1e4-8ae4-48e8-92e8-67bc6f44fd0c",
   "metadata": {},
   "source": [
    "So let's load the vocab of the language model:"
   ]
  },
  {
   "cell_type": "code",
   "execution_count": 61,
   "id": "e98ea891-3938-4144-b905-07e7154c4593",
   "metadata": {
    "tags": []
   },
   "outputs": [],
   "source": [
    "lm_vocab = torch.load(dls_lm_vocab_path)\n",
    "lm_vocab_r = torch.load(dls_lm_vocab_r_path)"
   ]
  },
  {
   "cell_type": "code",
   "execution_count": 62,
   "id": "1082cdb8-3e15-4d4f-bc9a-ebdb5324bfa2",
   "metadata": {
    "tags": []
   },
   "outputs": [
    {
     "data": {
      "text/plain": [
       "((#57376) ['xxunk','xxpad','xxbos','xxeos','xxfld','xxrep','xxwrep','xxup','xxmaj','the'...],\n",
       " (#57376) ['xxunk','xxpad','xxbos','xxeos','xxfld','xxrep','xxwrep','xxup','xxmaj','the'...])"
      ]
     },
     "execution_count": 62,
     "metadata": {},
     "output_type": "execute_result"
    }
   ],
   "source": [
    "L(lm_vocab), L(lm_vocab_r)"
   ]
  },
  {
   "cell_type": "code",
   "execution_count": 63,
   "id": "74eb28bc-bd5e-423f-b339-62a7e2c7caf9",
   "metadata": {},
   "outputs": [],
   "source": [
    "x_tfms = [Tokenizer.from_df('text'), attrgetter(\"text\"), Numericalize(vocab=lm_vocab)]\n",
    "x_tfms_r = [Tokenizer.from_df('text', ), attrgetter(\"text\"), Numericalize(vocab=lm_vocab), reverse_text]\n",
    "y_tfms = [ColReader('labels', label_delim=';'), MultiCategorize(vocab=lbls), OneHotEncode()]\n",
    "tfms = [x_tfms, y_tfms]\n",
    "tfms_r = [x_tfms_r, y_tfms]"
   ]
  },
  {
   "cell_type": "code",
   "execution_count": 68,
   "id": "f5f6569a-29af-40a9-945c-d8bb94f569e4",
   "metadata": {},
   "outputs": [
    {
     "data": {
      "text/html": [
       "\n",
       "<style>\n",
       "    /* Turns off some styling */\n",
       "    progress {\n",
       "        /* gets rid of default border in Firefox and Opera. */\n",
       "        border: none;\n",
       "        /* Needs to be in here for Safari polyfill so background images work as expected. */\n",
       "        background-size: auto;\n",
       "    }\n",
       "    .progress-bar-interrupted, .progress-bar-interrupted::-webkit-progress-bar {\n",
       "        background: #F44336;\n",
       "    }\n",
       "</style>\n"
      ],
      "text/plain": [
       "<IPython.core.display.HTML object>"
      ]
     },
     "metadata": {},
     "output_type": "display_data"
    },
    {
     "data": {
      "text/html": [],
      "text/plain": [
       "<IPython.core.display.HTML object>"
      ]
     },
     "metadata": {},
     "output_type": "display_data"
    }
   ],
   "source": [
    "dsets = Datasets(df, tfms, splits=splits)"
   ]
  },
  {
   "cell_type": "code",
   "execution_count": 69,
   "id": "ae9c7377-af18-4a5b-b4b4-56ab5eb2eb64",
   "metadata": {},
   "outputs": [
    {
     "data": {
      "text/html": [
       "\n",
       "<style>\n",
       "    /* Turns off some styling */\n",
       "    progress {\n",
       "        /* gets rid of default border in Firefox and Opera. */\n",
       "        border: none;\n",
       "        /* Needs to be in here for Safari polyfill so background images work as expected. */\n",
       "        background-size: auto;\n",
       "    }\n",
       "    .progress-bar-interrupted, .progress-bar-interrupted::-webkit-progress-bar {\n",
       "        background: #F44336;\n",
       "    }\n",
       "</style>\n"
      ],
      "text/plain": [
       "<IPython.core.display.HTML object>"
      ]
     },
     "metadata": {},
     "output_type": "display_data"
    },
    {
     "data": {
      "text/html": [],
      "text/plain": [
       "<IPython.core.display.HTML object>"
      ]
     },
     "metadata": {},
     "output_type": "display_data"
    }
   ],
   "source": [
    "dsets_r = Datasets(df, tfms_r, splits=splits)"
   ]
  },
  {
   "cell_type": "markdown",
   "id": "2417bde0-457a-43da-9da0-73d2b3f0d8f3",
   "metadata": {},
   "source": [
    "Let's now check if our `Datasets` got created alright:"
   ]
  },
  {
   "cell_type": "code",
   "execution_count": 70,
   "id": "e44ebc4e-6176-4020-aad5-c1124e86a901",
   "metadata": {
    "tags": []
   },
   "outputs": [
    {
     "data": {
      "text/plain": [
       "(244, 20)"
      ]
     },
     "execution_count": 70,
     "metadata": {},
     "output_type": "execute_result"
    }
   ],
   "source": [
    "len(dsets.train), len(dsets.valid)"
   ]
  },
  {
   "cell_type": "code",
   "execution_count": 71,
   "id": "c1dc4f8c-44e5-4e95-bd40-5f56ab201e35",
   "metadata": {
    "tags": []
   },
   "outputs": [],
   "source": [
    "x, x_r = dsets.train[0], dsets_r.train[0]"
   ]
  },
  {
   "cell_type": "code",
   "execution_count": 72,
   "id": "5a868865-af74-4f90-81dd-d9c8edf68783",
   "metadata": {
    "collapsed": true,
    "jupyter": {
     "outputs_hidden": true
    },
    "tags": []
   },
   "outputs": [
    {
     "data": {
      "text/plain": [
       "('xxbos admission date discharge date date of birth sex m service medicine allergies patient recorded as having no known allergies to drugs attending first name3 lf chief complaint right basal ganglia hemorrhage with intraventricular extension major surgical or invasive procedure ventriculostomy history of present illness year old man with a history of frontal infarct htn dyslipidemia and thrombocytopenia on aggrenox presented to an osh this afternoon after reportedly being found unresponsive at the side of a swimming pool he was last seen at baseline at pm and there was no apparent trauma involved he was taken to hospital3 hospital for urgent evaluation on arrival to hospital3 the patient reportedly was hypertensive with slurred speech a right facial droop a flaccid left arm and right sided tremor seizure he was sedated and intubated and ultimately maintained on propofol a right basal ganglionic hemorrhage with extensive intraventricular spread was seen on non contrast ct he was loaded with dilantin the patient had bradycardia into the 30s that improved with atropine though pressure was preserved of note his platelet count was and inr was on arrival to hospital1 the patient was bradycardic again requiring atropine he became hypotensive as well requiring epinephrine then a dopamine drip neurosurgery and neurology consults were called for further evaluation past medical history carpal tunnel b l bph barrett s esophagus right hearing aid glaucoma in left eye h o tias memory problems parasomnias ocd depression anxiety htn hypercholesterolemia social history lives w wife children live in the area family history nc physical exam general elderly man eyes closed heent nc at sclerae anicteric orally intubated neck supple no nuchal rigidity lungs clear to auscultation cv bradycardic regular rhythm no mmrg abdomen soft non tender non distended bowel sounds present ext warm no edema pedal pulses appreciated skin no rashes neurologic examination mental status eyes closed unresponsive to voice though seems to internally rotate left arm at shoulder with sternal rub cranial nerves optic disc margins difficult to appreciate due to miosis no blink to threat bilaterally pupils unreactive to light mm on left mm on right no response to nasal tickle doll s eyes and corneals absent facial appears symmetric though difficult to assess accurately no gag motor normal bulk reduced tone throughout intermittently seems to internally rotate left arm at shoulder otherwise no spontaneous movement sensation withdraws right arm and leg more briskly to noxious than left side pertinent results non contrast head ct here wet read right basal ganglia hemorrhage extending into the lateral third fourth ventricle worst than the osh study performed earlier today there is extension into the bilateral foramen of luschka patient at risk of obstructive hydrocephalus no midline shift or herniation 30pm fibrinoge 30pm plt count 30pm pt ptt inr pt 30pm wbc rbc hgb hct mcv mch mchc rdw 30pm freeca 30pm glucose lactate na k cl tco2 30pm type last name un ph comments green top 30pm asa neg ethanol neg acetmnphn neg bnzodzpn neg barbitrt neg tricyclic neg 30pm amylase 30pm urea n creat 45pm type art temp rates tidal vol peep o2 po2 pco2 ph total co2 base xs aado2 req o2 intubated intubated vent controlled 50pm urine blood neg nitrite neg protein neg glucose neg ketone neg bilirubin neg urobilngn neg ph leuk neg 50pm urine color straw appear clear sp last name un brief hospital course a p year old male s p hemorrhagic stroke with likely aspiration pneumonia fever resolved and continued increased respiratory effort intubated for hypoxia and hypercarbia plus increasing work of breathing family meeting held and decided to go to cmo on pt was pronounced dead from respiratory failure hemorrhagic stroke and aspiration pneumonia at on family declined autospy pneumonia likely aspiration serratia and xxunk positive sputum now intubated d c d vanc and zosyn on continue cipro for serratia positive sputum on h flu and yeast on mouth care ventilated family has decided to go to cmo on increased sedation with fentanyl holding suctioning to spare pt pain hemorrhagic cva psych on xxunk escitalopram zyprexa agitated now on prn low dose olanzapine with good effect and fentanyl sedation xxunk mass on the head at the site of csf shunt neurosurgery following will not intervene ecg changes resolved ces negative continue beta blocker statin thrombocytopenia resolved medications on admission aggrenox simvastatin lisinopril aricept depakote klonopin doxazosin proscar ppi abilify folate discharge medications expired discharge disposition expired discharge diagnosis expired discharge condition expired discharge instructions expired followup instructions expired completed by',\n",
       " (#14) ['431','507.0','518.81','112.0','287.4','401.9','427.89','600.00','272.4','300.4'...])"
      ]
     },
     "execution_count": 72,
     "metadata": {},
     "output_type": "execute_result"
    }
   ],
   "source": [
    "dsets.decode(x)"
   ]
  },
  {
   "cell_type": "code",
   "execution_count": 30,
   "id": "a6e9d8e2-d506-44cd-860b-1b6f95dcce6c",
   "metadata": {
    "collapsed": true,
    "jupyter": {
     "outputs_hidden": true
    },
    "tags": []
   },
   "outputs": [
    {
     "name": "stdout",
     "output_type": "stream",
     "text": [
      "xxbos admission date discharge date date of birth sex m service medicine allergies patient recorded as having no known allergies to drugs attending first name3 lf chief complaint right basal ganglia hemorrhage with intraventricular extension major surgical or invasive procedure ventriculostomy history of present illness year old man with a history of frontal infarct htn dyslipidemia and thrombocytopenia on aggrenox presented to an osh this afternoon after reportedly being found unresponsive at the side of a swimming pool he was last seen at baseline at pm and there was no apparent trauma involved he was taken to hospital3 hospital for urgent evaluation on arrival to hospital3 the patient reportedly was hypertensive with slurred speech a right facial droop a flaccid left arm and right sided tremor seizure he was sedated and intubated and ultimately maintained on propofol a right basal ganglionic hemorrhage with extensive intraventricular spread was seen on non contrast ct he was loaded with dilantin the patient had bradycardia into the 30s that improved with atropine though pressure was preserved of note his platelet count was and inr was on arrival to hospital1 the patient was bradycardic again requiring atropine he became hypotensive as well requiring epinephrine then a dopamine drip neurosurgery and neurology consults were called for further evaluation past medical history carpal tunnel b l bph barrett s esophagus right hearing aid glaucoma in left eye h o tias memory problems parasomnias ocd depression anxiety htn hypercholesterolemia social history lives w wife children live in the area family history nc physical exam general elderly man eyes closed heent nc at sclerae anicteric orally intubated neck supple no nuchal rigidity lungs clear to auscultation cv bradycardic regular rhythm no mmrg abdomen soft non tender non distended bowel sounds present ext warm no edema pedal pulses appreciated skin no rashes neurologic examination mental status eyes closed unresponsive to voice though seems to internally rotate left arm at shoulder with sternal rub cranial nerves optic disc margins difficult to appreciate due to miosis no blink to threat bilaterally pupils unreactive to light mm on left mm on right no response to nasal tickle doll s eyes and corneals absent facial appears symmetric though difficult to assess accurately no gag motor normal bulk reduced tone throughout intermittently seems to internally rotate left arm at shoulder otherwise no spontaneous movement sensation withdraws right arm and leg more briskly to noxious than left side pertinent results non contrast head ct here wet read right basal ganglia hemorrhage extending into the lateral third fourth ventricle worst than the osh study performed earlier today there is extension into the bilateral foramen of luschka patient at risk of obstructive hydrocephalus no midline shift or herniation 30pm fibrinoge 30pm plt count 30pm pt ptt inr pt 30pm wbc rbc hgb hct mcv mch mchc rdw 30pm freeca 30pm glucose lactate na k cl tco2 30pm type last name un ph comments green top 30pm asa neg ethanol neg acetmnphn neg bnzodzpn neg barbitrt neg tricyclic neg 30pm amylase 30pm urea n creat 45pm type art temp rates tidal vol peep o2 po2 pco2 ph total co2 base xs aado2 req o2 intubated intubated vent controlled 50pm urine blood neg nitrite neg protein neg glucose neg ketone neg bilirubin neg urobilngn neg ph leuk neg 50pm urine color straw appear clear sp last name un brief hospital course a p year old male s p hemorrhagic stroke with likely aspiration pneumonia fever resolved and continued increased respiratory effort intubated for hypoxia and hypercarbia plus increasing work of breathing family meeting held and decided to go to cmo on pt was pronounced dead from respiratory failure hemorrhagic stroke and aspiration pneumonia at on family declined autospy pneumonia likely aspiration serratia and xxunk positive sputum now intubated d c d vanc and zosyn on continue cipro for serratia positive sputum on h flu and yeast on mouth care ventilated family has decided to go to cmo on increased sedation with fentanyl holding suctioning to spare pt pain hemorrhagic cva psych on xxunk escitalopram zyprexa agitated now on prn low dose olanzapine with good effect and fentanyl sedation xxunk mass on the head at the site of csf shunt neurosurgery following will not intervene ecg changes resolved ces negative continue beta blocker statin thrombocytopenia resolved medications on admission aggrenox simvastatin lisinopril aricept depakote klonopin doxazosin proscar ppi abilify folate discharge medications expired discharge disposition expired discharge diagnosis expired discharge condition expired discharge instructions expired followup instructions expired completed by\n",
      "431;507.0;518.81;112.0;287.4;401.9;427.89;600.00;272.4;300.4;22.0;96.71;96.04;96.07\n"
     ]
    }
   ],
   "source": [
    "dsets.show(x)"
   ]
  },
  {
   "cell_type": "markdown",
   "id": "cee3cec0-f334-4bf0-bb0c-dbed7ce84abd",
   "metadata": {},
   "source": [
    "Let's check the reverse:"
   ]
  },
  {
   "cell_type": "code",
   "execution_count": 73,
   "id": "c0ea9ef3-4d2a-4869-82bc-9f1059cc169a",
   "metadata": {
    "collapsed": true,
    "jupyter": {
     "outputs_hidden": true
    },
    "tags": []
   },
   "outputs": [
    {
     "data": {
      "text/plain": [
       "('by completed expired instructions followup expired instructions discharge expired condition discharge expired diagnosis discharge expired disposition discharge expired medications discharge folate abilify ppi proscar doxazosin klonopin depakote aricept lisinopril simvastatin aggrenox admission on medications resolved thrombocytopenia statin blocker beta continue negative ces resolved changes ecg intervene not will following neurosurgery shunt csf of site the at head the on mass xxunk sedation fentanyl and effect good with olanzapine dose low prn on now agitated zyprexa escitalopram xxunk on psych cva hemorrhagic pain pt spare to suctioning holding fentanyl with sedation increased on cmo to go to decided has family ventilated care mouth on yeast and flu h on sputum positive serratia for cipro continue on zosyn and vanc d c d intubated now sputum positive xxunk and serratia aspiration likely pneumonia autospy declined family on at pneumonia aspiration and stroke hemorrhagic failure respiratory from dead pronounced was pt on cmo to go to decided and held meeting family breathing of work increasing plus hypercarbia and hypoxia for intubated effort respiratory increased continued and resolved fever pneumonia aspiration likely with stroke hemorrhagic p s male old year p a course hospital brief un name last sp clear appear straw color urine 50pm neg leuk ph neg urobilngn neg bilirubin neg ketone neg glucose neg protein neg nitrite neg blood urine 50pm controlled vent intubated intubated o2 req aado2 xs base co2 total ph pco2 po2 o2 peep vol tidal rates temp art type 45pm creat n urea 30pm amylase 30pm neg tricyclic neg barbitrt neg bnzodzpn neg acetmnphn neg ethanol neg asa 30pm top green comments ph un name last type 30pm tco2 cl k na lactate glucose 30pm freeca 30pm rdw mchc mch mcv hct hgb rbc wbc 30pm pt inr ptt pt 30pm count plt 30pm fibrinoge 30pm herniation or shift midline no hydrocephalus obstructive of risk at patient luschka of foramen bilateral the into extension is there today earlier performed study osh the than worst ventricle fourth third lateral the into extending hemorrhage ganglia basal right read wet here ct head contrast non results pertinent side left than noxious to briskly more leg and arm right withdraws sensation movement spontaneous no otherwise shoulder at arm left rotate internally to seems intermittently throughout tone reduced bulk normal motor gag no accurately assess to difficult though symmetric appears facial absent corneals and eyes s doll tickle nasal to response no right on mm left on mm light to unreactive pupils bilaterally threat to blink no miosis to due appreciate to difficult margins disc optic nerves cranial rub sternal with shoulder at arm left rotate internally to seems though voice to unresponsive closed eyes status mental examination neurologic rashes no skin appreciated pulses pedal edema no warm ext present sounds bowel distended non tender non soft abdomen mmrg no rhythm regular bradycardic cv auscultation to clear lungs rigidity nuchal no supple neck intubated orally anicteric sclerae at nc heent closed eyes man elderly general exam physical nc history family area the in live children wife w lives history social hypercholesterolemia htn anxiety depression ocd parasomnias problems memory tias o h eye left in glaucoma aid hearing right esophagus s barrett bph l b tunnel carpal history medical past evaluation further for called were consults neurology and neurosurgery drip dopamine a then epinephrine requiring well as hypotensive became he atropine requiring again bradycardic was patient the hospital1 to arrival on was inr and was count platelet his note of preserved was pressure though atropine with improved that 30s the into bradycardia had patient the dilantin with loaded was he ct contrast non on seen was spread intraventricular extensive with hemorrhage ganglionic basal right a propofol on maintained ultimately and intubated and sedated was he seizure tremor sided right and arm left flaccid a droop facial right a speech slurred with hypertensive was reportedly patient the hospital3 to arrival on evaluation urgent for hospital hospital3 to taken was he involved trauma apparent no was there and pm at baseline at seen last was he pool swimming a of side the at unresponsive found being reportedly after afternoon this osh an to presented aggrenox on thrombocytopenia and dyslipidemia htn infarct frontal of history a with man old year illness present of history ventriculostomy procedure invasive or surgical major extension intraventricular with hemorrhage ganglia basal right complaint chief lf name3 first attending drugs to allergies known no having as recorded patient allergies medicine service m sex birth of date date discharge date admission xxbos',\n",
       " (#14) ['431','507.0','518.81','112.0','287.4','401.9','427.89','600.00','272.4','300.4'...])"
      ]
     },
     "execution_count": 73,
     "metadata": {},
     "output_type": "execute_result"
    }
   ],
   "source": [
    "dsets_r.decode(x_r)"
   ]
  },
  {
   "cell_type": "code",
   "execution_count": 74,
   "id": "e0b95ad3-6a2e-47f3-b3a1-3e71f4e15a13",
   "metadata": {
    "collapsed": true,
    "jupyter": {
     "outputs_hidden": true
    },
    "tags": []
   },
   "outputs": [
    {
     "name": "stdout",
     "output_type": "stream",
     "text": [
      "by completed expired instructions followup expired instructions discharge expired condition discharge expired diagnosis discharge expired disposition discharge expired medications discharge folate abilify ppi proscar doxazosin klonopin depakote aricept lisinopril simvastatin aggrenox admission on medications resolved thrombocytopenia statin blocker beta continue negative ces resolved changes ecg intervene not will following neurosurgery shunt csf of site the at head the on mass xxunk sedation fentanyl and effect good with olanzapine dose low prn on now agitated zyprexa escitalopram xxunk on psych cva hemorrhagic pain pt spare to suctioning holding fentanyl with sedation increased on cmo to go to decided has family ventilated care mouth on yeast and flu h on sputum positive serratia for cipro continue on zosyn and vanc d c d intubated now sputum positive xxunk and serratia aspiration likely pneumonia autospy declined family on at pneumonia aspiration and stroke hemorrhagic failure respiratory from dead pronounced was pt on cmo to go to decided and held meeting family breathing of work increasing plus hypercarbia and hypoxia for intubated effort respiratory increased continued and resolved fever pneumonia aspiration likely with stroke hemorrhagic p s male old year p a course hospital brief un name last sp clear appear straw color urine 50pm neg leuk ph neg urobilngn neg bilirubin neg ketone neg glucose neg protein neg nitrite neg blood urine 50pm controlled vent intubated intubated o2 req aado2 xs base co2 total ph pco2 po2 o2 peep vol tidal rates temp art type 45pm creat n urea 30pm amylase 30pm neg tricyclic neg barbitrt neg bnzodzpn neg acetmnphn neg ethanol neg asa 30pm top green comments ph un name last type 30pm tco2 cl k na lactate glucose 30pm freeca 30pm rdw mchc mch mcv hct hgb rbc wbc 30pm pt inr ptt pt 30pm count plt 30pm fibrinoge 30pm herniation or shift midline no hydrocephalus obstructive of risk at patient luschka of foramen bilateral the into extension is there today earlier performed study osh the than worst ventricle fourth third lateral the into extending hemorrhage ganglia basal right read wet here ct head contrast non results pertinent side left than noxious to briskly more leg and arm right withdraws sensation movement spontaneous no otherwise shoulder at arm left rotate internally to seems intermittently throughout tone reduced bulk normal motor gag no accurately assess to difficult though symmetric appears facial absent corneals and eyes s doll tickle nasal to response no right on mm left on mm light to unreactive pupils bilaterally threat to blink no miosis to due appreciate to difficult margins disc optic nerves cranial rub sternal with shoulder at arm left rotate internally to seems though voice to unresponsive closed eyes status mental examination neurologic rashes no skin appreciated pulses pedal edema no warm ext present sounds bowel distended non tender non soft abdomen mmrg no rhythm regular bradycardic cv auscultation to clear lungs rigidity nuchal no supple neck intubated orally anicteric sclerae at nc heent closed eyes man elderly general exam physical nc history family area the in live children wife w lives history social hypercholesterolemia htn anxiety depression ocd parasomnias problems memory tias o h eye left in glaucoma aid hearing right esophagus s barrett bph l b tunnel carpal history medical past evaluation further for called were consults neurology and neurosurgery drip dopamine a then epinephrine requiring well as hypotensive became he atropine requiring again bradycardic was patient the hospital1 to arrival on was inr and was count platelet his note of preserved was pressure though atropine with improved that 30s the into bradycardia had patient the dilantin with loaded was he ct contrast non on seen was spread intraventricular extensive with hemorrhage ganglionic basal right a propofol on maintained ultimately and intubated and sedated was he seizure tremor sided right and arm left flaccid a droop facial right a speech slurred with hypertensive was reportedly patient the hospital3 to arrival on evaluation urgent for hospital hospital3 to taken was he involved trauma apparent no was there and pm at baseline at seen last was he pool swimming a of side the at unresponsive found being reportedly after afternoon this osh an to presented aggrenox on thrombocytopenia and dyslipidemia htn infarct frontal of history a with man old year illness present of history ventriculostomy procedure invasive or surgical major extension intraventricular with hemorrhage ganglia basal right complaint chief lf name3 first attending drugs to allergies known no having as recorded patient allergies medicine service m sex birth of date date discharge date admission xxbos\n",
      "431;507.0;518.81;112.0;287.4;401.9;427.89;600.00;272.4;300.4;22.0;96.71;96.04;96.07\n"
     ]
    }
   ],
   "source": [
    "dsets_r.show(x_r)"
   ]
  },
  {
   "cell_type": "markdown",
   "id": "d511d10d-93d1-4e81-b22c-2309d3edc9fc",
   "metadata": {},
   "source": [
    "Looks fine!"
   ]
  },
  {
   "cell_type": "markdown",
   "id": "214dc074-0aaf-48be-8878-7397911d1b67",
   "metadata": {
    "jp-MarkdownHeadingCollapsed": true,
    "tags": []
   },
   "source": [
    "#### Training a Collaborative Filtering Model to Learn the Label Embeddings"
   ]
  },
  {
   "cell_type": "markdown",
   "id": "ae9c5ce8-7ef9-4c59-8196-fc26cdeaf829",
   "metadata": {},
   "source": [
    "We want to train a *collaborative filtering* model on the `lm_vocab`-`lbls` matrix, where each entry of the matrix is the number of times a particular token in the vocab has co-occurred in the dataset."
   ]
  },
  {
   "cell_type": "code",
   "execution_count": 6,
   "id": "8585185f-dd04-4123-a7f5-c75e67f99f2f",
   "metadata": {},
   "outputs": [],
   "source": [
    "dsets = torch.load('dsets.pkl')"
   ]
  },
  {
   "cell_type": "code",
   "execution_count": 7,
   "id": "4aa1c062-74ae-4860-b75c-726baf49b144",
   "metadata": {},
   "outputs": [],
   "source": [
    "lm_vocab = torch.load(dls_lm_vocab_path)"
   ]
  },
  {
   "cell_type": "code",
   "execution_count": 8,
   "id": "67639f18-44f4-4700-89e6-b49e1fa394e7",
   "metadata": {},
   "outputs": [],
   "source": [
    "lbls = dsets.vocab[1]"
   ]
  },
  {
   "cell_type": "code",
   "execution_count": 9,
   "id": "87e0eff0-8b1a-4047-8afd-0ad11bb4fac6",
   "metadata": {
    "tags": []
   },
   "outputs": [
    {
     "data": {
      "text/plain": [
       "(#57376) ['xxunk','xxpad','xxbos','xxeos','xxfld','xxrep','xxwrep','xxup','xxmaj','the'...]"
      ]
     },
     "execution_count": 9,
     "metadata": {},
     "output_type": "execute_result"
    }
   ],
   "source": [
    "L(lm_vocab)"
   ]
  },
  {
   "cell_type": "code",
   "execution_count": 10,
   "id": "268c8cd4-2360-4248-a873-6b03ca3e8d86",
   "metadata": {},
   "outputs": [
    {
     "data": {
      "text/plain": [
       "(#6586) ['431','507.0','518.81','112.0','287.4','401.9','427.89','600.00','272.4','300.4'...]"
      ]
     },
     "execution_count": 10,
     "metadata": {},
     "output_type": "execute_result"
    }
   ],
   "source": [
    "L(lbls)"
   ]
  },
  {
   "cell_type": "markdown",
   "id": "e294410c-4e7c-471b-9b9f-36a4d1b30130",
   "metadata": {},
   "source": [
    "The script `tf.py` computes the term frequencies."
   ]
  },
  {
   "cell_type": "code",
   "execution_count": 15,
   "id": "1ccc66cf-bd52-4767-ba5c-4cf4e7f07ffc",
   "metadata": {},
   "outputs": [],
   "source": [
    "# %less tf.py"
   ]
  },
  {
   "cell_type": "code",
   "execution_count": 16,
   "id": "6fdaefcf-3e13-46ec-865f-d8cef25cb5fa",
   "metadata": {},
   "outputs": [
    {
     "name": "stderr",
     "output_type": "stream",
     "text": [
      "100%|███████████████████████████████████████████████████████████████████████████████████████████████| 14839/14839 [03:15<00:00, 75.78it/s]\n"
     ]
    },
    {
     "name": "stdout",
     "output_type": "stream",
     "text": [
      "time = 200.03412199020386\n"
     ]
    }
   ],
   "source": [
    "# %run tf.py"
   ]
  },
  {
   "cell_type": "markdown",
   "id": "299891a7-7f98-4719-b88b-81036747368f",
   "metadata": {},
   "source": [
    "At this point we have the term frequencies (in a `Counter` dictionary called `tf.pkl`), so let's load it up and plot the distribution:"
   ]
  },
  {
   "cell_type": "code",
   "execution_count": 18,
   "id": "c6542a0b-95f9-4cbe-85dc-5952108dcd44",
   "metadata": {},
   "outputs": [],
   "source": [
    "# tf is a word frequency dict\n",
    "tf = torch.load('tf.pkl')"
   ]
  },
  {
   "cell_type": "code",
   "execution_count": 19,
   "id": "58af083e-40c3-4801-b21d-5e0ebc9e6bee",
   "metadata": {},
   "outputs": [
    {
     "data": {
      "text/plain": [
       "49486"
      ]
     },
     "execution_count": 19,
     "metadata": {},
     "output_type": "execute_result"
    }
   ],
   "source": [
    "len(tf)"
   ]
  },
  {
   "cell_type": "code",
   "execution_count": 20,
   "id": "0e4721ae-ed29-4818-9ba7-b38f36782662",
   "metadata": {
    "collapsed": true,
    "jupyter": {
     "outputs_hidden": true
    },
    "tags": []
   },
   "outputs": [
    {
     "data": {
      "text/plain": [
       "[('the', 589298),\n",
       " ('and', 509523),\n",
       " ('of', 430972),\n",
       " ('to', 427540),\n",
       " ('was', 406389),\n",
       " ('with', 303270),\n",
       " ('a', 291702),\n",
       " ('on', 270952),\n",
       " ('in', 232700),\n",
       " ('for', 219395)]"
      ]
     },
     "execution_count": 20,
     "metadata": {},
     "output_type": "execute_result"
    }
   ],
   "source": [
    "tf.most_common(10)"
   ]
  },
  {
   "cell_type": "code",
   "execution_count": 21,
   "id": "4b2d50e8-d6b4-4716-9d80-73632b4602e1",
   "metadata": {
    "tags": []
   },
   "outputs": [],
   "source": [
    "freqs = list(tf.values())"
   ]
  },
  {
   "cell_type": "code",
   "execution_count": 22,
   "id": "fba85776-89c3-41ac-b46b-461048ce3e94",
   "metadata": {},
   "outputs": [
    {
     "data": {
      "text/plain": [
       "(589298, 1, 453.75633512508585, 5.0, 6544.621037461553)"
      ]
     },
     "execution_count": 22,
     "metadata": {},
     "output_type": "execute_result"
    }
   ],
   "source": [
    "np.max(freqs), np.min(freqs), np.mean(freqs), np.median(freqs), np.std(freqs)"
   ]
  },
  {
   "cell_type": "markdown",
   "id": "3c900af2-1778-4fbc-8f1a-e3a374f1427b",
   "metadata": {},
   "source": [
    "Let's plot a histogram of the term frequencies:"
   ]
  },
  {
   "cell_type": "code",
   "execution_count": 23,
   "id": "02942f08-cbb2-4aa5-b297-21c40b253b6c",
   "metadata": {},
   "outputs": [
    {
     "data": {
      "image/png": "[encoded data removed]",
      "text/plain": [
       "<Figure size 432x288 with 1 Axes>"
      ]
     },
     "metadata": {
      "needs_background": "light"
     },
     "output_type": "display_data"
    }
   ],
   "source": [
    "n, bins, pathches = plt.hist(freqs)\n",
    "plt.grid(axis='y', color='b')\n",
    "plt.yscale('log')\n",
    "plt.xlabel('Word Frequencies')\n",
    "plt.ylabel('Count')\n",
    "maxfreq = n.max()\n",
    "plt.ylim(ymax=np.ceil(maxfreq / 10) * 10 if maxfreq % 10 else maxfreq + 10)\n",
    "plt.title('Histogram of Word Frequencies');"
   ]
  },
  {
   "cell_type": "code",
   "execution_count": 25,
   "id": "2fae9f6a-a62e-433c-9fb9-68b30dd590da",
   "metadata": {
    "collapsed": true,
    "jupyter": {
     "outputs_hidden": true
    },
    "tags": []
   },
   "outputs": [
    {
     "data": {
      "image/png": "[encoded data removed]",
      "text/plain": [
       "<Figure size 432x288 with 1 Axes>"
      ]
     },
     "metadata": {
      "needs_background": "light"
     },
     "output_type": "display_data"
    }
   ],
   "source": [
    "pd.Series(freqs).plot.hist();"
   ]
  },
  {
   "cell_type": "code",
   "execution_count": 26,
   "id": "0e9face7-902a-4edc-86eb-05850cfddb30",
   "metadata": {
    "collapsed": true,
    "jupyter": {
     "outputs_hidden": true
    },
    "tags": []
   },
   "outputs": [
    {
     "data": {
      "text/plain": [
       "<AxesSubplot:ylabel='Density'>"
      ]
     },
     "execution_count": 26,
     "metadata": {},
     "output_type": "execute_result"
    },
    {
     "data": {
      "image/png": "[encoded data removed]",
      "text/plain": [
       "<Figure size 432x288 with 1 Axes>"
      ]
     },
     "metadata": {
      "needs_background": "light"
     },
     "output_type": "display_data"
    }
   ],
   "source": [
    "pd.Series(freqs).plot.density()"
   ]
  },
  {
   "cell_type": "code",
   "execution_count": 125,
   "id": "ecdd4d15-8255-4b84-98fe-a4bfbf3cff22",
   "metadata": {
    "tags": []
   },
   "outputs": [],
   "source": [
    "# plt.hist(x=freqs, bins=np.logspace(1,20, 1000))\n",
    "# plt.xscale('log')\n",
    "# plt.yscale('log')"
   ]
  },
  {
   "cell_type": "code",
   "execution_count": null,
   "id": "45310fef-6344-4d2a-8a2e-523c7490d962",
   "metadata": {
    "collapsed": true,
    "jupyter": {
     "outputs_hidden": true,
     "source_hidden": true
    },
    "tags": []
   },
   "outputs": [
    {
     "data": {
      "text/plain": [
       "array([0.1       , 0.10481131, 0.10985411, 0.11513954, 0.12067926, 0.12648552, 0.13257114, 0.13894955, 0.14563485, 0.1526418 , 0.15998587, 0.16768329, 0.17575106, 0.184207  , 0.19306977, 0.20235896,\n",
       "       0.21209509, 0.22229965, 0.23299518, 0.24420531, 0.25595479, 0.26826958, 0.28117687, 0.29470517, 0.30888436, 0.32374575, 0.33932218, 0.35564803, 0.37275937, 0.39069399, 0.40949151, 0.42919343,\n",
       "       0.44984327, 0.47148664, 0.49417134, 0.51794747, 0.54286754, 0.5689866 , 0.59636233, 0.62505519, 0.65512856, 0.68664885, 0.71968567, 0.75431201, 0.79060432, 0.82864277, 0.86851137, 0.91029818,\n",
       "       0.95409548, 1.        ])"
      ]
     },
     "execution_count": 77,
     "metadata": {},
     "output_type": "execute_result"
    }
   ],
   "source": [
    "np.logspace(np.log10(0.1),np.log10(1.0), 50)"
   ]
  },
  {
   "cell_type": "code",
   "execution_count": 79,
   "id": "58d6474e-7528-4d50-8eb2-64dc7a57e789",
   "metadata": {
    "collapsed": true,
    "jupyter": {
     "outputs_hidden": true,
     "source_hidden": true
    },
    "tags": []
   },
   "outputs": [
    {
     "data": {
      "text/plain": [
       "(-1.0, 0.0)"
      ]
     },
     "execution_count": 79,
     "metadata": {},
     "output_type": "execute_result"
    }
   ],
   "source": [
    "np.log10(0.1), np.log10(1.0)"
   ]
  },
  {
   "cell_type": "code",
   "execution_count": 83,
   "id": "c6cf18c2-869a-4c47-90ce-c74fb234099a",
   "metadata": {
    "collapsed": true,
    "jupyter": {
     "outputs_hidden": true,
     "source_hidden": true
    },
    "tags": []
   },
   "outputs": [
    {
     "data": {
      "text/plain": [
       "array([ 1.        ,  1.04811313,  1.09854114,  1.1513954 ,  1.20679264,  1.26485522,  1.32571137,  1.38949549,  1.45634848,  1.52641797,  1.59985872,  1.67683294,  1.75751062,  1.84206997,\n",
       "        1.93069773,  2.02358965,  2.12095089,  2.22299648,  2.32995181,  2.44205309,  2.55954792,  2.6826958 ,  2.8117687 ,  2.9470517 ,  3.0888436 ,  3.23745754,  3.39322177,  3.55648031,\n",
       "        3.72759372,  3.90693994,  4.09491506,  4.29193426,  4.49843267,  4.71486636,  4.94171336,  5.17947468,  5.42867544,  5.68986603,  5.96362332,  6.25055193,  6.55128557,  6.86648845,\n",
       "        7.19685673,  7.54312006,  7.90604321,  8.28642773,  8.68511374,  9.10298178,  9.54095476, 10.        ])"
      ]
     },
     "execution_count": 83,
     "metadata": {},
     "output_type": "execute_result"
    }
   ],
   "source": [
    "np.logspace(0, 1, 50)"
   ]
  },
  {
   "cell_type": "markdown",
   "id": "a5ea0e5a-6207-419c-b216-f03b4179565a",
   "metadata": {},
   "source": [
    "Let's create a dataframe with three columns 'token', 'label', and the corresponding 'frequency':"
   ]
  },
  {
   "cell_type": "code",
   "execution_count": 191,
   "id": "995e3576-c954-4442-86b2-a2882b2978ad",
   "metadata": {},
   "outputs": [],
   "source": [
    "# df_lbl = pd.DataFrame(itertools.product(vocab, lbls), columns=['token', 'label'])\n",
    "# df_lbl.to_feather(path/'df_lbl.pkl')"
   ]
  },
  {
   "cell_type": "code",
   "execution_count": 24,
   "id": "a9f48dcd-819e-4bc7-b4ac-2c579d729a9c",
   "metadata": {},
   "outputs": [],
   "source": [
    "df_lbl = pd.read_feather(path/'df_lbl.pkl')"
   ]
  },
  {
   "cell_type": "code",
   "execution_count": 25,
   "id": "b53d9b02-b0cb-4975-bc0a-8e1729d47dc7",
   "metadata": {
    "tags": []
   },
   "outputs": [
    {
     "data": {
      "text/plain": [
       "325914796"
      ]
     },
     "execution_count": 25,
     "metadata": {},
     "output_type": "execute_result"
    }
   ],
   "source": [
    "len(df_lbl)"
   ]
  },
  {
   "cell_type": "code",
   "execution_count": 26,
   "id": "34244306-278c-4ea9-8103-8b556ba323d2",
   "metadata": {
    "tags": []
   },
   "outputs": [
    {
     "data": {
      "text/html": [
       "<div>\n",
       "<style scoped>\n",
       "    .dataframe tbody tr th:only-of-type {\n",
       "        vertical-align: middle;\n",
       "    }\n",
       "\n",
       "    .dataframe tbody tr th {\n",
       "        vertical-align: top;\n",
       "    }\n",
       "\n",
       "    .dataframe thead th {\n",
       "        text-align: right;\n",
       "    }\n",
       "</style>\n",
       "<table border=\"1\" class=\"dataframe\">\n",
       "  <thead>\n",
       "    <tr style=\"text-align: right;\">\n",
       "      <th></th>\n",
       "      <th>token</th>\n",
       "      <th>label</th>\n",
       "    </tr>\n",
       "  </thead>\n",
       "  <tbody>\n",
       "    <tr>\n",
       "      <th>0</th>\n",
       "      <td>xxbos</td>\n",
       "      <td>431</td>\n",
       "    </tr>\n",
       "    <tr>\n",
       "      <th>1</th>\n",
       "      <td>xxbos</td>\n",
       "      <td>507.0</td>\n",
       "    </tr>\n",
       "    <tr>\n",
       "      <th>2</th>\n",
       "      <td>xxbos</td>\n",
       "      <td>518.81</td>\n",
       "    </tr>\n",
       "    <tr>\n",
       "      <th>3</th>\n",
       "      <td>xxbos</td>\n",
       "      <td>112.0</td>\n",
       "    </tr>\n",
       "    <tr>\n",
       "      <th>4</th>\n",
       "      <td>xxbos</td>\n",
       "      <td>287.4</td>\n",
       "    </tr>\n",
       "  </tbody>\n",
       "</table>\n",
       "</div>"
      ],
      "text/plain": [
       "   token   label\n",
       "0  xxbos     431\n",
       "1  xxbos   507.0\n",
       "2  xxbos  518.81\n",
       "3  xxbos   112.0\n",
       "4  xxbos   287.4"
      ]
     },
     "execution_count": 26,
     "metadata": {},
     "output_type": "execute_result"
    }
   ],
   "source": [
    "df_lbl.head()"
   ]
  },
  {
   "cell_type": "markdown",
   "id": "c57b0923-fd14-4ee3-9497-db71e764f448",
   "metadata": {},
   "source": [
    "Now to add the third column of 'frequency' we need to compute it from the training data. The script `toklbl.py` computes the frequencies of each token label pair and stores it in the file `tlfq.pkl` (for term-label-frequencies):"
   ]
  },
  {
   "cell_type": "code",
   "execution_count": 47,
   "id": "7e406911-3140-489f-a9ad-4b802063d2e9",
   "metadata": {
    "tags": []
   },
   "outputs": [],
   "source": [
    "# %less toklbl.py"
   ]
  },
  {
   "cell_type": "code",
   "execution_count": 44,
   "id": "02694bb5-2cad-4dcc-b062-dbb7e21be808",
   "metadata": {},
   "outputs": [],
   "source": [
    "# %run 'toklbl.py'"
   ]
  },
  {
   "cell_type": "code",
   "execution_count": 27,
   "id": "755aaa0b-5c94-4e1e-836c-69d52e6d645b",
   "metadata": {},
   "outputs": [],
   "source": [
    "tlfq = torch.load('tlfq.pkl')"
   ]
  },
  {
   "cell_type": "code",
   "execution_count": 28,
   "id": "b9feaacd-392e-4ea0-8e8b-a59dec6cc6f6",
   "metadata": {},
   "outputs": [
    {
     "data": {
      "text/plain": [
       "18670317"
      ]
     },
     "execution_count": 28,
     "metadata": {},
     "output_type": "execute_result"
    }
   ],
   "source": [
    "len(tlfq)"
   ]
  },
  {
   "cell_type": "code",
   "execution_count": 29,
   "id": "5920365f-6acb-49f5-94bd-f5c0421a203d",
   "metadata": {
    "collapsed": true,
    "jupyter": {
     "outputs_hidden": true
    },
    "tags": []
   },
   "outputs": [
    {
     "data": {
      "text/plain": [
       "[(('have', '401.9'), 17089),\n",
       " (('and', '34.04'), 17091),\n",
       " (('last', '96.6'), 17108),\n",
       " (('was', '99.83'), 17144),\n",
       " (('there', '38.93'), 17166),\n",
       " (('an', '38.93'), 17174),\n",
       " (('her', '599.0'), 17205),\n",
       " (('and', '263.9'), 17206),\n",
       " (('date', '38.93'), 17211),\n",
       " (('mg', '995.92'), 17229),\n",
       " (('and', '707.03'), 17247),\n",
       " (('as', '99.04'), 17257),\n",
       " (('mg', '39.95'), 17271),\n",
       " (('on', '584.5'), 17272),\n",
       " (('with', '45.13'), 17275),\n",
       " (('the', '707.03'), 17286),\n",
       " (('for', '403.90'), 17293),\n",
       " (('in', '88.72'), 17308),\n",
       " (('was', '99.07'), 17310)]"
      ]
     },
     "execution_count": 29,
     "metadata": {},
     "output_type": "execute_result"
    }
   ],
   "source": [
    "tlfq.most_common(1000)[:-20:-1]"
   ]
  },
  {
   "cell_type": "code",
   "execution_count": 30,
   "id": "4b687428-55ff-4594-b0cc-6b9c2db49f94",
   "metadata": {},
   "outputs": [],
   "source": [
    "df_lbl['frequency'] = 0"
   ]
  },
  {
   "cell_type": "code",
   "execution_count": 31,
   "id": "10249bdd-7205-4eb7-a49e-4984bad7f0a8",
   "metadata": {},
   "outputs": [
    {
     "data": {
      "text/html": [
       "<div>\n",
       "<style scoped>\n",
       "    .dataframe tbody tr th:only-of-type {\n",
       "        vertical-align: middle;\n",
       "    }\n",
       "\n",
       "    .dataframe tbody tr th {\n",
       "        vertical-align: top;\n",
       "    }\n",
       "\n",
       "    .dataframe thead th {\n",
       "        text-align: right;\n",
       "    }\n",
       "</style>\n",
       "<table border=\"1\" class=\"dataframe\">\n",
       "  <thead>\n",
       "    <tr style=\"text-align: right;\">\n",
       "      <th></th>\n",
       "      <th>token</th>\n",
       "      <th>label</th>\n",
       "      <th>frequency</th>\n",
       "    </tr>\n",
       "  </thead>\n",
       "  <tbody>\n",
       "    <tr>\n",
       "      <th>0</th>\n",
       "      <td>xxbos</td>\n",
       "      <td>431</td>\n",
       "      <td>0</td>\n",
       "    </tr>\n",
       "    <tr>\n",
       "      <th>1</th>\n",
       "      <td>xxbos</td>\n",
       "      <td>507.0</td>\n",
       "      <td>0</td>\n",
       "    </tr>\n",
       "    <tr>\n",
       "      <th>2</th>\n",
       "      <td>xxbos</td>\n",
       "      <td>518.81</td>\n",
       "      <td>0</td>\n",
       "    </tr>\n",
       "    <tr>\n",
       "      <th>3</th>\n",
       "      <td>xxbos</td>\n",
       "      <td>112.0</td>\n",
       "      <td>0</td>\n",
       "    </tr>\n",
       "    <tr>\n",
       "      <th>4</th>\n",
       "      <td>xxbos</td>\n",
       "      <td>287.4</td>\n",
       "      <td>0</td>\n",
       "    </tr>\n",
       "  </tbody>\n",
       "</table>\n",
       "</div>"
      ],
      "text/plain": [
       "   token   label  frequency\n",
       "0  xxbos     431          0\n",
       "1  xxbos   507.0          0\n",
       "2  xxbos  518.81          0\n",
       "3  xxbos   112.0          0\n",
       "4  xxbos   287.4          0"
      ]
     },
     "execution_count": 31,
     "metadata": {},
     "output_type": "execute_result"
    }
   ],
   "source": [
    "df_lbl.head()"
   ]
  },
  {
   "cell_type": "code",
   "execution_count": 35,
   "id": "cdeb2a96-9e94-4376-a825-5e6b6b0e1036",
   "metadata": {},
   "outputs": [
    {
     "name": "stderr",
     "output_type": "stream",
     "text": [
      "/tmp/ipykernel_1534/3748863341.py:4: UserWarning: Boolean Series key will be reindexed to match DataFrame index.\n",
      "  df_tmp2 = df_tmp[cond2]\n"
     ]
    },
    {
     "data": {
      "text/plain": [
       "2    0\n",
       "Name: frequency, dtype: int64"
      ]
     },
     "execution_count": 35,
     "metadata": {},
     "output_type": "execute_result"
    }
   ],
   "source": [
    "cond1 = (df_lbl['token'] == 'xxbos')\n",
    "cond2 = df_lbl['label'] == '518.81'\n",
    "df_tmp = df_lbl[cond1]\n",
    "df_tmp2 = df_tmp[cond2]\n",
    "df_tmp2['frequency']"
   ]
  },
  {
   "cell_type": "code",
   "execution_count": null,
   "id": "03cda526-fc1c-489a-a5a9-678e704b5201",
   "metadata": {},
   "outputs": [],
   "source": [
    "df_lbl.at()"
   ]
  },
  {
   "cell_type": "code",
   "execution_count": null,
   "id": "eda7a2e7-6499-427d-812a-e708f89be56a",
   "metadata": {},
   "outputs": [],
   "source": [
    "for tok, lbl in itertools.islice(tlfq, 10):\n",
    "    df_lbl[(df_lbl.token == tok) & (df_lbl.label == lbl)]['frequency'] = tlfq[(tok,lbl)]"
   ]
  },
  {
   "cell_type": "markdown",
   "id": "cb7cb5ed-8de9-4d08-adb1-434f57e5d54d",
   "metadata": {
    "jp-MarkdownHeadingCollapsed": true,
    "tags": []
   },
   "source": [
    "#### 3. Making the `DataLoaders` object:"
   ]
  },
  {
   "cell_type": "markdown",
   "id": "e112f6b9-8443-41dd-a0d6-8e896a550d20",
   "metadata": {},
   "source": [
    "We need to pick the sequence length and the batch size:"
   ]
  },
  {
   "cell_type": "code",
   "execution_count": 75,
   "id": "c35799df-306f-4378-9142-5bc088696b4b",
   "metadata": {},
   "outputs": [],
   "source": [
    "bs, sl = 16, 72"
   ]
  },
  {
   "cell_type": "markdown",
   "id": "b1cdefaa-3c2a-4261-826b-44c38dc2f70a",
   "metadata": {},
   "source": [
    "We will use the `dl_type` argument of the `DataLoaders`. The purpose is to tell `DataLoaders` to use `SortedDL` class of the `DataLoader`, and not the usual one. `SortedDL` constructs batches by putting samples of roughly the same lengths into batches."
   ]
  },
  {
   "cell_type": "code",
   "execution_count": 76,
   "id": "bb267f33-0791-4e92-a6f3-af010850a4d8",
   "metadata": {},
   "outputs": [],
   "source": [
    "dl_type = partial(SortedDL, shuffle=True)"
   ]
  },
  {
   "cell_type": "markdown",
   "id": "1fbc0ace-f2d0-46bd-a375-2d561430d211",
   "metadata": {},
   "source": [
    "**Crucial:** \n",
    "- We will use **`pad_input_chunk`** because our encoder `AWD_LSTM` will be wrapped inside `SentenceEncoder`. \n",
    "- A `SenetenceEncoder` expects that all the documents are padded, \n",
    "- with most of the padding at the beginning of the document, with each sequence beginning at a round multiple of bptt\n",
    "- and the rest of the padding at the end."
   ]
  },
  {
   "cell_type": "code",
   "execution_count": 43,
   "id": "236e0d09-1b02-464b-9c73-b667ca1cda42",
   "metadata": {},
   "outputs": [],
   "source": [
    "dls_clas = dsets.dataloaders(bs=bs, seq_len=sl, \n",
    "                             dl_type=dl_type,\n",
    "                             before_batch=pad_input_chunk)"
   ]
  },
  {
   "cell_type": "markdown",
   "id": "f8d8cdec-9e7c-4407-85e7-a4eba6e41a26",
   "metadata": {},
   "source": [
    "For the reverse:"
   ]
  },
  {
   "cell_type": "code",
   "execution_count": 77,
   "id": "5cb67c6a-bf02-4365-8d82-965cf8d50321",
   "metadata": {},
   "outputs": [],
   "source": [
    "dls_clas_r = dsets_r.dataloaders(bs=bs, seq_len=sl,\n",
    "                                 dl_type=dl_type,\n",
    "                                 before_batch=pad_input_chunk)"
   ]
  },
  {
   "cell_type": "markdown",
   "id": "763bcbcf-cca0-4a20-8066-08409f5d218d",
   "metadata": {},
   "source": [
    "Creating the `DataLoaders` object takes considerable amount of time, so let's save it:"
   ]
  },
  {
   "cell_type": "code",
   "execution_count": 44,
   "id": "3cdcd62d-ccd2-4303-9cef-f2f21b372fba",
   "metadata": {},
   "outputs": [],
   "source": [
    "# dls_clas_path_eight =  path_model/(file_prefix+'_dls_clas_8.pkl')\n",
    "# dls_clas_path_eight"
   ]
  },
  {
   "cell_type": "code",
   "execution_count": 45,
   "id": "3ab9562a-7067-419a-80b7-d27d6fd63c74",
   "metadata": {},
   "outputs": [],
   "source": [
    "# torch.save(dls_clas, dls_clas_path_eight)"
   ]
  },
  {
   "cell_type": "code",
   "execution_count": 46,
   "id": "c110a625-4702-448e-b51a-8d4ceb5a535b",
   "metadata": {
    "tags": []
   },
   "outputs": [],
   "source": [
    "torch.save(dls_clas, dls_clas_path)"
   ]
  },
  {
   "cell_type": "code",
   "execution_count": 78,
   "id": "d5e93df5-077f-44f2-a507-ed156fb1c785",
   "metadata": {},
   "outputs": [],
   "source": [
    "torch.save(dls_clas_r, dls_clas_r_path)"
   ]
  },
  {
   "cell_type": "markdown",
   "id": "27a284d5-942c-438d-ac43-99bed602ca31",
   "metadata": {},
   "source": [
    "Let's take a look at the data:"
   ]
  },
  {
   "cell_type": "code",
   "execution_count": 47,
   "id": "9f8365e5-7b0f-461f-bc21-90014c81e3b7",
   "metadata": {
    "collapsed": true,
    "jupyter": {
     "outputs_hidden": true
    },
    "tags": []
   },
   "outputs": [
    {
     "name": "stderr",
     "output_type": "stream",
     "text": [
      "/home/deb/miniconda3/lib/python3.9/site-packages/fastai/torch_core.py:476: FutureWarning: The series.append method is deprecated and will be removed from pandas in a future version. Use pandas.concat instead.\n",
      "  ax = ax.append(pd.Series({label: o}))\n",
      "/home/deb/miniconda3/lib/python3.9/site-packages/fastai/torch_core.py:476: FutureWarning: The series.append method is deprecated and will be removed from pandas in a future version. Use pandas.concat instead.\n",
      "  ax = ax.append(pd.Series({label: o}))\n",
      "/home/deb/miniconda3/lib/python3.9/site-packages/fastai/torch_core.py:476: FutureWarning: The series.append method is deprecated and will be removed from pandas in a future version. Use pandas.concat instead.\n",
      "  ax = ax.append(pd.Series({label: o}))\n",
      "/home/deb/miniconda3/lib/python3.9/site-packages/fastai/torch_core.py:476: FutureWarning: The series.append method is deprecated and will be removed from pandas in a future version. Use pandas.concat instead.\n",
      "  ax = ax.append(pd.Series({label: o}))\n",
      "/home/deb/miniconda3/lib/python3.9/site-packages/fastai/torch_core.py:476: FutureWarning: The series.append method is deprecated and will be removed from pandas in a future version. Use pandas.concat instead.\n",
      "  ax = ax.append(pd.Series({label: o}))\n",
      "/home/deb/miniconda3/lib/python3.9/site-packages/fastai/torch_core.py:476: FutureWarning: The series.append method is deprecated and will be removed from pandas in a future version. Use pandas.concat instead.\n",
      "  ax = ax.append(pd.Series({label: o}))\n"
     ]
    },
    {
     "data": {
      "text/html": [
       "<table border=\"1\" class=\"dataframe\">\n",
       "  <thead>\n",
       "    <tr style=\"text-align: right;\">\n",
       "      <th></th>\n",
       "      <th>text</th>\n",
       "      <th>None</th>\n",
       "    </tr>\n",
       "  </thead>\n",
       "  <tbody>\n",
       "    <tr>\n",
       "      <th>0</th>\n",
       "      <td>xxbos admission date discharge date date of birth sex m service cardiothoracic allergies codeine percocet sulfa sulfonamide antibiotics attending first name3 lf chief complaint dyspnea and coughing major surgical or invasive procedure right thoracotomy and intrathoracic tracheoplasty with mesh right mainstem bronchus and bronchus intermedius bronchoplasty with mesh left mainstem bronchus bronchoplasty with mesh bronchoscopy with bronchoalveolar lavage doctor last name flexible bronchoscopy doctor last name cricothyroidotomy doctor last name revision of tracheostomy tube to xl t shiley doctor last name flexible bronchoscopy with bronchoalveolar lavage doctor last name exploratory laparotomy with closure of perforated gastric ulcer with modified location un patch doctor last name left ij tunnelled hd catheter right basilic dl picc history of present illness 52 m with a history of diabetes kidney transplant in and pancreas transplant in colon cancer and tracheobronchomalacia status post y stent placement removed for excessive granulation tissue with a subsequent hospital</td>\n",
       "      <td>272.4;96.72;99.15;96.6;33.1;E878.8;276.2;34.91;998.59;785.52;995.92;530.81;585.6;39.95;038.9;486;276.69;33.24;276.0;31.1;996.81;38.95;707.03;38.97;519.19;933.1;434.11;V42.83;997.79;33.22;518.51;336.1;531.50;998.30;997.02;453.86;569.81;707.23;250.61;356.9;V45.11;31.79;31.74;33.48;44.41</td>\n",
       "    </tr>\n",
       "    <tr>\n",
       "      <th>1</th>\n",
       "      <td>xxbos admission date discharge date date of birth sex f service medicine allergies tetracyclines zinc attending first name3 lf chief complaint fall major surgical or invasive procedure none history of present illness year old f with xxunk s syndrome recurrent aspiration pna htn who presents s p fall she fell yesterday while trying to get up from bed and was put back to bed by her home health aid today she fell again and her aid dragged her to bed and called ems some head and l hip trauma no loc in the ed she received mso4 mg iv for pain her c spine was cleared head ct and hip films were negative fall was thought to be mechanical and social work was consulted re question of elder abuse neglect at midnight pt spiked to rectal received tylenol cxr and ua negative she was admitted for observation and placement of</td>\n",
       "      <td>507.0;518.81;401.9;96.71;96.04;38.91;99.04;584.9;428.0;585.9;V10.87;599.0;715.90;311;296.80;733.00;285.29;332.0;054.9;808.0;805.6;808.2;244.0;275.42;785.6;530.5;750.3;787.2;288.3;494.0;V55.1;V02.59;E885.9;97.02</td>\n",
       "    </tr>\n",
       "    <tr>\n",
       "      <th>2</th>\n",
       "      <td>xxpad xxpad xxpad xxpad xxpad xxpad xxpad xxpad xxpad xxpad xxpad xxpad xxpad xxpad xxpad xxpad xxpad xxpad xxpad xxpad xxpad xxpad xxpad xxpad xxpad xxpad xxpad xxpad xxpad xxpad xxpad xxpad xxpad xxpad xxpad xxpad xxpad xxpad xxpad xxpad xxpad xxpad xxpad xxpad xxpad xxpad xxpad xxpad xxpad xxpad xxpad xxpad xxpad xxpad xxpad xxpad xxpad xxpad xxpad xxpad xxpad xxpad xxpad xxpad xxpad xxpad xxpad xxpad xxpad xxpad xxpad xxpad xxpad xxpad xxpad xxpad xxpad xxpad xxpad xxpad xxpad xxpad xxpad xxpad xxpad xxpad xxpad xxpad xxpad xxpad xxpad xxpad xxpad xxpad xxpad xxpad xxpad xxpad xxpad xxpad xxpad xxpad xxpad xxpad xxpad xxpad xxpad xxpad xxpad xxpad xxpad xxpad xxpad xxpad xxpad xxpad xxpad xxpad xxpad xxpad xxpad xxpad xxpad xxpad xxpad xxpad xxpad xxpad xxpad xxpad xxpad xxpad xxpad xxpad xxpad xxpad xxpad xxpad xxpad xxpad xxpad xxpad xxpad xxpad xxpad xxpad xxpad xxpad xxpad xxpad</td>\n",
       "      <td>518.81;272.4;530.81;584.9;403.91;410.71;588.81;428.23;428.0;39.95;414.01;V58.67;285.21;998.12;V45.82;37.22;88.56;V43.65;733.00;416.8;38.95;276.8;276.1;250.40;E879.8;276.50;288.60;274.9;276.3;493.90;88.53;564.00;724.2;414.8;997.2;414.04;447.0;442.3;585.5;716.96;V16.0;39.52;99.29;88.77</td>\n",
       "    </tr>\n",
       "  </tbody>\n",
       "</table>"
      ],
      "text/plain": [
       "<IPython.core.display.HTML object>"
      ]
     },
     "metadata": {},
     "output_type": "display_data"
    }
   ],
   "source": [
    "dls_clas.show_batch(max_n=3)"
   ]
  },
  {
   "cell_type": "code",
   "execution_count": 79,
   "id": "17128d9b-3795-4864-b13b-4e519b522f60",
   "metadata": {
    "collapsed": true,
    "jupyter": {
     "outputs_hidden": true
    },
    "tags": []
   },
   "outputs": [
    {
     "name": "stderr",
     "output_type": "stream",
     "text": [
      "/home/deb/miniconda3/lib/python3.9/site-packages/fastai/torch_core.py:476: FutureWarning: The series.append method is deprecated and will be removed from pandas in a future version. Use pandas.concat instead.\n",
      "  ax = ax.append(pd.Series({label: o}))\n",
      "/home/deb/miniconda3/lib/python3.9/site-packages/fastai/torch_core.py:476: FutureWarning: The series.append method is deprecated and will be removed from pandas in a future version. Use pandas.concat instead.\n",
      "  ax = ax.append(pd.Series({label: o}))\n",
      "/home/deb/miniconda3/lib/python3.9/site-packages/fastai/torch_core.py:476: FutureWarning: The series.append method is deprecated and will be removed from pandas in a future version. Use pandas.concat instead.\n",
      "  ax = ax.append(pd.Series({label: o}))\n",
      "/home/deb/miniconda3/lib/python3.9/site-packages/fastai/torch_core.py:476: FutureWarning: The series.append method is deprecated and will be removed from pandas in a future version. Use pandas.concat instead.\n",
      "  ax = ax.append(pd.Series({label: o}))\n",
      "/home/deb/miniconda3/lib/python3.9/site-packages/fastai/torch_core.py:476: FutureWarning: The series.append method is deprecated and will be removed from pandas in a future version. Use pandas.concat instead.\n",
      "  ax = ax.append(pd.Series({label: o}))\n",
      "/home/deb/miniconda3/lib/python3.9/site-packages/fastai/torch_core.py:476: FutureWarning: The series.append method is deprecated and will be removed from pandas in a future version. Use pandas.concat instead.\n",
      "  ax = ax.append(pd.Series({label: o}))\n"
     ]
    },
    {
     "data": {
      "text/html": [
       "<table border=\"1\" class=\"dataframe\">\n",
       "  <thead>\n",
       "    <tr style=\"text-align: right;\">\n",
       "      <th></th>\n",
       "      <th>text</th>\n",
       "      <th>None</th>\n",
       "    </tr>\n",
       "  </thead>\n",
       "  <tbody>\n",
       "    <tr>\n",
       "      <th>0</th>\n",
       "      <td>by completed time date unit hemodialysis schedule dialysis nameis name10 provider time date phone md nameis name11 nameis name10 provider garage name ward hospital parking best west campus un location name unit hospital lm building fax telephone md namepattern1 name last namepattern1 name4 first with am at tuesday when center transplant department garage name ward hospital parking best west campus un location namepattern1 name last bldg name ward hospital lm building fax telephone md namepattern1 name last pattern1 name name11 first with am at monday when center transplant department xray chest a for center clinical name ward hospital the of un location the on department radiology the to appointment your to prior minutes report please garage name ward hospital parking best east campus un location ctr clinical name ward hospital sc building md md name8 md name6 with pm at thursday when oncology hematology department instructions followup coumadin on placed</td>\n",
       "      <td>272.4;96.72;99.15;96.6;33.1;E878.8;276.2;34.91;998.59;785.52;995.92;530.81;585.6;39.95;038.9;486;276.69;33.24;276.0;31.1;996.81;38.95;707.03;38.97;519.19;933.1;434.11;V42.83;997.79;33.22;518.51;336.1;531.50;998.30;997.02;453.86;569.81;707.23;250.61;356.9;V45.11;31.79;31.74;33.48;44.41</td>\n",
       "    </tr>\n",
       "    <tr>\n",
       "      <th>1</th>\n",
       "      <td>hospital the in done work lab of results the for up follow to and medication thyroid the also and levels calcium high the discuss to appointment an schedule to fax telephone call stitle name stitle name last dr endocrinologist your with appointment an make please time date fax telephone phone md namepattern4 name last pattern1 name name11 first provider time date fax telephone phone scc xray nameis name10 provider fax telephone call please call not does someone if appointment an make to you calling be should clinic their from someone diease parkinsons your of treatment regarding neurology with up follow please eosinophilia for and neck your in node lymph the up follow to days within stitle name last dr with up follow to appointment an make please instructions followup tube peg the thru given be should medications your all infections lung and aspiration of risk the avoid to mouth by</td>\n",
       "      <td>507.0;518.81;401.9;96.71;96.04;38.91;99.04;584.9;428.0;585.9;V10.87;599.0;715.90;311;296.80;733.00;285.29;332.0;054.9;808.0;805.6;808.2;244.0;275.42;785.6;530.5;750.3;787.2;288.3;494.0;V55.1;V02.59;E885.9;97.02</td>\n",
       "    </tr>\n",
       "    <tr>\n",
       "      <th>2</th>\n",
       "      <td>xxpad xxpad xxpad xxpad xxpad xxpad xxpad xxpad xxpad xxpad xxpad xxpad xxpad xxpad xxpad xxpad xxpad xxpad xxpad xxpad xxpad xxpad xxpad xxpad xxpad xxpad xxpad xxpad xxpad xxpad xxpad xxpad xxpad xxpad xxpad xxpad xxpad xxpad xxpad xxpad xxpad xxpad xxpad xxpad xxpad xxpad xxpad xxpad xxpad xxpad xxpad xxpad xxpad xxpad xxpad xxpad xxpad xxpad xxpad xxpad xxpad xxpad xxpad xxpad xxpad xxpad xxpad xxpad xxpad xxpad xxpad xxpad xxpad xxpad xxpad xxpad xxpad xxpad xxpad xxpad xxpad xxpad xxpad xxpad xxpad xxpad xxpad xxpad xxpad xxpad xxpad xxpad xxpad xxpad xxpad xxpad xxpad xxpad xxpad xxpad xxpad xxpad xxpad xxpad xxpad xxpad xxpad xxpad xxpad xxpad xxpad xxpad xxpad xxpad xxpad xxpad xxpad xxpad xxpad xxpad xxpad xxpad xxpad xxpad xxpad xxpad xxpad xxpad xxpad xxpad xxpad xxpad xxpad xxpad xxpad xxpad xxpad xxpad xxpad xxpad xxpad xxpad xxpad xxpad xxpad xxpad xxpad xxpad xxpad xxpad</td>\n",
       "      <td>518.81;272.4;530.81;584.9;403.91;410.71;588.81;428.23;428.0;39.95;414.01;V58.67;285.21;998.12;V45.82;37.22;88.56;V43.65;733.00;416.8;38.95;276.8;276.1;250.40;E879.8;276.50;288.60;274.9;276.3;493.90;88.53;564.00;724.2;414.8;997.2;414.04;447.0;442.3;585.5;716.96;V16.0;39.52;99.29;88.77</td>\n",
       "    </tr>\n",
       "  </tbody>\n",
       "</table>"
      ],
      "text/plain": [
       "<IPython.core.display.HTML object>"
      ]
     },
     "metadata": {},
     "output_type": "display_data"
    }
   ],
   "source": [
    "dls_clas_r.show_batch(max_n=3)"
   ]
  },
  {
   "cell_type": "markdown",
   "id": "22300e47-0915-4bf1-8ecd-bf4b9a28ce3a",
   "metadata": {
    "jp-MarkdownHeadingCollapsed": true,
    "tags": []
   },
   "source": [
    "#### 4. (Optional) Making the `DataLoaders` using fastai's `DataBlock` API:"
   ]
  },
  {
   "cell_type": "markdown",
   "id": "ff117a82-c52a-477b-942f-117ef8e505dd",
   "metadata": {},
   "source": [
    "It's worth mentioning here that all the steps we performed to create the `DataLoaders` can be packaged together using fastai's `DataBlock` API. "
   ]
  },
  {
   "cell_type": "code",
   "execution_count": 24,
   "id": "ed9d265a-0ca3-42d8-bcb5-21e26218a521",
   "metadata": {},
   "outputs": [],
   "source": [
    "dblock = DataBlock(\n",
    "        blocks = (TextBlock.from_df('text', seq_len=sl, vocab=lm_vocab), MultiCategoryBlock(vocab=lbls)),\n",
    "        get_x = ColReader('text'),\n",
    "        get_y = ColReader('labels', label_delim=';'),\n",
    "        splitter = splitter,\n",
    "        dl_type = dl_type,\n",
    ")"
   ]
  },
  {
   "cell_type": "code",
   "execution_count": 25,
   "id": "21b31b12-c296-4725-9bbe-5a4882033b20",
   "metadata": {},
   "outputs": [
    {
     "data": {
      "text/html": [
       "\n",
       "<style>\n",
       "    /* Turns off some styling */\n",
       "    progress {\n",
       "        /* gets rid of default border in Firefox and Opera. */\n",
       "        border: none;\n",
       "        /* Needs to be in here for Safari polyfill so background images work as expected. */\n",
       "        background-size: auto;\n",
       "    }\n",
       "    .progress-bar-interrupted, .progress-bar-interrupted::-webkit-progress-bar {\n",
       "        background: #F44336;\n",
       "    }\n",
       "</style>\n"
      ],
      "text/plain": [
       "<IPython.core.display.HTML object>"
      ]
     },
     "metadata": {},
     "output_type": "display_data"
    },
    {
     "data": {
      "text/html": [],
      "text/plain": [
       "<IPython.core.display.HTML object>"
      ]
     },
     "metadata": {},
     "output_type": "display_data"
    }
   ],
   "source": [
    "dls_clas = dblock.dataloaders(df, bs=bs, before_batch=pad_input_chunk)"
   ]
  },
  {
   "cell_type": "code",
   "execution_count": 27,
   "id": "b7edf132-e005-427a-8d9f-5bb211686d88",
   "metadata": {
    "collapsed": true,
    "jupyter": {
     "outputs_hidden": true
    },
    "tags": []
   },
   "outputs": [
    {
     "name": "stderr",
     "output_type": "stream",
     "text": [
      "/home/deb/miniconda3/lib/python3.9/site-packages/fastai/torch_core.py:476: FutureWarning: The series.append method is deprecated and will be removed from pandas in a future version. Use pandas.concat instead.\n",
      "  ax = ax.append(pd.Series({label: o}))\n",
      "/home/deb/miniconda3/lib/python3.9/site-packages/fastai/torch_core.py:476: FutureWarning: The series.append method is deprecated and will be removed from pandas in a future version. Use pandas.concat instead.\n",
      "  ax = ax.append(pd.Series({label: o}))\n",
      "/home/deb/miniconda3/lib/python3.9/site-packages/fastai/torch_core.py:476: FutureWarning: The series.append method is deprecated and will be removed from pandas in a future version. Use pandas.concat instead.\n",
      "  ax = ax.append(pd.Series({label: o}))\n",
      "/home/deb/miniconda3/lib/python3.9/site-packages/fastai/torch_core.py:476: FutureWarning: The series.append method is deprecated and will be removed from pandas in a future version. Use pandas.concat instead.\n",
      "  ax = ax.append(pd.Series({label: o}))\n",
      "/home/deb/miniconda3/lib/python3.9/site-packages/fastai/torch_core.py:476: FutureWarning: The series.append method is deprecated and will be removed from pandas in a future version. Use pandas.concat instead.\n",
      "  ax = ax.append(pd.Series({label: o}))\n",
      "/home/deb/miniconda3/lib/python3.9/site-packages/fastai/torch_core.py:476: FutureWarning: The series.append method is deprecated and will be removed from pandas in a future version. Use pandas.concat instead.\n",
      "  ax = ax.append(pd.Series({label: o}))\n",
      "/home/deb/miniconda3/lib/python3.9/site-packages/fastai/torch_core.py:476: FutureWarning: The series.append method is deprecated and will be removed from pandas in a future version. Use pandas.concat instead.\n",
      "  ax = ax.append(pd.Series({label: o}))\n",
      "/home/deb/miniconda3/lib/python3.9/site-packages/fastai/torch_core.py:476: FutureWarning: The series.append method is deprecated and will be removed from pandas in a future version. Use pandas.concat instead.\n",
      "  ax = ax.append(pd.Series({label: o}))\n",
      "/home/deb/miniconda3/lib/python3.9/site-packages/fastai/torch_core.py:476: FutureWarning: The series.append method is deprecated and will be removed from pandas in a future version. Use pandas.concat instead.\n",
      "  ax = ax.append(pd.Series({label: o}))\n",
      "/home/deb/miniconda3/lib/python3.9/site-packages/fastai/torch_core.py:476: FutureWarning: The series.append method is deprecated and will be removed from pandas in a future version. Use pandas.concat instead.\n",
      "  ax = ax.append(pd.Series({label: o}))\n"
     ]
    },
    {
     "data": {
      "text/html": [
       "<table border=\"1\" class=\"dataframe\">\n",
       "  <thead>\n",
       "    <tr style=\"text-align: right;\">\n",
       "      <th></th>\n",
       "      <th>text</th>\n",
       "      <th>None</th>\n",
       "    </tr>\n",
       "  </thead>\n",
       "  <tbody>\n",
       "    <tr>\n",
       "      <th>0</th>\n",
       "      <td>xxbos admission date discharge date date of birth sex m service cardiothoracic allergies codeine percocet sulfa sulfonamide antibiotics attending first name3 lf chief complaint dyspnea and coughing major surgical or invasive procedure right thoracotomy and intrathoracic tracheoplasty with mesh right mainstem bronchus and bronchus intermedius bronchoplasty with mesh left mainstem bronchus bronchoplasty with mesh bronchoscopy with bronchoalveolar lavage doctor last name flexible bronchoscopy doctor last name cricothyroidotomy doctor last name revision of tracheostomy tube to xl t shiley doctor last name flexible bronchoscopy with bronchoalveolar lavage doctor last name exploratory laparotomy with closure of perforated gastric ulcer with modified location un patch doctor last name left ij tunnelled hd catheter right basilic dl picc history of present illness 52 m with a history of diabetes kidney transplant in and pancreas transplant in colon cancer and tracheobronchomalacia status post y stent placement removed for excessive granulation tissue with a subsequent hospital</td>\n",
       "      <td>272.4;96.72;99.15;96.6;33.1;E878.8;276.2;34.91;998.59;785.52;995.92;530.81;585.6;39.95;038.9;486;276.69;33.24;276.0;31.1;996.81;38.95;707.03;38.97;519.19;933.1;434.11;V42.83;997.79;33.22;518.51;336.1;531.50;998.30;997.02;453.86;569.81;707.23;250.61;356.9;V45.11;31.79;31.74;33.48;44.41</td>\n",
       "    </tr>\n",
       "    <tr>\n",
       "      <th>1</th>\n",
       "      <td>xxbos admission date discharge date date of birth sex f service medicine allergies tetracyclines zinc attending first name3 lf chief complaint fall major surgical or invasive procedure none history of present illness year old f with xxunk s syndrome recurrent aspiration pna htn who presents s p fall she fell yesterday while trying to get up from bed and was put back to bed by her home health aid today she fell again and her aid dragged her to bed and called ems some head and l hip trauma no loc in the ed she received mso4 mg iv for pain her c spine was cleared head ct and hip films were negative fall was thought to be mechanical and social work was consulted re question of elder abuse neglect at midnight pt spiked to rectal received tylenol cxr and ua negative she was admitted for observation and placement of</td>\n",
       "      <td>507.0;518.81;401.9;96.71;96.04;38.91;99.04;584.9;428.0;585.9;V10.87;599.0;715.90;311;296.80;733.00;285.29;332.0;054.9;808.0;805.6;808.2;244.0;275.42;785.6;530.5;750.3;787.2;288.3;494.0;V55.1;V02.59;E885.9;97.02</td>\n",
       "    </tr>\n",
       "    <tr>\n",
       "      <th>2</th>\n",
       "      <td>xxpad xxpad xxpad xxpad xxpad xxpad xxpad xxpad xxpad xxpad xxpad xxpad xxpad xxpad xxpad xxpad xxpad xxpad xxpad xxpad xxpad xxpad xxpad xxpad xxpad xxpad xxpad xxpad xxpad xxpad xxpad xxpad xxpad xxpad xxpad xxpad xxpad xxpad xxpad xxpad xxpad xxpad xxpad xxpad xxpad xxpad xxpad xxpad xxpad xxpad xxpad xxpad xxpad xxpad xxpad xxpad xxpad xxpad xxpad xxpad xxpad xxpad xxpad xxpad xxpad xxpad xxpad xxpad xxpad xxpad xxpad xxpad xxpad xxpad xxpad xxpad xxpad xxpad xxpad xxpad xxpad xxpad xxpad xxpad xxpad xxpad xxpad xxpad xxpad xxpad xxpad xxpad xxpad xxpad xxpad xxpad xxpad xxpad xxpad xxpad xxpad xxpad xxpad xxpad xxpad xxpad xxpad xxpad xxpad xxpad xxpad xxpad xxpad xxpad xxpad xxpad xxpad xxpad xxpad xxpad xxpad xxpad xxpad xxpad xxpad xxpad xxpad xxpad xxpad xxpad xxpad xxpad xxpad xxpad xxpad xxpad xxpad xxpad xxpad xxpad xxpad xxpad xxpad xxpad xxpad xxpad xxpad xxpad xxpad xxpad</td>\n",
       "      <td>518.81;272.4;530.81;584.9;403.91;410.71;588.81;428.23;428.0;39.95;414.01;V58.67;285.21;998.12;V45.82;37.22;88.56;V43.65;733.00;416.8;38.95;276.8;276.1;250.40;E879.8;276.50;288.60;274.9;276.3;493.90;88.53;564.00;724.2;414.8;997.2;414.04;447.0;442.3;585.5;716.96;V16.0;39.52;99.29;88.77</td>\n",
       "    </tr>\n",
       "    <tr>\n",
       "      <th>3</th>\n",
       "      <td>xxpad xxpad xxpad xxpad xxpad xxpad xxpad xxpad xxpad xxpad xxpad xxpad xxpad xxpad xxpad xxpad xxpad xxpad xxpad xxpad xxpad xxpad xxpad xxpad xxpad xxpad xxpad xxpad xxpad xxpad xxpad xxpad xxpad xxpad xxpad xxpad xxpad xxpad xxpad xxpad xxpad xxpad xxpad xxpad xxpad xxpad xxpad xxpad xxpad xxpad xxpad xxpad xxpad xxpad xxpad xxpad xxpad xxpad xxpad xxpad xxpad xxpad xxpad xxpad xxpad xxpad xxpad xxpad xxpad xxpad xxpad xxpad xxpad xxpad xxpad xxpad xxpad xxpad xxpad xxpad xxpad xxpad xxpad xxpad xxpad xxpad xxpad xxpad xxpad xxpad xxpad xxpad xxpad xxpad xxpad xxpad xxpad xxpad xxpad xxpad xxpad xxpad xxpad xxpad xxpad xxpad xxpad xxpad xxpad xxpad xxpad xxpad xxpad xxpad xxpad xxpad xxpad xxpad xxpad xxpad xxpad xxpad xxpad xxpad xxpad xxpad xxpad xxpad xxpad xxpad xxpad xxpad xxpad xxpad xxpad xxpad xxpad xxpad xxpad xxpad xxpad xxpad xxpad xxpad xxpad xxpad xxpad xxpad xxpad xxpad</td>\n",
       "      <td>507.0;518.81;96.04;96.72;99.15;38.93;785.52;995.92;518.0;584.9;799.02;427.31;599.0;285.9;486;038.42;733.00;591;276.1;560.1;E849.7;E870.8;788.30;562.10;E879.6;401.1;250.22;345.80;996.76;560.39;550.10;595.9;319;542;596.8;87.77</td>\n",
       "    </tr>\n",
       "    <tr>\n",
       "      <th>4</th>\n",
       "      <td>xxpad xxpad xxpad xxpad xxpad xxpad xxpad xxpad xxpad xxpad xxpad xxpad xxpad xxpad xxpad xxpad xxpad xxpad xxpad xxpad xxpad xxpad xxpad xxpad xxpad xxpad xxpad xxpad xxpad xxpad xxpad xxpad xxpad xxpad xxpad xxpad xxpad xxpad xxpad xxpad xxpad xxpad xxpad xxpad xxpad xxpad xxpad xxpad xxpad xxpad xxpad xxpad xxpad xxpad xxpad xxpad xxpad xxpad xxpad xxpad xxpad xxpad xxpad xxpad xxpad xxpad xxpad xxpad xxpad xxpad xxpad xxpad xxpad xxpad xxpad xxpad xxpad xxpad xxpad xxpad xxpad xxpad xxpad xxpad xxpad xxpad xxpad xxpad xxpad xxpad xxpad xxpad xxpad xxpad xxpad xxpad xxpad xxpad xxpad xxpad xxpad xxpad xxpad xxpad xxpad xxpad xxpad xxpad xxpad xxpad xxpad xxpad xxpad xxpad xxpad xxpad xxpad xxpad xxpad xxpad xxpad xxpad xxpad xxpad xxpad xxpad xxpad xxpad xxpad xxpad xxpad xxpad xxpad xxpad xxpad xxpad xxpad xxpad xxpad xxpad xxpad xxpad xxpad xxpad xxpad xxpad xxpad xxpad xxpad xxpad</td>\n",
       "      <td>518.81;401.9;272.4;96.04;96.72;96.6;788.20;V49.86;276.4;427.31;428.0;285.9;486;250.00;733.00;584.5;276.1;428.31;276.7;785.59;V49.87;519.19;599.71;V12.01</td>\n",
       "    </tr>\n",
       "  </tbody>\n",
       "</table>"
      ],
      "text/plain": [
       "<IPython.core.display.HTML object>"
      ]
     },
     "metadata": {},
     "output_type": "display_data"
    }
   ],
   "source": [
    "dls_clas.show_batch(max_n=5)"
   ]
  },
  {
   "cell_type": "markdown",
   "id": "b93e17b0-0752-4959-9bd9-f0ee0290043d",
   "metadata": {
    "jp-MarkdownHeadingCollapsed": true,
    "tags": []
   },
   "source": [
    "## `Learner` for Multi-Label Classifier Fine-Tuning "
   ]
  },
  {
   "cell_type": "code",
   "execution_count": 8,
   "id": "261991a0-1fc1-41a6-a987-d62b80f194ff",
   "metadata": {},
   "outputs": [],
   "source": [
    "dls_clas = torch.load(dls_clas_path)"
   ]
  },
  {
   "cell_type": "code",
   "execution_count": 9,
   "id": "b2a73c1f-0f13-48f4-b0b7-b995972f158a",
   "metadata": {},
   "outputs": [],
   "source": [
    "dls_clas_r = torch.load(dls_clas_r_path)"
   ]
  },
  {
   "cell_type": "code",
   "execution_count": 10,
   "id": "04031cdc-911f-47d2-a05f-7a46b4d4e7bd",
   "metadata": {},
   "outputs": [
    {
     "data": {
      "text/plain": [
       "(16, 16)"
      ]
     },
     "execution_count": 10,
     "metadata": {},
     "output_type": "execute_result"
    }
   ],
   "source": [
    "dls_clas.bs, dls_clas_r.bs"
   ]
  },
  {
   "cell_type": "code",
   "execution_count": 9,
   "id": "7cfc7442-da94-422b-9663-aa8acb554964",
   "metadata": {
    "tags": []
   },
   "outputs": [],
   "source": [
    "learn = text_classifier_learner(dls_clas, AWD_LSTM, drop_mult=0.1, max_len=72*40, metrics=partial(PrecisionK, k=15)).to_fp16()"
   ]
  },
  {
   "cell_type": "code",
   "execution_count": 15,
   "id": "242b1ce1-26c6-4f9f-b4e0-7cb833575d3d",
   "metadata": {},
   "outputs": [
    {
     "ename": "NameError",
     "evalue": "name 'dls_clas_r' is not defined",
     "output_type": "error",
     "traceback": [
      "\u001b[0;31m---------------------------------------------------------------------------\u001b[0m",
      "\u001b[0;31mNameError\u001b[0m                                 Traceback (most recent call last)",
      "Input \u001b[0;32mIn [15]\u001b[0m, in \u001b[0;36m<cell line: 1>\u001b[0;34m()\u001b[0m\n\u001b[0;32m----> 1\u001b[0m learn_r \u001b[38;5;241m=\u001b[39m text_classifier_learner(\u001b[43mdls_clas_r\u001b[49m, AWD_LSTM, drop_mult\u001b[38;5;241m=\u001b[39m\u001b[38;5;241m0.1\u001b[39m, max_len\u001b[38;5;241m=\u001b[39m\u001b[38;5;241m72\u001b[39m\u001b[38;5;241m*\u001b[39m\u001b[38;5;241m40\u001b[39m, metrics\u001b[38;5;241m=\u001b[39mpartial(PrecisionK, k\u001b[38;5;241m=\u001b[39m\u001b[38;5;241m15\u001b[39m))\u001b[38;5;241m.\u001b[39mto_fp16()\n",
      "\u001b[0;31mNameError\u001b[0m: name 'dls_clas_r' is not defined"
     ]
    }
   ],
   "source": [
    "learn_r = text_classifier_learner(dls_clas_r, AWD_LSTM, drop_mult=0.1, max_len=72*40, metrics=partial(PrecisionK, k=15)).to_fp16()"
   ]
  },
  {
   "cell_type": "code",
   "execution_count": 10,
   "id": "184f2123-1bee-440a-82b3-e4c70f5cd414",
   "metadata": {
    "tags": []
   },
   "outputs": [
    {
     "name": "stdout",
     "output_type": "stream",
     "text": [
      "class LabelAttentionClassifier3(Module):\n",
      "    initrange=0.1\n",
      "    def __init__(self, dims, ps, bptt, y_range=None):\n",
      "        self.fts = dims[0]\n",
      "        self.lbs = dims[-1]\n",
      "\n",
      "        # ps = 0.1 # deb\n",
      "        self.layers = LinBnDrop(self.lbs, ln=False, p=ps, act=None) # deb\n",
      "        self.attn = XMLAttention(self.lbs, self.fts, 0.0)\n",
      "        self.final_lin = nn.Linear(self.fts, self.lbs)\n",
      "        init_default(self.final_lin,\n",
      "                     func=partial(torch.nn.init.uniform_, a=-self.initrange, b=self.initrange))\n",
      "\n",
      "    def forward(self, input):\n",
      "        out, _ = input\n",
      "        ctx = self.attn(out)\n",
      "        x = self.layers(ctx)\n",
      "        x = (self.final_lin.weight * ctx).sum(dim=2) + self.final_lin.bias\n",
      "\n",
      "        return x, out, out\n",
      "\n"
     ]
    }
   ],
   "source": [
    "import inspect\n",
    "print(inspect.getsource(learn.model[-1].__class__))"
   ]
  },
  {
   "cell_type": "code",
   "execution_count": 11,
   "id": "2a2b2a6c-0a90-47d2-83ea-b2cef4d75b64",
   "metadata": {},
   "outputs": [
    {
     "name": "stdout",
     "output_type": "stream",
     "text": [
      "class XMLAttention(Module):\n",
      "    \"Compute label specific attention weights for each token in a sequence\"\n",
      "    def __init__(self, n_lbs, emb_sz, embed_p):\n",
      "         store_attr('n_lbs,emb_sz,embed_p')\n",
      "         self.lbs_emb = nn.Embedding(n_lbs, emb_sz)\n",
      "         self.lbs_emb_dp = EmbeddingDropout(self.lbs_emb, embed_p)\n",
      "         self.lbs_emb.weight.data.normal_(0, 0.01)\n",
      "         self.input_dp = RNNDropout(0.02)\n",
      "\n",
      "    def forward(self, x):\n",
      "        lbs_emb = self.lbs_emb(torch.arange(self.n_lbs, device=x.device))\n",
      "        # x_dp = self.input_dp(x)\n",
      "        attn_wgts = F.softmax(x @ lbs_emb.transpose(0,1), dim=1)\n",
      "        return attn_wgts.transpose(1,2) @ x\n",
      "\n"
     ]
    }
   ],
   "source": [
    "print(inspect.getsource(learn.model[-1].attn.__class__))"
   ]
  },
  {
   "cell_type": "code",
   "execution_count": 12,
   "id": "d406a06f-5c66-4117-b0b8-dd7c0fa06169",
   "metadata": {},
   "outputs": [],
   "source": [
    "learn = learn.load_encoder(file_prefix+'_lm_finetuned')"
   ]
  },
  {
   "cell_type": "code",
   "execution_count": 32,
   "id": "7d61fb44-7e65-45f1-a9af-5d4f8ba06da6",
   "metadata": {},
   "outputs": [],
   "source": [
    "learn_r = learn_r.load_encoder(file_prefix+'_lm_finetuned_r')"
   ]
  },
  {
   "cell_type": "markdown",
   "id": "cf62e68a-e452-4abd-a0f3-72f1c1d4357d",
   "metadata": {
    "tags": [],
    "toc-hr-collapsed": true
   },
   "source": [
    "## Fine-Tuning the Classifier "
   ]
  },
  {
   "cell_type": "markdown",
   "id": "a8063f01-60f2-4258-901e-e105853c9345",
   "metadata": {},
   "source": [
    "The last step (yes, the madness will end soon) is to train with:\n",
    "- *discriminative learning rates*: define here\n",
    "- *gradual unfreezing*: define here"
   ]
  },
  {
   "cell_type": "code",
   "execution_count": 13,
   "id": "7e1d1399-1800-419e-8640-2d3478189f3b",
   "metadata": {
    "tags": []
   },
   "outputs": [
    {
     "data": {
      "text/html": [
       "\n",
       "<style>\n",
       "    /* Turns off some styling */\n",
       "    progress {\n",
       "        /* gets rid of default border in Firefox and Opera. */\n",
       "        border: none;\n",
       "        /* Needs to be in here for Safari polyfill so background images work as expected. */\n",
       "        background-size: auto;\n",
       "    }\n",
       "    .progress-bar-interrupted, .progress-bar-interrupted::-webkit-progress-bar {\n",
       "        background: #F44336;\n",
       "    }\n",
       "</style>\n"
      ],
      "text/plain": [
       "<IPython.core.display.HTML object>"
      ]
     },
     "metadata": {},
     "output_type": "display_data"
    },
    {
     "data": {
      "text/html": [],
      "text/plain": [
       "<IPython.core.display.HTML object>"
      ]
     },
     "metadata": {},
     "output_type": "display_data"
    },
    {
     "data": {
      "text/plain": [
       "(0.19054607152938843,\n",
       " 0.04786301031708717,\n",
       " 0.002511886414140463,\n",
       " 0.033113110810518265)"
      ]
     },
     "execution_count": 13,
     "metadata": {},
     "output_type": "execute_result"
    },
    {
     "data": {
      "image/png": "[encoded data removed]",
      "text/plain": [
       "<Figure size 432x288 with 1 Axes>"
      ]
     },
     "metadata": {
      "needs_background": "light"
     },
     "output_type": "display_data"
    }
   ],
   "source": [
    "lr_min, lr_steep, lr_valley, lr_slide = learn.lr_find(suggest_funcs=(minimum, steep, valley, slide))\n",
    "lr_min, lr_steep, lr_valley, lr_slide"
   ]
  },
  {
   "cell_type": "code",
   "execution_count": 14,
   "id": "38067ea1-3ccf-4d7c-accf-493156dbbfb6",
   "metadata": {},
   "outputs": [
    {
     "data": {
      "text/html": [
       "\n",
       "<style>\n",
       "    /* Turns off some styling */\n",
       "    progress {\n",
       "        /* gets rid of default border in Firefox and Opera. */\n",
       "        border: none;\n",
       "        /* Needs to be in here for Safari polyfill so background images work as expected. */\n",
       "        background-size: auto;\n",
       "    }\n",
       "    .progress-bar-interrupted, .progress-bar-interrupted::-webkit-progress-bar {\n",
       "        background: #F44336;\n",
       "    }\n",
       "</style>\n"
      ],
      "text/plain": [
       "<IPython.core.display.HTML object>"
      ]
     },
     "metadata": {},
     "output_type": "display_data"
    },
    {
     "data": {
      "text/html": [
       "<table border=\"1\" class=\"dataframe\">\n",
       "  <thead>\n",
       "    <tr style=\"text-align: left;\">\n",
       "      <th>epoch</th>\n",
       "      <th>train_loss</th>\n",
       "      <th>valid_loss</th>\n",
       "      <th>PrecisionK</th>\n",
       "      <th>time</th>\n",
       "    </tr>\n",
       "  </thead>\n",
       "  <tbody>\n",
       "    <tr>\n",
       "      <td>0</td>\n",
       "      <td>0.196374</td>\n",
       "      <td>0.093811</td>\n",
       "      <td>0.233333</td>\n",
       "      <td>00:06</td>\n",
       "    </tr>\n",
       "    <tr>\n",
       "      <td>1</td>\n",
       "      <td>0.114762</td>\n",
       "      <td>0.079780</td>\n",
       "      <td>0.273333</td>\n",
       "      <td>00:06</td>\n",
       "    </tr>\n",
       "  </tbody>\n",
       "</table>"
      ],
      "text/plain": [
       "<IPython.core.display.HTML object>"
      ]
     },
     "metadata": {},
     "output_type": "display_data"
    },
    {
     "name": "stdout",
     "output_type": "stream",
     "text": [
      "Better model found at epoch 0 with PrecisionK value: 0.23333333333333334.\n",
      "Better model found at epoch 1 with PrecisionK value: 0.2733333333333333.\n"
     ]
    }
   ],
   "source": [
    "learn.fit_one_cycle(2, lr_max=lr_min, moms=(0.8,0.7,0.8), wd=0.1, \n",
    "cbs=SaveModelCallback(monitor='PrecisionK', fname=file_prefix+'_clas'))"
   ]
  },
  {
   "cell_type": "code",
   "execution_count": 11,
   "id": "7e36503a-e04b-4c4b-8449-b50fb18ebe44",
   "metadata": {
    "collapsed": true,
    "jupyter": {
     "outputs_hidden": true,
     "source_hidden": true
    },
    "tags": []
   },
   "outputs": [
    {
     "data": {
      "text/html": [
       "\n",
       "<style>\n",
       "    /* Turns off some styling */\n",
       "    progress {\n",
       "        /* gets rid of default border in Firefox and Opera. */\n",
       "        border: none;\n",
       "        /* Needs to be in here for Safari polyfill so background images work as expected. */\n",
       "        background-size: auto;\n",
       "    }\n",
       "    .progress-bar-interrupted, .progress-bar-interrupted::-webkit-progress-bar {\n",
       "        background: #F44336;\n",
       "    }\n",
       "</style>\n"
      ],
      "text/plain": [
       "<IPython.core.display.HTML object>"
      ]
     },
     "metadata": {},
     "output_type": "display_data"
    },
    {
     "data": {
      "text/html": [
       "<table border=\"1\" class=\"dataframe\">\n",
       "  <thead>\n",
       "    <tr style=\"text-align: left;\">\n",
       "      <th>epoch</th>\n",
       "      <th>train_loss</th>\n",
       "      <th>valid_loss</th>\n",
       "      <th>PrecisionK</th>\n",
       "      <th>time</th>\n",
       "    </tr>\n",
       "  </thead>\n",
       "  <tbody>\n",
       "    <tr>\n",
       "      <td>0</td>\n",
       "      <td>0.008764</td>\n",
       "      <td>0.010205</td>\n",
       "      <td>0.438134</td>\n",
       "      <td>06:18</td>\n",
       "    </tr>\n",
       "  </tbody>\n",
       "</table>"
      ],
      "text/plain": [
       "<IPython.core.display.HTML object>"
      ]
     },
     "metadata": {},
     "output_type": "display_data"
    }
   ],
   "source": [
    "learn.fit_one_cycle(1, lr_max=lr_min, moms=(0.8,0.7,0.8), wd=0.1)"
   ]
  },
  {
   "cell_type": "markdown",
   "id": "4a8f7ca7-d7ab-4e3e-9001-c0ce0837c219",
   "metadata": {},
   "source": [
    "This was the result after just three epochs. Now let's unfreeze the last two layers and do discriminative training:  \n",
    "\n",
    "Now we will pass -2 to `freeze_to` to freeze all except the last two parameter groups:"
   ]
  },
  {
   "cell_type": "code",
   "execution_count": 15,
   "id": "ddcbd746-172f-41f9-b8fd-5b8cdeae0225",
   "metadata": {},
   "outputs": [],
   "source": [
    "learn.freeze_to(-2)"
   ]
  },
  {
   "cell_type": "code",
   "execution_count": 16,
   "id": "dac15199-2b50-4016-b664-3de6666fb5b8",
   "metadata": {},
   "outputs": [
    {
     "data": {
      "text/html": [
       "\n",
       "<style>\n",
       "    /* Turns off some styling */\n",
       "    progress {\n",
       "        /* gets rid of default border in Firefox and Opera. */\n",
       "        border: none;\n",
       "        /* Needs to be in here for Safari polyfill so background images work as expected. */\n",
       "        background-size: auto;\n",
       "    }\n",
       "    .progress-bar-interrupted, .progress-bar-interrupted::-webkit-progress-bar {\n",
       "        background: #F44336;\n",
       "    }\n",
       "</style>\n"
      ],
      "text/plain": [
       "<IPython.core.display.HTML object>"
      ]
     },
     "metadata": {},
     "output_type": "display_data"
    },
    {
     "data": {
      "text/html": [
       "<table border=\"1\" class=\"dataframe\">\n",
       "  <thead>\n",
       "    <tr style=\"text-align: left;\">\n",
       "      <th>epoch</th>\n",
       "      <th>train_loss</th>\n",
       "      <th>valid_loss</th>\n",
       "      <th>PrecisionK</th>\n",
       "      <th>time</th>\n",
       "    </tr>\n",
       "  </thead>\n",
       "  <tbody>\n",
       "    <tr>\n",
       "      <td>0</td>\n",
       "      <td>0.039549</td>\n",
       "      <td>0.077626</td>\n",
       "      <td>0.273333</td>\n",
       "      <td>00:09</td>\n",
       "    </tr>\n",
       "    <tr>\n",
       "      <td>1</td>\n",
       "      <td>0.038571</td>\n",
       "      <td>0.076281</td>\n",
       "      <td>0.283333</td>\n",
       "      <td>00:08</td>\n",
       "    </tr>\n",
       "    <tr>\n",
       "      <td>2</td>\n",
       "      <td>0.037567</td>\n",
       "      <td>0.075049</td>\n",
       "      <td>0.286667</td>\n",
       "      <td>00:08</td>\n",
       "    </tr>\n",
       "    <tr>\n",
       "      <td>3</td>\n",
       "      <td>0.036730</td>\n",
       "      <td>0.074820</td>\n",
       "      <td>0.283333</td>\n",
       "      <td>00:08</td>\n",
       "    </tr>\n",
       "    <tr>\n",
       "      <td>4</td>\n",
       "      <td>0.035979</td>\n",
       "      <td>0.074725</td>\n",
       "      <td>0.283333</td>\n",
       "      <td>00:08</td>\n",
       "    </tr>\n",
       "  </tbody>\n",
       "</table>"
      ],
      "text/plain": [
       "<IPython.core.display.HTML object>"
      ]
     },
     "metadata": {},
     "output_type": "display_data"
    },
    {
     "name": "stdout",
     "output_type": "stream",
     "text": [
      "Better model found at epoch 0 with PrecisionK value: 0.2733333333333333.\n",
      "Better model found at epoch 1 with PrecisionK value: 0.2833333333333333.\n",
      "Better model found at epoch 2 with PrecisionK value: 0.2866666666666667.\n"
     ]
    }
   ],
   "source": [
    "learn.fit_one_cycle(5, lr_max=1e-3, moms=(0.8,0.7,0.8), wd=0.1, \n",
    "                    cbs=SaveModelCallback(monitor='PrecisionK', fname=file_prefix+'_clas'))"
   ]
  },
  {
   "cell_type": "markdown",
   "id": "29a4f5ad-cb46-4864-ac5d-aa566b7aa425",
   "metadata": {},
   "source": [
    "Now we will unfreeze a bit more, recompute learning rate and continue training:"
   ]
  },
  {
   "cell_type": "code",
   "execution_count": 17,
   "id": "e20669b7-b27f-40bd-9ecb-e218071306bc",
   "metadata": {},
   "outputs": [],
   "source": [
    "learn.freeze_to(-3)"
   ]
  },
  {
   "cell_type": "code",
   "execution_count": 18,
   "id": "cae12306-8427-488e-9546-a614428d5c40",
   "metadata": {},
   "outputs": [
    {
     "data": {
      "text/html": [
       "\n",
       "<style>\n",
       "    /* Turns off some styling */\n",
       "    progress {\n",
       "        /* gets rid of default border in Firefox and Opera. */\n",
       "        border: none;\n",
       "        /* Needs to be in here for Safari polyfill so background images work as expected. */\n",
       "        background-size: auto;\n",
       "    }\n",
       "    .progress-bar-interrupted, .progress-bar-interrupted::-webkit-progress-bar {\n",
       "        background: #F44336;\n",
       "    }\n",
       "</style>\n"
      ],
      "text/plain": [
       "<IPython.core.display.HTML object>"
      ]
     },
     "metadata": {},
     "output_type": "display_data"
    },
    {
     "data": {
      "text/html": [
       "<table border=\"1\" class=\"dataframe\">\n",
       "  <thead>\n",
       "    <tr style=\"text-align: left;\">\n",
       "      <th>epoch</th>\n",
       "      <th>train_loss</th>\n",
       "      <th>valid_loss</th>\n",
       "      <th>PrecisionK</th>\n",
       "      <th>time</th>\n",
       "    </tr>\n",
       "  </thead>\n",
       "  <tbody>\n",
       "    <tr>\n",
       "      <td>0</td>\n",
       "      <td>0.035116</td>\n",
       "      <td>0.075076</td>\n",
       "      <td>0.280000</td>\n",
       "      <td>00:12</td>\n",
       "    </tr>\n",
       "    <tr>\n",
       "      <td>1</td>\n",
       "      <td>0.034579</td>\n",
       "      <td>0.074292</td>\n",
       "      <td>0.283333</td>\n",
       "      <td>00:12</td>\n",
       "    </tr>\n",
       "    <tr>\n",
       "      <td>2</td>\n",
       "      <td>0.033620</td>\n",
       "      <td>0.074321</td>\n",
       "      <td>0.290000</td>\n",
       "      <td>00:11</td>\n",
       "    </tr>\n",
       "    <tr>\n",
       "      <td>3</td>\n",
       "      <td>0.032433</td>\n",
       "      <td>0.075610</td>\n",
       "      <td>0.293333</td>\n",
       "      <td>00:12</td>\n",
       "    </tr>\n",
       "    <tr>\n",
       "      <td>4</td>\n",
       "      <td>0.031457</td>\n",
       "      <td>0.075041</td>\n",
       "      <td>0.293333</td>\n",
       "      <td>00:12</td>\n",
       "    </tr>\n",
       "    <tr>\n",
       "      <td>5</td>\n",
       "      <td>0.030655</td>\n",
       "      <td>0.075155</td>\n",
       "      <td>0.293333</td>\n",
       "      <td>00:12</td>\n",
       "    </tr>\n",
       "  </tbody>\n",
       "</table>"
      ],
      "text/plain": [
       "<IPython.core.display.HTML object>"
      ]
     },
     "metadata": {},
     "output_type": "display_data"
    },
    {
     "name": "stdout",
     "output_type": "stream",
     "text": [
      "Better model found at epoch 0 with PrecisionK value: 0.28.\n",
      "Better model found at epoch 1 with PrecisionK value: 0.2833333333333333.\n",
      "Better model found at epoch 2 with PrecisionK value: 0.29.\n",
      "Better model found at epoch 3 with PrecisionK value: 0.29333333333333333.\n"
     ]
    }
   ],
   "source": [
    "learn.fit_one_cycle(6, lr_max=1e-3, moms=(0.8,0.7,0.8), wd=0.2,\n",
    "                   cbs=SaveModelCallback(monitor='PrecisionK', fname=file_prefix+'_clas'))"
   ]
  },
  {
   "cell_type": "code",
   "execution_count": 17,
   "id": "238fa82c-5751-453f-b197-ee43c983715f",
   "metadata": {
    "jupyter": {
     "source_hidden": true
    },
    "tags": []
   },
   "outputs": [],
   "source": [
    "learn.freeze_to(-4)"
   ]
  },
  {
   "cell_type": "code",
   "execution_count": 18,
   "id": "0920822c-45bd-404a-8b14-7da157515c53",
   "metadata": {
    "collapsed": true,
    "jupyter": {
     "outputs_hidden": true,
     "source_hidden": true
    },
    "tags": []
   },
   "outputs": [
    {
     "data": {
      "text/html": [
       "\n",
       "<style>\n",
       "    /* Turns off some styling */\n",
       "    progress {\n",
       "        /* gets rid of default border in Firefox and Opera. */\n",
       "        border: none;\n",
       "        /* Needs to be in here for Safari polyfill so background images work as expected. */\n",
       "        background-size: auto;\n",
       "    }\n",
       "    .progress-bar-interrupted, .progress-bar-interrupted::-webkit-progress-bar {\n",
       "        background: #F44336;\n",
       "    }\n",
       "</style>\n"
      ],
      "text/plain": [
       "<IPython.core.display.HTML object>"
      ]
     },
     "metadata": {},
     "output_type": "display_data"
    },
    {
     "data": {
      "text/html": [
       "<table border=\"1\" class=\"dataframe\">\n",
       "  <thead>\n",
       "    <tr style=\"text-align: left;\">\n",
       "      <th>epoch</th>\n",
       "      <th>train_loss</th>\n",
       "      <th>valid_loss</th>\n",
       "      <th>PrecisionK</th>\n",
       "      <th>time</th>\n",
       "    </tr>\n",
       "  </thead>\n",
       "  <tbody>\n",
       "    <tr>\n",
       "      <td>0</td>\n",
       "      <td>0.013988</td>\n",
       "      <td>0.029497</td>\n",
       "      <td>0.364211</td>\n",
       "      <td>01:14</td>\n",
       "    </tr>\n",
       "    <tr>\n",
       "      <td>1</td>\n",
       "      <td>0.014082</td>\n",
       "      <td>0.029875</td>\n",
       "      <td>0.367018</td>\n",
       "      <td>01:11</td>\n",
       "    </tr>\n",
       "    <tr>\n",
       "      <td>2</td>\n",
       "      <td>0.013557</td>\n",
       "      <td>0.029206</td>\n",
       "      <td>0.365614</td>\n",
       "      <td>01:13</td>\n",
       "    </tr>\n",
       "    <tr>\n",
       "      <td>3</td>\n",
       "      <td>0.013187</td>\n",
       "      <td>0.029233</td>\n",
       "      <td>0.367719</td>\n",
       "      <td>01:12</td>\n",
       "    </tr>\n",
       "    <tr>\n",
       "      <td>4</td>\n",
       "      <td>0.012697</td>\n",
       "      <td>0.029214</td>\n",
       "      <td>0.365614</td>\n",
       "      <td>01:13</td>\n",
       "    </tr>\n",
       "  </tbody>\n",
       "</table>"
      ],
      "text/plain": [
       "<IPython.core.display.HTML object>"
      ]
     },
     "metadata": {},
     "output_type": "display_data"
    },
    {
     "name": "stdout",
     "output_type": "stream",
     "text": [
      "Better model found at epoch 0 with valid_loss value: 0.029496705159544945.\n",
      "Better model found at epoch 2 with valid_loss value: 0.029205653816461563.\n"
     ]
    }
   ],
   "source": [
    "learn.fit_one_cycle(5, lr_max=1e-3, moms=(0.8,0.7,0.8), wd=0.2,\n",
    "                   cbs=SaveModelCallback(monitor='PrecisionK', fname=file_prefix+'_clas'))"
   ]
  },
  {
   "cell_type": "markdown",
   "id": "4791f37a-12fa-43d2-a698-4847c6d0bd1b",
   "metadata": {},
   "source": [
    "Finally, we will unfreeze the whole model and perform training:"
   ]
  },
  {
   "cell_type": "code",
   "execution_count": 20,
   "id": "2150b0ae-aab7-4e84-84b8-259328547857",
   "metadata": {},
   "outputs": [],
   "source": [
    "learn.unfreeze()"
   ]
  },
  {
   "cell_type": "markdown",
   "id": "48e9d2bc-ec52-41ba-a295-4b268977774f",
   "metadata": {},
   "source": [
    "At this point, it starts overfitting too soon so either progressively increase `bs` or increase `wd` or decrease `lr_max`. Another way would be to drop out label embeddings, but for this one needs to carefully adjust the dropout prob. Same concept regarding dropping out the seqs nh."
   ]
  },
  {
   "cell_type": "code",
   "execution_count": 21,
   "id": "0e1b8599-e6a5-4805-8bdf-2249de59ce22",
   "metadata": {
    "tags": []
   },
   "outputs": [
    {
     "data": {
      "text/html": [
       "\n",
       "<style>\n",
       "    /* Turns off some styling */\n",
       "    progress {\n",
       "        /* gets rid of default border in Firefox and Opera. */\n",
       "        border: none;\n",
       "        /* Needs to be in here for Safari polyfill so background images work as expected. */\n",
       "        background-size: auto;\n",
       "    }\n",
       "    .progress-bar-interrupted, .progress-bar-interrupted::-webkit-progress-bar {\n",
       "        background: #F44336;\n",
       "    }\n",
       "</style>\n"
      ],
      "text/plain": [
       "<IPython.core.display.HTML object>"
      ]
     },
     "metadata": {},
     "output_type": "display_data"
    },
    {
     "data": {
      "text/html": [
       "<table border=\"1\" class=\"dataframe\">\n",
       "  <thead>\n",
       "    <tr style=\"text-align: left;\">\n",
       "      <th>epoch</th>\n",
       "      <th>train_loss</th>\n",
       "      <th>valid_loss</th>\n",
       "      <th>PrecisionK</th>\n",
       "      <th>time</th>\n",
       "    </tr>\n",
       "  </thead>\n",
       "  <tbody>\n",
       "    <tr>\n",
       "      <td>0</td>\n",
       "      <td>0.029601</td>\n",
       "      <td>0.075530</td>\n",
       "      <td>0.293333</td>\n",
       "      <td>00:16</td>\n",
       "    </tr>\n",
       "    <tr>\n",
       "      <td>1</td>\n",
       "      <td>0.029468</td>\n",
       "      <td>0.075323</td>\n",
       "      <td>0.293333</td>\n",
       "      <td>00:16</td>\n",
       "    </tr>\n",
       "    <tr>\n",
       "      <td>2</td>\n",
       "      <td>0.029522</td>\n",
       "      <td>0.075156</td>\n",
       "      <td>0.293333</td>\n",
       "      <td>00:16</td>\n",
       "    </tr>\n",
       "    <tr>\n",
       "      <td>3</td>\n",
       "      <td>0.029424</td>\n",
       "      <td>0.075280</td>\n",
       "      <td>0.293333</td>\n",
       "      <td>00:16</td>\n",
       "    </tr>\n",
       "    <tr>\n",
       "      <td>4</td>\n",
       "      <td>0.029359</td>\n",
       "      <td>0.075466</td>\n",
       "      <td>0.290000</td>\n",
       "      <td>00:16</td>\n",
       "    </tr>\n",
       "    <tr>\n",
       "      <td>5</td>\n",
       "      <td>0.029294</td>\n",
       "      <td>0.075583</td>\n",
       "      <td>0.290000</td>\n",
       "      <td>00:15</td>\n",
       "    </tr>\n",
       "    <tr>\n",
       "      <td>6</td>\n",
       "      <td>0.029296</td>\n",
       "      <td>0.075666</td>\n",
       "      <td>0.290000</td>\n",
       "      <td>00:15</td>\n",
       "    </tr>\n",
       "    <tr>\n",
       "      <td>7</td>\n",
       "      <td>0.029145</td>\n",
       "      <td>0.075767</td>\n",
       "      <td>0.293333</td>\n",
       "      <td>00:15</td>\n",
       "    </tr>\n",
       "    <tr>\n",
       "      <td>8</td>\n",
       "      <td>0.029000</td>\n",
       "      <td>0.075905</td>\n",
       "      <td>0.290000</td>\n",
       "      <td>00:15</td>\n",
       "    </tr>\n",
       "    <tr>\n",
       "      <td>9</td>\n",
       "      <td>0.028735</td>\n",
       "      <td>0.075979</td>\n",
       "      <td>0.290000</td>\n",
       "      <td>00:15</td>\n",
       "    </tr>\n",
       "    <tr>\n",
       "      <td>10</td>\n",
       "      <td>0.028518</td>\n",
       "      <td>0.076185</td>\n",
       "      <td>0.290000</td>\n",
       "      <td>00:15</td>\n",
       "    </tr>\n",
       "    <tr>\n",
       "      <td>11</td>\n",
       "      <td>0.028377</td>\n",
       "      <td>0.076286</td>\n",
       "      <td>0.290000</td>\n",
       "      <td>00:16</td>\n",
       "    </tr>\n",
       "    <tr>\n",
       "      <td>12</td>\n",
       "      <td>0.028206</td>\n",
       "      <td>0.076249</td>\n",
       "      <td>0.290000</td>\n",
       "      <td>00:15</td>\n",
       "    </tr>\n",
       "    <tr>\n",
       "      <td>13</td>\n",
       "      <td>0.028204</td>\n",
       "      <td>0.076390</td>\n",
       "      <td>0.290000</td>\n",
       "      <td>00:16</td>\n",
       "    </tr>\n",
       "    <tr>\n",
       "      <td>14</td>\n",
       "      <td>0.027962</td>\n",
       "      <td>0.076373</td>\n",
       "      <td>0.290000</td>\n",
       "      <td>00:16</td>\n",
       "    </tr>\n",
       "    <tr>\n",
       "      <td>15</td>\n",
       "      <td>0.027842</td>\n",
       "      <td>0.076437</td>\n",
       "      <td>0.290000</td>\n",
       "      <td>00:16</td>\n",
       "    </tr>\n",
       "    <tr>\n",
       "      <td>16</td>\n",
       "      <td>0.027831</td>\n",
       "      <td>0.076486</td>\n",
       "      <td>0.290000</td>\n",
       "      <td>00:16</td>\n",
       "    </tr>\n",
       "    <tr>\n",
       "      <td>17</td>\n",
       "      <td>0.027675</td>\n",
       "      <td>0.076480</td>\n",
       "      <td>0.290000</td>\n",
       "      <td>00:16</td>\n",
       "    </tr>\n",
       "    <tr>\n",
       "      <td>18</td>\n",
       "      <td>0.027651</td>\n",
       "      <td>0.076484</td>\n",
       "      <td>0.290000</td>\n",
       "      <td>00:16</td>\n",
       "    </tr>\n",
       "    <tr>\n",
       "      <td>19</td>\n",
       "      <td>0.027570</td>\n",
       "      <td>0.076483</td>\n",
       "      <td>0.290000</td>\n",
       "      <td>00:16</td>\n",
       "    </tr>\n",
       "  </tbody>\n",
       "</table>"
      ],
      "text/plain": [
       "<IPython.core.display.HTML object>"
      ]
     },
     "metadata": {},
     "output_type": "display_data"
    },
    {
     "name": "stdout",
     "output_type": "stream",
     "text": [
      "Better model found at epoch 0 with PrecisionK value: 0.29333333333333333.\n"
     ]
    }
   ],
   "source": [
    "learn.fit_one_cycle(20, lr_max=1e-4, moms=(0.8,0.7,0.8), wd=0.2,\n",
    "                   cbs=SaveModelCallback(monitor='PrecisionK', fname=file_prefix+'_clas'))"
   ]
  },
  {
   "cell_type": "code",
   "execution_count": 27,
   "id": "f0ed5b27-b502-4d20-ae4e-08216b8635bd",
   "metadata": {
    "collapsed": true,
    "jupyter": {
     "outputs_hidden": true,
     "source_hidden": true
    },
    "tags": []
   },
   "outputs": [
    {
     "data": {
      "text/html": [
       "\n",
       "<style>\n",
       "    /* Turns off some styling */\n",
       "    progress {\n",
       "        /* gets rid of default border in Firefox and Opera. */\n",
       "        border: none;\n",
       "        /* Needs to be in here for Safari polyfill so background images work as expected. */\n",
       "        background-size: auto;\n",
       "    }\n",
       "    .progress-bar-interrupted, .progress-bar-interrupted::-webkit-progress-bar {\n",
       "        background: #F44336;\n",
       "    }\n",
       "</style>\n"
      ],
      "text/plain": [
       "<IPython.core.display.HTML object>"
      ]
     },
     "metadata": {},
     "output_type": "display_data"
    },
    {
     "data": {
      "text/html": [
       "<table border=\"1\" class=\"dataframe\">\n",
       "  <thead>\n",
       "    <tr style=\"text-align: left;\">\n",
       "      <th>epoch</th>\n",
       "      <th>train_loss</th>\n",
       "      <th>valid_loss</th>\n",
       "      <th>PrecisionK</th>\n",
       "      <th>time</th>\n",
       "    </tr>\n",
       "  </thead>\n",
       "  <tbody>\n",
       "    <tr>\n",
       "      <td>0</td>\n",
       "      <td>0.009093</td>\n",
       "      <td>0.028945</td>\n",
       "      <td>0.378246</td>\n",
       "      <td>01:17</td>\n",
       "    </tr>\n",
       "    <tr>\n",
       "      <td>1</td>\n",
       "      <td>0.009054</td>\n",
       "      <td>0.028963</td>\n",
       "      <td>0.376842</td>\n",
       "      <td>01:17</td>\n",
       "    </tr>\n",
       "    <tr>\n",
       "      <td>2</td>\n",
       "      <td>0.008918</td>\n",
       "      <td>0.028934</td>\n",
       "      <td>0.379649</td>\n",
       "      <td>01:17</td>\n",
       "    </tr>\n",
       "    <tr>\n",
       "      <td>3</td>\n",
       "      <td>0.008926</td>\n",
       "      <td>0.028949</td>\n",
       "      <td>0.381053</td>\n",
       "      <td>01:17</td>\n",
       "    </tr>\n",
       "    <tr>\n",
       "      <td>4</td>\n",
       "      <td>0.008689</td>\n",
       "      <td>0.028821</td>\n",
       "      <td>0.381053</td>\n",
       "      <td>01:16</td>\n",
       "    </tr>\n",
       "  </tbody>\n",
       "</table>"
      ],
      "text/plain": [
       "<IPython.core.display.HTML object>"
      ]
     },
     "metadata": {},
     "output_type": "display_data"
    },
    {
     "name": "stdout",
     "output_type": "stream",
     "text": [
      "Better model found at epoch 0 with PrecisionK value: 0.3782456140350878.\n",
      "Better model found at epoch 2 with PrecisionK value: 0.3796491228070175.\n",
      "Better model found at epoch 3 with PrecisionK value: 0.3810526315789473.\n",
      "Better model found at epoch 4 with PrecisionK value: 0.3810526315789474.\n"
     ]
    }
   ],
   "source": [
    "learn.fit_one_cycle(5, lr_max=1e-4, moms=(0.8,0.7,0.8), wd=0.2,\n",
    "                   cbs=SaveModelCallback(monitor='PrecisionK', fname=file_prefix+'_clas'))"
   ]
  },
  {
   "cell_type": "code",
   "execution_count": 33,
   "id": "4b5713e9-a069-4d5d-9d5a-74fbab5383dd",
   "metadata": {
    "collapsed": true,
    "jupyter": {
     "outputs_hidden": true,
     "source_hidden": true
    },
    "tags": []
   },
   "outputs": [
    {
     "data": {
      "text/html": [
       "\n",
       "<style>\n",
       "    /* Turns off some styling */\n",
       "    progress {\n",
       "        /* gets rid of default border in Firefox and Opera. */\n",
       "        border: none;\n",
       "        /* Needs to be in here for Safari polyfill so background images work as expected. */\n",
       "        background-size: auto;\n",
       "    }\n",
       "    .progress-bar-interrupted, .progress-bar-interrupted::-webkit-progress-bar {\n",
       "        background: #F44336;\n",
       "    }\n",
       "</style>\n"
      ],
      "text/plain": [
       "<IPython.core.display.HTML object>"
      ]
     },
     "metadata": {},
     "output_type": "display_data"
    },
    {
     "data": {
      "text/html": [
       "<table border=\"1\" class=\"dataframe\">\n",
       "  <thead>\n",
       "    <tr style=\"text-align: left;\">\n",
       "      <th>epoch</th>\n",
       "      <th>train_loss</th>\n",
       "      <th>valid_loss</th>\n",
       "      <th>PrecisionK</th>\n",
       "      <th>time</th>\n",
       "    </tr>\n",
       "  </thead>\n",
       "  <tbody>\n",
       "    <tr>\n",
       "      <td>0</td>\n",
       "      <td>0.009080</td>\n",
       "      <td>0.029099</td>\n",
       "      <td>0.380351</td>\n",
       "      <td>01:17</td>\n",
       "    </tr>\n",
       "    <tr>\n",
       "      <td>1</td>\n",
       "      <td>0.008792</td>\n",
       "      <td>0.028892</td>\n",
       "      <td>0.381053</td>\n",
       "      <td>01:18</td>\n",
       "    </tr>\n",
       "    <tr>\n",
       "      <td>2</td>\n",
       "      <td>0.008648</td>\n",
       "      <td>0.028956</td>\n",
       "      <td>0.381754</td>\n",
       "      <td>01:17</td>\n",
       "    </tr>\n",
       "    <tr>\n",
       "      <td>3</td>\n",
       "      <td>0.008792</td>\n",
       "      <td>0.028984</td>\n",
       "      <td>0.378947</td>\n",
       "      <td>01:17</td>\n",
       "    </tr>\n",
       "    <tr>\n",
       "      <td>4</td>\n",
       "      <td>0.008810</td>\n",
       "      <td>0.028974</td>\n",
       "      <td>0.381053</td>\n",
       "      <td>01:17</td>\n",
       "    </tr>\n",
       "    <tr>\n",
       "      <td>5</td>\n",
       "      <td>0.008679</td>\n",
       "      <td>0.028850</td>\n",
       "      <td>0.380351</td>\n",
       "      <td>01:17</td>\n",
       "    </tr>\n",
       "    <tr>\n",
       "      <td>6</td>\n",
       "      <td>0.008943</td>\n",
       "      <td>0.029143</td>\n",
       "      <td>0.379649</td>\n",
       "      <td>01:17</td>\n",
       "    </tr>\n",
       "    <tr>\n",
       "      <td>7</td>\n",
       "      <td>0.008815</td>\n",
       "      <td>0.029143</td>\n",
       "      <td>0.380351</td>\n",
       "      <td>01:17</td>\n",
       "    </tr>\n",
       "    <tr>\n",
       "      <td>8</td>\n",
       "      <td>0.008430</td>\n",
       "      <td>0.028840</td>\n",
       "      <td>0.380351</td>\n",
       "      <td>01:17</td>\n",
       "    </tr>\n",
       "    <tr>\n",
       "      <td>9</td>\n",
       "      <td>0.008651</td>\n",
       "      <td>0.029073</td>\n",
       "      <td>0.381053</td>\n",
       "      <td>01:17</td>\n",
       "    </tr>\n",
       "    <tr>\n",
       "      <td>10</td>\n",
       "      <td>0.008751</td>\n",
       "      <td>0.029072</td>\n",
       "      <td>0.381053</td>\n",
       "      <td>01:17</td>\n",
       "    </tr>\n",
       "    <tr>\n",
       "      <td>11</td>\n",
       "      <td>0.008741</td>\n",
       "      <td>0.029025</td>\n",
       "      <td>0.381053</td>\n",
       "      <td>01:17</td>\n",
       "    </tr>\n",
       "    <tr>\n",
       "      <td>12</td>\n",
       "      <td>0.008630</td>\n",
       "      <td>0.029058</td>\n",
       "      <td>0.381053</td>\n",
       "      <td>01:17</td>\n",
       "    </tr>\n",
       "    <tr>\n",
       "      <td>13</td>\n",
       "      <td>0.008799</td>\n",
       "      <td>0.029136</td>\n",
       "      <td>0.380351</td>\n",
       "      <td>01:16</td>\n",
       "    </tr>\n",
       "    <tr>\n",
       "      <td>14</td>\n",
       "      <td>0.008831</td>\n",
       "      <td>0.029168</td>\n",
       "      <td>0.380351</td>\n",
       "      <td>01:17</td>\n",
       "    </tr>\n",
       "  </tbody>\n",
       "</table>"
      ],
      "text/plain": [
       "<IPython.core.display.HTML object>"
      ]
     },
     "metadata": {},
     "output_type": "display_data"
    },
    {
     "name": "stdout",
     "output_type": "stream",
     "text": [
      "Better model found at epoch 0 with PrecisionK value: 0.3803508771929824.\n",
      "Better model found at epoch 1 with PrecisionK value: 0.3810526315789473.\n",
      "Better model found at epoch 2 with PrecisionK value: 0.3817543859649123.\n"
     ]
    }
   ],
   "source": [
    "learn.fit_one_cycle(15, lr_max=3.311311302240938e-05, moms=(0.8,0.7,0.8), wd=0.2,\n",
    "                   cbs=SaveModelCallback(monitor='PrecisionK', fname=file_prefix+'_clas'))"
   ]
  },
  {
   "cell_type": "markdown",
   "id": "5465da25-2ca6-441b-8e4b-06c2c6890d14",
   "metadata": {},
   "source": [
    "To save the model:"
   ]
  },
  {
   "cell_type": "code",
   "execution_count": 26,
   "id": "edf95fc9-b30c-4ef2-99af-0798d9e2e5d1",
   "metadata": {},
   "outputs": [
    {
     "data": {
      "text/plain": [
       "Path('models/mimic3-9k_clas.pth')"
      ]
     },
     "execution_count": 26,
     "metadata": {},
     "output_type": "execute_result"
    }
   ],
   "source": [
    "learn.save(file_prefix+'_clas')"
   ]
  },
  {
   "cell_type": "markdown",
   "id": "5551b207-8041-432b-85cd-cb538e116f80",
   "metadata": {},
   "source": [
    "To load the model:"
   ]
  },
  {
   "cell_type": "code",
   "execution_count": 27,
   "id": "db025320-81e1-468f-9341-06bb8999cded",
   "metadata": {},
   "outputs": [
    {
     "data": {
      "text/html": [
       "\n",
       "<style>\n",
       "    /* Turns off some styling */\n",
       "    progress {\n",
       "        /* gets rid of default border in Firefox and Opera. */\n",
       "        border: none;\n",
       "        /* Needs to be in here for Safari polyfill so background images work as expected. */\n",
       "        background-size: auto;\n",
       "    }\n",
       "    .progress-bar-interrupted, .progress-bar-interrupted::-webkit-progress-bar {\n",
       "        background: #F44336;\n",
       "    }\n",
       "</style>\n"
      ],
      "text/plain": [
       "<IPython.core.display.HTML object>"
      ]
     },
     "metadata": {},
     "output_type": "display_data"
    },
    {
     "data": {
      "text/html": [],
      "text/plain": [
       "<IPython.core.display.HTML object>"
      ]
     },
     "metadata": {},
     "output_type": "display_data"
    },
    {
     "data": {
      "text/plain": [
       "(#2) [0.08996422588825226,0.30333333333333334]"
      ]
     },
     "execution_count": 27,
     "metadata": {},
     "output_type": "execute_result"
    }
   ],
   "source": [
    "learn = learn.load(file_prefix+'_clas')\n",
    "learn.validate()"
   ]
  },
  {
   "cell_type": "markdown",
   "id": "0e0da384-1fb9-400b-80ee-242580ee29cd",
   "metadata": {},
   "source": [
    "Or, validate manually (will be helpful to create an ensemble)"
   ]
  },
  {
   "cell_type": "code",
   "execution_count": 29,
   "id": "2d36ed61-f2d9-4f3e-b26c-c13aab09873c",
   "metadata": {},
   "outputs": [],
   "source": [
    "# learn.get_preds??"
   ]
  },
  {
   "cell_type": "code",
   "execution_count": 30,
   "id": "39d2834e-bd98-4301-a267-95f4961a1797",
   "metadata": {},
   "outputs": [],
   "source": [
    "# learn.loss_func.activation??"
   ]
  },
  {
   "cell_type": "code",
   "execution_count": 28,
   "id": "80cbf59a-1dd2-4974-886f-34154a8bc546",
   "metadata": {},
   "outputs": [
    {
     "data": {
      "text/html": [
       "\n",
       "<style>\n",
       "    /* Turns off some styling */\n",
       "    progress {\n",
       "        /* gets rid of default border in Firefox and Opera. */\n",
       "        border: none;\n",
       "        /* Needs to be in here for Safari polyfill so background images work as expected. */\n",
       "        background-size: auto;\n",
       "    }\n",
       "    .progress-bar-interrupted, .progress-bar-interrupted::-webkit-progress-bar {\n",
       "        background: #F44336;\n",
       "    }\n",
       "</style>\n"
      ],
      "text/plain": [
       "<IPython.core.display.HTML object>"
      ]
     },
     "metadata": {},
     "output_type": "display_data"
    },
    {
     "data": {
      "text/html": [],
      "text/plain": [
       "<IPython.core.display.HTML object>"
      ]
     },
     "metadata": {},
     "output_type": "display_data"
    },
    {
     "data": {
      "text/plain": [
       "(torch.Size([20, 1271]), torch.Size([20, 1271]))"
      ]
     },
     "execution_count": 28,
     "metadata": {},
     "output_type": "execute_result"
    }
   ],
   "source": [
    "preds, targs = learn.get_preds()\n",
    "preds.shape, targs.shape"
   ]
  },
  {
   "cell_type": "code",
   "execution_count": 29,
   "id": "de4e6f8c-58f9-4e8f-a45f-85c7440cb797",
   "metadata": {},
   "outputs": [
    {
     "data": {
      "text/plain": [
       "0.30333333333333334"
      ]
     },
     "execution_count": 29,
     "metadata": {},
     "output_type": "execute_result"
    }
   ],
   "source": [
    "PrecisionK(preds, targs)"
   ]
  },
  {
   "cell_type": "markdown",
   "id": "dc5ffc09-3bd5-44a2-8b97-0e9a0aa6f322",
   "metadata": {},
   "source": [
    "To plot the train/valid loss and the metric over the course of training:"
   ]
  },
  {
   "cell_type": "code",
   "execution_count": 42,
   "id": "729f6d5c-eeb3-4b9d-9717-4faa2c6bb046",
   "metadata": {},
   "outputs": [
    {
     "data": {
      "image/png": "[encoded data removed]",
      "text/plain": [
       "<Figure size 432x288 with 1 Axes>"
      ]
     },
     "metadata": {
      "needs_background": "light"
     },
     "output_type": "display_data"
    }
   ],
   "source": [
    "learn.recorder.plot_loss()"
   ]
  },
  {
   "cell_type": "code",
   "execution_count": 43,
   "id": "56e6a6be-2279-429d-a09a-5414e5b788a1",
   "metadata": {
    "tags": []
   },
   "outputs": [
    {
     "data": {
      "image/png": "[encoded data removed]",
      "text/plain": [
       "<Figure size 432x288 with 1 Axes>"
      ]
     },
     "metadata": {
      "needs_background": "light"
     },
     "output_type": "display_data"
    }
   ],
   "source": [
    "plt.plot(L(learn.recorder.values).itemgot(2));"
   ]
  },
  {
   "cell_type": "markdown",
   "id": "86c1a037-434f-4bba-910f-af526efff2c8",
   "metadata": {
    "jp-MarkdownHeadingCollapsed": true,
    "tags": []
   },
   "source": [
    "## Fine-Tuning the Backward Classifier"
   ]
  },
  {
   "cell_type": "code",
   "execution_count": 54,
   "id": "84f641f8-dd41-44c2-bb90-2a28fd176928",
   "metadata": {
    "tags": []
   },
   "outputs": [
    {
     "data": {
      "text/html": [
       "\n",
       "<style>\n",
       "    /* Turns off some styling */\n",
       "    progress {\n",
       "        /* gets rid of default border in Firefox and Opera. */\n",
       "        border: none;\n",
       "        /* Needs to be in here for Safari polyfill so background images work as expected. */\n",
       "        background-size: auto;\n",
       "    }\n",
       "    .progress-bar-interrupted, .progress-bar-interrupted::-webkit-progress-bar {\n",
       "        background: #F44336;\n",
       "    }\n",
       "</style>\n"
      ],
      "text/plain": [
       "<IPython.core.display.HTML object>"
      ]
     },
     "metadata": {},
     "output_type": "display_data"
    },
    {
     "data": {
      "text/html": [],
      "text/plain": [
       "<IPython.core.display.HTML object>"
      ]
     },
     "metadata": {},
     "output_type": "display_data"
    },
    {
     "data": {
      "text/plain": [
       "(5.754399353463669e-07,\n",
       " 1.5848931980144698e-06,\n",
       " 0.001737800776027143,\n",
       " 0.02290867641568184)"
      ]
     },
     "execution_count": 54,
     "metadata": {},
     "output_type": "execute_result"
    },
    {
     "data": {
      "image/png": "[encoded data removed]",
      "text/plain": [
       "<Figure size 432x288 with 1 Axes>"
      ]
     },
     "metadata": {
      "needs_background": "light"
     },
     "output_type": "display_data"
    }
   ],
   "source": [
    "lr_min_r, lr_steep, lr_valley, lr_slide = learn_r.lr_find(suggest_funcs=(minimum, steep, valley, slide))\n",
    "lr_min_r, lr_steep, lr_valley, lr_slide"
   ]
  },
  {
   "cell_type": "code",
   "execution_count": 45,
   "id": "e7f66a89-44f6-4a71-ab9f-534266fd2239",
   "metadata": {},
   "outputs": [
    {
     "data": {
      "text/html": [
       "\n",
       "<style>\n",
       "    /* Turns off some styling */\n",
       "    progress {\n",
       "        /* gets rid of default border in Firefox and Opera. */\n",
       "        border: none;\n",
       "        /* Needs to be in here for Safari polyfill so background images work as expected. */\n",
       "        background-size: auto;\n",
       "    }\n",
       "    .progress-bar-interrupted, .progress-bar-interrupted::-webkit-progress-bar {\n",
       "        background: #F44336;\n",
       "    }\n",
       "</style>\n"
      ],
      "text/plain": [
       "<IPython.core.display.HTML object>"
      ]
     },
     "metadata": {},
     "output_type": "display_data"
    },
    {
     "data": {
      "text/html": [
       "<table border=\"1\" class=\"dataframe\">\n",
       "  <thead>\n",
       "    <tr style=\"text-align: left;\">\n",
       "      <th>epoch</th>\n",
       "      <th>train_loss</th>\n",
       "      <th>valid_loss</th>\n",
       "      <th>PrecisionK</th>\n",
       "      <th>time</th>\n",
       "    </tr>\n",
       "  </thead>\n",
       "  <tbody>\n",
       "    <tr>\n",
       "      <td>0</td>\n",
       "      <td>0.197226</td>\n",
       "      <td>0.105101</td>\n",
       "      <td>0.196667</td>\n",
       "      <td>00:07</td>\n",
       "    </tr>\n",
       "    <tr>\n",
       "      <td>1</td>\n",
       "      <td>0.117636</td>\n",
       "      <td>0.080588</td>\n",
       "      <td>0.266667</td>\n",
       "      <td>00:06</td>\n",
       "    </tr>\n",
       "  </tbody>\n",
       "</table>"
      ],
      "text/plain": [
       "<IPython.core.display.HTML object>"
      ]
     },
     "metadata": {},
     "output_type": "display_data"
    },
    {
     "name": "stdout",
     "output_type": "stream",
     "text": [
      "Better model found at epoch 0 with PrecisionK value: 0.19666666666666666.\n",
      "Better model found at epoch 1 with PrecisionK value: 0.26666666666666666.\n"
     ]
    }
   ],
   "source": [
    "learn_r.fit_one_cycle(2, lr_max=lr_min, moms=(0.8,0.7,0.8), wd=0.1, \n",
    "cbs=SaveModelCallback(monitor='PrecisionK', fname=file_prefix+'_clas_r'))"
   ]
  },
  {
   "cell_type": "markdown",
   "id": "42bc8d7d-2810-4188-bddf-ccea17763e7b",
   "metadata": {},
   "source": [
    "This was the result after just three epochs. Now let's unfreeze the last two layers and do discriminative training:  \n",
    "\n",
    "Now we will pass -2 to `freeze_to` to freeze all except the last two parameter groups:"
   ]
  },
  {
   "cell_type": "code",
   "execution_count": 49,
   "id": "d27d32d5-346a-4fef-8a9a-f5527946b94f",
   "metadata": {},
   "outputs": [],
   "source": [
    "learn_r.freeze_to(-2)"
   ]
  },
  {
   "cell_type": "code",
   "execution_count": 50,
   "id": "161ad6ec-68aa-4963-8e13-2e0301a0844b",
   "metadata": {},
   "outputs": [
    {
     "data": {
      "text/html": [
       "\n",
       "<style>\n",
       "    /* Turns off some styling */\n",
       "    progress {\n",
       "        /* gets rid of default border in Firefox and Opera. */\n",
       "        border: none;\n",
       "        /* Needs to be in here for Safari polyfill so background images work as expected. */\n",
       "        background-size: auto;\n",
       "    }\n",
       "    .progress-bar-interrupted, .progress-bar-interrupted::-webkit-progress-bar {\n",
       "        background: #F44336;\n",
       "    }\n",
       "</style>\n"
      ],
      "text/plain": [
       "<IPython.core.display.HTML object>"
      ]
     },
     "metadata": {},
     "output_type": "display_data"
    },
    {
     "data": {
      "text/html": [
       "<table border=\"1\" class=\"dataframe\">\n",
       "  <thead>\n",
       "    <tr style=\"text-align: left;\">\n",
       "      <th>epoch</th>\n",
       "      <th>train_loss</th>\n",
       "      <th>valid_loss</th>\n",
       "      <th>PrecisionK</th>\n",
       "      <th>time</th>\n",
       "    </tr>\n",
       "  </thead>\n",
       "  <tbody>\n",
       "    <tr>\n",
       "      <td>0</td>\n",
       "      <td>0.045407</td>\n",
       "      <td>0.077061</td>\n",
       "      <td>0.283333</td>\n",
       "      <td>00:09</td>\n",
       "    </tr>\n",
       "    <tr>\n",
       "      <td>1</td>\n",
       "      <td>0.044204</td>\n",
       "      <td>0.074392</td>\n",
       "      <td>0.293333</td>\n",
       "      <td>00:09</td>\n",
       "    </tr>\n",
       "    <tr>\n",
       "      <td>2</td>\n",
       "      <td>0.043082</td>\n",
       "      <td>0.074283</td>\n",
       "      <td>0.286667</td>\n",
       "      <td>00:09</td>\n",
       "    </tr>\n",
       "    <tr>\n",
       "      <td>3</td>\n",
       "      <td>0.042143</td>\n",
       "      <td>0.073841</td>\n",
       "      <td>0.293333</td>\n",
       "      <td>00:09</td>\n",
       "    </tr>\n",
       "    <tr>\n",
       "      <td>4</td>\n",
       "      <td>0.041429</td>\n",
       "      <td>0.073767</td>\n",
       "      <td>0.293333</td>\n",
       "      <td>00:09</td>\n",
       "    </tr>\n",
       "  </tbody>\n",
       "</table>"
      ],
      "text/plain": [
       "<IPython.core.display.HTML object>"
      ]
     },
     "metadata": {},
     "output_type": "display_data"
    },
    {
     "name": "stdout",
     "output_type": "stream",
     "text": [
      "Better model found at epoch 0 with PrecisionK value: 0.2833333333333333.\n",
      "Better model found at epoch 1 with PrecisionK value: 0.29333333333333333.\n"
     ]
    }
   ],
   "source": [
    "learn_r.fit_one_cycle(5, lr_max=1e-3, moms=(0.8,0.7,0.8), wd=0.1, \n",
    "                    cbs=SaveModelCallback(monitor='PrecisionK', fname=file_prefix+'_clas_r'))"
   ]
  },
  {
   "cell_type": "markdown",
   "id": "1a48a44f-ef88-4160-af8b-2c3b889c635a",
   "metadata": {},
   "source": [
    "Now we will unfreeze a bit more, recompute learning rate and continue training:"
   ]
  },
  {
   "cell_type": "code",
   "execution_count": 51,
   "id": "b7ecd47b-cdc5-419c-af58-b14f5ef2c196",
   "metadata": {},
   "outputs": [],
   "source": [
    "learn_r.freeze_to(-3)"
   ]
  },
  {
   "cell_type": "code",
   "execution_count": 52,
   "id": "032863ac-48b5-451f-99dd-41a06a51002f",
   "metadata": {},
   "outputs": [
    {
     "data": {
      "text/html": [
       "\n",
       "<style>\n",
       "    /* Turns off some styling */\n",
       "    progress {\n",
       "        /* gets rid of default border in Firefox and Opera. */\n",
       "        border: none;\n",
       "        /* Needs to be in here for Safari polyfill so background images work as expected. */\n",
       "        background-size: auto;\n",
       "    }\n",
       "    .progress-bar-interrupted, .progress-bar-interrupted::-webkit-progress-bar {\n",
       "        background: #F44336;\n",
       "    }\n",
       "</style>\n"
      ],
      "text/plain": [
       "<IPython.core.display.HTML object>"
      ]
     },
     "metadata": {},
     "output_type": "display_data"
    },
    {
     "data": {
      "text/html": [
       "<table border=\"1\" class=\"dataframe\">\n",
       "  <thead>\n",
       "    <tr style=\"text-align: left;\">\n",
       "      <th>epoch</th>\n",
       "      <th>train_loss</th>\n",
       "      <th>valid_loss</th>\n",
       "      <th>PrecisionK</th>\n",
       "      <th>time</th>\n",
       "    </tr>\n",
       "  </thead>\n",
       "  <tbody>\n",
       "    <tr>\n",
       "      <td>0</td>\n",
       "      <td>0.041801</td>\n",
       "      <td>0.073660</td>\n",
       "      <td>0.280000</td>\n",
       "      <td>00:13</td>\n",
       "    </tr>\n",
       "    <tr>\n",
       "      <td>1</td>\n",
       "      <td>0.041004</td>\n",
       "      <td>0.073344</td>\n",
       "      <td>0.290000</td>\n",
       "      <td>00:12</td>\n",
       "    </tr>\n",
       "    <tr>\n",
       "      <td>2</td>\n",
       "      <td>0.039722</td>\n",
       "      <td>0.075154</td>\n",
       "      <td>0.283333</td>\n",
       "      <td>00:12</td>\n",
       "    </tr>\n",
       "    <tr>\n",
       "      <td>3</td>\n",
       "      <td>0.038737</td>\n",
       "      <td>0.075249</td>\n",
       "      <td>0.280000</td>\n",
       "      <td>00:12</td>\n",
       "    </tr>\n",
       "  </tbody>\n",
       "</table>"
      ],
      "text/plain": [
       "<IPython.core.display.HTML object>"
      ]
     },
     "metadata": {},
     "output_type": "display_data"
    },
    {
     "name": "stdout",
     "output_type": "stream",
     "text": [
      "Better model found at epoch 0 with PrecisionK value: 0.27999999999999997.\n",
      "Better model found at epoch 1 with PrecisionK value: 0.29.\n"
     ]
    }
   ],
   "source": [
    "learn_r.fit_one_cycle(4, lr_max=1e-3, moms=(0.8,0.7,0.8), wd=0.2,\n",
    "                   cbs=SaveModelCallback(monitor='PrecisionK', fname=file_prefix+'_clas_r'))"
   ]
  },
  {
   "cell_type": "markdown",
   "id": "9c5a0bb9-507a-438e-89bd-b85a5d08a4f6",
   "metadata": {},
   "source": [
    "Finally, we will unfreeze the whole model and perform training:"
   ]
  },
  {
   "cell_type": "code",
   "execution_count": 53,
   "id": "5c4c53fa-31f9-43ea-805b-433113767fa5",
   "metadata": {},
   "outputs": [],
   "source": [
    "learn_r.unfreeze()"
   ]
  },
  {
   "cell_type": "code",
   "execution_count": 55,
   "id": "03e25683-409a-412b-a6a7-661bb36cc663",
   "metadata": {},
   "outputs": [
    {
     "data": {
      "text/html": [
       "\n",
       "<style>\n",
       "    /* Turns off some styling */\n",
       "    progress {\n",
       "        /* gets rid of default border in Firefox and Opera. */\n",
       "        border: none;\n",
       "        /* Needs to be in here for Safari polyfill so background images work as expected. */\n",
       "        background-size: auto;\n",
       "    }\n",
       "    .progress-bar-interrupted, .progress-bar-interrupted::-webkit-progress-bar {\n",
       "        background: #F44336;\n",
       "    }\n",
       "</style>\n"
      ],
      "text/plain": [
       "<IPython.core.display.HTML object>"
      ]
     },
     "metadata": {},
     "output_type": "display_data"
    },
    {
     "data": {
      "text/html": [
       "<table border=\"1\" class=\"dataframe\">\n",
       "  <thead>\n",
       "    <tr style=\"text-align: left;\">\n",
       "      <th>epoch</th>\n",
       "      <th>train_loss</th>\n",
       "      <th>valid_loss</th>\n",
       "      <th>PrecisionK</th>\n",
       "      <th>time</th>\n",
       "    </tr>\n",
       "  </thead>\n",
       "  <tbody>\n",
       "    <tr>\n",
       "      <td>0</td>\n",
       "      <td>0.038804</td>\n",
       "      <td>0.073343</td>\n",
       "      <td>0.290000</td>\n",
       "      <td>00:16</td>\n",
       "    </tr>\n",
       "    <tr>\n",
       "      <td>1</td>\n",
       "      <td>0.038712</td>\n",
       "      <td>0.073343</td>\n",
       "      <td>0.290000</td>\n",
       "      <td>00:16</td>\n",
       "    </tr>\n",
       "    <tr>\n",
       "      <td>2</td>\n",
       "      <td>0.038781</td>\n",
       "      <td>0.073344</td>\n",
       "      <td>0.290000</td>\n",
       "      <td>00:16</td>\n",
       "    </tr>\n",
       "    <tr>\n",
       "      <td>3</td>\n",
       "      <td>0.038866</td>\n",
       "      <td>0.073346</td>\n",
       "      <td>0.290000</td>\n",
       "      <td>00:16</td>\n",
       "    </tr>\n",
       "    <tr>\n",
       "      <td>4</td>\n",
       "      <td>0.038851</td>\n",
       "      <td>0.073347</td>\n",
       "      <td>0.290000</td>\n",
       "      <td>00:16</td>\n",
       "    </tr>\n",
       "    <tr>\n",
       "      <td>5</td>\n",
       "      <td>0.038675</td>\n",
       "      <td>0.073350</td>\n",
       "      <td>0.290000</td>\n",
       "      <td>00:16</td>\n",
       "    </tr>\n",
       "    <tr>\n",
       "      <td>6</td>\n",
       "      <td>0.038704</td>\n",
       "      <td>0.073349</td>\n",
       "      <td>0.290000</td>\n",
       "      <td>00:16</td>\n",
       "    </tr>\n",
       "    <tr>\n",
       "      <td>7</td>\n",
       "      <td>0.038767</td>\n",
       "      <td>0.073351</td>\n",
       "      <td>0.290000</td>\n",
       "      <td>00:16</td>\n",
       "    </tr>\n",
       "    <tr>\n",
       "      <td>8</td>\n",
       "      <td>0.038854</td>\n",
       "      <td>0.073351</td>\n",
       "      <td>0.290000</td>\n",
       "      <td>00:16</td>\n",
       "    </tr>\n",
       "    <tr>\n",
       "      <td>9</td>\n",
       "      <td>0.038731</td>\n",
       "      <td>0.073353</td>\n",
       "      <td>0.290000</td>\n",
       "      <td>00:16</td>\n",
       "    </tr>\n",
       "    <tr>\n",
       "      <td>10</td>\n",
       "      <td>0.038706</td>\n",
       "      <td>0.073355</td>\n",
       "      <td>0.290000</td>\n",
       "      <td>00:16</td>\n",
       "    </tr>\n",
       "    <tr>\n",
       "      <td>11</td>\n",
       "      <td>0.038727</td>\n",
       "      <td>0.073355</td>\n",
       "      <td>0.290000</td>\n",
       "      <td>00:16</td>\n",
       "    </tr>\n",
       "    <tr>\n",
       "      <td>12</td>\n",
       "      <td>0.038626</td>\n",
       "      <td>0.073355</td>\n",
       "      <td>0.290000</td>\n",
       "      <td>00:16</td>\n",
       "    </tr>\n",
       "    <tr>\n",
       "      <td>13</td>\n",
       "      <td>0.038667</td>\n",
       "      <td>0.073356</td>\n",
       "      <td>0.290000</td>\n",
       "      <td>00:16</td>\n",
       "    </tr>\n",
       "    <tr>\n",
       "      <td>14</td>\n",
       "      <td>0.038653</td>\n",
       "      <td>0.073357</td>\n",
       "      <td>0.290000</td>\n",
       "      <td>00:16</td>\n",
       "    </tr>\n",
       "    <tr>\n",
       "      <td>15</td>\n",
       "      <td>0.038678</td>\n",
       "      <td>0.073358</td>\n",
       "      <td>0.290000</td>\n",
       "      <td>00:16</td>\n",
       "    </tr>\n",
       "    <tr>\n",
       "      <td>16</td>\n",
       "      <td>0.038653</td>\n",
       "      <td>0.073356</td>\n",
       "      <td>0.290000</td>\n",
       "      <td>00:16</td>\n",
       "    </tr>\n",
       "    <tr>\n",
       "      <td>17</td>\n",
       "      <td>0.038657</td>\n",
       "      <td>0.073356</td>\n",
       "      <td>0.290000</td>\n",
       "      <td>00:16</td>\n",
       "    </tr>\n",
       "    <tr>\n",
       "      <td>18</td>\n",
       "      <td>0.038642</td>\n",
       "      <td>0.073357</td>\n",
       "      <td>0.290000</td>\n",
       "      <td>00:16</td>\n",
       "    </tr>\n",
       "    <tr>\n",
       "      <td>19</td>\n",
       "      <td>0.038664</td>\n",
       "      <td>0.073357</td>\n",
       "      <td>0.290000</td>\n",
       "      <td>00:16</td>\n",
       "    </tr>\n",
       "  </tbody>\n",
       "</table>"
      ],
      "text/plain": [
       "<IPython.core.display.HTML object>"
      ]
     },
     "metadata": {},
     "output_type": "display_data"
    },
    {
     "name": "stdout",
     "output_type": "stream",
     "text": [
      "Better model found at epoch 0 with PrecisionK value: 0.29.\n"
     ]
    }
   ],
   "source": [
    "learn_r.fit_one_cycle(20, lr_max=5.754399353463669e-07, moms=(0.8,0.7,0.8), wd=0.4,\n",
    "                   cbs=SaveModelCallback(monitor='PrecisionK', fname=file_prefix+'_clas_r'))"
   ]
  },
  {
   "cell_type": "markdown",
   "id": "01756924-08a8-45c3-a436-afce927f2a4d",
   "metadata": {},
   "source": [
    "To save the model:"
   ]
  },
  {
   "cell_type": "code",
   "execution_count": null,
   "id": "fe6d72a3-9d8f-4470-a2cd-9b29174e4fac",
   "metadata": {},
   "outputs": [],
   "source": [
    "learn_r.save(file_prefix+'_clas_r')"
   ]
  },
  {
   "cell_type": "markdown",
   "id": "71ac98c7-19d9-4e8c-8da2-9540c2dc72e0",
   "metadata": {},
   "source": [
    "To load it back:"
   ]
  },
  {
   "cell_type": "code",
   "execution_count": null,
   "id": "bb581937-c62e-4152-bd46-a17290c1e708",
   "metadata": {},
   "outputs": [],
   "source": [
    "learn_r = learn.load(file_prefix+'_clas_r')"
   ]
  },
  {
   "cell_type": "markdown",
   "id": "70dc19a3-6944-4b4a-ba00-59e23c76bc63",
   "metadata": {},
   "source": [
    "To validate:"
   ]
  },
  {
   "cell_type": "code",
   "execution_count": 19,
   "id": "07761fb8-9e23-4bf6-b543-ffcb8720ae42",
   "metadata": {},
   "outputs": [
    {
     "data": {
      "text/html": [
       "\n",
       "<style>\n",
       "    /* Turns off some styling */\n",
       "    progress {\n",
       "        /* gets rid of default border in Firefox and Opera. */\n",
       "        border: none;\n",
       "        /* Needs to be in here for Safari polyfill so background images work as expected. */\n",
       "        background-size: auto;\n",
       "    }\n",
       "    .progress-bar-interrupted, .progress-bar-interrupted::-webkit-progress-bar {\n",
       "        background: #F44336;\n",
       "    }\n",
       "</style>\n"
      ],
      "text/plain": [
       "<IPython.core.display.HTML object>"
      ]
     },
     "metadata": {},
     "output_type": "display_data"
    },
    {
     "data": {
      "text/html": [],
      "text/plain": [
       "<IPython.core.display.HTML object>"
      ]
     },
     "metadata": {},
     "output_type": "display_data"
    },
    {
     "data": {
      "text/plain": [
       "(#2) [0.09242013096809387,0.3066666666666667]"
      ]
     },
     "execution_count": 19,
     "metadata": {},
     "output_type": "execute_result"
    }
   ],
   "source": [
    "learn_r.validate()"
   ]
  },
  {
   "cell_type": "markdown",
   "id": "14ba9454-ec15-4368-add1-7fa0ee836737",
   "metadata": {},
   "source": [
    "Or, validate manually:"
   ]
  },
  {
   "cell_type": "code",
   "execution_count": 22,
   "id": "992dfd0d-d460-4e54-a797-2bdce6c4be7f",
   "metadata": {},
   "outputs": [
    {
     "data": {
      "text/html": [
       "\n",
       "<style>\n",
       "    /* Turns off some styling */\n",
       "    progress {\n",
       "        /* gets rid of default border in Firefox and Opera. */\n",
       "        border: none;\n",
       "        /* Needs to be in here for Safari polyfill so background images work as expected. */\n",
       "        background-size: auto;\n",
       "    }\n",
       "    .progress-bar-interrupted, .progress-bar-interrupted::-webkit-progress-bar {\n",
       "        background: #F44336;\n",
       "    }\n",
       "</style>\n"
      ],
      "text/plain": [
       "<IPython.core.display.HTML object>"
      ]
     },
     "metadata": {},
     "output_type": "display_data"
    },
    {
     "data": {
      "text/html": [],
      "text/plain": [
       "<IPython.core.display.HTML object>"
      ]
     },
     "metadata": {},
     "output_type": "display_data"
    },
    {
     "data": {
      "text/plain": [
       "(torch.Size([20, 1271]), torch.Size([20, 1271]))"
      ]
     },
     "execution_count": 22,
     "metadata": {},
     "output_type": "execute_result"
    }
   ],
   "source": [
    "preds_r, targs = learn_r.get_preds()\n",
    "preds_r.shape, targs.shape"
   ]
  },
  {
   "cell_type": "code",
   "execution_count": 23,
   "id": "8a83567d-6744-455b-b1b2-b16a72246f4d",
   "metadata": {},
   "outputs": [
    {
     "data": {
      "text/plain": [
       "0.3066666666666667"
      ]
     },
     "execution_count": 23,
     "metadata": {},
     "output_type": "execute_result"
    }
   ],
   "source": [
    "PrecisionK(preds_r, targs)"
   ]
  },
  {
   "cell_type": "markdown",
   "id": "aa597a68-4d34-40a9-aac2-6fb4c38d50be",
   "metadata": {
    "jp-MarkdownHeadingCollapsed": true,
    "tags": []
   },
   "source": [
    "## Ensemble (Fwd + Bwd):"
   ]
  },
  {
   "cell_type": "code",
   "execution_count": 30,
   "id": "602d7fdf-d661-41ce-9a4a-2fc25b5c0afb",
   "metadata": {},
   "outputs": [
    {
     "data": {
      "text/plain": [
       "(0.30333333333333334, 0.3066666666666667)"
      ]
     },
     "execution_count": 30,
     "metadata": {},
     "output_type": "execute_result"
    }
   ],
   "source": [
    "PrecisionK(preds, targs), PrecisionK(preds_r, targs)"
   ]
  },
  {
   "cell_type": "code",
   "execution_count": 35,
   "id": "4835ea60-bc5b-4874-ba1e-963841835c11",
   "metadata": {},
   "outputs": [
    {
     "data": {
      "text/plain": [
       "0.31333333333333335"
      ]
     },
     "execution_count": 35,
     "metadata": {},
     "output_type": "execute_result"
    }
   ],
   "source": [
    "PrecisionK((preds**2 + preds_r**2)/2.0, targs)"
   ]
  },
  {
   "cell_type": "code",
   "execution_count": 40,
   "id": "3d1815b7-c2cf-4f5e-bf78-9efe16fbfd43",
   "metadata": {},
   "outputs": [
    {
     "data": {
      "text/plain": [
       "0.31333333333333335"
      ]
     },
     "execution_count": 40,
     "metadata": {},
     "output_type": "execute_result"
    }
   ],
   "source": [
    "PrecisionK(torch.max(preds, preds_r), targs)"
   ]
  },
  {
   "cell_type": "code",
   "execution_count": 37,
   "id": "88ab2b1b-2ff2-4afc-bb4f-768b3b5c6792",
   "metadata": {},
   "outputs": [
    {
     "data": {
      "text/plain": [
       "(tensor([-0.1385, -0.7201,  1.4714]), tensor([-0.5565,  1.0205, -0.2410]))"
      ]
     },
     "execution_count": 37,
     "metadata": {},
     "output_type": "execute_result"
    }
   ],
   "source": [
    "t1, t2 = torch.randn(3), torch.randn(3)\n",
    "t1, t2"
   ]
  },
  {
   "cell_type": "code",
   "execution_count": 38,
   "id": "80bc6dda-3123-4bd7-af83-049f6f7e5a9e",
   "metadata": {},
   "outputs": [
    {
     "data": {
      "text/plain": [
       "tensor([-0.1385,  1.0205,  1.4714])"
      ]
     },
     "execution_count": 38,
     "metadata": {},
     "output_type": "execute_result"
    }
   ],
   "source": [
    "torch.max(t1, t2)"
   ]
  },
  {
   "cell_type": "code",
   "execution_count": 68,
   "id": "7781e31d-fa66-46bb-812c-53bc3a36052f",
   "metadata": {},
   "outputs": [
    {
     "data": {
      "text/html": [
       "\n",
       "<style>\n",
       "    /* Turns off some styling */\n",
       "    progress {\n",
       "        /* gets rid of default border in Firefox and Opera. */\n",
       "        border: none;\n",
       "        /* Needs to be in here for Safari polyfill so background images work as expected. */\n",
       "        background-size: auto;\n",
       "    }\n",
       "    .progress-bar-interrupted, .progress-bar-interrupted::-webkit-progress-bar {\n",
       "        background: #F44336;\n",
       "    }\n",
       "</style>\n"
      ],
      "text/plain": [
       "<IPython.core.display.HTML object>"
      ]
     },
     "metadata": {},
     "output_type": "display_data"
    },
    {
     "data": {
      "text/html": [],
      "text/plain": [
       "<IPython.core.display.HTML object>"
      ]
     },
     "metadata": {},
     "output_type": "display_data"
    }
   ],
   "source": [
    "preds, targs = learn.get_preds(act=torch.tanh)"
   ]
  },
  {
   "cell_type": "code",
   "execution_count": 69,
   "id": "af95ffd3-49ee-4c75-a990-3c9cfde0b2df",
   "metadata": {},
   "outputs": [
    {
     "data": {
      "text/plain": [
       "0.30333333333333334"
      ]
     },
     "execution_count": 69,
     "metadata": {},
     "output_type": "execute_result"
    }
   ],
   "source": [
    "PrecisionK(preds, targs)"
   ]
  },
  {
   "cell_type": "code",
   "execution_count": 56,
   "id": "96543fd9-db30-48d9-8c03-0304bcb8d295",
   "metadata": {},
   "outputs": [
    {
     "ename": "TypeError",
     "evalue": "linspace() missing 1 required positional arguments: \"steps\"",
     "output_type": "error",
     "traceback": [
      "\u001b[0;31m---------------------------------------------------------------------------\u001b[0m",
      "\u001b[0;31mTypeError\u001b[0m                                 Traceback (most recent call last)",
      "Input \u001b[0;32mIn [56]\u001b[0m, in \u001b[0;36m<cell line: 1>\u001b[0;34m()\u001b[0m\n\u001b[0;32m----> 1\u001b[0m \u001b[43mplot_function\u001b[49m\u001b[43m(\u001b[49m\u001b[43mtorch\u001b[49m\u001b[38;5;241;43m.\u001b[39;49m\u001b[43msigmoid\u001b[49m\u001b[43m)\u001b[49m\n",
      "File \u001b[0;32m~/miniconda3/lib/python3.9/site-packages/fastbook/__init__.py:74\u001b[0m, in \u001b[0;36mplot_function\u001b[0;34m(f, tx, ty, title, min, max, figsize)\u001b[0m\n\u001b[1;32m     73\u001b[0m \u001b[38;5;28;01mdef\u001b[39;00m \u001b[38;5;21mplot_function\u001b[39m(f, tx\u001b[38;5;241m=\u001b[39m\u001b[38;5;28;01mNone\u001b[39;00m, ty\u001b[38;5;241m=\u001b[39m\u001b[38;5;28;01mNone\u001b[39;00m, title\u001b[38;5;241m=\u001b[39m\u001b[38;5;28;01mNone\u001b[39;00m, \u001b[38;5;28mmin\u001b[39m\u001b[38;5;241m=\u001b[39m\u001b[38;5;241m-\u001b[39m\u001b[38;5;241m2\u001b[39m, \u001b[38;5;28mmax\u001b[39m\u001b[38;5;241m=\u001b[39m\u001b[38;5;241m2\u001b[39m, figsize\u001b[38;5;241m=\u001b[39m(\u001b[38;5;241m6\u001b[39m,\u001b[38;5;241m4\u001b[39m)):\n\u001b[0;32m---> 74\u001b[0m     x \u001b[38;5;241m=\u001b[39m \u001b[43mtorch\u001b[49m\u001b[38;5;241;43m.\u001b[39;49m\u001b[43mlinspace\u001b[49m\u001b[43m(\u001b[49m\u001b[38;5;28;43mmin\u001b[39;49m\u001b[43m,\u001b[49m\u001b[38;5;28;43mmax\u001b[39;49m\u001b[43m)\u001b[49m\n\u001b[1;32m     75\u001b[0m     fig,ax \u001b[38;5;241m=\u001b[39m plt\u001b[38;5;241m.\u001b[39msubplots(figsize\u001b[38;5;241m=\u001b[39mfigsize)\n\u001b[1;32m     76\u001b[0m     ax\u001b[38;5;241m.\u001b[39mplot(x,f(x))\n",
      "\u001b[0;31mTypeError\u001b[0m: linspace() missing 1 required positional arguments: \"steps\""
     ]
    }
   ],
   "source": [
    "plot_function(torch.sigmoid)"
   ]
  },
  {
   "cell_type": "code",
   "execution_count": 59,
   "id": "94ddb3ed-1ef6-4103-ba93-931564267c03",
   "metadata": {},
   "outputs": [],
   "source": [
    "def plot_function(f, tx=None, ty=None, title=None, min=-2, max=2, figsize=(6,4)):\n",
    "    x = torch.linspace(min,max, steps=100)\n",
    "    fig,ax = plt.subplots(figsize=figsize)\n",
    "    ax.plot(x,f(x))\n",
    "    if tx is not None: ax.set_xlabel(tx)\n",
    "    if ty is not None: ax.set_ylabel(ty)\n",
    "    if title is not None: ax.set_title(title)"
   ]
  },
  {
   "cell_type": "code",
   "execution_count": 65,
   "id": "c4bbe33c-e4a1-4406-abe5-aac0f3643ac0",
   "metadata": {},
   "outputs": [
    {
     "data": {
      "image/png": "[encoded data removed]",
      "text/plain": [
       "<Figure size 432x288 with 1 Axes>"
      ]
     },
     "metadata": {
      "needs_background": "light"
     },
     "output_type": "display_data"
    }
   ],
   "source": [
    "plot_function(torch.tanh, min=-5, max=5)"
   ]
  }
 ],
 "metadata": {
  "kernelspec": {
   "display_name": "Python 3 (ipykernel)",
   "language": "python",
   "name": "python3"
  },
  "language_info": {
   "codemirror_mode": {
    "name": "ipython",
    "version": 3
   },
   "file_extension": ".py",
   "mimetype": "text/x-python",
   "name": "python",
   "nbconvert_exporter": "python",
   "pygments_lexer": "ipython3",
   "version": "3.9.12"
  },
  "toc-autonumbering": false,
  "toc-showcode": false,
  "toc-showtags": false
 },
 "nbformat": 4,
 "nbformat_minor": 5
}
