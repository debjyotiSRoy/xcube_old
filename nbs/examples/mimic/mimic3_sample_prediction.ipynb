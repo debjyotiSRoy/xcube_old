{
 "cells": [
  {
   "cell_type": "code",
   "execution_count": 1,
   "id": "f8f1f402-1c67-4c7f-b8f5-32407f16bc1c",
   "metadata": {
    "jupyter": {
     "source_hidden": true
    },
    "tags": []
   },
   "outputs": [],
   "source": [
    "#hide\n",
    "#skip\n",
    "! [ -e /content ] && pip install -Uqq fastai # upgrade fastai on colab"
   ]
  },
  {
   "cell_type": "code",
   "execution_count": null,
   "id": "236665af-46ad-4f72-891a-712bed475781",
   "metadata": {
    "jupyter": {
     "source_hidden": true
    },
    "tags": []
   },
   "outputs": [],
   "source": [
    "# import torch; torch.cuda.device_count()\n",
    "# import torch; torch.cuda.get_device_properties(0)"
   ]
  },
  {
   "cell_type": "code",
   "execution_count": 1,
   "id": "5083a5d0-3938-4d3d-84cf-5a020a01d620",
   "metadata": {},
   "outputs": [],
   "source": [
    "%load_ext autoreload\n",
    "%autoreload 1"
   ]
  },
  {
   "cell_type": "markdown",
   "id": "a80a3ed9-0893-4587-a638-00af61b00788",
   "metadata": {
    "tags": []
   },
   "source": [
    "# MIMIC III (sample) Code Prediction"
   ]
  },
  {
   "cell_type": "code",
   "execution_count": 2,
   "id": "6f4f7bc5-fafa-46eb-b0c3-f4322a436df0",
   "metadata": {},
   "outputs": [],
   "source": [
    "import fastbook\n",
    "fastbook.setup_book()\n",
    "\n",
    "from fastbook import *"
   ]
  },
  {
   "cell_type": "markdown",
   "id": "38965c75-1095-44df-848b-510ac96154c3",
   "metadata": {},
   "source": [
    "Application specific imports from fastai:"
   ]
  },
  {
   "cell_type": "code",
   "execution_count": 3,
   "id": "6fbea169-1376-4a6c-bb3c-0e1d9078cc02",
   "metadata": {},
   "outputs": [],
   "source": [
    "from fastai.text.all import *\n",
    "from fastai.distributed import *"
   ]
  },
  {
   "cell_type": "markdown",
   "id": "8780502f-7f8e-43a7-89b8-5528015e3fdb",
   "metadata": {},
   "source": [
    "xcube specific imports:"
   ]
  },
  {
   "cell_type": "code",
   "execution_count": 4,
   "id": "d69b20ce-50d2-408c-8042-0df93d75f1ee",
   "metadata": {},
   "outputs": [],
   "source": [
    "from xcube.text.learner import text_classifier_learner\n",
    "from xcube.metrics import PrecisionK"
   ]
  },
  {
   "cell_type": "markdown",
   "id": "b623c209-9f8f-46f8-9032-5cef4ba31ea3",
   "metadata": {
    "jp-MarkdownHeadingCollapsed": true,
    "tags": []
   },
   "source": [
    "#### Setting the base path of the repository"
   ]
  },
  {
   "cell_type": "code",
   "execution_count": 5,
   "id": "4e73722a-3a37-48ae-92e4-28a0c8223243",
   "metadata": {},
   "outputs": [
    {
     "data": {
      "text/plain": [
       "(Path('/home/deb/xcube/nbs/examples/mimic'),\n",
       " Path('/home/deb/xcube/nbs/examples/mimic/data'),\n",
       " Path('/home/deb/xcube/nbs/examples/mimic/models'))"
      ]
     },
     "execution_count": 5,
     "metadata": {},
     "output_type": "execute_result"
    }
   ],
   "source": [
    "path = Path.cwd()\n",
    "path_data = path/'data'\n",
    "path_model = path/'models'\n",
    "\n",
    "path, path_data, path_model"
   ]
  },
  {
   "cell_type": "markdown",
   "id": "7fdcb305-ecf1-4b03-9aee-58c016f46f9f",
   "metadata": {
    "tags": []
   },
   "source": [
    "## `DataLoaders` for the Multi-Label Classifier (frozen)"
   ]
  },
  {
   "cell_type": "code",
   "execution_count": 7,
   "id": "2bfb6cec-1a41-448a-89aa-04ef5fb5bf15",
   "metadata": {
    "tags": []
   },
   "outputs": [
    {
     "name": "stdout",
     "output_type": "stream",
     "text": [
      "-rw-r--r-- 1 deb deb 472M Feb  3 19:08 /home/deb/xcube/nbs/examples/mimic/data/caml_notes_labelled.csv\n",
      "-rw-r--r-- 1 deb deb  48M Feb  4 16:28 /home/deb/xcube/nbs/examples/mimic/data/caml_notes_labelled_sample_10percent.csv\n"
     ]
    }
   ],
   "source": [
    "!ls -lh {path_data/\"*caml*\"}"
   ]
  },
  {
   "cell_type": "code",
   "execution_count": 8,
   "id": "a3cde030-ff4b-4325-bb45-ac501f7d678f",
   "metadata": {
    "tags": []
   },
   "outputs": [
    {
     "name": "stdout",
     "output_type": "stream",
     "text": [
      "-rw-r--r-- 1 deb deb 1.2G Feb  5 20:41 /home/deb/xcube/nbs/examples/mimic/models/caml_dls_lm_recent.pkl\n",
      "-rw-r--r-- 1 deb deb 909K Feb  5 20:41 /home/deb/xcube/nbs/examples/mimic/models/caml_dls_lm_vocab_recent.pkl\n",
      "-rw-r--r-- 1 deb deb 157M Feb  6 02:29 /home/deb/xcube/nbs/examples/mimic/models/caml_lm_finetuned_recent.pth\n",
      "-rw-r--r-- 1 deb deb 157M Feb  6 00:43 /home/deb/xcube/nbs/examples/mimic/models/caml_lm_recent.pth\n"
     ]
    }
   ],
   "source": [
    "!ls -lh {path_model/\"caml*recent*\"}"
   ]
  },
  {
   "cell_type": "code",
   "execution_count": 9,
   "id": "e7e09020-172e-4d9f-9b5a-cbd4aad14d21",
   "metadata": {},
   "outputs": [],
   "source": [
    "data_file = path_data/'caml_notes_labelled_sample_10percent.csv'\n",
    "lm_vocab_file = path_model/'caml_dls_lm_vocab.pkl'"
   ]
  },
  {
   "cell_type": "code",
   "execution_count": 10,
   "id": "6b29b74b-f4ba-4382-8f42-b1af28e3a34d",
   "metadata": {},
   "outputs": [],
   "source": [
    "df = pd.read_csv(data_file, dtype={'text': str, 'labels': str})\n",
    "df[['text', 'labels']] = df[['text', 'labels']].astype('str')"
   ]
  },
  {
   "cell_type": "code",
   "execution_count": 11,
   "id": "a135e742-48a5-4e9f-b44e-a4097e2d4688",
   "metadata": {},
   "outputs": [
    {
     "data": {
      "text/plain": [
       "5273"
      ]
     },
     "execution_count": 11,
     "metadata": {},
     "output_type": "execute_result"
    }
   ],
   "source": [
    "len(df)"
   ]
  },
  {
   "cell_type": "code",
   "execution_count": 16,
   "id": "709bb9cb-71c6-41a8-8d0c-7e9662303dea",
   "metadata": {},
   "outputs": [],
   "source": [
    "# df.head(3)"
   ]
  },
  {
   "cell_type": "markdown",
   "id": "245499f0-d485-43da-a393-084af267de29",
   "metadata": {},
   "source": [
    "---"
   ]
  },
  {
   "cell_type": "code",
   "execution_count": 18,
   "id": "f88211c4-f45a-4d2f-920c-9305f3033526",
   "metadata": {
    "jupyter": {
     "source_hidden": true
    },
    "tags": []
   },
   "outputs": [],
   "source": [
    "df['length'] = df.apply(lambda row: len(row.text), axis=1)"
   ]
  },
  {
   "cell_type": "code",
   "execution_count": null,
   "id": "5b04662d-d159-4aa8-aa81-2ec27ccd1db0",
   "metadata": {
    "jupyter": {
     "source_hidden": true
    },
    "tags": []
   },
   "outputs": [],
   "source": [
    "df"
   ]
  },
  {
   "cell_type": "code",
   "execution_count": null,
   "id": "6959ee7c-c75d-44c1-a083-90f056ec0338",
   "metadata": {
    "jupyter": {
     "source_hidden": true
    }
   },
   "outputs": [],
   "source": [
    "np.percentile(df.length, 50)"
   ]
  },
  {
   "cell_type": "code",
   "execution_count": null,
   "id": "c05f8f2a-fa74-4d6a-bcf1-9c0a0938153f",
   "metadata": {
    "jupyter": {
     "source_hidden": true
    }
   },
   "outputs": [],
   "source": [
    "np.mean(df.length)"
   ]
  },
  {
   "cell_type": "code",
   "execution_count": 21,
   "id": "8e006ed3-0b67-436a-9e0d-bda2a26201b1",
   "metadata": {
    "jupyter": {
     "source_hidden": true
    }
   },
   "outputs": [],
   "source": [
    "df['text'] = df.apply(lambda row: row.text[10000:], axis=1)"
   ]
  },
  {
   "cell_type": "code",
   "execution_count": null,
   "id": "312f76a1-de3e-43a5-8db3-b48c3f7b6ce0",
   "metadata": {
    "jupyter": {
     "source_hidden": true
    }
   },
   "outputs": [],
   "source": [
    "df"
   ]
  },
  {
   "cell_type": "code",
   "execution_count": null,
   "id": "73f17385-5c90-4395-9bc7-8873108aebfe",
   "metadata": {
    "jupyter": {
     "source_hidden": true
    },
    "tags": []
   },
   "outputs": [],
   "source": [
    "print(df.text[678])"
   ]
  },
  {
   "cell_type": "markdown",
   "id": "2fd5eed0-de88-41e5-95b4-cdeab063263f",
   "metadata": {},
   "source": [
    "---"
   ]
  },
  {
   "cell_type": "code",
   "execution_count": 12,
   "id": "5104458c-78ec-41e5-b392-16e50915b23b",
   "metadata": {},
   "outputs": [
    {
     "data": {
      "text/plain": [
       "(#57376) ['xxunk','xxpad','xxbos','xxeos','xxfld','xxrep','xxwrep','xxup','xxmaj','the'...]"
      ]
     },
     "execution_count": 12,
     "metadata": {},
     "output_type": "execute_result"
    }
   ],
   "source": [
    "lm_vocab = torch.load(lm_vocab_file)\n",
    "L(lm_vocab)"
   ]
  },
  {
   "cell_type": "code",
   "execution_count": 13,
   "id": "2a3ffb26-e055-4f72-875a-6f07783eb2dc",
   "metadata": {},
   "outputs": [],
   "source": [
    "label_freq = Counter()\n",
    "for labels in df.labels: label_freq.update(labels.split(';'))\n",
    "lbls = list(label_freq.keys())"
   ]
  },
  {
   "cell_type": "code",
   "execution_count": 14,
   "id": "63c79f34-1e6d-4504-8bc1-4c62f35fe15d",
   "metadata": {},
   "outputs": [
    {
     "data": {
      "text/plain": [
       "(#4716) ['518.81','348.4','348.82','801.25','427.89','E882','V49.86','305.00','96.71','38.93'...]"
      ]
     },
     "execution_count": 14,
     "metadata": {},
     "output_type": "execute_result"
    }
   ],
   "source": [
    "L(lbls)"
   ]
  },
  {
   "cell_type": "code",
   "execution_count": 15,
   "id": "7e444244-7afd-4b61-b0d3-38e116af080d",
   "metadata": {},
   "outputs": [],
   "source": [
    "def splitter(df):\n",
    "    train = df.index[~df['is_valid']].tolist()\n",
    "    valid = df.index[df['is_valid']].tolist()\n",
    "    return train, valid"
   ]
  },
  {
   "cell_type": "code",
   "execution_count": 16,
   "id": "66c2b07c-6303-447e-80fa-f4580acc04a0",
   "metadata": {},
   "outputs": [],
   "source": [
    "train, valid = splitter(df)"
   ]
  },
  {
   "cell_type": "code",
   "execution_count": 17,
   "id": "9da483e0-cd6b-451b-be07-5d7e986c3ee9",
   "metadata": {},
   "outputs": [
    {
     "data": {
      "text/plain": [
       "((#4940) [0,1,2,3,4,5,6,7,8,9...],\n",
       " (#333) [4940,4941,4942,4943,4944,4945,4946,4947,4948,4949...])"
      ]
     },
     "execution_count": 17,
     "metadata": {},
     "output_type": "execute_result"
    }
   ],
   "source": [
    "L(train), L(valid)"
   ]
  },
  {
   "cell_type": "code",
   "execution_count": 18,
   "id": "a6b789ef-5936-4caa-8f90-7e5a2da2ce97",
   "metadata": {},
   "outputs": [],
   "source": [
    "dblock = DataBlock(\n",
    "        blocks = (TextBlock.from_df('text', seq_len=72, vocab=lm_vocab), MultiCategoryBlock(vocab=lbls)),\n",
    "        get_x = ColReader('text'),\n",
    "        get_y = ColReader('labels', label_delim=';'),\n",
    "        splitter = splitter,\n",
    ")"
   ]
  },
  {
   "cell_type": "code",
   "execution_count": 19,
   "id": "db9037da-3d2f-4143-a768-9f55290884e0",
   "metadata": {},
   "outputs": [
    {
     "data": {
      "text/html": [],
      "text/plain": [
       "<IPython.core.display.HTML object>"
      ]
     },
     "metadata": {},
     "output_type": "display_data"
    }
   ],
   "source": [
    "dls = dblock.dataloaders(df, bs=32)"
   ]
  },
  {
   "cell_type": "code",
   "execution_count": 20,
   "id": "5cdc914b-db27-4b99-b264-6f6542bd999b",
   "metadata": {},
   "outputs": [],
   "source": [
    "torch.save(dls, path_model/'caml_dls_clas_sample_10percent_32.pkl')"
   ]
  },
  {
   "cell_type": "markdown",
   "id": "13326fa8-e97e-4c3c-b387-2b06470fbcd7",
   "metadata": {},
   "source": [
    "---"
   ]
  },
  {
   "cell_type": "code",
   "execution_count": 24,
   "id": "75e0e243-5de1-43c8-b8e6-12967985d17b",
   "metadata": {},
   "outputs": [],
   "source": [
    "dls_clas = torch.load(path_model/'caml_dls_clas_sample_10percent_32.pkl')"
   ]
  },
  {
   "cell_type": "code",
   "execution_count": 25,
   "id": "20da07d6-6ac1-4523-8709-f486d1e3d5c4",
   "metadata": {},
   "outputs": [
    {
     "name": "stderr",
     "output_type": "stream",
     "text": [
      "/home/deb/miniconda3/lib/python3.9/site-packages/fastai/torch_core.py:475: FutureWarning: The series.append method is deprecated and will be removed from pandas in a future version. Use pandas.concat instead.\n",
      "  ax = ax.append(pd.Series({label: o}))\n",
      "/home/deb/miniconda3/lib/python3.9/site-packages/fastai/torch_core.py:475: FutureWarning: The series.append method is deprecated and will be removed from pandas in a future version. Use pandas.concat instead.\n",
      "  ax = ax.append(pd.Series({label: o}))\n"
     ]
    },
    {
     "data": {
      "text/html": [
       "<table border=\"1\" class=\"dataframe\">\n",
       "  <thead>\n",
       "    <tr style=\"text-align: right;\">\n",
       "      <th></th>\n",
       "      <th>text</th>\n",
       "      <th>None</th>\n",
       "    </tr>\n",
       "  </thead>\n",
       "  <tbody>\n",
       "    <tr>\n",
       "      <th>0</th>\n",
       "      <td>xxbos admission date discharge date date of birth sex m service medicine allergies penicillins sulfa sulfonamides attending first name3 lf chief complaint lethargy persistent sinus tachycardia major surgical or invasive procedure none history of present illness mr known lastname is a year old male with hiv cd4 one month ago parkinson s disease htn chronic lower extremity edema and recurrent cellulitis who was brought to ed from hospital1 with lethargy and leukocytosis and then admitted to micu with colitis and persistent sinus tachycardia patient is somewhat unreliable historian but reports weeks of diarrhea and abdominal pain that have been worsening he reports coming to the hospital because he continued to ask and express concern about his diarrhea per hospital1 notes has been having loose bowel movements x6 with wbcs of 24k t refusing meals and lethargic of note he was treated with course of ciprofloxacin for uti in in the</td>\n",
       "      <td>427.89;584.9;995.92;785.52;599.0;305.1;V12.04;008.45;296.80;348.39;041.6;042;038.8;332.0;304.01;304.21</td>\n",
       "    </tr>\n",
       "  </tbody>\n",
       "</table>"
      ],
      "text/plain": [
       "<IPython.core.display.HTML object>"
      ]
     },
     "metadata": {},
     "output_type": "display_data"
    }
   ],
   "source": [
    "dls_clas.show_batch(max_n=1)"
   ]
  },
  {
   "cell_type": "code",
   "execution_count": 26,
   "id": "86c527aa-37b1-4284-a521-eb7fd5ba39d4",
   "metadata": {},
   "outputs": [
    {
     "data": {
      "text/plain": [
       "\"(#51928) ['xxunk','xxpad','xxbos','xxeos','xxfld','xxrep','xxwrep','xxup','xxmaj','the','and','to','of','was','with','a','on','in','for','mg','no','tablet','patient','is','he','at','blood','name','po','she'...]\""
      ]
     },
     "execution_count": 26,
     "metadata": {},
     "output_type": "execute_result"
    }
   ],
   "source": [
    "coll_repr(dls_clas.vocab[0], 30)"
   ]
  },
  {
   "cell_type": "code",
   "execution_count": 27,
   "id": "ef119d06-ed4b-423c-a573-cc14dcdb6d69",
   "metadata": {},
   "outputs": [
    {
     "data": {
      "text/plain": [
       "\"(#4716) ['518.81','348.4','348.82','801.25','427.89','E882','V49.86','305.00','96.71','38.93','861.32','958.4','868.14','881.20','289.82','862.1','902.53','860.5','991.6','E922.9','V66.7','32.39','34.02','38.84','54.11','34.82','39.32','34.09','86.28','99.04'...]\""
      ]
     },
     "execution_count": 27,
     "metadata": {},
     "output_type": "execute_result"
    }
   ],
   "source": [
    "coll_repr(dls_clas.vocab[1], 30)"
   ]
  },
  {
   "cell_type": "code",
   "execution_count": 28,
   "id": "ff46b347-2908-45c9-963a-ed75cacb7c79",
   "metadata": {},
   "outputs": [],
   "source": [
    "# x, y = dls_clas.one_batch()\n",
    "# x.shape, y.shape"
   ]
  },
  {
   "cell_type": "code",
   "execution_count": 29,
   "id": "f118747b-50ba-4297-bd52-c92c9126f8cb",
   "metadata": {},
   "outputs": [],
   "source": [
    "# x, y = first(dls_clas.train)\n",
    "dls_iter = iter(dls_clas.train)"
   ]
  },
  {
   "cell_type": "code",
   "execution_count": 32,
   "id": "ec2a62a3-ec07-4354-8a39-3a6618316693",
   "metadata": {},
   "outputs": [],
   "source": [
    "x,y = next(dls_iter)"
   ]
  },
  {
   "cell_type": "code",
   "execution_count": 33,
   "id": "f5b36cc4-18b3-4b00-89d6-6301e1457131",
   "metadata": {},
   "outputs": [
    {
     "data": {
      "text/plain": [
       "(torch.Size([32, 3560]), torch.Size([32, 4716]))"
      ]
     },
     "execution_count": 33,
     "metadata": {},
     "output_type": "execute_result"
    }
   ],
   "source": [
    "x.shape, y.shape"
   ]
  },
  {
   "cell_type": "code",
   "execution_count": 34,
   "id": "31d939a3-ebe7-47a7-8e04-bd83605b6730",
   "metadata": {},
   "outputs": [
    {
     "data": {
      "text/plain": [
       "\"(#51928) ['xxunk','xxpad','xxbos','xxeos','xxfld','xxrep','xxwrep','xxup','xxmaj','the','and','to','of','was','with','a','on','in','for','mg','no','tablet','patient','is','he','at','blood','name','po','she'...]\""
      ]
     },
     "execution_count": 34,
     "metadata": {},
     "output_type": "execute_result"
    }
   ],
   "source": [
    "coll_repr(lm_vocab, 30)"
   ]
  },
  {
   "cell_type": "code",
   "execution_count": 35,
   "id": "c3848db6-b104-4746-842e-e349f2b79e40",
   "metadata": {
    "tags": []
   },
   "outputs": [
    {
     "data": {
      "text/plain": [
       "'xxbos admission date discharge date date of birth sex m service medicine allergies sevoflurane location un juice reglan bactrim attending first name3 lf chief complaint fevers chills nausea vomiting inability to take po major surgical or invasive procedure graft excision tunnelled hd catheter placement history of present illness this is a yo m with dm1 c b nephropathy esrd on hd through av graft tts and esophagitis who presents with three days of fevers chills nausea vomiting and inability to tolerate po the patient was in his usoh until saturday when he developed intractable nausea after hd the patient notes a normal hd session only complicated by a small amount of bleeding at the graft site after hd the patient had nausea and vomited some food bilious material and what he says is coffee ground color material the patient did not have any hematemesis he vomited times and was unable to eat or drink the patient denied any other gi symptoms including diarrhea melena or hematochezia he endorsed constipation with no stool x days with the vomiting he had mild rlq tenderness he says that this occurred intermittently on saturday and sunday but has resolved completely along with these symptoms the patient noted fevers and shaking chills he had slight nonproductive cough without sob wheezing or chest pain he noted more nocturnal cough and reflux symptoms with supine positioning he denied sore throat rhinorrhea sick contacts recent travel no iv drug use or other exposures he has diabetic neuropathy but month year any non healing ulcers of note he did cut his r foot over the weekend but did not notice any accompanying skin changes redness or drainage in ed developed fever to patient was given vancomycin guiac negative cxr normal ct abdomen performed without acute process identified the patient was sent to the hd unit prior to coming to the floor for workup of fever past medical history diabetes mellitus type i c b retinopathy legally blind on left neuropathy and nephropathy gastroparesis cad nstemi chf hypertension pulmonary hypertension glaucoma s p surgical debridement of left arm fistula and ruptured aneurysm repair history of pea arrest during av fistula repair history of positive ppd s p one year of treatment hiccups hx seizure d o social history originally from male first name un separated with five healthy children not currently working but has worked as a security guard in the past moved from location un recently but lives alone has a sister in the area he location un current tobacco use quit several years ago he location un etoh or illicit drug use history of homelessness but currently lives alone in apt with visiting nurse services daily has hd in location un t th sa in the am family history multiple siblings with hypertension and diabetes two sisters with a last name problem no known early coronary disease or kidney disease physical exam admission physical exam vs temp f bp hr r o2 sat ra general tired appearing gentleman aox3 heent anicteric sclera mild conjunctival injection legal blindness of l eye no tonsilar exudates neck supple no thyromegaly no jvd no lad lungs limited by poor effort no wheezes crackles consolidations equal breath sounds bilaterally heart xxrep 3 r systolic machine like murmur at rusb no radiation to carotids likely referred from av graft no rubs no extra heart sounds abdomen hypoactive bowel sounds soft nt nd no rebound guarding extremities warm pulses bilaterally small 2 cm laceration on r metatarsal callous no skin changes skin no rashes or lesions neuro awake a ox3 nonfocal medicine to cardiology transfer vs tm tc hr 70s on ra gen well appearing heart triphasic friction rub ext right ue bandaged incision with packing no purulent drainage discharge exam pertinent results admission labs 30am blood wbc rbc hgb hct mcv mch mchc rdw plt ct 30am blood neuts lymphs monos eos baso 30am blood hypochr normal anisocy poiklo occasional macrocy occasional microcy occasional polychr occasional burr occasional 30am blood pt ptt inr pt 22pm blood fibrino 40pm blood fdp 30am blood glucose urean creat na k cl hco3 angap 30am blood alt ast ld ldh ck cpk alkphos totbili 30am blood ctropnt 40pm blood albumin calcium phos mg medicine to cardiology transfer labs 15am blood wbc rbc hgb hct mcv mch mchc rdw plt ct 15am blood glucose urean creat na k cl hco3 angap 15am blood alt ast ld ldh ck cpk alkphos totbili 15am blood calcium phos mg cardiac enzymes 30am blood ctropnt 00am blood ck mb ctropnt 25am blood ck mb ctropnt 15am blood ck mb ctropnt micro am blood culture final report blood culture routine final staph aureus coag consultations with i d are recommended for all blood cultures positive for staphylococcus aureus yeast or other fungi final sensitivities staphylococcus species may develop resistance during prolonged therapy with quinolones therefore isolates that are initially susceptible may become resistant within three to four days after initiation of therapy testing of repeat isolates may be warranted sensitivities mic expressed in mcg ml xxrep 57 _ staph aureus coag clindamycin s erythromycin s gentamicin s levofloxacin s oxacillin s trimethoprim sulfa s aerobic bottle gram stain final gram positive cocci in pairs and clusters reported to and read back by dr first name8 namepattern2 last name namepattern1 pager serial number on anaerobic bottle gram stain final gram positive cocci in pairs and clusters pm blood culture final report blood culture routine final staph aureus coag consultations with i d are recommended for all blood cultures positive for staphylococcus aureus yeast or other fungi sensitivities performed on culture xxunk aerobic bottle gram stain final gram positive cocci in pairs and clusters reported to and read back by dr first name8 namepattern2 last name namepattern1 pager numeric identifier on anaerobic bottle gram stain final gram positive cocci in pairs and clusters pm foreign body site arm right upper arm av graft final report wound culture final staph aureus coag sensitivities performed on culture numeric'"
      ]
     },
     "execution_count": 35,
     "metadata": {},
     "output_type": "execute_result"
    }
   ],
   "source": [
    "' '.join(lm_vocab[o] for o in x[0][:1000])"
   ]
  },
  {
   "cell_type": "markdown",
   "id": "6cc5c565-f4c5-4e47-bd61-8165d90b9cd1",
   "metadata": {
    "jp-MarkdownHeadingCollapsed": true,
    "tags": []
   },
   "source": [
    "## `DataLoaders` for the Multi-Label Classifier (using fastai's Mid-Level Data API):"
   ]
  },
  {
   "cell_type": "markdown",
   "id": "7b323260-73d6-451b-a024-c85d5a232468",
   "metadata": {
    "jp-MarkdownHeadingCollapsed": true,
    "tags": []
   },
   "source": [
    "### Loading Raw Data"
   ]
  },
  {
   "cell_type": "code",
   "execution_count": 7,
   "id": "4b49bb4e-371c-4a52-b4c0-92e11291a237",
   "metadata": {
    "tags": []
   },
   "outputs": [],
   "source": [
    "data_file = path_data/'caml_notes_labelled_sample_10percent.csv'\n",
    "lm_vocab_file = path_model/'caml_dls_lm_vocab.pkl'"
   ]
  },
  {
   "cell_type": "code",
   "execution_count": 16,
   "id": "7c1ff4a1-6dcd-4255-be1a-e33381fe7298",
   "metadata": {},
   "outputs": [],
   "source": [
    "df = pd.read_csv(data_file, dtype={'text': str, 'labels': str})\n",
    "df[['text', 'labels']] = df[['text', 'labels']].astype('str')"
   ]
  },
  {
   "cell_type": "code",
   "execution_count": 17,
   "id": "6794e273-a8ef-40eb-be6f-729a68b3e9ab",
   "metadata": {
    "collapsed": true,
    "jupyter": {
     "outputs_hidden": true
    },
    "tags": []
   },
   "outputs": [
    {
     "data": {
      "text/html": [
       "<div>\n",
       "<style scoped>\n",
       "    .dataframe tbody tr th:only-of-type {\n",
       "        vertical-align: middle;\n",
       "    }\n",
       "\n",
       "    .dataframe tbody tr th {\n",
       "        vertical-align: top;\n",
       "    }\n",
       "\n",
       "    .dataframe thead th {\n",
       "        text-align: right;\n",
       "    }\n",
       "</style>\n",
       "<table border=\"1\" class=\"dataframe\">\n",
       "  <thead>\n",
       "    <tr style=\"text-align: right;\">\n",
       "      <th></th>\n",
       "      <th>subject_id</th>\n",
       "      <th>hadm_id</th>\n",
       "      <th>text</th>\n",
       "      <th>labels</th>\n",
       "      <th>is_valid</th>\n",
       "    </tr>\n",
       "  </thead>\n",
       "  <tbody>\n",
       "    <tr>\n",
       "      <th>0</th>\n",
       "      <td>30088</td>\n",
       "      <td>172719</td>\n",
       "      <td>Admission Date:  [**2179-3-7**]              Discharge Date:   [**2179-3-18**]\\n\\nDate of Birth:  [**2121-12-23**]             Sex:   M\\n\\nService: MEDICINE\\n\\nAllergies:\\nIbuprofen\\n\\nAttending:[**First Name3 (LF) 613**]\\nChief Complaint:\\ndyspnea, hyperkalemia\\n\\nMajor Surgical or Invasive Procedure:\\nHemodialysis\\nright Femoral central venous line placement and removal\\n\\n\\nHistory of Present Illness:\\n57 y/o M with hx of ESRD presents after intentionally missing\\ndialysis for last 9 days.  Came to the ED due to the coaxing of\\nhis wife.  Complains of SOB and DOE lasting about the last ...</td>\n",
       "      <td>276.7;585.6;348.39;790.7;427.32;507.0;403.10;825.0;E888.9;300.9;301.9;250.62;357.2;250.42;285.21;278.01;427.31;250.82;V15.81;276.52;707.07;707.22;041.19;39.95;38.93</td>\n",
       "      <td>False</td>\n",
       "    </tr>\n",
       "    <tr>\n",
       "      <th>1</th>\n",
       "      <td>22624</td>\n",
       "      <td>138579</td>\n",
       "      <td>Admission Date:  [**2117-1-21**]              Discharge Date:   [**2117-1-28**]\\n\\nDate of Birth:  [**2070-8-1**]             Sex:   M\\n\\nService: MEDICINE\\n\\nAllergies:\\nPatient recorded as having No Known Allergies to Drugs\\n\\nAttending:[**First Name3 (LF) 943**]\\nChief Complaint:\\nBright red blood in stools\\n\\nMajor Surgical or Invasive Procedure:\\nUpper endoscopy\\nColonoscopy\\nTransfusion of platelets and fresh frozen plasma\\n\\n\\nHistory of Present Illness:\\nIn brief, a 46-year-old man with etoh cirrhosis, varices s/p\\nbanding in [**12-9**], HCV not on treatment, who initially presente...</td>\n",
       "      <td>455.5;303.00;571.2;291.81;070.70;284.8;286.7;562.10;571.1;211.2;456.21;305.1;276.8;45.13;45.23;99.05;99.07;96.34</td>\n",
       "      <td>False</td>\n",
       "    </tr>\n",
       "    <tr>\n",
       "      <th>2</th>\n",
       "      <td>93593</td>\n",
       "      <td>164601</td>\n",
       "      <td>Admission Date:  [**2161-5-8**]              Discharge Date:   [**2161-5-12**]\\n\\n\\nService: MEDICINE\\n\\nAllergies:\\nPercocet\\n\\nAttending:[**First Name3 (LF) 1115**]\\nChief Complaint:\\nGI bleed / coffee-ground emesis.\\n\\nMajor Surgical or Invasive Procedure:\\nEGD\\nBlood transfusion\\n\\n\\nHistory of Present Illness:\\nPatient is an 87-y/o woman with a history of colon cancer s/p\\nright colectomy who presented today to the emergency room after\\n2 episodes of coffee-ground emesis at her rehab facility.\\nHistory was taken from family members as patient was in\\nsignificant discomfort with the NG...</td>\n",
       "      <td>V10.05;V45.72;V15.82;788.30;531.40;998.59;682.6;438.89;728.87;458.29;564.09;401.9;285.9;294.8;311;272.0;E878.2;45.13</td>\n",
       "      <td>True</td>\n",
       "    </tr>\n",
       "  </tbody>\n",
       "</table>\n",
       "</div>"
      ],
      "text/plain": [
       "   subject_id  hadm_id  \\\n",
       "0       30088   172719   \n",
       "1       22624   138579   \n",
       "2       93593   164601   \n",
       "\n",
       "                                                                                                                                                                                                                                                                                                                                                                                                                                                                                                                                                                                                                      text  \\\n",
       "0  Admission Date:  [**2179-3-7**]              Discharge Date:   [**2179-3-18**]\\n\\nDate of Birth:  [**2121-12-23**]             Sex:   M\\n\\nService: MEDICINE\\n\\nAllergies:\\nIbuprofen\\n\\nAttending:[**First Name3 (LF) 613**]\\nChief Complaint:\\ndyspnea, hyperkalemia\\n\\nMajor Surgical or Invasive Procedure:\\nHemodialysis\\nright Femoral central venous line placement and removal\\n\\n\\nHistory of Present Illness:\\n57 y/o M with hx of ESRD presents after intentionally missing\\ndialysis for last 9 days.  Came to the ED due to the coaxing of\\nhis wife.  Complains of SOB and DOE lasting about the last ...   \n",
       "1  Admission Date:  [**2117-1-21**]              Discharge Date:   [**2117-1-28**]\\n\\nDate of Birth:  [**2070-8-1**]             Sex:   M\\n\\nService: MEDICINE\\n\\nAllergies:\\nPatient recorded as having No Known Allergies to Drugs\\n\\nAttending:[**First Name3 (LF) 943**]\\nChief Complaint:\\nBright red blood in stools\\n\\nMajor Surgical or Invasive Procedure:\\nUpper endoscopy\\nColonoscopy\\nTransfusion of platelets and fresh frozen plasma\\n\\n\\nHistory of Present Illness:\\nIn brief, a 46-year-old man with etoh cirrhosis, varices s/p\\nbanding in [**12-9**], HCV not on treatment, who initially presente...   \n",
       "2  Admission Date:  [**2161-5-8**]              Discharge Date:   [**2161-5-12**]\\n\\n\\nService: MEDICINE\\n\\nAllergies:\\nPercocet\\n\\nAttending:[**First Name3 (LF) 1115**]\\nChief Complaint:\\nGI bleed / coffee-ground emesis.\\n\\nMajor Surgical or Invasive Procedure:\\nEGD\\nBlood transfusion\\n\\n\\nHistory of Present Illness:\\nPatient is an 87-y/o woman with a history of colon cancer s/p\\nright colectomy who presented today to the emergency room after\\n2 episodes of coffee-ground emesis at her rehab facility.\\nHistory was taken from family members as patient was in\\nsignificant discomfort with the NG...   \n",
       "\n",
       "                                                                                                                                                                 labels  \\\n",
       "0  276.7;585.6;348.39;790.7;427.32;507.0;403.10;825.0;E888.9;300.9;301.9;250.62;357.2;250.42;285.21;278.01;427.31;250.82;V15.81;276.52;707.07;707.22;041.19;39.95;38.93   \n",
       "1                                                      455.5;303.00;571.2;291.81;070.70;284.8;286.7;562.10;571.1;211.2;456.21;305.1;276.8;45.13;45.23;99.05;99.07;96.34   \n",
       "2                                                  V10.05;V45.72;V15.82;788.30;531.40;998.59;682.6;438.89;728.87;458.29;564.09;401.9;285.9;294.8;311;272.0;E878.2;45.13   \n",
       "\n",
       "   is_valid  \n",
       "0     False  \n",
       "1     False  \n",
       "2      True  "
      ]
     },
     "execution_count": 17,
     "metadata": {},
     "output_type": "execute_result"
    }
   ],
   "source": [
    "df.head(3)"
   ]
  },
  {
   "cell_type": "markdown",
   "id": "00bee561-2e9b-45b8-85dc-6077d9b5d0fd",
   "metadata": {},
   "source": [
    "let's now gather the labels from the 'labels' column of the df:"
   ]
  },
  {
   "cell_type": "code",
   "execution_count": 18,
   "id": "6bdf9daf-ea10-4578-91ac-7db7818c0b03",
   "metadata": {},
   "outputs": [],
   "source": [
    "label_freq = Counter()\n",
    "for labels in df.labels: label_freq.update(labels.split(';'))"
   ]
  },
  {
   "cell_type": "markdown",
   "id": "46c5f200-6c8e-41af-b530-8b8a0240ab62",
   "metadata": {},
   "source": [
    "The total number of labels are:"
   ]
  },
  {
   "cell_type": "code",
   "execution_count": 19,
   "id": "06c9b1b3-d4b1-4d25-9b0b-e94dcb416b13",
   "metadata": {},
   "outputs": [
    {
     "data": {
      "text/plain": [
       "4716"
      ]
     },
     "execution_count": 19,
     "metadata": {},
     "output_type": "execute_result"
    }
   ],
   "source": [
    "len(label_freq)"
   ]
  },
  {
   "cell_type": "markdown",
   "id": "763b0364-d4d3-4e68-90c9-91c3679a631b",
   "metadata": {},
   "source": [
    "Let's make a list of all labels (We will use it later while creating the `DataLoader`)"
   ]
  },
  {
   "cell_type": "code",
   "execution_count": 20,
   "id": "55b00a21-bcb0-498b-8d38-2570a1f71d31",
   "metadata": {},
   "outputs": [],
   "source": [
    "lbls = list(label_freq.keys()) "
   ]
  },
  {
   "cell_type": "markdown",
   "id": "753c0eb4-63d8-4c19-81d0-dd12d55ef3f6",
   "metadata": {
    "jp-MarkdownHeadingCollapsed": true,
    "tags": []
   },
   "source": [
    "### Steps for creating the classifier `DataLoaders` using fastai `Transforms`:"
   ]
  },
  {
   "cell_type": "markdown",
   "id": "47a8a0cc-a22a-4641-b53f-41139ff24519",
   "metadata": {
    "jp-MarkdownHeadingCollapsed": true,
    "tags": []
   },
   "source": [
    "#### 1. train/valid `splitter`:"
   ]
  },
  {
   "cell_type": "markdown",
   "id": "d22616d8-22b7-4899-ab53-dacf93fbff6e",
   "metadata": {},
   "source": [
    "Okay, based on the `is_valid` column of our Dataframe, let's create a splitter:"
   ]
  },
  {
   "cell_type": "code",
   "execution_count": 21,
   "id": "5b51b16f-b4e5-4351-95b5-a0d31a4fed4a",
   "metadata": {},
   "outputs": [],
   "source": [
    "def splitter(df):\n",
    "    train = df.index[~df['is_valid']].tolist()\n",
    "    valid = df.index[df['is_valid']].to_list()\n",
    "    return train, valid"
   ]
  },
  {
   "cell_type": "markdown",
   "id": "2778bba4-353f-4e1a-8cb0-1e8613ca0f27",
   "metadata": {},
   "source": [
    "Let's check the train/valid split"
   ]
  },
  {
   "cell_type": "code",
   "execution_count": 22,
   "id": "e2ba4d48-df46-4025-94f7-742f4d72d68a",
   "metadata": {},
   "outputs": [
    {
     "data": {
      "text/plain": [
       "((#4940) [0,1,3,4,5,6,8,9,10,11...], (#333) [2,7,13,16,21,26,38,43,61,63...])"
      ]
     },
     "execution_count": 22,
     "metadata": {},
     "output_type": "execute_result"
    }
   ],
   "source": [
    "splits = [train, valid] = splitter(df)\n",
    "L(splits[0]), L(splits[1])"
   ]
  },
  {
   "cell_type": "markdown",
   "id": "b6178b93-97b0-485c-8ff7-95a475a41eda",
   "metadata": {
    "jp-MarkdownHeadingCollapsed": true,
    "tags": []
   },
   "source": [
    "#### 2. Making the `Datasets` object:"
   ]
  },
  {
   "cell_type": "markdown",
   "id": "6a3ae1b6-d1ed-48a4-8c26-cba314575132",
   "metadata": {},
   "source": [
    "**Crucial:** We need the vocab of the language model so that we can make sure we use the same correspondence of token to index. Otherwise, the embeddings we learned in our fine-tuned language model won't make any sense to our classifier model, and the fine-tuning won't be of any use. So we need to pass the `lm_vocab` to the `Numericalize` transform:"
   ]
  },
  {
   "cell_type": "markdown",
   "id": "ed8b40cd-c1ab-4e8e-9f3f-cb39c3aec7fd",
   "metadata": {},
   "source": [
    "So let's load the vocab of the language model:"
   ]
  },
  {
   "cell_type": "code",
   "execution_count": 23,
   "id": "a462974f-41ea-467c-a707-0bbdd2bcb518",
   "metadata": {
    "tags": []
   },
   "outputs": [],
   "source": [
    "lm_vocab = torch.load(lm_vocab_file)"
   ]
  },
  {
   "cell_type": "code",
   "execution_count": 24,
   "id": "0aeb0bc3-e5ac-4f6e-929f-85c38d77ca26",
   "metadata": {
    "tags": []
   },
   "outputs": [
    {
     "data": {
      "text/plain": [
       "(#60008) ['xxunk','xxpad','xxbos','xxeos','xxfld','xxrep','xxwrep','xxup','xxmaj','*'...]"
      ]
     },
     "execution_count": 24,
     "metadata": {},
     "output_type": "execute_result"
    }
   ],
   "source": [
    "L(lm_vocab)"
   ]
  },
  {
   "cell_type": "code",
   "execution_count": 16,
   "id": "e50b9ff3-9dbe-4801-a9bd-8b695b7f7899",
   "metadata": {
    "tags": []
   },
   "outputs": [],
   "source": [
    "@Transform\n",
    "def Shrink(num:TensorText): return num[:2500] if len(num)>2500 else num"
   ]
  },
  {
   "cell_type": "code",
   "execution_count": 25,
   "id": "a2758f4d-61f0-4713-a75a-bdb35d7ea0d1",
   "metadata": {},
   "outputs": [],
   "source": [
    "x_tfms = [Tokenizer.from_df('text'), attrgetter(\"text\"), Numericalize(vocab=lm_vocab)] \n",
    "y_tfms = [ColReader('labels', label_delim=';'), MultiCategorize(vocab=lbls), OneHotEncode()]\n",
    "tfms = [x_tfms, y_tfms]"
   ]
  },
  {
   "cell_type": "markdown",
   "id": "88a00ba2-feb6-4b7a-a27b-0b573fb5d6ea",
   "metadata": {},
   "source": [
    "---"
   ]
  },
  {
   "cell_type": "code",
   "execution_count": 17,
   "id": "6fc42e90-8f40-4887-97b1-a7ac9be5a240",
   "metadata": {},
   "outputs": [],
   "source": [
    "# class Shrink(Transform):\n",
    "#     def encodes(self, num):\n",
    "#         return num[:3500] if len(num)>3500 else num"
   ]
  },
  {
   "cell_type": "code",
   "execution_count": 18,
   "id": "c8cc3716-9411-47a2-bb45-0b58fd6e024d",
   "metadata": {},
   "outputs": [],
   "source": [
    "# tls_x = TfmdLists(df, x_tfms, splits=splits)"
   ]
  },
  {
   "cell_type": "markdown",
   "id": "45ba4872-496e-4863-baad-17f0316a6a3a",
   "metadata": {},
   "source": [
    "---"
   ]
  },
  {
   "cell_type": "code",
   "execution_count": 26,
   "id": "ffed1321-aa17-447a-8d4c-705e7f87846e",
   "metadata": {},
   "outputs": [
    {
     "data": {
      "text/html": [],
      "text/plain": [
       "<IPython.core.display.HTML object>"
      ]
     },
     "metadata": {},
     "output_type": "display_data"
    }
   ],
   "source": [
    "dsets = Datasets(df, tfms, splits=splits)"
   ]
  },
  {
   "cell_type": "markdown",
   "id": "49310fd4-9934-48ad-978a-ebe6c1058171",
   "metadata": {},
   "source": [
    "Let's now check if our `Datasets` got created alright:"
   ]
  },
  {
   "cell_type": "code",
   "execution_count": 27,
   "id": "d0832e62-0b51-49a4-87e4-adccf6cb8c56",
   "metadata": {},
   "outputs": [
    {
     "data": {
      "text/plain": [
       "(4940, 333)"
      ]
     },
     "execution_count": 27,
     "metadata": {},
     "output_type": "execute_result"
    }
   ],
   "source": [
    "len(dsets.train), len(dsets.valid)"
   ]
  },
  {
   "cell_type": "code",
   "execution_count": 20,
   "id": "387126f8-46e6-4a47-a5e2-7f284c34a95f",
   "metadata": {
    "collapsed": true,
    "jupyter": {
     "outputs_hidden": true
    },
    "tags": []
   },
   "outputs": [
    {
     "data": {
      "text/plain": [
       "(TensorText([    2,    50,    51,    30,    51,    51,    12,   225,   248,   321,   106,   174,   157,    20,    95,   157,  1920,   549,  1934,   301,    60,   271,   227,   324,   309,    32,    62,\n",
       "           781,   311,   175,    31,   313,   173,   351,    41,    12,   137,   234, 20920,   486,    32,    62,   781,    61,  4261,    25,  2066,   228,  1290,    10,  6786,   896,    16,  4461,\n",
       "           350,  3732,  4343,    18,  6340,   334,    80,    17,     9,  1361,     9,    22,    13,   228,    11,    48,  3281,    11,     9,    32,    14,   275,    12,   218,    29,    13,    86,\n",
       "          3262,  1247,    10,    13,    98,    16,  1462,   129,   123,    41,   882,   238,    41,   882,   147,    41,   882,   145,   138,   934,   335,   223,    66,   190,   293,  3688,    12,\n",
       "             9,    39, 10039,  5654,  5811,   604,    18,  1017,  5205,  2213,   226,  1912,    12,     9,    39,  1160,   579,   160,  6685, 10040,  5796,   689,   759,   358,   319,    47,    48,\n",
       "          1291,   534,   308,  2259,  2770,    12,     9,  1160,   579,    14,   534,   308,    12,  4591,  2213,    66,   190,  4927,    39,  1160,  1351,   207,    17,  2259,  2770,    14,   207,\n",
       "            12,  4772,  4591,  2213,    15,   212,  2757,    44,  1795,  8155,   405,    23,  2750,  3920,    66,    74,   621,  4927,   212,  2757,    44,  1795,  8155,   405,    14,  6422,    31,\n",
       "          3242,    25,     9, 39381,  1546,  6286,    12,  4575,    16,  3746,   258,   476,  4297,    11, 15189,  6422,    31,  3242,    66,  2450,  4927,    20,   142,  2861,   314,    55,    89,\n",
       "            53,    13,   158,    11,     9,  5030,    18,   204,   581,   368,  1434,  1417,   747,    29,    13,    98,    16,  1247,   341,    10,   109,    16,  7435,  1462,  1115,    13,   427,\n",
       "            29,    13,   109,    16, 13573,  2910,    10,    46,    15,    74,  1849,    17,   490,   625,   853,    13,    11,   931,  4409,    18,  1389,  2025,    29,    13,  3281,   262,    70,\n",
       "           198,   226,    11,  1940,  1297,    29,    13,   350,    10,  5114,   457,    29,    13,  1482,  1476,    10,    16,   156,   616,  1587,   177,   775,    13,  1545,   884,  2341,  4412,\n",
       "            43,    87,    16,   619,    15,   147,  2905,    13,   496,    10,     9,   147,  1165,    11,   750,     9,    22,  2865,    29,    13,   220,    16,    15,   894,   594,    18,  1619,\n",
       "            29,   878,    16,    69,    16,    50,   882,    30,    69,   351,    30,   278,   934,    30,   208,  2620,   665,   871,    30,   167,   934,    30,   130,   351,   270,   130,   351,\n",
       "            60,   239,   384,   239,     6,   161,   139,   171,   409,    45]),\n",
       " TensorMultiCategory([1., 1., 1.,  ..., 0., 0., 0.]))"
      ]
     },
     "execution_count": 20,
     "metadata": {},
     "output_type": "execute_result"
    }
   ],
   "source": [
    "dsets.train[0]"
   ]
  },
  {
   "cell_type": "markdown",
   "id": "dbf7bba4-e4e0-4fe9-92aa-4d1f1589dbb3",
   "metadata": {},
   "source": [
    "---"
   ]
  },
  {
   "cell_type": "code",
   "execution_count": 21,
   "id": "72ddf9ed-0404-4666-a7a8-b7fce99e1cb1",
   "metadata": {},
   "outputs": [
    {
     "data": {
      "text/plain": [
       "fastai.text.data.TensorText"
      ]
     },
     "execution_count": 21,
     "metadata": {},
     "output_type": "execute_result"
    }
   ],
   "source": [
    "type(dsets.train[0][0])"
   ]
  },
  {
   "cell_type": "code",
   "execution_count": 22,
   "id": "593eeaf3-092d-4fff-85e4-8fd696e8b907",
   "metadata": {},
   "outputs": [
    {
     "data": {
      "text/plain": [
       "361"
      ]
     },
     "execution_count": 22,
     "metadata": {},
     "output_type": "execute_result"
    }
   ],
   "source": [
    "len(dsets.train[0][0])"
   ]
  },
  {
   "cell_type": "code",
   "execution_count": 33,
   "id": "63808677-18d3-4e5f-a1a0-1a001b9a3798",
   "metadata": {},
   "outputs": [
    {
     "data": {
      "text/plain": [
       "tensor([0, 1, 2, 3, 4, 5, 6, 7, 8, 9])"
      ]
     },
     "execution_count": 33,
     "metadata": {},
     "output_type": "execute_result"
    }
   ],
   "source": [
    "torch.arange(10)"
   ]
  },
  {
   "cell_type": "code",
   "execution_count": 36,
   "id": "062b0741-f0fb-4fb1-bb98-bc37f2266bca",
   "metadata": {},
   "outputs": [],
   "source": [
    "dsets.train[0][0][:] = TensorText(torch.arange(361))"
   ]
  },
  {
   "cell_type": "code",
   "execution_count": 37,
   "id": "d9848d93-9ab0-40e7-be3d-1ec55b355bc7",
   "metadata": {
    "collapsed": true,
    "jupyter": {
     "outputs_hidden": true
    },
    "tags": []
   },
   "outputs": [
    {
     "data": {
      "text/plain": [
       "TensorText([    2,    50,    51,    30,    51,    51,    12,   225,   248,   321,   106,   174,   157,    20,    95,   157,  1920,   549,  1934,   301,    60,   271,   227,   324,   309,    32,    62,\n",
       "          781,   311,   175,    31,   313,   173,   351,    41,    12,   137,   234, 20920,   486,    32,    62,   781,    61,  4261,    25,  2066,   228,  1290,    10,  6786,   896,    16,  4461,\n",
       "          350,  3732,  4343,    18,  6340,   334,    80,    17,     9,  1361,     9,    22,    13,   228,    11,    48,  3281,    11,     9,    32,    14,   275,    12,   218,    29,    13,    86,\n",
       "         3262,  1247,    10,    13,    98,    16,  1462,   129,   123,    41,   882,   238,    41,   882,   147,    41,   882,   145,   138,   934,   335,   223,    66,   190,   293,  3688,    12,\n",
       "            9,    39, 10039,  5654,  5811,   604,    18,  1017,  5205,  2213,   226,  1912,    12,     9,    39,  1160,   579,   160,  6685, 10040,  5796,   689,   759,   358,   319,    47,    48,\n",
       "         1291,   534,   308,  2259,  2770,    12,     9,  1160,   579,    14,   534,   308,    12,  4591,  2213,    66,   190,  4927,    39,  1160,  1351,   207,    17,  2259,  2770,    14,   207,\n",
       "           12,  4772,  4591,  2213,    15,   212,  2757,    44,  1795,  8155,   405,    23,  2750,  3920,    66,    74,   621,  4927,   212,  2757,    44,  1795,  8155,   405,    14,  6422,    31,\n",
       "         3242,    25,     9, 39381,  1546,  6286,    12,  4575,    16,  3746,   258,   476,  4297,    11, 15189,  6422,    31,  3242,    66,  2450,  4927,    20,   142,  2861,   314,    55,    89,\n",
       "           53,    13,   158,    11,     9,  5030,    18,   204,   581,   368,  1434,  1417,   747,    29,    13,    98,    16,  1247,   341,    10,   109,    16,  7435,  1462,  1115,    13,   427,\n",
       "           29,    13,   109,    16, 13573,  2910,    10,    46,    15,    74,  1849,    17,   490,   625,   853,    13,    11,   931,  4409,    18,  1389,  2025,    29,    13,  3281,   262,    70,\n",
       "          198,   226,    11,  1940,  1297,    29,    13,   350,    10,  5114,   457,    29,    13,  1482,  1476,    10,    16,   156,   616,  1587,   177,   775,    13,  1545,   884,  2341,  4412,\n",
       "           43,    87,    16,   619,    15,   147,  2905,    13,   496,    10,     9,   147,  1165,    11,   750,     9,    22,  2865,    29,    13,   220,    16,    15,   894,   594,    18,  1619,\n",
       "           29,   878,    16,    69,    16,    50,   882,    30,    69,   351,    30,   278,   934,    30,   208,  2620,   665,   871,    30,   167,   934,    30,   130,   351,   270,   130,   351,\n",
       "           60,   239,   384,   239,     6,   161,   139,   171,   409,    45])"
      ]
     },
     "execution_count": 37,
     "metadata": {},
     "output_type": "execute_result"
    }
   ],
   "source": [
    "dsets.train[0][0]"
   ]
  },
  {
   "cell_type": "markdown",
   "id": "fc4f2932-e957-4f2d-ad14-485e09caaf32",
   "metadata": {},
   "source": [
    "---"
   ]
  },
  {
   "cell_type": "code",
   "execution_count": 28,
   "id": "d744f975-2b3f-4320-89dd-9608e5b92aee",
   "metadata": {
    "collapsed": true,
    "jupyter": {
     "outputs_hidden": true
    },
    "tags": []
   },
   "outputs": [
    {
     "data": {
      "text/plain": [
       "(\"xxbos xxmaj admission xxmaj date : [ * * 2179 - 3 - 7 * * ] xxmaj discharge xxmaj date : [ * * 2179 - 3 - 18 * * ] \\n\\n xxmaj date of xxmaj birth : [ * * 2121 - 12 - 23 * * ] xxmaj sex : m \\n\\n xxmaj service : xxup medicine \\n\\n xxmaj allergies : \\n xxmaj ibuprofen \\n\\n attending:[**first xxmaj name3 ( lf ) 613 * * ] \\n xxmaj chief xxmaj complaint : \\n dyspnea , hyperkalemia \\n\\n xxmaj major xxmaj surgical or xxmaj invasive xxmaj procedure : \\n xxmaj hemodialysis \\n right xxmaj femoral central venous line placement and removal \\n\\n\\n xxmaj history of xxmaj present xxmaj illness : \\n 57 y / o m with hx of xxup esrd presents after intentionally missing \\n dialysis for last 9 days . xxmaj came to the xxup ed due to the coaxing of \\n his wife . xxmaj complains of xxup sob and xxup doe lasting about the last five \\n days . xxmaj also has cough with clear sputum production . xxmaj also \\n complains of bilateral pedal edema , xxup r > l , starting around the \\n time xxup sob started . xxmaj no fevers , chills . xxmaj no xxup cp , palpitations . \\n xxmaj denies dizziness , fainting , falls . xxmaj says he stopped going to \\n dialysis for no particular reason , although per xxup ed reports after \\n talking with his wife , it is possible he had passive xxup si . xxmaj no \\n other complaints except for mild nausea . \\n . \\n xxmaj in the xxup ed , his vitals were t 98.0 , xxup bp 130 / 87 , xxup hr 92 , r 22 , 99 % \\n on xxup nrb weaned to room air over course of xxup ed stay . xxmaj he was noted \\n to be hyperkalemic to 8.1 . xxmaj there were no xxup ekg changes . xxmaj he was \\n treated with xxmaj ca , insulin / dextrose , and bicarb . xxmaj he was given \\n kayexcelate but did not have a xxup bm by time of arrival to the \\n floor . xxmaj he was also found to have a xxup rll pneumonia and was \\n treated with azithromycin and ceftriaxone . a l femoral line was \\n placed for access . xxmaj renal team was consulted . \\n . \\n xxmaj on the floor , the patient was feeling well . xxmaj had no complaints . \\n xxmaj no dizziness , nausea , strange taste in mouth , abdominal pain . \\n xxmaj no chest pain , palpitations . xxmaj shortness of breath had resolved . \\n xxmaj he is confused and a poor historian . \\n\\n xxmaj past xxmaj medical xxmaj history : \\n - xxup esrd on xxup hd ( tthsa ) . xxup av fistula in the right arm with \\n complications of clot and thrombectomy last in [ * * 2177 * * ] . xxmaj now with xxup hd \\n\\n line in place . xxmaj undergoing transplant eval with xxmaj dr . [ * * last xxmaj name ( stitle ) * * ] , not \\n yet listed . \\n - xxup htn \\n - xxup dm \\n - xxup cad s / p xxup mi in [ * * 2164 * * ] \\n - a xxmaj fib / xxmaj flutter s / p ablation in [ * * 2173 * * ] \\n - xxmaj morbid obesity \\n - xxmaj sigmoid diverticulosis \\n - hx of entercoccus bacteremia associated with line infection \\n - personality disorder \\n\\n\\n xxmaj social xxmaj history : \\n xxmaj pt lives at home with wife and 2 sons . [ * * name ( ni ) 1403 * * ] part time [ * * street xxmaj address(1 ) xxunk * * ] xxmaj bank . 50pack yr h / o tobacco use , quit in [ * * 2160 * * ] . xxmaj very \\n distant marijuana use , no other drugs , no etoh . \\n\\n\\n xxmaj family xxmaj history : \\n noncontributory \\n\\n\\n xxmaj physical xxmaj exam : \\n xxmaj vitals : t afebrile , p 105 , xxup bp 167 / 86 , r 20 , 97 % on xxup ra \\n xxmaj gen : obese man , resting comfortably , xxup nad , a+ox2 although \\n rambling and not making sense during prolonged interactions \\n xxup heent - xxup atnc , xxup perrla , xxup eomi , moist mucous membranes , xxup jvd \\n difficult to assess secondary to size \\n xxup cv - distant xxup hs , xxrep 3 r , no m , r , g \\n xxmaj lungs - decreased at bases , otherwise xxup cta , no crackles , wheezes \\n xxmaj abd - obese , soft , xxup nt , xxup nd , normoactive bowel sounds \\n xxmaj ext - 2 + pedal edema on xxup r , 1 + on xxup l ; palp pulses , r foot bandaged \\n due to heel ulcer , neither leg tender to palpation \\n xxmaj neuro - xxup cn intact , strength 5 / 5 , + asterixis , not cooperating \\n fully with neuro exam \\n\\n xxmaj pertinent xxmaj results : \\n [ * * 2179 - 3 - 7 * * ] 07:30pm xxup glucose-112 * xxup urea xxup xxunk * xxup xxunk * # \\n xxup sodium-139 xxup potassium-8.1 * xxup chloride-99 xxup total xxup co2 - 19 * xxup anion \\n xxup gap-29 * \\n [ * * 2179 - 3 - 7 * * ] 07:30pm estgfr - using this \\n [ * * 2179 - 3 - 7 * * ] 07:30pm xxup asa - neg xxup ethanol - neg xxup acetmnphn - neg \\n bnzodzpn - neg barbitrt - neg tricyclic - neg \\n [ * * 2179 - 3 - 7 * * ] 07:30pm xxup wbc-11.2 * # xxup rbc-3.73 * xxup hgb-10.7 * xxup hct-32.8 * \\n xxup mcv-88 xxup mch-28.6 xxup mchc-32.5 xxup rdw-15.7 * \\n [ * * 2179 - 3 - 7 * * ] 07:30pm xxup neuts-80.0 * xxup lymphs-10.0 * xxup monos-7.1 xxup eos-2.5 \\n xxup basos-0.4 \\n [ * * 2179 - 3 - 7 * * ] 07:30pm xxup plt xxup count-251 \\n [ * * 2179 - 3 - 7 * * ] 07:30pm xxup pt-14.1 * xxup ptt-37.5 * xxup inr(pt)-1.2 * \\n\\n [ * * 3 - 7 * * ] xxup cxr : \\n xxmaj infiltrate at the right lung base likely indicating infection . \\n xxmaj please ensure followup to clearance . \\n\\n [ * * 3 - 8 * * ] r xxmaj heel xxmaj xray : \\n xxmaj two radiographs of the right heel demonstrate a displaced and \\n angulated \\n fracture involving the posterior calcaneal body and the \\n calcaneal xxunk . \\n xxmaj the superior fracture fragment is displaced approximately 3 cm . \\n xxmaj mild to \\n moderate degenerative change about the osseous structures of the \\n mid foot is noted . xxmaj no discrete soft tissue loss is appreciated . \\n xxmaj no subcutaneous \\n emphysema is seen . xxmaj there is a plantar calcaneal spur . \\n\\n xxup impression : \\n xxmaj displaced calcaneal fracture . \\n\\n [ * * 3 - 10 * * ] : abis \\n xxup right xxup leg : xxmaj there is triphasic flow pattern on the femoral , \\n popliteal and \\n posterior tibial arteries and monophasic flow pattern on the \\n dorsalis pedis \\n artery . xxmaj the segmental limb pressures are mildly reduced on the \\n calf and over \\n xxup dp . xxmaj the ankle brachial index at rest 0.95 . \\n\\n xxup left xxup leg : xxmaj there is triphasic flow pattern on the femoral , \\n popliteal , \\n posterior tibial and dorsalis pedis arteries . xxmaj the segmental limb \\n pressures \\n are unremarkable at all levels . xxmaj the ankle brachial index at rest \\n 1.18 . \\n\\n xxmaj the patient was not exercised . \\n\\n xxup impression : xxmaj mild right tibial distal disease at rest and no \\n evidence of \\n peripheral vascular disease on the left leg . \\n\\n [ * * 3 - 10 * * ] : \\n xxup findings : xxmaj the right common femoral , superficial femoral , and \\n popliteal veins show no evidence of deep vein thrombosis . xxmaj the \\n patient declined examination of the left groin , so the left \\n common femoral vein was not assessed . xxmaj however the left \\n superficial and popliteal veins appear entirely normal . \\n\\n xxup impression : xxmaj no evidence of deep vein thrombosis noting that the \\n patient \\n declined examination of the left groin by the radiologist . \\n\\n xxmaj discharge xxmaj labs : \\n\\n\\n xxmaj brief xxmaj hospital xxmaj course : \\n 57 y / o m with xxup esrd on xxup hd presents after missing 9 days of \\n dialysis , incidentally found to have a right calcaneal xxunk \\n fracture . \\n\\n 1 . xxup esrd : xxmaj the patient was found to be severely hyperkalemic , \\n uremic and encephalopathic on admission to the xxup icu . xxmaj dialysis \\n was re - initiated during this admission and these conditions \\n normalized without permanent sequellae . xxmaj the patient will return \\n to xxmaj monday / xxmaj wednesday / xxmaj friday schedule . \\n\\n 2 . xxmaj right calcaneous fracture : xxmaj the patient was noted to have r \\n lower extremity swelling with a superficial ulcer on exam . xxmaj heel \\n x - ray displayed a calcaneal fracture . lenis negative . xxmaj podiatry , \\n orthopedics & vascular surgery evaluated the patient and \\n determined that [ * * hospital1 * * ] xxunk casting , wound care and non - operative \\n management was indicated . xxmaj the patient will follow with xxmaj dr . [ * * first xxmaj name ( stitle ) 3209 * * ] \\n of podiatry . xxmaj he should continue prophylactic xxup sc heparin \\n injections until fully ambulatory to prevent xxup dvt . \\n\\n 3 . xxmaj diabetes : xxmaj patient was initially hypoglycemic for unclear \\n reasons on initial presentation . xxmaj during his hospital course , \\n however , his glucose was persistently elevated and his basal \\n 70 / 30 insulin was titrated up . xxmaj his blood sugars should be \\n monitored four times daily with sliding scale coverage of blood \\n sugars per the attached sliding scale . \\n\\n 4 . xxmaj cough : xxmaj the patient displayed some dyspnea and a cough . \\n xxmaj initial xxup cxr indicated a possible pneumonia for which he was \\n started on xxmaj ceftriaxone and azithromycin . xxmaj upon reevaluation on \\n the medical floor the event was likely aspiration pneumonitis \\n due to clearing of x - ray and antibiotics were stopped . xxmaj the \\n patient was continued on tessalon perles and guaifenisin as \\n needed . \\n\\n 5 . xxmaj psych : xxmaj throughout the admission the patient intermittently \\n claimed passive suicidality without true ideation or intention . \\n xxmaj his mood rapidly cycled first due to delerium and then due to \\n baseline pathology . xxmaj the patient was very labile with frequent \\n outbursts and demands during his hospital stay . xxmaj psychiatry was \\n consulted and cleared him from 1:1 sitter on which he was \\n initially placed . xxmaj he should contact the [ * * name2 ( ni ) * * ] to set up follow up \\n with a counselor if he chooses . \\n\\n 6 . xxup htn : xxmaj the patient was conitnued on metoprolol & lisinopril . \\n xxmaj he was normotensive to borderline hypotensive after dialysis . \\n\\n 7 . xxup cad : xxmaj the patient was continued on xxmaj aspirin & metoprolol . \\n\\n 7 . xxmaj prophylaxis : xxmaj patient received heparin xxup sq during his admission \\n which should be continued as above . \\n\\n xxmaj medications on xxmaj admission : \\n xxmaj humulin 70 / 30 45 u [ * * hospital1 * * ] \\n xxmaj asa 325 mg daily \\n xxmaj lisinopril 5 mg daily \\n xxmaj hydroxyzine 50 mg tid xxup prn \\n xxmaj metoprolol xxup sr 25 mg daily \\n xxunk - c complex daily \\n phoslo 667 caps , 3 caps tid \\n xxmaj folic xxmaj acid 1 mg daily \\n\\n\\n xxmaj discharge xxmaj medications : \\n 1 . xxmaj insulin xxup nph & xxmaj regular xxmaj human 100 unit / ml ( 70 - 30 ) xxmaj cartridge \\n xxmaj sig : xxmaj as directed xxmaj units xxmaj subcutaneous twice a day : xxmaj please take 54 \\n u in the morning and 50 u in the evening . \\n 2 . xxmaj aspirin 325 mg xxmaj tablet xxmaj sig : xxmaj one ( 1 ) xxmaj tablet xxup po xxup daily ( daily ) . \\n 3 . xxmaj lisinopril 5 mg xxmaj tablet xxmaj sig : xxmaj one ( 1 ) xxmaj tablet xxup po xxup daily ( daily ) . \\n\\n 4 . xxmaj hydroxyzine hcl 25 mg xxmaj tablet xxmaj sig : xxmaj two ( 2 ) xxmaj tablet xxup po every \\n eight ( 8) hours as needed . \\n 5 . xxmaj metoprolol xxmaj tartrate 25 mg xxmaj tablet xxmaj sig : [ * * 1 - 15 * * ] xxmaj tablet xxup po xxup bid ( 2 \\n times a day ) . \\n 6 . xxmaj nephrocaps 1 mg xxmaj capsule xxmaj sig : xxmaj one ( 1 ) xxmaj capsule xxup po once a day . \\n 7 . xxmaj calcium xxmaj acetate 667 mg xxmaj capsule xxmaj sig : xxmaj three ( 3 ) xxmaj capsule xxup po xxup tid \\n w / xxup meals ( 3 xxup times a xxup day xxup with xxup meals ) . \\n 8 . xxmaj folic xxmaj acid 1 mg xxmaj tablet xxmaj sig : xxmaj one ( 1 ) xxmaj tablet xxup po xxup daily ( daily ) . \\n\\n 9 . xxup insulin \\n xxmaj please continue your 70 / 30 insulin with 54 u in the morning and \\n 50 u at night . xxmaj this is an increase from your previous dose . xxmaj you \\n need to check your blood sugars four times per day . \\n\\n xxmaj please continue humalog sliding scale insulin while at rehab \\n with the attached sliding scale . \\n 10 . xxmaj heparin ( porcine ) 5 , xxrep 3 0 unit / ml xxmaj syringe xxmaj sig : 5 xxrep 3 0 ( 5 xxrep 3 0 ) u \\n xxmaj injection three times a day : xxmaj until fully ambulatory . \\n\\n\\n xxmaj discharge xxmaj disposition : \\n xxmaj extended xxmaj care \\n\\n xxmaj facility : \\n [ * * hospital3 672 * * ] xxmaj hospital \\n\\n xxmaj discharge xxmaj diagnosis : \\n xxmaj primary xxmaj diagnosis : \\n 1 . chronic kidney disease stage xxup v , on xxup hd \\n 2 . xxmaj suicidality , resolved \\n 3 . r calcaneal fracture \\n\\n xxmaj secondary xxmaj diagnosis \\n 1 . xxmaj hypertension \\n 2 . xxmaj diabetes mellitus type xxup ii , uncontrolled with complications \\n 3 . xxmaj personality disorder not otherwise specified \\n\\n\\n xxmaj discharge xxmaj condition : \\n xxmaj afebrile , normotensive , comfortable on room air \\n\\n\\n xxmaj discharge xxmaj instructions : \\n 1 . xxmaj you have been admitted to the hospital because of an extended \\n period without hemodialysis . xxmaj while you were here we xxunk \\n you on hemodialysis and you will return to a xxmaj monday , xxmaj wednesday , \\n xxmaj friday xxmaj schedule . \\n\\n 2 . xxmaj also while you were here it was noted that you have developed \\n a right heel fracture at some point likely within the last two \\n weeks . xxmaj our xxunk & orthopedic surgeons were consulted and \\n recommended a cast with regular dressing changes for your ulcer . \\n▁ xxmaj no surgery is indicated at this time . xxmaj you were also evaluated \\n by the xxunk therapists , who recommended that you go to a \\n rehab facility . \\n\\n 3 . xxmaj suicidality : xxmaj you also expressed some suicidality during your \\n admission and were evaluated by psychiatry . xxmaj if you develop \\n worsening feelings of hurting yourself or others , go to your \\n local xxmaj emergency xxmaj department or call 911 immediately . \\n\\n 4 . xxmaj unless otherwise indicated , please resume all of your \\n medications as taken prior to admission . xxmaj it is very important \\n that you take your medications as prescribed . \\n\\n 5 . xxmaj please follow rehab 's instructions regarding your xxmaj right foot , \\n to keep the weight off as directed . \\n\\n 6 . xxmaj please call your doctor or 911 if you experience suicidal \\n thoughts , chest pain , shortness of breath or any other \\n concerning medical symptom . \\n\\n xxmaj followup xxmaj instructions : \\n xxmaj hemodialysis as previously scheduled xxmaj monday , xxmaj wednesday , xxmaj friday \\n\\n xxmaj please follow up with xxmaj dr . [ * * first xxmaj name ( stitle ) * * ] in the the xxmaj podiatry department \\n on [ * * 2179 - 4 - 2 * * ] . xxmaj provider : [ * * first xxmaj name11 ( name xxmaj pattern1 ) 3210 * * ] [ * * initial ( namepattern1 ) * * ] [ * * last xxmaj name ( namepattern4 ) * * ] , xxup dpm \\n phone:[**telephone / xxmaj fax ( 1 ) 543 * * ] xxmaj date / xxmaj time:[**2179 - 4 - 2 * * ] 1:00 \\n\\n xxmaj please contact your provider at the xxup va in [ * * location 1268 * * ] if you \\n desire counseling in the future . \\n\\n xxmaj please contact your xxup pcp , [ * * last xxmaj name ( namepattern4 ) * * ] . [ * * last xxmaj name ( stitle ) xxunk * * ] , for a follow up \\n appointment within the next two weeks at [ * * telephone / xxmaj fax ( 1 ) 9075 * * ] . \\n\\n\\n▁ [ * * first xxmaj name5 ( namepattern1 ) * * ] [ * * last xxmaj name ( namepattern1 ) * * ] xxup md [ * * md xxmaj number(2 ) 617 * * ] \\n\\n xxmaj completed by:[**2179 - 3 - 18 * * ]\",\n",
       " (#25) ['276.7','585.6','348.39','790.7','427.32','507.0','403.10','825.0','E888.9','300.9'...])"
      ]
     },
     "execution_count": 28,
     "metadata": {},
     "output_type": "execute_result"
    }
   ],
   "source": [
    "dsets.decode(dsets.train[0])"
   ]
  },
  {
   "cell_type": "markdown",
   "id": "590223c9-1d6e-49c8-97ee-0d435d6dcdeb",
   "metadata": {},
   "source": [
    "Looks fine!"
   ]
  },
  {
   "cell_type": "markdown",
   "id": "ffa183f7-deb7-474c-918c-dc0bfdcad313",
   "metadata": {
    "jp-MarkdownHeadingCollapsed": true,
    "tags": []
   },
   "source": [
    "#### 3. Making the `DataLoaders` object:"
   ]
  },
  {
   "cell_type": "markdown",
   "id": "1bc58a2c-86ac-46e5-9537-b57345e15ae3",
   "metadata": {},
   "source": [
    "We need to pick the sequence length and the batch size:"
   ]
  },
  {
   "cell_type": "code",
   "execution_count": 29,
   "id": "3006edfb-5aa5-4dc7-b6a6-84ec2e847fd2",
   "metadata": {},
   "outputs": [],
   "source": [
    "bs, sl = 16, 72"
   ]
  },
  {
   "cell_type": "markdown",
   "id": "0c839970-bff7-424b-a3b9-1b83201b6c61",
   "metadata": {},
   "source": [
    "We will use the `dl_type` argument of the `DataLoaders`. The purpose is to tell `DataLoaders` to use `SortedDL` class of the `DataLoader`, and not the usual one. `SortedDL` constructs batches by putting samples of roughly the same lengths into batches."
   ]
  },
  {
   "cell_type": "code",
   "execution_count": 30,
   "id": "8ad1e449-8185-41b5-99fc-604e6aa4b110",
   "metadata": {},
   "outputs": [],
   "source": [
    "dl_type = partial(SortedDL, shuffle=True)"
   ]
  },
  {
   "cell_type": "markdown",
   "id": "cac50bd5-d25c-4dfc-9b7e-190439ca1d2a",
   "metadata": {},
   "source": [
    "**Crucial:** \n",
    "- We will use **`pad_input_chunk`** because our encoder `AWD_LSTM` will be wrapped inside `SentenceEncoder`. \n",
    "- A `SenetenceEncoder` expects that all the documents are padded, \n",
    "- with most of the padding at the beginning of the document, with each sequence beginning at a round multiple of bptt\n",
    "- and the rest of the padding at the end."
   ]
  },
  {
   "cell_type": "code",
   "execution_count": 31,
   "id": "c7a6cb3b-8056-4d9a-9270-7cba306c02cc",
   "metadata": {},
   "outputs": [],
   "source": [
    "dls_clas = dsets.dataloaders(bs=bs, seq_len=sl, \n",
    "                        dl_type=dl_type,\n",
    "                       before_batch=pad_input_chunk)"
   ]
  },
  {
   "cell_type": "markdown",
   "id": "770391b3-1f52-48d7-909d-741a31c548a2",
   "metadata": {},
   "source": [
    "Creating the `DataLoaders` object takes considerable amount of time, so let's save it:"
   ]
  },
  {
   "cell_type": "code",
   "execution_count": 23,
   "id": "41956b2e-284f-45a4-8e5c-98b5b0929f92",
   "metadata": {},
   "outputs": [],
   "source": [
    "torch.save(dls_clas, path_model/'caml_dls_clas_sample_10percent_16.pkl')"
   ]
  },
  {
   "cell_type": "markdown",
   "id": "f5c0583f-6ab7-487b-9da4-4e84df7c9c27",
   "metadata": {},
   "source": [
    "Let's take a look at the data:"
   ]
  },
  {
   "cell_type": "code",
   "execution_count": 32,
   "id": "cf2904a3-4867-4620-a127-16599c825c89",
   "metadata": {
    "collapsed": true,
    "jupyter": {
     "outputs_hidden": true
    },
    "tags": []
   },
   "outputs": [
    {
     "name": "stderr",
     "output_type": "stream",
     "text": [
      "/home/deb/miniconda3/lib/python3.9/site-packages/fastai/torch_core.py:475: FutureWarning: The series.append method is deprecated and will be removed from pandas in a future version. Use pandas.concat instead.\n",
      "  ax = ax.append(pd.Series({label: o}))\n",
      "/home/deb/miniconda3/lib/python3.9/site-packages/fastai/torch_core.py:475: FutureWarning: The series.append method is deprecated and will be removed from pandas in a future version. Use pandas.concat instead.\n",
      "  ax = ax.append(pd.Series({label: o}))\n",
      "/home/deb/miniconda3/lib/python3.9/site-packages/fastai/torch_core.py:475: FutureWarning: The series.append method is deprecated and will be removed from pandas in a future version. Use pandas.concat instead.\n",
      "  ax = ax.append(pd.Series({label: o}))\n",
      "/home/deb/miniconda3/lib/python3.9/site-packages/fastai/torch_core.py:475: FutureWarning: The series.append method is deprecated and will be removed from pandas in a future version. Use pandas.concat instead.\n",
      "  ax = ax.append(pd.Series({label: o}))\n",
      "/home/deb/miniconda3/lib/python3.9/site-packages/fastai/torch_core.py:475: FutureWarning: The series.append method is deprecated and will be removed from pandas in a future version. Use pandas.concat instead.\n",
      "  ax = ax.append(pd.Series({label: o}))\n",
      "/home/deb/miniconda3/lib/python3.9/site-packages/fastai/torch_core.py:475: FutureWarning: The series.append method is deprecated and will be removed from pandas in a future version. Use pandas.concat instead.\n",
      "  ax = ax.append(pd.Series({label: o}))\n"
     ]
    },
    {
     "data": {
      "text/html": [
       "<table border=\"1\" class=\"dataframe\">\n",
       "  <thead>\n",
       "    <tr style=\"text-align: right;\">\n",
       "      <th></th>\n",
       "      <th>text</th>\n",
       "      <th>None</th>\n",
       "    </tr>\n",
       "  </thead>\n",
       "  <tbody>\n",
       "    <tr>\n",
       "      <th>0</th>\n",
       "      <td>xxbos xxmaj admission xxmaj date : [ * * 2127 - 5 - 12 * * ] xxmaj discharge xxmaj date : [ * * 2127 - 5 - 21 * * ] \\n\\n xxmaj date of xxmaj birth : [ * * 2074 - 1 - 7 * * ] xxmaj sex : m \\n\\n xxmaj service : xxup medicine \\n\\n xxmaj allergies : \\n xxmaj penicillins / xxmaj sulfa ( sulfonamides ) \\n\\n attending:[**first xxmaj name3 ( lf ) 4028 * * ] \\n xxmaj chief xxmaj complaint : \\n xxmaj lethargy , persistent sinus tachycardia . \\n\\n xxmaj major xxmaj surgical or xxmaj invasive xxmaj procedure : \\n xxmaj none . \\n\\n xxmaj history of xxmaj present xxmaj illness : \\n xxmaj mr . [ * * known lastname xxunk * * ] is a 53 year old male with xxup hiv ( cd4 352 one month</td>\n",
       "      <td>348.39;305.1;427.89;584.9;599.0;008.45;995.92;041.6;296.80;785.52;V12.04;332.0;042;304.01;038.8;304.21</td>\n",
       "    </tr>\n",
       "    <tr>\n",
       "      <th>1</th>\n",
       "      <td>xxpad xxpad xxpad xxpad xxpad xxpad xxpad xxpad xxpad xxpad xxpad xxpad xxpad xxpad xxpad xxpad xxpad xxpad xxpad xxpad xxpad xxpad xxpad xxpad xxpad xxpad xxpad xxpad xxpad xxpad xxpad xxpad xxpad xxpad xxpad xxpad xxpad xxpad xxpad xxpad xxpad xxpad xxpad xxpad xxpad xxpad xxpad xxpad xxpad xxpad xxpad xxpad xxpad xxpad xxpad xxpad xxpad xxpad xxpad xxpad xxpad xxpad xxpad xxpad xxpad xxpad xxpad xxpad xxpad xxpad xxpad xxpad xxpad xxpad xxpad xxpad xxpad xxpad xxpad xxpad xxpad xxpad xxpad xxpad xxpad xxpad xxpad xxpad xxpad xxpad xxpad xxpad xxpad xxpad xxpad xxpad xxpad xxpad xxpad xxpad xxpad xxpad xxpad xxpad xxpad xxpad xxpad xxpad xxpad xxpad xxpad xxpad xxpad xxpad xxpad xxpad xxpad xxpad xxpad xxpad xxpad xxpad xxpad xxpad xxpad xxpad xxpad xxpad xxpad xxpad xxpad xxpad xxpad xxpad xxpad xxpad xxpad xxpad xxpad xxpad xxpad xxpad xxpad xxpad xxpad xxpad xxpad xxpad xxpad xxpad</td>\n",
       "      <td>427.31;39.95;38.93;45.13;414.01;96.72;518.81;428.0;244.9;99.04;535.50;584.9;250.00;88.72;38.95;038.0;008.45;999.9;31.1;96.6;412;V45.82;43.11;493.90;995.92;255.41;276.0;14.0;428.32;287.4;593.9;482.1;790.5;078.5;459.0</td>\n",
       "    </tr>\n",
       "    <tr>\n",
       "      <th>2</th>\n",
       "      <td>xxpad xxpad xxpad xxpad xxpad xxpad xxpad xxpad xxpad xxpad xxpad xxpad xxpad xxpad xxpad xxpad xxpad xxpad xxpad xxpad xxpad xxpad xxpad xxpad xxpad xxpad xxpad xxpad xxpad xxpad xxpad xxpad xxpad xxpad xxpad xxpad xxpad xxpad xxpad xxpad xxpad xxpad xxpad xxpad xxpad xxpad xxpad xxpad xxpad xxpad xxpad xxpad xxpad xxpad xxpad xxpad xxpad xxpad xxpad xxpad xxpad xxpad xxpad xxpad xxpad xxpad xxpad xxpad xxpad xxpad xxpad xxpad xxpad xxpad xxpad xxpad xxpad xxpad xxpad xxpad xxpad xxpad xxpad xxpad xxpad xxpad xxpad xxpad xxpad xxpad xxpad xxpad xxpad xxpad xxpad xxpad xxpad xxpad xxpad xxpad xxpad xxpad xxpad xxpad xxpad xxpad xxpad xxpad xxpad xxpad xxpad xxpad xxpad xxpad xxpad xxpad xxpad xxpad xxpad xxpad xxpad xxpad xxpad xxpad xxpad xxpad xxpad xxpad xxpad xxpad xxpad xxpad xxpad xxpad xxpad xxpad xxpad xxpad xxpad xxpad xxpad xxpad xxpad xxpad xxpad xxpad xxpad xxpad xxpad xxpad</td>\n",
       "      <td>348.39;427.32;427.31;276.8;V10.05;V15.82;401.9;272.0;414.01;300.00;599.0;96.6;238.71;V45.82;345.90;V58.61;438.11;041.04;432.1;13.1;518.4</td>\n",
       "    </tr>\n",
       "  </tbody>\n",
       "</table>"
      ],
      "text/plain": [
       "<IPython.core.display.HTML object>"
      ]
     },
     "metadata": {},
     "output_type": "display_data"
    }
   ],
   "source": [
    "dls_clas.show_batch(max_n=3)"
   ]
  },
  {
   "cell_type": "code",
   "execution_count": 24,
   "id": "1d76df67-9bda-4f2a-94b1-4d93d9ffe24e",
   "metadata": {},
   "outputs": [],
   "source": [
    "dls_clas = torch.load(path_model/'caml_dls_clas_sample_10percent_32.pkl')"
   ]
  },
  {
   "cell_type": "markdown",
   "id": "e79e1e03-6c61-4d29-a09c-ffd9e5d2e0ba",
   "metadata": {},
   "source": [
    "---"
   ]
  },
  {
   "cell_type": "code",
   "execution_count": 41,
   "id": "ebafb936-1f29-4ea4-87ed-6f102529cec7",
   "metadata": {},
   "outputs": [],
   "source": [
    "dls_iter = iter(dls_clas.train)"
   ]
  },
  {
   "cell_type": "code",
   "execution_count": 67,
   "id": "f3d00c22-2781-486b-a409-3c1a1847b420",
   "metadata": {},
   "outputs": [],
   "source": [
    "x, y = next(dls_iter)"
   ]
  },
  {
   "cell_type": "code",
   "execution_count": 68,
   "id": "f5122df4-1d15-4622-88cc-0b5f42e7a2da",
   "metadata": {},
   "outputs": [
    {
     "data": {
      "text/plain": [
       "torch.Size([1106])"
      ]
     },
     "execution_count": 68,
     "metadata": {},
     "output_type": "execute_result"
    }
   ],
   "source": [
    "x[23].shape"
   ]
  },
  {
   "cell_type": "markdown",
   "id": "fccfa03d-92f7-4b7d-9300-72591f14095b",
   "metadata": {},
   "source": [
    "---"
   ]
  },
  {
   "cell_type": "markdown",
   "id": "d166b7ee-ea08-4c26-a1e8-edf20be3bb7f",
   "metadata": {
    "jp-MarkdownHeadingCollapsed": true,
    "tags": []
   },
   "source": [
    "## `Learner` for Multi-Label Classifier Fine-Tuning"
   ]
  },
  {
   "cell_type": "code",
   "execution_count": 6,
   "id": "ee765ff8-5b20-4067-9afd-24448a31c48f",
   "metadata": {},
   "outputs": [],
   "source": [
    "dls_clas = torch.load(path_model/'caml_dls_clas_sample_10percent_16.pkl')"
   ]
  },
  {
   "cell_type": "code",
   "execution_count": 7,
   "id": "6811d36e-21f6-494d-88b4-0c7172175373",
   "metadata": {
    "tags": []
   },
   "outputs": [],
   "source": [
    "learn = text_classifier_learner(dls_clas, AWD_LSTM, drop_mult=0.1, max_len=72*40, metrics=PrecisionK).to_fp16()"
   ]
  },
  {
   "cell_type": "code",
   "execution_count": 8,
   "id": "7d49642b-30ce-42f3-9ef8-16d20c385053",
   "metadata": {},
   "outputs": [],
   "source": [
    "learn = learn.load_encoder(path_model/'caml_lm_finetuned')"
   ]
  },
  {
   "cell_type": "code",
   "execution_count": 9,
   "id": "10631b8b-472c-47f5-b5b4-cdc1e7d2f46b",
   "metadata": {
    "collapsed": true,
    "jupyter": {
     "outputs_hidden": true
    },
    "tags": []
   },
   "outputs": [
    {
     "data": {
      "text/plain": [
       "\u001b[0;31mInit signature:\u001b[0m \u001b[0mdecoder\u001b[0m\u001b[0;34m(\u001b[0m\u001b[0mdims\u001b[0m\u001b[0;34m,\u001b[0m \u001b[0mps\u001b[0m\u001b[0;34m,\u001b[0m \u001b[0mbptt\u001b[0m\u001b[0;34m,\u001b[0m \u001b[0my_range\u001b[0m\u001b[0;34m=\u001b[0m\u001b[0;32mNone\u001b[0m\u001b[0;34m)\u001b[0m\u001b[0;34m\u001b[0m\u001b[0;34m\u001b[0m\u001b[0m\n",
       "\u001b[0;31mDocstring:\u001b[0m      Same as `nn.Module`, but no need for subclasses to call `super().__init__`\n",
       "\u001b[0;31mSource:\u001b[0m        \n",
       "\u001b[0;32mclass\u001b[0m \u001b[0mLabelAttentionClassifier\u001b[0m\u001b[0;34m(\u001b[0m\u001b[0mModule\u001b[0m\u001b[0;34m)\u001b[0m\u001b[0;34m:\u001b[0m\u001b[0;34m\u001b[0m\n",
       "\u001b[0;34m\u001b[0m    \u001b[0;32mdef\u001b[0m \u001b[0m__init__\u001b[0m\u001b[0;34m(\u001b[0m\u001b[0mself\u001b[0m\u001b[0;34m,\u001b[0m \u001b[0mdims\u001b[0m\u001b[0;34m,\u001b[0m \u001b[0mps\u001b[0m\u001b[0;34m,\u001b[0m \u001b[0mbptt\u001b[0m\u001b[0;34m,\u001b[0m \u001b[0my_range\u001b[0m\u001b[0;34m=\u001b[0m\u001b[0;32mNone\u001b[0m\u001b[0;34m)\u001b[0m\u001b[0;34m:\u001b[0m\u001b[0;34m\u001b[0m\n",
       "\u001b[0;34m\u001b[0m        \u001b[0mself\u001b[0m\u001b[0;34m.\u001b[0m\u001b[0mlbs\u001b[0m \u001b[0;34m=\u001b[0m \u001b[0mdims\u001b[0m\u001b[0;34m[\u001b[0m\u001b[0;34m-\u001b[0m\u001b[0;36m1\u001b[0m\u001b[0;34m]\u001b[0m\u001b[0;34m\u001b[0m\n",
       "\u001b[0;34m\u001b[0m        \u001b[0mself\u001b[0m\u001b[0;34m.\u001b[0m\u001b[0mfts\u001b[0m \u001b[0;34m=\u001b[0m \u001b[0mdims\u001b[0m\u001b[0;34m[\u001b[0m\u001b[0;36m0\u001b[0m\u001b[0;34m]\u001b[0m\u001b[0;34m//\u001b[0m\u001b[0;36m3\u001b[0m\u001b[0;34m\u001b[0m\n",
       "\u001b[0;34m\u001b[0m        \u001b[0;31m# self.layers = LinBnDrop(self.lbs, self.fts, p=ps, act=None) # wrong_deb\u001b[0m\u001b[0;34m\u001b[0m\n",
       "\u001b[0;34m\u001b[0m\u001b[0;34m\u001b[0m\n",
       "\u001b[0;34m\u001b[0m        \u001b[0;31m# ps = 0.1 # deb\u001b[0m\u001b[0;34m\u001b[0m\n",
       "\u001b[0;34m\u001b[0m        \u001b[0mself\u001b[0m\u001b[0;34m.\u001b[0m\u001b[0mlayers\u001b[0m \u001b[0;34m=\u001b[0m \u001b[0mLinBnDrop\u001b[0m\u001b[0;34m(\u001b[0m\u001b[0mself\u001b[0m\u001b[0;34m.\u001b[0m\u001b[0mlbs\u001b[0m\u001b[0;34m,\u001b[0m \u001b[0mln\u001b[0m\u001b[0;34m=\u001b[0m\u001b[0;32mFalse\u001b[0m\u001b[0;34m,\u001b[0m \u001b[0mp\u001b[0m\u001b[0;34m=\u001b[0m\u001b[0mps\u001b[0m\u001b[0;34m,\u001b[0m \u001b[0mact\u001b[0m\u001b[0;34m=\u001b[0m\u001b[0;32mNone\u001b[0m\u001b[0;34m)\u001b[0m \u001b[0;31m# deb\u001b[0m\u001b[0;34m\u001b[0m\n",
       "\u001b[0;34m\u001b[0m        \u001b[0mself\u001b[0m\u001b[0;34m.\u001b[0m\u001b[0mbptt\u001b[0m \u001b[0;34m=\u001b[0m \u001b[0mbptt\u001b[0m\u001b[0;34m\u001b[0m\n",
       "\u001b[0;34m\u001b[0m        \u001b[0mself\u001b[0m\u001b[0;34m.\u001b[0m\u001b[0memb_label\u001b[0m \u001b[0;34m=\u001b[0m \u001b[0mEmbedding\u001b[0m\u001b[0;34m(\u001b[0m\u001b[0mself\u001b[0m\u001b[0;34m.\u001b[0m\u001b[0mlbs\u001b[0m\u001b[0;34m,\u001b[0m \u001b[0mself\u001b[0m\u001b[0;34m.\u001b[0m\u001b[0mfts\u001b[0m\u001b[0;34m)\u001b[0m \u001b[0;31m# deb\u001b[0m\u001b[0;34m\u001b[0m\n",
       "\u001b[0;34m\u001b[0m        \u001b[0mself\u001b[0m\u001b[0;34m.\u001b[0m\u001b[0mfinal_lin\u001b[0m \u001b[0;34m=\u001b[0m \u001b[0mnn\u001b[0m\u001b[0;34m.\u001b[0m\u001b[0mLinear\u001b[0m\u001b[0;34m(\u001b[0m\u001b[0mself\u001b[0m\u001b[0;34m.\u001b[0m\u001b[0mfts\u001b[0m\u001b[0;34m,\u001b[0m \u001b[0mself\u001b[0m\u001b[0;34m.\u001b[0m\u001b[0mlbs\u001b[0m\u001b[0;34m)\u001b[0m\u001b[0;34m\u001b[0m\n",
       "\u001b[0;34m\u001b[0m\u001b[0;34m\u001b[0m\n",
       "\u001b[0;34m\u001b[0m    \u001b[0;32mdef\u001b[0m \u001b[0mforward\u001b[0m\u001b[0;34m(\u001b[0m\u001b[0mself\u001b[0m\u001b[0;34m,\u001b[0m \u001b[0minput\u001b[0m\u001b[0;34m)\u001b[0m\u001b[0;34m:\u001b[0m\u001b[0;34m\u001b[0m\n",
       "\u001b[0;34m\u001b[0m        \u001b[0mout\u001b[0m\u001b[0;34m,\u001b[0m \u001b[0m_\u001b[0m \u001b[0;34m=\u001b[0m \u001b[0minput\u001b[0m\u001b[0;34m\u001b[0m\n",
       "\u001b[0;34m\u001b[0m        \u001b[0;31m# x = masked_concat_pool(out, mask, self.bptt)\u001b[0m\u001b[0;34m\u001b[0m\n",
       "\u001b[0;34m\u001b[0m\u001b[0;34m\u001b[0m\n",
       "\u001b[0;34m\u001b[0m        \u001b[0mbs\u001b[0m \u001b[0;34m=\u001b[0m \u001b[0mout\u001b[0m\u001b[0;34m.\u001b[0m\u001b[0mshape\u001b[0m\u001b[0;34m[\u001b[0m\u001b[0;36m0\u001b[0m\u001b[0;34m]\u001b[0m\u001b[0;34m\u001b[0m\n",
       "\u001b[0;34m\u001b[0m        \u001b[0;31m# ctx = out.new_zeros((bs, self.lbs, self.fts))\u001b[0m\u001b[0;34m\u001b[0m\n",
       "\u001b[0;34m\u001b[0m        \u001b[0;31m# for out_split in torch.split(out, 1, dim=1):\u001b[0m\u001b[0;34m\u001b[0m\n",
       "\u001b[0;34m\u001b[0m        \u001b[0mattn_wgts\u001b[0m \u001b[0;34m=\u001b[0m \u001b[0mout\u001b[0m \u001b[0;34m@\u001b[0m \u001b[0mself\u001b[0m\u001b[0;34m.\u001b[0m\u001b[0memb_label\u001b[0m\u001b[0;34m.\u001b[0m\u001b[0mweight\u001b[0m\u001b[0;34m.\u001b[0m\u001b[0mtranspose\u001b[0m\u001b[0;34m(\u001b[0m\u001b[0;36m0\u001b[0m\u001b[0;34m,\u001b[0m \u001b[0;36m1\u001b[0m\u001b[0;34m)\u001b[0m \u001b[0;31m# deb\u001b[0m\u001b[0;34m\u001b[0m\n",
       "\u001b[0;34m\u001b[0m        \u001b[0mattn_wgts\u001b[0m \u001b[0;34m=\u001b[0m \u001b[0mF\u001b[0m\u001b[0;34m.\u001b[0m\u001b[0msoftmax\u001b[0m\u001b[0;34m(\u001b[0m\u001b[0mattn_wgts\u001b[0m\u001b[0;34m,\u001b[0m \u001b[0;36m1\u001b[0m\u001b[0;34m)\u001b[0m \u001b[0;31m# deb\u001b[0m\u001b[0;34m\u001b[0m\n",
       "\u001b[0;34m\u001b[0m        \u001b[0;31m# attn_wgts = torch.nn.functional.log_softmax(attn_wgts, 1) # deb\u001b[0m\u001b[0;34m\u001b[0m\n",
       "\u001b[0;34m\u001b[0m        \u001b[0;31m# attn_wgts = torch.log(attn_wgts)/(attn_wgts.sum(dim=1, keepdim=True) + 1e-12)\u001b[0m\u001b[0;34m\u001b[0m\n",
       "\u001b[0;34m\u001b[0m        \u001b[0;31m# attn_wgts[torch.isnan(attn_wgts)] = tensor(0.)\u001b[0m\u001b[0;34m\u001b[0m\n",
       "\u001b[0;34m\u001b[0m        \u001b[0;31m# attn_wgts = torch.nn.functional.normalize(torch.log(attn_wgts), dim=1)\u001b[0m\u001b[0;34m\u001b[0m\n",
       "\u001b[0;34m\u001b[0m        \u001b[0mctx\u001b[0m \u001b[0;34m=\u001b[0m \u001b[0mattn_wgts\u001b[0m\u001b[0;34m.\u001b[0m\u001b[0mtranspose\u001b[0m\u001b[0;34m(\u001b[0m\u001b[0;36m1\u001b[0m\u001b[0;34m,\u001b[0m\u001b[0;36m2\u001b[0m\u001b[0;34m)\u001b[0m \u001b[0;34m@\u001b[0m \u001b[0mout\u001b[0m \u001b[0;31m# deb\u001b[0m\u001b[0;34m\u001b[0m\n",
       "\u001b[0;34m\u001b[0m\u001b[0;34m\u001b[0m\n",
       "\u001b[0;34m\u001b[0m        \u001b[0mx\u001b[0m \u001b[0;34m=\u001b[0m \u001b[0mself\u001b[0m\u001b[0;34m.\u001b[0m\u001b[0mlayers\u001b[0m\u001b[0;34m(\u001b[0m\u001b[0mctx\u001b[0m\u001b[0;34m)\u001b[0m\u001b[0;34m\u001b[0m\n",
       "\u001b[0;34m\u001b[0m        \u001b[0;31m# x = self.final_lin.weight.mul(x).sum(dim=2).add(self.final_lin.bias) #missed_deb\u001b[0m\u001b[0;34m\u001b[0m\n",
       "\u001b[0;34m\u001b[0m        \u001b[0mx\u001b[0m \u001b[0;34m=\u001b[0m \u001b[0;34m(\u001b[0m\u001b[0mself\u001b[0m\u001b[0;34m.\u001b[0m\u001b[0mfinal_lin\u001b[0m\u001b[0;34m.\u001b[0m\u001b[0mweight\u001b[0m \u001b[0;34m*\u001b[0m \u001b[0mx\u001b[0m\u001b[0;34m)\u001b[0m\u001b[0;34m.\u001b[0m\u001b[0msum\u001b[0m\u001b[0;34m(\u001b[0m\u001b[0mdim\u001b[0m\u001b[0;34m=\u001b[0m\u001b[0;36m2\u001b[0m\u001b[0;34m)\u001b[0m\u001b[0;34m\u001b[0m\n",
       "\u001b[0;34m\u001b[0m\u001b[0;34m\u001b[0m\n",
       "\u001b[0;34m\u001b[0m        \u001b[0;31m# x = x.view(x.shape[0], x.shape[1])\u001b[0m\u001b[0;34m\u001b[0m\n",
       "\u001b[0;34m\u001b[0m        \u001b[0;32mreturn\u001b[0m \u001b[0mx\u001b[0m\u001b[0;34m,\u001b[0m \u001b[0mout\u001b[0m\u001b[0;34m,\u001b[0m \u001b[0mout\u001b[0m\u001b[0;34m\u001b[0m\u001b[0;34m\u001b[0m\u001b[0m\n",
       "\u001b[0;31mFile:\u001b[0m           ~/xcube/nbs/examples/mimic/xcube/text/models/core.py\n",
       "\u001b[0;31mType:\u001b[0m           PrePostInitMeta\n",
       "\u001b[0;31mSubclasses:\u001b[0m     \n"
      ]
     },
     "metadata": {},
     "output_type": "display_data"
    }
   ],
   "source": [
    "decoder = (learn.model[1].__class__)\n",
    "decoder??"
   ]
  },
  {
   "cell_type": "markdown",
   "id": "83cff705-aca6-41b7-b4cd-40ecb085fdae",
   "metadata": {
    "jp-MarkdownHeadingCollapsed": true,
    "tags": []
   },
   "source": [
    "## Fine-Tuning the Classifier "
   ]
  },
  {
   "cell_type": "code",
   "execution_count": 27,
   "id": "c3524df5-a4a9-44fc-9129-4f5f7d715b42",
   "metadata": {},
   "outputs": [],
   "source": [
    "# lr_min, lr_steep, lr_valley, lr_slide = learn.lr_find(suggest_funcs=(minimum, steep, valley, slide))\n",
    "# lr_min, lr_steep, lr_valley, lr_slide"
   ]
  },
  {
   "cell_type": "code",
   "execution_count": 10,
   "id": "5b084244-af5c-4677-9df5-ae4ad7b89d6d",
   "metadata": {},
   "outputs": [
    {
     "data": {
      "text/html": [
       "<table border=\"1\" class=\"dataframe\">\n",
       "  <thead>\n",
       "    <tr style=\"text-align: left;\">\n",
       "      <th>epoch</th>\n",
       "      <th>train_loss</th>\n",
       "      <th>valid_loss</th>\n",
       "      <th>PrecisionK</th>\n",
       "      <th>time</th>\n",
       "    </tr>\n",
       "  </thead>\n",
       "  <tbody>\n",
       "    <tr>\n",
       "      <td>0</td>\n",
       "      <td>0.015008</td>\n",
       "      <td>0.015344</td>\n",
       "      <td>0.400400</td>\n",
       "      <td>01:49</td>\n",
       "    </tr>\n",
       "  </tbody>\n",
       "</table>"
      ],
      "text/plain": [
       "<IPython.core.display.HTML object>"
      ]
     },
     "metadata": {},
     "output_type": "display_data"
    }
   ],
   "source": [
    "learn.fit_one_cycle(1, lr_max=1e-1, moms=(0.8,0.7,0.8), wd=0.1)"
   ]
  },
  {
   "cell_type": "code",
   "execution_count": 11,
   "id": "eac60594-5d52-412e-901d-438234e32607",
   "metadata": {},
   "outputs": [],
   "source": [
    "learn.freeze_to(-2)"
   ]
  },
  {
   "cell_type": "code",
   "execution_count": 30,
   "id": "cb36be4b-8380-483b-936c-38d0c758536a",
   "metadata": {},
   "outputs": [
    {
     "data": {
      "text/html": [
       "<table border=\"1\" class=\"dataframe\">\n",
       "  <thead>\n",
       "    <tr style=\"text-align: left;\">\n",
       "      <th>epoch</th>\n",
       "      <th>train_loss</th>\n",
       "      <th>valid_loss</th>\n",
       "      <th>PrecisionK</th>\n",
       "      <th>time</th>\n",
       "    </tr>\n",
       "  </thead>\n",
       "  <tbody>\n",
       "    <tr>\n",
       "      <td>0</td>\n",
       "      <td>0.012916</td>\n",
       "      <td>0.015606</td>\n",
       "      <td>0.372973</td>\n",
       "      <td>02:50</td>\n",
       "    </tr>\n",
       "    <tr>\n",
       "      <td>1</td>\n",
       "      <td>0.012462</td>\n",
       "      <td>0.014843</td>\n",
       "      <td>0.401001</td>\n",
       "      <td>02:50</td>\n",
       "    </tr>\n",
       "    <tr>\n",
       "      <td>2</td>\n",
       "      <td>0.011493</td>\n",
       "      <td>0.014297</td>\n",
       "      <td>0.422823</td>\n",
       "      <td>02:50</td>\n",
       "    </tr>\n",
       "    <tr>\n",
       "      <td>3</td>\n",
       "      <td>0.010979</td>\n",
       "      <td>0.014140</td>\n",
       "      <td>0.443644</td>\n",
       "      <td>02:50</td>\n",
       "    </tr>\n",
       "    <tr>\n",
       "      <td>4</td>\n",
       "      <td>0.010012</td>\n",
       "      <td>0.013461</td>\n",
       "      <td>0.463463</td>\n",
       "      <td>02:49</td>\n",
       "    </tr>\n",
       "    <tr>\n",
       "      <td>5</td>\n",
       "      <td>0.008947</td>\n",
       "      <td>0.013103</td>\n",
       "      <td>0.480681</td>\n",
       "      <td>02:49</td>\n",
       "    </tr>\n",
       "    <tr>\n",
       "      <td>6</td>\n",
       "      <td>0.008049</td>\n",
       "      <td>0.012796</td>\n",
       "      <td>0.487087</td>\n",
       "      <td>02:45</td>\n",
       "    </tr>\n",
       "    <tr>\n",
       "      <td>7</td>\n",
       "      <td>0.007513</td>\n",
       "      <td>0.012722</td>\n",
       "      <td>0.490891</td>\n",
       "      <td>02:49</td>\n",
       "    </tr>\n",
       "  </tbody>\n",
       "</table>"
      ],
      "text/plain": [
       "<IPython.core.display.HTML object>"
      ]
     },
     "metadata": {},
     "output_type": "display_data"
    },
    {
     "name": "stdout",
     "output_type": "stream",
     "text": [
      "Better model found at epoch 0 with valid_loss value: 0.015605793334543705.\n",
      "Better model found at epoch 1 with valid_loss value: 0.014843019656836987.\n",
      "Better model found at epoch 2 with valid_loss value: 0.014297299087047577.\n",
      "Better model found at epoch 3 with valid_loss value: 0.014140406623482704.\n",
      "Better model found at epoch 4 with valid_loss value: 0.01346144825220108.\n",
      "Better model found at epoch 5 with valid_loss value: 0.01310289092361927.\n",
      "Better model found at epoch 6 with valid_loss value: 0.012796320021152496.\n",
      "Better model found at epoch 7 with valid_loss value: 0.012722250074148178.\n"
     ]
    }
   ],
   "source": [
    "learn.fit_one_cycle(8, lr_max=1e-2, moms=(0.8,0.7,0.8), wd=0.1, cbs=SaveModelCallback(fname=path_model/'caml_clas_sample_10percent'))"
   ]
  },
  {
   "cell_type": "code",
   "execution_count": 13,
   "id": "fde4a78a-8441-4f76-9d8a-9a36804fece3",
   "metadata": {},
   "outputs": [],
   "source": [
    "learn.freeze_to(-3)"
   ]
  },
  {
   "cell_type": "code",
   "execution_count": 14,
   "id": "0331ba9d-ffb5-4f32-932f-33afae6c2001",
   "metadata": {
    "tags": []
   },
   "outputs": [
    {
     "data": {
      "text/html": [
       "<table border=\"1\" class=\"dataframe\">\n",
       "  <thead>\n",
       "    <tr style=\"text-align: left;\">\n",
       "      <th>epoch</th>\n",
       "      <th>train_loss</th>\n",
       "      <th>valid_loss</th>\n",
       "      <th>PrecisionK</th>\n",
       "      <th>time</th>\n",
       "    </tr>\n",
       "  </thead>\n",
       "  <tbody>\n",
       "    <tr>\n",
       "      <td>0</td>\n",
       "      <td>0.007250</td>\n",
       "      <td>0.012783</td>\n",
       "      <td>0.486486</td>\n",
       "      <td>03:46</td>\n",
       "    </tr>\n",
       "    <tr>\n",
       "      <td>1</td>\n",
       "      <td>0.007518</td>\n",
       "      <td>0.012881</td>\n",
       "      <td>0.486887</td>\n",
       "      <td>03:46</td>\n",
       "    </tr>\n",
       "    <tr>\n",
       "      <td>2</td>\n",
       "      <td>0.007975</td>\n",
       "      <td>0.012882</td>\n",
       "      <td>0.481281</td>\n",
       "      <td>03:47</td>\n",
       "    </tr>\n",
       "    <tr>\n",
       "      <td>3</td>\n",
       "      <td>0.008674</td>\n",
       "      <td>0.012922</td>\n",
       "      <td>0.481682</td>\n",
       "      <td>03:46</td>\n",
       "    </tr>\n",
       "    <tr>\n",
       "      <td>4</td>\n",
       "      <td>0.008664</td>\n",
       "      <td>0.012887</td>\n",
       "      <td>0.484284</td>\n",
       "      <td>03:48</td>\n",
       "    </tr>\n",
       "    <tr>\n",
       "      <td>5</td>\n",
       "      <td>0.008329</td>\n",
       "      <td>0.013090</td>\n",
       "      <td>0.487087</td>\n",
       "      <td>03:46</td>\n",
       "    </tr>\n",
       "    <tr>\n",
       "      <td>6</td>\n",
       "      <td>0.008283</td>\n",
       "      <td>0.012964</td>\n",
       "      <td>0.487688</td>\n",
       "      <td>03:45</td>\n",
       "    </tr>\n",
       "    <tr>\n",
       "      <td>7</td>\n",
       "      <td>0.008249</td>\n",
       "      <td>0.013158</td>\n",
       "      <td>0.491491</td>\n",
       "      <td>03:45</td>\n",
       "    </tr>\n",
       "    <tr>\n",
       "      <td>8</td>\n",
       "      <td>0.008288</td>\n",
       "      <td>0.012827</td>\n",
       "      <td>0.492693</td>\n",
       "      <td>03:45</td>\n",
       "    </tr>\n",
       "    <tr>\n",
       "      <td>9</td>\n",
       "      <td>0.007783</td>\n",
       "      <td>0.012901</td>\n",
       "      <td>0.492693</td>\n",
       "      <td>03:44</td>\n",
       "    </tr>\n",
       "  </tbody>\n",
       "</table>"
      ],
      "text/plain": [
       "<IPython.core.display.HTML object>"
      ]
     },
     "metadata": {},
     "output_type": "display_data"
    },
    {
     "name": "stdout",
     "output_type": "stream",
     "text": [
      "Better model found at epoch 0 with valid_loss value: 0.012782841920852661.\n"
     ]
    }
   ],
   "source": [
    "learn.fit_one_cycle(10, lr_max=1e-3, moms=(0.8,0.7,0.8), wd=0.4, cbs=SaveModelCallback(fname=path_model/'caml_clas_sample_10percent'))"
   ]
  },
  {
   "cell_type": "code",
   "execution_count": 15,
   "id": "412f0002-b755-41d6-a8b7-938bce9f32a6",
   "metadata": {},
   "outputs": [],
   "source": [
    "learn.unfreeze()"
   ]
  },
  {
   "cell_type": "code",
   "execution_count": 16,
   "id": "91fd6cad-05d1-49db-9d50-2c8f66ef27a8",
   "metadata": {},
   "outputs": [
    {
     "data": {
      "text/html": [
       "<table border=\"1\" class=\"dataframe\">\n",
       "  <thead>\n",
       "    <tr style=\"text-align: left;\">\n",
       "      <th>epoch</th>\n",
       "      <th>train_loss</th>\n",
       "      <th>valid_loss</th>\n",
       "      <th>PrecisionK</th>\n",
       "      <th>time</th>\n",
       "    </tr>\n",
       "  </thead>\n",
       "  <tbody>\n",
       "    <tr>\n",
       "      <td>0</td>\n",
       "      <td>0.007327</td>\n",
       "      <td>0.012788</td>\n",
       "      <td>0.488088</td>\n",
       "      <td>04:54</td>\n",
       "    </tr>\n",
       "    <tr>\n",
       "      <td>1</td>\n",
       "      <td>0.007428</td>\n",
       "      <td>0.012811</td>\n",
       "      <td>0.490891</td>\n",
       "      <td>04:57</td>\n",
       "    </tr>\n",
       "    <tr>\n",
       "      <td>2</td>\n",
       "      <td>0.007452</td>\n",
       "      <td>0.012863</td>\n",
       "      <td>0.489289</td>\n",
       "      <td>05:00</td>\n",
       "    </tr>\n",
       "    <tr>\n",
       "      <td>3</td>\n",
       "      <td>0.007476</td>\n",
       "      <td>0.012764</td>\n",
       "      <td>0.489690</td>\n",
       "      <td>05:01</td>\n",
       "    </tr>\n",
       "    <tr>\n",
       "      <td>4</td>\n",
       "      <td>0.007513</td>\n",
       "      <td>0.012789</td>\n",
       "      <td>0.489489</td>\n",
       "      <td>05:00</td>\n",
       "    </tr>\n",
       "  </tbody>\n",
       "</table>"
      ],
      "text/plain": [
       "<IPython.core.display.HTML object>"
      ]
     },
     "metadata": {},
     "output_type": "display_data"
    }
   ],
   "source": [
    "learn.fit_one_cycle(5, lr_max=1e-4, moms=(0.8,0.7,0.8), wd=0.7)"
   ]
  },
  {
   "cell_type": "code",
   "execution_count": null,
   "id": "f1bb310f-f6d3-4f54-a945-483256cc57fb",
   "metadata": {},
   "outputs": [],
   "source": [
    "learn.recorder.plot_loss()"
   ]
  },
  {
   "cell_type": "code",
   "execution_count": null,
   "id": "e3a17f62-a5ac-4965-bd1c-57ce32a58973",
   "metadata": {},
   "outputs": [],
   "source": [
    "plt.plot(L(learn.recorder.values).itemgot(2));"
   ]
  }
 ],
 "metadata": {
  "kernelspec": {
   "display_name": "Python 3 (ipykernel)",
   "language": "python",
   "name": "python3"
  },
  "language_info": {
   "codemirror_mode": {
    "name": "ipython",
    "version": 3
   },
   "file_extension": ".py",
   "mimetype": "text/x-python",
   "name": "python",
   "nbconvert_exporter": "python",
   "pygments_lexer": "ipython3",
   "version": "3.9.12"
  }
 },
 "nbformat": 4,
 "nbformat_minor": 5
}
