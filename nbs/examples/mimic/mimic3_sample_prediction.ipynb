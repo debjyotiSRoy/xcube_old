{
 "cells": [
  {
   "cell_type": "code",
   "execution_count": 1,
   "id": "f8f1f402-1c67-4c7f-b8f5-32407f16bc1c",
   "metadata": {},
   "outputs": [],
   "source": [
    "#hide\n",
    "#skip\n",
    "! [ -e /content ] && pip install -Uqq fastai # upgrade fastai on colab"
   ]
  },
  {
   "cell_type": "code",
   "execution_count": 2,
   "id": "236665af-46ad-4f72-891a-712bed475781",
   "metadata": {
    "jupyter": {
     "source_hidden": true
    },
    "tags": []
   },
   "outputs": [],
   "source": [
    "# import torch; torch.cuda.device_count()\n",
    "# import torch; torch.cuda.get_device_properties(0)"
   ]
  },
  {
   "cell_type": "markdown",
   "id": "a80a3ed9-0893-4587-a638-00af61b00788",
   "metadata": {
    "tags": []
   },
   "source": [
    "# MIMIC III (sample) Code Prediction"
   ]
  },
  {
   "cell_type": "code",
   "execution_count": 3,
   "id": "6f4f7bc5-fafa-46eb-b0c3-f4322a436df0",
   "metadata": {},
   "outputs": [],
   "source": [
    "import fastbook\n",
    "fastbook.setup_book()\n",
    "\n",
    "from fastbook import *"
   ]
  },
  {
   "cell_type": "markdown",
   "id": "38965c75-1095-44df-848b-510ac96154c3",
   "metadata": {},
   "source": [
    "Application specific imports from fastai:"
   ]
  },
  {
   "cell_type": "code",
   "execution_count": 4,
   "id": "6fbea169-1376-4a6c-bb3c-0e1d9078cc02",
   "metadata": {},
   "outputs": [],
   "source": [
    "from fastai.text.all import *\n",
    "from fastai.distributed import *"
   ]
  },
  {
   "cell_type": "markdown",
   "id": "8780502f-7f8e-43a7-89b8-5528015e3fdb",
   "metadata": {},
   "source": [
    "xcube specific imports:"
   ]
  },
  {
   "cell_type": "code",
   "execution_count": 5,
   "id": "d69b20ce-50d2-408c-8042-0df93d75f1ee",
   "metadata": {},
   "outputs": [],
   "source": [
    "from xcube.text.learner import text_classifier_learner\n",
    "from xcube.metrics import PrecisionK"
   ]
  },
  {
   "cell_type": "markdown",
   "id": "b623c209-9f8f-46f8-9032-5cef4ba31ea3",
   "metadata": {
    "jp-MarkdownHeadingCollapsed": true,
    "tags": []
   },
   "source": [
    "#### Setting the base path of the repository"
   ]
  },
  {
   "cell_type": "code",
   "execution_count": 6,
   "id": "4e73722a-3a37-48ae-92e4-28a0c8223243",
   "metadata": {},
   "outputs": [
    {
     "data": {
      "text/plain": [
       "(Path('/home/deb/xcube/nbs/examples/mimic'),\n",
       " Path('/home/deb/xcube/nbs/examples/mimic/data'),\n",
       " Path('/home/deb/xcube/nbs/examples/mimic/models'))"
      ]
     },
     "execution_count": 6,
     "metadata": {},
     "output_type": "execute_result"
    }
   ],
   "source": [
    "path = Path.cwd()\n",
    "path_data = path/'data'\n",
    "path_model = path/'models'\n",
    "\n",
    "path, path_data, path_model"
   ]
  },
  {
   "cell_type": "markdown",
   "id": "7fdcb305-ecf1-4b03-9aee-58c016f46f9f",
   "metadata": {
    "jp-MarkdownHeadingCollapsed": true,
    "tags": []
   },
   "source": [
    "## `DataLoaders` for the Multi-Label Calssifier"
   ]
  },
  {
   "cell_type": "code",
   "execution_count": 7,
   "id": "2bfb6cec-1a41-448a-89aa-04ef5fb5bf15",
   "metadata": {
    "tags": []
   },
   "outputs": [
    {
     "name": "stdout",
     "output_type": "stream",
     "text": [
      "-rw-r--r-- 1 deb deb 472M Feb  3 19:08 /home/deb/xcube/nbs/examples/mimic/data/caml_notes_labelled.csv\n",
      "-rw-r--r-- 1 deb deb  48M Feb  4 16:28 /home/deb/xcube/nbs/examples/mimic/data/caml_notes_labelled_sample_10percent.csv\n"
     ]
    }
   ],
   "source": [
    "!ls -lh {path_data/\"*caml*\"}"
   ]
  },
  {
   "cell_type": "code",
   "execution_count": 8,
   "id": "a3cde030-ff4b-4325-bb45-ac501f7d678f",
   "metadata": {
    "tags": []
   },
   "outputs": [
    {
     "name": "stdout",
     "output_type": "stream",
     "text": [
      "-rw-r--r-- 1 deb deb 1.2G Feb  5 20:41 /home/deb/xcube/nbs/examples/mimic/models/caml_dls_lm_recent.pkl\n",
      "-rw-r--r-- 1 deb deb 909K Feb  5 20:41 /home/deb/xcube/nbs/examples/mimic/models/caml_dls_lm_vocab_recent.pkl\n",
      "-rw-r--r-- 1 deb deb 157M Feb  6 02:29 /home/deb/xcube/nbs/examples/mimic/models/caml_lm_finetuned_recent.pth\n",
      "-rw-r--r-- 1 deb deb 157M Feb  6 00:43 /home/deb/xcube/nbs/examples/mimic/models/caml_lm_recent.pth\n"
     ]
    }
   ],
   "source": [
    "!ls -lh {path_model/\"caml*recent*\"}"
   ]
  },
  {
   "cell_type": "code",
   "execution_count": 9,
   "id": "e7e09020-172e-4d9f-9b5a-cbd4aad14d21",
   "metadata": {},
   "outputs": [],
   "source": [
    "data_file = path_data/'caml_notes_labelled_sample_10percent.csv'\n",
    "lm_vocab_file = path_model/'caml_dls_lm_vocab.pkl'"
   ]
  },
  {
   "cell_type": "code",
   "execution_count": 10,
   "id": "6b29b74b-f4ba-4382-8f42-b1af28e3a34d",
   "metadata": {},
   "outputs": [],
   "source": [
    "df = pd.read_csv(data_file, dtype={'text': str, 'labels': str})\n",
    "df[['text', 'labels']] = df[['text', 'labels']].astype('str')"
   ]
  },
  {
   "cell_type": "code",
   "execution_count": 11,
   "id": "a135e742-48a5-4e9f-b44e-a4097e2d4688",
   "metadata": {},
   "outputs": [
    {
     "data": {
      "text/plain": [
       "5273"
      ]
     },
     "execution_count": 11,
     "metadata": {},
     "output_type": "execute_result"
    }
   ],
   "source": [
    "len(df)"
   ]
  },
  {
   "cell_type": "code",
   "execution_count": 16,
   "id": "709bb9cb-71c6-41a8-8d0c-7e9662303dea",
   "metadata": {},
   "outputs": [],
   "source": [
    "# df.head(3)"
   ]
  },
  {
   "cell_type": "markdown",
   "id": "245499f0-d485-43da-a393-084af267de29",
   "metadata": {},
   "source": [
    "---"
   ]
  },
  {
   "cell_type": "code",
   "execution_count": 18,
   "id": "f88211c4-f45a-4d2f-920c-9305f3033526",
   "metadata": {
    "jupyter": {
     "source_hidden": true
    },
    "tags": []
   },
   "outputs": [],
   "source": [
    "df['length'] = df.apply(lambda row: len(row.text), axis=1)"
   ]
  },
  {
   "cell_type": "code",
   "execution_count": null,
   "id": "5b04662d-d159-4aa8-aa81-2ec27ccd1db0",
   "metadata": {
    "jupyter": {
     "source_hidden": true
    },
    "tags": []
   },
   "outputs": [],
   "source": [
    "df"
   ]
  },
  {
   "cell_type": "code",
   "execution_count": null,
   "id": "6959ee7c-c75d-44c1-a083-90f056ec0338",
   "metadata": {
    "jupyter": {
     "source_hidden": true
    }
   },
   "outputs": [],
   "source": [
    "np.percentile(df.length, 50)"
   ]
  },
  {
   "cell_type": "code",
   "execution_count": null,
   "id": "c05f8f2a-fa74-4d6a-bcf1-9c0a0938153f",
   "metadata": {
    "jupyter": {
     "source_hidden": true
    }
   },
   "outputs": [],
   "source": [
    "np.mean(df.length)"
   ]
  },
  {
   "cell_type": "code",
   "execution_count": 21,
   "id": "8e006ed3-0b67-436a-9e0d-bda2a26201b1",
   "metadata": {
    "jupyter": {
     "source_hidden": true
    }
   },
   "outputs": [],
   "source": [
    "df['text'] = df.apply(lambda row: row.text[10000:], axis=1)"
   ]
  },
  {
   "cell_type": "code",
   "execution_count": null,
   "id": "312f76a1-de3e-43a5-8db3-b48c3f7b6ce0",
   "metadata": {
    "jupyter": {
     "source_hidden": true
    }
   },
   "outputs": [],
   "source": [
    "df"
   ]
  },
  {
   "cell_type": "code",
   "execution_count": null,
   "id": "73f17385-5c90-4395-9bc7-8873108aebfe",
   "metadata": {
    "jupyter": {
     "source_hidden": true
    },
    "tags": []
   },
   "outputs": [],
   "source": [
    "print(df.text[678])"
   ]
  },
  {
   "cell_type": "markdown",
   "id": "2fd5eed0-de88-41e5-95b4-cdeab063263f",
   "metadata": {},
   "source": [
    "---"
   ]
  },
  {
   "cell_type": "code",
   "execution_count": 12,
   "id": "5104458c-78ec-41e5-b392-16e50915b23b",
   "metadata": {},
   "outputs": [
    {
     "data": {
      "text/plain": [
       "(#57376) ['xxunk','xxpad','xxbos','xxeos','xxfld','xxrep','xxwrep','xxup','xxmaj','the'...]"
      ]
     },
     "execution_count": 12,
     "metadata": {},
     "output_type": "execute_result"
    }
   ],
   "source": [
    "lm_vocab = torch.load(lm_vocab_file)\n",
    "L(lm_vocab)"
   ]
  },
  {
   "cell_type": "code",
   "execution_count": 13,
   "id": "2a3ffb26-e055-4f72-875a-6f07783eb2dc",
   "metadata": {},
   "outputs": [],
   "source": [
    "label_freq = Counter()\n",
    "for labels in df.labels: label_freq.update(labels.split(';'))\n",
    "lbls = list(label_freq.keys())"
   ]
  },
  {
   "cell_type": "code",
   "execution_count": 14,
   "id": "63c79f34-1e6d-4504-8bc1-4c62f35fe15d",
   "metadata": {},
   "outputs": [
    {
     "data": {
      "text/plain": [
       "(#4716) ['518.81','348.4','348.82','801.25','427.89','E882','V49.86','305.00','96.71','38.93'...]"
      ]
     },
     "execution_count": 14,
     "metadata": {},
     "output_type": "execute_result"
    }
   ],
   "source": [
    "L(lbls)"
   ]
  },
  {
   "cell_type": "code",
   "execution_count": 15,
   "id": "7e444244-7afd-4b61-b0d3-38e116af080d",
   "metadata": {},
   "outputs": [],
   "source": [
    "def splitter(df):\n",
    "    train = df.index[~df['is_valid']].tolist()\n",
    "    valid = df.index[df['is_valid']].tolist()\n",
    "    return train, valid"
   ]
  },
  {
   "cell_type": "code",
   "execution_count": 16,
   "id": "66c2b07c-6303-447e-80fa-f4580acc04a0",
   "metadata": {},
   "outputs": [],
   "source": [
    "train, valid = splitter(df)"
   ]
  },
  {
   "cell_type": "code",
   "execution_count": 17,
   "id": "9da483e0-cd6b-451b-be07-5d7e986c3ee9",
   "metadata": {},
   "outputs": [
    {
     "data": {
      "text/plain": [
       "((#4940) [0,1,2,3,4,5,6,7,8,9...],\n",
       " (#333) [4940,4941,4942,4943,4944,4945,4946,4947,4948,4949...])"
      ]
     },
     "execution_count": 17,
     "metadata": {},
     "output_type": "execute_result"
    }
   ],
   "source": [
    "L(train), L(valid)"
   ]
  },
  {
   "cell_type": "code",
   "execution_count": 18,
   "id": "a6b789ef-5936-4caa-8f90-7e5a2da2ce97",
   "metadata": {},
   "outputs": [],
   "source": [
    "dblock = DataBlock(\n",
    "        blocks = (TextBlock.from_df('text', seq_len=72, vocab=lm_vocab), MultiCategoryBlock(vocab=lbls)),\n",
    "        get_x = ColReader('text'),\n",
    "        get_y = ColReader('labels', label_delim=';'),\n",
    "        splitter = splitter,\n",
    ")"
   ]
  },
  {
   "cell_type": "code",
   "execution_count": 19,
   "id": "db9037da-3d2f-4143-a768-9f55290884e0",
   "metadata": {},
   "outputs": [
    {
     "data": {
      "text/html": [],
      "text/plain": [
       "<IPython.core.display.HTML object>"
      ]
     },
     "metadata": {},
     "output_type": "display_data"
    }
   ],
   "source": [
    "dls = dblock.dataloaders(df, bs=32)"
   ]
  },
  {
   "cell_type": "code",
   "execution_count": 20,
   "id": "5cdc914b-db27-4b99-b264-6f6542bd999b",
   "metadata": {},
   "outputs": [],
   "source": [
    "torch.save(dls, path_model/'caml_dls_clas_sample_10percent_32.pkl')"
   ]
  },
  {
   "cell_type": "markdown",
   "id": "13326fa8-e97e-4c3c-b387-2b06470fbcd7",
   "metadata": {},
   "source": [
    "---"
   ]
  },
  {
   "cell_type": "code",
   "execution_count": 24,
   "id": "75e0e243-5de1-43c8-b8e6-12967985d17b",
   "metadata": {},
   "outputs": [],
   "source": [
    "dls_clas = torch.load(path_model/'caml_dls_clas_sample_10percent_32.pkl')"
   ]
  },
  {
   "cell_type": "code",
   "execution_count": 25,
   "id": "20da07d6-6ac1-4523-8709-f486d1e3d5c4",
   "metadata": {},
   "outputs": [
    {
     "name": "stderr",
     "output_type": "stream",
     "text": [
      "/home/deb/miniconda3/lib/python3.9/site-packages/fastai/torch_core.py:475: FutureWarning: The series.append method is deprecated and will be removed from pandas in a future version. Use pandas.concat instead.\n",
      "  ax = ax.append(pd.Series({label: o}))\n",
      "/home/deb/miniconda3/lib/python3.9/site-packages/fastai/torch_core.py:475: FutureWarning: The series.append method is deprecated and will be removed from pandas in a future version. Use pandas.concat instead.\n",
      "  ax = ax.append(pd.Series({label: o}))\n"
     ]
    },
    {
     "data": {
      "text/html": [
       "<table border=\"1\" class=\"dataframe\">\n",
       "  <thead>\n",
       "    <tr style=\"text-align: right;\">\n",
       "      <th></th>\n",
       "      <th>text</th>\n",
       "      <th>None</th>\n",
       "    </tr>\n",
       "  </thead>\n",
       "  <tbody>\n",
       "    <tr>\n",
       "      <th>0</th>\n",
       "      <td>xxbos admission date discharge date date of birth sex m service medicine allergies penicillins sulfa sulfonamides attending first name3 lf chief complaint lethargy persistent sinus tachycardia major surgical or invasive procedure none history of present illness mr known lastname is a year old male with hiv cd4 one month ago parkinson s disease htn chronic lower extremity edema and recurrent cellulitis who was brought to ed from hospital1 with lethargy and leukocytosis and then admitted to micu with colitis and persistent sinus tachycardia patient is somewhat unreliable historian but reports weeks of diarrhea and abdominal pain that have been worsening he reports coming to the hospital because he continued to ask and express concern about his diarrhea per hospital1 notes has been having loose bowel movements x6 with wbcs of 24k t refusing meals and lethargic of note he was treated with course of ciprofloxacin for uti in in the</td>\n",
       "      <td>427.89;584.9;995.92;785.52;599.0;305.1;V12.04;008.45;296.80;348.39;041.6;042;038.8;332.0;304.01;304.21</td>\n",
       "    </tr>\n",
       "  </tbody>\n",
       "</table>"
      ],
      "text/plain": [
       "<IPython.core.display.HTML object>"
      ]
     },
     "metadata": {},
     "output_type": "display_data"
    }
   ],
   "source": [
    "dls_clas.show_batch(max_n=1)"
   ]
  },
  {
   "cell_type": "code",
   "execution_count": 26,
   "id": "86c527aa-37b1-4284-a521-eb7fd5ba39d4",
   "metadata": {},
   "outputs": [
    {
     "data": {
      "text/plain": [
       "\"(#51928) ['xxunk','xxpad','xxbos','xxeos','xxfld','xxrep','xxwrep','xxup','xxmaj','the','and','to','of','was','with','a','on','in','for','mg','no','tablet','patient','is','he','at','blood','name','po','she'...]\""
      ]
     },
     "execution_count": 26,
     "metadata": {},
     "output_type": "execute_result"
    }
   ],
   "source": [
    "coll_repr(dls_clas.vocab[0], 30)"
   ]
  },
  {
   "cell_type": "code",
   "execution_count": 27,
   "id": "ef119d06-ed4b-423c-a573-cc14dcdb6d69",
   "metadata": {},
   "outputs": [
    {
     "data": {
      "text/plain": [
       "\"(#4716) ['518.81','348.4','348.82','801.25','427.89','E882','V49.86','305.00','96.71','38.93','861.32','958.4','868.14','881.20','289.82','862.1','902.53','860.5','991.6','E922.9','V66.7','32.39','34.02','38.84','54.11','34.82','39.32','34.09','86.28','99.04'...]\""
      ]
     },
     "execution_count": 27,
     "metadata": {},
     "output_type": "execute_result"
    }
   ],
   "source": [
    "coll_repr(dls_clas.vocab[1], 30)"
   ]
  },
  {
   "cell_type": "code",
   "execution_count": 28,
   "id": "ff46b347-2908-45c9-963a-ed75cacb7c79",
   "metadata": {},
   "outputs": [],
   "source": [
    "# x, y = dls_clas.one_batch()\n",
    "# x.shape, y.shape"
   ]
  },
  {
   "cell_type": "code",
   "execution_count": 29,
   "id": "f118747b-50ba-4297-bd52-c92c9126f8cb",
   "metadata": {},
   "outputs": [],
   "source": [
    "# x, y = first(dls_clas.train)\n",
    "dls_iter = iter(dls_clas.train)"
   ]
  },
  {
   "cell_type": "code",
   "execution_count": 32,
   "id": "ec2a62a3-ec07-4354-8a39-3a6618316693",
   "metadata": {},
   "outputs": [],
   "source": [
    "x,y = next(dls_iter)"
   ]
  },
  {
   "cell_type": "code",
   "execution_count": 33,
   "id": "f5b36cc4-18b3-4b00-89d6-6301e1457131",
   "metadata": {},
   "outputs": [
    {
     "data": {
      "text/plain": [
       "(torch.Size([32, 3560]), torch.Size([32, 4716]))"
      ]
     },
     "execution_count": 33,
     "metadata": {},
     "output_type": "execute_result"
    }
   ],
   "source": [
    "x.shape, y.shape"
   ]
  },
  {
   "cell_type": "code",
   "execution_count": 34,
   "id": "31d939a3-ebe7-47a7-8e04-bd83605b6730",
   "metadata": {},
   "outputs": [
    {
     "data": {
      "text/plain": [
       "\"(#51928) ['xxunk','xxpad','xxbos','xxeos','xxfld','xxrep','xxwrep','xxup','xxmaj','the','and','to','of','was','with','a','on','in','for','mg','no','tablet','patient','is','he','at','blood','name','po','she'...]\""
      ]
     },
     "execution_count": 34,
     "metadata": {},
     "output_type": "execute_result"
    }
   ],
   "source": [
    "coll_repr(lm_vocab, 30)"
   ]
  },
  {
   "cell_type": "code",
   "execution_count": 35,
   "id": "c3848db6-b104-4746-842e-e349f2b79e40",
   "metadata": {
    "tags": []
   },
   "outputs": [
    {
     "data": {
      "text/plain": [
       "'xxbos admission date discharge date date of birth sex m service medicine allergies sevoflurane location un juice reglan bactrim attending first name3 lf chief complaint fevers chills nausea vomiting inability to take po major surgical or invasive procedure graft excision tunnelled hd catheter placement history of present illness this is a yo m with dm1 c b nephropathy esrd on hd through av graft tts and esophagitis who presents with three days of fevers chills nausea vomiting and inability to tolerate po the patient was in his usoh until saturday when he developed intractable nausea after hd the patient notes a normal hd session only complicated by a small amount of bleeding at the graft site after hd the patient had nausea and vomited some food bilious material and what he says is coffee ground color material the patient did not have any hematemesis he vomited times and was unable to eat or drink the patient denied any other gi symptoms including diarrhea melena or hematochezia he endorsed constipation with no stool x days with the vomiting he had mild rlq tenderness he says that this occurred intermittently on saturday and sunday but has resolved completely along with these symptoms the patient noted fevers and shaking chills he had slight nonproductive cough without sob wheezing or chest pain he noted more nocturnal cough and reflux symptoms with supine positioning he denied sore throat rhinorrhea sick contacts recent travel no iv drug use or other exposures he has diabetic neuropathy but month year any non healing ulcers of note he did cut his r foot over the weekend but did not notice any accompanying skin changes redness or drainage in ed developed fever to patient was given vancomycin guiac negative cxr normal ct abdomen performed without acute process identified the patient was sent to the hd unit prior to coming to the floor for workup of fever past medical history diabetes mellitus type i c b retinopathy legally blind on left neuropathy and nephropathy gastroparesis cad nstemi chf hypertension pulmonary hypertension glaucoma s p surgical debridement of left arm fistula and ruptured aneurysm repair history of pea arrest during av fistula repair history of positive ppd s p one year of treatment hiccups hx seizure d o social history originally from male first name un separated with five healthy children not currently working but has worked as a security guard in the past moved from location un recently but lives alone has a sister in the area he location un current tobacco use quit several years ago he location un etoh or illicit drug use history of homelessness but currently lives alone in apt with visiting nurse services daily has hd in location un t th sa in the am family history multiple siblings with hypertension and diabetes two sisters with a last name problem no known early coronary disease or kidney disease physical exam admission physical exam vs temp f bp hr r o2 sat ra general tired appearing gentleman aox3 heent anicteric sclera mild conjunctival injection legal blindness of l eye no tonsilar exudates neck supple no thyromegaly no jvd no lad lungs limited by poor effort no wheezes crackles consolidations equal breath sounds bilaterally heart xxrep 3 r systolic machine like murmur at rusb no radiation to carotids likely referred from av graft no rubs no extra heart sounds abdomen hypoactive bowel sounds soft nt nd no rebound guarding extremities warm pulses bilaterally small 2 cm laceration on r metatarsal callous no skin changes skin no rashes or lesions neuro awake a ox3 nonfocal medicine to cardiology transfer vs tm tc hr 70s on ra gen well appearing heart triphasic friction rub ext right ue bandaged incision with packing no purulent drainage discharge exam pertinent results admission labs 30am blood wbc rbc hgb hct mcv mch mchc rdw plt ct 30am blood neuts lymphs monos eos baso 30am blood hypochr normal anisocy poiklo occasional macrocy occasional microcy occasional polychr occasional burr occasional 30am blood pt ptt inr pt 22pm blood fibrino 40pm blood fdp 30am blood glucose urean creat na k cl hco3 angap 30am blood alt ast ld ldh ck cpk alkphos totbili 30am blood ctropnt 40pm blood albumin calcium phos mg medicine to cardiology transfer labs 15am blood wbc rbc hgb hct mcv mch mchc rdw plt ct 15am blood glucose urean creat na k cl hco3 angap 15am blood alt ast ld ldh ck cpk alkphos totbili 15am blood calcium phos mg cardiac enzymes 30am blood ctropnt 00am blood ck mb ctropnt 25am blood ck mb ctropnt 15am blood ck mb ctropnt micro am blood culture final report blood culture routine final staph aureus coag consultations with i d are recommended for all blood cultures positive for staphylococcus aureus yeast or other fungi final sensitivities staphylococcus species may develop resistance during prolonged therapy with quinolones therefore isolates that are initially susceptible may become resistant within three to four days after initiation of therapy testing of repeat isolates may be warranted sensitivities mic expressed in mcg ml xxrep 57 _ staph aureus coag clindamycin s erythromycin s gentamicin s levofloxacin s oxacillin s trimethoprim sulfa s aerobic bottle gram stain final gram positive cocci in pairs and clusters reported to and read back by dr first name8 namepattern2 last name namepattern1 pager serial number on anaerobic bottle gram stain final gram positive cocci in pairs and clusters pm blood culture final report blood culture routine final staph aureus coag consultations with i d are recommended for all blood cultures positive for staphylococcus aureus yeast or other fungi sensitivities performed on culture xxunk aerobic bottle gram stain final gram positive cocci in pairs and clusters reported to and read back by dr first name8 namepattern2 last name namepattern1 pager numeric identifier on anaerobic bottle gram stain final gram positive cocci in pairs and clusters pm foreign body site arm right upper arm av graft final report wound culture final staph aureus coag sensitivities performed on culture numeric'"
      ]
     },
     "execution_count": 35,
     "metadata": {},
     "output_type": "execute_result"
    }
   ],
   "source": [
    "' '.join(lm_vocab[o] for o in x[0][:1000])"
   ]
  },
  {
   "cell_type": "markdown",
   "id": "6cc5c565-f4c5-4e47-bd61-8165d90b9cd1",
   "metadata": {
    "jp-MarkdownHeadingCollapsed": true,
    "tags": []
   },
   "source": [
    "## `DataLoaders` for the Multi-Label Classifier (using fastai's Mid-Level Data API):"
   ]
  },
  {
   "cell_type": "markdown",
   "id": "7b323260-73d6-451b-a024-c85d5a232468",
   "metadata": {
    "jp-MarkdownHeadingCollapsed": true,
    "tags": []
   },
   "source": [
    "### Loading Raw Data"
   ]
  },
  {
   "cell_type": "code",
   "execution_count": 7,
   "id": "4b49bb4e-371c-4a52-b4c0-92e11291a237",
   "metadata": {},
   "outputs": [],
   "source": [
    "data_file = path_data/'caml_notes_labelled_sample_10percent.csv'\n",
    "lm_vocab_file = path_model/'caml_dls_lm_vocab.pkl'"
   ]
  },
  {
   "cell_type": "code",
   "execution_count": 8,
   "id": "7c1ff4a1-6dcd-4255-be1a-e33381fe7298",
   "metadata": {},
   "outputs": [],
   "source": [
    "df = pd.read_csv(data_file, dtype={'text': str, 'labels': str})\n",
    "df[['text', 'labels']] = df[['text', 'labels']].astype('str')"
   ]
  },
  {
   "cell_type": "code",
   "execution_count": null,
   "id": "6794e273-a8ef-40eb-be6f-729a68b3e9ab",
   "metadata": {},
   "outputs": [],
   "source": [
    "df.head(3)"
   ]
  },
  {
   "cell_type": "markdown",
   "id": "00bee561-2e9b-45b8-85dc-6077d9b5d0fd",
   "metadata": {},
   "source": [
    "let's now gather the labels from the 'labels' column of the df:"
   ]
  },
  {
   "cell_type": "code",
   "execution_count": 9,
   "id": "6bdf9daf-ea10-4578-91ac-7db7818c0b03",
   "metadata": {},
   "outputs": [],
   "source": [
    "label_freq = Counter()\n",
    "for labels in df.labels: label_freq.update(labels.split(';'))"
   ]
  },
  {
   "cell_type": "markdown",
   "id": "46c5f200-6c8e-41af-b530-8b8a0240ab62",
   "metadata": {},
   "source": [
    "The total number of labels are:"
   ]
  },
  {
   "cell_type": "code",
   "execution_count": 10,
   "id": "06c9b1b3-d4b1-4d25-9b0b-e94dcb416b13",
   "metadata": {},
   "outputs": [
    {
     "data": {
      "text/plain": [
       "4716"
      ]
     },
     "execution_count": 10,
     "metadata": {},
     "output_type": "execute_result"
    }
   ],
   "source": [
    "len(label_freq)"
   ]
  },
  {
   "cell_type": "markdown",
   "id": "763b0364-d4d3-4e68-90c9-91c3679a631b",
   "metadata": {},
   "source": [
    "Let's make a list of all labels (We will use it later while creating the `DataLoader`)"
   ]
  },
  {
   "cell_type": "code",
   "execution_count": 11,
   "id": "55b00a21-bcb0-498b-8d38-2570a1f71d31",
   "metadata": {},
   "outputs": [],
   "source": [
    "lbls = list(label_freq.keys()) "
   ]
  },
  {
   "cell_type": "markdown",
   "id": "753c0eb4-63d8-4c19-81d0-dd12d55ef3f6",
   "metadata": {
    "jp-MarkdownHeadingCollapsed": true,
    "tags": []
   },
   "source": [
    "### Steps for creating the classifier `DataLoaders` using fastai `Transforms`:"
   ]
  },
  {
   "cell_type": "markdown",
   "id": "47a8a0cc-a22a-4641-b53f-41139ff24519",
   "metadata": {
    "jp-MarkdownHeadingCollapsed": true,
    "tags": []
   },
   "source": [
    "#### 1. train/valid `splitter`:"
   ]
  },
  {
   "cell_type": "markdown",
   "id": "d22616d8-22b7-4899-ab53-dacf93fbff6e",
   "metadata": {},
   "source": [
    "Okay, based on the `is_valid` column of our Dataframe, let's create a splitter:"
   ]
  },
  {
   "cell_type": "code",
   "execution_count": 12,
   "id": "5b51b16f-b4e5-4351-95b5-a0d31a4fed4a",
   "metadata": {},
   "outputs": [],
   "source": [
    "def splitter(df):\n",
    "    train = df.index[~df['is_valid']].tolist()\n",
    "    valid = df.index[df['is_valid']].to_list()\n",
    "    return train, valid"
   ]
  },
  {
   "cell_type": "markdown",
   "id": "2778bba4-353f-4e1a-8cb0-1e8613ca0f27",
   "metadata": {},
   "source": [
    "Let's check the train/valid split"
   ]
  },
  {
   "cell_type": "code",
   "execution_count": 13,
   "id": "e2ba4d48-df46-4025-94f7-742f4d72d68a",
   "metadata": {},
   "outputs": [
    {
     "data": {
      "text/plain": [
       "((#4940) [0,1,2,3,4,5,6,7,8,9...],\n",
       " (#333) [4940,4941,4942,4943,4944,4945,4946,4947,4948,4949...])"
      ]
     },
     "execution_count": 13,
     "metadata": {},
     "output_type": "execute_result"
    }
   ],
   "source": [
    "splits = [train, valid] = splitter(df)\n",
    "L(splits[0]), L(splits[1])"
   ]
  },
  {
   "cell_type": "markdown",
   "id": "b6178b93-97b0-485c-8ff7-95a475a41eda",
   "metadata": {
    "jp-MarkdownHeadingCollapsed": true,
    "tags": []
   },
   "source": [
    "#### 2. Making the `Datasets` object:"
   ]
  },
  {
   "cell_type": "markdown",
   "id": "6a3ae1b6-d1ed-48a4-8c26-cba314575132",
   "metadata": {},
   "source": [
    "**Crucial:** We need the vocab of the language model so that we can make sure we use the same correspondence of token to index. Otherwise, the embeddings we learned in our fine-tuned language model won't make any sense to our classifier model, and the fine-tuning won't be of any use. So we need to pass the `lm_vocab` to the `Numericalize` transform:"
   ]
  },
  {
   "cell_type": "markdown",
   "id": "ed8b40cd-c1ab-4e8e-9f3f-cb39c3aec7fd",
   "metadata": {},
   "source": [
    "So let's load the vocab of the language model:"
   ]
  },
  {
   "cell_type": "code",
   "execution_count": 14,
   "id": "a462974f-41ea-467c-a707-0bbdd2bcb518",
   "metadata": {},
   "outputs": [],
   "source": [
    "lm_vocab = torch.load(lm_vocab_file)"
   ]
  },
  {
   "cell_type": "code",
   "execution_count": 15,
   "id": "0aeb0bc3-e5ac-4f6e-929f-85c38d77ca26",
   "metadata": {},
   "outputs": [
    {
     "data": {
      "text/plain": [
       "(#57376) ['xxunk','xxpad','xxbos','xxeos','xxfld','xxrep','xxwrep','xxup','xxmaj','the'...]"
      ]
     },
     "execution_count": 15,
     "metadata": {},
     "output_type": "execute_result"
    }
   ],
   "source": [
    "L(lm_vocab)"
   ]
  },
  {
   "cell_type": "code",
   "execution_count": 16,
   "id": "a2758f4d-61f0-4713-a75a-bdb35d7ea0d1",
   "metadata": {},
   "outputs": [],
   "source": [
    "x_tfms = [Tokenizer.from_df('text'), attrgetter(\"text\"), Numericalize(vocab=lm_vocab)]\n",
    "y_tfms = [ColReader('labels', label_delim=';'), MultiCategorize(vocab=lbls), OneHotEncode()]\n",
    "tfms = [x_tfms, y_tfms]"
   ]
  },
  {
   "cell_type": "code",
   "execution_count": 17,
   "id": "ffed1321-aa17-447a-8d4c-705e7f87846e",
   "metadata": {},
   "outputs": [
    {
     "data": {
      "text/html": [],
      "text/plain": [
       "<IPython.core.display.HTML object>"
      ]
     },
     "metadata": {},
     "output_type": "display_data"
    }
   ],
   "source": [
    "dsets = Datasets(df, tfms, splits=splits)"
   ]
  },
  {
   "cell_type": "markdown",
   "id": "49310fd4-9934-48ad-978a-ebe6c1058171",
   "metadata": {},
   "source": [
    "Let's now check if our `Datasets` got created alright:"
   ]
  },
  {
   "cell_type": "code",
   "execution_count": 18,
   "id": "d0832e62-0b51-49a4-87e4-adccf6cb8c56",
   "metadata": {},
   "outputs": [
    {
     "data": {
      "text/plain": [
       "(4940, 333)"
      ]
     },
     "execution_count": 18,
     "metadata": {},
     "output_type": "execute_result"
    }
   ],
   "source": [
    "len(dsets.train), len(dsets.valid)"
   ]
  },
  {
   "cell_type": "code",
   "execution_count": 19,
   "id": "387126f8-46e6-4a47-a5e2-7f284c34a95f",
   "metadata": {},
   "outputs": [
    {
     "data": {
      "text/plain": [
       "(TensorText([    2,    50,    51,    30,    51,    51,    12,   225,   248,   321,   106,   174,   157,    20,    95,   157,  1920,   549,  1934,   301,    60,   271,   227,   324,   309,    32,    62,\n",
       "           781,   311,   175,    31,   313,   173,   351,    41,    12,   137,   234, 20920,   486,    32,    62,   781,    61,  4261,    25,  2066,   228,  1290,    10,  6786,   896,    16,  4461,\n",
       "           350,  3732,  4343,    18,  6340,   334,    80,    17,     9,  1361,     9,    22,    13,   228,    11,    48,  3281,    11,     9,    32,    14,   275,    12,   218,    29,    13,    86,\n",
       "          3262,  1247,    10,    13,    98,    16,  1462,   129,   123,    41,   882,   238,    41,   882,   147,    41,   882,   145,   138,   934,   335,   223,    66,   190,   293,  3688,    12,\n",
       "             9,    39, 10039,  5654,  5811,   604,    18,  1017,  5205,  2213,   226,  1912,    12,     9,    39,  1160,   579,   160,  6685, 10040,  5796,   689,   759,   358,   319,    47,    48,\n",
       "          1291,   534,   308,  2259,  2770,    12,     9,  1160,   579,    14,   534,   308,    12,  4591,  2213,    66,   190,  4927,    39,  1160,  1351,   207,    17,  2259,  2770,    14,   207,\n",
       "            12,  4772,  4591,  2213,    15,   212,  2757,    44,  1795,  8155,   405,    23,  2750,  3920,    66,    74,   621,  4927,   212,  2757,    44,  1795,  8155,   405,    14,  6422,    31,\n",
       "          3242,    25,     9, 39381,  1546,  6286,    12,  4575,    16,  3746,   258,   476,  4297,    11, 15189,  6422,    31,  3242,    66,  2450,  4927,    20,   142,  2861,   314,    55,    89,\n",
       "            53,    13,   158,    11,     9,  5030,    18,   204,   581,   368,  1434,  1417,   747,    29,    13,    98,    16,  1247,   341,    10,   109,    16,  7435,  1462,  1115,    13,   427,\n",
       "            29,    13,   109,    16, 13573,  2910,    10,    46,    15,    74,  1849,    17,   490,   625,   853,    13,    11,   931,  4409,    18,  1389,  2025,    29,    13,  3281,   262,    70,\n",
       "           198,   226,    11,  1940,  1297,    29,    13,   350,    10,  5114,   457,    29,    13,  1482,  1476,    10,    16,   156,   616,  1587,   177,   775,    13,  1545,   884,  2341,  4412,\n",
       "            43,    87,    16,   619,    15,   147,  2905,    13,   496,    10,     9,   147,  1165,    11,   750,     9,    22,  2865,    29,    13,   220,    16,    15,   894,   594,    18,  1619,\n",
       "            29,   878,    16,    69,    16,    50,   882,    30,    69,   351,    30,   278,   934,    30,   208,  2620,   665,   871,    30,   167,   934,    30,   130,   351,   270,   130,   351,\n",
       "            60,   239,   384,   239,     6,   161,   139,   171,   409,    45]),\n",
       " TensorMultiCategory([1., 1., 1.,  ..., 0., 0., 0.]))"
      ]
     },
     "execution_count": 19,
     "metadata": {},
     "output_type": "execute_result"
    }
   ],
   "source": [
    "dsets.train[0]"
   ]
  },
  {
   "cell_type": "markdown",
   "id": "dbf7bba4-e4e0-4fe9-92aa-4d1f1589dbb3",
   "metadata": {},
   "source": [
    "---"
   ]
  },
  {
   "cell_type": "code",
   "execution_count": 23,
   "id": "72ddf9ed-0404-4666-a7a8-b7fce99e1cb1",
   "metadata": {},
   "outputs": [
    {
     "data": {
      "text/plain": [
       "fastai.text.data.TensorText"
      ]
     },
     "execution_count": 23,
     "metadata": {},
     "output_type": "execute_result"
    }
   ],
   "source": [
    "type(dsets.train[0][0])"
   ]
  },
  {
   "cell_type": "code",
   "execution_count": 33,
   "id": "63808677-18d3-4e5f-a1a0-1a001b9a3798",
   "metadata": {},
   "outputs": [
    {
     "data": {
      "text/plain": [
       "tensor([0, 1, 2, 3, 4, 5, 6, 7, 8, 9])"
      ]
     },
     "execution_count": 33,
     "metadata": {},
     "output_type": "execute_result"
    }
   ],
   "source": [
    "torch.arange(10)"
   ]
  },
  {
   "cell_type": "code",
   "execution_count": 36,
   "id": "062b0741-f0fb-4fb1-bb98-bc37f2266bca",
   "metadata": {},
   "outputs": [],
   "source": [
    "dsets.train[0][0][:] = TensorText(torch.arange(361))"
   ]
  },
  {
   "cell_type": "code",
   "execution_count": 37,
   "id": "d9848d93-9ab0-40e7-be3d-1ec55b355bc7",
   "metadata": {},
   "outputs": [
    {
     "data": {
      "text/plain": [
       "TensorText([    2,    50,    51,    30,    51,    51,    12,   225,   248,   321,   106,   174,   157,    20,    95,   157,  1920,   549,  1934,   301,    60,   271,   227,   324,   309,    32,    62,\n",
       "          781,   311,   175,    31,   313,   173,   351,    41,    12,   137,   234, 20920,   486,    32,    62,   781,    61,  4261,    25,  2066,   228,  1290,    10,  6786,   896,    16,  4461,\n",
       "          350,  3732,  4343,    18,  6340,   334,    80,    17,     9,  1361,     9,    22,    13,   228,    11,    48,  3281,    11,     9,    32,    14,   275,    12,   218,    29,    13,    86,\n",
       "         3262,  1247,    10,    13,    98,    16,  1462,   129,   123,    41,   882,   238,    41,   882,   147,    41,   882,   145,   138,   934,   335,   223,    66,   190,   293,  3688,    12,\n",
       "            9,    39, 10039,  5654,  5811,   604,    18,  1017,  5205,  2213,   226,  1912,    12,     9,    39,  1160,   579,   160,  6685, 10040,  5796,   689,   759,   358,   319,    47,    48,\n",
       "         1291,   534,   308,  2259,  2770,    12,     9,  1160,   579,    14,   534,   308,    12,  4591,  2213,    66,   190,  4927,    39,  1160,  1351,   207,    17,  2259,  2770,    14,   207,\n",
       "           12,  4772,  4591,  2213,    15,   212,  2757,    44,  1795,  8155,   405,    23,  2750,  3920,    66,    74,   621,  4927,   212,  2757,    44,  1795,  8155,   405,    14,  6422,    31,\n",
       "         3242,    25,     9, 39381,  1546,  6286,    12,  4575,    16,  3746,   258,   476,  4297,    11, 15189,  6422,    31,  3242,    66,  2450,  4927,    20,   142,  2861,   314,    55,    89,\n",
       "           53,    13,   158,    11,     9,  5030,    18,   204,   581,   368,  1434,  1417,   747,    29,    13,    98,    16,  1247,   341,    10,   109,    16,  7435,  1462,  1115,    13,   427,\n",
       "           29,    13,   109,    16, 13573,  2910,    10,    46,    15,    74,  1849,    17,   490,   625,   853,    13,    11,   931,  4409,    18,  1389,  2025,    29,    13,  3281,   262,    70,\n",
       "          198,   226,    11,  1940,  1297,    29,    13,   350,    10,  5114,   457,    29,    13,  1482,  1476,    10,    16,   156,   616,  1587,   177,   775,    13,  1545,   884,  2341,  4412,\n",
       "           43,    87,    16,   619,    15,   147,  2905,    13,   496,    10,     9,   147,  1165,    11,   750,     9,    22,  2865,    29,    13,   220,    16,    15,   894,   594,    18,  1619,\n",
       "           29,   878,    16,    69,    16,    50,   882,    30,    69,   351,    30,   278,   934,    30,   208,  2620,   665,   871,    30,   167,   934,    30,   130,   351,   270,   130,   351,\n",
       "           60,   239,   384,   239,     6,   161,   139,   171,   409,    45])"
      ]
     },
     "execution_count": 37,
     "metadata": {},
     "output_type": "execute_result"
    }
   ],
   "source": [
    "dsets.train[0][0]"
   ]
  },
  {
   "cell_type": "markdown",
   "id": "fc4f2932-e957-4f2d-ad14-485e09caaf32",
   "metadata": {},
   "source": [
    "---"
   ]
  },
  {
   "cell_type": "code",
   "execution_count": 29,
   "id": "d744f975-2b3f-4320-89dd-9608e5b92aee",
   "metadata": {},
   "outputs": [
    {
     "data": {
      "text/plain": [
       "('xxbos admission date discharge date date of birth sex f service surgery allergies no known allergies adverse drug reactions attending first name3 lf chief complaint s p fall major surgical or invasive procedure none history of present illness 45f etoh s p fall from window at feet found ambulating and slurring speech on scene intubated en route for declining mental status in the er the patient was found to be bradycardic to the s with bp of systolic she was given atropine dilantin and was started on saline past medical history unknown social history unknown family history unknown physical exam expired pertinent results ct head new effacement of the left perimesencephalic cistern raises concern for early uncal herniation increased density of the left subdural hematoma likely reflects organization redistribution although active bleeding can not be excluded unchanged mm axial dimension of the subdural hematoma with unchanged mm of subfalcine herniation ct head prelim left subdural measures cm in axial dimension with cm of rightward subfalcine herniation a non displaced right occipital condyle fracture is partially imaged ct c spine prelim non displaced right occipital condyle fracture with subluxation or dislocation at the atlantooccipital joint rotation of c1 on c2 however could relate to rotatory subluxation or dislocation ct torso prelim no acute injuries brief hospital course pt was transferred to the tsicu for further management n close neurological monitoring she was started on dilantin tid and continued on hypertonic saline neurosurgery was consulted she was continued on logroll precautions and had a c collar in place cv goal was to keep map for adequate perfusion she was bradycardic initially but hr increased to 70s pulm she was intubated and ventilated gi she was kept npo and on iv fluids gu urine output was closely monitored heme hematocrits were stable on hd a family meeting was held and the family decided to make the patient cmo she was placed on a morphine drip for comfort she died on medications on admission unknown discharge medications none discharge disposition expired discharge diagnosis traumatic brain injury discharge condition expired discharge instructions none followup instructions none first name8 namepattern2 name8 xxwrep 3 md number completed by',\n",
       " (#10) ['518.81','348.4','348.82','801.25','427.89','E882','V49.86','305.00','96.71','38.93'])"
      ]
     },
     "execution_count": 29,
     "metadata": {},
     "output_type": "execute_result"
    }
   ],
   "source": [
    "dsets.decode(dsets.train[0])"
   ]
  },
  {
   "cell_type": "markdown",
   "id": "590223c9-1d6e-49c8-97ee-0d435d6dcdeb",
   "metadata": {},
   "source": [
    "Looks fine!"
   ]
  },
  {
   "cell_type": "markdown",
   "id": "ffa183f7-deb7-474c-918c-dc0bfdcad313",
   "metadata": {
    "jp-MarkdownHeadingCollapsed": true,
    "tags": []
   },
   "source": [
    "#### 3. Making the `DataLoaders` object:"
   ]
  },
  {
   "cell_type": "markdown",
   "id": "1bc58a2c-86ac-46e5-9537-b57345e15ae3",
   "metadata": {},
   "source": [
    "We need to pick the sequence length and the batch size:"
   ]
  },
  {
   "cell_type": "code",
   "execution_count": 30,
   "id": "3006edfb-5aa5-4dc7-b6a6-84ec2e847fd2",
   "metadata": {},
   "outputs": [],
   "source": [
    "bs, sl = 32, 72"
   ]
  },
  {
   "cell_type": "markdown",
   "id": "0c839970-bff7-424b-a3b9-1b83201b6c61",
   "metadata": {},
   "source": [
    "We will use the `dl_type` argument of the `DataLoaders`. The purpose is to tell `DataLoaders` to use `SortedDL` class of the `DataLoader`, and not the usual one. `SortedDL` constructs batches by putting samples of roughly the same lengths into batches."
   ]
  },
  {
   "cell_type": "code",
   "execution_count": 31,
   "id": "8ad1e449-8185-41b5-99fc-604e6aa4b110",
   "metadata": {},
   "outputs": [],
   "source": [
    "dl_type = partial(SortedDL, shuffle=True)"
   ]
  },
  {
   "cell_type": "markdown",
   "id": "cac50bd5-d25c-4dfc-9b7e-190439ca1d2a",
   "metadata": {},
   "source": [
    "**Crucial:** \n",
    "- We will use **`pad_input_chunk`** because our encoder `AWD_LSTM` will be wrapped inside `SentenceEncoder`. \n",
    "- A `SenetenceEncoder` expects that all the documents are padded, \n",
    "- with most of the padding at the beginning of the document, with each sequence beginning at a round multiple of bptt\n",
    "- and the rest of the padding at the end."
   ]
  },
  {
   "cell_type": "code",
   "execution_count": 32,
   "id": "c7a6cb3b-8056-4d9a-9270-7cba306c02cc",
   "metadata": {},
   "outputs": [],
   "source": [
    "dls_clas = dsets.dataloaders(bs=bs, seq_len=sl, \n",
    "                        dl_type=dl_type,\n",
    "                       before_batch=pad_input_chunk)"
   ]
  },
  {
   "cell_type": "markdown",
   "id": "770391b3-1f52-48d7-909d-741a31c548a2",
   "metadata": {},
   "source": [
    "Creating the `DataLoaders` object takes considerable amount of time, so let's save it:"
   ]
  },
  {
   "cell_type": "code",
   "execution_count": 33,
   "id": "41956b2e-284f-45a4-8e5c-98b5b0929f92",
   "metadata": {},
   "outputs": [],
   "source": [
    "torch.save(dls_clas, path_model/'caml_dls_clas_sample_10percent_32.pkl')"
   ]
  },
  {
   "cell_type": "markdown",
   "id": "f5c0583f-6ab7-487b-9da4-4e84df7c9c27",
   "metadata": {},
   "source": [
    "Let's take a look at the data:"
   ]
  },
  {
   "cell_type": "code",
   "execution_count": 34,
   "id": "cf2904a3-4867-4620-a127-16599c825c89",
   "metadata": {},
   "outputs": [
    {
     "name": "stderr",
     "output_type": "stream",
     "text": [
      "/home/deb/miniconda3/lib/python3.9/site-packages/fastai/torch_core.py:475: FutureWarning: The series.append method is deprecated and will be removed from pandas in a future version. Use pandas.concat instead.\n",
      "  ax = ax.append(pd.Series({label: o}))\n",
      "/home/deb/miniconda3/lib/python3.9/site-packages/fastai/torch_core.py:475: FutureWarning: The series.append method is deprecated and will be removed from pandas in a future version. Use pandas.concat instead.\n",
      "  ax = ax.append(pd.Series({label: o}))\n",
      "/home/deb/miniconda3/lib/python3.9/site-packages/fastai/torch_core.py:475: FutureWarning: The series.append method is deprecated and will be removed from pandas in a future version. Use pandas.concat instead.\n",
      "  ax = ax.append(pd.Series({label: o}))\n",
      "/home/deb/miniconda3/lib/python3.9/site-packages/fastai/torch_core.py:475: FutureWarning: The series.append method is deprecated and will be removed from pandas in a future version. Use pandas.concat instead.\n",
      "  ax = ax.append(pd.Series({label: o}))\n",
      "/home/deb/miniconda3/lib/python3.9/site-packages/fastai/torch_core.py:475: FutureWarning: The series.append method is deprecated and will be removed from pandas in a future version. Use pandas.concat instead.\n",
      "  ax = ax.append(pd.Series({label: o}))\n",
      "/home/deb/miniconda3/lib/python3.9/site-packages/fastai/torch_core.py:475: FutureWarning: The series.append method is deprecated and will be removed from pandas in a future version. Use pandas.concat instead.\n",
      "  ax = ax.append(pd.Series({label: o}))\n"
     ]
    },
    {
     "data": {
      "text/html": [
       "<table border=\"1\" class=\"dataframe\">\n",
       "  <thead>\n",
       "    <tr style=\"text-align: right;\">\n",
       "      <th></th>\n",
       "      <th>text</th>\n",
       "      <th>None</th>\n",
       "    </tr>\n",
       "  </thead>\n",
       "  <tbody>\n",
       "    <tr>\n",
       "      <th>0</th>\n",
       "      <td>xxbos admission date discharge date date of birth sex m service medicine allergies penicillins sulfa sulfonamides attending first name3 lf chief complaint lethargy persistent sinus tachycardia major surgical or invasive procedure none history of present illness mr known lastname is a year old male with hiv cd4 one month ago parkinson s disease htn chronic lower extremity edema and recurrent cellulitis who was brought to ed from hospital1 with lethargy and leukocytosis and then admitted to micu with colitis and persistent sinus tachycardia patient is somewhat unreliable historian but reports weeks of diarrhea and abdominal pain that have been worsening he reports coming to the hospital because he continued to ask and express concern about his diarrhea per hospital1 notes has been having loose bowel movements x6 with wbcs of 24k t refusing meals and lethargic of note he was treated with course of ciprofloxacin for uti in in the</td>\n",
       "      <td>427.89;584.9;995.92;785.52;599.0;305.1;V12.04;008.45;296.80;348.39;041.6;042;038.8;332.0;304.01;304.21</td>\n",
       "    </tr>\n",
       "    <tr>\n",
       "      <th>1</th>\n",
       "      <td>xxpad xxpad xxpad xxpad xxpad xxpad xxpad xxpad xxpad xxpad xxpad xxpad xxpad xxpad xxpad xxpad xxpad xxpad xxpad xxpad xxpad xxpad xxpad xxpad xxpad xxpad xxpad xxpad xxpad xxpad xxpad xxpad xxpad xxpad xxpad xxpad xxpad xxpad xxpad xxpad xxpad xxpad xxpad xxpad xxpad xxpad xxpad xxpad xxpad xxpad xxpad xxpad xxpad xxpad xxpad xxpad xxpad xxpad xxpad xxpad xxpad xxpad xxpad xxpad xxpad xxpad xxpad xxpad xxpad xxpad xxpad xxpad xxpad xxpad xxpad xxpad xxpad xxpad xxpad xxpad xxpad xxpad xxpad xxpad xxpad xxpad xxpad xxpad xxpad xxpad xxpad xxpad xxpad xxpad xxpad xxpad xxpad xxpad xxpad xxpad xxpad xxpad xxpad xxpad xxpad xxpad xxpad xxpad xxpad xxpad xxpad xxpad xxpad xxpad xxpad xxpad xxpad xxpad xxpad xxpad xxpad xxpad xxpad xxpad xxpad xxpad xxpad xxpad xxpad xxpad xxpad xxpad xxpad xxpad xxpad xxpad xxpad xxpad xxpad xxpad xxpad xxpad xxpad xxpad xxpad xxpad xxpad xxpad xxpad xxpad</td>\n",
       "      <td>V49.86;38.93;276.8;401.9;486;414.01;714.0;428.0;428.32;493.22;491.21;424.0;348.30;410.71;345.3;294.8</td>\n",
       "    </tr>\n",
       "    <tr>\n",
       "      <th>2</th>\n",
       "      <td>xxpad xxpad xxpad xxpad xxpad xxpad xxpad xxpad xxpad xxpad xxpad xxpad xxpad xxpad xxpad xxpad xxpad xxpad xxpad xxpad xxpad xxpad xxpad xxpad xxpad xxpad xxpad xxpad xxpad xxpad xxpad xxpad xxpad xxpad xxpad xxpad xxpad xxpad xxpad xxpad xxpad xxpad xxpad xxpad xxpad xxpad xxpad xxpad xxpad xxpad xxpad xxpad xxpad xxpad xxpad xxpad xxpad xxpad xxpad xxpad xxpad xxpad xxpad xxpad xxpad xxpad xxpad xxpad xxpad xxpad xxpad xxpad xxpad xxpad xxpad xxpad xxpad xxpad xxpad xxpad xxpad xxpad xxpad xxpad xxpad xxpad xxpad xxpad xxpad xxpad xxpad xxpad xxpad xxpad xxpad xxpad xxpad xxpad xxpad xxpad xxpad xxpad xxpad xxpad xxpad xxpad xxpad xxpad xxpad xxpad xxpad xxpad xxpad xxpad xxpad xxpad xxpad xxpad xxpad xxpad xxpad xxpad xxpad xxpad xxpad xxpad xxpad xxpad xxpad xxpad xxpad xxpad xxpad xxpad xxpad xxpad xxpad xxpad xxpad xxpad xxpad xxpad xxpad xxpad xxpad xxpad xxpad xxpad xxpad xxpad</td>\n",
       "      <td>96.6;401.9;511.9;263.9;496;412;V45.82;441.01;39.73;99.15;434.11;305.1;780.60;43.11;707.03;997.02;E878.2;707.07;348.39;338.18;46.0;41.0;707.21;39.29;39.5;39.9;998.2;344.1;V10.87;336.1;E870.0;707.25;435.2</td>\n",
       "    </tr>\n",
       "  </tbody>\n",
       "</table>"
      ],
      "text/plain": [
       "<IPython.core.display.HTML object>"
      ]
     },
     "metadata": {},
     "output_type": "display_data"
    }
   ],
   "source": [
    "dls_clas.show_batch(max_n=3)"
   ]
  },
  {
   "cell_type": "code",
   "execution_count": 24,
   "id": "1d76df67-9bda-4f2a-94b1-4d93d9ffe24e",
   "metadata": {},
   "outputs": [],
   "source": [
    "dls_clas = torch.load(path_model/'caml_dls_clas_sample_10percent_32.pkl')"
   ]
  },
  {
   "cell_type": "markdown",
   "id": "d166b7ee-ea08-4c26-a1e8-edf20be3bb7f",
   "metadata": {
    "jp-MarkdownHeadingCollapsed": true,
    "tags": []
   },
   "source": [
    "## `Learner` for Multi-Label Classifier Fine-Tuning"
   ]
  },
  {
   "cell_type": "code",
   "execution_count": 7,
   "id": "ee765ff8-5b20-4067-9afd-24448a31c48f",
   "metadata": {},
   "outputs": [],
   "source": [
    "dls_clas = torch.load(path_model/'caml_dls_clas_sample_10percent_32.pkl')"
   ]
  },
  {
   "cell_type": "code",
   "execution_count": null,
   "id": "9001d7da-0706-43a6-80ee-9a1a782e0342",
   "metadata": {
    "tags": []
   },
   "outputs": [],
   "source": [
    "dls_clas.show_batch(max_n=3)"
   ]
  },
  {
   "cell_type": "code",
   "execution_count": 8,
   "id": "6811d36e-21f6-494d-88b4-0c7172175373",
   "metadata": {},
   "outputs": [],
   "source": [
    "learn = text_classifier_learner(dls_clas, AWD_LSTM, drop_mult=0.01, max_len=72*40, metrics=PrecisionK).to_fp16()"
   ]
  },
  {
   "cell_type": "code",
   "execution_count": 37,
   "id": "7d49642b-30ce-42f3-9ef8-16d20c385053",
   "metadata": {},
   "outputs": [],
   "source": [
    "learn = learn.load_encoder(path_model/'caml_lm_finetuned')"
   ]
  },
  {
   "cell_type": "markdown",
   "id": "83cff705-aca6-41b7-b4cd-40ecb085fdae",
   "metadata": {
    "tags": []
   },
   "source": [
    "## Fine-Tuning the Classifier "
   ]
  },
  {
   "cell_type": "code",
   "execution_count": 24,
   "id": "c3524df5-a4a9-44fc-9129-4f5f7d715b42",
   "metadata": {},
   "outputs": [],
   "source": [
    "# lr_min, lr_steep, lr_valley, lr_slide = learn.lr_find(suggest_funcs=(minimum, steep, valley, slide))\n",
    "# lr_min, lr_steep, lr_valley, lr_slide"
   ]
  },
  {
   "cell_type": "code",
   "execution_count": 38,
   "id": "40c869cc-7d26-4057-ab86-fc92aa490586",
   "metadata": {},
   "outputs": [
    {
     "data": {
      "text/html": [
       "<table border=\"1\" class=\"dataframe\">\n",
       "  <thead>\n",
       "    <tr style=\"text-align: left;\">\n",
       "      <th>epoch</th>\n",
       "      <th>train_loss</th>\n",
       "      <th>valid_loss</th>\n",
       "      <th>PrecisionK</th>\n",
       "      <th>time</th>\n",
       "    </tr>\n",
       "  </thead>\n",
       "  <tbody>\n",
       "    <tr>\n",
       "      <td>0</td>\n",
       "      <td>0.021091</td>\n",
       "      <td>0.019634</td>\n",
       "      <td>0.243443</td>\n",
       "      <td>01:08</td>\n",
       "    </tr>\n",
       "  </tbody>\n",
       "</table>"
      ],
      "text/plain": [
       "<IPython.core.display.HTML object>"
      ]
     },
     "metadata": {},
     "output_type": "display_data"
    }
   ],
   "source": [
    "learn.fit_one_cycle(1, lr_max=1e-1, moms=(0.8,0.7,0.8), wd=0.001)"
   ]
  },
  {
   "cell_type": "code",
   "execution_count": 39,
   "id": "eac60594-5d52-412e-901d-438234e32607",
   "metadata": {},
   "outputs": [],
   "source": [
    "learn.freeze_to(-2)"
   ]
  },
  {
   "cell_type": "code",
   "execution_count": 40,
   "id": "cb36be4b-8380-483b-936c-38d0c758536a",
   "metadata": {},
   "outputs": [
    {
     "data": {
      "text/html": [
       "<table border=\"1\" class=\"dataframe\">\n",
       "  <thead>\n",
       "    <tr style=\"text-align: left;\">\n",
       "      <th>epoch</th>\n",
       "      <th>train_loss</th>\n",
       "      <th>valid_loss</th>\n",
       "      <th>PrecisionK</th>\n",
       "      <th>time</th>\n",
       "    </tr>\n",
       "  </thead>\n",
       "  <tbody>\n",
       "    <tr>\n",
       "      <td>0</td>\n",
       "      <td>0.014207</td>\n",
       "      <td>0.018896</td>\n",
       "      <td>0.253654</td>\n",
       "      <td>01:35</td>\n",
       "    </tr>\n",
       "    <tr>\n",
       "      <td>1</td>\n",
       "      <td>0.014121</td>\n",
       "      <td>0.018161</td>\n",
       "      <td>0.292292</td>\n",
       "      <td>01:34</td>\n",
       "    </tr>\n",
       "    <tr>\n",
       "      <td>2</td>\n",
       "      <td>0.012712</td>\n",
       "      <td>0.017666</td>\n",
       "      <td>0.306707</td>\n",
       "      <td>01:34</td>\n",
       "    </tr>\n",
       "    <tr>\n",
       "      <td>3</td>\n",
       "      <td>0.011468</td>\n",
       "      <td>0.017498</td>\n",
       "      <td>0.321321</td>\n",
       "      <td>01:34</td>\n",
       "    </tr>\n",
       "    <tr>\n",
       "      <td>4</td>\n",
       "      <td>0.010415</td>\n",
       "      <td>0.017577</td>\n",
       "      <td>0.329329</td>\n",
       "      <td>01:34</td>\n",
       "    </tr>\n",
       "    <tr>\n",
       "      <td>5</td>\n",
       "      <td>0.008816</td>\n",
       "      <td>0.017848</td>\n",
       "      <td>0.329129</td>\n",
       "      <td>01:34</td>\n",
       "    </tr>\n",
       "    <tr>\n",
       "      <td>6</td>\n",
       "      <td>0.007798</td>\n",
       "      <td>0.017992</td>\n",
       "      <td>0.325526</td>\n",
       "      <td>01:34</td>\n",
       "    </tr>\n",
       "    <tr>\n",
       "      <td>7</td>\n",
       "      <td>0.006921</td>\n",
       "      <td>0.018113</td>\n",
       "      <td>0.326927</td>\n",
       "      <td>01:34</td>\n",
       "    </tr>\n",
       "  </tbody>\n",
       "</table>"
      ],
      "text/plain": [
       "<IPython.core.display.HTML object>"
      ]
     },
     "metadata": {},
     "output_type": "display_data"
    },
    {
     "name": "stdout",
     "output_type": "stream",
     "text": [
      "Better model found at epoch 0 with valid_loss value: 0.018896428868174553.\n",
      "Better model found at epoch 1 with valid_loss value: 0.018160950392484665.\n",
      "Better model found at epoch 2 with valid_loss value: 0.017665915191173553.\n",
      "Better model found at epoch 3 with valid_loss value: 0.017497621476650238.\n"
     ]
    }
   ],
   "source": [
    "learn.fit_one_cycle(8, lr_max=1e-2, moms=(0.8,0.7,0.8), wd=0.001, cbs=SaveModelCallback(fname=path_model/'caml_clas_sample_10percent'))"
   ]
  },
  {
   "cell_type": "code",
   "execution_count": 41,
   "id": "fde4a78a-8441-4f76-9d8a-9a36804fece3",
   "metadata": {},
   "outputs": [],
   "source": [
    "learn.freeze_to(-3)"
   ]
  },
  {
   "cell_type": "code",
   "execution_count": 42,
   "id": "73934781-d677-4f4a-bebf-96186499497c",
   "metadata": {
    "tags": []
   },
   "outputs": [
    {
     "data": {
      "text/html": [
       "<table border=\"1\" class=\"dataframe\">\n",
       "  <thead>\n",
       "    <tr style=\"text-align: left;\">\n",
       "      <th>epoch</th>\n",
       "      <th>train_loss</th>\n",
       "      <th>valid_loss</th>\n",
       "      <th>PrecisionK</th>\n",
       "      <th>time</th>\n",
       "    </tr>\n",
       "  </thead>\n",
       "  <tbody>\n",
       "    <tr>\n",
       "      <td>0</td>\n",
       "      <td>0.010001</td>\n",
       "      <td>0.017394</td>\n",
       "      <td>0.326126</td>\n",
       "      <td>02:10</td>\n",
       "    </tr>\n",
       "    <tr>\n",
       "      <td>1</td>\n",
       "      <td>0.009600</td>\n",
       "      <td>0.017341</td>\n",
       "      <td>0.331532</td>\n",
       "      <td>02:10</td>\n",
       "    </tr>\n",
       "    <tr>\n",
       "      <td>2</td>\n",
       "      <td>0.009122</td>\n",
       "      <td>0.017386</td>\n",
       "      <td>0.331932</td>\n",
       "      <td>02:10</td>\n",
       "    </tr>\n",
       "    <tr>\n",
       "      <td>3</td>\n",
       "      <td>0.008643</td>\n",
       "      <td>0.017516</td>\n",
       "      <td>0.329329</td>\n",
       "      <td>02:10</td>\n",
       "    </tr>\n",
       "    <tr>\n",
       "      <td>4</td>\n",
       "      <td>0.008339</td>\n",
       "      <td>0.017590</td>\n",
       "      <td>0.334935</td>\n",
       "      <td>02:09</td>\n",
       "    </tr>\n",
       "    <tr>\n",
       "      <td>5</td>\n",
       "      <td>0.007559</td>\n",
       "      <td>0.017792</td>\n",
       "      <td>0.333333</td>\n",
       "      <td>02:09</td>\n",
       "    </tr>\n",
       "    <tr>\n",
       "      <td>6</td>\n",
       "      <td>0.007571</td>\n",
       "      <td>0.017820</td>\n",
       "      <td>0.330531</td>\n",
       "      <td>02:08</td>\n",
       "    </tr>\n",
       "    <tr>\n",
       "      <td>7</td>\n",
       "      <td>0.007355</td>\n",
       "      <td>0.017814</td>\n",
       "      <td>0.330531</td>\n",
       "      <td>02:08</td>\n",
       "    </tr>\n",
       "    <tr>\n",
       "      <td>8</td>\n",
       "      <td>0.007299</td>\n",
       "      <td>0.017847</td>\n",
       "      <td>0.331532</td>\n",
       "      <td>02:07</td>\n",
       "    </tr>\n",
       "    <tr>\n",
       "      <td>9</td>\n",
       "      <td>0.006758</td>\n",
       "      <td>0.017938</td>\n",
       "      <td>0.331131</td>\n",
       "      <td>02:07</td>\n",
       "    </tr>\n",
       "  </tbody>\n",
       "</table>"
      ],
      "text/plain": [
       "<IPython.core.display.HTML object>"
      ]
     },
     "metadata": {},
     "output_type": "display_data"
    },
    {
     "name": "stdout",
     "output_type": "stream",
     "text": [
      "Better model found at epoch 0 with valid_loss value: 0.0173944104462862.\n",
      "Better model found at epoch 1 with valid_loss value: 0.017341431230306625.\n"
     ]
    }
   ],
   "source": [
    "learn.fit_one_cycle(10, lr_max=1e-3, moms=(0.8,0.7,0.8), wd=0.001, cbs=SaveModelCallback(fname=path_model/'caml_clas_sample_10percent'))"
   ]
  },
  {
   "cell_type": "code",
   "execution_count": 31,
   "id": "af04b954-fa86-40b7-bada-3735469700df",
   "metadata": {},
   "outputs": [
    {
     "data": {
      "text/html": [],
      "text/plain": [
       "<IPython.core.display.HTML object>"
      ]
     },
     "metadata": {},
     "output_type": "display_data"
    },
    {
     "data": {
      "text/plain": [
       "(#2) [0.017542965710163116,0.3147147147147147]"
      ]
     },
     "execution_count": 31,
     "metadata": {},
     "output_type": "execute_result"
    }
   ],
   "source": [
    "learn = learn.load(path_model/'caml_clas_sample_10percent')\n",
    "learn.validate()"
   ]
  },
  {
   "cell_type": "markdown",
   "id": "7149a4ae-7f45-4330-a62d-3b124a63e8fc",
   "metadata": {},
   "source": [
    "---"
   ]
  },
  {
   "cell_type": "code",
   "execution_count": 9,
   "id": "412f0002-b755-41d6-a8b7-938bce9f32a6",
   "metadata": {},
   "outputs": [],
   "source": [
    "learn.unfreeze()"
   ]
  },
  {
   "cell_type": "code",
   "execution_count": 10,
   "id": "3e49520d-b27c-4613-930a-fe1288007a4f",
   "metadata": {},
   "outputs": [],
   "source": [
    "# lr_min, lr_steep, lr_valley, lr_slide = learn.lr_find(suggest_funcs=(minimum, steep, valley, slide))\n",
    "# lr_min, lr_steep, lr_valley, lr_slide"
   ]
  },
  {
   "cell_type": "code",
   "execution_count": null,
   "id": "91fd6cad-05d1-49db-9d50-2c8f66ef27a8",
   "metadata": {},
   "outputs": [],
   "source": [
    "learn.fit_one_cycle(10, lr_max=1e-4, moms=(0.8,0.7,0.8), wd=0.001)"
   ]
  },
  {
   "cell_type": "code",
   "execution_count": null,
   "id": "4894aa2f-8114-4f9a-8ce5-9b7d989813fb",
   "metadata": {},
   "outputs": [],
   "source": [
    "learn.fit_one_cycle(50, lr_max=1e-3, moms=(0.8,0.7,0.8), wd=0.001, cbs=SaveModelCallback(fname=path_model/'caml_clas_sample_10percent'))"
   ]
  },
  {
   "cell_type": "code",
   "execution_count": null,
   "id": "f1bb310f-f6d3-4f54-a945-483256cc57fb",
   "metadata": {},
   "outputs": [],
   "source": [
    "learn.recorder.plot_loss()"
   ]
  },
  {
   "cell_type": "code",
   "execution_count": null,
   "id": "e3a17f62-a5ac-4965-bd1c-57ce32a58973",
   "metadata": {},
   "outputs": [],
   "source": [
    "plt.plot(L(learn.recorder.values).itemgot(2));"
   ]
  },
  {
   "cell_type": "markdown",
   "id": "7548894d-a124-48d2-96f3-58a6a23e0677",
   "metadata": {},
   "source": [
    "---"
   ]
  },
  {
   "cell_type": "markdown",
   "id": "2e97d217-e98b-43e3-8144-2b0e01c34715",
   "metadata": {},
   "source": [
    "---"
   ]
  },
  {
   "cell_type": "code",
   "execution_count": 47,
   "id": "37932867-68a9-4f4e-b9d2-126accb33cd3",
   "metadata": {},
   "outputs": [
    {
     "data": {
      "text/html": [],
      "text/plain": [
       "<IPython.core.display.HTML object>"
      ]
     },
     "metadata": {},
     "output_type": "display_data"
    },
    {
     "data": {
      "text/plain": [
       "(#2) [0.019248120486736298,0.27067067067067063]"
      ]
     },
     "execution_count": 47,
     "metadata": {},
     "output_type": "execute_result"
    }
   ],
   "source": [
    "learn = learn.load(path_model/'after3_sample')\n",
    "learn.validate()"
   ]
  },
  {
   "cell_type": "code",
   "execution_count": 48,
   "id": "d6eadc86-da3f-4e7f-b53a-ff7c0a375bb9",
   "metadata": {},
   "outputs": [],
   "source": [
    "learn.unfreeze()"
   ]
  },
  {
   "cell_type": "code",
   "execution_count": 49,
   "id": "06039d04-bd27-44b3-8f85-35d5be033e8d",
   "metadata": {},
   "outputs": [
    {
     "data": {
      "text/html": [],
      "text/plain": [
       "<IPython.core.display.HTML object>"
      ]
     },
     "metadata": {},
     "output_type": "display_data"
    },
    {
     "data": {
      "text/plain": [
       "(6.30957365501672e-06,\n",
       " 6.309573450380412e-07,\n",
       " 0.00015848931798245758,\n",
       " 0.0831763744354248)"
      ]
     },
     "execution_count": 49,
     "metadata": {},
     "output_type": "execute_result"
    },
    {
     "data": {
      "image/png": "[encoded data removed]",
      "text/plain": [
       "<Figure size 432x288 with 1 Axes>"
      ]
     },
     "metadata": {
      "needs_background": "light"
     },
     "output_type": "display_data"
    }
   ],
   "source": [
    "lr_min, lr_steep, lr_valley, lr_slide = learn.lr_find(suggest_funcs=(minimum, steep, valley, slide))\n",
    "lr_min, lr_steep, lr_valley, lr_slide"
   ]
  },
  {
   "cell_type": "code",
   "execution_count": 50,
   "id": "afa663f3-3fd6-423e-84c7-19b759458e86",
   "metadata": {},
   "outputs": [
    {
     "data": {
      "text/html": [
       "<table border=\"1\" class=\"dataframe\">\n",
       "  <thead>\n",
       "    <tr style=\"text-align: left;\">\n",
       "      <th>epoch</th>\n",
       "      <th>train_loss</th>\n",
       "      <th>valid_loss</th>\n",
       "      <th>PrecisionK</th>\n",
       "      <th>time</th>\n",
       "    </tr>\n",
       "  </thead>\n",
       "  <tbody>\n",
       "    <tr>\n",
       "      <td>0</td>\n",
       "      <td>0.014196</td>\n",
       "      <td>0.018997</td>\n",
       "      <td>0.267668</td>\n",
       "      <td>01:02</td>\n",
       "    </tr>\n",
       "    <tr>\n",
       "      <td>1</td>\n",
       "      <td>0.013981</td>\n",
       "      <td>0.018796</td>\n",
       "      <td>0.270871</td>\n",
       "      <td>01:02</td>\n",
       "    </tr>\n",
       "    <tr>\n",
       "      <td>2</td>\n",
       "      <td>0.013752</td>\n",
       "      <td>0.018583</td>\n",
       "      <td>0.268669</td>\n",
       "      <td>01:01</td>\n",
       "    </tr>\n",
       "    <tr>\n",
       "      <td>3</td>\n",
       "      <td>0.013528</td>\n",
       "      <td>0.018265</td>\n",
       "      <td>0.269870</td>\n",
       "      <td>01:02</td>\n",
       "    </tr>\n",
       "    <tr>\n",
       "      <td>4</td>\n",
       "      <td>0.013170</td>\n",
       "      <td>0.018100</td>\n",
       "      <td>0.268669</td>\n",
       "      <td>01:02</td>\n",
       "    </tr>\n",
       "    <tr>\n",
       "      <td>5</td>\n",
       "      <td>0.012981</td>\n",
       "      <td>0.017986</td>\n",
       "      <td>0.274474</td>\n",
       "      <td>01:02</td>\n",
       "    </tr>\n",
       "    <tr>\n",
       "      <td>6</td>\n",
       "      <td>0.013133</td>\n",
       "      <td>0.017639</td>\n",
       "      <td>0.273073</td>\n",
       "      <td>01:02</td>\n",
       "    </tr>\n",
       "    <tr>\n",
       "      <td>7</td>\n",
       "      <td>0.013297</td>\n",
       "      <td>0.018014</td>\n",
       "      <td>0.280681</td>\n",
       "      <td>01:01</td>\n",
       "    </tr>\n",
       "    <tr>\n",
       "      <td>8</td>\n",
       "      <td>0.013153</td>\n",
       "      <td>0.017882</td>\n",
       "      <td>0.264665</td>\n",
       "      <td>01:02</td>\n",
       "    </tr>\n",
       "    <tr>\n",
       "      <td>9</td>\n",
       "      <td>0.012833</td>\n",
       "      <td>0.017861</td>\n",
       "      <td>0.278879</td>\n",
       "      <td>01:02</td>\n",
       "    </tr>\n",
       "    <tr>\n",
       "      <td>10</td>\n",
       "      <td>0.012536</td>\n",
       "      <td>0.017635</td>\n",
       "      <td>0.278278</td>\n",
       "      <td>01:01</td>\n",
       "    </tr>\n",
       "    <tr>\n",
       "      <td>11</td>\n",
       "      <td>0.012307</td>\n",
       "      <td>0.017210</td>\n",
       "      <td>0.281682</td>\n",
       "      <td>01:02</td>\n",
       "    </tr>\n",
       "    <tr>\n",
       "      <td>12</td>\n",
       "      <td>0.011980</td>\n",
       "      <td>0.017168</td>\n",
       "      <td>0.281281</td>\n",
       "      <td>01:02</td>\n",
       "    </tr>\n",
       "    <tr>\n",
       "      <td>13</td>\n",
       "      <td>0.011871</td>\n",
       "      <td>0.017097</td>\n",
       "      <td>0.288288</td>\n",
       "      <td>01:02</td>\n",
       "    </tr>\n",
       "    <tr>\n",
       "      <td>14</td>\n",
       "      <td>0.011807</td>\n",
       "      <td>0.017267</td>\n",
       "      <td>0.283083</td>\n",
       "      <td>01:02</td>\n",
       "    </tr>\n",
       "    <tr>\n",
       "      <td>15</td>\n",
       "      <td>0.011768</td>\n",
       "      <td>0.017474</td>\n",
       "      <td>0.285886</td>\n",
       "      <td>01:02</td>\n",
       "    </tr>\n",
       "    <tr>\n",
       "      <td>16</td>\n",
       "      <td>0.011595</td>\n",
       "      <td>0.017123</td>\n",
       "      <td>0.287487</td>\n",
       "      <td>01:01</td>\n",
       "    </tr>\n",
       "    <tr>\n",
       "      <td>17</td>\n",
       "      <td>0.011449</td>\n",
       "      <td>0.017101</td>\n",
       "      <td>0.290691</td>\n",
       "      <td>01:01</td>\n",
       "    </tr>\n",
       "    <tr>\n",
       "      <td>18</td>\n",
       "      <td>0.011373</td>\n",
       "      <td>0.017175</td>\n",
       "      <td>0.284885</td>\n",
       "      <td>01:02</td>\n",
       "    </tr>\n",
       "    <tr>\n",
       "      <td>19</td>\n",
       "      <td>0.011266</td>\n",
       "      <td>0.017030</td>\n",
       "      <td>0.289489</td>\n",
       "      <td>01:01</td>\n",
       "    </tr>\n",
       "    <tr>\n",
       "      <td>20</td>\n",
       "      <td>0.011169</td>\n",
       "      <td>0.017098</td>\n",
       "      <td>0.293894</td>\n",
       "      <td>01:02</td>\n",
       "    </tr>\n",
       "    <tr>\n",
       "      <td>21</td>\n",
       "      <td>0.011013</td>\n",
       "      <td>0.017176</td>\n",
       "      <td>0.289690</td>\n",
       "      <td>01:01</td>\n",
       "    </tr>\n",
       "    <tr>\n",
       "      <td>22</td>\n",
       "      <td>0.010859</td>\n",
       "      <td>0.017073</td>\n",
       "      <td>0.289489</td>\n",
       "      <td>01:01</td>\n",
       "    </tr>\n",
       "    <tr>\n",
       "      <td>23</td>\n",
       "      <td>0.010701</td>\n",
       "      <td>0.017113</td>\n",
       "      <td>0.290290</td>\n",
       "      <td>01:01</td>\n",
       "    </tr>\n",
       "    <tr>\n",
       "      <td>24</td>\n",
       "      <td>0.010581</td>\n",
       "      <td>0.017175</td>\n",
       "      <td>0.293894</td>\n",
       "      <td>01:01</td>\n",
       "    </tr>\n",
       "    <tr>\n",
       "      <td>25</td>\n",
       "      <td>0.010576</td>\n",
       "      <td>0.017192</td>\n",
       "      <td>0.297898</td>\n",
       "      <td>01:01</td>\n",
       "    </tr>\n",
       "    <tr>\n",
       "      <td>26</td>\n",
       "      <td>0.010506</td>\n",
       "      <td>0.017104</td>\n",
       "      <td>0.292492</td>\n",
       "      <td>01:01</td>\n",
       "    </tr>\n",
       "    <tr>\n",
       "      <td>27</td>\n",
       "      <td>0.010467</td>\n",
       "      <td>0.017068</td>\n",
       "      <td>0.292893</td>\n",
       "      <td>01:02</td>\n",
       "    </tr>\n",
       "    <tr>\n",
       "      <td>28</td>\n",
       "      <td>0.010285</td>\n",
       "      <td>0.017138</td>\n",
       "      <td>0.290891</td>\n",
       "      <td>01:02</td>\n",
       "    </tr>\n",
       "    <tr>\n",
       "      <td>29</td>\n",
       "      <td>0.010168</td>\n",
       "      <td>0.017110</td>\n",
       "      <td>0.291291</td>\n",
       "      <td>01:02</td>\n",
       "    </tr>\n",
       "    <tr>\n",
       "      <td>30</td>\n",
       "      <td>0.010112</td>\n",
       "      <td>0.017154</td>\n",
       "      <td>0.292292</td>\n",
       "      <td>01:00</td>\n",
       "    </tr>\n",
       "    <tr>\n",
       "      <td>31</td>\n",
       "      <td>0.009936</td>\n",
       "      <td>0.017146</td>\n",
       "      <td>0.291892</td>\n",
       "      <td>01:02</td>\n",
       "    </tr>\n",
       "    <tr>\n",
       "      <td>32</td>\n",
       "      <td>0.009808</td>\n",
       "      <td>0.017159</td>\n",
       "      <td>0.289690</td>\n",
       "      <td>01:02</td>\n",
       "    </tr>\n",
       "    <tr>\n",
       "      <td>33</td>\n",
       "      <td>0.009732</td>\n",
       "      <td>0.017127</td>\n",
       "      <td>0.291892</td>\n",
       "      <td>01:02</td>\n",
       "    </tr>\n",
       "    <tr>\n",
       "      <td>34</td>\n",
       "      <td>0.009621</td>\n",
       "      <td>0.017163</td>\n",
       "      <td>0.289489</td>\n",
       "      <td>01:02</td>\n",
       "    </tr>\n",
       "    <tr>\n",
       "      <td>35</td>\n",
       "      <td>0.009543</td>\n",
       "      <td>0.017173</td>\n",
       "      <td>0.292893</td>\n",
       "      <td>01:01</td>\n",
       "    </tr>\n",
       "    <tr>\n",
       "      <td>36</td>\n",
       "      <td>0.009522</td>\n",
       "      <td>0.017140</td>\n",
       "      <td>0.294494</td>\n",
       "      <td>01:02</td>\n",
       "    </tr>\n",
       "    <tr>\n",
       "      <td>37</td>\n",
       "      <td>0.009372</td>\n",
       "      <td>0.017190</td>\n",
       "      <td>0.291291</td>\n",
       "      <td>01:01</td>\n",
       "    </tr>\n",
       "    <tr>\n",
       "      <td>38</td>\n",
       "      <td>0.009243</td>\n",
       "      <td>0.017194</td>\n",
       "      <td>0.289489</td>\n",
       "      <td>01:02</td>\n",
       "    </tr>\n",
       "    <tr>\n",
       "      <td>39</td>\n",
       "      <td>0.009328</td>\n",
       "      <td>0.017173</td>\n",
       "      <td>0.290090</td>\n",
       "      <td>01:02</td>\n",
       "    </tr>\n",
       "    <tr>\n",
       "      <td>40</td>\n",
       "      <td>0.009334</td>\n",
       "      <td>0.017204</td>\n",
       "      <td>0.289690</td>\n",
       "      <td>01:02</td>\n",
       "    </tr>\n",
       "    <tr>\n",
       "      <td>41</td>\n",
       "      <td>0.009314</td>\n",
       "      <td>0.017167</td>\n",
       "      <td>0.291291</td>\n",
       "      <td>01:02</td>\n",
       "    </tr>\n",
       "    <tr>\n",
       "      <td>42</td>\n",
       "      <td>0.009320</td>\n",
       "      <td>0.017207</td>\n",
       "      <td>0.291892</td>\n",
       "      <td>01:02</td>\n",
       "    </tr>\n",
       "    <tr>\n",
       "      <td>43</td>\n",
       "      <td>0.009210</td>\n",
       "      <td>0.017202</td>\n",
       "      <td>0.292693</td>\n",
       "      <td>01:02</td>\n",
       "    </tr>\n",
       "    <tr>\n",
       "      <td>44</td>\n",
       "      <td>0.009161</td>\n",
       "      <td>0.017239</td>\n",
       "      <td>0.293093</td>\n",
       "      <td>01:01</td>\n",
       "    </tr>\n",
       "    <tr>\n",
       "      <td>45</td>\n",
       "      <td>0.009165</td>\n",
       "      <td>0.017195</td>\n",
       "      <td>0.291491</td>\n",
       "      <td>01:02</td>\n",
       "    </tr>\n",
       "    <tr>\n",
       "      <td>46</td>\n",
       "      <td>0.009188</td>\n",
       "      <td>0.017163</td>\n",
       "      <td>0.291491</td>\n",
       "      <td>01:01</td>\n",
       "    </tr>\n",
       "    <tr>\n",
       "      <td>47</td>\n",
       "      <td>0.009216</td>\n",
       "      <td>0.017209</td>\n",
       "      <td>0.291692</td>\n",
       "      <td>01:02</td>\n",
       "    </tr>\n",
       "    <tr>\n",
       "      <td>48</td>\n",
       "      <td>0.009201</td>\n",
       "      <td>0.017184</td>\n",
       "      <td>0.292492</td>\n",
       "      <td>01:02</td>\n",
       "    </tr>\n",
       "    <tr>\n",
       "      <td>49</td>\n",
       "      <td>0.009129</td>\n",
       "      <td>0.017251</td>\n",
       "      <td>0.291291</td>\n",
       "      <td>01:02</td>\n",
       "    </tr>\n",
       "  </tbody>\n",
       "</table>"
      ],
      "text/plain": [
       "<IPython.core.display.HTML object>"
      ]
     },
     "metadata": {},
     "output_type": "display_data"
    },
    {
     "name": "stdout",
     "output_type": "stream",
     "text": [
      "Better model found at epoch 0 with valid_loss value: 0.018997060135006905.\n",
      "Better model found at epoch 1 with valid_loss value: 0.018796110525727272.\n",
      "Better model found at epoch 2 with valid_loss value: 0.018582569435238838.\n",
      "Better model found at epoch 3 with valid_loss value: 0.018265442922711372.\n",
      "Better model found at epoch 4 with valid_loss value: 0.018100183457136154.\n",
      "Better model found at epoch 5 with valid_loss value: 0.017985865473747253.\n",
      "Better model found at epoch 6 with valid_loss value: 0.01763910800218582.\n",
      "Better model found at epoch 10 with valid_loss value: 0.017634965479373932.\n",
      "Better model found at epoch 11 with valid_loss value: 0.01721004582941532.\n",
      "Better model found at epoch 12 with valid_loss value: 0.01716773211956024.\n",
      "Better model found at epoch 13 with valid_loss value: 0.017097121104598045.\n",
      "Better model found at epoch 19 with valid_loss value: 0.017029883340001106.\n"
     ]
    }
   ],
   "source": [
    "learn.fit_one_cycle(50, lr_max=0.003, moms=(0.8,0.7,0.8), wd=0.001, cbs=SaveModelCallback(fname=path_model/'clas_sample_10percent_003'))"
   ]
  },
  {
   "cell_type": "code",
   "execution_count": null,
   "id": "2da8a171-9c90-4dc7-a68d-f7194ff4d0fc",
   "metadata": {},
   "outputs": [],
   "source": []
  }
 ],
 "metadata": {
  "kernelspec": {
   "display_name": "Python 3 (ipykernel)",
   "language": "python",
   "name": "python3"
  },
  "language_info": {
   "codemirror_mode": {
    "name": "ipython",
    "version": 3
   },
   "file_extension": ".py",
   "mimetype": "text/x-python",
   "name": "python",
   "nbconvert_exporter": "python",
   "pygments_lexer": "ipython3",
   "version": "3.9.9"
  }
 },
 "nbformat": 4,
 "nbformat_minor": 5
}
