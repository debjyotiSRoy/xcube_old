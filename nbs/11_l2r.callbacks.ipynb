{
 "cells": [
  {
   "cell_type": "code",
   "execution_count": 1,
   "id": "32b4035f-c7eb-44fb-b460-838432fbdb7d",
   "metadata": {},
   "outputs": [],
   "source": [
    "#| hide\n",
    "#| eval:false\n",
    "! [ -e /content ] && pip install -Uqq fastai # upgrade fastai on colab"
   ]
  },
  {
   "cell_type": "code",
   "execution_count": 2,
   "id": "d1927335-90e5-4bf8-addd-6d19996bcf24",
   "metadata": {},
   "outputs": [],
   "source": [
    "#| default_exp l2r.callbacks"
   ]
  },
  {
   "cell_type": "code",
   "execution_count": 3,
   "id": "88f55fa0-dbb1-446d-a10a-c9e69f688478",
   "metadata": {},
   "outputs": [],
   "source": [
    "#| export\n",
    "from fastai.torch_imports import *\n",
    "from fastai.torch_core import *\n",
    "from fastai.callback.core import *\n",
    "from fastcore.all import *\n",
    "from xcube.imports import *\n",
    "from xcube.metrics import *"
   ]
  },
  {
   "cell_type": "code",
   "execution_count": 4,
   "id": "c55272a4-7f3a-49ed-b78e-51cace9c6bca",
   "metadata": {},
   "outputs": [],
   "source": [
    "#| hide\n",
    "from nbdev.showdoc import *"
   ]
  },
  {
   "cell_type": "code",
   "execution_count": 5,
   "id": "29280704-9e21-4ff3-9bc6-02e14f0178b4",
   "metadata": {},
   "outputs": [],
   "source": [
    "#| hide\n",
    "%load_ext autoreload\n",
    "%autoreload 2"
   ]
  },
  {
   "cell_type": "markdown",
   "id": "09de112c-ddc5-4f90-bba1-0e44a0ce066c",
   "metadata": {},
   "source": [
    "# Callbacks for L2R\n",
    "\n",
    "> General purpose callbacks needed for L2R learner"
   ]
  },
  {
   "cell_type": "code",
   "execution_count": 6,
   "id": "453b888a-d274-4bb2-b9e1-0ce310a5367d",
   "metadata": {},
   "outputs": [],
   "source": [
    "#| export\n",
    "class TrackResults(Callback):\n",
    "    def before_fit(self):\n",
    "            pass\n",
    "        \n",
    "    def before_epoch(self): self.losses, self.ndcgs, self.ndcgs_at_6, self.accs, self.logger = [], [], [], [], defaultdict(list)\n",
    "    \n",
    "    def after_epoch(self):\n",
    "        _li = [self.losses, self.ndcgs, self.ndcgs_at_6, self.accs]\n",
    "        _li = [torch.stack(o) if o else torch.Tensor() for o in _li] \n",
    "        [self.losses, self.ndcgs, self.ndcgs_at_6, self.accs] = _li\n",
    "        # pdb.set_trace()\n",
    "        log = [round(o.mean().item(), 4) if o.sum() else \"NA\" for o in _li]\n",
    "        # if self.model.training: self.logger['trn'] = log \n",
    "        # else: self.logger['val'] = log\n",
    "        print(self.epoch, self.model.training, *log)\n",
    "        # return logger\n",
    "    \n",
    "    def after_batch(self):\n",
    "        with torch.no_grad():\n",
    "            loss = self.loss_func(self.preds, self.xb)\n",
    "            self.losses.append(loss.mean())\n",
    "            if self.model.training:\n",
    "                if self.track_trn: self._compute_metrics()\n",
    "            else: self._compute_metrics()\n",
    "                        \n",
    "    def _compute_metrics(self):\n",
    "        *_, _ndcg, _ndcg_at_k = ndcg(self.preds, self.xb, k=6)\n",
    "        self.ndcgs.append(_ndcg.mean())\n",
    "        self.ndcgs_at_6.append(_ndcg_at_k.mean())\n",
    "        acc = accuracy(self.xb, self.model).mean()\n",
    "        self.accs.append(acc.mean())"
   ]
  },
  {
   "cell_type": "code",
   "execution_count": 7,
   "id": "739fe6b6-c568-4a12-8aac-a628ddb772e0",
   "metadata": {},
   "outputs": [],
   "source": [
    "#| export\n",
    "class PrintResults(Callback):\n",
    "    pass"
   ]
  },
  {
   "cell_type": "markdown",
   "id": "41f9428d-6d4b-4f18-a1a2-e4a963e011b4",
   "metadata": {},
   "source": [
    "## Export"
   ]
  },
  {
   "cell_type": "code",
   "execution_count": 8,
   "id": "294269ac-6a2f-4bc0-8160-7e4ea3cab241",
   "metadata": {},
   "outputs": [],
   "source": [
    "#| hide\n",
    "import nbdev; nbdev.nbdev_export()"
   ]
  }
 ],
 "metadata": {
  "kernelspec": {
   "display_name": "Python 3 (ipykernel)",
   "language": "python",
   "name": "python3"
  },
  "language_info": {
   "codemirror_mode": {
    "name": "ipython",
    "version": 3
   },
   "file_extension": ".py",
   "mimetype": "text/x-python",
   "name": "python",
   "nbconvert_exporter": "python",
   "pygments_lexer": "ipython3",
   "version": "3.10.0"
  }
 },
 "nbformat": 4,
 "nbformat_minor": 5
}
