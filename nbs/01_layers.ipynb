{
 "cells": [
  {
   "cell_type": "raw",
   "metadata": {},
   "source": [
    "---\n",
    "description: Some layers which tops up the ones in fastai\n",
    "output-file: layers.html\n",
    "title: Layers\n",
    "\n",
    "---\n",
    "\n"
   ]
  },
  {
   "cell_type": "code",
   "execution_count": null,
   "id": "e69e757c-1d09-45b4-ba3f-8f6a360ab34b",
   "metadata": {},
   "outputs": [],
   "source": [
    "#| include: false\n",
    "#skip\n",
    "! [ -e /content ] && pip install -Uqq fastai  # upgrade fastai on colab"
   ]
  },
  {
   "cell_type": "code",
   "execution_count": null,
   "id": "9d7ece6e-cd30-465c-8e45-8e445a929440",
   "metadata": {},
   "outputs": [],
   "source": [
    "#| default_exp layers"
   ]
  },
  {
   "cell_type": "code",
   "execution_count": null,
   "id": "7e98b977-31ce-49dd-ba3d-5e3e5c02fd93",
   "metadata": {},
   "outputs": [],
   "source": [
    "#| export\n",
    "from fastai.imports import *\n",
    "from fastai.torch_imports import *\n",
    "from fastai.torch_core import *\n",
    "from fastai.layers import *"
   ]
  },
  {
   "cell_type": "code",
   "execution_count": null,
   "id": "a9bd52cd-b137-4a5b-b650-8ececcb8b429",
   "metadata": {},
   "outputs": [],
   "source": [
    "#| export\n",
    "from fastai.text.models.awdlstm import EmbeddingDropout, RNNDropout"
   ]
  },
  {
   "cell_type": "code",
   "execution_count": null,
   "id": "57c1482e-61fe-4214-81a6-f54f1bcc5339",
   "metadata": {},
   "outputs": [],
   "source": [
    "#| include: false\n",
    "from nbdev.showdoc import *"
   ]
  },
  {
   "cell_type": "markdown",
   "id": "e50b5292-83d9-4d18-a79b-55c849925b41",
   "metadata": {},
   "source": [
    "## Basic manipulations and resizing"
   ]
  },
  {
   "cell_type": "markdown",
   "id": "182e3813-5eb7-4488-9560-73d7bb76ddfe",
   "metadata": {},
   "source": [
    "One can easily create a beautiful layer with minimum boilerplate using fastai utilities. We will show a simple example here. For details and extensive illustrations please refer to [decorated fastai layers](https://docs.fast.ai/layers.html#Basic-manipulations-and-resize)."
   ]
  },
  {
   "cell_type": "markdown",
   "id": "688ca1d5-0653-4aec-a169-501211001bc5",
   "metadata": {},
   "source": [
    "An easy way to create a pytorch layer for a simple `func`"
   ]
  },
  {
   "cell_type": "code",
   "execution_count": null,
   "id": "02a74e72-46fe-42d7-a0b5-af26895c7d50",
   "metadata": {},
   "outputs": [],
   "source": [
    "def _add2(x): return x+2\n",
    "tst = Lambda(_add2)\n",
    "x = torch.randn(10,20)\n",
    "test_eq(tst(x), x+2)\n",
    "tst2 = pickle.loads(pickle.dumps(tst))\n",
    "test_eq(tst2(x), x+2)"
   ]
  },
  {
   "cell_type": "markdown",
   "id": "83c725aa-cd29-4bce-94bd-65f0bed0e682",
   "metadata": {},
   "source": [
    "## BatchNorm layers"
   ]
  },
  {
   "cell_type": "code",
   "execution_count": null,
   "id": "fd9ab037-d625-44e8-a825-8d8675137a46",
   "metadata": {},
   "outputs": [],
   "source": [
    "#| export\n",
    "class LinBnDrop(nn.Sequential):\n",
    "    \"Module grouping `BatchNorm1d`, `Dropout` and `Linear` layers\"\n",
    "    def __init__(self, n_in, n_out=None, bn=True, ln=True, p=0., act=None, lin_first=False):\n",
    "        layers = [BatchNorm(n_out if ln and lin_first else n_in, ndim=1)] if bn else []\n",
    "        if p != 0: layers.append(nn.Dropout(p))\n",
    "        lin = [nn.Linear(n_in, n_out, bias=not bn)] if ln else []\n",
    "        if ln and act is not None: lin.append(act)\n",
    "        layers = lin+layers if lin_first else layers+lin\n",
    "        super().__init__(*layers)"
   ]
  },
  {
   "cell_type": "markdown",
   "id": "9e4d5799-65f4-43d8-bce0-285b8f9e4222",
   "metadata": {},
   "source": [
    "The `BatchNorm` or the `Linear` layer is skipped if `bn=False` or `ln=False`, as is the dropout if `p=0`. Optionally, you can add an activation for after the linear layer with act."
   ]
  },
  {
   "cell_type": "code",
   "execution_count": null,
   "id": "c9880666-3e6e-4700-8758-bca2b9a62b37",
   "metadata": {},
   "outputs": [
    {
     "data": {
      "text/plain": [
       "[BatchNorm1d(10, eps=1e-05, momentum=0.1, affine=True, track_running_stats=True),\n",
       " Linear(in_features=10, out_features=20, bias=False)]"
      ]
     },
     "execution_count": null,
     "metadata": {},
     "output_type": "execute_result"
    }
   ],
   "source": [
    "tst = LinBnDrop(10, 20)\n",
    "list(tst.children())"
   ]
  },
  {
   "cell_type": "code",
   "execution_count": null,
   "id": "e27e9232-d79b-483f-bbbe-7b8f0e1fa824",
   "metadata": {},
   "outputs": [
    {
     "data": {
      "text/plain": [
       "LinBnDrop(\n",
       "  (0): BatchNorm1d(10, eps=1e-05, momentum=0.1, affine=True, track_running_stats=True)\n",
       "  (1): Dropout(p=0.02, inplace=False)\n",
       ")"
      ]
     },
     "execution_count": null,
     "metadata": {},
     "output_type": "execute_result"
    }
   ],
   "source": [
    "tst = LinBnDrop(10, 20, ln=False, p=0.02)\n",
    "tst"
   ]
  },
  {
   "cell_type": "markdown",
   "id": "4fb3f9ff-e93b-4192-b90c-3bce1b259898",
   "metadata": {},
   "source": [
    "The `LinBnDrop` layer ia not going to add an activation if `ln` is `False`:"
   ]
  },
  {
   "cell_type": "code",
   "execution_count": null,
   "id": "81b45d03-63b1-4822-98e7-f200a0c2c6f5",
   "metadata": {},
   "outputs": [
    {
     "data": {
      "text/plain": [
       "LinBnDrop(\n",
       "  (0): BatchNorm1d(10, eps=1e-05, momentum=0.1, affine=True, track_running_stats=True)\n",
       "  (1): Dropout(p=0.02, inplace=False)\n",
       ")"
      ]
     },
     "execution_count": null,
     "metadata": {},
     "output_type": "execute_result"
    }
   ],
   "source": [
    "tst = LinBnDrop(10, 20, ln=False, p=0.02, act=nn.ReLU(inplace=True))\n",
    "tst"
   ]
  },
  {
   "cell_type": "markdown",
   "id": "ae54db6f-39fa-4a74-bbe8-4cd1ee991dc8",
   "metadata": {},
   "source": [
    "## Attention Layers"
   ]
  },
  {
   "cell_type": "code",
   "execution_count": null,
   "id": "77e74bfc-0c7c-425e-bf3d-df9b7cfcea5c",
   "metadata": {},
   "outputs": [],
   "source": [
    "#| export\n",
    "class XMLAttention(Module):\n",
    "    \"Compute label specific attention weights for each token in a sequence\"\n",
    "    def __init__(self, n_lbs, emb_sz, embed_p):\n",
    "         store_attr('n_lbs,emb_sz,embed_p')\n",
    "         self.lbs_weight = nn.Embedding(n_lbs, emb_sz)\n",
    "         self.lbs_weight_dp = EmbeddingDropout(self.lbs_weight, embed_p)\n",
    "         self.lbs_weight.weight.data.normal_(0, 0.01)   \n",
    "         self.input_dp = RNNDropout(0.02)\n",
    "\n",
    "    def forward(self, x):\n",
    "        lbs_emb = self.lbs_weight(torch.arange(self.n_lbs, device=x.device))\n",
    "        # x_dp = self.input_dp(x)\n",
    "        attn_wgts = F.softmax(x @ lbs_emb.transpose(0,1), dim=1)\n",
    "        return attn_wgts.transpose(1,2) @ x\n",
    "    "
   ]
  },
  {
   "cell_type": "code",
   "execution_count": null,
   "id": "652f2488-0d44-4e98-8cba-6f80da3b2077",
   "metadata": {},
   "outputs": [
    {
     "data": {
      "text/plain": [
       "device(type='cuda', index=0)"
      ]
     },
     "execution_count": null,
     "metadata": {},
     "output_type": "execute_result"
    }
   ],
   "source": [
    "x = torch.randn(3,2,4).cuda()\n",
    "x.device"
   ]
  },
  {
   "cell_type": "code",
   "execution_count": null,
   "id": "2794ef37-553a-4a7d-88ff-c9422b19b67d",
   "metadata": {},
   "outputs": [
    {
     "data": {
      "text/plain": [
       "torch.Size([3, 2, 4])"
      ]
     },
     "execution_count": null,
     "metadata": {},
     "output_type": "execute_result"
    }
   ],
   "source": [
    "x.size()"
   ]
  },
  {
   "cell_type": "code",
   "execution_count": null,
   "id": "313bc4e2-c279-4ca7-8bae-342145cfc5f9",
   "metadata": {},
   "outputs": [
    {
     "data": {
      "text/plain": [
       "tensor([4., 4., 4., 4., 4., 4., 4., 4., 4., 4.], device='cuda:0')"
      ]
     },
     "execution_count": null,
     "metadata": {},
     "output_type": "execute_result"
    }
   ],
   "source": [
    "x.new_full((10,), 4)"
   ]
  },
  {
   "cell_type": "code",
   "execution_count": null,
   "id": "3b35ff66-39c1-4f55-aa2e-39d548c28c79",
   "metadata": {},
   "outputs": [],
   "source": []
  },
  {
   "cell_type": "code",
   "execution_count": null,
   "id": "436a64c9-801f-450f-bc7f-d3381b9cfecf",
   "metadata": {},
   "outputs": [],
   "source": []
  },
  {
   "cell_type": "code",
   "execution_count": null,
   "id": "33fa94b9-4d3c-41d6-9eec-8d013a635991",
   "metadata": {},
   "outputs": [],
   "source": []
  },
  {
   "cell_type": "code",
   "execution_count": null,
   "id": "7e05577f-9a25-491d-bf03-c9ad6a88ed97",
   "metadata": {},
   "outputs": [],
   "source": [
    "enc = nn.Embedding(10, 7, padding_idx=1)"
   ]
  },
  {
   "cell_type": "code",
   "execution_count": null,
   "id": "b641563b-1a94-49a5-a666-ec5bafdde7aa",
   "metadata": {},
   "outputs": [
    {
     "data": {
      "text/html": [
       "<div>\n",
       "<style scoped>\n",
       "    .dataframe tbody tr th:only-of-type {\n",
       "        vertical-align: middle;\n",
       "    }\n",
       "\n",
       "    .dataframe tbody tr th {\n",
       "        vertical-align: top;\n",
       "    }\n",
       "\n",
       "    .dataframe thead th {\n",
       "        text-align: right;\n",
       "    }\n",
       "</style>\n",
       "<table border=\"1\" class=\"dataframe\">\n",
       "  <thead>\n",
       "    <tr style=\"text-align: right;\">\n",
       "      <th></th>\n",
       "      <th>0</th>\n",
       "      <th>1</th>\n",
       "      <th>2</th>\n",
       "      <th>3</th>\n",
       "      <th>4</th>\n",
       "      <th>5</th>\n",
       "      <th>6</th>\n",
       "    </tr>\n",
       "  </thead>\n",
       "  <tbody>\n",
       "    <tr>\n",
       "      <th>0</th>\n",
       "      <td>-0.354542</td>\n",
       "      <td>0.120183</td>\n",
       "      <td>-1.069463</td>\n",
       "      <td>0.033049</td>\n",
       "      <td>1.497093</td>\n",
       "      <td>-0.372787</td>\n",
       "      <td>-0.746395</td>\n",
       "    </tr>\n",
       "    <tr>\n",
       "      <th>1</th>\n",
       "      <td>0.000000</td>\n",
       "      <td>0.000000</td>\n",
       "      <td>0.000000</td>\n",
       "      <td>0.000000</td>\n",
       "      <td>0.000000</td>\n",
       "      <td>0.000000</td>\n",
       "      <td>0.000000</td>\n",
       "    </tr>\n",
       "    <tr>\n",
       "      <th>2</th>\n",
       "      <td>-0.197547</td>\n",
       "      <td>-2.609504</td>\n",
       "      <td>-0.098179</td>\n",
       "      <td>0.858028</td>\n",
       "      <td>-0.698687</td>\n",
       "      <td>-0.486721</td>\n",
       "      <td>1.989277</td>\n",
       "    </tr>\n",
       "    <tr>\n",
       "      <th>3</th>\n",
       "      <td>1.055056</td>\n",
       "      <td>-0.886635</td>\n",
       "      <td>-1.460489</td>\n",
       "      <td>0.671491</td>\n",
       "      <td>-0.597740</td>\n",
       "      <td>-0.821621</td>\n",
       "      <td>-0.211107</td>\n",
       "    </tr>\n",
       "    <tr>\n",
       "      <th>4</th>\n",
       "      <td>0.406442</td>\n",
       "      <td>1.518790</td>\n",
       "      <td>1.492673</td>\n",
       "      <td>2.708379</td>\n",
       "      <td>-2.742780</td>\n",
       "      <td>0.964204</td>\n",
       "      <td>-1.016047</td>\n",
       "    </tr>\n",
       "    <tr>\n",
       "      <th>5</th>\n",
       "      <td>0.858705</td>\n",
       "      <td>0.135087</td>\n",
       "      <td>1.438656</td>\n",
       "      <td>0.443722</td>\n",
       "      <td>-0.363109</td>\n",
       "      <td>0.084536</td>\n",
       "      <td>0.378795</td>\n",
       "    </tr>\n",
       "    <tr>\n",
       "      <th>6</th>\n",
       "      <td>0.561239</td>\n",
       "      <td>-0.876000</td>\n",
       "      <td>1.173250</td>\n",
       "      <td>0.168502</td>\n",
       "      <td>-0.885682</td>\n",
       "      <td>0.164763</td>\n",
       "      <td>-1.404446</td>\n",
       "    </tr>\n",
       "    <tr>\n",
       "      <th>7</th>\n",
       "      <td>-1.037571</td>\n",
       "      <td>-0.781387</td>\n",
       "      <td>-1.035010</td>\n",
       "      <td>2.405637</td>\n",
       "      <td>0.795765</td>\n",
       "      <td>0.292884</td>\n",
       "      <td>-0.282768</td>\n",
       "    </tr>\n",
       "    <tr>\n",
       "      <th>8</th>\n",
       "      <td>0.285968</td>\n",
       "      <td>-1.314268</td>\n",
       "      <td>-0.268181</td>\n",
       "      <td>-0.687591</td>\n",
       "      <td>1.183172</td>\n",
       "      <td>0.380366</td>\n",
       "      <td>-0.479281</td>\n",
       "    </tr>\n",
       "    <tr>\n",
       "      <th>9</th>\n",
       "      <td>0.177469</td>\n",
       "      <td>0.942547</td>\n",
       "      <td>0.259131</td>\n",
       "      <td>0.531563</td>\n",
       "      <td>-0.474286</td>\n",
       "      <td>-1.260258</td>\n",
       "      <td>0.363809</td>\n",
       "    </tr>\n",
       "  </tbody>\n",
       "</table>\n",
       "</div>"
      ],
      "text/plain": [
       "          0         1         2         3         4         5         6\n",
       "0 -0.354542  0.120183 -1.069463  0.033049  1.497093 -0.372787 -0.746395\n",
       "1  0.000000  0.000000  0.000000  0.000000  0.000000  0.000000  0.000000\n",
       "2 -0.197547 -2.609504 -0.098179  0.858028 -0.698687 -0.486721  1.989277\n",
       "3  1.055056 -0.886635 -1.460489  0.671491 -0.597740 -0.821621 -0.211107\n",
       "4  0.406442  1.518790  1.492673  2.708379 -2.742780  0.964204 -1.016047\n",
       "5  0.858705  0.135087  1.438656  0.443722 -0.363109  0.084536  0.378795\n",
       "6  0.561239 -0.876000  1.173250  0.168502 -0.885682  0.164763 -1.404446\n",
       "7 -1.037571 -0.781387 -1.035010  2.405637  0.795765  0.292884 -0.282768\n",
       "8  0.285968 -1.314268 -0.268181 -0.687591  1.183172  0.380366 -0.479281\n",
       "9  0.177469  0.942547  0.259131  0.531563 -0.474286 -1.260258  0.363809"
      ]
     },
     "execution_count": null,
     "metadata": {},
     "output_type": "execute_result"
    }
   ],
   "source": [
    "pd.DataFrame(enc.weight)"
   ]
  },
  {
   "cell_type": "code",
   "execution_count": null,
   "id": "bcb0b541-1aa2-4cd3-8b65-c51627c27a7f",
   "metadata": {},
   "outputs": [],
   "source": [
    "enc_dp = EmbeddingDropout(enc, 0.5)"
   ]
  },
  {
   "cell_type": "code",
   "execution_count": null,
   "id": "5df184d4-45c0-4ffb-937a-3466fc56af96",
   "metadata": {},
   "outputs": [],
   "source": [
    "tst_inp = torch.randint(0,10,(8,))"
   ]
  },
  {
   "cell_type": "code",
   "execution_count": null,
   "id": "d7dba824-1797-40ba-9baa-be66db88bb06",
   "metadata": {},
   "outputs": [
    {
     "data": {
      "text/plain": [
       "tensor([5, 8, 9, 1, 9, 0, 8, 7])"
      ]
     },
     "execution_count": null,
     "metadata": {},
     "output_type": "execute_result"
    }
   ],
   "source": [
    "tst_inp"
   ]
  },
  {
   "cell_type": "code",
   "execution_count": null,
   "id": "abdf4709-c0c8-4491-a912-dcfef01461fa",
   "metadata": {},
   "outputs": [
    {
     "data": {
      "text/html": [
       "<div>\n",
       "<style scoped>\n",
       "    .dataframe tbody tr th:only-of-type {\n",
       "        vertical-align: middle;\n",
       "    }\n",
       "\n",
       "    .dataframe tbody tr th {\n",
       "        vertical-align: top;\n",
       "    }\n",
       "\n",
       "    .dataframe thead th {\n",
       "        text-align: right;\n",
       "    }\n",
       "</style>\n",
       "<table border=\"1\" class=\"dataframe\">\n",
       "  <thead>\n",
       "    <tr style=\"text-align: right;\">\n",
       "      <th></th>\n",
       "      <th>0</th>\n",
       "      <th>1</th>\n",
       "      <th>2</th>\n",
       "      <th>3</th>\n",
       "      <th>4</th>\n",
       "      <th>5</th>\n",
       "      <th>6</th>\n",
       "    </tr>\n",
       "  </thead>\n",
       "  <tbody>\n",
       "    <tr>\n",
       "      <th>5</th>\n",
       "      <td>0.858705</td>\n",
       "      <td>0.135087</td>\n",
       "      <td>1.438656</td>\n",
       "      <td>0.443722</td>\n",
       "      <td>-0.363109</td>\n",
       "      <td>0.084536</td>\n",
       "      <td>0.378795</td>\n",
       "    </tr>\n",
       "    <tr>\n",
       "      <th>8</th>\n",
       "      <td>0.285968</td>\n",
       "      <td>-1.314268</td>\n",
       "      <td>-0.268181</td>\n",
       "      <td>-0.687591</td>\n",
       "      <td>1.183172</td>\n",
       "      <td>0.380366</td>\n",
       "      <td>-0.479281</td>\n",
       "    </tr>\n",
       "    <tr>\n",
       "      <th>9</th>\n",
       "      <td>0.177469</td>\n",
       "      <td>0.942547</td>\n",
       "      <td>0.259131</td>\n",
       "      <td>0.531563</td>\n",
       "      <td>-0.474286</td>\n",
       "      <td>-1.260258</td>\n",
       "      <td>0.363809</td>\n",
       "    </tr>\n",
       "    <tr>\n",
       "      <th>1</th>\n",
       "      <td>0.000000</td>\n",
       "      <td>0.000000</td>\n",
       "      <td>0.000000</td>\n",
       "      <td>0.000000</td>\n",
       "      <td>0.000000</td>\n",
       "      <td>0.000000</td>\n",
       "      <td>0.000000</td>\n",
       "    </tr>\n",
       "    <tr>\n",
       "      <th>9</th>\n",
       "      <td>0.177469</td>\n",
       "      <td>0.942547</td>\n",
       "      <td>0.259131</td>\n",
       "      <td>0.531563</td>\n",
       "      <td>-0.474286</td>\n",
       "      <td>-1.260258</td>\n",
       "      <td>0.363809</td>\n",
       "    </tr>\n",
       "    <tr>\n",
       "      <th>0</th>\n",
       "      <td>-0.354542</td>\n",
       "      <td>0.120183</td>\n",
       "      <td>-1.069463</td>\n",
       "      <td>0.033049</td>\n",
       "      <td>1.497093</td>\n",
       "      <td>-0.372787</td>\n",
       "      <td>-0.746395</td>\n",
       "    </tr>\n",
       "    <tr>\n",
       "      <th>8</th>\n",
       "      <td>0.285968</td>\n",
       "      <td>-1.314268</td>\n",
       "      <td>-0.268181</td>\n",
       "      <td>-0.687591</td>\n",
       "      <td>1.183172</td>\n",
       "      <td>0.380366</td>\n",
       "      <td>-0.479281</td>\n",
       "    </tr>\n",
       "    <tr>\n",
       "      <th>7</th>\n",
       "      <td>-1.037571</td>\n",
       "      <td>-0.781387</td>\n",
       "      <td>-1.035010</td>\n",
       "      <td>2.405637</td>\n",
       "      <td>0.795765</td>\n",
       "      <td>0.292884</td>\n",
       "      <td>-0.282768</td>\n",
       "    </tr>\n",
       "  </tbody>\n",
       "</table>\n",
       "</div>"
      ],
      "text/plain": [
       "          0         1         2         3         4         5         6\n",
       "5  0.858705  0.135087  1.438656  0.443722 -0.363109  0.084536  0.378795\n",
       "8  0.285968 -1.314268 -0.268181 -0.687591  1.183172  0.380366 -0.479281\n",
       "9  0.177469  0.942547  0.259131  0.531563 -0.474286 -1.260258  0.363809\n",
       "1  0.000000  0.000000  0.000000  0.000000  0.000000  0.000000  0.000000\n",
       "9  0.177469  0.942547  0.259131  0.531563 -0.474286 -1.260258  0.363809\n",
       "0 -0.354542  0.120183 -1.069463  0.033049  1.497093 -0.372787 -0.746395\n",
       "8  0.285968 -1.314268 -0.268181 -0.687591  1.183172  0.380366 -0.479281\n",
       "7 -1.037571 -0.781387 -1.035010  2.405637  0.795765  0.292884 -0.282768"
      ]
     },
     "execution_count": null,
     "metadata": {},
     "output_type": "execute_result"
    }
   ],
   "source": [
    "pd.DataFrame(enc(tst_inp), index=to_np(tst_inp))"
   ]
  },
  {
   "cell_type": "code",
   "execution_count": null,
   "id": "81f39443-5990-470d-8366-6590aa367c11",
   "metadata": {},
   "outputs": [
    {
     "data": {
      "text/plain": [
       "torch.Size([8, 7])"
      ]
     },
     "execution_count": null,
     "metadata": {},
     "output_type": "execute_result"
    }
   ],
   "source": [
    "tst_out = enc_dp(tst_inp)\n",
    "tst_out.shape"
   ]
  },
  {
   "cell_type": "code",
   "execution_count": null,
   "id": "43b2cdc9-97fe-461a-b1b0-b414535a3820",
   "metadata": {},
   "outputs": [
    {
     "data": {
      "text/html": [
       "<div>\n",
       "<style scoped>\n",
       "    .dataframe tbody tr th:only-of-type {\n",
       "        vertical-align: middle;\n",
       "    }\n",
       "\n",
       "    .dataframe tbody tr th {\n",
       "        vertical-align: top;\n",
       "    }\n",
       "\n",
       "    .dataframe thead th {\n",
       "        text-align: right;\n",
       "    }\n",
       "</style>\n",
       "<table border=\"1\" class=\"dataframe\">\n",
       "  <thead>\n",
       "    <tr style=\"text-align: right;\">\n",
       "      <th></th>\n",
       "      <th>0</th>\n",
       "      <th>1</th>\n",
       "      <th>2</th>\n",
       "      <th>3</th>\n",
       "      <th>4</th>\n",
       "      <th>5</th>\n",
       "      <th>6</th>\n",
       "    </tr>\n",
       "  </thead>\n",
       "  <tbody>\n",
       "    <tr>\n",
       "      <th>5</th>\n",
       "      <td>1.71741</td>\n",
       "      <td>0.270174</td>\n",
       "      <td>2.877312</td>\n",
       "      <td>0.887444</td>\n",
       "      <td>-0.726219</td>\n",
       "      <td>0.169072</td>\n",
       "      <td>0.757589</td>\n",
       "    </tr>\n",
       "    <tr>\n",
       "      <th>8</th>\n",
       "      <td>0.00000</td>\n",
       "      <td>-0.000000</td>\n",
       "      <td>-0.000000</td>\n",
       "      <td>-0.000000</td>\n",
       "      <td>0.000000</td>\n",
       "      <td>0.000000</td>\n",
       "      <td>-0.000000</td>\n",
       "    </tr>\n",
       "    <tr>\n",
       "      <th>9</th>\n",
       "      <td>0.00000</td>\n",
       "      <td>0.000000</td>\n",
       "      <td>0.000000</td>\n",
       "      <td>0.000000</td>\n",
       "      <td>-0.000000</td>\n",
       "      <td>-0.000000</td>\n",
       "      <td>0.000000</td>\n",
       "    </tr>\n",
       "    <tr>\n",
       "      <th>1</th>\n",
       "      <td>0.00000</td>\n",
       "      <td>0.000000</td>\n",
       "      <td>0.000000</td>\n",
       "      <td>0.000000</td>\n",
       "      <td>0.000000</td>\n",
       "      <td>0.000000</td>\n",
       "      <td>0.000000</td>\n",
       "    </tr>\n",
       "    <tr>\n",
       "      <th>9</th>\n",
       "      <td>0.00000</td>\n",
       "      <td>0.000000</td>\n",
       "      <td>0.000000</td>\n",
       "      <td>0.000000</td>\n",
       "      <td>-0.000000</td>\n",
       "      <td>-0.000000</td>\n",
       "      <td>0.000000</td>\n",
       "    </tr>\n",
       "    <tr>\n",
       "      <th>0</th>\n",
       "      <td>-0.00000</td>\n",
       "      <td>0.000000</td>\n",
       "      <td>-0.000000</td>\n",
       "      <td>0.000000</td>\n",
       "      <td>0.000000</td>\n",
       "      <td>-0.000000</td>\n",
       "      <td>-0.000000</td>\n",
       "    </tr>\n",
       "    <tr>\n",
       "      <th>8</th>\n",
       "      <td>0.00000</td>\n",
       "      <td>-0.000000</td>\n",
       "      <td>-0.000000</td>\n",
       "      <td>-0.000000</td>\n",
       "      <td>0.000000</td>\n",
       "      <td>0.000000</td>\n",
       "      <td>-0.000000</td>\n",
       "    </tr>\n",
       "    <tr>\n",
       "      <th>7</th>\n",
       "      <td>-0.00000</td>\n",
       "      <td>-0.000000</td>\n",
       "      <td>-0.000000</td>\n",
       "      <td>0.000000</td>\n",
       "      <td>0.000000</td>\n",
       "      <td>0.000000</td>\n",
       "      <td>-0.000000</td>\n",
       "    </tr>\n",
       "  </tbody>\n",
       "</table>\n",
       "</div>"
      ],
      "text/plain": [
       "         0         1         2         3         4         5         6\n",
       "5  1.71741  0.270174  2.877312  0.887444 -0.726219  0.169072  0.757589\n",
       "8  0.00000 -0.000000 -0.000000 -0.000000  0.000000  0.000000 -0.000000\n",
       "9  0.00000  0.000000  0.000000  0.000000 -0.000000 -0.000000  0.000000\n",
       "1  0.00000  0.000000  0.000000  0.000000  0.000000  0.000000  0.000000\n",
       "9  0.00000  0.000000  0.000000  0.000000 -0.000000 -0.000000  0.000000\n",
       "0 -0.00000  0.000000 -0.000000  0.000000  0.000000 -0.000000 -0.000000\n",
       "8  0.00000 -0.000000 -0.000000 -0.000000  0.000000  0.000000 -0.000000\n",
       "7 -0.00000 -0.000000 -0.000000  0.000000  0.000000  0.000000 -0.000000"
      ]
     },
     "execution_count": null,
     "metadata": {},
     "output_type": "execute_result"
    }
   ],
   "source": [
    "pd.DataFrame(tst_out, index=tst_inp.numpy())"
   ]
  },
  {
   "cell_type": "code",
   "execution_count": null,
   "id": "abf77821-56c8-4be2-8fa2-fe5a0d8b8a35",
   "metadata": {},
   "outputs": [],
   "source": [
    "vocab = torch.arange(10)"
   ]
  },
  {
   "cell_type": "code",
   "execution_count": null,
   "id": "cd621fad-f4ed-4867-86a2-d24a23d47ba7",
   "metadata": {},
   "outputs": [
    {
     "data": {
      "text/html": [
       "<div>\n",
       "<style scoped>\n",
       "    .dataframe tbody tr th:only-of-type {\n",
       "        vertical-align: middle;\n",
       "    }\n",
       "\n",
       "    .dataframe tbody tr th {\n",
       "        vertical-align: top;\n",
       "    }\n",
       "\n",
       "    .dataframe thead th {\n",
       "        text-align: right;\n",
       "    }\n",
       "</style>\n",
       "<table border=\"1\" class=\"dataframe\">\n",
       "  <thead>\n",
       "    <tr style=\"text-align: right;\">\n",
       "      <th></th>\n",
       "      <th>0</th>\n",
       "      <th>1</th>\n",
       "      <th>2</th>\n",
       "      <th>3</th>\n",
       "      <th>4</th>\n",
       "      <th>5</th>\n",
       "      <th>6</th>\n",
       "    </tr>\n",
       "  </thead>\n",
       "  <tbody>\n",
       "    <tr>\n",
       "      <th>0</th>\n",
       "      <td>-0.709084</td>\n",
       "      <td>0.240366</td>\n",
       "      <td>-2.138925</td>\n",
       "      <td>0.066098</td>\n",
       "      <td>2.994186</td>\n",
       "      <td>-0.745574</td>\n",
       "      <td>-1.492791</td>\n",
       "    </tr>\n",
       "    <tr>\n",
       "      <th>1</th>\n",
       "      <td>0.000000</td>\n",
       "      <td>0.000000</td>\n",
       "      <td>0.000000</td>\n",
       "      <td>0.000000</td>\n",
       "      <td>0.000000</td>\n",
       "      <td>0.000000</td>\n",
       "      <td>0.000000</td>\n",
       "    </tr>\n",
       "    <tr>\n",
       "      <th>2</th>\n",
       "      <td>-0.000000</td>\n",
       "      <td>-0.000000</td>\n",
       "      <td>-0.000000</td>\n",
       "      <td>0.000000</td>\n",
       "      <td>-0.000000</td>\n",
       "      <td>-0.000000</td>\n",
       "      <td>0.000000</td>\n",
       "    </tr>\n",
       "    <tr>\n",
       "      <th>3</th>\n",
       "      <td>0.000000</td>\n",
       "      <td>-0.000000</td>\n",
       "      <td>-0.000000</td>\n",
       "      <td>0.000000</td>\n",
       "      <td>-0.000000</td>\n",
       "      <td>-0.000000</td>\n",
       "      <td>-0.000000</td>\n",
       "    </tr>\n",
       "    <tr>\n",
       "      <th>4</th>\n",
       "      <td>0.812884</td>\n",
       "      <td>3.037580</td>\n",
       "      <td>2.985346</td>\n",
       "      <td>5.416758</td>\n",
       "      <td>-5.485560</td>\n",
       "      <td>1.928409</td>\n",
       "      <td>-2.032093</td>\n",
       "    </tr>\n",
       "    <tr>\n",
       "      <th>5</th>\n",
       "      <td>0.000000</td>\n",
       "      <td>0.000000</td>\n",
       "      <td>0.000000</td>\n",
       "      <td>0.000000</td>\n",
       "      <td>-0.000000</td>\n",
       "      <td>0.000000</td>\n",
       "      <td>0.000000</td>\n",
       "    </tr>\n",
       "    <tr>\n",
       "      <th>6</th>\n",
       "      <td>0.000000</td>\n",
       "      <td>-0.000000</td>\n",
       "      <td>0.000000</td>\n",
       "      <td>0.000000</td>\n",
       "      <td>-0.000000</td>\n",
       "      <td>0.000000</td>\n",
       "      <td>-0.000000</td>\n",
       "    </tr>\n",
       "    <tr>\n",
       "      <th>7</th>\n",
       "      <td>-2.075141</td>\n",
       "      <td>-1.562775</td>\n",
       "      <td>-2.070020</td>\n",
       "      <td>4.811273</td>\n",
       "      <td>1.591530</td>\n",
       "      <td>0.585767</td>\n",
       "      <td>-0.565536</td>\n",
       "    </tr>\n",
       "    <tr>\n",
       "      <th>8</th>\n",
       "      <td>0.000000</td>\n",
       "      <td>-0.000000</td>\n",
       "      <td>-0.000000</td>\n",
       "      <td>-0.000000</td>\n",
       "      <td>0.000000</td>\n",
       "      <td>0.000000</td>\n",
       "      <td>-0.000000</td>\n",
       "    </tr>\n",
       "    <tr>\n",
       "      <th>9</th>\n",
       "      <td>0.354938</td>\n",
       "      <td>1.885094</td>\n",
       "      <td>0.518262</td>\n",
       "      <td>1.063126</td>\n",
       "      <td>-0.948572</td>\n",
       "      <td>-2.520516</td>\n",
       "      <td>0.727617</td>\n",
       "    </tr>\n",
       "  </tbody>\n",
       "</table>\n",
       "</div>"
      ],
      "text/plain": [
       "          0         1         2         3         4         5         6\n",
       "0 -0.709084  0.240366 -2.138925  0.066098  2.994186 -0.745574 -1.492791\n",
       "1  0.000000  0.000000  0.000000  0.000000  0.000000  0.000000  0.000000\n",
       "2 -0.000000 -0.000000 -0.000000  0.000000 -0.000000 -0.000000  0.000000\n",
       "3  0.000000 -0.000000 -0.000000  0.000000 -0.000000 -0.000000 -0.000000\n",
       "4  0.812884  3.037580  2.985346  5.416758 -5.485560  1.928409 -2.032093\n",
       "5  0.000000  0.000000  0.000000  0.000000 -0.000000  0.000000  0.000000\n",
       "6  0.000000 -0.000000  0.000000  0.000000 -0.000000  0.000000 -0.000000\n",
       "7 -2.075141 -1.562775 -2.070020  4.811273  1.591530  0.585767 -0.565536\n",
       "8  0.000000 -0.000000 -0.000000 -0.000000  0.000000  0.000000 -0.000000\n",
       "9  0.354938  1.885094  0.518262  1.063126 -0.948572 -2.520516  0.727617"
      ]
     },
     "execution_count": null,
     "metadata": {},
     "output_type": "execute_result"
    }
   ],
   "source": [
    "pd.DataFrame(enc_dp(torch.arange(10)), vocab.numpy())"
   ]
  },
  {
   "cell_type": "code",
   "execution_count": null,
   "id": "f68491dd-f9d6-4633-8ff1-9326a0b2ce5f",
   "metadata": {},
   "outputs": [],
   "source": [
    "import nbdev; nbdev.nbdev_export()"
   ]
  }
 ],
 "metadata": {
  "kernelspec": {
   "display_name": "Python 3 (ipykernel)",
   "language": "python",
   "name": "python3"
  }
 },
 "nbformat": 4,
 "nbformat_minor": 5
}
