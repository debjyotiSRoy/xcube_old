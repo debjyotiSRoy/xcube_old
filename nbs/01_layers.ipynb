{
 "cells": [
  {
   "cell_type": "code",
   "execution_count": 3,
   "id": "e69e757c-1d09-45b4-ba3f-8f6a360ab34b",
   "metadata": {},
   "outputs": [],
   "source": [
    "#hide\n",
    "#skip\n",
    "! [ -e /content ] && pip install -Uqq fastai  # upgrade fastai on colab"
   ]
  },
  {
   "cell_type": "code",
   "execution_count": 4,
   "id": "9d7ece6e-cd30-465c-8e45-8e445a929440",
   "metadata": {},
   "outputs": [],
   "source": [
    "# default_exp layers"
   ]
  },
  {
   "cell_type": "code",
   "execution_count": 59,
   "id": "7e98b977-31ce-49dd-ba3d-5e3e5c02fd93",
   "metadata": {},
   "outputs": [],
   "source": [
    "#export\n",
    "from fastai.imports import *\n",
    "from fastai.torch_imports import *\n",
    "from fastai.torch_core import *\n",
    "from fastai.layers import *"
   ]
  },
  {
   "cell_type": "code",
   "execution_count": 6,
   "id": "57c1482e-61fe-4214-81a6-f54f1bcc5339",
   "metadata": {},
   "outputs": [],
   "source": [
    "#hide\n",
    "from nbdev.showdoc import *"
   ]
  },
  {
   "cell_type": "markdown",
   "id": "d2a5d5b9-8b99-4629-8a5c-3baeeb91f5c4",
   "metadata": {},
   "source": [
    "# Layers\n",
    "\n",
    "> Some layers which tops up the ones in fastai"
   ]
  },
  {
   "cell_type": "markdown",
   "id": "e50b5292-83d9-4d18-a79b-55c849925b41",
   "metadata": {},
   "source": [
    "## Basic manipulations and resizing"
   ]
  },
  {
   "cell_type": "markdown",
   "id": "182e3813-5eb7-4488-9560-73d7bb76ddfe",
   "metadata": {},
   "source": [
    "One can easily create a beautiful layer with minimum boilerplate using fastai utilities. We will show a simple example here. For details and extensive illustrations please refer to [decorated fastai layers](https://docs.fast.ai/layers.html#Basic-manipulations-and-resize)."
   ]
  },
  {
   "cell_type": "markdown",
   "id": "688ca1d5-0653-4aec-a169-501211001bc5",
   "metadata": {},
   "source": [
    "An easy way to create a pytorch layer for a simple `func`"
   ]
  },
  {
   "cell_type": "code",
   "execution_count": 57,
   "id": "02a74e72-46fe-42d7-a0b5-af26895c7d50",
   "metadata": {},
   "outputs": [],
   "source": [
    "def _add2(x): return x+2\n",
    "tst = Lambda(_add2)\n",
    "x = torch.randn(10,20)\n",
    "test_eq(tst(x), x+2)\n",
    "tst2 = pickle.loads(pickle.dumps(tst))\n",
    "test_eq(tst2(x), x+2)"
   ]
  },
  {
   "cell_type": "markdown",
   "id": "83c725aa-cd29-4bce-94bd-65f0bed0e682",
   "metadata": {},
   "source": [
    "## BatchNorm layers"
   ]
  },
  {
   "cell_type": "code",
   "execution_count": 6,
   "id": "fd9ab037-d625-44e8-a825-8d8675137a46",
   "metadata": {},
   "outputs": [],
   "source": [
    "# export\n",
    "class LinBnDrop(nn.Sequential):\n",
    "    \"Module grouping `BatchNorm1d`, `Dropout` and `Linear` layers\"\n",
    "    def __init__(self, n_in, n_out=None, bn=True, ln=True, p=0., act=None, lin_first=False):\n",
    "        layers = [BatchNorm(n_out if ln and lin_first else n_in, ndim=1)] if bn else []\n",
    "        if p != 0: layers.append(nn.Dropout(p))\n",
    "        lin = [nn.Linear(n_in, n_out, bias=not bn)] if ln else []\n",
    "        if ln and act is not None: lin.append(act)\n",
    "        layers = lin+layers if lin_first else layers+lin\n",
    "        super().__init__(*layers)"
   ]
  },
  {
   "cell_type": "markdown",
   "id": "9e4d5799-65f4-43d8-bce0-285b8f9e4222",
   "metadata": {},
   "source": [
    "The `BatchNorm` or the `Linear` layer is skipped if `bn=False` or `ln=False`, as is the dropout if `p=0`. Optionally, you can add an activation for after the linear layer with act."
   ]
  },
  {
   "cell_type": "code",
   "execution_count": 7,
   "id": "c9880666-3e6e-4700-8758-bca2b9a62b37",
   "metadata": {},
   "outputs": [
    {
     "data": {
      "text/plain": [
       "[BatchNorm1d(10, eps=1e-05, momentum=0.1, affine=True, track_running_stats=True),\n",
       " Linear(in_features=10, out_features=20, bias=False)]"
      ]
     },
     "execution_count": 7,
     "metadata": {},
     "output_type": "execute_result"
    }
   ],
   "source": [
    "tst = LinBnDrop(10, 20)\n",
    "list(tst.children())"
   ]
  },
  {
   "cell_type": "code",
   "execution_count": 8,
   "id": "e27e9232-d79b-483f-bbbe-7b8f0e1fa824",
   "metadata": {},
   "outputs": [
    {
     "data": {
      "text/plain": [
       "LinBnDrop(\n",
       "  (0): BatchNorm1d(10, eps=1e-05, momentum=0.1, affine=True, track_running_stats=True)\n",
       "  (1): Dropout(p=0.02, inplace=False)\n",
       ")"
      ]
     },
     "execution_count": 8,
     "metadata": {},
     "output_type": "execute_result"
    }
   ],
   "source": [
    "tst = LinBnDrop(10, 20, ln=False, p=0.02)\n",
    "tst"
   ]
  },
  {
   "cell_type": "markdown",
   "id": "4fb3f9ff-e93b-4192-b90c-3bce1b259898",
   "metadata": {},
   "source": [
    "The `LinBnDrop` layer ia not going to add an activation if `ln` is `False`:"
   ]
  },
  {
   "cell_type": "code",
   "execution_count": 9,
   "id": "81b45d03-63b1-4822-98e7-f200a0c2c6f5",
   "metadata": {},
   "outputs": [
    {
     "data": {
      "text/plain": [
       "LinBnDrop(\n",
       "  (0): BatchNorm1d(10, eps=1e-05, momentum=0.1, affine=True, track_running_stats=True)\n",
       "  (1): Dropout(p=0.02, inplace=False)\n",
       ")"
      ]
     },
     "execution_count": 9,
     "metadata": {},
     "output_type": "execute_result"
    }
   ],
   "source": [
    "tst = LinBnDrop(10, 20, ln=False, p=0.02, act=nn.ReLU(inplace=True))\n",
    "tst"
   ]
  },
  {
   "cell_type": "markdown",
   "id": "ae54db6f-39fa-4a74-bbe8-4cd1ee991dc8",
   "metadata": {},
   "source": [
    "## Attention Layers"
   ]
  },
  {
   "cell_type": "code",
   "execution_count": 85,
   "id": "77e74bfc-0c7c-425e-bf3d-df9b7cfcea5c",
   "metadata": {},
   "outputs": [],
   "source": [
    "# export\n",
    "class XMLAttention(Module):\n",
    "    \"Compute label specific attention weights for each token in a sequence\"\n",
    "    def __init__(self, n_lbs, emb_sz):\n",
    "         self.lbs_emb = nn.Embedding(n_lbs, emb_sz)\n",
    "         self.lbs_emb.weight.data.normal_(0, 0.01)   \n",
    "\n",
    "    def forward(self, x):\n",
    "        attn_wgts = F.softmax(x @ self.lbs_emb.weight.transpose(0,1), dim=1)\n",
    "        return attn_wgts.transpose(1,2) @ x\n",
    "    "
   ]
  },
  {
   "cell_type": "code",
   "execution_count": 91,
   "id": "ce4cfb3e-bb87-4cad-a522-7f28556d6df4",
   "metadata": {},
   "outputs": [
    {
     "name": "stdout",
     "output_type": "stream",
     "text": [
      "Converted 00_core.ipynb.\n",
      "Converted 01_layers.ipynb.\n",
      "Converted 02_text.models.core.ipynb.\n",
      "Converted 03_text.learner.ipynb.\n",
      "Converted 04_metrics.ipynb.\n",
      "Converted index.ipynb.\n"
     ]
    }
   ],
   "source": [
    "from nbdev.export import notebook2script; notebook2script()"
   ]
  },
  {
   "cell_type": "code",
   "execution_count": null,
   "id": "a4714002-51a7-4374-9c36-7fb99d2f8a5d",
   "metadata": {},
   "outputs": [],
   "source": []
  }
 ],
 "metadata": {
  "kernelspec": {
   "display_name": "Python 3 (ipykernel)",
   "language": "python",
   "name": "python3"
  },
  "language_info": {
   "codemirror_mode": {
    "name": "ipython",
    "version": 3
   },
   "file_extension": ".py",
   "mimetype": "text/x-python",
   "name": "python",
   "nbconvert_exporter": "python",
   "pygments_lexer": "ipython3",
   "version": "3.9.12"
  }
 },
 "nbformat": 4,
 "nbformat_minor": 5
}
