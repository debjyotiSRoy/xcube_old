{
 "cells": [
  {
   "cell_type": "code",
   "execution_count": 1,
   "id": "f6eed62a-b076-418b-9293-53db08ae0fb0",
   "metadata": {},
   "outputs": [],
   "source": [
    "#| hide\n",
    "#| eval:false\n",
    "! [ -e /content ] && pip install -Uqq fastai # upgrade fastai on colab"
   ]
  },
  {
   "cell_type": "code",
   "execution_count": 2,
   "id": "f9b2ba66-c8bf-4819-8b37-e6fd554bbe20",
   "metadata": {},
   "outputs": [],
   "source": [
    "#| default_exp l2r.learner"
   ]
  },
  {
   "cell_type": "code",
   "execution_count": 3,
   "id": "72f1100f-5d24-4a14-9751-1f0d761722a1",
   "metadata": {},
   "outputs": [],
   "source": [
    "#| export\n",
    "from fastai.torch_imports import *\n",
    "from fastai.learner import *\n",
    "from fastai.optimizer import *\n",
    "from fastai.torch_core import *\n",
    "from fastcore.all import *\n",
    "from xcube.imports import *\n",
    "from xcube.metrics import *\n",
    "from xcube.l2r.gradients import *"
   ]
  },
  {
   "cell_type": "code",
   "execution_count": 4,
   "id": "305c3600-b316-4849-bf55-17a709f1dc3a",
   "metadata": {},
   "outputs": [],
   "source": [
    "#| hide\n",
    "from nbdev.showdoc import *"
   ]
  },
  {
   "cell_type": "code",
   "execution_count": 5,
   "id": "59d8b9a6-e8dd-4ada-8d21-9af75386d7e9",
   "metadata": {},
   "outputs": [],
   "source": [
    "#| hide\n",
    "%load_ext autoreload\n",
    "%autoreload 2"
   ]
  },
  {
   "cell_type": "markdown",
   "id": "c2b33347-7ad3-4fb5-b4df-faeed99e6152",
   "metadata": {
    "tags": []
   },
   "source": [
    "# Learner for Learning to Rank Applications"
   ]
  },
  {
   "cell_type": "code",
   "execution_count": 17,
   "id": "06df17bc-d84f-4fdb-ab1a-45c9487c8ae6",
   "metadata": {},
   "outputs": [],
   "source": [
    "#| export\n",
    "class L2RLearner:\n",
    "    def __init__(self, model, dls, grad_func, loss_func, lr, cbs, opt_func=SGD, path=None):\n",
    "        store_attr(but='cbs')\n",
    "        self.path = Path(path) if path is not None else getattr(dls, 'path', Path('.'))\n",
    "        self.cbs = L()\n",
    "        self.add_cbs(cbs)\n",
    "\n",
    "    def add_cb(self, cb):\n",
    "        cb.learn = self\n",
    "        setattr(self, cb.name, cb)\n",
    "        self.cbs.append(cb)\n",
    "        return self\n",
    "\n",
    "    def add_cbs(self, cbs):\n",
    "        L(cbs).map(self.add_cb)\n",
    "        return self\n",
    "        \n",
    "    def one_batch(self, *args, **kwargs):\n",
    "        self('before_batch')\n",
    "        self.preds = self.model(self.xb)\n",
    "        if self.model.training: # training\n",
    "            srtd_preds, lambda_i = self.grad_func(self.preds, self.xb)\n",
    "            srtd_preds.backward(lambda_i)\n",
    "            \n",
    "            self('after_backward')\n",
    "            \n",
    "            # free memory\n",
    "            lambda_i = None\n",
    "            import gc; gc.collect()\n",
    "            torch.cuda.empty_cache()\n",
    "            \n",
    "            self.opt.step()\n",
    "            self.opt.zero_grad()\n",
    "            \n",
    "        self('after_batch')\n",
    "        \n",
    "    def one_epoch(self, train, **kwargs):\n",
    "        # self('before_epoch')\n",
    "        self.model.training = train\n",
    "        self.dl = self.dls.train if train else self.dls.valid\n",
    "        (self._do_epoch_validate, self._do_epoch_train)[self.model.training](**kwargs)\n",
    "        # for self.iter_num, self.xb in enumerate(self.dl):\n",
    "            # self.one_batch(**kwargs)\n",
    "        # self('after_epoch')\n",
    "        \n",
    "    def _do_epoch_train(self, *args, **kwargs):\n",
    "        self('before_train')\n",
    "        self._all_batches(*args, **kwargs)\n",
    "        self('after_train')\n",
    "        \n",
    "    def _do_epoch_validate(self, *args, idx=1, dl=None, **kwargs):\n",
    "        if dl is None: dl = self.dls[idx]\n",
    "        self.dl = dl\n",
    "        with torch.no_grad():\n",
    "            self('before_validate')\n",
    "            self._all_batches(*args, **kwargs)\n",
    "            self('after_validate')\n",
    "        \n",
    "    def _all_batches(self, *args, **kwargs):\n",
    "        for self.iter_num, self.xb in enumerate(self.dl):\n",
    "            self.one_batch(*args, **kwargs)\n",
    "    \n",
    "    def create_opt(self):\n",
    "        self.opt = self.opt_func(self.model.parameters(), self.lr)\n",
    "        # self.opt.clear_state()\n",
    "        return self.opt\n",
    "    \n",
    "    def fit(self, n_epochs, **kwargs):\n",
    "        opt = getattr(self, 'opt', None)\n",
    "        if opt is None: self.create_opt()\n",
    "        self.n_epochs = n_epochs\n",
    "        self('before_fit')\n",
    "        try:\n",
    "            for self.epoch,_ in enumerate(range(self.n_epochs)):\n",
    "                self('before_epoch')\n",
    "                self.one_epoch(True, **kwargs)\n",
    "                self.one_epoch(False, **kwargs)\n",
    "                self('after_epoch')\n",
    "        except CancelFitException: pass \n",
    "        self('after_fit')\n",
    "    \n",
    "    def validate(self, idx=1, dl=None, **kwargs):\n",
    "        try: \n",
    "            self.model.training = False\n",
    "            self._do_epoch_validate(idx, dl, **kwargs)\n",
    "        except CancelFitException: pass\n",
    "    \n",
    "    def __call__(self, name):\n",
    "        for cb in self.cbs: getattr(cb, name, noop)()"
   ]
  },
  {
   "cell_type": "markdown",
   "id": "627fd87c-b8e0-4236-bd80-6f1414ef64ef",
   "metadata": {},
   "source": [
    "**Serializing**"
   ]
  },
  {
   "cell_type": "code",
   "execution_count": 18,
   "id": "1059cdef-53f1-4f7c-bfff-87816f9a1640",
   "metadata": {},
   "outputs": [],
   "source": [
    "#| export\n",
    "@patch\n",
    "@delegates(save_model)\n",
    "def save(self:L2RLearner, file, **kwargs):\n",
    "    \"Save model and optimizer state (if 'with_opt') to `self.path/file`\"\n",
    "    file = join_path_file(file, self.path, ext='.pth')\n",
    "    save_model(file, self.model, getattr(self, 'opt', None), **kwargs)\n",
    "    return file"
   ]
  },
  {
   "cell_type": "code",
   "execution_count": 19,
   "id": "49ad0bde-478c-49a8-b125-106444ef965c",
   "metadata": {},
   "outputs": [],
   "source": [
    "#| export\n",
    "@patch\n",
    "@delegates(load_model)\n",
    "def load(self:L2RLearner, file, device=None, **kwargs):\n",
    "    \"Load model and optimizer state (if `with_opt`) from `self.path/file` using `device`\"\n",
    "    if device is None and hasattr(self.dls, 'device'): device = self.dls.device\n",
    "    self.opt = getattr(self, 'opt', None)\n",
    "    if self.opt is None: self.create_opt()\n",
    "    file = join_path_file(file, self.path, ext='.pth')\n",
    "    load_model(file, self.model, self.opt, device=device, **kwargs)\n",
    "    return self"
   ]
  },
  {
   "cell_type": "markdown",
   "id": "07c74968-6cff-4704-b16b-ccf494472a6d",
   "metadata": {},
   "source": [
    "### Learner convenience functions"
   ]
  },
  {
   "cell_type": "code",
   "execution_count": 20,
   "id": "5360c28a-5f98-4a83-82cd-c4a261756569",
   "metadata": {},
   "outputs": [],
   "source": [
    "#| export\n",
    "def get_learner(model, dls, grad_fn=rank_loss3, loss_fn=loss_fn2, lr=1e-5, cbs=None, opt_func=partial(SGD, mom=0.9), lambrank=False):\n",
    "    if lambrank: grad_fn = partial(grad_fn, lambrank=lambrank)\n",
    "    learner = L2RLearner(model, dls, grad_fn, loss_fn, lr, cbs, opt_func=opt_func)\n",
    "    return learner"
   ]
  },
  {
   "cell_type": "markdown",
   "id": "aa3f7b38-1e2c-49c5-8231-f4e0a5130e86",
   "metadata": {},
   "source": [
    "## Export"
   ]
  },
  {
   "cell_type": "code",
   "execution_count": 21,
   "id": "294269ac-6a2f-4bc0-8160-7e4ea3cab241",
   "metadata": {},
   "outputs": [],
   "source": [
    "#| hide\n",
    "import nbdev; nbdev.nbdev_export()"
   ]
  }
 ],
 "metadata": {
  "kernelspec": {
   "display_name": "Python 3 (ipykernel)",
   "language": "python",
   "name": "python3"
  },
  "language_info": {
   "codemirror_mode": {
    "name": "ipython",
    "version": 3
   },
   "file_extension": ".py",
   "mimetype": "text/x-python",
   "name": "python",
   "nbconvert_exporter": "python",
   "pygments_lexer": "ipython3",
   "version": "3.10.0"
  }
 },
 "nbformat": 4,
 "nbformat_minor": 5
}
